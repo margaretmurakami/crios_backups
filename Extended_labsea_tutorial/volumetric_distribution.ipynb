{
 "cells": [
  {
   "cell_type": "markdown",
   "id": "7ae10124-ada7-432c-85df-eef16f5c20b5",
   "metadata": {},
   "source": [
    "### Read packages and paths"
   ]
  },
  {
   "cell_type": "code",
   "execution_count": 1,
   "id": "dce5736f-e2dc-41aa-8bf3-5efebb853159",
   "metadata": {},
   "outputs": [],
   "source": [
    "# packages and plot parameters\n",
    "import numpy as np\n",
    "import matplotlib.pyplot as plt\n",
    "from matplotlib import colors\n",
    "from matplotlib.colors import TwoSlopeNorm\n",
    "import numpy.ma as ma\n",
    "import glob\n",
    "import os\n",
    "import re\n",
    "from operator import mul\n",
    "import sys\n",
    "\n",
    "plt.rcParams['figure.figsize'] = (10,4)\n",
    "\n",
    "sys.path.append(\"/home/mmurakami/MITgcm/MITgcm_c68r/MITgcm-checkpoint68r/utils/python/MITgcmutils/MITgcmutils/\") # go to parent dir\n",
    "from mds import *\n",
    "\n",
    "# add rdmds reading functions to path\n",
    "sys.path.append(\"/home/mmurakami/jupyterfiles/\") # go to parent dir\n",
    "from read_binary import *"
   ]
  },
  {
   "cell_type": "code",
   "execution_count": 90,
   "id": "177e725d-aa8b-479d-9d26-2636bad5ded6",
   "metadata": {},
   "outputs": [],
   "source": [
    "dirrun = \"/scratch2/atnguyen/labsea/layers/run_c68r_layers_03Jun2023_noOL_10d/\"\n",
    "dirIn = dirrun + \"diags/BUDG/\"\n",
    "dirState = dirrun + \"diags/STATE\"\n",
    "dirGrid = \"/scratch2/atnguyen/labsea/GRID/\"\n",
    "dirLayers = dirrun + \"diags/LAYERS/\"\n",
    "\n",
    "# read in the original array we fed\n",
    "binsTH = rdmds(dirrun + \"layers2TH\", -1)\n",
    "binflat = binsTH[:,:,0].flatten()\n",
    "binavg = (binflat[:-1] + binflat[1:])/2\n",
    "\n",
    "# read in the original array we fed\n",
    "binsSLT = rdmds(dirrun + \"layers1SLT\", -1)\n",
    "binflatslt = binsSLT[:,:,0].flatten()\n",
    "binavgslt = (binflatslt[:-1] + binflatslt[1:])/2"
   ]
  },
  {
   "cell_type": "code",
   "execution_count": 37,
   "id": "b6a21ea9-e940-42b9-bdec-148bf52d1f3e",
   "metadata": {},
   "outputs": [],
   "source": [
    "fineint = 0.05\n",
    "\n",
    "# Assuming binbounds is a 2xN array\n",
    "fineTbin = np.arange(binbounds[0, 0], binbounds[0, -1] + fineint, fineint)\n",
    "fineSbin = np.arange(binbounds[1, 0], binbounds[1, -1] + fineint, fineint)\n",
    "\n",
    "fineTwidth = fineTbin[1:] - fineTbin[:-1]\n",
    "fineSwidth = fineSbin[1:] - fineSbin[:-1]\n",
    "\n",
    "fineTmid = fineTbin[:-1] + (fineTwidth / 2)\n",
    "fineSmid = fineSbin[:-1] + (fineSwidth / 2)"
   ]
  },
  {
   "cell_type": "code",
   "execution_count": 38,
   "id": "82189b63-a8e7-4bc9-8aec-3f04ad40caa9",
   "metadata": {},
   "outputs": [],
   "source": [
    "\n",
    "fine_TS_width = np.transpose(np.tile(fineSwidth, [len(fineTwidth), 1]) * np.tile(fineTwidth, [len(fineSwidth), 1]).T)\n",
    "\n",
    "# Compute Liquidus T\n",
    "SEAICE_tempFrz0 = 0.0901\n",
    "SEAICE_dTempFrz_dS = -0.0575\n",
    "celsius2K = 273.15\n",
    "\n",
    "tempFrz = [(SEAICE_dTempFrz_dS * s) + SEAICE_tempFrz0 for s in fineSbin]\n",
    "# tempFrz = [t + celsius2K for t in tempFrz]"
   ]
  },
  {
   "cell_type": "markdown",
   "id": "303574d6-f172-4f6a-848b-d559fa07ddd6",
   "metadata": {},
   "source": [
    "### Set the grid"
   ]
  },
  {
   "cell_type": "code",
   "execution_count": 106,
   "id": "0bf225e8-c3b2-416a-900d-848570e1da11",
   "metadata": {},
   "outputs": [],
   "source": [
    "nx=20\n",
    "ny=16\n",
    "nz=23"
   ]
  },
  {
   "cell_type": "code",
   "execution_count": 107,
   "id": "df535cba-382b-47db-86cb-c30b777504fe",
   "metadata": {},
   "outputs": [],
   "source": [
    "# get time-steps:\n",
    "flist = [f for f in os.listdir(dirIn) if f.startswith('budg2d_snap_set1.') and f.endswith('.data')]\n",
    "idot = flist[0].index('.')\n",
    "idot = [idot+1, flist[0][idot+1:].index('.')+idot+1]\n",
    "idot = np.asarray(idot,dtype=int)\n",
    "\n",
    "mygrid = {\n",
    "    'dirGrid': dirGrid,\n",
    "    'nFaces': 1,\n",
    "    'fileFormat': 'compact',\n",
    "    'memoryLimit': 2,\n",
    "    'ioSize': [nx*ny, 1],\n",
    "    'facesSize': [ny, nx],\n",
    "    'facesExpand': [ny, nx],\n",
    "    'missVal': 0,\n",
    "}\n",
    "\n",
    "fldstr2d = ['XC','YC','XG','YG','RAC','Depth','DXG','DYG','DXC','DYC']\n",
    "fldstr3d = ['hFacC','hFacW','hFacS','mskC','mskS','mskW']\n",
    "fldstr3dp = ['hFacC','hFacW','hFacS','maskCtrlC','maskCtrlS','maskCtrlW']\n",
    "fldstr1d = ['RC','RF','DRC','DRF']\n",
    "\n",
    "for fld in fldstr1d:\n",
    "    mygrid[fld] = np.squeeze(rdmds(os.path.join(dirGrid, fld)))\n",
    "\n",
    "for fld in fldstr3d:\n",
    "    temp = rdmds(os.path.join(dirGrid, fldstr3dp[fldstr3d.index(fld)]))\n",
    "    mygrid[fld] = temp.reshape(nz, ny, nx)\n",
    "\n",
    "for fld in fldstr2d:\n",
    "    temp = rdmds(os.path.join(dirGrid, fld))\n",
    "    mygrid[fld] = temp.reshape(ny, nx)\n",
    "\n",
    "mygrid['mskC'][mygrid['mskC'] == 0] = np.nan\n",
    "\n",
    "areaW, areaS, Vol = [], [], []\n",
    "for k in range(nz):\n",
    "    areaW.append(mygrid['DYG'] * mygrid['DRF'][k])\n",
    "    areaS.append(mygrid['DXG'] * mygrid['DRF'][k])\n",
    "    Vol.append(mygrid['RAC'] * mygrid['DRF'][k])"
   ]
  },
  {
   "cell_type": "markdown",
   "id": "74fe5db2-2404-40ea-b6c0-aac0e6ac62c4",
   "metadata": {},
   "source": [
    "### Recipe 1"
   ]
  },
  {
   "cell_type": "code",
   "execution_count": 50,
   "id": "b97ece0d-8de0-4122-8840-1850160636ed",
   "metadata": {},
   "outputs": [],
   "source": [
    "# load the data\n",
    "fileTS = rdmds(dirState + \"/state_3d_set1\",np.nan)\n",
    "fldListTS = np.array(['THETA','SALT'])\n",
    "fileETA = rdmds(dirState + \"/state_2d_set1\",np.nan)\n",
    "fldListETA = np.array(['ETAN','SIarea','SIheff','SIhsnow','DETADT2','PHIBOT','sIceLoad','MXLDEPTH','SIatmQnt','SIatmFW','oceQnet','oceFWflx','oceTAUX','oceTAUY', 'ADVxHEFF', 'ADVyHEFF', 'ADVxSNOW', 'ADVySNOW', 'SIuice','SIvice','ETANSQ','oceSPDep'])"
   ]
  },
  {
   "cell_type": "code",
   "execution_count": 61,
   "id": "e6eeb5c4-8e1e-4511-871e-bd56b24693ac",
   "metadata": {},
   "outputs": [],
   "source": [
    "tmp = fileTS[0]\n",
    "Trec = np.where(fldListTS == 'THETA')[0][0]\n",
    "Srec = np.where(fldListTS == 'SALT')[0][0]\n",
    "ETArec = np.where(fldListETA == 'ETAN')[0][0]"
   ]
  },
  {
   "cell_type": "code",
   "execution_count": 136,
   "id": "d9eb6fed-f057-4dca-bad9-191fca610bce",
   "metadata": {},
   "outputs": [],
   "source": [
    "Trec = fileTS[0][0]\n",
    "Srec = fileTS[0][1]\n",
    "ETArec = fileETA[0][0]"
   ]
  },
  {
   "cell_type": "code",
   "execution_count": 140,
   "id": "5fd3e790-1d28-4843-a0d9-93e096577cc8",
   "metadata": {},
   "outputs": [],
   "source": [
    "# dimensions of time, S, T\n",
    "vol_fine_global = np.zeros((2,10,len(fineSbin)-1, len(fineTbin)-1))\n",
    "vol_fine_Arctic = np.zeros((2,10,len(fineSbin)-1, len(fineTbin)-1))"
   ]
  },
  {
   "cell_type": "code",
   "execution_count": 119,
   "id": "4a4de307-93b1-4051-8bf6-48b868ae8d11",
   "metadata": {},
   "outputs": [],
   "source": [
    "mskArctic = mygrid['mskC']"
   ]
  },
  {
   "cell_type": "code",
   "execution_count": 150,
   "id": "7272bd13-aa7c-4639-8632-bb27fea625c7",
   "metadata": {},
   "outputs": [
    {
     "name": "stdout",
     "output_type": "stream",
     "text": [
      "0 24 39 80\n"
     ]
    }
   ],
   "source": [
    "vol_fine_Arctic.shape\n",
    "len(fineSbin)-1\n",
    "print(UV,tstep,Sbin1point, Tbin1point)"
   ]
  },
  {
   "cell_type": "code",
   "execution_count": 159,
   "id": "84a86c7e-6e87-4d84-8492-7f35c1024035",
   "metadata": {},
   "outputs": [
    {
     "name": "stdout",
     "output_type": "stream",
     "text": [
      "(23,) (23, 16, 20)\n"
     ]
    }
   ],
   "source": [
    "hfC = mygrid['hFacC']\n",
    "DD = mygrid['Depth']\n",
    "dxg = mygrid['DXG']\n",
    "dyg = mygrid['DYG']\n",
    "dxg3d = np.tile(dxg,(nz,1,1))\n",
    "dyg3d = np.tile(dyg,(nz,1,1))\n",
    "\n",
    "print(mygrid['DRF'].shape,np.zeros((nz, ny, nx)).shape)\n",
    "# drf3d = mk3D_mod(mygrid['DRF'], np.zeros((nz, ny, nx)))"
   ]
  },
  {
   "cell_type": "code",
   "execution_count": 152,
   "id": "3e0112e6-332e-4683-8ec4-99c06e09a6b6",
   "metadata": {},
   "outputs": [
    {
     "ename": "NameError",
     "evalue": "name 'vol' is not defined",
     "output_type": "error",
     "traceback": [
      "\u001b[0;31m---------------------------------------------------------------------------\u001b[0m",
      "\u001b[0;31mNameError\u001b[0m                                 Traceback (most recent call last)",
      "Cell \u001b[0;32mIn[152], line 31\u001b[0m\n\u001b[1;32m     29\u001b[0m Sbin1point \u001b[38;5;241m=\u001b[39m np\u001b[38;5;241m.\u001b[39mmin(np\u001b[38;5;241m.\u001b[39mwhere(fineSbin \u001b[38;5;241m>\u001b[39m Sdata_Arctic[UV,i, j, k])) \u001b[38;5;241m-\u001b[39m \u001b[38;5;241m1\u001b[39m\n\u001b[1;32m     30\u001b[0m Tbin1point \u001b[38;5;241m=\u001b[39m np\u001b[38;5;241m.\u001b[39mmin(np\u001b[38;5;241m.\u001b[39mwhere(fineTbin \u001b[38;5;241m>\u001b[39m Tdata_Arctic[UV,i, j, k])) \u001b[38;5;241m-\u001b[39m \u001b[38;5;241m1\u001b[39m\n\u001b[0;32m---> 31\u001b[0m vol_fine_Arctic[UV,tstep,Sbin1point, Tbin1point] \u001b[38;5;241m+\u001b[39m\u001b[38;5;241m=\u001b[39m \u001b[43mvol\u001b[49m[UV,i, j, k]\n",
      "\u001b[0;31mNameError\u001b[0m: name 'vol' is not defined"
     ]
    }
   ],
   "source": [
    "# loop over all grid points and see which S-T bin any point belongs in\n",
    "t = np.arange(24,24*11,24)\n",
    "\n",
    "for tstep in range(len(t)):\n",
    "    # read in the T and S values\n",
    "    Tdata = rdmds(dirLayers + \"layers_3d_TH_set1\",t[tstep])[:2,:-1,:,:]  # 'LaUH2TH ' 'LaVH2TH ' 'LaVa2TH ' 'LaUa2TH '\n",
    "    Sdata = rdmds(dirLayers + \"layers_3d_SLT_set1\",t[tstep])[:2,:-1,:,:]  # we do up to -1 here because these are the edges; 'LaUH1SLT' 'LaVH1SLT' 'LaUa1SLT' 'LaVa1SLT'\n",
    "    Tdata_global = Tdata.copy()\n",
    "    Sdata_global = Sdata.copy()\n",
    "    Tdata_global[Tdata_global == 0] = np.nan\n",
    "    Sdata_global[Sdata_global == 0] = np.nan\n",
    "    Tdata_Arctic = Tdata * np.tile(mskArctic,[2,1,1,1])\n",
    "    Sdata_Arctic = Sdata * np.tile(mskArctic,[2,1,1,1])\n",
    "\n",
    "    # read in the ETA and 3D thickness in zspace - SKIP FOR NOW\n",
    "    eta = fileETA[tstep]\n",
    "    zthick = np.tile(dz) ## I think dz is DRF or hfacC\n",
    "    \n",
    "    for UV in range(2):\n",
    "        for i in range(nz):\n",
    "            for j in range(ny):\n",
    "                for k in range(nx):\n",
    "                    # Global volume distribution\n",
    "                    if not np.isnan(Tdata_global[UV,i, j, k]):\n",
    "                        Sbin1point = np.min(np.where(fineSbin > Sdata_global[UV,i, j, k])) - 1\n",
    "                        Tbin1point = np.min(np.where(fineTbin > Tdata_global[UV,i, j, k])) - 1\n",
    "                        vol_fine_global[UV,tstep,Sbin1point, Tbin1point] += vol[UV,i, j, k]\n",
    "        \n",
    "                    # Arctic volume distribution\n",
    "                    if not np.isnan(Tdata_Arctic[UV,i, j, k]):\n",
    "                        Sbin1point = np.min(np.where(fineSbin > Sdata_Arctic[UV,i, j, k])) - 1\n",
    "                        Tbin1point = np.min(np.where(fineTbin > Tdata_Arctic[UV,i, j, k])) - 1\n",
    "                        vol_fine_Arctic[UV,tstep,Sbin1point, Tbin1point] += vol[UV,i, j, k]"
   ]
  },
  {
   "cell_type": "code",
   "execution_count": 132,
   "id": "8a8333f8-3e42-4a93-8dad-30d5577a0260",
   "metadata": {},
   "outputs": [
    {
     "data": {
      "text/plain": [
       "(10, 2440, 1480)"
      ]
     },
     "execution_count": 132,
     "metadata": {},
     "output_type": "execute_result"
    }
   ],
   "source": [
    "vol_fine_global.shape"
   ]
  },
  {
   "cell_type": "code",
   "execution_count": null,
   "id": "cea3e2f8-6b89-449d-98ce-eef77b4d1291",
   "metadata": {},
   "outputs": [],
   "source": [
    "for ifile in range(istart, iend):\n",
    "    print(f'reading in T and S and ETA for output file # {ifile} and determining volumetric distribution in S-T space')\n",
    "    \n",
    "    # Read in T and S\n",
    "    filename = os.path.join(dirIn, fileTS[ifile])\n",
    "    Tdata = readbin(filename, [nx, ny, nz], 1, 'real*4', Trec - 1)\n",
    "    Sdata = readbin(filename, [nx, ny, nz], 1, 'real*4', Srec - 1)\n",
    "    \n",
    "    Tdata_global = Tdata.copy()\n",
    "    Sdata_global = Sdata.copy()\n",
    "    Tdata_global[Tdata_global == 0] = np.nan\n",
    "    Sdata_global[Sdata_global == 0] = np.nan  # make sure land points are NaN not 0\n",
    "    \n",
    "    Tdata_Arctic = Tdata * np.tile(mskArctic, [1, 1, nz])\n",
    "    Sdata_Arctic = Sdata * np.tile(mskArctic, [1, 1, nz])\n",
    "    \n",
    "    # Read in ETA and make 3D thickness array in z-space\n",
    "    filename = os.path.join(dirIn, FLISTeta[ifile])\n",
    "    eta = readbin(filename, [nx, ny], 1, 'real*4', ETArec - 1)\n",
    "    zthick = np.tile(dz, [nx, ny, 1]) * hf\n",
    "    zthick[:, :, 0] = zthick[:, :, 0] + eta\n",
    "    vol = zthick * np.tile(rac, [1, 1, nz])\n",
    "    \n",
    "    # Bin T and S from z-space into fine T and S bins\n",
    "    for i in range(nx):\n",
    "        for j in range(ny):\n",
    "            for k in range(nz):\n",
    "                # Global volume distribution\n",
    "                if ~np.isnan(Tdata_global[i, j, k]):\n",
    "                    Sbin1point = np.min(np.where(fineSbin > Sdata_global[i, j, k])) - 1\n",
    "                    Tbin1point = np.min(np.where(fineTbin > Tdata_global[i, j, k])) - 1\n",
    "                    vol_fine_global[Sbin1point, Tbin1point, ifile] += vol[i, j, k]\n",
    "                \n",
    "                # Arctic volume distribution\n",
    "                if ~np.isnan(Tdata_Arctic[i, j, k]):\n",
    "                    Sbin1point = np.min(np.where(fineSbin > Sdata_Arctic[i, j, k])) - 1\n",
    "                    Tbin1point = np.min(np.where(fineTbin > Tdata_Arctic[i, j, k])) - 1\n",
    "                    vol_fine_Arctic[Sbin1point, Tbin1point, ifile] += vol[i, j, k]"
   ]
  }
 ],
 "metadata": {
  "kernelspec": {
   "display_name": "py38",
   "language": "python",
   "name": "py38"
  },
  "language_info": {
   "codemirror_mode": {
    "name": "ipython",
    "version": 3
   },
   "file_extension": ".py",
   "mimetype": "text/x-python",
   "name": "python",
   "nbconvert_exporter": "python",
   "pygments_lexer": "ipython3",
   "version": "3.8.18"
  }
 },
 "nbformat": 4,
 "nbformat_minor": 5
}
