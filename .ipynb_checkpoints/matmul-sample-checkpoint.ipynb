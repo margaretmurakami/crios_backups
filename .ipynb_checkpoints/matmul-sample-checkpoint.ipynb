{
 "cells": [
  {
   "cell_type": "code",
   "execution_count": 2,
   "id": "2d35a591-eaf8-4e66-b8d4-70bd915c1e73",
   "metadata": {},
   "outputs": [],
   "source": [
    "import numpy as np\n",
    "import matplotlib.pyplot as plt\n",
    "from math import sqrt"
   ]
  },
  {
   "cell_type": "code",
   "execution_count": 6,
   "id": "0a34ea85-f8a9-48a2-b162-a22e63e40112",
   "metadata": {},
   "outputs": [],
   "source": [
    "A = np.array([[sqrt(3)/2, -1/2,0],[1/2,sqrt(3)/2,0],[0,0,1]])\n",
    "A_T = A.T\n",
    "sigma = np.array([[45, 0,0],[0,30,0],[0,0,25]])"
   ]
  },
  {
   "cell_type": "code",
   "execution_count": 9,
   "id": "003dfc1b-794a-42db-a07b-96e000649f98",
   "metadata": {},
   "outputs": [],
   "source": [
    "tmp = np.matmul(A,sigma)"
   ]
  },
  {
   "cell_type": "code",
   "execution_count": 10,
   "id": "3c6a8153-c386-4844-9113-0d2e72b18b6d",
   "metadata": {},
   "outputs": [
    {
     "data": {
      "text/plain": [
       "array([[41.25      ,  6.49519053,  0.        ],\n",
       "       [ 6.49519053, 33.75      ,  0.        ],\n",
       "       [ 0.        ,  0.        , 25.        ]])"
      ]
     },
     "execution_count": 10,
     "metadata": {},
     "output_type": "execute_result"
    }
   ],
   "source": [
    "np.matmul(tmp,A_T)"
   ]
  },
  {
   "cell_type": "code",
   "execution_count": 16,
   "id": "5eb2c27f-aa12-48e9-a4de-14b816b88e3f",
   "metadata": {},
   "outputs": [],
   "source": [
    "n = np.array([[sqrt(3)/(2*sqrt(2))],[1/(2*sqrt(2))],[1/sqrt(2)]])\n",
    "t_n = np.matmul(sigma,n)"
   ]
  },
  {
   "cell_type": "code",
   "execution_count": 22,
   "id": "85b3650d-0d5d-4489-b7d8-03fec6d517eb",
   "metadata": {},
   "outputs": [
    {
     "data": {
      "text/plain": [
       "array([[16.875],\n",
       "       [ 3.75 ],\n",
       "       [12.5  ]])"
      ]
     },
     "execution_count": 22,
     "metadata": {},
     "output_type": "execute_result"
    }
   ],
   "source": [
    "(t_n * n)"
   ]
  },
  {
   "cell_type": "code",
   "execution_count": 26,
   "id": "7b70af26-a5a9-4810-90e6-6bcca753aa83",
   "metadata": {},
   "outputs": [
    {
     "data": {
      "text/plain": [
       "array([46.10335738])"
      ]
     },
     "execution_count": 26,
     "metadata": {},
     "output_type": "execute_result"
    }
   ],
   "source": [
    "t_n[0] * n[0] + t_n[0] * n[1] + t_n[0] * n[2]"
   ]
  },
  {
   "cell_type": "code",
   "execution_count": 27,
   "id": "519ca6d9-d7e1-4d15-9e67-e2fd9557b578",
   "metadata": {},
   "outputs": [
    {
     "data": {
      "text/plain": [
       "array([17.74519053])"
      ]
     },
     "execution_count": 27,
     "metadata": {},
     "output_type": "execute_result"
    }
   ],
   "source": [
    "t_n[1] * n[0] + t_n[1] * n[1] + t_n[1] * n[2]"
   ]
  },
  {
   "cell_type": "code",
   "execution_count": 28,
   "id": "73c0945e-4769-4f72-ab5f-db3da83b95d7",
   "metadata": {},
   "outputs": [
    {
     "data": {
      "text/plain": [
       "array([29.57531755])"
      ]
     },
     "execution_count": 28,
     "metadata": {},
     "output_type": "execute_result"
    }
   ],
   "source": [
    "t_n[2] * n[0] + t_n[2] * n[1] + t_n[2] * n[2]"
   ]
  },
  {
   "cell_type": "code",
   "execution_count": 3,
   "id": "b6f32450-dddb-416c-9283-4fa2a923ba78",
   "metadata": {},
   "outputs": [],
   "source": [
    "costerm = 0.99756405026\n",
    "sinterm = 0.0697564737441"
   ]
  },
  {
   "cell_type": "code",
   "execution_count": 5,
   "id": "b45722c0-d12b-4381-bf84-0e6c0d60b016",
   "metadata": {},
   "outputs": [],
   "source": [
    "A = np.array([[costerm, -sinterm,0],[sinterm,costerm,0],[0,0,1]])\n",
    "A_T = A.T\n",
    "sigma = np.array([[113, 0,0],[0,49,0],[0,0,49]])"
   ]
  },
  {
   "cell_type": "code",
   "execution_count": 6,
   "id": "6aff5145-0f9d-41da-b229-819c54a08f48",
   "metadata": {},
   "outputs": [],
   "source": [
    "tmp = np.matmul(sigma,A_T)"
   ]
  },
  {
   "cell_type": "code",
   "execution_count": 7,
   "id": "b6de1c74-3c2e-4fbc-b62c-a7c34ae5d4f0",
   "metadata": {},
   "outputs": [
    {
     "data": {
      "text/plain": [
       "array([[112.6885782 ,   4.45353923,   0.        ],\n",
       "       [  4.45353923,  49.3114218 ,   0.        ],\n",
       "       [  0.        ,   0.        ,  49.        ]])"
      ]
     },
     "execution_count": 7,
     "metadata": {},
     "output_type": "execute_result"
    }
   ],
   "source": [
    "np.matmul(A,tmp)"
   ]
  },
  {
   "cell_type": "code",
   "execution_count": null,
   "id": "88b1060f-b7e6-4b6d-95e1-1b20fdf79585",
   "metadata": {},
   "outputs": [],
   "source": []
  }
 ],
 "metadata": {
  "kernelspec": {
   "display_name": "py38",
   "language": "python",
   "name": "py38"
  },
  "language_info": {
   "codemirror_mode": {
    "name": "ipython",
    "version": 3
   },
   "file_extension": ".py",
   "mimetype": "text/x-python",
   "name": "python",
   "nbconvert_exporter": "python",
   "pygments_lexer": "ipython3",
   "version": "3.8.18"
  }
 },
 "nbformat": 4,
 "nbformat_minor": 5
}
