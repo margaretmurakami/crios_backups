{
 "cells": [
  {
   "cell_type": "markdown",
   "id": "4df95f28",
   "metadata": {},
   "source": [
    "## Finalizing thesis diagrams\n",
    "\n",
    "This notebook will finalize diagrams for the thesis to insure that all use the same grouping of elements. This will slice the dataframe by one year and add the diagrams."
   ]
  },
  {
   "cell_type": "code",
   "execution_count": 1,
   "id": "57ffcdda",
   "metadata": {},
   "outputs": [],
   "source": [
    "# Do not modify import block, all necessary imports are included\n",
    "# Our regular libraries\n",
    "import pandas as pd\n",
    "import numpy as np\n",
    "import matplotlib.pyplot as plt\n",
    "import matplotlib.cm as cm\n",
    "import xarray as xr\n",
    "%matplotlib inline\n",
    "\n",
    "# This is for our hierarchical clustering\n",
    "from scipy.cluster.hierarchy import dendrogram, linkage, cophenet\n",
    "from scipy.spatial.distance import pdist\n",
    "from scipy.spatial.distance import squareform\n",
    "from scipy.cluster.hierarchy import fcluster\n",
    "\n",
    "# For our k-means clustering\n",
    "from sklearn.cluster import KMeans\n",
    "from sklearn.metrics import silhouette_samples\n",
    "from sklearn import datasets\n",
    "import random\n",
    "\n",
    "# for plotting\n",
    "import cartopy.crs as ccrs\n",
    "import cartopy.feature as cfeature\n",
    "\n",
    "# this is for density plotting\n",
    "from matplotlib import colorbar, colors\n",
    "import matplotlib as mpl\n",
    "from matplotlib.colors import ListedColormap, LinearSegmentedColormap\n",
    "# import gsw\n",
    "import math\n",
    "\n",
    "# for the polygon intersections\n",
    "import shapely.geometry as sg\n",
    "\n",
    "# for plotting\n",
    "import time\n",
    "import warnings\n",
    "warnings.filterwarnings('ignore')\n",
    "\n",
    "#import \"/scratch/project_2000789/muramarg/miniconda3/lib/python3.10/site-packages/gsw\"\n",
    "import sys\n",
    " \n",
    "# appending a path\n",
    "# sys.path.append('/scratch/project_2000789/muramarg/miniconda3/lib/python3.10/site-packages/')\n",
    " \n",
    "# importing required module\n",
    "import gsw\n",
    "\n",
    "from scipy.interpolate import interpn"
   ]
  },
  {
   "cell_type": "markdown",
   "id": "e55de36f",
   "metadata": {},
   "source": [
    "### Slice the points by one year, load the release points, load the dataframe for KMeans"
   ]
  },
  {
   "cell_type": "code",
   "execution_count": 2,
   "id": "e7ee34ee",
   "metadata": {},
   "outputs": [],
   "source": [
    "# load the libraries\n",
    "ds = \"/scratch/mmurakami/WAOM/drifter_data_all_withdepth.nc\"\n",
    "ds = xr.load_dataset(ds)"
   ]
  },
  {
   "cell_type": "code",
   "execution_count": 3,
   "id": "8ccf9bf1",
   "metadata": {},
   "outputs": [],
   "source": [
    "y4_5 = 140160 # 140160 = 35040 * 4 = 4 years\n",
    "y3_5 = int(35040*3+35040*1)\n",
    "\n",
    "wmt = xr.load_dataset(\"/scratch/mmurakami/WAOM/categorized.nc\")\n",
    "# wmt = wmt.where(~np.isnan(ds.Xgrid))\n",
    "wmt = wmt.categorized.values[:y3_5]\n"
   ]
  },
  {
   "cell_type": "markdown",
   "id": "4210e956",
   "metadata": {},
   "source": [
    "### Make the grids of salt temp and dens"
   ]
  },
  {
   "cell_type": "code",
   "execution_count": 4,
   "id": "8f0965f9-3b88-416b-aa33-bb5f13ceee0b",
   "metadata": {},
   "outputs": [],
   "source": [
    "# arr = wmt[-1]\n",
    "# unique_values, counts = np.unique(arr, return_counts=True)\n",
    "# names = ['AABW', 'MCDW', 'ISW', 'DSW', 'AASW', 'WW', 'mSW','beached']\n",
    "# beached = 0\n",
    "# for i,j in zip(unique_values,counts):\n",
    "#     if np.isnan(i):\n",
    "#         beached += 1\n",
    "#     else:\n",
    "#         print(names[int(i)],j,(j/3895))\n",
    "# print(\"beached\",beached,beached/3895)"
   ]
  },
  {
   "cell_type": "code",
   "execution_count": null,
   "id": "e55fd711-45fd-43eb-8268-40be03d39d1b",
   "metadata": {},
   "outputs": [],
   "source": []
  },
  {
   "cell_type": "code",
   "execution_count": 5,
   "id": "b86f5423",
   "metadata": {},
   "outputs": [],
   "source": [
    "# select the initial columns of values (at all times)\n",
    "\n",
    "\n",
    "salt = ds.variables['salt'].values[:y3_5]\n",
    "temp = ds.variables['temp'].values[:y3_5]\n",
    "dens = ds.variables['rho'].values[:y3_5]\n",
    "depth = ds.variables['depth'].values[:y3_5]"
   ]
  },
  {
   "cell_type": "code",
   "execution_count": 6,
   "id": "788a5b55-86ed-4f74-bd52-c3201d37b237",
   "metadata": {},
   "outputs": [],
   "source": [
    "idxs = np.where(~np.isnan(salt[-1]))"
   ]
  },
  {
   "cell_type": "code",
   "execution_count": 8,
   "id": "f1e87b94-cea9-46ae-a749-4302b2bd68de",
   "metadata": {},
   "outputs": [],
   "source": [
    "idxs[0].shape\n",
    "\n",
    "\n",
    "idxs = idxs[0]\n",
    "path = \"/scratch/mmurakami/WAOM/groups/\"\n",
    "idxs.tofile(path + \"idxs.txt\",sep=\",\")"
   ]
  },
  {
   "cell_type": "code",
   "execution_count": 85,
   "id": "0a8305a5-6faf-4614-a029-02e079a47eca",
   "metadata": {},
   "outputs": [],
   "source": [
    "salt = salt[:,idxs[0]]\n",
    "temp = temp[:,idxs[0]]\n",
    "dens = dens[:,idxs[0]]\n",
    "wmt = wmt[:,idxs[0]]"
   ]
  },
  {
   "cell_type": "markdown",
   "id": "14ec2abc",
   "metadata": {},
   "source": [
    "### CT and SA"
   ]
  },
  {
   "cell_type": "code",
   "execution_count": 86,
   "id": "4c0dcb3d",
   "metadata": {},
   "outputs": [],
   "source": [
    "# # convert the waom values to gsw values\n",
    "# # convert depth to sea pressure\n",
    "# long = 73.5089\n",
    "# lat = -66.8245\n",
    "# p = gsw.p_from_z(z=depth,lat=-66.8245)\n",
    "\n",
    "\n",
    "# # convert the absolute salinity from practical salinity\n",
    "# SA = gsw.SA_from_SP(salt,p,long,lat)    # absolute salinity from practical salinity\n",
    "\n",
    "# # convert potential T to conservative T\n",
    "# CT = gsw.CT_from_pt(SA,temp)   # conservative T from potential T\n",
    "\n",
    "# # find the potential density from SA, CT, p\n",
    "# # rho_pot0 = gsw.rho(SA,CT,0) - 1000\n",
    "# rho_pot = gsw.rho(SA,CT,p) - 1000"
   ]
  },
  {
   "cell_type": "markdown",
   "id": "c4e89a05",
   "metadata": {},
   "source": [
    "## Now create the grouping"
   ]
  },
  {
   "cell_type": "code",
   "execution_count": 87,
   "id": "b68f67db",
   "metadata": {},
   "outputs": [
    {
     "data": {
      "text/html": [
       "<div>\n",
       "<style scoped>\n",
       "    .dataframe tbody tr th:only-of-type {\n",
       "        vertical-align: middle;\n",
       "    }\n",
       "\n",
       "    .dataframe tbody tr th {\n",
       "        vertical-align: top;\n",
       "    }\n",
       "\n",
       "    .dataframe thead th {\n",
       "        text-align: right;\n",
       "    }\n",
       "</style>\n",
       "<table border=\"1\" class=\"dataframe\">\n",
       "  <thead>\n",
       "    <tr style=\"text-align: right;\">\n",
       "      <th></th>\n",
       "      <th>dT</th>\n",
       "      <th>dsat</th>\n",
       "      <th>drho</th>\n",
       "    </tr>\n",
       "  </thead>\n",
       "  <tbody>\n",
       "    <tr>\n",
       "      <th>0</th>\n",
       "      <td>1.003796</td>\n",
       "      <td>0.492970</td>\n",
       "      <td>1.464422</td>\n",
       "    </tr>\n",
       "    <tr>\n",
       "      <th>1</th>\n",
       "      <td>0.798771</td>\n",
       "      <td>0.261040</td>\n",
       "      <td>0.565941</td>\n",
       "    </tr>\n",
       "    <tr>\n",
       "      <th>2</th>\n",
       "      <td>0.733726</td>\n",
       "      <td>-0.111305</td>\n",
       "      <td>1.075357</td>\n",
       "    </tr>\n",
       "    <tr>\n",
       "      <th>3</th>\n",
       "      <td>1.352079</td>\n",
       "      <td>0.226284</td>\n",
       "      <td>1.229233</td>\n",
       "    </tr>\n",
       "    <tr>\n",
       "      <th>4</th>\n",
       "      <td>1.044552</td>\n",
       "      <td>0.098019</td>\n",
       "      <td>1.613560</td>\n",
       "    </tr>\n",
       "    <tr>\n",
       "      <th>...</th>\n",
       "      <td>...</td>\n",
       "      <td>...</td>\n",
       "      <td>...</td>\n",
       "    </tr>\n",
       "    <tr>\n",
       "      <th>3028</th>\n",
       "      <td>-2.310728</td>\n",
       "      <td>0.713142</td>\n",
       "      <td>11.429031</td>\n",
       "    </tr>\n",
       "    <tr>\n",
       "      <th>3029</th>\n",
       "      <td>-2.127896</td>\n",
       "      <td>0.349644</td>\n",
       "      <td>2.502554</td>\n",
       "    </tr>\n",
       "    <tr>\n",
       "      <th>3030</th>\n",
       "      <td>0.097079</td>\n",
       "      <td>-0.200241</td>\n",
       "      <td>-0.020504</td>\n",
       "    </tr>\n",
       "    <tr>\n",
       "      <th>3031</th>\n",
       "      <td>-0.090273</td>\n",
       "      <td>-0.107098</td>\n",
       "      <td>0.909195</td>\n",
       "    </tr>\n",
       "    <tr>\n",
       "      <th>3032</th>\n",
       "      <td>-0.603430</td>\n",
       "      <td>0.241783</td>\n",
       "      <td>0.447603</td>\n",
       "    </tr>\n",
       "  </tbody>\n",
       "</table>\n",
       "<p>3033 rows × 3 columns</p>\n",
       "</div>"
      ],
      "text/plain": [
       "            dT      dsat       drho\n",
       "0     1.003796  0.492970   1.464422\n",
       "1     0.798771  0.261040   0.565941\n",
       "2     0.733726 -0.111305   1.075357\n",
       "3     1.352079  0.226284   1.229233\n",
       "4     1.044552  0.098019   1.613560\n",
       "...        ...       ...        ...\n",
       "3028 -2.310728  0.713142  11.429031\n",
       "3029 -2.127896  0.349644   2.502554\n",
       "3030  0.097079 -0.200241  -0.020504\n",
       "3031 -0.090273 -0.107098   0.909195\n",
       "3032 -0.603430  0.241783   0.447603\n",
       "\n",
       "[3033 rows x 3 columns]"
      ]
     },
     "execution_count": 87,
     "metadata": {},
     "output_type": "execute_result"
    }
   ],
   "source": [
    "# convert the absolute salinity from practical salinity\n",
    "# dSA = SA[-1]-SA[0]\n",
    "dSA = salt[-1]-salt[0]\n",
    "dCT = temp[-1]-temp[0]\n",
    "drho_pot = dens[-1]-dens[0]\n",
    "\n",
    "\n",
    "df = pd.DataFrame()\n",
    "df[\"dT\"] = dCT\n",
    "df[\"dsat\"] = dSA\n",
    "df[\"drho\"] = drho_pot\n",
    "df"
   ]
  },
  {
   "cell_type": "code",
   "execution_count": 88,
   "id": "7041e3ca",
   "metadata": {},
   "outputs": [
    {
     "name": "stdout",
     "output_type": "stream",
     "text": [
      "[2507 1930  940 2744]\n",
      "whats up\n",
      "Cluster 0:\n",
      "114\n",
      "Cluster 1:\n",
      "2001\n",
      "Cluster 2:\n",
      "388\n",
      "Cluster 3:\n",
      "530\n"
     ]
    },
    {
     "data": {
      "image/png": "[encoded data removed]",
      "text/plain": [
       "<Figure size 700x700 with 1 Axes>"
      ]
     },
     "metadata": {},
     "output_type": "display_data"
    }
   ],
   "source": [
    "# Plot the dendrogram for the Ward proximity measure\n",
    "index_names = list(df.index)\n",
    "z = linkage(df,method='ward')\n",
    "plt.figure(figsize = (7,7))\n",
    "plt.suptitle('Dendrogram for Ward Function')\n",
    "plt.xlabel('Particle')\n",
    "plt.ylabel('Height')\n",
    "dendrogramward = dendrogram(Z=z,labels=index_names,get_leaves=True)\n",
    "\n",
    "# set the number of clusters and get the names\n",
    "numclust = 4  # this was 6\n",
    "fl = fcluster(z,numclust,criterion='maxclust')\n",
    "# new dataframe\n",
    "df_clst = pd.DataFrame()\n",
    "df_clst['index']  = index_names\n",
    "df_clst['clust_label']  = fl\n",
    "# get the clusters from fcluster to choose centroids\n",
    "centroids_idx = np.array([],dtype=int)\n",
    "# for i in range(6):\n",
    "for i in range(4):\n",
    "    # print the values in each group\n",
    "    elements = df_clst[df_clst['clust_label']==i+1]['index'].tolist()  \n",
    "    size = len(elements)    \n",
    "    # get a random number from elements as a centroid\n",
    "    centroids_idx = np.append(centroids_idx, random.choice(elements))\n",
    "print(centroids_idx)\n",
    "\n",
    "# get the initial centroids\n",
    "index_names = list(df.index)\n",
    "c0 = df.iloc[index_names.index(centroids_idx[0])]\n",
    "c1 = df.iloc[index_names.index(centroids_idx[1])]\n",
    "c2 = df.iloc[index_names.index(centroids_idx[2])]\n",
    "c3 = df.iloc[index_names.index(centroids_idx[3])]\n",
    "# c4 = df.iloc[index_names.index(centroids_idx[4])]\n",
    "# c5 = df.iloc[index_names.index(centroids_idx[5])]\n",
    "\n",
    "centroids = np.array([c0,c1,c2,c3]) #,c4,c5])\n",
    "\n",
    "# Compute the k-means clusters and show the listing of the States in each cluster\n",
    "kmeans = KMeans(n_clusters=4,init=centroids,n_init=1,random_state=23).fit(df)\n",
    "centroids = kmeans.cluster_centers_\n",
    "assignment = kmeans.fit_predict(df,centroids)\n",
    "\n",
    "# get the cluster for each state\n",
    "zeroes=[x for x,y in enumerate(assignment) if y == 0]\n",
    "ones=[x for x,y in enumerate(assignment) if y == 1]\n",
    "twos=[x for x,y in enumerate(assignment) if y == 2]\n",
    "threes=[x for x,y in enumerate(assignment) if y == 3]\n",
    "# fours=[x for x,y in enumerate(assignment) if y == 4]\n",
    "# fives=[x for x,y in enumerate(assignment) if y == 5]\n",
    "\n",
    "clusters = [zeroes,ones,twos,threes]  #,fours,fives]\n",
    "states = [[],[],[],[]] #,[],[]]\n",
    "num = 0\n",
    "print(\"whats up\")\n",
    "for clust in clusters:\n",
    "    for idx in clust:\n",
    "        state = index_names[idx]\n",
    "        states[num].append(state)\n",
    "    print('Cluster '+str(num)+':')\n",
    "    print(len(states[num]))\n",
    "    num += 1"
   ]
  },
  {
   "cell_type": "code",
   "execution_count": 89,
   "id": "223f1c60",
   "metadata": {},
   "outputs": [
    {
     "data": {
      "text/plain": [
       "4"
      ]
     },
     "execution_count": 89,
     "metadata": {},
     "output_type": "execute_result"
    }
   ],
   "source": [
    "len(states)"
   ]
  },
  {
   "cell_type": "code",
   "execution_count": 90,
   "id": "a5d011a0",
   "metadata": {},
   "outputs": [],
   "source": [
    "# # get the indices for each of the groups\n",
    "group1 = states[0]\n",
    "group2 = states[1]\n",
    "group3 = states[2]\n",
    "group4 = states[3]\n",
    "# group5 = states[4]\n",
    "# group6 = states[5]\n",
    "groups = np.array([group1,group2,group3,group4],dtype=object)   #,group5,group6"
   ]
  },
  {
   "cell_type": "markdown",
   "id": "5c864bc1",
   "metadata": {},
   "source": [
    "### Check the quality of the grouping"
   ]
  },
  {
   "cell_type": "code",
   "execution_count": 91,
   "id": "db6077b3-3291-4645-ac29-6095866eac19",
   "metadata": {},
   "outputs": [],
   "source": [
    "wmt_1 = wmt[-1]"
   ]
  },
  {
   "cell_type": "code",
   "execution_count": 97,
   "id": "af4cef5a",
   "metadata": {},
   "outputs": [],
   "source": [
    "# quality of the grouping\n",
    "# find the number of values in each group that match each of the water masses\n",
    "# we have the arrays temp, freez_temp, salt, enddens_allvals, depth\n",
    "lengths = np.array([])\n",
    "AABW_percents = np.array([])\n",
    "MCDW_percents = np.array([])\n",
    "ISW_percents = np.array([])\n",
    "DSW_percents = np.array([])\n",
    "AASW_percents = np.array([])\n",
    "WW_percents = np.array([])\n",
    "other_percents = np.array([])\n",
    "\n",
    "for group in groups:\n",
    "    # how many particles are in the group\n",
    "    lengths = np.append(lengths,len(group))\n",
    "    \n",
    "    # get the individual quantities of each group from mass and do value counts\n",
    "    thismass = wmt_1[group]  # or wmt_1\n",
    "    # thismass = wmt[0][group]\n",
    "    unique_elements, counts_elements = np.unique(thismass, return_counts=True)\n",
    "    \n",
    "    # see if any number is not in list and if not then add 0 to the end of the list\n",
    "    for i in range(7):\n",
    "        if not np.any(unique_elements == i):\n",
    "            # append this number and zero to unique,counts\n",
    "            unique_elements = np.append(unique_elements,i)\n",
    "            counts_elements = np.append(counts_elements,0)\n",
    "            \n",
    "    # 0 is aabw, 1 is mcdw, 2 is isw, 3 is dsw, 4 is aasw, 5 is other (ISW shallower than 100m), 6 is msw\n",
    "    \n",
    "    for i in range(len(unique_elements)):\n",
    "        if unique_elements[i] == 0:\n",
    "            AABW_percents =np.append(AABW_percents,counts_elements[i])\n",
    "        elif unique_elements[i] == 1:\n",
    "            MCDW_percents =np.append(MCDW_percents,counts_elements[i])\n",
    "        elif unique_elements[i] == 2:\n",
    "            ISW_percents =np.append(ISW_percents,counts_elements[i])\n",
    "        elif unique_elements[i] == 3:\n",
    "            DSW_percents =np.append(DSW_percents,counts_elements[i])\n",
    "        elif unique_elements[i] == 4:\n",
    "            AASW_percents =np.append(AASW_percents,counts_elements[i])\n",
    "        elif unique_elements[i] == 5:\n",
    "            WW_percents = np.append(WW_percents,counts_elements[i])\n",
    "        elif unique_elements[i] == 6:\n",
    "            other_percents = np.append(other_percents,counts_elements[i])"
   ]
  },
  {
   "cell_type": "code",
   "execution_count": 98,
   "id": "98105aac",
   "metadata": {},
   "outputs": [
    {
     "data": {
      "text/html": [
       "<div>\n",
       "<style scoped>\n",
       "    .dataframe tbody tr th:only-of-type {\n",
       "        vertical-align: middle;\n",
       "    }\n",
       "\n",
       "    .dataframe tbody tr th {\n",
       "        vertical-align: top;\n",
       "    }\n",
       "\n",
       "    .dataframe thead th {\n",
       "        text-align: right;\n",
       "    }\n",
       "</style>\n",
       "<table border=\"1\" class=\"dataframe\">\n",
       "  <thead>\n",
       "    <tr style=\"text-align: right;\">\n",
       "      <th></th>\n",
       "      <th># of particles</th>\n",
       "      <th>AABW</th>\n",
       "      <th>MCDW</th>\n",
       "      <th>ISW</th>\n",
       "      <th>DSW</th>\n",
       "      <th>AASW</th>\n",
       "      <th>WW</th>\n",
       "      <th>mSW</th>\n",
       "    </tr>\n",
       "  </thead>\n",
       "  <tbody>\n",
       "    <tr>\n",
       "      <th>0</th>\n",
       "      <td>114.0</td>\n",
       "      <td>0.0</td>\n",
       "      <td>114.0</td>\n",
       "      <td>0.0</td>\n",
       "      <td>0.0</td>\n",
       "      <td>0.0</td>\n",
       "      <td>0.0</td>\n",
       "      <td>0.0</td>\n",
       "    </tr>\n",
       "    <tr>\n",
       "      <th>1</th>\n",
       "      <td>2001.0</td>\n",
       "      <td>5.0</td>\n",
       "      <td>1055.0</td>\n",
       "      <td>49.0</td>\n",
       "      <td>0.0</td>\n",
       "      <td>800.0</td>\n",
       "      <td>86.0</td>\n",
       "      <td>6.0</td>\n",
       "    </tr>\n",
       "    <tr>\n",
       "      <th>2</th>\n",
       "      <td>388.0</td>\n",
       "      <td>388.0</td>\n",
       "      <td>0.0</td>\n",
       "      <td>0.0</td>\n",
       "      <td>0.0</td>\n",
       "      <td>0.0</td>\n",
       "      <td>0.0</td>\n",
       "      <td>0.0</td>\n",
       "    </tr>\n",
       "    <tr>\n",
       "      <th>3</th>\n",
       "      <td>530.0</td>\n",
       "      <td>459.0</td>\n",
       "      <td>57.0</td>\n",
       "      <td>14.0</td>\n",
       "      <td>0.0</td>\n",
       "      <td>0.0</td>\n",
       "      <td>0.0</td>\n",
       "      <td>0.0</td>\n",
       "    </tr>\n",
       "  </tbody>\n",
       "</table>\n",
       "</div>"
      ],
      "text/plain": [
       "   # of particles   AABW    MCDW   ISW  DSW   AASW    WW  mSW\n",
       "0           114.0    0.0   114.0   0.0  0.0    0.0   0.0  0.0\n",
       "1          2001.0    5.0  1055.0  49.0  0.0  800.0  86.0  6.0\n",
       "2           388.0  388.0     0.0   0.0  0.0    0.0   0.0  0.0\n",
       "3           530.0  459.0    57.0  14.0  0.0    0.0   0.0  0.0"
      ]
     },
     "execution_count": 98,
     "metadata": {},
     "output_type": "execute_result"
    }
   ],
   "source": [
    "wmt_df = pd.DataFrame() #,\"5\",\"6\"])\n",
    "wmt_df[\"# of particles\"] = lengths\n",
    "wmt_df[\"AABW\"] = AABW_percents\n",
    "wmt_df[\"MCDW\"] = MCDW_percents\n",
    "wmt_df[\"ISW\"] = ISW_percents\n",
    "wmt_df[\"DSW\"] = DSW_percents\n",
    "wmt_df[\"AASW\"] = AASW_percents\n",
    "wmt_df[\"WW\"] = WW_percents\n",
    "wmt_df[\"mSW\"] = other_percents\n",
    "\n",
    "# rename the indices\n",
    "# wmt_df = wmt_df.reindex([\"1\",\"2\",\"4\",\"2\"])\n",
    "\n",
    "wmt_df"
   ]
  },
  {
   "cell_type": "code",
   "execution_count": 99,
   "id": "02108f2e",
   "metadata": {},
   "outputs": [
    {
     "name": "stdout",
     "output_type": "stream",
     "text": [
      "0.0\n"
     ]
    }
   ],
   "source": [
    "# 616 DSW should be at start\n",
    "print(sum(DSW_percents))"
   ]
  },
  {
   "cell_type": "code",
   "execution_count": 100,
   "id": "a8cd614e",
   "metadata": {},
   "outputs": [],
   "source": [
    "# remake the above dataframe with percentages\n",
    "df1 = pd.DataFrame()# index=[\"1\",\"2\",\"3\",\"4\"])\n",
    "df1[\"% of Total\"] = wmt_df[\"# of particles\"]/sum(wmt_df[\"# of particles\"])\n",
    "df1[\"AABW\"] = wmt_df[\"AABW\"]/wmt_df[\"# of particles\"]\n",
    "df1[\"mCDW\"] = wmt_df[\"MCDW\"]/wmt_df[\"# of particles\"]\n",
    "df1[\"ISW\"] = wmt_df[\"ISW\"]/wmt_df[\"# of particles\"]\n",
    "df1[\"DSW\"] = wmt_df[\"DSW\"]/wmt_df[\"# of particles\"]\n",
    "df1[\"AASW\"] = wmt_df[\"AASW\"]/wmt_df[\"# of particles\"]\n",
    "df1[\"WW\"] = wmt_df[\"WW\"]/wmt_df[\"# of particles\"]\n",
    "df1[\"mSW\"] = wmt_df[\"mSW\"]/wmt_df[\"# of particles\"]\n",
    "\n",
    "# df1 = df1.reindex([\"3\",\"1\",\"6\",\"2\",\"4\",\"5\"])"
   ]
  },
  {
   "cell_type": "code",
   "execution_count": 101,
   "id": "6edd256b",
   "metadata": {},
   "outputs": [
    {
     "data": {
      "text/html": [
       "<style type=\"text/css\">\n",
       "</style>\n",
       "<table id=\"T_193e4\">\n",
       "  <thead>\n",
       "    <tr>\n",
       "      <th class=\"blank level0\" >&nbsp;</th>\n",
       "      <th id=\"T_193e4_level0_col0\" class=\"col_heading level0 col0\" >% of Total</th>\n",
       "      <th id=\"T_193e4_level0_col1\" class=\"col_heading level0 col1\" >AABW</th>\n",
       "      <th id=\"T_193e4_level0_col2\" class=\"col_heading level0 col2\" >mCDW</th>\n",
       "      <th id=\"T_193e4_level0_col3\" class=\"col_heading level0 col3\" >ISW</th>\n",
       "      <th id=\"T_193e4_level0_col4\" class=\"col_heading level0 col4\" >DSW</th>\n",
       "      <th id=\"T_193e4_level0_col5\" class=\"col_heading level0 col5\" >AASW</th>\n",
       "      <th id=\"T_193e4_level0_col6\" class=\"col_heading level0 col6\" >WW</th>\n",
       "      <th id=\"T_193e4_level0_col7\" class=\"col_heading level0 col7\" >mSW</th>\n",
       "    </tr>\n",
       "  </thead>\n",
       "  <tbody>\n",
       "    <tr>\n",
       "      <th id=\"T_193e4_level0_row0\" class=\"row_heading level0 row0\" >0</th>\n",
       "      <td id=\"T_193e4_row0_col0\" class=\"data row0 col0\" >3.76%</td>\n",
       "      <td id=\"T_193e4_row0_col1\" class=\"data row0 col1\" >0.00%</td>\n",
       "      <td id=\"T_193e4_row0_col2\" class=\"data row0 col2\" >100.00%</td>\n",
       "      <td id=\"T_193e4_row0_col3\" class=\"data row0 col3\" >0.00%</td>\n",
       "      <td id=\"T_193e4_row0_col4\" class=\"data row0 col4\" >0.00%</td>\n",
       "      <td id=\"T_193e4_row0_col5\" class=\"data row0 col5\" >0.00%</td>\n",
       "      <td id=\"T_193e4_row0_col6\" class=\"data row0 col6\" >0.00%</td>\n",
       "      <td id=\"T_193e4_row0_col7\" class=\"data row0 col7\" >0.00%</td>\n",
       "    </tr>\n",
       "    <tr>\n",
       "      <th id=\"T_193e4_level0_row1\" class=\"row_heading level0 row1\" >1</th>\n",
       "      <td id=\"T_193e4_row1_col0\" class=\"data row1 col0\" >65.97%</td>\n",
       "      <td id=\"T_193e4_row1_col1\" class=\"data row1 col1\" >0.25%</td>\n",
       "      <td id=\"T_193e4_row1_col2\" class=\"data row1 col2\" >52.72%</td>\n",
       "      <td id=\"T_193e4_row1_col3\" class=\"data row1 col3\" >2.45%</td>\n",
       "      <td id=\"T_193e4_row1_col4\" class=\"data row1 col4\" >0.00%</td>\n",
       "      <td id=\"T_193e4_row1_col5\" class=\"data row1 col5\" >39.98%</td>\n",
       "      <td id=\"T_193e4_row1_col6\" class=\"data row1 col6\" >4.30%</td>\n",
       "      <td id=\"T_193e4_row1_col7\" class=\"data row1 col7\" >0.30%</td>\n",
       "    </tr>\n",
       "    <tr>\n",
       "      <th id=\"T_193e4_level0_row2\" class=\"row_heading level0 row2\" >2</th>\n",
       "      <td id=\"T_193e4_row2_col0\" class=\"data row2 col0\" >12.79%</td>\n",
       "      <td id=\"T_193e4_row2_col1\" class=\"data row2 col1\" >100.00%</td>\n",
       "      <td id=\"T_193e4_row2_col2\" class=\"data row2 col2\" >0.00%</td>\n",
       "      <td id=\"T_193e4_row2_col3\" class=\"data row2 col3\" >0.00%</td>\n",
       "      <td id=\"T_193e4_row2_col4\" class=\"data row2 col4\" >0.00%</td>\n",
       "      <td id=\"T_193e4_row2_col5\" class=\"data row2 col5\" >0.00%</td>\n",
       "      <td id=\"T_193e4_row2_col6\" class=\"data row2 col6\" >0.00%</td>\n",
       "      <td id=\"T_193e4_row2_col7\" class=\"data row2 col7\" >0.00%</td>\n",
       "    </tr>\n",
       "    <tr>\n",
       "      <th id=\"T_193e4_level0_row3\" class=\"row_heading level0 row3\" >3</th>\n",
       "      <td id=\"T_193e4_row3_col0\" class=\"data row3 col0\" >17.47%</td>\n",
       "      <td id=\"T_193e4_row3_col1\" class=\"data row3 col1\" >86.60%</td>\n",
       "      <td id=\"T_193e4_row3_col2\" class=\"data row3 col2\" >10.75%</td>\n",
       "      <td id=\"T_193e4_row3_col3\" class=\"data row3 col3\" >2.64%</td>\n",
       "      <td id=\"T_193e4_row3_col4\" class=\"data row3 col4\" >0.00%</td>\n",
       "      <td id=\"T_193e4_row3_col5\" class=\"data row3 col5\" >0.00%</td>\n",
       "      <td id=\"T_193e4_row3_col6\" class=\"data row3 col6\" >0.00%</td>\n",
       "      <td id=\"T_193e4_row3_col7\" class=\"data row3 col7\" >0.00%</td>\n",
       "    </tr>\n",
       "  </tbody>\n",
       "</table>\n"
      ],
      "text/plain": [
       "<pandas.io.formats.style.Styler at 0x14dac8ba1190>"
      ]
     },
     "execution_count": 101,
     "metadata": {},
     "output_type": "execute_result"
    }
   ],
   "source": [
    "df1.style.format({\n",
    "    '% of Total': '{:,.2%}'.format,\n",
    "    'AABW': '{:,.2%}'.format,\n",
    "    'mCDW': '{:,.2%}'.format,\n",
    "    'ISW' : '{:,.2%}'.format,\n",
    "    'DSW' : '{:,.2%}'.format,\n",
    "    'AASW': '{:,.2%}'.format,\n",
    "    'WW'  : '{:,.2%}'.format,\n",
    "    'mSW' : '{:,.2%}'.format\n",
    "})"
   ]
  },
  {
   "cell_type": "code",
   "execution_count": 102,
   "id": "e4a29902-2721-4526-b369-a4c787890c5a",
   "metadata": {},
   "outputs": [],
   "source": [
    "path = \"/scratch/mmurakami/WAOM/groups/\""
   ]
  },
  {
   "cell_type": "code",
   "execution_count": null,
   "id": "72d59449-9398-4be2-b1e3-1371891571d6",
   "metadata": {},
   "outputs": [],
   "source": []
  },
  {
   "cell_type": "code",
   "execution_count": 104,
   "id": "121daede",
   "metadata": {},
   "outputs": [],
   "source": [
    "group3a = np.asarray(group1)\n",
    "group3a.tofile(path + \"group1.txt\",sep=\",\")\n",
    "#group1 = np.fromfile(\"/scratch/project_2000789/muramarg/floats_WAOM/GroupFiles/group1_4grps.txt\",sep=\",\")\n",
    "\n",
    "group1a = np.asarray(group2)\n",
    "group1a.tofile(path + \"group2.txt\",sep=\",\")\n",
    "#group2 = np.fromfile(\"/scratch/project_2000789/muramarg/floats_WAOM/GroupFiles/group2_4grps.txt\",sep=\",\")\n",
    "\n",
    "group6a = np.asarray(group3)\n",
    "group6a.tofile(path + \"group3.txt\",sep=\",\")\n",
    "#group3 = np.fromfile(\"/scratch/project_2000789/muramarg/floats_WAOM/GroupFiles/group3_4grps.txt\",sep=\",\")\n",
    "\n",
    "group2a = np.asarray(group4)\n",
    "group2a.tofile(path + \"group4.txt\",sep=\",\")\n",
    "\n",
    "#group4 = np.fromfile(\"/scratch/project_2000789/muramarg/floats_WAOM/GroupFiles/group4_4grps.txt\",sep=\",\")"
   ]
  },
  {
   "cell_type": "code",
   "execution_count": 68,
   "id": "c790f866",
   "metadata": {},
   "outputs": [],
   "source": [
    "# group0 = group0.tolist()\n",
    "# group0 = [int(x) for x in group0]\n",
    "\n",
    "group1 = group1.tolist()\n",
    "group1 = [int(x) for x in group1]\n",
    "\n",
    "group2 = group2.tolist()\n",
    "group2 = [int(x) for x in group2]\n",
    "\n",
    "group3 = group3.tolist()\n",
    "group3 = [int(x) for x in group3]\n",
    "\n",
    "group4 = group4.tolist()\n",
    "group4 = [int(x) for x in group4]\n",
    "\n",
    "# group5 = group5.tolist()\n",
    "# group5 = [int(x) for x in group5]"
   ]
  },
  {
   "cell_type": "code",
   "execution_count": 69,
   "id": "d7a1e52f",
   "metadata": {},
   "outputs": [],
   "source": [
    "groups = np.array([group1,group2,group3,group4],dtype=object)   #,group5,group6"
   ]
  },
  {
   "cell_type": "code",
   "execution_count": null,
   "id": "010cf427",
   "metadata": {},
   "outputs": [],
   "source": []
  }
 ],
 "metadata": {
  "kernelspec": {
   "display_name": "Python 3 (ipykernel)",
   "language": "python",
   "name": "python3"
  },
  "language_info": {
   "codemirror_mode": {
    "name": "ipython",
    "version": 3
   },
   "file_extension": ".py",
   "mimetype": "text/x-python",
   "name": "python",
   "nbconvert_exporter": "python",
   "pygments_lexer": "ipython3",
   "version": "3.8.18"
  }
 },
 "nbformat": 4,
 "nbformat_minor": 5
}
