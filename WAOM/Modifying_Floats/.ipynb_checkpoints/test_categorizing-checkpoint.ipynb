{
 "cells": [
  {
   "cell_type": "code",
   "execution_count": 1,
   "id": "cba81e70-c95a-4c9c-b933-3eb7f2d22207",
   "metadata": {},
   "outputs": [],
   "source": [
    "# import the packages\n",
    "import numpy as np\n",
    "import matplotlib.pyplot as plt\n",
    "import xarray as xr\n",
    "import netCDF4 as nc\n",
    "import gsw\n",
    "import shapely.geometry as sg\n",
    "from shapely import Point\n"
   ]
  },
  {
   "cell_type": "code",
   "execution_count": 2,
   "id": "d561d7b5-86d5-4958-b7af-090ff8de06fe",
   "metadata": {},
   "outputs": [],
   "source": [
    "filename = \"/scratch/mmurakami/WAOM/categorized.nc\"\n",
    "ds = xr.load_dataset(filename)"
   ]
  },
  {
   "cell_type": "code",
   "execution_count": 3,
   "id": "455f5751-0e61-4c3e-974c-341fa3c14002",
   "metadata": {},
   "outputs": [],
   "source": [
    "ds1 = \"/scratch/mmurakami/WAOM/drifter_data_all_withdepth.nc\"\n",
    "ds1 = xr.load_dataset(ds1)"
   ]
  },
  {
   "cell_type": "markdown",
   "id": "158fd0a9-03ce-4f43-a488-d4391a329894",
   "metadata": {},
   "source": [
    "# fill categorized with nan where drifter_data_all is nan"
   ]
  },
  {
   "cell_type": "code",
   "execution_count": null,
   "id": "ba7dfbcc-47b0-47b5-9f1b-43961806f028",
   "metadata": {},
   "outputs": [],
   "source": [
    "# Apply NaN mask\n",
    "ds = ds.where(~np.isnan(ds1.Xgrid))"
   ]
  },
  {
   "cell_type": "code",
   "execution_count": null,
   "id": "a839d60a-70d0-410c-8cc7-f944074d391e",
   "metadata": {},
   "outputs": [],
   "source": [
    "np.where(np.isnan(ds.categorized[-70000].values))[0].shape"
   ]
  },
  {
   "cell_type": "code",
   "execution_count": null,
   "id": "54e70af6-79e6-40fa-8f25-bfef3c18de92",
   "metadata": {},
   "outputs": [],
   "source": [
    "ds.categorized[-70000]"
   ]
  },
  {
   "cell_type": "markdown",
   "id": "821c490a-cad3-481c-b391-264c267354b6",
   "metadata": {},
   "source": [
    "# great, now get the indices where this is DSW at least once"
   ]
  },
  {
   "cell_type": "code",
   "execution_count": null,
   "id": "f907a753-f30c-43d9-b317-c77882160953",
   "metadata": {},
   "outputs": [],
   "source": [
    "# cols_with_3 = ds.categorized.drif ter[(ds.categorized == 3).any()]"
   ]
  },
  {
   "cell_type": "code",
   "execution_count": null,
   "id": "eafaa80a-5217-4e33-942f-20403a581ace",
   "metadata": {},
   "outputs": [],
   "source": [
    "drifters_with_3 = ds.categorized.where(ds.categorized == 3, drop=True).drifter.values"
   ]
  },
  {
   "cell_type": "code",
   "execution_count": null,
   "id": "75684d58-0e45-46f2-a7a3-6057780d01fb",
   "metadata": {},
   "outputs": [],
   "source": [
    "drifters_with_3.shape"
   ]
  },
  {
   "cell_type": "markdown",
   "id": "40b0fc4d-10cc-4640-be6a-1748995f6a40",
   "metadata": {},
   "source": [
    "# do some value counts to get statistics"
   ]
  },
  {
   "cell_type": "code",
   "execution_count": null,
   "id": "6f57907a-9cb4-48d4-adbd-a5e7cbf4a0f2",
   "metadata": {},
   "outputs": [],
   "source": [
    "arr = ds.categorized[0]\n",
    "unique_values, counts = np.unique(arr, return_counts=True)\n",
    "names = ['AABW', 'MCDW', 'ISW', 'DSW', 'AASW', 'WW', 'mSW','beached']\n",
    "for i,j in zip(unique_values,counts):\n",
    "    print(names[int(i)],j,j/3895)"
   ]
  },
  {
   "cell_type": "code",
   "execution_count": 28,
   "id": "9b49ad85-a257-4d52-a3d3-51c757ac9931",
   "metadata": {},
   "outputs": [
    {
     "name": "stdout",
     "output_type": "stream",
     "text": [
      "AABW 580 0.14890885750962773\n",
      "MCDW 816 0.20949935815147624\n",
      "ISW 40 0.010269576379974325\n",
      "AASW 478 0.12272143774069319\n",
      "WW 47 0.012066752246469832\n",
      "mSW 12 0.0030808729139922978\n",
      "beached 1 0.00025673940949935817\n"
     ]
    }
   ],
   "source": [
    "y2 = 70080\n",
    "y4 = 140160\n",
    "y4_5 = 35040\n",
    "arr = ds.categorized[y4_5]\n",
    "unique_values, counts = np.unique(arr, return_counts=True)\n",
    "names = ['AABW', 'MCDW', 'ISW', 'DSW', 'AASW', 'WW', 'mSW','beached']\n",
    "beached = 0\n",
    "for i,j in zip(unique_values,counts):\n",
    "    if np.isnan(i):\n",
    "        beached += 1\n",
    "    else:\n",
    "        print(names[int(i)],j,(j/3895))\n",
    "print(\"beached\",beached,beached/3895)"
   ]
  },
  {
   "cell_type": "markdown",
   "id": "b99c6406-4ec0-4395-91fe-e942ad321987",
   "metadata": {},
   "source": [
    "# do the clustering for these"
   ]
  },
  {
   "cell_type": "code",
   "execution_count": null,
   "id": "0efcf52e-23b7-403c-b3ae-4c709d4e5d91",
   "metadata": {},
   "outputs": [],
   "source": []
  }
 ],
 "metadata": {
  "kernelspec": {
   "display_name": "py38",
   "language": "python",
   "name": "py38"
  },
  "language_info": {
   "codemirror_mode": {
    "name": "ipython",
    "version": 3
   },
   "file_extension": ".py",
   "mimetype": "text/x-python",
   "name": "python",
   "nbconvert_exporter": "python",
   "pygments_lexer": "ipython3",
   "version": "3.8.18"
  }
 },
 "nbformat": 4,
 "nbformat_minor": 5
}
