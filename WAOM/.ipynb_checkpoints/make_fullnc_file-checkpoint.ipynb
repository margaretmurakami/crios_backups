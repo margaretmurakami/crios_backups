{
 "cells": [
  {
   "cell_type": "markdown",
   "id": "441f3db7-670e-45ab-9061-bfaae835b46f",
   "metadata": {},
   "source": [
    "# intro\n",
    "\n",
    "We have three files:\n",
    "- \"/scratch/mmurakami/WAOM/ds_2years.nc\" (the first two years as a dataset)\n",
    "- \"/scratch/mmurakami/WAOM/padded_ds_fillna.npz\" (the final 4 years with the last bit removed to match the first)\n",
    "- times (the number of nan values at the start of each array"
   ]
  },
  {
   "cell_type": "code",
   "execution_count": 1,
   "id": "c2cdeff2-ee12-48da-85ab-9921030f8711",
   "metadata": {},
   "outputs": [],
   "source": [
    "# load the packages\n",
    "import numpy as np\n",
    "import matplotlib.pyplot as plt\n",
    "import xarray as xr\n",
    "import netCDF4 as nc\n",
    "import gsw\n",
    "import os"
   ]
  },
  {
   "cell_type": "code",
   "execution_count": 7,
   "id": "bc958da0-a8ed-49e0-9841-83b28461699b",
   "metadata": {},
   "outputs": [],
   "source": [
    "path = \"/scratch/mmurakami/WAOM/\"\n",
    "\n",
    "filename = path + \"ds_2years.nc\"\n",
    "ds1 = xr.open_dataset(filename)"
   ]
  },
  {
   "cell_type": "code",
   "execution_count": 8,
   "id": "cfb45628-a249-4f3a-a37c-577ecbbb49a3",
   "metadata": {},
   "outputs": [],
   "source": [
    "filename = path + \"ds_2years_depth.nc\"\n",
    "dsd1 = xr.open_dataset(filename)"
   ]
  },
  {
   "cell_type": "code",
   "execution_count": 9,
   "id": "a9f06a13-0983-40b9-a966-f9c8d89f36e8",
   "metadata": {},
   "outputs": [],
   "source": [
    "filename = path + \"ds_4years.nc\"\n",
    "ds2 = xr.open_dataset(filename)"
   ]
  },
  {
   "cell_type": "code",
   "execution_count": 10,
   "id": "404e3a08-a5b3-4a39-b648-eb5d2c78e0fe",
   "metadata": {},
   "outputs": [],
   "source": [
    "filename = path + \"ds_4years_depth.nc\"\n",
    "dsd2 = xr.open_dataset(filename)"
   ]
  },
  {
   "cell_type": "code",
   "execution_count": 11,
   "id": "2d06034f-636f-48c7-bf9c-a315bf6621c6",
   "metadata": {},
   "outputs": [],
   "source": [
    "times = np.loadtxt(\"times.txt\")\n",
    "max_time = max(times)\n",
    "num_nans = max_time - times"
   ]
  },
  {
   "cell_type": "code",
   "execution_count": 12,
   "id": "52869bfb-6ea3-4db9-9c9d-fc3cf14cb435",
   "metadata": {},
   "outputs": [],
   "source": [
    "num_nans = num_nans.astype(int)"
   ]
  },
  {
   "cell_type": "markdown",
   "id": "da089328-35f8-4ae1-884d-980f89c1122b",
   "metadata": {},
   "source": [
    "# try a new approach to concatanation"
   ]
  },
  {
   "cell_type": "code",
   "execution_count": 13,
   "id": "15db8e03-6472-4ca5-83c0-30092b1fa719",
   "metadata": {},
   "outputs": [],
   "source": [
    "xgrid1 = ds1.Xgrid.values\n",
    "ygrid1 = ds1.Ygrid.values\n",
    "zgrid1 = ds1.Zgrid.values\n",
    "rho1 = ds1.rho.values\n",
    "salt1 = ds1.salt.values\n",
    "temp1 = ds1.temp.values\n",
    "depth1 = dsd.depth.values"
   ]
  },
  {
   "cell_type": "code",
   "execution_count": 14,
   "id": "e01ee0b0-bbb0-4763-ae35-d46ea56c62e6",
   "metadata": {},
   "outputs": [],
   "source": [
    "xgrid2 = ds2.Xgrid.values[11:]\n",
    "ygrid2 = ds2.Ygrid.values[11:]\n",
    "zgrid2 = ds2.Zgrid.values[11:]\n",
    "rho2 = ds2.rho.values[11:]\n",
    "salt2 = ds2.salt.values[11:]\n",
    "temp2 = ds2.temp.values[11:]\n",
    "depth2 = dsd2.depth.values[11:]"
   ]
  },
  {
   "cell_type": "code",
   "execution_count": 15,
   "id": "74667dc1-de85-451b-91af-dfc7605fbc8e",
   "metadata": {},
   "outputs": [],
   "source": [
    "# # Fill NaNs from the bottom\n",
    "# for col in range(xgrid2.shape[1]):  # Loop over columns\n",
    "#     xgrid2[-num_nans[col]:, col] = np.nan  # Fill last num_nans[col] elements with NaN\n",
    "\n",
    "# print(xgrid2)"
   ]
  },
  {
   "cell_type": "code",
   "execution_count": 16,
   "id": "79c23ee8-30ff-4225-9d0f-1e85842df844",
   "metadata": {},
   "outputs": [],
   "source": [
    "# Xgrid = np.vstack((xgrid1,xgrid2))"
   ]
  },
  {
   "cell_type": "code",
   "execution_count": 17,
   "id": "8699bd3d-6e59-47fe-98d9-12dcbe67dc38",
   "metadata": {},
   "outputs": [],
   "source": [
    "# # Count NaNs per column\n",
    "# num_nans2 = np.isnan(Xgrid).sum(axis=0)\n",
    "\n",
    "# print(num_nans2)\n",
    "\n",
    "# np.where(num_nans2 != 69227) # these are the ones that beached"
   ]
  },
  {
   "cell_type": "code",
   "execution_count": 18,
   "id": "2345a325-d80f-494d-98e4-ffe7e7c3c007",
   "metadata": {},
   "outputs": [],
   "source": [
    "def move_nans_to_end(Xgrid):\n",
    "    # Get shape\n",
    "    m, n = Xgrid.shape  \n",
    "    result = np.full_like(Xgrid, np.nan)  # Initialize result with NaNs\n",
    "\n",
    "    for col in range(n):\n",
    "        non_nan_values = Xgrid[:, col][~np.isnan(Xgrid[:, col])]  # Extract non-NaN values\n",
    "        result[:len(non_nan_values), col] = non_nan_values  # Place them at the top\n",
    "\n",
    "    return result\n",
    "\n",
    "# Move NaNs to the end of each column\n",
    "# Xgrid_rearranged = move_nans_to_end(Xgrid)\n",
    "\n",
    "# print(Xgrid_rearranged)"
   ]
  },
  {
   "cell_type": "code",
   "execution_count": 19,
   "id": "1a4edfad-2e79-47d2-892d-5fa9c0646aa8",
   "metadata": {},
   "outputs": [],
   "source": [
    "del ds1, ds2"
   ]
  },
  {
   "cell_type": "markdown",
   "id": "e9ebdd54-45d7-4cef-b1b7-3f22291a362a",
   "metadata": {},
   "source": [
    "# great, now do for y grid and plot to see if we can do this"
   ]
  },
  {
   "cell_type": "code",
   "execution_count": 20,
   "id": "cc1e9043-f876-44b4-af8a-5f207a14d8fc",
   "metadata": {},
   "outputs": [
    {
     "name": "stdout",
     "output_type": "stream",
     "text": [
      "Xgrid done\n",
      "Ygrid done\n"
     ]
    }
   ],
   "source": [
    "Xgrid = np.vstack((xgrid1,xgrid2))\n",
    "print(\"Xgrid done\")\n",
    "Ygrid = np.vstack((ygrid1,ygrid2))\n",
    "print(\"Ygrid done\")"
   ]
  },
  {
   "cell_type": "code",
   "execution_count": 21,
   "id": "d273c145-4d60-40f4-bb9b-c9d6868b1258",
   "metadata": {},
   "outputs": [
    {
     "name": "stdout",
     "output_type": "stream",
     "text": [
      "Zgrid done\n",
      "rho done\n",
      "salt done\n",
      "temp done\n"
     ]
    }
   ],
   "source": [
    "Zgrid = np.vstack((zgrid1,zgrid2))\n",
    "print(\"Zgrid done\")\n",
    "rho = np.vstack((rho1,rho2))\n",
    "print(\"rho done\")\n",
    "salt = np.vstack((salt1,salt2))\n",
    "print(\"salt done\")\n",
    "temp = np.vstack((temp1,temp2))\n",
    "print(\"temp done\")"
   ]
  },
  {
   "cell_type": "code",
   "execution_count": 22,
   "id": "24316bcc-6afc-48a4-9f89-382585231b39",
   "metadata": {},
   "outputs": [
    {
     "name": "stdout",
     "output_type": "stream",
     "text": [
      "depth done\n"
     ]
    }
   ],
   "source": [
    "depth = np.vstack((depth1,depth2))\n",
    "print(\"depth done\")"
   ]
  },
  {
   "cell_type": "code",
   "execution_count": 23,
   "id": "79eaf128-20d3-4ae5-bf57-e0911091f2d6",
   "metadata": {},
   "outputs": [],
   "source": [
    "Xgrid_rearranged = move_nans_to_end(Xgrid)\n",
    "Ygrid_rearranged = move_nans_to_end(Ygrid)"
   ]
  },
  {
   "cell_type": "code",
   "execution_count": 24,
   "id": "c098de84-c4ab-47a2-9876-cc4ad1085627",
   "metadata": {},
   "outputs": [],
   "source": [
    "del Xgrid,Ygrid"
   ]
  },
  {
   "cell_type": "code",
   "execution_count": 25,
   "id": "a236897f-5641-49d9-b4cc-658da9041f52",
   "metadata": {},
   "outputs": [],
   "source": [
    "del xgrid1,xgrid2,ygrid1,ygrid2"
   ]
  },
  {
   "cell_type": "code",
   "execution_count": 26,
   "id": "270e2efe-0e38-40c2-beba-e742a6f36aaa",
   "metadata": {},
   "outputs": [
    {
     "name": "stdout",
     "output_type": "stream",
     "text": [
      "Zgrid done\n",
      "rho done\n",
      "temp done\n",
      "salt done\n"
     ]
    }
   ],
   "source": [
    "Zgrid_rearranged = move_nans_to_end(Zgrid)\n",
    "print(\"Zgrid done\")\n",
    "del Zgrid,zgrid1,zgrid2\n",
    "\n",
    "rho_rearranged = move_nans_to_end(rho)\n",
    "print(\"rho done\")\n",
    "del rho,rho1,rho2\n",
    "\n",
    "temp_rearranged = move_nans_to_end(temp)\n",
    "print(\"temp done\")\n",
    "del temp,temp1,temp2\n",
    "\n",
    "salt_rearranged = move_nans_to_end(salt)\n",
    "print(\"salt done\")\n",
    "del salt,salt1,salt2\n"
   ]
  },
  {
   "cell_type": "code",
   "execution_count": 27,
   "id": "0fc0347a-8719-4c26-b3ea-aab13411ea92",
   "metadata": {},
   "outputs": [
    {
     "name": "stdout",
     "output_type": "stream",
     "text": [
      "depth done\n"
     ]
    }
   ],
   "source": [
    "depth_rearranged = move_nans_to_end(depth)\n",
    "print(\"depth done\")\n",
    "del depth,depth1,depth2"
   ]
  },
  {
   "cell_type": "code",
   "execution_count": 28,
   "id": "9e435310-554a-40ca-9a47-f88ce53caa10",
   "metadata": {},
   "outputs": [],
   "source": [
    "time_steps = Zgrid_rearranged.shape[0]"
   ]
  },
  {
   "cell_type": "code",
   "execution_count": 29,
   "id": "ffa13ce2-71b6-4cf1-9ca5-3efc687eb75e",
   "metadata": {},
   "outputs": [],
   "source": [
    "num_drifters = Zgrid_rearranged.shape[1]"
   ]
  },
  {
   "cell_type": "code",
   "execution_count": 30,
   "id": "45506d88-656e-4388-9a3b-33d79627f507",
   "metadata": {},
   "outputs": [],
   "source": [
    "# Define dimensions and create xarray Dataset\n",
    "ds = xr.Dataset(\n",
    "    {\n",
    "        \"Xgrid\": ([\"time\", \"drifter\"], Xgrid_rearranged),\n",
    "        \"Ygrid\": ([\"time\", \"drifter\"], Ygrid_rearranged),\n",
    "        \"Zgrid\": ([\"time\", \"drifter\"], Zgrid_rearranged),\n",
    "        \"rho\": ([\"time\", \"drifter\"], rho_rearranged),\n",
    "        \"temp\": ([\"time\", \"drifter\"], temp_rearranged),\n",
    "        \"salt\": ([\"time\", \"drifter\"], salt_rearranged),\n",
    "        \"depth\": ([\"time\", \"driftr\"], depth_rearranged),\n",
    "    },\n",
    "    coords={\n",
    "        \"time\": np.arange(time_steps),  # Replace with actual time values if available\n",
    "        \"drifter\": np.arange(num_drifters),\n",
    "    },\n",
    ")"
   ]
  },
  {
   "cell_type": "code",
   "execution_count": null,
   "id": "f6735d36-f9f0-4bc8-941a-cf5b7745a5ea",
   "metadata": {},
   "outputs": [],
   "source": [
    "# Save to a NetCDF file\n",
    "file_path = \"/scratch/mmurakami/WAOM/drifter_data_all_withdepth.nc\"\n",
    "ds.to_netcdf(file_path, mode=\"w\", format=\"NETCDF4\")\n",
    "print(f\"Saved to {file_path}\")"
   ]
  },
  {
   "cell_type": "code",
   "execution_count": null,
   "id": "3dfa4ed6-5d55-421e-a952-5bdd4289a7c3",
   "metadata": {},
   "outputs": [],
   "source": []
  },
  {
   "cell_type": "code",
   "execution_count": null,
   "id": "71558cf8-1cea-46ea-abd6-21e163b2297e",
   "metadata": {},
   "outputs": [],
   "source": []
  },
  {
   "cell_type": "markdown",
   "id": "2620ee7f-f967-4a4c-931f-080b4aee77c4",
   "metadata": {},
   "source": [
    "# extra playing around"
   ]
  },
  {
   "cell_type": "code",
   "execution_count": 71,
   "id": "4d4756ae-2d3b-4166-b36b-d3a3288e91b1",
   "metadata": {},
   "outputs": [
    {
     "data": {
      "text/plain": [
       "3895"
      ]
     },
     "execution_count": 71,
     "metadata": {},
     "output_type": "execute_result"
    }
   ],
   "source": [
    "num_drifters = Xgrid_rearranged.shape[1]\n",
    "num_drifters"
   ]
  },
  {
   "cell_type": "code",
   "execution_count": 109,
   "id": "d47a143b-1349-4c0a-8360-137282371403",
   "metadata": {},
   "outputs": [
    {
     "name": "stdout",
     "output_type": "stream",
     "text": [
      "[69227 79957 69227 ... 69227 69227 69227]\n"
     ]
    }
   ],
   "source": [
    "num_nans2 = np.isnan(Xgrid_rearranged).sum(axis=0)\n",
    "\n",
    "print(num_nans2)"
   ]
  },
  {
   "cell_type": "code",
   "execution_count": 126,
   "id": "2c36e461-c926-4878-9062-37fd98ac12a3",
   "metadata": {},
   "outputs": [
    {
     "data": {
      "image/png": "[encoded data removed]",
      "text/plain": [
       "<Figure size 800x600 with 1 Axes>"
      ]
     },
     "metadata": {},
     "output_type": "display_data"
    }
   ],
   "source": [
    "# Plot each drifter's trajectory\n",
    "plt.figure(figsize=(8, 6))\n",
    "cut = num_nans2[i]\n",
    "# for i in range(num_drifters[:10]):\n",
    "for i in range(2):\n",
    "    cut = np.sum(np.isnan(Xgrid_rearranged[:,i]) | (Xgrid_rearranged[:,i] == 0))\n",
    "    plt.plot(Xgrid_rearranged[:-cut, i], Ygrid_rearranged[:-cut, i], marker='.', linestyle='-', label=f'Drifter {i+1}')\n",
    "\n",
    "plt.xlabel(\"X Position\")\n",
    "plt.ylabel(\"Y Position\")\n",
    "plt.title(\"Drifter Trajectories in XY Space\")\n",
    "plt.ylim(400,600)\n",
    "plt.legend()\n",
    "plt.grid()\n",
    "plt.show()"
   ]
  }
 ],
 "metadata": {
  "kernelspec": {
   "display_name": "py38",
   "language": "python",
   "name": "py38"
  },
  "language_info": {
   "codemirror_mode": {
    "name": "ipython",
    "version": 3
   },
   "file_extension": ".py",
   "mimetype": "text/x-python",
   "name": "python",
   "nbconvert_exporter": "python",
   "pygments_lexer": "ipython3",
   "version": "3.8.18"
  }
 },
 "nbformat": 4,
 "nbformat_minor": 5
}
