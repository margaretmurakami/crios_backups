{
 "cells": [
  {
   "cell_type": "code",
   "execution_count": 1,
   "id": "cba81e70-c95a-4c9c-b933-3eb7f2d22207",
   "metadata": {},
   "outputs": [],
   "source": [
    "# import the packages\n",
    "import numpy as np\n",
    "import matplotlib.pyplot as plt\n",
    "import xarray as xr\n",
    "import netCDF4 as nc\n",
    "import gsw\n",
    "import shapely.geometry as sg\n",
    "from shapely import Point\n"
   ]
  },
  {
   "cell_type": "code",
   "execution_count": 2,
   "id": "d561d7b5-86d5-4958-b7af-090ff8de06fe",
   "metadata": {},
   "outputs": [],
   "source": [
    "filename = \"/scratch/mmurakami/WAOM/categorized.nc\"\n",
    "ds = xr.load_dataset(filename)"
   ]
  },
  {
   "cell_type": "code",
   "execution_count": 8,
   "id": "c1f1b6eb-eb4b-4326-bff0-c9ed33284f27",
   "metadata": {},
   "outputs": [
    {
     "data": {
      "text/plain": [
       "array([[4, 4, 4, ..., 1, 1, 4],\n",
       "       [4, 4, 4, ..., 1, 1, 4],\n",
       "       [4, 4, 4, ..., 1, 1, 4],\n",
       "       ...,\n",
       "       [4, 4, 4, ..., 1, 1, 4],\n",
       "       [4, 4, 4, ..., 1, 1, 4],\n",
       "       [4, 4, 4, ..., 1, 1, 4]], dtype=int32)"
      ]
     },
     "execution_count": 8,
     "metadata": {},
     "output_type": "execute_result"
    }
   ],
   "source": [
    "ds.categorized.values[:10]"
   ]
  },
  {
   "cell_type": "code",
   "execution_count": null,
   "id": "72f03a11-061f-4b7c-a2f0-9c61b4e20a9e",
   "metadata": {},
   "outputs": [],
   "source": []
  },
  {
   "cell_type": "code",
   "execution_count": null,
   "id": "0a8e2ff6-5691-4107-8412-6e73b322591f",
   "metadata": {},
   "outputs": [],
   "source": []
  }
 ],
 "metadata": {
  "kernelspec": {
   "display_name": "py38",
   "language": "python",
   "name": "py38"
  },
  "language_info": {
   "codemirror_mode": {
    "name": "ipython",
    "version": 3
   },
   "file_extension": ".py",
   "mimetype": "text/x-python",
   "name": "python",
   "nbconvert_exporter": "python",
   "pygments_lexer": "ipython3",
   "version": "3.8.18"
  }
 },
 "nbformat": 4,
 "nbformat_minor": 5
}
