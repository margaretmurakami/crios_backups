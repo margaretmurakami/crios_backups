{
 "cells": [
  {
   "cell_type": "code",
   "execution_count": 1,
   "id": "2274d27d-6b36-4fd7-9ea8-47c889dc2919",
   "metadata": {},
   "outputs": [],
   "source": [
    "# Do not modify import block, all necessary imports are included\n",
    "# Our regular libraries\n",
    "import pandas as pd\n",
    "import numpy as np\n",
    "import matplotlib.pyplot as plt\n",
    "import matplotlib.cm as cm\n",
    "import xarray as xr\n",
    "%matplotlib inline\n",
    "\n",
    "# This is for our hierarchical clustering\n",
    "from scipy.cluster.hierarchy import dendrogram, linkage, cophenet\n",
    "from scipy.spatial.distance import pdist\n",
    "from scipy.spatial.distance import squareform\n",
    "from scipy.cluster.hierarchy import fcluster\n",
    "\n",
    "# For our k-means clustering\n",
    "from sklearn.cluster import KMeans\n",
    "from sklearn.metrics import silhouette_samples\n",
    "from sklearn import datasets\n",
    "import random\n",
    "\n",
    "# for plotting\n",
    "import cartopy.crs as ccrs\n",
    "import cartopy.feature as cfeature\n",
    "\n",
    "# this is for density plotting\n",
    "from matplotlib import colorbar, colors\n",
    "import matplotlib as mpl\n",
    "from matplotlib.colors import ListedColormap, LinearSegmentedColormap\n",
    "# import gsw\n",
    "import math\n",
    "\n",
    "# for the polygon intersections\n",
    "import shapely.geometry as sg\n",
    "\n",
    "# for plotting\n",
    "import time\n",
    "import warnings\n",
    "warnings.filterwarnings('ignore')\n",
    "\n",
    "#import \"/scratch/project_2000789/muramarg/miniconda3/lib/python3.10/site-packages/gsw\"\n",
    "import sys\n",
    " \n",
    "# appending a path\n",
    "# sys.path.append('/scratch/project_2000789/muramarg/miniconda3/lib/python3.10/site-packages/')\n",
    " \n",
    "# importing required module\n",
    "import gsw\n",
    "\n",
    "from scipy.interpolate import interpn"
   ]
  },
  {
   "cell_type": "code",
   "execution_count": 4,
   "id": "1035139e-d235-4d6f-9729-6b7ac48aea64",
   "metadata": {},
   "outputs": [],
   "source": [
    "import netCDF4 as nc"
   ]
  },
  {
   "cell_type": "markdown",
   "id": "f920819e-76ff-4173-9656-bf18c46cd004",
   "metadata": {},
   "source": [
    "## import the files we need"
   ]
  },
  {
   "cell_type": "code",
   "execution_count": 5,
   "id": "e2c068e5-53e3-4315-b0f7-97f51a5a0476",
   "metadata": {},
   "outputs": [
    {
     "name": "stdout",
     "output_type": "stream",
     "text": [
      "dict_keys(['drifter_label'])\n",
      "Loaded drifter labels: ['mackenzie' 'mackenzie' 'mackenzie' ... 'other' 'other' 'other']\n"
     ]
    }
   ],
   "source": [
    "ds = xr.open_dataset(\"/scratch/mmurakami/WAOM/rearranged_output.nc\")\n",
    "weeks = np.loadtxt(\"weeks_released.txt\")\n",
    "# Open the file\n",
    "with nc.Dataset('drifter_labels.nc', 'r') as ds:\n",
    "    # Check the variable names\n",
    "    print(ds.variables.keys())  # likely: 'drifter_label'\n",
    "\n",
    "    # Read the variable\n",
    "    drifter_labels = ds.variables['drifter_label'][:]\n",
    "\n",
    "print(\"Loaded drifter labels:\", drifter_labels)"
   ]
  },
  {
   "cell_type": "code",
   "execution_count": null,
   "id": "8cbf532f-209b-44ad-97bd-48c22d6ca31a",
   "metadata": {},
   "outputs": [],
   "source": []
  }
 ],
 "metadata": {
  "kernelspec": {
   "display_name": "py38",
   "language": "python",
   "name": "py38"
  },
  "language_info": {
   "codemirror_mode": {
    "name": "ipython",
    "version": 3
   },
   "file_extension": ".py",
   "mimetype": "text/x-python",
   "name": "python",
   "nbconvert_exporter": "python",
   "pygments_lexer": "ipython3",
   "version": "3.8.18"
  }
 },
 "nbformat": 4,
 "nbformat_minor": 5
}
