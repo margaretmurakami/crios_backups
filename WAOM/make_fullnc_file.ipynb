{
 "cells": [
  {
   "cell_type": "markdown",
   "id": "441f3db7-670e-45ab-9061-bfaae835b46f",
   "metadata": {},
   "source": [
    "# intro\n",
    "\n",
    "We have three files:\n",
    "- \"/scratch/mmurakami/WAOM/ds_2years.nc\" (the first two years as a dataset)\n",
    "- \"/scratch/mmurakami/WAOM/padded_ds_fillna.npz\" (the final 4 years with the last bit removed to match the first)\n",
    "- times (the number of nan values at the start of each array"
   ]
  },
  {
   "cell_type": "code",
   "execution_count": 1,
   "id": "c2cdeff2-ee12-48da-85ab-9921030f8711",
   "metadata": {},
   "outputs": [],
   "source": [
    "# load the packages\n",
    "import numpy as np\n",
    "import matplotlib.pyplot as plt\n",
    "import xarray as xr\n",
    "import netCDF4 as nc\n",
    "import gsw\n",
    "import os"
   ]
  },
  {
   "cell_type": "code",
   "execution_count": 3,
   "id": "bc958da0-a8ed-49e0-9841-83b28461699b",
   "metadata": {},
   "outputs": [],
   "source": [
    "path = \"/scratch/mmurakami/WAOM/\"\n",
    "\n",
    "filename = path + \"ds_2years.nc\"\n",
    "ds1 = xr.open_dataset(filename)"
   ]
  },
  {
   "cell_type": "code",
   "execution_count": 6,
   "id": "65ded4fc-9e29-4b37-9a26-c7c023dfbbc4",
   "metadata": {},
   "outputs": [
    {
     "data": {
      "text/html": [
       "<div><svg style=\"position: absolute; width: 0; height: 0; overflow: hidden\">\n",
       "<defs>\n",
       "<symbol id=\"icon-database\" viewBox=\"0 0 32 32\">\n",
       "<path d=\"M16 0c-8.837 0-16 2.239-16 5v4c0 2.761 7.163 5 16 5s16-2.239 16-5v-4c0-2.761-7.163-5-16-5z\"></path>\n",
       "<path d=\"M16 17c-8.837 0-16-2.239-16-5v6c0 2.761 7.163 5 16 5s16-2.239 16-5v-6c0 2.761-7.163 5-16 5z\"></path>\n",
       "<path d=\"M16 26c-8.837 0-16-2.239-16-5v6c0 2.761 7.163 5 16 5s16-2.239 16-5v-6c0 2.761-7.163 5-16 5z\"></path>\n",
       "</symbol>\n",
       "<symbol id=\"icon-file-text2\" viewBox=\"0 0 32 32\">\n",
       "<path d=\"M28.681 7.159c-0.694-0.947-1.662-2.053-2.724-3.116s-2.169-2.030-3.116-2.724c-1.612-1.182-2.393-1.319-2.841-1.319h-15.5c-1.378 0-2.5 1.121-2.5 2.5v27c0 1.378 1.122 2.5 2.5 2.5h23c1.378 0 2.5-1.122 2.5-2.5v-19.5c0-0.448-0.137-1.23-1.319-2.841zM24.543 5.457c0.959 0.959 1.712 1.825 2.268 2.543h-4.811v-4.811c0.718 0.556 1.584 1.309 2.543 2.268zM28 29.5c0 0.271-0.229 0.5-0.5 0.5h-23c-0.271 0-0.5-0.229-0.5-0.5v-27c0-0.271 0.229-0.5 0.5-0.5 0 0 15.499-0 15.5 0v7c0 0.552 0.448 1 1 1h7v19.5z\"></path>\n",
       "<path d=\"M23 26h-14c-0.552 0-1-0.448-1-1s0.448-1 1-1h14c0.552 0 1 0.448 1 1s-0.448 1-1 1z\"></path>\n",
       "<path d=\"M23 22h-14c-0.552 0-1-0.448-1-1s0.448-1 1-1h14c0.552 0 1 0.448 1 1s-0.448 1-1 1z\"></path>\n",
       "<path d=\"M23 18h-14c-0.552 0-1-0.448-1-1s0.448-1 1-1h14c0.552 0 1 0.448 1 1s-0.448 1-1 1z\"></path>\n",
       "</symbol>\n",
       "</defs>\n",
       "</svg>\n",
       "<style>/* CSS stylesheet for displaying xarray objects in jupyterlab.\n",
       " *\n",
       " */\n",
       "\n",
       ":root {\n",
       "  --xr-font-color0: var(--jp-content-font-color0, rgba(0, 0, 0, 1));\n",
       "  --xr-font-color2: var(--jp-content-font-color2, rgba(0, 0, 0, 0.54));\n",
       "  --xr-font-color3: var(--jp-content-font-color3, rgba(0, 0, 0, 0.38));\n",
       "  --xr-border-color: var(--jp-border-color2, #e0e0e0);\n",
       "  --xr-disabled-color: var(--jp-layout-color3, #bdbdbd);\n",
       "  --xr-background-color: var(--jp-layout-color0, white);\n",
       "  --xr-background-color-row-even: var(--jp-layout-color1, white);\n",
       "  --xr-background-color-row-odd: var(--jp-layout-color2, #eeeeee);\n",
       "}\n",
       "\n",
       "html[theme=dark],\n",
       "body[data-theme=dark],\n",
       "body.vscode-dark {\n",
       "  --xr-font-color0: rgba(255, 255, 255, 1);\n",
       "  --xr-font-color2: rgba(255, 255, 255, 0.54);\n",
       "  --xr-font-color3: rgba(255, 255, 255, 0.38);\n",
       "  --xr-border-color: #1F1F1F;\n",
       "  --xr-disabled-color: #515151;\n",
       "  --xr-background-color: #111111;\n",
       "  --xr-background-color-row-even: #111111;\n",
       "  --xr-background-color-row-odd: #313131;\n",
       "}\n",
       "\n",
       ".xr-wrap {\n",
       "  display: block !important;\n",
       "  min-width: 300px;\n",
       "  max-width: 700px;\n",
       "}\n",
       "\n",
       ".xr-text-repr-fallback {\n",
       "  /* fallback to plain text repr when CSS is not injected (untrusted notebook) */\n",
       "  display: none;\n",
       "}\n",
       "\n",
       ".xr-header {\n",
       "  padding-top: 6px;\n",
       "  padding-bottom: 6px;\n",
       "  margin-bottom: 4px;\n",
       "  border-bottom: solid 1px var(--xr-border-color);\n",
       "}\n",
       "\n",
       ".xr-header > div,\n",
       ".xr-header > ul {\n",
       "  display: inline;\n",
       "  margin-top: 0;\n",
       "  margin-bottom: 0;\n",
       "}\n",
       "\n",
       ".xr-obj-type,\n",
       ".xr-array-name {\n",
       "  margin-left: 2px;\n",
       "  margin-right: 10px;\n",
       "}\n",
       "\n",
       ".xr-obj-type {\n",
       "  color: var(--xr-font-color2);\n",
       "}\n",
       "\n",
       ".xr-sections {\n",
       "  padding-left: 0 !important;\n",
       "  display: grid;\n",
       "  grid-template-columns: 150px auto auto 1fr 20px 20px;\n",
       "}\n",
       "\n",
       ".xr-section-item {\n",
       "  display: contents;\n",
       "}\n",
       "\n",
       ".xr-section-item input {\n",
       "  display: none;\n",
       "}\n",
       "\n",
       ".xr-section-item input + label {\n",
       "  color: var(--xr-disabled-color);\n",
       "}\n",
       "\n",
       ".xr-section-item input:enabled + label {\n",
       "  cursor: pointer;\n",
       "  color: var(--xr-font-color2);\n",
       "}\n",
       "\n",
       ".xr-section-item input:enabled + label:hover {\n",
       "  color: var(--xr-font-color0);\n",
       "}\n",
       "\n",
       ".xr-section-summary {\n",
       "  grid-column: 1;\n",
       "  color: var(--xr-font-color2);\n",
       "  font-weight: 500;\n",
       "}\n",
       "\n",
       ".xr-section-summary > span {\n",
       "  display: inline-block;\n",
       "  padding-left: 0.5em;\n",
       "}\n",
       "\n",
       ".xr-section-summary-in:disabled + label {\n",
       "  color: var(--xr-font-color2);\n",
       "}\n",
       "\n",
       ".xr-section-summary-in + label:before {\n",
       "  display: inline-block;\n",
       "  content: '►';\n",
       "  font-size: 11px;\n",
       "  width: 15px;\n",
       "  text-align: center;\n",
       "}\n",
       "\n",
       ".xr-section-summary-in:disabled + label:before {\n",
       "  color: var(--xr-disabled-color);\n",
       "}\n",
       "\n",
       ".xr-section-summary-in:checked + label:before {\n",
       "  content: '▼';\n",
       "}\n",
       "\n",
       ".xr-section-summary-in:checked + label > span {\n",
       "  display: none;\n",
       "}\n",
       "\n",
       ".xr-section-summary,\n",
       ".xr-section-inline-details {\n",
       "  padding-top: 4px;\n",
       "  padding-bottom: 4px;\n",
       "}\n",
       "\n",
       ".xr-section-inline-details {\n",
       "  grid-column: 2 / -1;\n",
       "}\n",
       "\n",
       ".xr-section-details {\n",
       "  display: none;\n",
       "  grid-column: 1 / -1;\n",
       "  margin-bottom: 5px;\n",
       "}\n",
       "\n",
       ".xr-section-summary-in:checked ~ .xr-section-details {\n",
       "  display: contents;\n",
       "}\n",
       "\n",
       ".xr-array-wrap {\n",
       "  grid-column: 1 / -1;\n",
       "  display: grid;\n",
       "  grid-template-columns: 20px auto;\n",
       "}\n",
       "\n",
       ".xr-array-wrap > label {\n",
       "  grid-column: 1;\n",
       "  vertical-align: top;\n",
       "}\n",
       "\n",
       ".xr-preview {\n",
       "  color: var(--xr-font-color3);\n",
       "}\n",
       "\n",
       ".xr-array-preview,\n",
       ".xr-array-data {\n",
       "  padding: 0 5px !important;\n",
       "  grid-column: 2;\n",
       "}\n",
       "\n",
       ".xr-array-data,\n",
       ".xr-array-in:checked ~ .xr-array-preview {\n",
       "  display: none;\n",
       "}\n",
       "\n",
       ".xr-array-in:checked ~ .xr-array-data,\n",
       ".xr-array-preview {\n",
       "  display: inline-block;\n",
       "}\n",
       "\n",
       ".xr-dim-list {\n",
       "  display: inline-block !important;\n",
       "  list-style: none;\n",
       "  padding: 0 !important;\n",
       "  margin: 0;\n",
       "}\n",
       "\n",
       ".xr-dim-list li {\n",
       "  display: inline-block;\n",
       "  padding: 0;\n",
       "  margin: 0;\n",
       "}\n",
       "\n",
       ".xr-dim-list:before {\n",
       "  content: '(';\n",
       "}\n",
       "\n",
       ".xr-dim-list:after {\n",
       "  content: ')';\n",
       "}\n",
       "\n",
       ".xr-dim-list li:not(:last-child):after {\n",
       "  content: ',';\n",
       "  padding-right: 5px;\n",
       "}\n",
       "\n",
       ".xr-has-index {\n",
       "  font-weight: bold;\n",
       "}\n",
       "\n",
       ".xr-var-list,\n",
       ".xr-var-item {\n",
       "  display: contents;\n",
       "}\n",
       "\n",
       ".xr-var-item > div,\n",
       ".xr-var-item label,\n",
       ".xr-var-item > .xr-var-name span {\n",
       "  background-color: var(--xr-background-color-row-even);\n",
       "  margin-bottom: 0;\n",
       "}\n",
       "\n",
       ".xr-var-item > .xr-var-name:hover span {\n",
       "  padding-right: 5px;\n",
       "}\n",
       "\n",
       ".xr-var-list > li:nth-child(odd) > div,\n",
       ".xr-var-list > li:nth-child(odd) > label,\n",
       ".xr-var-list > li:nth-child(odd) > .xr-var-name span {\n",
       "  background-color: var(--xr-background-color-row-odd);\n",
       "}\n",
       "\n",
       ".xr-var-name {\n",
       "  grid-column: 1;\n",
       "}\n",
       "\n",
       ".xr-var-dims {\n",
       "  grid-column: 2;\n",
       "}\n",
       "\n",
       ".xr-var-dtype {\n",
       "  grid-column: 3;\n",
       "  text-align: right;\n",
       "  color: var(--xr-font-color2);\n",
       "}\n",
       "\n",
       ".xr-var-preview {\n",
       "  grid-column: 4;\n",
       "}\n",
       "\n",
       ".xr-index-preview {\n",
       "  grid-column: 2 / 5;\n",
       "  color: var(--xr-font-color2);\n",
       "}\n",
       "\n",
       ".xr-var-name,\n",
       ".xr-var-dims,\n",
       ".xr-var-dtype,\n",
       ".xr-preview,\n",
       ".xr-attrs dt {\n",
       "  white-space: nowrap;\n",
       "  overflow: hidden;\n",
       "  text-overflow: ellipsis;\n",
       "  padding-right: 10px;\n",
       "}\n",
       "\n",
       ".xr-var-name:hover,\n",
       ".xr-var-dims:hover,\n",
       ".xr-var-dtype:hover,\n",
       ".xr-attrs dt:hover {\n",
       "  overflow: visible;\n",
       "  width: auto;\n",
       "  z-index: 1;\n",
       "}\n",
       "\n",
       ".xr-var-attrs,\n",
       ".xr-var-data,\n",
       ".xr-index-data {\n",
       "  display: none;\n",
       "  background-color: var(--xr-background-color) !important;\n",
       "  padding-bottom: 5px !important;\n",
       "}\n",
       "\n",
       ".xr-var-attrs-in:checked ~ .xr-var-attrs,\n",
       ".xr-var-data-in:checked ~ .xr-var-data,\n",
       ".xr-index-data-in:checked ~ .xr-index-data {\n",
       "  display: block;\n",
       "}\n",
       "\n",
       ".xr-var-data > table {\n",
       "  float: right;\n",
       "}\n",
       "\n",
       ".xr-var-name span,\n",
       ".xr-var-data,\n",
       ".xr-index-name div,\n",
       ".xr-index-data,\n",
       ".xr-attrs {\n",
       "  padding-left: 25px !important;\n",
       "}\n",
       "\n",
       ".xr-attrs,\n",
       ".xr-var-attrs,\n",
       ".xr-var-data,\n",
       ".xr-index-data {\n",
       "  grid-column: 1 / -1;\n",
       "}\n",
       "\n",
       "dl.xr-attrs {\n",
       "  padding: 0;\n",
       "  margin: 0;\n",
       "  display: grid;\n",
       "  grid-template-columns: 125px auto;\n",
       "}\n",
       "\n",
       ".xr-attrs dt,\n",
       ".xr-attrs dd {\n",
       "  padding: 0;\n",
       "  margin: 0;\n",
       "  float: left;\n",
       "  padding-right: 10px;\n",
       "  width: auto;\n",
       "}\n",
       "\n",
       ".xr-attrs dt {\n",
       "  font-weight: normal;\n",
       "  grid-column: 1;\n",
       "}\n",
       "\n",
       ".xr-attrs dt:hover span {\n",
       "  display: inline-block;\n",
       "  background: var(--xr-background-color);\n",
       "  padding-right: 10px;\n",
       "}\n",
       "\n",
       ".xr-attrs dd {\n",
       "  grid-column: 2;\n",
       "  white-space: pre-wrap;\n",
       "  word-break: break-all;\n",
       "}\n",
       "\n",
       ".xr-icon-database,\n",
       ".xr-icon-file-text2,\n",
       ".xr-no-icon {\n",
       "  display: inline-block;\n",
       "  vertical-align: middle;\n",
       "  width: 1em;\n",
       "  height: 1.5em !important;\n",
       "  stroke-width: 0;\n",
       "  stroke: currentColor;\n",
       "  fill: currentColor;\n",
       "}\n",
       "</style><pre class='xr-text-repr-fallback'>&lt;xarray.Dataset&gt;\n",
       "Dimensions:     (ocean_time: 70081, drifter: 3895)\n",
       "Coordinates:\n",
       "  * ocean_time  (ocean_time) int64 0 1 2 3 4 5 ... 70076 70077 70078 70079 70080\n",
       "  * drifter     (drifter) int64 0 1 2 3 4 5 6 ... 3889 3890 3891 3892 3893 3894\n",
       "Data variables:\n",
       "    Xgrid       (ocean_time, drifter) float32 ...\n",
       "    Ygrid       (ocean_time, drifter) float32 ...\n",
       "    Zgrid       (ocean_time, drifter) float32 ...\n",
       "    rho         (ocean_time, drifter) float32 ...\n",
       "    salt        (ocean_time, drifter) float32 ...\n",
       "    temp        (ocean_time, drifter) float32 ...</pre><div class='xr-wrap' style='display:none'><div class='xr-header'><div class='xr-obj-type'>xarray.Dataset</div></div><ul class='xr-sections'><li class='xr-section-item'><input id='section-98999149-3599-4dc8-bffd-fa4143435d46' class='xr-section-summary-in' type='checkbox' disabled ><label for='section-98999149-3599-4dc8-bffd-fa4143435d46' class='xr-section-summary'  title='Expand/collapse section'>Dimensions:</label><div class='xr-section-inline-details'><ul class='xr-dim-list'><li><span class='xr-has-index'>ocean_time</span>: 70081</li><li><span class='xr-has-index'>drifter</span>: 3895</li></ul></div><div class='xr-section-details'></div></li><li class='xr-section-item'><input id='section-c0e017da-d574-4100-9112-3ad7619bb98c' class='xr-section-summary-in' type='checkbox'  checked><label for='section-c0e017da-d574-4100-9112-3ad7619bb98c' class='xr-section-summary' >Coordinates: <span>(2)</span></label><div class='xr-section-inline-details'></div><div class='xr-section-details'><ul class='xr-var-list'><li class='xr-var-item'><div class='xr-var-name'><span class='xr-has-index'>ocean_time</span></div><div class='xr-var-dims'>(ocean_time)</div><div class='xr-var-dtype'>int64</div><div class='xr-var-preview xr-preview'>0 1 2 3 ... 70077 70078 70079 70080</div><input id='attrs-89a80cad-601c-4cc9-874e-f49711cfa330' class='xr-var-attrs-in' type='checkbox' disabled><label for='attrs-89a80cad-601c-4cc9-874e-f49711cfa330' title='Show/Hide attributes'><svg class='icon xr-icon-file-text2'><use xlink:href='#icon-file-text2'></use></svg></label><input id='data-32562e5e-67e4-4052-a418-f00aef0b9143' class='xr-var-data-in' type='checkbox'><label for='data-32562e5e-67e4-4052-a418-f00aef0b9143' title='Show/Hide data repr'><svg class='icon xr-icon-database'><use xlink:href='#icon-database'></use></svg></label><div class='xr-var-attrs'><dl class='xr-attrs'></dl></div><div class='xr-var-data'><pre>array([    0,     1,     2, ..., 70078, 70079, 70080])</pre></div></li><li class='xr-var-item'><div class='xr-var-name'><span class='xr-has-index'>drifter</span></div><div class='xr-var-dims'>(drifter)</div><div class='xr-var-dtype'>int64</div><div class='xr-var-preview xr-preview'>0 1 2 3 4 ... 3891 3892 3893 3894</div><input id='attrs-f3616d0e-d3c1-4ca8-bb16-793e6398f769' class='xr-var-attrs-in' type='checkbox' disabled><label for='attrs-f3616d0e-d3c1-4ca8-bb16-793e6398f769' title='Show/Hide attributes'><svg class='icon xr-icon-file-text2'><use xlink:href='#icon-file-text2'></use></svg></label><input id='data-1ab6d7b0-47b5-4d18-8ce0-ec668e3922c6' class='xr-var-data-in' type='checkbox'><label for='data-1ab6d7b0-47b5-4d18-8ce0-ec668e3922c6' title='Show/Hide data repr'><svg class='icon xr-icon-database'><use xlink:href='#icon-database'></use></svg></label><div class='xr-var-attrs'><dl class='xr-attrs'></dl></div><div class='xr-var-data'><pre>array([   0,    1,    2, ..., 3892, 3893, 3894])</pre></div></li></ul></div></li><li class='xr-section-item'><input id='section-99d2471a-c92a-42ff-a852-c3e35250b116' class='xr-section-summary-in' type='checkbox'  checked><label for='section-99d2471a-c92a-42ff-a852-c3e35250b116' class='xr-section-summary' >Data variables: <span>(6)</span></label><div class='xr-section-inline-details'></div><div class='xr-section-details'><ul class='xr-var-list'><li class='xr-var-item'><div class='xr-var-name'><span>Xgrid</span></div><div class='xr-var-dims'>(ocean_time, drifter)</div><div class='xr-var-dtype'>float32</div><div class='xr-var-preview xr-preview'>...</div><input id='attrs-fac4ad4e-1628-4950-86f9-ef2da7c6f607' class='xr-var-attrs-in' type='checkbox' ><label for='attrs-fac4ad4e-1628-4950-86f9-ef2da7c6f607' title='Show/Hide attributes'><svg class='icon xr-icon-file-text2'><use xlink:href='#icon-file-text2'></use></svg></label><input id='data-d94306b2-efec-41bc-aec3-a8a67cee6cf9' class='xr-var-data-in' type='checkbox'><label for='data-d94306b2-efec-41bc-aec3-a8a67cee6cf9' title='Show/Hide data repr'><svg class='icon xr-icon-database'><use xlink:href='#icon-database'></use></svg></label><div class='xr-var-attrs'><dl class='xr-attrs'><dt><span>long_name :</span></dt><dd>x-grid floats locations</dd><dt><span>valid_min :</span></dt><dd>0.0</dd><dt><span>valid_max :</span></dt><dd>629.0</dd><dt><span>time :</span></dt><dd>ocean_time</dd><dt><span>field :</span></dt><dd>Xgrid, scalar, series</dd></dl></div><div class='xr-var-data'><pre>[272965495 values with dtype=float32]</pre></div></li><li class='xr-var-item'><div class='xr-var-name'><span>Ygrid</span></div><div class='xr-var-dims'>(ocean_time, drifter)</div><div class='xr-var-dtype'>float32</div><div class='xr-var-preview xr-preview'>...</div><input id='attrs-0d2890fc-6c18-444b-a738-7e7a473a8a21' class='xr-var-attrs-in' type='checkbox' ><label for='attrs-0d2890fc-6c18-444b-a738-7e7a473a8a21' title='Show/Hide attributes'><svg class='icon xr-icon-file-text2'><use xlink:href='#icon-file-text2'></use></svg></label><input id='data-67b1a346-2d57-4682-8c0d-096b5262754c' class='xr-var-data-in' type='checkbox'><label for='data-67b1a346-2d57-4682-8c0d-096b5262754c' title='Show/Hide data repr'><svg class='icon xr-icon-database'><use xlink:href='#icon-database'></use></svg></label><div class='xr-var-attrs'><dl class='xr-attrs'><dt><span>long_name :</span></dt><dd>Y-grid floats locations</dd><dt><span>valid_min :</span></dt><dd>0.0</dd><dt><span>valid_max :</span></dt><dd>559.0</dd><dt><span>time :</span></dt><dd>ocean_time</dd><dt><span>field :</span></dt><dd>Ygrid, scalar, series</dd></dl></div><div class='xr-var-data'><pre>[272965495 values with dtype=float32]</pre></div></li><li class='xr-var-item'><div class='xr-var-name'><span>Zgrid</span></div><div class='xr-var-dims'>(ocean_time, drifter)</div><div class='xr-var-dtype'>float32</div><div class='xr-var-preview xr-preview'>...</div><input id='attrs-f4515496-1774-4313-aa88-c5226f7b1f83' class='xr-var-attrs-in' type='checkbox' ><label for='attrs-f4515496-1774-4313-aa88-c5226f7b1f83' title='Show/Hide attributes'><svg class='icon xr-icon-file-text2'><use xlink:href='#icon-file-text2'></use></svg></label><input id='data-b95f90ae-a1af-4454-b6ea-6b1774406066' class='xr-var-data-in' type='checkbox'><label for='data-b95f90ae-a1af-4454-b6ea-6b1774406066' title='Show/Hide data repr'><svg class='icon xr-icon-database'><use xlink:href='#icon-database'></use></svg></label><div class='xr-var-attrs'><dl class='xr-attrs'><dt><span>long_name :</span></dt><dd>Z-grid floats locations</dd><dt><span>valid_min :</span></dt><dd>0.0</dd><dt><span>valid_max :</span></dt><dd>31.0</dd><dt><span>time :</span></dt><dd>ocean_time</dd><dt><span>field :</span></dt><dd>Zgrid, scalar, series</dd></dl></div><div class='xr-var-data'><pre>[272965495 values with dtype=float32]</pre></div></li><li class='xr-var-item'><div class='xr-var-name'><span>rho</span></div><div class='xr-var-dims'>(ocean_time, drifter)</div><div class='xr-var-dtype'>float32</div><div class='xr-var-preview xr-preview'>...</div><input id='attrs-0be9e1cc-2f44-410f-8f5c-d7719b801abd' class='xr-var-attrs-in' type='checkbox' ><label for='attrs-0be9e1cc-2f44-410f-8f5c-d7719b801abd' title='Show/Hide attributes'><svg class='icon xr-icon-file-text2'><use xlink:href='#icon-file-text2'></use></svg></label><input id='data-5b79ea04-8edd-4778-aff9-c549509f2b65' class='xr-var-data-in' type='checkbox'><label for='data-5b79ea04-8edd-4778-aff9-c549509f2b65' title='Show/Hide data repr'><svg class='icon xr-icon-database'><use xlink:href='#icon-database'></use></svg></label><div class='xr-var-attrs'><dl class='xr-attrs'><dt><span>long_name :</span></dt><dd>density anomaly</dd><dt><span>units :</span></dt><dd>kilogram meter-3</dd><dt><span>time :</span></dt><dd>ocean_time</dd><dt><span>field :</span></dt><dd>density, scalar, series</dd></dl></div><div class='xr-var-data'><pre>[272965495 values with dtype=float32]</pre></div></li><li class='xr-var-item'><div class='xr-var-name'><span>salt</span></div><div class='xr-var-dims'>(ocean_time, drifter)</div><div class='xr-var-dtype'>float32</div><div class='xr-var-preview xr-preview'>...</div><input id='attrs-2d9946e5-bd6c-4b68-b430-c3cef307bf05' class='xr-var-attrs-in' type='checkbox' ><label for='attrs-2d9946e5-bd6c-4b68-b430-c3cef307bf05' title='Show/Hide attributes'><svg class='icon xr-icon-file-text2'><use xlink:href='#icon-file-text2'></use></svg></label><input id='data-a095dd80-bb2e-41b2-a963-17f62378477a' class='xr-var-data-in' type='checkbox'><label for='data-a095dd80-bb2e-41b2-a963-17f62378477a' title='Show/Hide data repr'><svg class='icon xr-icon-database'><use xlink:href='#icon-database'></use></svg></label><div class='xr-var-attrs'><dl class='xr-attrs'><dt><span>long_name :</span></dt><dd>salinity</dd><dt><span>time :</span></dt><dd>ocean_time</dd><dt><span>field :</span></dt><dd>salinity, scalar, series</dd></dl></div><div class='xr-var-data'><pre>[272965495 values with dtype=float32]</pre></div></li><li class='xr-var-item'><div class='xr-var-name'><span>temp</span></div><div class='xr-var-dims'>(ocean_time, drifter)</div><div class='xr-var-dtype'>float32</div><div class='xr-var-preview xr-preview'>...</div><input id='attrs-c5552b21-c0f5-47cf-83df-4616b908ba03' class='xr-var-attrs-in' type='checkbox' ><label for='attrs-c5552b21-c0f5-47cf-83df-4616b908ba03' title='Show/Hide attributes'><svg class='icon xr-icon-file-text2'><use xlink:href='#icon-file-text2'></use></svg></label><input id='data-9e26a456-c2a3-4e2d-a06a-ba799718367f' class='xr-var-data-in' type='checkbox'><label for='data-9e26a456-c2a3-4e2d-a06a-ba799718367f' title='Show/Hide data repr'><svg class='icon xr-icon-database'><use xlink:href='#icon-database'></use></svg></label><div class='xr-var-attrs'><dl class='xr-attrs'><dt><span>long_name :</span></dt><dd>potential temperature</dd><dt><span>units :</span></dt><dd>Celsius</dd><dt><span>time :</span></dt><dd>ocean_time</dd><dt><span>field :</span></dt><dd>temperature, scalar, series</dd></dl></div><div class='xr-var-data'><pre>[272965495 values with dtype=float32]</pre></div></li></ul></div></li><li class='xr-section-item'><input id='section-ac3c3788-78a5-4eb5-bc6f-a94f9a4c96bf' class='xr-section-summary-in' type='checkbox'  ><label for='section-ac3c3788-78a5-4eb5-bc6f-a94f9a4c96bf' class='xr-section-summary' >Indexes: <span>(2)</span></label><div class='xr-section-inline-details'></div><div class='xr-section-details'><ul class='xr-var-list'><li class='xr-var-item'><div class='xr-index-name'><div>ocean_time</div></div><div class='xr-index-preview'>PandasIndex</div><div></div><input id='index-05622776-5722-4995-b16b-668a3b832d3a' class='xr-index-data-in' type='checkbox'/><label for='index-05622776-5722-4995-b16b-668a3b832d3a' title='Show/Hide index repr'><svg class='icon xr-icon-database'><use xlink:href='#icon-database'></use></svg></label><div class='xr-index-data'><pre>PandasIndex(Int64Index([    0,     1,     2,     3,     4,     5,     6,     7,     8,\n",
       "                9,\n",
       "            ...\n",
       "            70071, 70072, 70073, 70074, 70075, 70076, 70077, 70078, 70079,\n",
       "            70080],\n",
       "           dtype=&#x27;int64&#x27;, name=&#x27;ocean_time&#x27;, length=70081))</pre></div></li><li class='xr-var-item'><div class='xr-index-name'><div>drifter</div></div><div class='xr-index-preview'>PandasIndex</div><div></div><input id='index-d6bd2eb7-c24d-4be7-ba69-37d80c01d64f' class='xr-index-data-in' type='checkbox'/><label for='index-d6bd2eb7-c24d-4be7-ba69-37d80c01d64f' title='Show/Hide index repr'><svg class='icon xr-icon-database'><use xlink:href='#icon-database'></use></svg></label><div class='xr-index-data'><pre>PandasIndex(Int64Index([   0,    1,    2,    3,    4,    5,    6,    7,    8,    9,\n",
       "            ...\n",
       "            3885, 3886, 3887, 3888, 3889, 3890, 3891, 3892, 3893, 3894],\n",
       "           dtype=&#x27;int64&#x27;, name=&#x27;drifter&#x27;, length=3895))</pre></div></li></ul></div></li><li class='xr-section-item'><input id='section-79b2ba11-63d4-4243-9f6b-21bbe1419df7' class='xr-section-summary-in' type='checkbox' disabled ><label for='section-79b2ba11-63d4-4243-9f6b-21bbe1419df7' class='xr-section-summary'  title='Expand/collapse section'>Attributes: <span>(0)</span></label><div class='xr-section-inline-details'></div><div class='xr-section-details'><dl class='xr-attrs'></dl></div></li></ul></div></div>"
      ],
      "text/plain": [
       "<xarray.Dataset>\n",
       "Dimensions:     (ocean_time: 70081, drifter: 3895)\n",
       "Coordinates:\n",
       "  * ocean_time  (ocean_time) int64 0 1 2 3 4 5 ... 70076 70077 70078 70079 70080\n",
       "  * drifter     (drifter) int64 0 1 2 3 4 5 6 ... 3889 3890 3891 3892 3893 3894\n",
       "Data variables:\n",
       "    Xgrid       (ocean_time, drifter) float32 ...\n",
       "    Ygrid       (ocean_time, drifter) float32 ...\n",
       "    Zgrid       (ocean_time, drifter) float32 ...\n",
       "    rho         (ocean_time, drifter) float32 ...\n",
       "    salt        (ocean_time, drifter) float32 ...\n",
       "    temp        (ocean_time, drifter) float32 ..."
      ]
     },
     "execution_count": 6,
     "metadata": {},
     "output_type": "execute_result"
    }
   ],
   "source": [
    "ds1"
   ]
  },
  {
   "cell_type": "code",
   "execution_count": 7,
   "id": "f8ff619c-2b7b-48d2-bd0e-6610c79e666b",
   "metadata": {},
   "outputs": [
    {
     "data": {
      "text/plain": [
       "[<matplotlib.lines.Line2D at 0x153629c532e0>]"
      ]
     },
     "execution_count": 7,
     "metadata": {},
     "output_type": "execute_result"
    },
    {
     "data": {
      "image/png": "[encoded data removed]",
      "text/plain": [
       "<Figure size 640x480 with 1 Axes>"
      ]
     },
     "metadata": {},
     "output_type": "display_data"
    }
   ],
   "source": [
    "nan_counts = ds1.temp.isnull().sum(dim=\"ocean_time\")\n",
    "plt.plot(np.arange(1,3896,1),nan_counts.values)"
   ]
  },
  {
   "cell_type": "code",
   "execution_count": 8,
   "id": "cfb45628-a249-4f3a-a37c-577ecbbb49a3",
   "metadata": {},
   "outputs": [],
   "source": [
    "filename = path + \"ds_2years_depth.nc\"\n",
    "dsd1 = xr.open_dataset(filename)"
   ]
  },
  {
   "cell_type": "code",
   "execution_count": 9,
   "id": "a9f06a13-0983-40b9-a966-f9c8d89f36e8",
   "metadata": {},
   "outputs": [],
   "source": [
    "filename = path + \"ds_4years.nc\"\n",
    "ds2 = xr.open_dataset(filename)"
   ]
  },
  {
   "cell_type": "code",
   "execution_count": 10,
   "id": "404e3a08-a5b3-4a39-b648-eb5d2c78e0fe",
   "metadata": {},
   "outputs": [],
   "source": [
    "filename = path + \"ds_4years_depth.nc\"\n",
    "dsd2 = xr.open_dataset(filename)"
   ]
  },
  {
   "cell_type": "code",
   "execution_count": 11,
   "id": "2d06034f-636f-48c7-bf9c-a315bf6621c6",
   "metadata": {},
   "outputs": [],
   "source": [
    "times = np.loadtxt(\"times.txt\")\n",
    "max_time = max(times)\n",
    "num_nans = max_time - times"
   ]
  },
  {
   "cell_type": "code",
   "execution_count": 12,
   "id": "52869bfb-6ea3-4db9-9c9d-fc3cf14cb435",
   "metadata": {},
   "outputs": [],
   "source": [
    "num_nans = num_nans.astype(int)"
   ]
  },
  {
   "cell_type": "markdown",
   "id": "da089328-35f8-4ae1-884d-980f89c1122b",
   "metadata": {},
   "source": [
    "# try a new approach to concatanation"
   ]
  },
  {
   "cell_type": "code",
   "execution_count": 13,
   "id": "15db8e03-6472-4ca5-83c0-30092b1fa719",
   "metadata": {},
   "outputs": [],
   "source": [
    "xgrid1 = ds1.Xgrid.values\n",
    "ygrid1 = ds1.Ygrid.values\n",
    "zgrid1 = ds1.Zgrid.values\n",
    "rho1 = ds1.rho.values\n",
    "salt1 = ds1.salt.values\n",
    "temp1 = ds1.temp.values\n",
    "depth1 = dsd1.depth.values"
   ]
  },
  {
   "cell_type": "code",
   "execution_count": 14,
   "id": "e01ee0b0-bbb0-4763-ae35-d46ea56c62e6",
   "metadata": {},
   "outputs": [],
   "source": [
    "xgrid2 = ds2.Xgrid.values[11:]\n",
    "ygrid2 = ds2.Ygrid.values[11:]\n",
    "zgrid2 = ds2.Zgrid.values[11:]\n",
    "rho2 = ds2.rho.values[11:]\n",
    "salt2 = ds2.salt.values[11:]\n",
    "temp2 = ds2.temp.values[11:]\n",
    "depth2 = dsd2.depth.values[11:]"
   ]
  },
  {
   "cell_type": "code",
   "execution_count": 15,
   "id": "99fe0db9-dd49-4170-87de-9f898f75b5da",
   "metadata": {},
   "outputs": [
    {
     "data": {
      "text/plain": [
       "array([[        nan,         nan,         nan, ...,         nan,\n",
       "                nan,         nan],\n",
       "       [        nan,         nan,         nan, ...,         nan,\n",
       "                nan,         nan],\n",
       "       [        nan,         nan,         nan, ...,         nan,\n",
       "                nan,         nan],\n",
       "       ...,\n",
       "       [-217.95296 ,  -49.35628 , -143.34093 , ..., -243.40207 ,\n",
       "        -101.55715 , -195.10144 ],\n",
       "       [-217.9929  ,  -49.301525, -143.3347  , ..., -243.22562 ,\n",
       "        -101.53235 , -195.10208 ],\n",
       "       [-218.03345 ,  -49.24851 , -143.3337  , ..., -243.07152 ,\n",
       "        -101.50912 , -195.10643 ]], dtype=float32)"
      ]
     },
     "execution_count": 15,
     "metadata": {},
     "output_type": "execute_result"
    }
   ],
   "source": [
    "depth1"
   ]
  },
  {
   "cell_type": "code",
   "execution_count": 16,
   "id": "1d0db072-9f6e-4407-be4e-ffd137d4f393",
   "metadata": {},
   "outputs": [
    {
     "data": {
      "text/plain": [
       "(106794,)"
      ]
     },
     "execution_count": 16,
     "metadata": {},
     "output_type": "execute_result"
    }
   ],
   "source": [
    "test1 = xgrid2[:,0]\n",
    "test1a = test1[test1 != 0]\n",
    "test1a = test1a[~np.isnan(test1a)]\n",
    "test1a.shape"
   ]
  },
  {
   "cell_type": "code",
   "execution_count": 17,
   "id": "dd9d50f7-5c3e-484b-b70d-220f884079eb",
   "metadata": {},
   "outputs": [
    {
     "data": {
      "text/plain": [
       "(84142,)"
      ]
     },
     "execution_count": 17,
     "metadata": {},
     "output_type": "execute_result"
    }
   ],
   "source": [
    "test1 = xgrid2[:,2]\n",
    "test1a = test1[test1 != 0]\n",
    "test1a = test1a[~np.isnan(test1a)]\n",
    "test1a.shape"
   ]
  },
  {
   "cell_type": "code",
   "execution_count": 18,
   "id": "e164d647-c5b0-43a5-b682-4730bec23f39",
   "metadata": {},
   "outputs": [
    {
     "data": {
      "text/plain": [
       "(124272,)"
      ]
     },
     "execution_count": 18,
     "metadata": {},
     "output_type": "execute_result"
    }
   ],
   "source": [
    "test1 = xgrid2[:,10]\n",
    "test1a = test1[test1 != 0]\n",
    "test1a = test1a[~np.isnan(test1a)]\n",
    "test1a.shape"
   ]
  },
  {
   "cell_type": "code",
   "execution_count": 19,
   "id": "74667dc1-de85-451b-91af-dfc7605fbc8e",
   "metadata": {},
   "outputs": [],
   "source": [
    "# # Fill NaNs from the bottom\n",
    "# for col in range(xgrid2.shape[1]):  # Loop over columns\n",
    "#     xgrid2[-num_nans[col]:, col] = np.nan  # Fill last num_nans[col] elements with NaN\n",
    "\n",
    "# print(xgrid2)"
   ]
  },
  {
   "cell_type": "code",
   "execution_count": 20,
   "id": "79c23ee8-30ff-4225-9d0f-1e85842df844",
   "metadata": {},
   "outputs": [],
   "source": [
    "# Xgrid = np.vstack((xgrid1,xgrid2))"
   ]
  },
  {
   "cell_type": "code",
   "execution_count": 21,
   "id": "8699bd3d-6e59-47fe-98d9-12dcbe67dc38",
   "metadata": {},
   "outputs": [],
   "source": [
    "# # Count NaNs per column\n",
    "# num_nans2 = np.isnan(Xgrid).sum(axis=0)\n",
    "\n",
    "# print(num_nans2)\n",
    "\n",
    "# np.where(num_nans2 != 69227) # these are the ones that beached"
   ]
  },
  {
   "cell_type": "code",
   "execution_count": 18,
   "id": "2345a325-d80f-494d-98e4-ffe7e7c3c007",
   "metadata": {},
   "outputs": [],
   "source": [
    "def move_nans_to_end(Xgrid):\n",
    "    # Get shape\n",
    "    m, n = Xgrid.shape  \n",
    "    result = np.full_like(Xgrid, np.nan)  # Initialize result with NaNs\n",
    "\n",
    "    for col in range(n):\n",
    "        non_nan_values = Xgrid[:, col][~np.isnan(Xgrid[:, col])]  # Extract non-NaN values\n",
    "        result[:len(non_nan_values), col] = non_nan_values  # Place them at the top\n",
    "\n",
    "    return result\n",
    "\n",
    "# Move NaNs to the end of each column\n",
    "# Xgrid_rearranged = move_nans_to_end(Xgrid)\n",
    "\n",
    "# print(Xgrid_rearranged)"
   ]
  },
  {
   "cell_type": "code",
   "execution_count": 19,
   "id": "1a4edfad-2e79-47d2-892d-5fa9c0646aa8",
   "metadata": {},
   "outputs": [],
   "source": [
    "del ds1, ds2"
   ]
  },
  {
   "cell_type": "code",
   "execution_count": 32,
   "id": "98811cbc-acc8-4786-a0ea-c7fc74918e34",
   "metadata": {},
   "outputs": [
    {
     "name": "stdout",
     "output_type": "stream",
     "text": [
      "(11435,)\n",
      "(1,)\n",
      "(17477,)\n"
     ]
    }
   ],
   "source": [
    "print(np.where(np.isnan(xgrid1[:,0]))[0].shape)\n",
    "print(np.where(np.isnan(xgrid2[:,0]))[0].shape)\n",
    "print(np.where(xgrid2[:,0]==0)[0].shape)\n"
   ]
  },
  {
   "cell_type": "code",
   "execution_count": 25,
   "id": "1c5b0682-7fd6-4440-b074-6682506776b2",
   "metadata": {},
   "outputs": [
    {
     "data": {
      "text/plain": [
       "array([453.04388, 453.04437, 453.04492, ...,   0.     ,   0.     ,\n",
       "             nan], dtype=float32)"
      ]
     },
     "execution_count": 25,
     "metadata": {},
     "output_type": "execute_result"
    }
   ],
   "source": []
  },
  {
   "cell_type": "markdown",
   "id": "e9ebdd54-45d7-4cef-b1b7-3f22291a362a",
   "metadata": {},
   "source": [
    "# great, now do for y grid and plot to see if we can do this"
   ]
  },
  {
   "cell_type": "code",
   "execution_count": 20,
   "id": "cc1e9043-f876-44b4-af8a-5f207a14d8fc",
   "metadata": {},
   "outputs": [
    {
     "name": "stdout",
     "output_type": "stream",
     "text": [
      "Xgrid done\n",
      "Ygrid done\n"
     ]
    }
   ],
   "source": [
    "Xgrid = np.vstack((xgrid1,xgrid2))\n",
    "print(\"Xgrid done\")\n",
    "Ygrid = np.vstack((ygrid1,ygrid2))\n",
    "print(\"Ygrid done\")"
   ]
  },
  {
   "cell_type": "code",
   "execution_count": 21,
   "id": "d273c145-4d60-40f4-bb9b-c9d6868b1258",
   "metadata": {},
   "outputs": [
    {
     "name": "stdout",
     "output_type": "stream",
     "text": [
      "Zgrid done\n",
      "rho done\n",
      "salt done\n",
      "temp done\n"
     ]
    }
   ],
   "source": [
    "Zgrid = np.vstack((zgrid1,zgrid2))\n",
    "print(\"Zgrid done\")\n",
    "rho = np.vstack((rho1,rho2))\n",
    "print(\"rho done\")\n",
    "salt = np.vstack((salt1,salt2))\n",
    "print(\"salt done\")\n",
    "temp = np.vstack((temp1,temp2))\n",
    "print(\"temp done\")"
   ]
  },
  {
   "cell_type": "code",
   "execution_count": 22,
   "id": "24316bcc-6afc-48a4-9f89-382585231b39",
   "metadata": {},
   "outputs": [
    {
     "name": "stdout",
     "output_type": "stream",
     "text": [
      "depth done\n"
     ]
    }
   ],
   "source": [
    "depth = np.vstack((depth1,depth2))\n",
    "print(\"depth done\")"
   ]
  },
  {
   "cell_type": "code",
   "execution_count": 23,
   "id": "79eaf128-20d3-4ae5-bf57-e0911091f2d6",
   "metadata": {},
   "outputs": [],
   "source": [
    "Xgrid_rearranged = move_nans_to_end(Xgrid)\n",
    "Ygrid_rearranged = move_nans_to_end(Ygrid)"
   ]
  },
  {
   "cell_type": "code",
   "execution_count": 24,
   "id": "c098de84-c4ab-47a2-9876-cc4ad1085627",
   "metadata": {},
   "outputs": [],
   "source": [
    "del Xgrid,Ygrid"
   ]
  },
  {
   "cell_type": "code",
   "execution_count": 25,
   "id": "a236897f-5641-49d9-b4cc-658da9041f52",
   "metadata": {},
   "outputs": [],
   "source": [
    "del xgrid1,xgrid2,ygrid1,ygrid2"
   ]
  },
  {
   "cell_type": "code",
   "execution_count": 26,
   "id": "270e2efe-0e38-40c2-beba-e742a6f36aaa",
   "metadata": {},
   "outputs": [
    {
     "name": "stdout",
     "output_type": "stream",
     "text": [
      "Zgrid done\n",
      "rho done\n",
      "temp done\n",
      "salt done\n"
     ]
    }
   ],
   "source": [
    "Zgrid_rearranged = move_nans_to_end(Zgrid)\n",
    "print(\"Zgrid done\")\n",
    "del Zgrid,zgrid1,zgrid2\n",
    "\n",
    "rho_rearranged = move_nans_to_end(rho)\n",
    "print(\"rho done\")\n",
    "del rho,rho1,rho2\n",
    "\n",
    "temp_rearranged = move_nans_to_end(temp)\n",
    "print(\"temp done\")\n",
    "del temp,temp1,temp2\n",
    "\n",
    "salt_rearranged = move_nans_to_end(salt)\n",
    "print(\"salt done\")\n",
    "del salt,salt1,salt2\n"
   ]
  },
  {
   "cell_type": "code",
   "execution_count": 27,
   "id": "0fc0347a-8719-4c26-b3ea-aab13411ea92",
   "metadata": {},
   "outputs": [
    {
     "name": "stdout",
     "output_type": "stream",
     "text": [
      "depth done\n"
     ]
    }
   ],
   "source": [
    "depth_rearranged = move_nans_to_end(depth)\n",
    "print(\"depth done\")\n",
    "del depth,depth1,depth2"
   ]
  },
  {
   "cell_type": "code",
   "execution_count": 28,
   "id": "9e435310-554a-40ca-9a47-f88ce53caa10",
   "metadata": {},
   "outputs": [],
   "source": [
    "time_steps = Zgrid_rearranged.shape[0]"
   ]
  },
  {
   "cell_type": "code",
   "execution_count": 29,
   "id": "ffa13ce2-71b6-4cf1-9ca5-3efc687eb75e",
   "metadata": {},
   "outputs": [],
   "source": [
    "num_drifters = Zgrid_rearranged.shape[1]"
   ]
  },
  {
   "cell_type": "code",
   "execution_count": 30,
   "id": "45506d88-656e-4388-9a3b-33d79627f507",
   "metadata": {},
   "outputs": [],
   "source": [
    "# Define dimensions and create xarray Dataset\n",
    "ds = xr.Dataset(\n",
    "    {\n",
    "        \"Xgrid\": ([\"time\", \"drifter\"], Xgrid_rearranged),\n",
    "        \"Ygrid\": ([\"time\", \"drifter\"], Ygrid_rearranged),\n",
    "        \"Zgrid\": ([\"time\", \"drifter\"], Zgrid_rearranged),\n",
    "        \"rho\": ([\"time\", \"drifter\"], rho_rearranged),\n",
    "        \"temp\": ([\"time\", \"drifter\"], temp_rearranged),\n",
    "        \"salt\": ([\"time\", \"drifter\"], salt_rearranged),\n",
    "        \"depth\": ([\"time\", \"driftr\"], depth_rearranged),\n",
    "    },\n",
    "    coords={\n",
    "        \"time\": np.arange(time_steps),  # Replace with actual time values if available\n",
    "        \"drifter\": np.arange(num_drifters),\n",
    "    },\n",
    ")"
   ]
  },
  {
   "cell_type": "code",
   "execution_count": null,
   "id": "f6735d36-f9f0-4bc8-941a-cf5b7745a5ea",
   "metadata": {},
   "outputs": [],
   "source": [
    "# Save to a NetCDF file\n",
    "file_path = \"/scratch/mmurakami/WAOM/drifter_data_all_withdepth.nc\"\n",
    "ds.to_netcdf(file_path, mode=\"w\", format=\"NETCDF4\")\n",
    "print(f\"Saved to {file_path}\")"
   ]
  },
  {
   "cell_type": "code",
   "execution_count": null,
   "id": "3dfa4ed6-5d55-421e-a952-5bdd4289a7c3",
   "metadata": {},
   "outputs": [],
   "source": []
  },
  {
   "cell_type": "code",
   "execution_count": null,
   "id": "71558cf8-1cea-46ea-abd6-21e163b2297e",
   "metadata": {},
   "outputs": [],
   "source": []
  },
  {
   "cell_type": "markdown",
   "id": "2620ee7f-f967-4a4c-931f-080b4aee77c4",
   "metadata": {},
   "source": [
    "# extra playing around"
   ]
  },
  {
   "cell_type": "code",
   "execution_count": 71,
   "id": "4d4756ae-2d3b-4166-b36b-d3a3288e91b1",
   "metadata": {},
   "outputs": [
    {
     "data": {
      "text/plain": [
       "3895"
      ]
     },
     "execution_count": 71,
     "metadata": {},
     "output_type": "execute_result"
    }
   ],
   "source": [
    "num_drifters = Xgrid_rearranged.shape[1]\n",
    "num_drifters"
   ]
  },
  {
   "cell_type": "code",
   "execution_count": 109,
   "id": "d47a143b-1349-4c0a-8360-137282371403",
   "metadata": {},
   "outputs": [
    {
     "name": "stdout",
     "output_type": "stream",
     "text": [
      "[69227 79957 69227 ... 69227 69227 69227]\n"
     ]
    }
   ],
   "source": [
    "num_nans2 = np.isnan(Xgrid_rearranged).sum(axis=0)\n",
    "\n",
    "print(num_nans2)"
   ]
  },
  {
   "cell_type": "code",
   "execution_count": 126,
   "id": "2c36e461-c926-4878-9062-37fd98ac12a3",
   "metadata": {},
   "outputs": [
    {
     "data": {
      "image/png": "[encoded data removed]",
      "text/plain": [
       "<Figure size 800x600 with 1 Axes>"
      ]
     },
     "metadata": {},
     "output_type": "display_data"
    }
   ],
   "source": [
    "# Plot each drifter's trajectory\n",
    "plt.figure(figsize=(8, 6))\n",
    "cut = num_nans2[i]\n",
    "# for i in range(num_drifters[:10]):\n",
    "for i in range(2):\n",
    "    cut = np.sum(np.isnan(Xgrid_rearranged[:,i]) | (Xgrid_rearranged[:,i] == 0))\n",
    "    plt.plot(Xgrid_rearranged[:-cut, i], Ygrid_rearranged[:-cut, i], marker='.', linestyle='-', label=f'Drifter {i+1}')\n",
    "\n",
    "plt.xlabel(\"X Position\")\n",
    "plt.ylabel(\"Y Position\")\n",
    "plt.title(\"Drifter Trajectories in XY Space\")\n",
    "plt.ylim(400,600)\n",
    "plt.legend()\n",
    "plt.grid()\n",
    "plt.show()"
   ]
  }
 ],
 "metadata": {
  "kernelspec": {
   "display_name": "py38",
   "language": "python",
   "name": "py38"
  },
  "language_info": {
   "codemirror_mode": {
    "name": "ipython",
    "version": 3
   },
   "file_extension": ".py",
   "mimetype": "text/x-python",
   "name": "python",
   "nbconvert_exporter": "python",
   "pygments_lexer": "ipython3",
   "version": "3.8.18"
  }
 },
 "nbformat": 4,
 "nbformat_minor": 5
}
