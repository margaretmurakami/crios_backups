{
 "cells": [
  {
   "cell_type": "markdown",
   "id": "55c7f4f0-fed2-4767-b4be-21ff0f0ee74e",
   "metadata": {},
   "source": [
    "## packages and functions"
   ]
  },
  {
   "cell_type": "code",
   "execution_count": 1,
   "id": "ddeb3c0c-a27f-43ad-888a-6f0483c60bfc",
   "metadata": {},
   "outputs": [],
   "source": [
    "import numpy as np\n",
    "import sys\n",
    "import matplotlib.pyplot as plt\n",
    "import xarray as xr\n",
    "import h5py\n",
    "from scipy.io import loadmat\n",
    "import matplotlib as mpl\n",
    "import time\n",
    "import gsw\n",
    "from matplotlib.colors import TwoSlopeNorm\n",
    "\n",
    "# import existing python files\n",
    "plt.rcParams['figure.figsize'] = (10,4)\n",
    "\n",
    "# add rdmds reading functions to path\n",
    "sys.path.append(\"/home/mmurakami/MITgcm/MITgcm_c68r/MITgcm-checkpoint68r/utils/python/MITgcmutils/MITgcmutils/\") # go to parent dir\n",
    "from mds import *\n",
    "\n",
    "# add the other files\n",
    "sys.path.append(\"/home/mmurakami/crios_backups/an_helper_functions\")\n",
    "from read_binary import *\n",
    "from calc_UV_conv_1face import calc_UV_conv_1face\n",
    "from calc_mskmean_T_mod import calc_mskmean_T_mod\n",
    "from mk3D_mod import mk3D_mod\n",
    "from aste_helper_funcs import *\n",
    "from timing_functions import *           # ts2dte, get_fnames, etc.\n",
    "from binning import *                    # bin_array, create_mesh"
   ]
  },
  {
   "cell_type": "markdown",
   "id": "9804bbbe-5dfa-4395-845c-afd9fcb44762",
   "metadata": {},
   "source": [
    "### Read grid and masks"
   ]
  },
  {
   "cell_type": "code",
   "execution_count": 2,
   "id": "1a9d33f3-3fc5-40c9-9a40-7a2d38ff126e",
   "metadata": {},
   "outputs": [],
   "source": [
    "# define basin we want\n",
    "iB = 6   # see mskBasin if you want for later; maybe we should write this to file"
   ]
  },
  {
   "cell_type": "code",
   "execution_count": 3,
   "id": "88002044-a9f9-4d9a-8f55-bbb5f712a10d",
   "metadata": {},
   "outputs": [],
   "source": [
    "dirroot = \"/scratch2/atnguyen/aste_270x450x180/\"\n",
    "dirrun = \"/scratch/atnguyen/aste_270x450x180/OFFICIAL_ASTE_R1_Sep2019/\"\n",
    "dirIn = dirrun + \"diags/BUDG/\"\n",
    "dirDiags = dirrun + \"diags/\"\n",
    "dirState = dirDiags + \"STATE/\"\n",
    "dirGrid = dirroot + \"GRID_real8/\"\n",
    "dirgridnb = dirroot + \"GRID_noblank/\"\n",
    "dirgridw = dirroot + \"GRID_wet/\""
   ]
  },
  {
   "cell_type": "code",
   "execution_count": 4,
   "id": "da181f45-a60e-45db-9c03-d86e41f552ce",
   "metadata": {},
   "outputs": [],
   "source": [
    "bigaste = True\n",
    "\n",
    "if bigaste:\n",
    "    nx = 270\n",
    "    ncut1 = 450\n",
    "    ncut2 = 180\n",
    "else:\n",
    "    nx = 90\n",
    "    ncut1 = 150\n",
    "    ncut2 = 60\n",
    "    \n",
    "ny = 2*ncut1+nx+ncut2\n",
    "nz = 50\n",
    "nfx = np.array([nx, 0 , nx, ncut2 ,ncut1])\n",
    "nfy = np.array([ncut1, 0 , nx, nx, nx])"
   ]
  },
  {
   "cell_type": "code",
   "execution_count": 5,
   "id": "b1bb58b8-c78d-45fe-a2f3-cffab7eac77b",
   "metadata": {},
   "outputs": [],
   "source": [
    "# save myParms from An hard-coding\n",
    "save_budg_3d = 0\n",
    "save_budg_2d = 1\n",
    "save_budg_scalar = 0\n",
    "save_budg_lev = 0\n",
    "\n",
    "strbudg = 'Mass'\n",
    "kBudget = 1\n",
    "test3d = True\n",
    "plot_fig = 1\n",
    "# kz = [[1, 5], [6, 10], [11, 19], [20, 23]]\n",
    "\n",
    "myparms = {\n",
    "    'yearFirst': 1979,\n",
    "    'yearLast': 1979,\n",
    "    'yearInAv': [1979, 1979],\n",
    "    'timeStep': 3600,\n",
    "    'iceModel': 1,\n",
    "    'useRFWF': 1,\n",
    "    'useNLFS': 4,\n",
    "    'rStar': 2,\n",
    "    'rhoconst': 1029,\n",
    "    'rcp': 1029 * 3994,    # reference seawater specific heat capacity (1029 kg/m^3) * (3994 J/kg K) = J/(m^3*degC)\n",
    "    'rhoi': 910,\n",
    "    'rhosn': 330,\n",
    "    'flami': 334000,\n",
    "    'flamb': 2500000,\n",
    "    'SIsal0': 4,\n",
    "    'diagsAreMonthly': 0,\n",
    "    'diagsAreAnnual': 0,\n",
    "    'recInAve': [1, 2],\n",
    "    'SaltPlumeHeatFlux': 0,  # Not sure what this is\n",
    "    'conserveTr': 0\n",
    "}\n",
    "\n",
    "deltaTime = myparms['timeStep']\n",
    "dt = 86400"
   ]
  },
  {
   "cell_type": "code",
   "execution_count": 6,
   "id": "d71aedc7-c65e-488d-bfd2-5251b07dd410",
   "metadata": {},
   "outputs": [],
   "source": [
    "# get time-steps:\n",
    "flist = [f for f in os.listdir(dirIn) if f.startswith('budg2d_snap_set1.') and f.endswith('.data')]\n",
    "idot = flist[0].index('.')\n",
    "idot = [idot+1, flist[0][idot+1:].index('.')+idot+1]\n",
    "idot = np.asarray(idot,dtype=int)\n",
    "\n",
    "mygrid = {\n",
    "    'dirGrid': dirGrid,\n",
    "    'nFaces': 1,\n",
    "    'fileFormat': 'compact',\n",
    "    'memoryLimit': 2,\n",
    "    'ioSize': [nx*ny, 1],\n",
    "    'facesSize': [ny, nx],\n",
    "    'facesExpand': [ny, nx],\n",
    "    'missVal': 0,\n",
    "}\n",
    "\n",
    "fldstr2d = ['XC','YC','XG','YG','RAC','Depth','DXG','DYG','DXC','DYC']\n",
    "fldstr3d = ['hFacC','hFacW','hFacS','mskC','mskS','mskW']\n",
    "fldstr3dp = ['hFacC','hFacW','hFacS','maskCtrlC','maskCtrlS','maskCtrlW']\n",
    "fldstr1d = ['RC','RF','DRC','DRF']\n",
    "\n",
    "for fld in fldstr1d:\n",
    "    mygrid[fld] = np.squeeze(rdmds(os.path.join(dirGrid, fld)))\n",
    "\n",
    "for fld in fldstr3d:\n",
    "    temp = rdmds(os.path.join(dirGrid, fldstr3dp[fldstr3d.index(fld)]))\n",
    "    mygrid[fld] = temp.reshape(nz, ny, nx)\n",
    "\n",
    "for fld in fldstr2d:\n",
    "    temp = rdmds(os.path.join(dirGrid, fld))\n",
    "    mygrid[fld] = temp.reshape(ny, nx)\n",
    "\n",
    "mygrid['mskC'][mygrid['mskC'] == 0] = np.nan\n",
    "\n",
    "areaW, areaS, Vol = [], [], []\n",
    "for k in range(nz):\n",
    "    areaW.append(mygrid['DYG'] * mygrid['DRF'][k])\n",
    "    areaS.append(mygrid['DXG'] * mygrid['DRF'][k])\n",
    "    Vol.append(mygrid['RAC'] * mygrid['DRF'][k])"
   ]
  },
  {
   "cell_type": "code",
   "execution_count": 7,
   "id": "4fc54d5c-1623-48f8-ad2b-c93c7ce22ebc",
   "metadata": {},
   "outputs": [
    {
     "name": "stdout",
     "output_type": "stream",
     "text": [
      "(50,) (50, 1350, 270)\n"
     ]
    }
   ],
   "source": [
    "# block out obcs\n",
    "# np tile I think operates the same as repmat in MATLAB\n",
    "RAC = mygrid['RAC']\n",
    "RAC3 = np.tile(RAC,(nz,1,1))\n",
    "\n",
    "hfC = mygrid['hFacC']\n",
    "DD = mygrid['Depth']\n",
    "dxg = mygrid['DXG']\n",
    "dyg = mygrid['DYG']\n",
    "dxg3d = np.tile(dxg,(nz,1,1))\n",
    "dyg3d = np.tile(dyg,(nz,1,1))\n",
    "\n",
    "print(mygrid['DRF'].shape,np.zeros((nz, ny, nx)).shape)\n",
    "drf3d = mk3D_mod(mygrid['DRF'], np.zeros((nz, ny, nx)))\n",
    "DD3d = mk3D_mod(DD,np.zeros((nz, ny, nx)))\n",
    "\n",
    "hfC[hfC == 0] = np.nan\n",
    "hfC1 = hfC[0, :, :]\n",
    "hfC1[hfC1 == 0] = np.nan\n",
    "\n",
    "RACg = RAC * hfC1\n",
    "hfC1p = np.copy(hfC1)\n",
    "\n",
    "hfC1p[:, nx-1] = np.nan\n",
    "hfC1p[ny-1,:] = np.nan\n",
    "RACgp = RAC * hfC1p"
   ]
  },
  {
   "cell_type": "code",
   "execution_count": 8,
   "id": "11b751b8-987e-49cf-bde9-844ff6951dee",
   "metadata": {},
   "outputs": [
    {
     "name": "stdout",
     "output_type": "stream",
     "text": [
      "hf1 (1350, 270)\n"
     ]
    }
   ],
   "source": [
    "#mygrid['hFacC'][mygrid['hFacC'] > 0] = 1\n",
    "mygrid['hFacC'][mygrid['hFacC'] == 0] = np.nan\n",
    "hf1 = mygrid['hFacC'][0] # top layer in z\n",
    "\n",
    "print(\"hf1\",hf1.shape)\n",
    "\n",
    "hf1 = get_aste_tracer(hf1, nfx, nfy)\n",
    "# check with hardcoding on this for mini or big aste\n",
    "if nx == 90:\n",
    "    hf1[:,281,:] = np.nan\n",
    "    hf1[:,7,:] = np.nan\n",
    "    hf1[:,86,122] = np.nan\n",
    "elif nx == 270:\n",
    "    hf1[:,844,:] = np.nan\n",
    "    hf1[:,23,:] = np.nan\n",
    "    hf1[:,365,260:261] = np.nan\n",
    "\n",
    "hf1 = aste_tracer2compact(hf1,nfx,nfy)\n",
    "hf = mygrid[\"hFacC\"]\n",
    "hf = hf * np.tile(hf1,(nz, 1,1))"
   ]
  },
  {
   "cell_type": "code",
   "execution_count": 9,
   "id": "ec95b76d-261b-46ff-bf94-633305ab9269",
   "metadata": {},
   "outputs": [
    {
     "data": {
      "text/plain": [
       "(50, 1350, 270)"
      ]
     },
     "execution_count": 9,
     "metadata": {},
     "output_type": "execute_result"
    }
   ],
   "source": [
    "# copy basin listing from lookat_layers\n",
    "fileprefix = \"/scratch/pillarh/aste_270x450x180/\"\n",
    "extBasin='run_template/input_maskTransport/'\n",
    "filename = fileprefix + extBasin + \"GATE_transports_v3_osnap.mat\"\n",
    "if nx == 270:\n",
    "    inf = loadmat(filename)\n",
    "    mskBasin = (inf[\"mskBasin\"])\n",
    "\n",
    "mskBasin = mskBasin.T               # python adjustment\n",
    "\n",
    "# this is now different syntax than the other file\n",
    "strb=np.array(['CanadaB','ChukchiS','MakarovB','AmundsenB','NansenB','BeringS','BarentsS','GINs','CAA',\n",
    "               'SPG','LabSea','NPac','NAtlantic','AtlS30'])\n",
    "\n",
    "mskBasin[mskBasin==50] =6\n",
    "mskBasin[mskBasin==200]=7\n",
    "mskBasin[mskBasin==300]=8\n",
    "mskBasin[mskBasin==400]=9\n",
    "mskBasin[mskBasin==500]=9\n",
    "mskBasin[mskBasin==600]=10\n",
    "mskBasin[mskBasin==700]=11\n",
    "mskBasin[mskBasin==-1]=12\n",
    "mskBasin[mskBasin==-100]=13\n",
    "latNA = 30\n",
    "lonNA = -82\n",
    "condition_13 = (mskBasin == 0) & (mygrid['YC'] > latNA) & (mygrid['XC'] > lonNA) & (hf1.reshape((ny,nx)) > 0)\n",
    "mskBasin[condition_13] = 13\n",
    "condition_14 = (mskBasin == 0) & (hf1.reshape((ny,nx)) > 0)\n",
    "mskBasin[condition_14] = 14\n",
    "\n",
    "mskBasin = mskBasin * hf1\n",
    "mskBasin = mskBasin[0,:,:]   # change indexing for  python\n",
    "mskBasin -= 1\n",
    "\n",
    "# create mskBasin3D to also add to the dataset\n",
    "mskBasin3D = np.tile(mskBasin[np.newaxis,:,:],(nz,1,1))\n",
    "mskBasin3D.shape"
   ]
  },
  {
   "cell_type": "markdown",
   "id": "c3ad5252-7f46-41b0-b768-f4bdfee1ef22",
   "metadata": {},
   "source": [
    "### Get timesteps"
   ]
  },
  {
   "cell_type": "code",
   "execution_count": 19,
   "id": "1f546d70-2afc-4dfe-bff5-5ea0b71978f5",
   "metadata": {},
   "outputs": [],
   "source": [
    "# create an array of the time steps we want to read\n",
    "# use ts2dte to get december 2014\n",
    "# first make an array of filenames\n",
    "dt = 600\n",
    "startyr = 2002\n",
    "endyr = 2019\n",
    "\n",
    "# all the filenames in the system\n",
    "fnames = get_fnames(dt,startyr,endyr)\n",
    "\n",
    "times = {}\n",
    "# times[\"2014\"] = np.arange(3,5,1)\n",
    "times[\"2002\"] = np.arange(2,4,1)\n",
    "\n",
    "# the filenames we want for 2014\n",
    "tsstr,datetimes = get_tsteps(times,fnames,dt,startyr,1,1)\n",
    "\n",
    "t2 = int(tsstr[1])"
   ]
  },
  {
   "cell_type": "markdown",
   "id": "6f66bede-a861-4d08-8424-a34dceb8db0b",
   "metadata": {},
   "source": [
    "### mass tendency"
   ]
  },
  {
   "cell_type": "code",
   "execution_count": 11,
   "id": "15b646e6-ac62-451b-acab-2adfd450e220",
   "metadata": {},
   "outputs": [],
   "source": [
    "# ocean and ice\n",
    "AB_gT=0\n",
    "AB_gS=0\n",
    "debug = False"
   ]
  },
  {
   "cell_type": "code",
   "execution_count": 12,
   "id": "e2f868b8-cab3-4c6f-a8e3-69d93723ad34",
   "metadata": {},
   "outputs": [],
   "source": [
    "# ffac = 1e-6\n",
    "ffac = 1"
   ]
  },
  {
   "cell_type": "code",
   "execution_count": 13,
   "id": "5291ac1f-373c-4488-a337-61a80f60adc4",
   "metadata": {},
   "outputs": [],
   "source": [
    "dt = datetimes[1]-datetimes[0]   # days\n",
    "dt = dt.total_seconds()"
   ]
  },
  {
   "cell_type": "code",
   "execution_count": 34,
   "id": "36696a87-1131-43c3-b102-f05649c3ec97",
   "metadata": {},
   "outputs": [],
   "source": [
    "file_name = 'budg2d_snap_set1'\n",
    "meta_budg2d_snap_set1 = parsemeta(dirIn + file_name + \".\" + tsstr[0] + \".meta\")\n",
    "\n",
    "# try to read this with rec\n",
    "fldlist = np.array(meta_budg2d_snap_set1['fldList'])\n",
    "varnames = np.array(['ETAN','PHIBOT','SIheff','SIhsnow'])\n",
    "recs = np.array([])\n",
    "for var in varnames:\n",
    "    irec = np.where(fldlist == var)\n",
    "    recs = np.append(recs, irec[0][0])\n",
    "\n",
    "ETAN = np.full((len(tsstr),ny,nx),np.nan)\n",
    "PHIBOT = np.full((len(tsstr),ny,nx),np.nan)\n",
    "SIheff = np.full((len(tsstr),ny,nx),np.nan)\n",
    "SIhsnow = np.full((len(tsstr),ny,nx),np.nan)\n",
    "\n",
    "for i in range(len(tsstr)):\n",
    "    thisETAN,its,meta = rdmds(os.path.join(dirIn, file_name),int(tsstr[i]),returnmeta=True,rec=recs[0])\n",
    "    thisETAN = thisETAN.reshape(ny,nx)\n",
    "    ETAN[i] = thisETAN\n",
    "\n",
    "    thisPHIBOT,its,meta = rdmds(os.path.join(dirIn, file_name),int(tsstr[i]),returnmeta=True,rec=recs[1])\n",
    "    thisPHIBOT = thisPHIBOT.reshape(ny,nx)\n",
    "    PHIBOT[i] = thisPHIBOT\n",
    "\n",
    "    thisSIheff,its,meta = rdmds(os.path.join(dirIn, file_name),int(tsstr[i]),returnmeta=True,rec=recs[2])\n",
    "    thisSIheff = thisSIheff.reshape(ny,nx)\n",
    "    SIheff[i] = thisSIheff\n",
    "\n",
    "    thisSIhsnow,its,meta = rdmds(os.path.join(dirIn, file_name),int(tsstr[i]),returnmeta=True,rec=recs[3])\n",
    "    thisSIhsnow = thisSIhsnow.reshape(ny,nx)\n",
    "    SIhsnow[i] = thisSIhsnow\n",
    "\n",
    "ETAN =  (ETAN[1, :, :] - ETAN[0, :, :]) / dt\n",
    "PHIBOT = (PHIBOT[1, :, :] - PHIBOT[0, :, :]) / dt\n",
    "SIheff =  (SIheff[1, :, :] - SIheff[0, :, :]) / dt\n",
    "SIhsnow = (SIhsnow[1, :, :] - SIhsnow[0, :, :]) / dt"
   ]
  },
  {
   "cell_type": "code",
   "execution_count": 35,
   "id": "0afcd537-2a6d-48cd-8b98-730bf956e640",
   "metadata": {},
   "outputs": [],
   "source": [
    "# 3D, with rStar:\n",
    "# mk3D_mod function should be called here but I might be doing it wrong\n",
    "tmptend = np.zeros((nz, ny, nx))\n",
    "if myparms['useNLFS'] < 2 or myparms['rStar'] == 0:        # not this time\n",
    "    tmptend[0,:, :] = ETAN * myparms['rhoconst'] * RAC\n",
    "    if myparms['useRFWF'] == 0:\n",
    "        tmptend[0, :, :] = np.zeros((ny, nx))\n",
    "else:\n",
    "    if myparms['useRFWF'] != 0:                                 # we are using this  # check if tmp1 is the same as drf3d!!\n",
    "        tmp1 = mk3D_mod(mygrid['DRF'],hfC) * hfC\n",
    "        tmp2 = tmp1/mk3D_mod(DD,tmp1)\n",
    "    else:\n",
    "        tmp2 = drf3d / mk3D_mod(DD, tmp1)\n",
    "        \n",
    "    tmptend = tmp2 * np.tile(ETAN[np.newaxis,:,:],(nz,1,1)) * RAC3"
   ]
  },
  {
   "cell_type": "code",
   "execution_count": 36,
   "id": "00c733e4-de9f-4b96-b9db-7785b15a4b11",
   "metadata": {},
   "outputs": [],
   "source": [
    "budgO = {}\n",
    "budgO = {'fluxes': {'tend': tmptend}}\n",
    "budgO['tend'] = np.nansum(tmptend,axis=0)\n",
    "budgI = {'tend': (SIheff * myparms['rhoi'] + SIhsnow * myparms['rhosn'] * RAC)}"
   ]
  },
  {
   "cell_type": "code",
   "execution_count": 37,
   "id": "df4078a3-0cc4-4c99-9137-9fa3bd82a703",
   "metadata": {},
   "outputs": [],
   "source": [
    "# budgI = {'tend': (SIheff * myparms['rhoi'] + SIhsnow * myparms['rhosn']) * RAC}\n",
    "budgOI = {}\n",
    "budgOI['tend'] = budgO['tend'] + budgI['tend']"
   ]
  },
  {
   "cell_type": "markdown",
   "id": "e0f6b6c7-21b9-47af-a838-6feed94204d0",
   "metadata": {},
   "source": [
    "### Calculate horizontal convergence\n",
    "We used to do this with calc_UV_conv_1face but now we just want totally the calc_UV"
   ]
  },
  {
   "cell_type": "code",
   "execution_count": 38,
   "id": "d21436f2-29b9-470d-b09e-c80321d7294b",
   "metadata": {},
   "outputs": [],
   "source": [
    "# read U and V mass\n",
    "meta_budg3d_hflux_set2= parsemeta(dirIn + \"budg3d_hflux_set2\" + '.' + tsstr[1] + '.meta')\n",
    "fldlist = np.array(meta_budg3d_hflux_set2['fldList'])\n",
    "varnames = np.array(['UVELMASS','VVELMASS'])\n",
    "recs = np.array([])\n",
    "for var in varnames:\n",
    "    irec = np.where(fldlist == var)\n",
    "    recs = np.append(recs, irec[0][0])\n",
    "UVELMASS,its,meta = rdmds(dirIn + \"budg3d_hflux_set2\", int(tsstr[1]),returnmeta=True,rec = recs[0])       # m/s\n",
    "VVELMASS,its,meta = rdmds(dirIn + \"budg3d_hflux_set2\", int(tsstr[1]),returnmeta=True,rec = recs[1])       # m/s\n",
    "\n",
    "# read advective\n",
    "meta_budg2d_hflux_set1= parsemeta(dirIn + \"budg2d_hflux_set1\" + '.' + tsstr[1] + '.meta')\n",
    "fldlist = np.array(meta_budg2d_hflux_set1['fldList'])\n",
    "varnames = np.array(['ADVxHEFF','ADVyHEFF','ADVxSNOW','ADVySNOW'])\n",
    "recs = np.array([])\n",
    "for var in varnames:\n",
    "    irec = np.where(fldlist == var)\n",
    "    recs = np.append(recs, irec[0][0])\n",
    "ADVxHEFF,its,meta = rdmds(dirIn + \"budg2d_hflux_set1\", int(tsstr[1]),returnmeta=True,rec = recs[0])       # m.m^2/s    ice \n",
    "ADVyHEFF,its,meta = rdmds(dirIn + \"budg2d_hflux_set1\", int(tsstr[1]),returnmeta=True,rec = recs[1])       # m.m^2/s    ice \n",
    "ADVxSNOW,its,meta = rdmds(dirIn + \"budg2d_hflux_set1\", int(tsstr[1]),returnmeta=True,rec = recs[2])       # m.m^2/s    snow\n",
    "ADVySNOW,its,meta = rdmds(dirIn + \"budg2d_hflux_set1\", int(tsstr[1]),returnmeta=True,rec = recs[3])"
   ]
  },
  {
   "cell_type": "code",
   "execution_count": 39,
   "id": "6e0d01c2-2d46-4b81-9da2-b0d4b4ac4a50",
   "metadata": {},
   "outputs": [],
   "source": [
    "UVELMASS = UVELMASS.reshape(nz,ny,nx)\n",
    "VVELMASS = VVELMASS.reshape(nz,ny,nx)\n",
    "ADVxHEFF = ADVxHEFF.reshape(ny,nx)\n",
    "ADVyHEFF = ADVyHEFF.reshape(ny,nx)\n",
    "ADVxSNOW = ADVxSNOW.reshape(ny,nx)\n",
    "ADVySNOW = ADVySNOW.reshape(ny,nx)"
   ]
  },
  {
   "cell_type": "code",
   "execution_count": 40,
   "id": "1fc6a094-ada7-4fff-adfc-aeee96b06fe0",
   "metadata": {},
   "outputs": [],
   "source": [
    "# THERE IS NO DFXEHEFF OR DFYEHEFF! This has not been handled in this notebook\n",
    "# Calculations for ocean\n",
    "tmpUo = myparms['rhoconst'] * dyg3d * drf3d * UVELMASS    # m/s * m * m * kg/m^3 = kg/s\n",
    "tmpVo = myparms['rhoconst'] * dxg3d * drf3d * VVELMASS    # kg/s\n",
    "\n",
    "# replace tmpUo and tmpVo with the faces here\n",
    "tmpUo = get_aste_faces(tmpUo,nfx,nfy)              \n",
    "tmpVo = get_aste_faces(tmpVo,nfx,nfy)\n",
    "\n",
    "# tmpUo,tmpVo = get_aste_vector_face1_3(tmpUo,tmpVo,nfx,nfy,False)\n",
    "conv = calc_UV_conv_mod(nfx,nfy,tmpUo,tmpVo) #[:,:-1,:-1]"
   ]
  },
  {
   "cell_type": "code",
   "execution_count": 41,
   "id": "71c98e08-57af-4558-a91a-0920c1bfa7cb",
   "metadata": {},
   "outputs": [],
   "source": [
    "budgO['fluxes']['hconv'] = conv\n",
    "budgO['hconv'] = calc_UV_conv_mod(nfx,nfy,np.nansum(tmpUo, axis=0), np.nansum(tmpVo, axis=0))"
   ]
  },
  {
   "cell_type": "code",
   "execution_count": 42,
   "id": "a64ef447-8ad3-4da9-b167-e0631d8aee1d",
   "metadata": {},
   "outputs": [],
   "source": [
    "# plt.pcolormesh(get_aste_tracer(budgO['fluxes']['hconv'][5],nfx,nfy)[0],cmap='seismic',vmin=-1e7,vmax=1e7)\n",
    "# plt.colorbar()\n",
    "# plt.xlim(400,540)\n",
    "# plt.ylim(440,460)"
   ]
  },
  {
   "cell_type": "markdown",
   "id": "b37dd9c6-1420-4f38-97c4-3cceb5125d0b",
   "metadata": {},
   "source": [
    "### Calculate vertical convergence"
   ]
  },
  {
   "cell_type": "code",
   "execution_count": 43,
   "id": "4a342415-72f1-4a82-871c-204747dfd58b",
   "metadata": {},
   "outputs": [],
   "source": [
    "# rewrite with only reading in these lines, be sure to compare\n",
    "meta_budg2d_zflux_set1= parsemeta(dirIn + \"budg2d_zflux_set1\" + '.' + tsstr[1] + '.meta')\n",
    "fldlist = np.array(meta_budg2d_zflux_set1['fldList'])\n",
    "varnames = np.array(['oceFWflx','SIatmFW'])\n",
    "recs = np.array([])\n",
    "for var in varnames:\n",
    "    irec = np.where(fldlist == var)\n",
    "    recs = np.append(recs, irec[0][0])\n",
    "# net surface Fresh-Water flux into the ocean (+=down), >0 decreases salinity\n",
    "oceFWflx,its,meta = rdmds(dirIn + \"budg2d_zflux_set1\", int(tsstr[1]),returnmeta=True,rec = recs[0])\n",
    "# Net freshwater flux from atmosphere & land (+=down)\n",
    "SIatmFW,its,meta = rdmds(dirIn + \"budg2d_zflux_set1\", int(tsstr[1]),returnmeta=True,rec = recs[1])\n",
    "\n",
    "oceFWflx = oceFWflx.reshape(ny,nx)                     # kg/m^2/s\n",
    "SIatmFW = SIatmFW.reshape(ny,nx)                       # kg/m^2/s\n",
    "\n",
    "\n",
    "# read WVELMASS\n",
    "meta_budg3d_zflux_set2= parsemeta(dirIn + \"budg3d_zflux_set2\" + '.' + tsstr[1] + '.meta')\n",
    "fldlist = np.array(meta_budg3d_zflux_set2['fldList'])\n",
    "varnames = np.array(['WVELMASS'])\n",
    "recs = np.array([])\n",
    "for var in varnames:\n",
    "    irec = np.where(fldlist == var)\n",
    "    recs = np.append(recs, irec[0][0])\n",
    "# Vertical Mass-Weighted Comp of Velocity\n",
    "WVELMASS,its,meta = rdmds(dirIn + \"budg3d_zflux_set2\", int(tsstr[1]),returnmeta=True,rec = recs[0])\n",
    "WVELMASS = WVELMASS.reshape(nz,ny,nx)"
   ]
  },
  {
   "cell_type": "code",
   "execution_count": 44,
   "id": "7a69f13a-56ae-4bf7-9036-56b4a7ac6a48",
   "metadata": {},
   "outputs": [
    {
     "name": "stdout",
     "output_type": "stream",
     "text": [
      "(50, 1350, 270)\n"
     ]
    }
   ],
   "source": [
    "# Perform calculations\n",
    "budgO[\"zconv\"] = oceFWflx\n",
    "budgI[\"zconv\"] = SIatmFW - oceFWflx\n",
    "\n",
    "if not myparms[\"useRFWF\"]:\n",
    "    budgO[\"zconv\"] = 0 * budgO[\"zconv\"]\n",
    "\n",
    "trWtop = -WVELMASS * myparms[\"rhoconst\"]\n",
    "print(trWtop.shape)\n",
    "\n",
    "if myparms[\"useNLFS\"] < 2 or myparms[\"rStar\"] == 0:\n",
    "    trWtop[0, :, :] = oceFWflx\n",
    "    if not myparms[\"useRFWF\"]:\n",
    "        trWtop[0,:, :] = -WVELMASS[0,:, :] * myparms[\"rhoconst\"]\n",
    "\n",
    "# same size trWtop and TrWbot\n",
    "trWbot = np.zeros_like(trWtop)\n",
    "trWbot[:-1,:, :] = trWtop[1:,:, :]\n",
    "\n",
    "#budgO[\"fluxes\"] = {}\n",
    "budgO[\"fluxes\"][\"trWtop\"] = trWtop * RAC3\n",
    "budgO[\"fluxes\"][\"trWbot\"] = trWbot * RAC3\n",
    "budgO[\"fluxes\"][\"zconv\"] = budgO[\"fluxes\"][\"trWtop\"] - budgO[\"fluxes\"][\"trWbot\"]\n",
    "\n",
    "# changed axis here to 0 because we're looking at z\n",
    "if myparms[\"useNLFS\"] < 2 or (myparms[\"rStar\"] == 0 and not myparms[\"useRFWF\"]):\n",
    "    budgO[\"zconv\"] += np.sum(trWtop - trWbot, axis=0)\n",
    "\n",
    "# budgI[\"fluxes\"] = {}\n",
    "# budgI[\"fluxes\"][\"trWtop\"] = -RAC * (budgI[\"zconv\"] + budgO[\"zconv\"])\n",
    "# budgI[\"fluxes\"][\"trWbot\"] = -RAC * budgO[\"zconv\"]\n",
    "\n",
    "budgO[\"zconv\"] = RAC * budgO[\"zconv\"]\n",
    "# budgI[\"zconv\"] = RAC * budgI[\"zconv\"]\n",
    "# budgOI[\"zconv\"] = budgO[\"zconv\"] + budgI[\"zconv\"]"
   ]
  },
  {
   "cell_type": "markdown",
   "id": "57adfb21-b4ff-4faf-8ef1-bb5183319c6a",
   "metadata": {},
   "source": [
    "### Is this budgeted in horizontal space?"
   ]
  },
  {
   "cell_type": "code",
   "execution_count": 45,
   "id": "79e145b1-7d8c-480d-8d44-7b374361057f",
   "metadata": {},
   "outputs": [],
   "source": [
    "# pick one point from face 3 and one point from face 1\n",
    "pt = np.array([[25,500,4],       # this is organized as x,y,z\n",
    "               [220,445,10]])"
   ]
  },
  {
   "cell_type": "code",
   "execution_count": 46,
   "id": "2177cd35-a1ce-4d8c-8bca-fecb5f8d1a94",
   "metadata": {},
   "outputs": [
    {
     "data": {
      "image/png": "[encoded data removed]",
      "text/plain": [
       "<Figure size 950x850 with 2 Axes>"
      ]
     },
     "metadata": {},
     "output_type": "display_data"
    }
   ],
   "source": [
    "# Figure 1\n",
    "plt.figure(1, figsize=(9.5, 8.5))\n",
    "aa = np.zeros((nz, 4))\n",
    "plt.suptitle(\"Depth-\")\n",
    "\n",
    "# four figures labeled n\n",
    "for n in range(1, 3):\n",
    "    ix, iy, k = pt[n-1]\n",
    "    aa[:, n-1] = budgO['fluxes']['tend'][:, iy, ix] - budgO['fluxes']['zconv'][:, iy, ix] - budgO['fluxes']['hconv'][:, iy, ix]\n",
    "    #aa[:, n-1] = budgO['tend'][iy, ix] - budgO['hconv'][0,iy, ix] - budgO['zconv'][iy, ix]\n",
    "\n",
    "    plt.subplot(2, 2, n)\n",
    "    plt.plot(aa[:, n-1], -np.arange(1, nz+1), '.-')\n",
    "    plt.grid()\n",
    "    #plt.xlabel(f\"net budg{strbudg[0]}o\")\n",
    "    plt.xlabel(\"Net Mass\")\n",
    "    plt.ylabel(\"Model Depth Level\")\n",
    "    plt.title(f\"[ix,iy]=[{iy},{ix}]; {100 * np.nanmax(np.abs(aa[:, n-1]))/np.nanmax(np.abs(budgO['fluxes']['zconv'][:,iy, ix]))}%\")\n",
    "        \n",
    "plt.tight_layout()\n",
    "plt.show()"
   ]
  },
  {
   "cell_type": "code",
   "execution_count": 30,
   "id": "ebe746cc-0d89-4407-b079-413fa5c9ffd8",
   "metadata": {},
   "outputs": [],
   "source": [
    "a = budgO['fluxes']['tend'] * np.tile(hfC1p[np.newaxis,:, :], (nz, 1, 1))\n",
    "b = budgO['fluxes']['hconv'] * np.tile(hfC1p[np.newaxis,:, :], (nz, 1, 1))\n",
    "c = budgO['fluxes']['zconv'] * np.tile(hfC1p[np.newaxis,:, :], (nz, 1, 1))\n",
    "\n",
    "a[np.isnan(a)] = 0\n",
    "b[np.isnan(b)] = 0\n",
    "c[np.isnan(c)] = 0"
   ]
  },
  {
   "cell_type": "code",
   "execution_count": null,
   "id": "7208f086-e9d1-4e95-b50d-d6801866e528",
   "metadata": {},
   "outputs": [],
   "source": [
    "# Figure 2\n",
    "\n",
    "\n",
    "klev = [1, 2, 15]\n",
    "fig, axes = plt.subplots(3, 4, figsize=(14, 9))\n",
    "\n",
    "for idx, k1 in enumerate(klev):\n",
    "    str_k = f\"; k={k1}\"\n",
    "    fourth = 1\n",
    "    for j, (data, title) in enumerate([(a, 'tend'), (b, 'hconv'), (c, 'zconv'), (a-b-c, 'tend-hconv-zconv')]):\n",
    "        ax = axes[idx, j]\n",
    "        mydata = get_aste_tracer(data[k1-1,:, :],nfx,nfy)[0]\n",
    "        #mydata = data[k1-1,:, :]\n",
    "        if fourth == 4:\n",
    "            pcm = ax.pcolormesh(mydata, cmap='seismic', vmin=-1e-6, vmax=1e-6)\n",
    "        else:\n",
    "            pcm = ax.pcolormesh(mydata, cmap='seismic', vmin=-0.99*abs(data[k1-1,:, :].max()), vmax=0.99*abs(data[k1-1,:, :].max()))\n",
    "        fig.colorbar(pcm, ax=ax)\n",
    "\n",
    "        #ax.scatter(get_aste_tracer(np.array([[533],[56]]),nfx,nfy)[0])\n",
    "    \n",
    "        ax.set_title(f\"{strbudg} {title} {str_k}\")\n",
    "        ax.set_xlim(410,540)\n",
    "        ax.set_ylim(420,610)\n",
    "\n",
    "        fourth += 1\n",
    "\n",
    "plt.tight_layout()\n",
    "# plt.savefig(f\"{dirOut}{strbudg}_budget2_{t2:010}.png\")\n",
    "plt.show()"
   ]
  },
  {
   "cell_type": "markdown",
   "id": "ba7430c7-ad4d-4b47-99ad-0ffcbd36d09f",
   "metadata": {},
   "source": [
    "# do a single point comparison to prove that this is budgeted"
   ]
  },
  {
   "cell_type": "code",
   "execution_count": null,
   "id": "43cbb24a-7e51-4972-a91a-1d5fe8b5a56b",
   "metadata": {},
   "outputs": [],
   "source": [
    "UVELMASS[18,y,x]"
   ]
  },
  {
   "cell_type": "code",
   "execution_count": null,
   "id": "6fd39c25-8f69-4cae-a76f-7842ec9265a8",
   "metadata": {},
   "outputs": [],
   "source": [
    "# do the surface, bottom and one other point\n",
    "x = pt[0][0]\n",
    "y = pt[0][1]\n",
    "z = 18    # also do 5, 18 (or 17)"
   ]
  },
  {
   "cell_type": "code",
   "execution_count": null,
   "id": "0780cb8f-e23c-401a-9ecd-fa3ea1a7cc75",
   "metadata": {},
   "outputs": [],
   "source": [
    "# do the point breakdown\n",
    "a = (budgO['fluxes']['tend'][z, y, x])\n",
    "b = (budgO['fluxes']['zconv'][z, y, x])\n",
    "c = (budgO['fluxes']['hconv'][z, y, x])\n",
    "print(a-b-c)"
   ]
  },
  {
   "cell_type": "markdown",
   "id": "5a4e39db-7af6-4d6d-8348-429217609292",
   "metadata": {},
   "source": [
    "# great, this is budgeted, now we can move on to heat and try to create the vectors"
   ]
  },
  {
   "cell_type": "code",
   "execution_count": null,
   "id": "887e75d9-c11d-4737-a6d7-6d95a2be34d5",
   "metadata": {},
   "outputs": [],
   "source": []
  }
 ],
 "metadata": {
  "kernelspec": {
   "display_name": "py38",
   "language": "python",
   "name": "py38"
  },
  "language_info": {
   "codemirror_mode": {
    "name": "ipython",
    "version": 3
   },
   "file_extension": ".py",
   "mimetype": "text/x-python",
   "name": "python",
   "nbconvert_exporter": "python",
   "pygments_lexer": "ipython3",
   "version": "3.8.18"
  }
 },
 "nbformat": 4,
 "nbformat_minor": 5
}
