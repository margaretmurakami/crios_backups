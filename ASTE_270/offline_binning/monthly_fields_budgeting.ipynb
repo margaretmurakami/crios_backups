{
 "cells": [
  {
   "cell_type": "markdown",
   "id": "7aa19ada-5bc4-4a74-acde-8efa2ba11075",
   "metadata": {},
   "source": [
    "### Packages"
   ]
  },
  {
   "cell_type": "code",
   "execution_count": 1,
   "id": "5ecda05c-8e00-4e3c-be06-36e0ab1f81c0",
   "metadata": {},
   "outputs": [],
   "source": [
    "import numpy as np\n",
    "import sys\n",
    "import matplotlib.pyplot as plt\n",
    "import xarray as xr\n",
    "import h5py\n",
    "from scipy.io import loadmat\n",
    "import matplotlib as mpl\n",
    "\n",
    "# import existing python files\n",
    "plt.rcParams['figure.figsize'] = (10,4)\n",
    "\n",
    "# add rdmds reading functions to path\n",
    "sys.path.append(\"/home/mmurakami/MITgcm/MITgcm_c68r/MITgcm-checkpoint68r/utils/python/MITgcmutils/MITgcmutils/\") # go to parent dir\n",
    "from mds import *\n",
    "\n",
    "# add the other files\n",
    "sys.path.append(\"/home/mmurakami/crios_backups/an_helper_functions\")\n",
    "from read_binary import *\n",
    "from aste_helper_funcs import *"
   ]
  },
  {
   "cell_type": "markdown",
   "id": "98548388-7f67-4455-b271-a7e9c41355e8",
   "metadata": {},
   "source": [
    "### Load grid"
   ]
  },
  {
   "cell_type": "code",
   "execution_count": 2,
   "id": "1003fd58-b806-42fc-a006-9eb4ffc27807",
   "metadata": {},
   "outputs": [],
   "source": [
    "dirroot = \"/scratch2/atnguyen/aste_270x450x180/\"\n",
    "dirRun = \"/scratch/atnguyen/aste_270x450x180/OFFICIAL_ASTE_R1_Sep2019/\"\n",
    "dirDiags = dirRun + \"diags/\"\n",
    "dirState = dirDiags + \"STATE/\"\n",
    "dirgrid = dirroot + \"GRID_real8/\"\n",
    "dirgridnb = dirroot + \"GRID_noblank/\"\n",
    "dirgridw = dirroot + \"GRID_wet/\""
   ]
  },
  {
   "cell_type": "code",
   "execution_count": 3,
   "id": "1cf10198-e21b-497f-b473-31b404b1a028",
   "metadata": {},
   "outputs": [],
   "source": [
    "bigaste = True    # set up something to trigger in case we run with either big or little\n",
    "\n",
    "if bigaste:\n",
    "    nx = 270\n",
    "    ncut1 = 450\n",
    "    ncut2 = 180\n",
    "else:\n",
    "    nx = 90\n",
    "    ncut1 = 150\n",
    "    ncut2 = 60\n",
    "    \n",
    "ny = 2*ncut1+nx+ncut2\n",
    "nz = 50\n",
    "nfx = np.array([nx, 0 , nx, ncut2 ,ncut1])\n",
    "nfy = np.array([ncut1, 0 , nx, nx, nx])"
   ]
  },
  {
   "cell_type": "markdown",
   "id": "f7e6594c-3f3d-4e89-afe9-72170120a836",
   "metadata": {},
   "source": [
    "### Peek at the files"
   ]
  },
  {
   "cell_type": "code",
   "execution_count": 6,
   "id": "09960676-ef03-45c5-ab7c-04c3de607739",
   "metadata": {},
   "outputs": [],
   "source": [
    "path_ma = \"/scratch/atnguyen/aste_270x450x180/OFFICIAL_ASTE_R1_Sep2019/diags/BUDG/\""
   ]
  },
  {
   "cell_type": "code",
   "execution_count": 7,
   "id": "cbdf49f2-6919-42bd-b48b-b205af943567",
   "metadata": {},
   "outputs": [],
   "source": [
    "file_name = 'budg2d_snap_set1'\n",
    "tsstr = \"0000240912\"\n",
    "meta_budg2d_snap_set1 = parsemeta(path_ma + file_name + \".\" + tsstr + \".meta\")"
   ]
  },
  {
   "cell_type": "code",
   "execution_count": 8,
   "id": "889522a7-fcf8-482e-8a4b-206590a637b1",
   "metadata": {},
   "outputs": [
    {
     "data": {
      "text/plain": [
       "{'nDims': [2],\n",
       " 'dimList': [90, 1, 90, 4050, 1, 4050],\n",
       " 'dataprec': ['float64'],\n",
       " 'nrecords': [6],\n",
       " 'timeStepNumber': [240912],\n",
       " 'timeInterval': [144547200.0],\n",
       " 'missingValue': [-999.0],\n",
       " 'nFlds': [6],\n",
       " 'fldList': ['ETAN', 'SIheff', 'SIhsnow', 'SIarea', 'sIceLoad', 'PHIBOT']}"
      ]
     },
     "execution_count": 8,
     "metadata": {},
     "output_type": "execute_result"
    }
   ],
   "source": [
    "meta_budg2d_snap_set1"
   ]
  },
  {
   "cell_type": "code",
   "execution_count": null,
   "id": "fa74c9fd-9999-4b2c-96f2-9eb57472e8c1",
   "metadata": {},
   "outputs": [],
   "source": []
  }
 ],
 "metadata": {
  "kernelspec": {
   "display_name": "py38",
   "language": "python",
   "name": "py38"
  },
  "language_info": {
   "codemirror_mode": {
    "name": "ipython",
    "version": 3
   },
   "file_extension": ".py",
   "mimetype": "text/x-python",
   "name": "python",
   "nbconvert_exporter": "python",
   "pygments_lexer": "ipython3",
   "version": "3.8.18"
  }
 },
 "nbformat": 4,
 "nbformat_minor": 5
}
