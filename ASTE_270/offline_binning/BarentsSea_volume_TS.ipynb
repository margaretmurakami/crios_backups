{
 "cells": [
  {
   "cell_type": "markdown",
   "id": "e5e7e160-92f0-40fc-90e5-8a60db4c19f0",
   "metadata": {},
   "source": [
    "# 4/23 - Barents Sea example\n",
    "\n",
    "In this notebook we want to attempt a few things in the Barents Sea as an example:\n",
    "\n",
    "- TS and volume distributions over 2014\n",
    "- TS and volume distributinos over the 5-year period\n",
    "- specific properties and their variation with T and S (T will be on x axis, heat flux sum on y-axis as an example, or summed advective flux on y-axis)\n",
    "- label water masses or think about what can be seen in these TS diagrams"
   ]
  },
  {
   "cell_type": "markdown",
   "id": "17a32997-732b-4c97-bb4e-58bd8b52c7cf",
   "metadata": {},
   "source": [
    "### Import packages, libraries, functions"
   ]
  },
  {
   "cell_type": "code",
   "execution_count": 1,
   "id": "c1802900-b34b-490c-983a-a7a32d987bb5",
   "metadata": {},
   "outputs": [],
   "source": [
    "import numpy as np\n",
    "import sys\n",
    "import matplotlib.pyplot as plt\n",
    "import xarray as xr\n",
    "import h5py\n",
    "from scipy.io import loadmat\n",
    "import matplotlib as mpl\n",
    "import time\n",
    "import gsw\n",
    "\n",
    "# import existing python files\n",
    "plt.rcParams['figure.figsize'] = (10,4)\n",
    "\n",
    "# add rdmds reading functions to path\n",
    "sys.path.append(\"/home/mmurakami/MITgcm/MITgcm_c68r/MITgcm-checkpoint68r/utils/python/MITgcmutils/MITgcmutils/\") # go to parent dir\n",
    "from mds import *\n",
    "\n",
    "# add the other files\n",
    "sys.path.append(\"/home/mmurakami/crios_backups/an_helper_functions\")\n",
    "from read_binary import *\n",
    "from aste_helper_funcs import *"
   ]
  },
  {
   "cell_type": "markdown",
   "id": "c0699f43-8d56-413f-b30d-84f4ee6f66a6",
   "metadata": {},
   "source": [
    "### Get the timesteps we want from the timestep.txt file"
   ]
  },
  {
   "cell_type": "code",
   "execution_count": 25,
   "id": "8e734860-0d80-4b77-aac4-72313c5a24a2",
   "metadata": {},
   "outputs": [],
   "source": [
    "inf_name = \"/scratch/atnguyen/aste_270x450x180/OFFICIAL_ASTE_R1_Sep2019/timestep.txt\"\n",
    "with open(inf_name) as inf:\n",
    "    lines = inf.readlines()\n",
    "inf.close()\n",
    "\n",
    "timestep = np.zeros((len(lines),len(lines[0].split())))\n",
    "for line in range(len(lines)):\n",
    "    myline = lines[line].split()\n",
    "    timestep[line] = myline\n",
    "\n",
    "timestep = timestep.astype(int)   # this is now the list of files, index"
   ]
  },
  {
   "cell_type": "code",
   "execution_count": 26,
   "id": "0499a82f-5db0-49a8-9bd3-14000be7188a",
   "metadata": {},
   "outputs": [],
   "source": [
    "# we want two subsets of data 2014 and 2006-2011\n",
    "p1 =np.array([2014])\n",
    "p2 = np.arange(2006,2012,1)"
   ]
  },
  {
   "cell_type": "code",
   "execution_count": 31,
   "id": "fbdde9f4-2def-4f59-865a-66379e8fa4b3",
   "metadata": {},
   "outputs": [
    {
     "data": {
      "text/plain": [
       "array([[  2014,      1,      1, 631152, 735600],\n",
       "       [  2014,      2,      1, 635616, 735631],\n",
       "       [  2014,      3,      1, 639648, 735659],\n",
       "       [  2014,      4,      1, 644112, 735690],\n",
       "       [  2014,      5,      1, 648432, 735720],\n",
       "       [  2014,      6,      1, 652896, 735751],\n",
       "       [  2014,      7,      1, 657216, 735781],\n",
       "       [  2014,      8,      1, 661680, 735812],\n",
       "       [  2014,      9,      1, 666144, 735843],\n",
       "       [  2014,     10,      1, 670464, 735873],\n",
       "       [  2014,     11,      1, 674928, 735904],\n",
       "       [  2014,     12,      1, 679248, 735934]])"
      ]
     },
     "execution_count": 31,
     "metadata": {},
     "output_type": "execute_result"
    }
   ],
   "source": [
    "r1 = timestep[np.isin(timestep[:,0],p1)]\n",
    "r1"
   ]
  },
  {
   "cell_type": "code",
   "execution_count": 32,
   "id": "51bdaec5-413d-4d04-aeaf-415a37a23080",
   "metadata": {},
   "outputs": [
    {
     "data": {
      "text/plain": [
       "array([[  2006,      1,      1, 210384, 732678],\n",
       "       [  2006,      2,      1, 214848, 732709],\n",
       "       [  2006,      3,      1, 218880, 732737],\n",
       "       [  2006,      4,      1, 223344, 732768],\n",
       "       [  2006,      5,      1, 227664, 732798],\n",
       "       [  2006,      6,      1, 232128, 732829],\n",
       "       [  2006,      7,      1, 236448, 732859],\n",
       "       [  2006,      8,      1, 240912, 732890],\n",
       "       [  2006,      9,      1, 245376, 732921],\n",
       "       [  2006,     10,      1, 249696, 732951],\n",
       "       [  2006,     11,      1, 254160, 732982],\n",
       "       [  2006,     12,      1, 258480, 733012],\n",
       "       [  2007,      1,      1, 262944, 733043],\n",
       "       [  2007,      2,      1, 267408, 733074],\n",
       "       [  2007,      3,      1, 271440, 733102],\n",
       "       [  2007,      4,      1, 275904, 733133],\n",
       "       [  2007,      5,      1, 280224, 733163],\n",
       "       [  2007,      6,      1, 284688, 733194],\n",
       "       [  2007,      7,      1, 289008, 733224],\n",
       "       [  2007,      8,      1, 293472, 733255],\n",
       "       [  2007,      9,      1, 297936, 733286],\n",
       "       [  2007,     10,      1, 302256, 733316],\n",
       "       [  2007,     11,      1, 306720, 733347],\n",
       "       [  2007,     12,      1, 311040, 733377],\n",
       "       [  2008,      1,      1, 315504, 733408],\n",
       "       [  2008,      2,      1, 319968, 733439],\n",
       "       [  2008,      3,      1, 324144, 733468],\n",
       "       [  2008,      4,      1, 328608, 733499],\n",
       "       [  2008,      5,      1, 332928, 733529],\n",
       "       [  2008,      6,      1, 337392, 733560],\n",
       "       [  2008,      7,      1, 341712, 733590],\n",
       "       [  2008,      8,      1, 346176, 733621],\n",
       "       [  2008,      9,      1, 350640, 733652],\n",
       "       [  2008,     10,      1, 354960, 733682],\n",
       "       [  2008,     11,      1, 359424, 733713],\n",
       "       [  2008,     12,      1, 363744, 733743],\n",
       "       [  2009,      1,      1, 368208, 733774],\n",
       "       [  2009,      2,      1, 372672, 733805],\n",
       "       [  2009,      3,      1, 376704, 733833],\n",
       "       [  2009,      4,      1, 381168, 733864],\n",
       "       [  2009,      5,      1, 385488, 733894],\n",
       "       [  2009,      6,      1, 389952, 733925],\n",
       "       [  2009,      7,      1, 394272, 733955],\n",
       "       [  2009,      8,      1, 398736, 733986],\n",
       "       [  2009,      9,      1, 403200, 734017],\n",
       "       [  2009,     10,      1, 407520, 734047],\n",
       "       [  2009,     11,      1, 411984, 734078],\n",
       "       [  2009,     12,      1, 416304, 734108],\n",
       "       [  2010,      1,      1, 420768, 734139],\n",
       "       [  2010,      2,      1, 425232, 734170],\n",
       "       [  2010,      3,      1, 429264, 734198],\n",
       "       [  2010,      4,      1, 433728, 734229],\n",
       "       [  2010,      5,      1, 438048, 734259],\n",
       "       [  2010,      6,      1, 442512, 734290],\n",
       "       [  2010,      7,      1, 446832, 734320],\n",
       "       [  2010,      8,      1, 451296, 734351],\n",
       "       [  2010,      9,      1, 455760, 734382],\n",
       "       [  2010,     10,      1, 460080, 734412],\n",
       "       [  2010,     11,      1, 464544, 734443],\n",
       "       [  2010,     12,      1, 468864, 734473],\n",
       "       [  2011,      1,      1, 473328, 734504],\n",
       "       [  2011,      2,      1, 477792, 734535],\n",
       "       [  2011,      3,      1, 481824, 734563],\n",
       "       [  2011,      4,      1, 486288, 734594],\n",
       "       [  2011,      5,      1, 490608, 734624],\n",
       "       [  2011,      6,      1, 495072, 734655],\n",
       "       [  2011,      7,      1, 499392, 734685],\n",
       "       [  2011,      8,      1, 503856, 734716],\n",
       "       [  2011,      9,      1, 508320, 734747],\n",
       "       [  2011,     10,      1, 512640, 734777],\n",
       "       [  2011,     11,      1, 517104, 734808],\n",
       "       [  2011,     12,      1, 521424, 734838]])"
      ]
     },
     "execution_count": 32,
     "metadata": {},
     "output_type": "execute_result"
    }
   ],
   "source": [
    "r2 = timestep[np.isin(timestep[:,0],p2)]\n",
    "r2"
   ]
  },
  {
   "cell_type": "code",
   "execution_count": null,
   "id": "153c0a5a-d776-4923-a9e8-62fbfcb9d85a",
   "metadata": {},
   "outputs": [],
   "source": []
  }
 ],
 "metadata": {
  "kernelspec": {
   "display_name": "py38",
   "language": "python",
   "name": "py38"
  },
  "language_info": {
   "codemirror_mode": {
    "name": "ipython",
    "version": 3
   },
   "file_extension": ".py",
   "mimetype": "text/x-python",
   "name": "python",
   "nbconvert_exporter": "python",
   "pygments_lexer": "ipython3",
   "version": "3.8.18"
  }
 },
 "nbformat": 4,
 "nbformat_minor": 5
}
