{
 "cells": [
  {
   "cell_type": "markdown",
   "id": "e5e7e160-92f0-40fc-90e5-8a60db4c19f0",
   "metadata": {},
   "source": [
    "# Barents Sea example\n",
    "\n",
    "In this notebook we want to attempt a few things in the Barents Sea as an example:\n",
    "\n",
    "- TS and volume distributions over 2014\n",
    "- TS and volume distributinos over the 5-year period\n",
    "- specific properties and their variation with T and S (T will be on x axis, heat flux sum on y-axis as an example, or summed advective flux on y-axis)\n",
    "- label water masses or think about what can be seen in these TS diagrams"
   ]
  },
  {
   "cell_type": "markdown",
   "id": "17a32997-732b-4c97-bb4e-58bd8b52c7cf",
   "metadata": {},
   "source": [
    "### Import packages, libraries, functions"
   ]
  },
  {
   "cell_type": "code",
   "execution_count": 1,
   "id": "c1802900-b34b-490c-983a-a7a32d987bb5",
   "metadata": {},
   "outputs": [],
   "source": [
    "import numpy as np\n",
    "import sys\n",
    "import matplotlib.pyplot as plt\n",
    "import xarray as xr\n",
    "import h5py\n",
    "from scipy.io import loadmat\n",
    "import matplotlib as mpl\n",
    "import time\n",
    "import gsw\n",
    "\n",
    "# import existing python files\n",
    "plt.rcParams['figure.figsize'] = (10,4)\n",
    "\n",
    "# add rdmds reading functions to path\n",
    "sys.path.append(\"/home/mmurakami/MITgcm/MITgcm_c68r/MITgcm-checkpoint68r/utils/python/MITgcmutils/MITgcmutils/\") # go to parent dir\n",
    "from mds import *\n",
    "\n",
    "# add the other files\n",
    "sys.path.append(\"/home/mmurakami/crios_backups/an_helper_functions\")\n",
    "from read_binary import *\n",
    "from calc_UV_conv_1face import calc_UV_conv_1face\n",
    "from calc_mskmean_T_mod import calc_mskmean_T_mod\n",
    "from mk3D_mod import mk3D_mod\n",
    "from aste_helper_funcs import *\n",
    "from ts2dte import ts2dte"
   ]
  },
  {
   "cell_type": "markdown",
   "id": "6c9d91f5-edb2-4d2b-bd31-a159d4a0e8fc",
   "metadata": {},
   "source": [
    "### Read grid and masks"
   ]
  },
  {
   "cell_type": "code",
   "execution_count": 2,
   "id": "6bd4a119-baf8-43e9-a0cf-e08be71b1d40",
   "metadata": {},
   "outputs": [],
   "source": [
    "dirroot = \"/scratch2/atnguyen/aste_270x450x180/\"\n",
    "dirrun = \"/scratch/atnguyen/aste_270x450x180/OFFICIAL_ASTE_R1_Sep2019/\"\n",
    "dirIn = dirrun + \"diags/BUDG/\"\n",
    "dirDiags = dirrun + \"diags/\"\n",
    "dirState = dirDiags + \"STATE/\"\n",
    "dirGrid = dirroot + \"GRID_real8/\"\n",
    "dirgridnb = dirroot + \"GRID_noblank/\"\n",
    "dirgridw = dirroot + \"GRID_wet/\""
   ]
  },
  {
   "cell_type": "code",
   "execution_count": 3,
   "id": "7fb2945a-8d59-487a-bf5f-81c7ff9176ec",
   "metadata": {},
   "outputs": [],
   "source": [
    "bigaste = True\n",
    "\n",
    "if bigaste:\n",
    "    nx = 270\n",
    "    ncut1 = 450\n",
    "    ncut2 = 180\n",
    "else:\n",
    "    nx = 90\n",
    "    ncut1 = 150\n",
    "    ncut2 = 60\n",
    "    \n",
    "ny = 2*ncut1+nx+ncut2\n",
    "nz = 50\n",
    "nfx = np.array([nx, 0 , nx, ncut2 ,ncut1])\n",
    "nfy = np.array([ncut1, 0 , nx, nx, nx])"
   ]
  },
  {
   "cell_type": "code",
   "execution_count": 4,
   "id": "551cfa17-78a7-47f8-a527-159be0b1b931",
   "metadata": {},
   "outputs": [],
   "source": [
    "# save myParms from An hard-coding\n",
    "save_budg_3d = 0\n",
    "save_budg_2d = 1\n",
    "save_budg_scalar = 0\n",
    "save_budg_lev = 0\n",
    "\n",
    "strbudg = 'Mass'\n",
    "kBudget = 1\n",
    "test3d = True\n",
    "plot_fig = 1\n",
    "# kz = [[1, 5], [6, 10], [11, 19], [20, 23]]\n",
    "\n",
    "myparms = {\n",
    "    'yearFirst': 1979,\n",
    "    'yearLast': 1979,\n",
    "    'yearInAv': [1979, 1979],\n",
    "    'timeStep': 3600,\n",
    "    'iceModel': 1,\n",
    "    'useRFWF': 1,\n",
    "    'useNLFS': 4,\n",
    "    'rStar': 2,\n",
    "    'rhoconst': 1029,\n",
    "    'rcp': 1029 * 3994,\n",
    "    'rhoi': 910,\n",
    "    'rhosn': 330,\n",
    "    'flami': 334000,\n",
    "    'flamb': 2500000,\n",
    "    'SIsal0': 4,\n",
    "    'diagsAreMonthly': 0,\n",
    "    'diagsAreAnnual': 0,\n",
    "    'recInAve': [1, 2],\n",
    "    'SaltPlumeHeatFlux': 0,  # Not sure what this is\n",
    "    'conserveTr': 0\n",
    "}\n",
    "\n",
    "deltaTime = myparms['timeStep']\n",
    "dt = 86400"
   ]
  },
  {
   "cell_type": "code",
   "execution_count": 5,
   "id": "dcc2f33a-34df-4f35-9e55-cafc4c6c75e0",
   "metadata": {},
   "outputs": [],
   "source": [
    "# get time-steps:\n",
    "flist = [f for f in os.listdir(dirIn) if f.startswith('budg2d_snap_set1.') and f.endswith('.data')]\n",
    "idot = flist[0].index('.')\n",
    "idot = [idot+1, flist[0][idot+1:].index('.')+idot+1]\n",
    "idot = np.asarray(idot,dtype=int)\n",
    "\n",
    "mygrid = {\n",
    "    'dirGrid': dirGrid,\n",
    "    'nFaces': 1,\n",
    "    'fileFormat': 'compact',\n",
    "    'memoryLimit': 2,\n",
    "    'ioSize': [nx*ny, 1],\n",
    "    'facesSize': [ny, nx],\n",
    "    'facesExpand': [ny, nx],\n",
    "    'missVal': 0,\n",
    "}\n",
    "\n",
    "fldstr2d = ['XC','YC','XG','YG','RAC','Depth','DXG','DYG','DXC','DYC']\n",
    "fldstr3d = ['hFacC','hFacW','hFacS','mskC','mskS','mskW']\n",
    "fldstr3dp = ['hFacC','hFacW','hFacS','maskCtrlC','maskCtrlS','maskCtrlW']\n",
    "fldstr1d = ['RC','RF','DRC','DRF']\n",
    "\n",
    "for fld in fldstr1d:\n",
    "    mygrid[fld] = np.squeeze(rdmds(os.path.join(dirGrid, fld)))\n",
    "\n",
    "for fld in fldstr3d:\n",
    "    temp = rdmds(os.path.join(dirGrid, fldstr3dp[fldstr3d.index(fld)]))\n",
    "    mygrid[fld] = temp.reshape(nz, ny, nx)\n",
    "\n",
    "for fld in fldstr2d:\n",
    "    temp = rdmds(os.path.join(dirGrid, fld))\n",
    "    mygrid[fld] = temp.reshape(ny, nx)\n",
    "\n",
    "mygrid['mskC'][mygrid['mskC'] == 0] = np.nan\n",
    "\n",
    "areaW, areaS, Vol = [], [], []\n",
    "for k in range(nz):\n",
    "    areaW.append(mygrid['DYG'] * mygrid['DRF'][k])\n",
    "    areaS.append(mygrid['DXG'] * mygrid['DRF'][k])\n",
    "    Vol.append(mygrid['RAC'] * mygrid['DRF'][k])"
   ]
  },
  {
   "cell_type": "code",
   "execution_count": 6,
   "id": "7aca642d-c7a4-45f9-9001-d06815b1700a",
   "metadata": {},
   "outputs": [
    {
     "name": "stdout",
     "output_type": "stream",
     "text": [
      "(50,) (50, 1350, 270)\n"
     ]
    }
   ],
   "source": [
    "# block out obcs\n",
    "# np tile I think operates the same as repmat in MATLAB\n",
    "RAC = mygrid['RAC']\n",
    "RAC3 = np.tile(RAC,(nz,1,1))\n",
    "\n",
    "hfC = mygrid['hFacC']\n",
    "DD = mygrid['Depth']\n",
    "dxg = mygrid['DXG']\n",
    "dyg = mygrid['DYG']\n",
    "dxg3d = np.tile(dxg,(nz,1,1))\n",
    "dyg3d = np.tile(dyg,(nz,1,1))\n",
    "\n",
    "print(mygrid['DRF'].shape,np.zeros((nz, ny, nx)).shape)\n",
    "drf3d = mk3D_mod(mygrid['DRF'], np.zeros((nz, ny, nx)))\n",
    "DD3d = mk3D_mod(DD,np.zeros((nz, ny, nx)))\n",
    "\n",
    "hfC[hfC == 0] = np.nan\n",
    "hfC1 = hfC[0, :, :]\n",
    "hfC1[hfC1 == 0] = np.nan\n",
    "\n",
    "RACg = RAC * hfC1\n",
    "hfC1p = np.copy(hfC1)\n",
    "\n",
    "hfC1p[:, nx-1] = np.nan\n",
    "hfC1p[ny-1,:] = np.nan\n",
    "RACgp = RAC * hfC1p"
   ]
  },
  {
   "cell_type": "code",
   "execution_count": 7,
   "id": "079d83e4-eb88-4c36-996e-73101cb49bd9",
   "metadata": {},
   "outputs": [
    {
     "name": "stdout",
     "output_type": "stream",
     "text": [
      "hf1 (1350, 270)\n",
      "SZ! (1, 900, 540)\n",
      "shape of fld: (1, 900, 540)\n",
      "(1, 270, 270)\n",
      "(1, 270, 180)\n",
      "(1, 270, 450)\n",
      "(1, 1350, 270)\n",
      "compact shape (1, 1350, 270)\n"
     ]
    }
   ],
   "source": [
    "mygrid['hFacC'][mygrid['hFacC'] > 0] = 1\n",
    "mygrid['hFacC'][mygrid['hFacC'] == 0] = np.nan\n",
    "hf1 = mygrid['hFacC'][0] # top layer in z\n",
    "\n",
    "print(\"hf1\",hf1.shape)\n",
    "\n",
    "hf1 = get_aste_tracer(hf1, nfx, nfy)\n",
    "# check with hardcoding on this for mini or big aste\n",
    "if nx == 90:\n",
    "    hf1[:,281,:] = np.nan\n",
    "    hf1[:,7,:] = np.nan\n",
    "    hf1[:,86,122] = np.nan\n",
    "elif nx == 270:\n",
    "    hf1[:,844,:] = np.nan\n",
    "    hf1[:,23,:] = np.nan\n",
    "    hf1[:,365,260:261] = np.nan\n",
    "\n",
    "hf1 = aste_tracer2compact(hf1,nfx,nfy)\n",
    "hf = mygrid[\"hFacC\"]\n",
    "hf = hf * np.tile(hf1,(nz, 1,1))"
   ]
  },
  {
   "cell_type": "code",
   "execution_count": 8,
   "id": "c3a0ca86-7dc1-4fd2-818a-ae4a8c454bac",
   "metadata": {},
   "outputs": [
    {
     "data": {
      "text/plain": [
       "(50, 1350, 270)"
      ]
     },
     "execution_count": 8,
     "metadata": {},
     "output_type": "execute_result"
    }
   ],
   "source": [
    "# copy basin listing from lookat_layers\n",
    "fileprefix = \"/scratch/pillarh/aste_270x450x180/\"\n",
    "extBasin='run_template/input_maskTransport/'\n",
    "filename = fileprefix + extBasin + \"GATE_transports_v3_osnap.mat\"\n",
    "if nx == 270:\n",
    "    inf = loadmat(filename)\n",
    "    mskBasin = (inf[\"mskBasin\"])\n",
    "\n",
    "mskBasin = mskBasin.T               # python adjustment\n",
    "\n",
    "# this is now different syntax than the other file\n",
    "strb=np.array(['CanadaB','ChukchiS','MakarovB','AmundsenB','NansenB','BeringS','BarentsS','GINs','CAA',\n",
    "               'SPG','LabSea','NPac','NAtlantic','AtlS30'])\n",
    "\n",
    "mskBasin[mskBasin==50] =6\n",
    "mskBasin[mskBasin==200]=7\n",
    "mskBasin[mskBasin==300]=8\n",
    "mskBasin[mskBasin==400]=9\n",
    "mskBasin[mskBasin==500]=9\n",
    "mskBasin[mskBasin==600]=10\n",
    "mskBasin[mskBasin==700]=11\n",
    "mskBasin[mskBasin==-1]=12\n",
    "mskBasin[mskBasin==-100]=13\n",
    "latNA = 30\n",
    "lonNA = -82\n",
    "condition_13 = (mskBasin == 0) & (mygrid['YC'] > latNA) & (mygrid['XC'] > lonNA) & (hf1.reshape((ny,nx)) > 0)\n",
    "mskBasin[condition_13] = 13\n",
    "condition_14 = (mskBasin == 0) & (hf1.reshape((ny,nx)) > 0)\n",
    "mskBasin[condition_14] = 14\n",
    "\n",
    "mskBasin = mskBasin * hf1\n",
    "mskBasin = mskBasin[0,:,:]   # change indexing for  python\n",
    "mskBasin -= 1\n",
    "\n",
    "# create mskBasin3D to also add to the dataset\n",
    "mskBasin3D = np.tile(mskBasin[np.newaxis,:,:],(nz,1,1))\n",
    "mskBasin3D.shape"
   ]
  },
  {
   "cell_type": "code",
   "execution_count": 9,
   "id": "da5bc645-9f17-40b6-bce8-128907abcc9e",
   "metadata": {},
   "outputs": [],
   "source": [
    "wetmask = mygrid['hFacC']"
   ]
  },
  {
   "cell_type": "code",
   "execution_count": 10,
   "id": "a050e8ba-532a-49da-859d-388ef11b3998",
   "metadata": {},
   "outputs": [
    {
     "data": {
      "text/plain": [
       "<matplotlib.colorbar.Colorbar at 0x14f890d011c0>"
      ]
     },
     "execution_count": 10,
     "metadata": {},
     "output_type": "execute_result"
    },
    {
     "data": {
      "image/png": "[encoded data removed]",
      "text/plain": [
       "<Figure size 1000x400 with 6 Axes>"
      ]
     },
     "metadata": {},
     "output_type": "display_data"
    }
   ],
   "source": [
    "fig = plt.figure()\n",
    "\n",
    "ax = fig.add_subplot(131)\n",
    "hfactest = get_aste_tracer(mygrid['hFacC'][0],nfx,nfy)[0]\n",
    "hfactest[450:,:270] = np.nan\n",
    "cb = ax.pcolormesh(hfactest)\n",
    "# plt.colorbar()\n",
    "plt.colorbar(cb)\n",
    "\n",
    "ax = fig.add_subplot(132)\n",
    "hfactest = get_aste_tracer(mygrid['hFacC'][10],nfx,nfy)[0]\n",
    "hfactest[450:,:270] = np.nan\n",
    "cb = ax.pcolormesh(hfactest)\n",
    "plt.colorbar(cb)\n",
    "\n",
    "ax = fig.add_subplot(133)\n",
    "hfactest = get_aste_tracer(mygrid['hFacC'][-1],nfx,nfy)[0]\n",
    "hfactest[450:,:270] = np.nan\n",
    "cb = ax.pcolormesh(hfactest)\n",
    "plt.colorbar(cb)"
   ]
  },
  {
   "cell_type": "code",
   "execution_count": null,
   "id": "82799854-f449-48eb-9eb9-3d0d95b42974",
   "metadata": {},
   "outputs": [],
   "source": [
    "print(mygrid['hFacC'][20])"
   ]
  },
  {
   "cell_type": "code",
   "execution_count": null,
   "id": "c792de70-6efa-40c3-92f5-02a284338ee4",
   "metadata": {},
   "outputs": [],
   "source": [
    "wetmsktest = get_aste_tracer(wetmask[10],nfx,nfy)[0]\n",
    "wetmsktest[450:,:270] = np.nan\n",
    "plt.pcolormesh(wetmsktest*tmp1)\n",
    "plt.colorbar()"
   ]
  },
  {
   "cell_type": "code",
   "execution_count": null,
   "id": "45064335-ac25-4e8b-9e90-f3067054f64e",
   "metadata": {},
   "outputs": [],
   "source": [
    "dims = (\"z\",\"compact_x\",\"compact_y\")\n",
    "coords = {\"z\" : np.arange(0,50,1),\n",
    "          \"compact_x\" : np.arange(0,1350,1),\n",
    "          \"compact_y\" : np.arange(0,270,1)}\n",
    "\n",
    "attrsBasin = {'title' : 'CanadaB: 0, ChukchiS: 1, MakarovB: 2, AmundsenB: 3, NansenB: 4, BeringS: 5, BarentsS: 6, GINs: 7, CAA: 8, SPG: 9, LabSea: 10, NPac: 11, NAtlantic: 12, AtlS30: 13',\n",
    "              'standard_name' : 'Basins labeled',\n",
    "             'units' : 'degree_c'}\n",
    "\n",
    "attrsWet= {'title' : 'model wet points in compact form',\n",
    "         'standard_name' : '1= wet, 0=dry',\n",
    "         'units' : 'boolean'}\n",
    "\n",
    "# add mskBasin and wetmask to the xarray for the dataset\n",
    "mskBasin_3D = xr.DataArray(data = mskBasin*wetmask,\n",
    "                    dims = dims,\n",
    "                    coords = coords,\n",
    "                    attrs = attrsBasin)\n",
    "\n",
    "mskBasin_2D = xr.DataArray(data = mskBasin*wetmask[0,:,:],\n",
    "                    dims = dims[1:],\n",
    "                    coords = [coords[\"compact_x\"],coords[\"compact_y\"]],\n",
    "                    attrs = attrsBasin)\n",
    "\n",
    "wetmask_xr = xr.DataArray(data = wetmask,\n",
    "                    dims = dims,\n",
    "                    coords = coords,\n",
    "                    attrs = attrsWet)\n",
    "\n",
    "\n",
    "ds = xr.Dataset()\n",
    "ds['mskBasin_3D'] = mskBasin_3D\n",
    "ds['mskBasin_2D'] = mskBasin_2D\n",
    "ds['wetmask'] = wetmask_xr"
   ]
  },
  {
   "cell_type": "code",
   "execution_count": null,
   "id": "7d8ca4fa-0618-40c6-b6c2-7dc96151288c",
   "metadata": {},
   "outputs": [],
   "source": [
    "iB = 6   # for Barents\n",
    "myMask = mskBasin.copy()\n",
    "myMask[myMask != iB] = np.nan"
   ]
  },
  {
   "cell_type": "markdown",
   "id": "c0699f43-8d56-413f-b30d-84f4ee6f66a6",
   "metadata": {},
   "source": [
    "### Get the timesteps we want"
   ]
  },
  {
   "cell_type": "code",
   "execution_count": null,
   "id": "68a67fe2-7007-43a1-aa1e-2bcb76dee826",
   "metadata": {},
   "outputs": [],
   "source": [
    "# create an array of the time steps we want to read\n",
    "# use ts2dte to get december 2014\n",
    "# first make an array of filenames\n",
    "dt = 600\n",
    "startyr = 2002\n",
    "endyr = 2019\n",
    "\n",
    "days_reg = np.array([31,28,31,30,31,30,31,31,30,31,30,31])\n",
    "days_leap = np.array([31,29,31,30,31,30,31,31,30,31,30,31])\n",
    "days_reg = days_reg*24*3600/dt\n",
    "days_leap = days_leap*24*3600/dt\n",
    "\n",
    "years = np.arange(startyr,endyr,1)\n",
    "\n",
    "# make an array of all the filenames before cumsum\n",
    "fnames = np.array([],dtype=int)\n",
    "\n",
    "for year in years:\n",
    "    if is_leap(year):\n",
    "        fnames = np.append(fnames,days_leap)\n",
    "    else:\n",
    "        fnames = np.append(fnames,days_reg)\n",
    "fnames = np.cumsum(fnames)"
   ]
  },
  {
   "cell_type": "code",
   "execution_count": null,
   "id": "37331f69-2d7b-419d-8c5b-ef2dfd8c2e70",
   "metadata": {},
   "outputs": [],
   "source": [
    "# now get this specific year, we want December 2014\n",
    "# what if we want\n",
    "months = np.arange(1,13,1)   # all the months of 2014, we also want the first month of 2015 so we can do tendency for 12/2014\n",
    "year = 2014\n",
    "tsstrs = np.array([])\n",
    "datetimes = np.array([])     # make an array of datetime values to store\n",
    "f_toread = np.array([],dtype=int)\n",
    "for inf in fnames:\n",
    "    thisfile = ts2dte(inf,deltat=600,startyr=2002,startmo=1,startdy=1)\n",
    "    if thisfile.year == year and thisfile.month in months: \n",
    "        #print(thisfile)  # this would be used as the second time step for the month of November, not what we want\n",
    "        datetimes = np.append(datetimes,thisfile)\n",
    "        f_toread = np.append(f_toread,int(inf))\n",
    "\n",
    "t_day = f_toread.astype(str)\n",
    "tsstr = np.array([str(item).zfill(10) for item in t_day])\n",
    "\n",
    "# we also want month 1 of 2015\n",
    "months = 1\n",
    "year = 2015\n",
    "f_toread = np.array([],dtype=int)\n",
    "for inf in fnames:\n",
    "    thisfile = ts2dte(inf,deltat=600,startyr=2002,startmo=1,startdy=1)\n",
    "    if thisfile.year == year and thisfile.month == months: \n",
    "        #print(thisfile)  # this would be used as the second time step for the month of November, not what we want\n",
    "        datetimes = np.append(datetimes,thisfile)\n",
    "        f_toread = np.append(f_toread,int(inf))\n",
    "\n",
    "t_day = f_toread.astype(str)\n",
    "t_day = np.array([str(item).zfill(10) for item in t_day])\n",
    "tsstr = np.append(tsstr,t_day)\n",
    "\n",
    "print(tsstr)\n",
    "print(datetimes)"
   ]
  },
  {
   "cell_type": "markdown",
   "id": "caa61ba0-7bb0-4099-9643-cf6b71da5e6b",
   "metadata": {},
   "source": [
    "### Isolate the volumes"
   ]
  },
  {
   "cell_type": "code",
   "execution_count": null,
   "id": "b84bb7d4-0372-4879-bbd0-4ed334f16593",
   "metadata": {},
   "outputs": [],
   "source": [
    "# ocean and ice\n",
    "AB_gT=0\n",
    "debug = False"
   ]
  },
  {
   "cell_type": "code",
   "execution_count": null,
   "id": "3024a977-17f4-4171-9f58-8cafd1113fa5",
   "metadata": {},
   "outputs": [],
   "source": [
    "file_name = 'budg2d_snap_set1'\n",
    "\n",
    "# assuming all files are structured the same\n",
    "meta_budg2d_snap_set1 = parsemeta(dirIn + file_name + \".\" + tsstr[0]+ \".meta\")\n",
    "# try to read this with rec\n",
    "fldlist = np.array(meta_budg2d_snap_set1['fldList'])\n",
    "varnames = np.array(['ETAN','SIheff','SIhsnow'])\n",
    "recs = np.array([])\n",
    "for var in varnames:\n",
    "    irec = np.where(fldlist == var)\n",
    "    recs = np.append(recs, irec[0][0])\n",
    "\n",
    "# set for all months\n",
    "vol = np.zeros((len(tsstr),nz, ny, nx))\n",
    "print(vol.shape)\n",
    "\n",
    "for t in range(len(tsstr)):\n",
    "    t1 = tsstr[t]\n",
    "    #t2 = tsstr[t+1]\n",
    "    read = [int(t1)]\n",
    "\n",
    "    # make sure order we write the variables is the same as the order in varnames, else we read the wrong thing\n",
    "    ETAN,its,meta = rdmds(os.path.join(dirIn, file_name),read,returnmeta=True,rec=recs[0])\n",
    "    SIheff,its,meta = rdmds(os.path.join(dirIn, file_name),read,returnmeta=True,rec=recs[1])\n",
    "    SIhsnow,its,meta = rdmds(os.path.join(dirIn, file_name),read,returnmeta=True,rec=recs[2])\n",
    "\n",
    "    # do differencing\n",
    "    #dETAN_dt =  (ETAN[1, :, :] - ETAN[0, :, :]) / dt  # change naming to dEtan_dt  m/s\n",
    "    #dSIheff_dt =  (SIheff[1, :, :] - SIheff[0, :, :]) / dt\n",
    "    #dSIhsnow_dt = (SIhsnow[1, :, :] - SIhsnow[0, :, :]) / dt\n",
    "\n",
    "    # choose by basin\n",
    "    # select by existing basin in mskBasin\n",
    "    ETAN = np.reshape(ETAN,(ny,nx))\n",
    "    #dETAN_dt = np.reshape(dETAN_dt,(ny,nx)) * myMask\n",
    "    #dSIheff_dt = np.reshape(dSIheff_dt,(ny,nx)) * myMask\n",
    "    #dSIhsnow_dt = np.reshape(dSIhsnow_dt,(ny,nx)) * myMask\n",
    "\n",
    "    # ocean\n",
    "    if debug:\n",
    "        print(read,its[0],its[1]) # these iteration numbers should be the same as read\n",
    "\n",
    "    # 3D, with rStar:\n",
    "    tmpvol = np.zeros((nz, ny, nx))\n",
    "    if myparms['useNLFS'] < 2 or myparms['rStar'] == 0:        # not this time\n",
    "        tmpvol[0,:, :] = ETAN * myparms['rhoconst'] * RAC\n",
    "        if myparms['useRFWF'] == 0:\n",
    "            tmpvol[0, :, :] = np.zeros((ny, nx))\n",
    "    else:    # 4/22 look at this one\n",
    "        if myparms['useRFWF'] != 0:                                 # we are using this  # check if tmp1 is the same as drf3d!!\n",
    "            tmp1 = mk3D_mod(mygrid['DRF'],hfC) * hfC\n",
    "            tmp2 = tmp1/mk3D_mod(DD,tmp1)\n",
    "        else:\n",
    "            tmp2 = drf3d / mk3D_mod(DD, tmp1)\n",
    "            \n",
    "        tmpvol = tmp2 * mk3D_mod(ETAN, tmp2) * mk3D_mod(RAC, hfC)  # removed multiply by rhoconst to get volume alone\n",
    "\n",
    "    vol[t,:,:,:] = tmpvol\n",
    "\n",
    "print(vol.shape)"
   ]
  },
  {
   "cell_type": "markdown",
   "id": "260ee5aa-f96e-4c81-b463-f9b20bf4691c",
   "metadata": {},
   "source": [
    "### Now we can read and bin thetadr and saltdr"
   ]
  },
  {
   "cell_type": "code",
   "execution_count": null,
   "id": "6885f578-f38c-4ed6-9506-29fde33d81bb",
   "metadata": {},
   "outputs": [],
   "source": [
    "dirrun_small = \"/scratch2/atnguyen/aste_270x450x180/run_c67w_layers_budget_nlayersorig_advdiffsplit_FULLYfixedXX_checkedwithAN_it0062_nS112_nT112_pk0000631152/\"\n",
    "\n",
    "binsTH = rdmds(dirrun_small + \"layers2TH\", -1)\n",
    "binsTH_edges = binsTH[:,:,0].flatten()\n",
    "binsTH_centers = (binsTH_edges[:-1] + binsTH_edges[1:])/2\n",
    "nT = binsTH_edges.shape[0]-1\n",
    "\n",
    "binsSLT = rdmds(dirrun_small + \"layers1SLT\", -1)\n",
    "binsSLT_edges = binsSLT[:,:,0].flatten()\n",
    "binsSLT_centers = (binsSLT_edges[:-1] + binsSLT_edges[1:])/2\n",
    "nS = binsSLT_edges.shape[0]-1"
   ]
  },
  {
   "cell_type": "code",
   "execution_count": null,
   "id": "695fc2cf-19a2-4074-97e0-e65a0ae6dc71",
   "metadata": {},
   "outputs": [],
   "source": [
    "myMask[np.newaxis,np.newaxis,:,:].shape"
   ]
  },
  {
   "cell_type": "code",
   "execution_count": null,
   "id": "5daa0033-dec5-4729-ad33-eaeaa6812534",
   "metadata": {},
   "outputs": [],
   "source": [
    "# read in the initial model T-S fields\n",
    "# create an array to store the values at all time steps\n",
    "fileTS = np.zeros((len(tsstr),2,nz,ny,nx))\n",
    "print(fileTS.shape)\n",
    "\n",
    "# read each of the files from the list\n",
    "for t in range(len(tsstr)):\n",
    "    t1 = tsstr[t]\n",
    "    read = int(t1)\n",
    "\n",
    "    # read the file\n",
    "    thisfileTS = rdmds(dirIn + \"budg3d_snap_set2\",read)    # dr values, z, y, x\n",
    "    thisfldListTS = parsemeta(dirIn + \"budg3d_snap_set2.\" + tsstr[t] + \".meta\")[\"fldList\"]\n",
    "    \n",
    "    thisfileTS = thisfileTS.reshape(2,nz, ny, nx)\n",
    "\n",
    "    fileTS[t,:,:,:,:] = thisfileTS"
   ]
  },
  {
   "cell_type": "code",
   "execution_count": null,
   "id": "8886682d-bb3e-4f43-9461-09e9f1431adb",
   "metadata": {},
   "outputs": [],
   "source": [
    "# we should unweight these before we add them to the dataset\n",
    "DRF3d = mk3D_mod(mygrid[\"DRF\"],np.zeros((nz, ny, nx)))\n",
    "temp = fileTS[:,0,:,:,:] / DRF3d\n",
    "salt = fileTS[:,1,:,:,:] / DRF3d"
   ]
  },
  {
   "cell_type": "code",
   "execution_count": null,
   "id": "6afa055d-e540-454b-8010-1eb22afe256e",
   "metadata": {},
   "outputs": [],
   "source": [
    "wetmask.shape"
   ]
  },
  {
   "cell_type": "code",
   "execution_count": null,
   "id": "09fde4ad-aaaa-40ec-8ce6-e2703304b43a",
   "metadata": {},
   "outputs": [],
   "source": [
    "temp[-1,9,:,:].shape"
   ]
  },
  {
   "cell_type": "code",
   "execution_count": null,
   "id": "0dd76257-7427-4ec5-af02-1572732310d3",
   "metadata": {},
   "outputs": [],
   "source": [
    "# should be hardcoded for depth\n",
    "k = 0\n",
    "tmp = temp[-1,k,:,:] * wetmask[k,:,:]\n",
    "slt = salt[-1,k,:,:] * wetmask[k,:,:]\n",
    "\n",
    "# tmp   # mask out the corner\n",
    "print(tmp.shape)"
   ]
  },
  {
   "cell_type": "code",
   "execution_count": null,
   "id": "b51a7363-ea93-4f70-b0aa-2196077ef445",
   "metadata": {},
   "outputs": [],
   "source": [
    "tmp1 = get_aste_tracer(slt,nfx,nfy)[0]\n",
    "tmp1[450:,:270] = np.nan\n",
    "plt.pcolormesh(tmp1)\n",
    "plt.colorbar()"
   ]
  },
  {
   "cell_type": "code",
   "execution_count": null,
   "id": "ae980b45-72e7-4559-b4a4-939ed165279a",
   "metadata": {},
   "outputs": [],
   "source": [
    "mskBasin.shape"
   ]
  },
  {
   "cell_type": "code",
   "execution_count": null,
   "id": "32bf33e6-6891-44c3-a32a-0004039dab48",
   "metadata": {},
   "outputs": [],
   "source": [
    "tmp[mskBasin != 6] = np.nan\n",
    "slt[mskBasin != 6] = np.nan"
   ]
  },
  {
   "cell_type": "code",
   "execution_count": null,
   "id": "40fb444e-9fc5-4819-b187-4697f1068cd0",
   "metadata": {},
   "outputs": [],
   "source": [
    "tmp2 = get_aste_tracer(tmp,nfx,nfy)[0]\n",
    "tmp2[450:,:270] = np.nan\n",
    "plt.pcolormesh(tmp2)\n",
    "plt.colorbar()\n",
    "plt.xlim(400,540)\n",
    "plt.ylim(400,600)"
   ]
  },
  {
   "cell_type": "code",
   "execution_count": null,
   "id": "424e04e4-f9cf-469b-b19b-72964490e9e5",
   "metadata": {},
   "outputs": [],
   "source": [
    "slt2 = get_aste_tracer(slt,nfx,nfy)[0]\n",
    "slt2[450:,:270] = np.nan\n",
    "plt.pcolormesh(slt2)\n",
    "plt.colorbar()\n",
    "plt.xlim(400,540)\n",
    "plt.ylim(400,600)"
   ]
  },
  {
   "cell_type": "code",
   "execution_count": null,
   "id": "4e41723f-772b-4c5d-88aa-56b8cc4d29da",
   "metadata": {},
   "outputs": [],
   "source": [
    "plt.scatter(slt2.flatten(),tmp2.flatten())"
   ]
  },
  {
   "cell_type": "code",
   "execution_count": null,
   "id": "6c975898-c48d-45c5-83f4-be2af9ff4de5",
   "metadata": {},
   "outputs": [],
   "source": [
    "wetmask[wetmask == 0] = np.nan"
   ]
  },
  {
   "cell_type": "code",
   "execution_count": null,
   "id": "56b274b2-f8ef-4f95-9d40-3f05e8984144",
   "metadata": {},
   "outputs": [],
   "source": [
    "dims = (\"iteration\",\"z\",\"compact_x\",\"compact_y\")\n",
    "coords = {\"iteration\" : datetimes,\n",
    "          \"z\" : np.arange(0,50,1),\n",
    "          \"compact_x\" : np.arange(0,1350,1),\n",
    "          \"compact_y\" : np.arange(0,270,1)}\n",
    "\n",
    "attrsT = {'title' : 'wighted T data from budg3d_snap_set2 example from official ASTE',\n",
    "         'standard_name' : 'temperature',\n",
    "         'units' : 'degree_c'}\n",
    "\n",
    "attrsS = {'title' : 'weighted S data from budg3d_snap_set2 example from official ASTE',\n",
    "         'standard_name' : 'salinity',\n",
    "         'units' : 'ppt'}\n",
    "\n",
    "attrsVol = {'title' : 'volume calculated from budg2d_snap_set1',\n",
    "         'standard_name' : 'volume (m^3)',\n",
    "         'units' : 'ppt'}"
   ]
  },
  {
   "cell_type": "code",
   "execution_count": null,
   "id": "6c7aa851-abc7-44e2-a256-6b293ae4ba03",
   "metadata": {},
   "outputs": [],
   "source": [
    "temp = xr.DataArray(data = temp*wetmask[np.newaxis,:,:,:],\n",
    "                    dims = dims,\n",
    "                    coords = coords,\n",
    "                    attrs = attrsT)\n",
    "\n",
    "salt = xr.DataArray(data = temp*wetmask[np.newaxis,:,:,:],\n",
    "                    dims = dims,\n",
    "                    coords = coords,\n",
    "                    attrs = attrsS)\n",
    "\n",
    "volume = xr.DataArray(data = vol*wetmask[np.newaxis,:,:,:],\n",
    "                    dims = dims,\n",
    "                    coords = coords,\n",
    "                    attrs = attrsVol)"
   ]
  },
  {
   "cell_type": "code",
   "execution_count": null,
   "id": "0dfab5a0-7f2e-4984-8d46-1dd743d32f63",
   "metadata": {},
   "outputs": [],
   "source": [
    "ds = xr.Dataset({'theta': temp, 'salinity': salt, 'volume':volume})"
   ]
  },
  {
   "cell_type": "code",
   "execution_count": null,
   "id": "dd2a0858-b4eb-4821-a473-ab4b26646e66",
   "metadata": {},
   "outputs": [],
   "source": [
    "plt.pcolormesh(get_aste_tracer(ds.theta.values[-1,0,:,:],nfx,nfy)[0])"
   ]
  },
  {
   "cell_type": "markdown",
   "id": "5d5cf304-1370-4e13-bd0e-fc55a4bd596c",
   "metadata": {},
   "source": [
    "### Do the binning"
   ]
  },
  {
   "cell_type": "code",
   "execution_count": null,
   "id": "d7ffdb9f-19db-405e-b17a-bfebe30c757a",
   "metadata": {},
   "outputs": [],
   "source": [
    "# let's create a binning function with numpy\n",
    "def bin_array(arr, bin_edges):\n",
    "    flattened_arr = arr.flatten()\n",
    "    bin_indices = np.digitize(flattened_arr, bin_edges)\n",
    "    bin_indices_3d = bin_indices.reshape(arr.shape)\n",
    "    \n",
    "    return bin_indices_3d-1"
   ]
  },
  {
   "cell_type": "code",
   "execution_count": null,
   "id": "1bc09a58-ea12-4525-8e54-04ea0252534c",
   "metadata": {},
   "outputs": [],
   "source": [
    "# create this as an xarray and add it to the dataset\n",
    "# now the bins should go up to 112\n",
    "binned_theta = bin_array(ds.theta.values,binsTH_edges)\n",
    "binned_theta = binned_theta.astype(float)\n",
    "binned_theta[binned_theta == nT] = np.nan     # because the binning is setting nan to last value\n",
    "# print(np.nanmin(binned_theta),np.nanmin(ds.theta.values),binsTH_edges[int(np.nanmin(binned_theta))])\n",
    "binned_salinity = bin_array(ds.salinity.values,binsSLT_edges)\n",
    "binned_salinity = binned_salinity.astype(float)\n",
    "binned_salinity[binned_salinity == nS] = np.nan        # not sure about this one\n",
    "# print(np.nanmin(binned_salinity),np.nanmin(ds.salinity.values),binsSLT_edges[int(np.nanmin(binned_salinity))])\n",
    "\n",
    "binned_temp = xr.DataArray(data = binned_theta*wetmask,\n",
    "                    dims = dims,\n",
    "                    coords = coords,\n",
    "                    attrs = attrsT)\n",
    "\n",
    "binned_salt = xr.DataArray(data = binned_salinity*wetmask,\n",
    "                    dims = dims,\n",
    "                    coords = coords,\n",
    "                    attrs = attrsS)"
   ]
  },
  {
   "cell_type": "code",
   "execution_count": null,
   "id": "f522f31e-fda3-4a5a-ae73-b24ff6a866e6",
   "metadata": {},
   "outputs": [],
   "source": [
    "ds[\"theta_binned\"] = binned_temp\n",
    "ds[\"salinity_binned\"] = binned_salt"
   ]
  },
  {
   "cell_type": "code",
   "execution_count": null,
   "id": "fa74c7f2-4a81-45ce-b53b-d324db9d0def",
   "metadata": {},
   "outputs": [],
   "source": [
    "binwidthT = binsTH_edges[1:] - binsTH_edges[:-1]\n",
    "binwidthS = binsSLT_edges[1:] - binsSLT_edges[:-1]\n",
    "dT,dS = np.meshgrid(binwidthT,binwidthS)\n",
    "dT = dT.reshape(112,112,1,1)\n",
    "dS = dS.reshape(112,112,1,1)"
   ]
  },
  {
   "cell_type": "code",
   "execution_count": null,
   "id": "443a7d53-337e-4ea1-b387-c28b139c33fc",
   "metadata": {},
   "outputs": [],
   "source": [
    "ds"
   ]
  },
  {
   "cell_type": "code",
   "execution_count": null,
   "id": "59ce42dd-a711-4c91-a744-def84cb22762",
   "metadata": {},
   "outputs": [],
   "source": [
    "# select for one time step ie December 2014\n",
    "ds = ds.sel(iteration = '2015-01-01T00:00:00.000000000')\n",
    "ds"
   ]
  },
  {
   "cell_type": "code",
   "execution_count": null,
   "id": "fee4a885-d20d-46ef-af87-0d3638998834",
   "metadata": {},
   "outputs": [],
   "source": [
    "del binned_temp, binned_salt, temp, salt, volume"
   ]
  },
  {
   "cell_type": "code",
   "execution_count": null,
   "id": "bee0db47-63d9-4921-ac2c-39f5a3dde9ff",
   "metadata": {},
   "outputs": [],
   "source": [
    "# try just for december\n",
    "# Initialize mesh\n",
    "starttime = time.time()\n",
    "\n",
    "mesh = np.zeros((nS, nT, ny, nx))   # binsTH_edges-1\n",
    "\n",
    "# # Iterate over all points in the domain\n",
    "for i in range(ny):\n",
    "    if i%250 == 0:\n",
    "        print(i,\"in\",time.time()-starttime)\n",
    "    for j in range(nx):\n",
    "        thiscol = ds.volume[:, i, j].values\n",
    "        thissalt = ds.salinity_binned[:, i, j].values\n",
    "        thistemp = ds.theta_binned[:, i, j].values\n",
    "\n",
    "        thiscol = thiscol[~np.isnan(thiscol)]\n",
    "        thissalt = thissalt[~np.isnan(thissalt)].astype(int)\n",
    "        thistemp = thistemp[~np.isnan(thistemp)].astype(int)\n",
    "\n",
    "        # if not a dry point, add volume\n",
    "        if len(thiscol)>0:\n",
    "            mesh[thissalt,thistemp,i,j] += thiscol\n",
    "\n",
    "mesh /= dT\n",
    "mesh /= dS"
   ]
  },
  {
   "cell_type": "code",
   "execution_count": null,
   "id": "e9005f73-da21-43c2-9f37-c6f3bec49696",
   "metadata": {},
   "outputs": [],
   "source": [
    "# add the mesh to the dataset\n",
    "dims = (\"i_Tbins\",\"i_Sbins\",\"compact_x\",\"compact_y\")\n",
    "# not sure if we want the bin centers I think so \n",
    "coords = {\"i_Tbins\" : np.arange(0,nT,1),\n",
    "          \"i_Sbins\" : np.arange(0,nS,1),\n",
    "          \"compact_x\" : np.arange(0,1350,1),\n",
    "          \"compact_y\" : np.arange(0,270,1)}\n",
    "\n",
    "attrs = {'title' : 'binned volume data within T and S bins for whole ASTE',\n",
    "         'standard_name' : 'binnev volume',\n",
    "         'units' : 'm^3/(deg C PSU)'}"
   ]
  },
  {
   "cell_type": "code",
   "execution_count": null,
   "id": "eb146fc0-37c4-450e-816a-9e7fdea4d802",
   "metadata": {},
   "outputs": [],
   "source": [
    "# syntax\n",
    "mesh2 = xr.DataArray(data = mesh,\n",
    "                    dims = dims,\n",
    "                    coords = coords,\n",
    "                    attrs = attrs)"
   ]
  },
  {
   "cell_type": "code",
   "execution_count": null,
   "id": "7046c25f-2e61-4917-b6e2-b58d8b6c4068",
   "metadata": {},
   "outputs": [],
   "source": [
    "ds[\"volume_mesh\"] = mesh2"
   ]
  },
  {
   "cell_type": "code",
   "execution_count": null,
   "id": "56887ed4-1605-4296-99e9-ec6d764a9259",
   "metadata": {},
   "outputs": [],
   "source": [
    "del mesh"
   ]
  },
  {
   "cell_type": "markdown",
   "id": "9961508c-581d-45e5-8a40-c74cb4143184",
   "metadata": {},
   "source": [
    "### Try plotting"
   ]
  },
  {
   "cell_type": "code",
   "execution_count": null,
   "id": "3a9c039d-324b-429c-a46b-7f2206462b61",
   "metadata": {},
   "outputs": [],
   "source": [
    "def truncate_colormap(cmap, minval=0.0, maxval=1.0, n=100):\n",
    "    new_cmap = colors.LinearSegmentedColormap.from_list(\n",
    "        'trunc({n},{a:.2f},{b:.2f})'.format(n=cmap.name, a=minval, b=maxval),\n",
    "        cmap(np.linspace(minval, maxval, n)))\n",
    "    return new_cmap\n",
    "\n",
    "cmap = mpl.cm.get_cmap(\"viridis\",14).copy()\n",
    "cmap = truncate_colormap(cmap, 0.15)\n",
    "cmap.set_under(color='white')"
   ]
  },
  {
   "cell_type": "code",
   "execution_count": null,
   "id": "76e59ac9-6fd9-4388-9098-7ff3c19378bc",
   "metadata": {},
   "outputs": [],
   "source": [
    "ds"
   ]
  },
  {
   "cell_type": "code",
   "execution_count": null,
   "id": "dfc33944-88ce-442a-b7ff-c43765540def",
   "metadata": {},
   "outputs": [],
   "source": [
    "Tbin,Sbin = np.meshgrid(binsTH_edges,binsSLT_edges)"
   ]
  },
  {
   "cell_type": "code",
   "execution_count": null,
   "id": "0a70d75f-4c28-423e-a4d0-e24486086383",
   "metadata": {},
   "outputs": [],
   "source": [
    "# add the rho lines\n",
    "# add the polygons and the points\n",
    "smin = 26 - (0.01 * 26)    #salt_ctrl_subregR.min - (0.01 * salt_ctrl_subregR.min)\n",
    "smax = 36. + (0.01 * 36.)    #salt_ctrl_subregR.max + (0.01 * salt_ctrl_subregR.max)\n",
    "tmin = -2.5 + (0.1 * -2.5)       #temp_ctrl_subregR.min - (0.1 * temp_ctrl_subregR.max)\n",
    "tmax = 7.5 + (0.1 * 7.5)       #temp_ctrl_subregR.max + (0.1 * temp_ctrl_subregR.max)\n",
    "print('tmin, tmax, smin, smax sizes=,', tmin, tmax, smin, smax)\n",
    "# Calculate how many gridcells we need in the x and y dimensions\n",
    "xdim = 30\n",
    "ydim = 30\n",
    "# Create empty grid of zeros\n",
    "dens = np.zeros((ydim,xdim))\n",
    "# Create temp and salt vectors of appropiate dimensions\n",
    "ti = np.linspace(-2.5,7.5,ydim)\n",
    "si = np.linspace(26,36,xdim)\n",
    "Freez_temp = gsw.CT_freezing(si,0,0)\n",
    "\n",
    "Si, Ti = np.meshgrid(si, ti, sparse=False, indexing='ij')\n",
    "# Loop to fill in grid with densities\n",
    "for j in range(0,int(ydim)):\n",
    "    for i in range(0, int(xdim)):\n",
    "        #print(si[i],ti[j])\n",
    "        dens[j,i]=gsw.rho(si[i],ti[j],0)\n",
    "        # Substract 1000 to convert to sigma-0\n",
    "dens2 = dens - 1000\n",
    "\n",
    "# convert to practical/potential - ask An if we need to do this? What model output?\n",
    "# long = 73.5089\n",
    "# lat = -66.8245\n",
    "# ti = gsw.pt_from_CT(si1,ti1)\n",
    "# si = gsw.SP_from_SA(si1,0,long,lat)"
   ]
  },
  {
   "cell_type": "code",
   "execution_count": null,
   "id": "c2ebb26d-b079-4ab7-bab5-982e0ae23242",
   "metadata": {},
   "outputs": [],
   "source": [
    "np.nansum(test_vol)"
   ]
  },
  {
   "cell_type": "code",
   "execution_count": null,
   "id": "e49ea1a9-e76e-4d42-8cd3-4eb279de8c9e",
   "metadata": {},
   "outputs": [],
   "source": [
    "fig = plt.figure()\n",
    "ax = fig.add_subplot(111)\n",
    "cs = ax.contour(si, ti, dens2, colors=\"grey\", zorder=1,alpha=0.5,levels=np.arange(22,29,1))\n",
    "cl=ax.clabel(cs,fontsize=10,inline=False,fmt=\"%.2f\")\n",
    "\n",
    "# add volume distribution\n",
    "title = \"Barents 12/2014\"\n",
    "test_vol = ds['volume_mesh'].values[:,:,mskBasin==6]\n",
    "test_vol = np.nansum(test_vol,axis=2)\n",
    "cb = ax.pcolormesh(Sbin,Tbin,np.log10(test_vol),zorder=3)\n",
    "\n",
    "# labels\n",
    "fig.colorbar(cb)\n",
    "ax.set_title(title)\n",
    "ax.set_xlabel(\"S\")\n",
    "ax.set_ylabel(\"T\")\n",
    "ax.grid()\n",
    "# ax.set_xlim(28,36)\n",
    "# ax.set_ylim(-2.5,7.5)"
   ]
  },
  {
   "cell_type": "code",
   "execution_count": null,
   "id": "74e7e991-3915-4a70-af54-8cf875503263",
   "metadata": {},
   "outputs": [],
   "source": [
    "testt = ds.theta.values[-1,:,:,:][mskBasin_3D.values == 6]\n",
    "tests = ds.salinity.values[-1,:,:,:][mskBasin_3D.values == 6]\n",
    "plt.scatter(tests,testt,s=0.3,marker=\"o\")"
   ]
  },
  {
   "cell_type": "code",
   "execution_count": null,
   "id": "c4cda8ac-1e6a-463f-bdbe-8cb98a0fd26f",
   "metadata": {},
   "outputs": [],
   "source": [
    "ds.theta.values.shape"
   ]
  },
  {
   "cell_type": "code",
   "execution_count": null,
   "id": "78a4f024-0610-495a-9217-63fe41db687e",
   "metadata": {},
   "outputs": [],
   "source": []
  }
 ],
 "metadata": {
  "kernelspec": {
   "display_name": "py38",
   "language": "python",
   "name": "py38"
  },
  "language_info": {
   "codemirror_mode": {
    "name": "ipython",
    "version": 3
   },
   "file_extension": ".py",
   "mimetype": "text/x-python",
   "name": "python",
   "nbconvert_exporter": "python",
   "pygments_lexer": "ipython3",
   "version": "3.8.18"
  }
 },
 "nbformat": 4,
 "nbformat_minor": 5
}
