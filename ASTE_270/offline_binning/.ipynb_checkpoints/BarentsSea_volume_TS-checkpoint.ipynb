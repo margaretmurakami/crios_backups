{
 "cells": [
  {
   "cell_type": "markdown",
   "id": "e5e7e160-92f0-40fc-90e5-8a60db4c19f0",
   "metadata": {},
   "source": [
    "# 4/23 - Barents Sea example\n",
    "\n",
    "In this notebook we want to attempt a few things in the Barents Sea as an example:\n",
    "\n",
    "- TS and volume distributions over 2014\n",
    "- TS and volume distributinos over the 5-year period\n",
    "- specific properties and their variation with T and S (T will be on x axis, heat flux sum on y-axis as an example, or summed advective flux on y-axis)\n",
    "- label water masses or think about what can be seen in these TS diagrams"
   ]
  },
  {
   "cell_type": "markdown",
   "id": "17a32997-732b-4c97-bb4e-58bd8b52c7cf",
   "metadata": {},
   "source": [
    "### Import packages, libraries, functions"
   ]
  },
  {
   "cell_type": "code",
   "execution_count": 1,
   "id": "c1802900-b34b-490c-983a-a7a32d987bb5",
   "metadata": {},
   "outputs": [
    {
     "name": "stdout",
     "output_type": "stream",
     "text": [
      "1992-01-14 21:20:00\n"
     ]
    }
   ],
   "source": [
    "import numpy as np\n",
    "import sys\n",
    "import matplotlib.pyplot as plt\n",
    "import xarray as xr\n",
    "import h5py\n",
    "from scipy.io import loadmat\n",
    "import matplotlib as mpl\n",
    "import time\n",
    "import gsw\n",
    "\n",
    "# import existing python files\n",
    "plt.rcParams['figure.figsize'] = (10,4)\n",
    "\n",
    "# add rdmds reading functions to path\n",
    "sys.path.append(\"/home/mmurakami/MITgcm/MITgcm_c68r/MITgcm-checkpoint68r/utils/python/MITgcmutils/MITgcmutils/\") # go to parent dir\n",
    "from mds import *\n",
    "\n",
    "# add the other files\n",
    "sys.path.append(\"/home/mmurakami/crios_backups/an_helper_functions\")\n",
    "from read_binary import *\n",
    "from aste_helper_funcs import *\n",
    "from ts2dte import ts2dte"
   ]
  },
  {
   "cell_type": "markdown",
   "id": "c0699f43-8d56-413f-b30d-84f4ee6f66a6",
   "metadata": {},
   "source": [
    "### Get the timesteps we want from the timestep.txt file"
   ]
  },
  {
   "cell_type": "code",
   "execution_count": 2,
   "id": "8e734860-0d80-4b77-aac4-72313c5a24a2",
   "metadata": {},
   "outputs": [],
   "source": [
    "inf_name = \"/scratch/atnguyen/aste_270x450x180/OFFICIAL_ASTE_R1_Sep2019/timestep.txt\"\n",
    "with open(inf_name) as inf:\n",
    "    lines = inf.readlines()\n",
    "inf.close()\n",
    "\n",
    "timestep = np.zeros((len(lines),len(lines[0].split())))\n",
    "for line in range(len(lines)):\n",
    "    myline = lines[line].split()\n",
    "    timestep[line] = myline\n",
    "\n",
    "timestep = timestep.astype(int)   # this is now the list of files, index"
   ]
  },
  {
   "cell_type": "code",
   "execution_count": 5,
   "id": "0499a82f-5db0-49a8-9bd3-14000be7188a",
   "metadata": {},
   "outputs": [],
   "source": [
    "# we want two subsets of data 2014 and 2006-2011\n",
    "p1 =np.array([2014])\n",
    "p2 = np.arange(2006,2012,1)"
   ]
  },
  {
   "cell_type": "code",
   "execution_count": 6,
   "id": "fbdde9f4-2def-4f59-865a-66379e8fa4b3",
   "metadata": {},
   "outputs": [],
   "source": [
    "r1 = timestep[np.isin(timestep[:,0],p1)]"
   ]
  },
  {
   "cell_type": "code",
   "execution_count": 28,
   "id": "51bdaec5-413d-4d04-aeaf-415a37a23080",
   "metadata": {},
   "outputs": [
    {
     "data": {
      "text/plain": [
       "array([[  2006,      1,      1, 210384, 732678],\n",
       "       [  2006,      2,      1, 214848, 732709],\n",
       "       [  2006,      3,      1, 218880, 732737],\n",
       "       [  2006,      4,      1, 223344, 732768],\n",
       "       [  2006,      5,      1, 227664, 732798]])"
      ]
     },
     "execution_count": 28,
     "metadata": {},
     "output_type": "execute_result"
    }
   ],
   "source": [
    "r2 = timestep[np.isin(timestep[:,0],p2)]\n",
    "r2[:5]"
   ]
  },
  {
   "cell_type": "code",
   "execution_count": 29,
   "id": "153c0a5a-d776-4923-a9e8-62fbfcb9d85a",
   "metadata": {},
   "outputs": [
    {
     "name": "stdout",
     "output_type": "stream",
     "text": [
      "2006-01-01 00:00:00\n"
     ]
    }
   ],
   "source": [
    "# see how this compares to the function\n",
    "# we have these in a file but let's try to plot them from the function\n",
    "ts = 4464\n",
    "dt = 0\n",
    "startyr = 2006\n",
    "dte = ts2dte(ts,deltat=dt,startyr=startyr)  # should be default to start from january 1\n",
    "print(dte.strftime(\"%Y-%m-%d %H:%M:%S\"))"
   ]
  },
  {
   "cell_type": "code",
   "execution_count": 30,
   "id": "c9fc7fa2-b25c-4efe-9ea6-bb223879cf5a",
   "metadata": {},
   "outputs": [
    {
     "name": "stdout",
     "output_type": "stream",
     "text": [
      "2006-02-01 00:00:00\n"
     ]
    }
   ],
   "source": [
    "# see how this compares to the function\n",
    "# we have these in a file but let's try to plot them from the function\n",
    "ts = 4464\n",
    "dt = 600\n",
    "startyr = 2006\n",
    "dte = ts2dte(ts,deltat=dt,startyr=startyr)  # should be default to start from january 1\n",
    "print(dte.strftime(\"%Y-%m-%d %H:%M:%S\"))"
   ]
  },
  {
   "cell_type": "code",
   "execution_count": 5,
   "id": "82a77b1b-137e-46bc-b89c-4284245a292a",
   "metadata": {},
   "outputs": [
    {
     "data": {
      "text/plain": [
       "837073"
      ]
     },
     "execution_count": 5,
     "metadata": {},
     "output_type": "execute_result"
    }
   ],
   "source": [
    "# in data file (ie how we get to days from the labeling of the files:\n",
    "'''\n",
    "2002.01.01 to 2017.12.31 + 1 day: 366*4+365*12=5844days*24*3600/600 + 1ts\n",
    "nTimeSteps=841537,\n",
    "'''\n",
    "841537-4464"
   ]
  },
  {
   "cell_type": "code",
   "execution_count": 2,
   "id": "498aae24-4ee5-4dc1-b1c5-d55ff4345ada",
   "metadata": {},
   "outputs": [
    {
     "data": {
      "text/plain": [
       "31.0"
      ]
     },
     "execution_count": 2,
     "metadata": {},
     "output_type": "execute_result"
    }
   ],
   "source": [
    "4464*600/3600/24"
   ]
  },
  {
   "cell_type": "code",
   "execution_count": 3,
   "id": "ca850fa7-3bc3-448e-bd35-98003e2942af",
   "metadata": {},
   "outputs": [
    {
     "data": {
      "text/plain": [
       "31.055555555555557"
      ]
     },
     "execution_count": 3,
     "metadata": {},
     "output_type": "execute_result"
    }
   ],
   "source": [
    "4472*600/3600/24"
   ]
  },
  {
   "cell_type": "code",
   "execution_count": 4,
   "id": "0352fbcd-c34e-4157-9c75-a7e33f735d10",
   "metadata": {},
   "outputs": [
    {
     "data": {
      "text/plain": [
       "28.0"
      ]
     },
     "execution_count": 4,
     "metadata": {},
     "output_type": "execute_result"
    }
   ],
   "source": [
    "4032*600/3600/24"
   ]
  },
  {
   "cell_type": "code",
   "execution_count": null,
   "id": "dae0f07a-4c65-4b96-b5d2-7065df7b5ec1",
   "metadata": {},
   "outputs": [],
   "source": [
    "# this is h"
   ]
  }
 ],
 "metadata": {
  "kernelspec": {
   "display_name": "py38",
   "language": "python",
   "name": "py38"
  },
  "language_info": {
   "codemirror_mode": {
    "name": "ipython",
    "version": 3
   },
   "file_extension": ".py",
   "mimetype": "text/x-python",
   "name": "python",
   "nbconvert_exporter": "python",
   "pygments_lexer": "ipython3",
   "version": "3.8.18"
  }
 },
 "nbformat": 4,
 "nbformat_minor": 5
}
