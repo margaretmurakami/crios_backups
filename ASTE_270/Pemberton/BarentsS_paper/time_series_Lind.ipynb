{
 "cells": [
  {
   "cell_type": "markdown",
   "id": "eb6ddce1-8cd0-4fc2-b995-22a5abbefc19",
   "metadata": {},
   "source": [
    "# load the packages and functions"
   ]
  },
  {
   "cell_type": "code",
   "execution_count": 1,
   "id": "dc15ad8f-3634-4c33-be7b-15d1c530cd06",
   "metadata": {},
   "outputs": [],
   "source": [
    "import numpy as np\n",
    "import sys\n",
    "import matplotlib.pyplot as plt\n",
    "import xarray as xr\n",
    "import h5py\n",
    "from scipy.io import loadmat\n",
    "import matplotlib as mpl\n",
    "import time\n",
    "import gsw\n",
    "from matplotlib.colors import TwoSlopeNorm\n",
    "\n",
    "# import existing python files\n",
    "plt.rcParams['figure.figsize'] = (10,4)\n",
    "\n",
    "# add rdmds reading functions to path\n",
    "sys.path.append(\"/home/mmurakami/MITgcm/MITgcm_c68r/MITgcm-checkpoint68r/utils/python/MITgcmutils/MITgcmutils/\") # go to parent dir\n",
    "from mds import *\n",
    "\n",
    "# add the other files\n",
    "sys.path.append(\"/home/mmurakami/crios_backups/an_helper_functions\")\n",
    "from read_binary import *\n",
    "from calc_UV_conv_1face import calc_UV_conv_1face\n",
    "from calc_mskmean_T_mod import calc_mskmean_T_mod\n",
    "from mk3D_mod import mk3D_mod\n",
    "from aste_helper_funcs import *\n",
    "from timing_functions import *           # ts2dte, get_fnames, etc.\n",
    "from binning import *                    # bin_array, create_mesh"
   ]
  },
  {
   "cell_type": "code",
   "execution_count": 2,
   "id": "ce13a021-2f4d-4ece-9de3-daf2c4c450d1",
   "metadata": {},
   "outputs": [],
   "source": [
    "import warnings\n",
    "warnings.filterwarnings('ignore')"
   ]
  },
  {
   "cell_type": "code",
   "execution_count": 3,
   "id": "d4c4b5e0-ff3e-4367-9fcb-70ff1ba09b29",
   "metadata": {},
   "outputs": [
    {
     "name": "stdout",
     "output_type": "stream",
     "text": [
      "(50,) (50, 1350, 270)\n",
      "hf1 (1350, 270)\n",
      "(1, 1350, 270)\n",
      "LwetC2d 146614\n",
      "LwetC 4833023\n",
      "\n"
     ]
    }
   ],
   "source": [
    "%run /home/mmurakami/crios_backups/ASTE_270/prep_grid.py"
   ]
  },
  {
   "cell_type": "markdown",
   "id": "7a8cbffb-739b-43b0-9db8-315abf784d61",
   "metadata": {},
   "source": [
    "# load the grid"
   ]
  },
  {
   "cell_type": "code",
   "execution_count": 4,
   "id": "d2015777-19ac-4c49-abb3-6995998d66e3",
   "metadata": {},
   "outputs": [],
   "source": [
    "# define basin we want\n",
    "path = \"/home/mmurakami/crios_backups/ASTE_270/offline_binning/sample_images/\""
   ]
  },
  {
   "cell_type": "code",
   "execution_count": 5,
   "id": "0b4023eb-be4b-4b9e-8360-92b2b5857d86",
   "metadata": {},
   "outputs": [
    {
     "name": "stdout",
     "output_type": "stream",
     "text": [
      "364500\n"
     ]
    }
   ],
   "source": [
    "# read one basin or whole ASTE\n",
    "whole = True\n",
    "if not whole:\n",
    "    iB = 6    # example read from BarentsSea\n",
    "    \n",
    "# mymsk below defines as all Arctic down to Fram Strait and BSO but not GINs Seas\n",
    "mymsk = mskBasin.copy()\n",
    "mask = ~np.isnan(mymsk)\n",
    "\n",
    "# Create a boolean mask for elements that are 6 or less\n",
    "# mask = mymsk <7\n",
    "# if whole:\n",
    "#     mask = (mymsk < 5) | (mymsk==6) \n",
    "# else:\n",
    "mask = mymsk == 6\n",
    "\n",
    "# Set elements that are greater than 6 to np.nan\n",
    "mymsk[mask] = 1\n",
    "mymsk[~mask] = np.nan\n",
    "\n",
    "test = get_aste_tracer(mymsk,nfx,nfy)[0]\n",
    "# test[:,:270] = np.nan\n",
    "mymsk = test\n",
    "\n",
    "mymsk = aste_tracer2compact(mymsk,nfx,nfy)[0]\n",
    "\n",
    "# Get the number of points where mskBasin is 6 or less\n",
    "npoints = np.count_nonzero(mymsk)  # Count the number of True values in the mask\n",
    "print(npoints)"
   ]
  },
  {
   "cell_type": "code",
   "execution_count": 6,
   "id": "7a67a58b-9146-4076-b78e-c5847cd7ed60",
   "metadata": {},
   "outputs": [
    {
     "data": {
      "text/plain": [
       "(50, 1350, 270)"
      ]
     },
     "execution_count": 6,
     "metadata": {},
     "output_type": "execute_result"
    }
   ],
   "source": [
    "mymsk3 = np.tile(mymsk[np.newaxis,:,:],(nz,1,1)) * mygrid['hFacC']\n",
    "mymsk3.shape"
   ]
  },
  {
   "cell_type": "markdown",
   "id": "2bc4f7e9-0161-4c94-a875-ddd5f331bc6c",
   "metadata": {},
   "source": [
    "# timesteps"
   ]
  },
  {
   "cell_type": "code",
   "execution_count": 8,
   "id": "51b00d5f-b355-47f4-94af-5ad286fd8a6e",
   "metadata": {},
   "outputs": [],
   "source": [
    "# create an array of the time steps we want to read\n",
    "# use ts2dte to get december 2014\n",
    "# first make an array of filenames\n",
    "dt_aste = 600\n",
    "startyr = 2002\n",
    "endyr = 2019\n",
    "\n",
    "# all the filenames in the system\n",
    "fnames = get_fnames(dt_aste,startyr,endyr)\n",
    "\n",
    "# the following will need to be modified if we look at multiple time steps\n",
    "# dt = datetimes[1]-datetimes[0]   # days\n",
    "# dt = dt.total_seconds()\n",
    "\n",
    "# ocean and ice\n",
    "AB_gT=0\n",
    "AB_gS=0"
   ]
  },
  {
   "cell_type": "code",
   "execution_count": 45,
   "id": "05c076fe-1788-4441-93db-32d1aad1fa34",
   "metadata": {},
   "outputs": [],
   "source": [
    "allyears = np.arange(2003,2018,1)"
   ]
  },
  {
   "cell_type": "code",
   "execution_count": 21,
   "id": "dbdcad04-8d3a-4643-b80e-9f02d3e46c1d",
   "metadata": {},
   "outputs": [],
   "source": []
  },
  {
   "cell_type": "code",
   "execution_count": 22,
   "id": "749aa26a-7bc0-44cb-bb6c-8aef5711b0f3",
   "metadata": {},
   "outputs": [
    {
     "data": {
      "text/plain": [
       "(12,)"
      ]
     },
     "execution_count": 22,
     "metadata": {},
     "output_type": "execute_result"
    }
   ],
   "source": []
  },
  {
   "cell_type": "code",
   "execution_count": 23,
   "id": "b56e9dd4-1571-44d6-ace8-308141ee50a8",
   "metadata": {},
   "outputs": [
    {
     "data": {
      "text/plain": [
       "(12,)"
      ]
     },
     "execution_count": 23,
     "metadata": {},
     "output_type": "execute_result"
    }
   ],
   "source": [
    "# for one year\n",
    "# tsstr = tsstr[:6]\n",
    "# datetimes = datetimes[:6]\n",
    "datetimes.shape"
   ]
  },
  {
   "cell_type": "code",
   "execution_count": 24,
   "id": "5eaeabcc-3fe3-470e-a9c8-1c6411ff02aa",
   "metadata": {},
   "outputs": [
    {
     "data": {
      "text/plain": [
       "(11,)"
      ]
     },
     "execution_count": 24,
     "metadata": {},
     "output_type": "execute_result"
    }
   ],
   "source": [
    "# 'datetimes' is a list of datetime objects\n",
    "dt = [(datetimes[i+1] - datetimes[i]).total_seconds() for i in range(len(datetimes) - 1)]\n",
    "dt = np.array(dt)\n",
    "dt.shape"
   ]
  },
  {
   "cell_type": "markdown",
   "id": "4fd9a771-474e-48d7-a023-ed93c67dc33d",
   "metadata": {},
   "source": [
    "# load the files for a time series of FW content"
   ]
  },
  {
   "cell_type": "code",
   "execution_count": 46,
   "id": "05fbf04d-d759-4006-b285-97b59f98a5ce",
   "metadata": {},
   "outputs": [
    {
     "name": "stdout",
     "output_type": "stream",
     "text": [
      "2003\n",
      "volume allocation shape (12, 50, 1350, 270)\n",
      "(12, 50, 1350, 270)\n",
      "2004\n",
      "volume allocation shape (12, 50, 1350, 270)\n",
      "(12, 50, 1350, 270)\n",
      "2005\n",
      "volume allocation shape (12, 50, 1350, 270)\n",
      "(12, 50, 1350, 270)\n",
      "2006\n",
      "volume allocation shape (12, 50, 1350, 270)\n",
      "(12, 50, 1350, 270)\n",
      "2007\n",
      "volume allocation shape (12, 50, 1350, 270)\n",
      "(12, 50, 1350, 270)\n",
      "2008\n",
      "volume allocation shape (12, 50, 1350, 270)\n",
      "(12, 50, 1350, 270)\n",
      "2009\n",
      "volume allocation shape (12, 50, 1350, 270)\n",
      "(12, 50, 1350, 270)\n",
      "2010\n",
      "volume allocation shape (12, 50, 1350, 270)\n",
      "(12, 50, 1350, 270)\n",
      "2011\n",
      "volume allocation shape (12, 50, 1350, 270)\n",
      "(12, 50, 1350, 270)\n",
      "2012\n",
      "volume allocation shape (12, 50, 1350, 270)\n",
      "(12, 50, 1350, 270)\n",
      "2013\n",
      "volume allocation shape (12, 50, 1350, 270)\n",
      "(12, 50, 1350, 270)\n",
      "2014\n",
      "volume allocation shape (12, 50, 1350, 270)\n",
      "(12, 50, 1350, 270)\n",
      "2015\n",
      "volume allocation shape (12, 50, 1350, 270)\n",
      "(12, 50, 1350, 270)\n",
      "2016\n",
      "volume allocation shape (12, 50, 1350, 270)\n",
      "(12, 50, 1350, 270)\n",
      "2017\n",
      "volume allocation shape (12, 50, 1350, 270)\n",
      "(12, 50, 1350, 270)\n"
     ]
    }
   ],
   "source": [
    "# loop through the years to create the timeseries\n",
    "alldatetimes = np.array([])\n",
    "FW_times = np.array([])\n",
    "\n",
    "for year in allyears:\n",
    "    print(year)\n",
    "\n",
    "    # get the datetime values\n",
    "    # years = list(np.arange(2003,2018,1))  # 15 year period\n",
    "    years = list(np.arange(year,year+1,1))\n",
    "    years = [str(i) for i in years]\n",
    "    years = np.array(years)\n",
    "    # write the datetimes for the later period\n",
    "    times = {}\n",
    "    \n",
    "    for year in years:\n",
    "        times[year] = np.arange(1,13,1)   # write all the months for this example 5-year period\n",
    "    \n",
    "    tsstr,datetimes = get_tsteps(times,fnames,dt_aste,startyr,1,1)\n",
    "\n",
    "    ##########################################################################################\n",
    "    # get the volume values\n",
    "\n",
    "    # for mass tendency (m^3/s) - time is not yet included in this block\n",
    "    file_name = 'budg2d_snap_set1'\n",
    "    \n",
    "    # assuming all files are structured the same\n",
    "    meta_budg2d_snap_set1 = parsemeta(dirIn + file_name + \".\" + tsstr[0]+ \".meta\")\n",
    "    # try to read this with rec\n",
    "    fldlist = np.array(meta_budg2d_snap_set1['fldList'])\n",
    "    varnames = np.array(['ETAN'])\n",
    "    recs = np.array([])\n",
    "    for var in varnames:\n",
    "        irec = np.where(fldlist == var)\n",
    "        recs = np.append(recs, irec[0][0])\n",
    "    \n",
    "    # set for all months\n",
    "    vol = np.full((len(tsstr),nz, ny, nx),np.nan)\n",
    "    ETANS = np.full((len(tsstr),ny,nx),np.nan)\n",
    "    print(\"volume allocation shape\",vol.shape)\n",
    "    \n",
    "    for t in range(len(tsstr)):\n",
    "        t1 = tsstr[t]\n",
    "        read = [int(t1)]\n",
    "    \n",
    "        # make sure order we write the variables is the same as the order in varnames, else we read the wrong thing\n",
    "        ETAN,its,meta = rdmds(os.path.join(dirIn, file_name),read,returnmeta=True,rec=recs[0])\n",
    "    \n",
    "        # choose by basin\n",
    "        ETAN = np.reshape(ETAN,(ny,nx)) #* wetmask[0,:,:]\n",
    "    \n",
    "        # ocean\n",
    "        if debug:\n",
    "            print(read,its[0],its[1]) # these iteration numbers should be the same as read\n",
    "    \n",
    "        # 3D, with rStar:\n",
    "        tmpvol = np.zeros((nz, ny, nx))\n",
    "        if myparms['useNLFS'] < 2 or myparms['rStar'] == 0:        # not this time\n",
    "            tmpvol[0,:, :] = ETAN * myparms['rhoconst'] * RAC\n",
    "            if myparms['useRFWF'] == 0:\n",
    "                tmpvol[0, :, :] = np.zeros((ny, nx))\n",
    "        else:    # 4/22 look at this one\n",
    "            if myparms['useRFWF'] != 0:                                 # we are using this  # check if tmp1 is the same as drf3d!!\n",
    "                tmp1 = mk3D_mod(mygrid['DRF'],hfC) * hfC     # m\n",
    "                tmp2 = tmp1/mk3D_mod(DD,tmp1)                # drf as a fraction of total depth, this allows us to distribute etan between z\n",
    "            else:\n",
    "                tmp2 = drf3d / mk3D_mod(DD, tmp1)\n",
    "    \n",
    "            # this is still wrong, we want to subtract the ETAN anomaly from the existing volumes\n",
    "            tmpvol =  (tmp1 + tmp2*mk3D_mod(ETAN, tmp2)) #* mk3D_mod(RAC, hfC) * ffac     # volume, m * m^2  = m^3\n",
    "    \n",
    "        vol[t,:,:,:] = tmpvol\n",
    "    \n",
    "    print(vol.shape)\n",
    "\n",
    "\n",
    "    ##########################################################################################\n",
    "    # get the theta/salt values\n",
    "    # we also want salt to do the FW content\n",
    "    # we want temperature and salt\n",
    "    THETADR = np.full((len(tsstr),nz,ny,nx),np.nan)\n",
    "    SALTDR = np.full((len(tsstr),nz,ny,nx),np.nan)\n",
    "    \n",
    "    for i in range(len(tsstr)):\n",
    "    \n",
    "        # read the fldList\n",
    "        file_name = 'budg3d_snap_set2'\n",
    "        meta_budg3d_snap_set2 = parsemeta(dirIn + file_name + \".\" + tsstr[i] + \".meta\")\n",
    "        fldlist = np.array(meta_budg3d_snap_set2[\"fldList\"])\n",
    "        varnames = np.array([\"THETADR\",\"SALTDR\"])\n",
    "        recs = np.array([])\n",
    "        for var in varnames:\n",
    "            irec = np.where(fldlist == var)\n",
    "            recs = np.append(recs, irec[0][0])\n",
    "            \n",
    "        read = [int(tsstr[i])]\n",
    "        \n",
    "        # make sure order we write the variables is the same as the order in varnames, else we read the wrong thing\n",
    "        THETADRi,its,meta = rdmds(os.path.join(dirIn, file_name),read,returnmeta=True,rec=recs[0])  # degC.m\n",
    "        SALTDRi,its,meta = rdmds(os.path.join(dirIn, file_name),read,returnmeta=True,rec=recs[1])  # degC.m\n",
    "    \n",
    "        THETADR[i,:,:,:] = np.reshape(THETADRi,(nz,ny,nx))\n",
    "        SALTDR[i,:,:,:] = np.reshape(SALTDRi,(nz,ny,nx))\n",
    "    \n",
    "    # divide first two and second two by dt\n",
    "    theta = np.full((int(len(tsstr)),nz,ny,nx),np.nan)\n",
    "    dthetadt = np.full((int(len(tsstr)-1),nz,ny,nx),np.nan)\n",
    "    salt = np.full((int(len(tsstr)),nz,ny,nx),np.nan)\n",
    "    dsaltdt = np.full((int(len(tsstr)-1),nz,ny,nx),np.nan)\n",
    "    \n",
    "    for i in range(len(tsstr)):\n",
    "        theta[i,:,:,:] = THETADR[i,:,:,:]/DRF3d/mygrid['hFacC']\n",
    "        salt[i,:,:,:]  = SALTDR[i,:,:,:]/DRF3d/mygrid['hFacC']\n",
    "    \n",
    "    for i in range(len(tsstr)-1):\n",
    "        dthetadt[i,:,:,:] = (THETADR[i,:,:,:]/DRF3d/mygrid['hFacC'] - THETADR[i-1,:,:,:]/DRF3d/mygrid['hFacC'])/dt[i-1]\n",
    "        dsaltdt[i,:,:,:] = (SALTDR[i,:,:,:]/DRF3d/mygrid['hFacC'] - SALTDR[i-1,:,:,:]/DRF3d/mygrid['hFacC'])/dt[i-1]\n",
    "\n",
    "\n",
    "    ##########################################################################################\n",
    "    # get the freshwater content values\n",
    "    # set up for time averaging\n",
    "    sref = 34.8#41.05      # PSU\n",
    "    filter = drf3d.copy() * mygrid['hFacC']\n",
    "    filter[filter >= 254] = np.nan\n",
    "    filter[filter < 254] = 1\n",
    "    FWcontent = np.full((len(tsstr),ny,nx),np.nan)\n",
    "    \n",
    "    for i in range(len(tsstr)): \n",
    "        # for calculating freshwater content:\n",
    "            # FW volume * (1- salinity/reference salinity)    m^3\n",
    "            # integrate over surface to 254 m based on the np.where(np.cumsum(mygrid['DRF'])<254)\n",
    "            # look at the time average of this\n",
    "        \n",
    "        # do step 1 to get FW volume and only look at the values at less than 254 m\n",
    "        saltnorm = 1-(salt[i]/sref)\n",
    "        FWvol = vol[i] * (1-salt[i]/sref)   # m^3 * 1\n",
    "        FWvol /=  RAC3    # m\n",
    "        FWvol = FWvol[:19]\n",
    "        \n",
    "        # vertically integrate\n",
    "        FWcontent[i] = np.nansum(FWvol,axis=0) * mymsk          # summing in depth for the upper layer, m\n",
    "\n",
    "    ####\n",
    "    # append to big list\n",
    "\n",
    "    for i in range(len(datetimes)):\n",
    "        FW_times = np.append(FW_times,np.nansum(FWcontent[i]))\n",
    "        alldatetimes = np.append(alldatetimes,datetimes[i])"
   ]
  },
  {
   "cell_type": "code",
   "execution_count": 26,
   "id": "43a2bcf4-0d2b-4f4a-8985-e75405f38e93",
   "metadata": {},
   "outputs": [],
   "source": []
  },
  {
   "cell_type": "code",
   "execution_count": 36,
   "id": "bc26c826-3d12-4d76-9901-5ada18febcfd",
   "metadata": {},
   "outputs": [],
   "source": []
  },
  {
   "cell_type": "code",
   "execution_count": 65,
   "id": "7bc4b231-5af4-4ee3-a5dc-dd9f42497495",
   "metadata": {},
   "outputs": [],
   "source": [
    "# do the masking and get a singular value\n",
    "# alldatetimes[-60:]"
   ]
  },
  {
   "cell_type": "code",
   "execution_count": 66,
   "id": "b3ec85ae-d597-493e-b670-37c0505ea9fa",
   "metadata": {},
   "outputs": [
    {
     "data": {
      "image/png": "[encoded data removed]",
      "text/plain": [
       "<Figure size 1000x300 with 1 Axes>"
      ]
     },
     "metadata": {},
     "output_type": "display_data"
    }
   ],
   "source": [
    "# now we can look at a time series of each of the J terms for salt at this given cell in a given year\n",
    "\n",
    "fig = plt.figure(figsize=(10,3))\n",
    "\n",
    "plt.subplots_adjust(hspace=0.6)  # bigger hspace -- more vertical space\n",
    "\n",
    "ax = plt.subplot(111)\n",
    "ax.plot(alldatetimes,FW_times,label='FW Content Upper 254 m')\n",
    "# ax.set_title(\"FW\")\n",
    "ax.set_ylabel(\"m\")\n",
    "ax.grid()\n",
    "ax.legend()\n",
    "\n",
    "# add two trendlines to this fig\n",
    "coefficients = np.polyfit(np.arange(len(alldatetimes[:60])), FW_times[:60], 1)\n",
    "trendline = np.polyval(coefficients, np.arange(len(alldatetimes[:60])))\n",
    "ax.plot(alldatetimes[:60], FW_times[:60], label=\"mean FW, m\")\n",
    "ax.plot(alldatetimes[:60], trendline, label=\"Trendline\", color='red', linestyle='--')\n",
    "avgline = np.nanmean(FW_times[:60])\n",
    "avgline = np.full(60,avgline)\n",
    "ax.plot(alldatetimes[:60], avgline, color='red', linestyle=':')\n",
    "\n",
    "# do the same for 2013-17\n",
    "coefficients = np.polyfit(np.arange(len(alldatetimes[-60:])), FW_times[-60:], 1)\n",
    "trendline = np.polyval(coefficients, np.arange(len(alldatetimes[-60:])))\n",
    "ax.plot(alldatetimes[-60:], FW_times[-60:], label=\"mean FW, m\")\n",
    "ax.plot(alldatetimes[-60:], trendline, label=\"Trendline\", color='red', linestyle='--')\n",
    "avgline = np.nanmean(FW_times[-60:])\n",
    "avgline = np.full(60,avgline)\n",
    "ax.plot(alldatetimes[-60:], avgline, color='red', linestyle=':')\n",
    "\n",
    "plt.savefig(path + \"FWtimeseries.png\",dpi=300)"
   ]
  },
  {
   "cell_type": "code",
   "execution_count": null,
   "id": "0c35394f-6178-430f-972d-4ac8c6d58071",
   "metadata": {},
   "outputs": [],
   "source": []
  },
  {
   "cell_type": "code",
   "execution_count": null,
   "id": "c6ebd80e-1cb3-4268-9379-a65939e242eb",
   "metadata": {},
   "outputs": [],
   "source": []
  },
  {
   "cell_type": "code",
   "execution_count": null,
   "id": "dd723e3d-143a-4a40-831b-82105e8bfef0",
   "metadata": {},
   "outputs": [],
   "source": []
  },
  {
   "cell_type": "code",
   "execution_count": 18,
   "id": "3add8f43-aa6d-4ef5-a2f6-2a8a93871535",
   "metadata": {},
   "outputs": [],
   "source": [
    "# we will want to load only one file at a time so that we don't overload the memory\n",
    "# load these files\n",
    "    # Ocean temperature, air temperature, sensible heat are all things to look at\n",
    "    # Sea ice"
   ]
  },
  {
   "cell_type": "code",
   "execution_count": 19,
   "id": "247410a5-a401-4b62-ad94-adbe8ec86266",
   "metadata": {},
   "outputs": [],
   "source": [
    "# let's do this for sea ice alone so we can look here\n",
    "# we'll set the datetimes each time so that we can look each time without loading all the files\n",
    "# tsstr"
   ]
  },
  {
   "cell_type": "code",
   "execution_count": null,
   "id": "35d34402-c80d-4aec-9015-9647a0b58386",
   "metadata": {},
   "outputs": [],
   "source": [
    "# FIX NAMES! THESE ARE NOT MEDIAN!!!"
   ]
  },
  {
   "cell_type": "code",
   "execution_count": null,
   "id": "25917f44-135e-4970-8781-9f857ada0a36",
   "metadata": {},
   "outputs": [],
   "source": [
    "# can do for sensible heat flux given from the atmosphere: \"EXFhs from exf_zflux_set1\"\n",
    "# note this is not the total heat RECEIVED by the ocean"
   ]
  },
  {
   "cell_type": "code",
   "execution_count": null,
   "id": "fb10fc4b-fef4-4ca7-8372-815191e4e79a",
   "metadata": {},
   "outputs": [],
   "source": []
  },
  {
   "cell_type": "code",
   "execution_count": null,
   "id": "a4063027-1558-430f-8df5-bb44c53d4b05",
   "metadata": {},
   "outputs": [],
   "source": []
  }
 ],
 "metadata": {
  "kernelspec": {
   "display_name": "py38",
   "language": "python",
   "name": "py38"
  },
  "language_info": {
   "codemirror_mode": {
    "name": "ipython",
    "version": 3
   },
   "file_extension": ".py",
   "mimetype": "text/x-python",
   "name": "python",
   "nbconvert_exporter": "python",
   "pygments_lexer": "ipython3",
   "version": "3.8.18"
  }
 },
 "nbformat": 4,
 "nbformat_minor": 5
}
