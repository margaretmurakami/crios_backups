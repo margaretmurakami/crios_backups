{
 "cells": [
  {
   "cell_type": "markdown",
   "id": "eb6ddce1-8cd0-4fc2-b995-22a5abbefc19",
   "metadata": {},
   "source": [
    "# load the packages and functions"
   ]
  },
  {
   "cell_type": "code",
   "execution_count": 1,
   "id": "dc15ad8f-3634-4c33-be7b-15d1c530cd06",
   "metadata": {},
   "outputs": [],
   "source": [
    "import numpy as np\n",
    "import sys\n",
    "import matplotlib.pyplot as plt\n",
    "import xarray as xr\n",
    "import h5py\n",
    "from scipy.io import loadmat\n",
    "import matplotlib as mpl\n",
    "import time\n",
    "import gsw\n",
    "from matplotlib.colors import TwoSlopeNorm\n",
    "\n",
    "# import existing python files\n",
    "plt.rcParams['figure.figsize'] = (10,4)\n",
    "\n",
    "# add rdmds reading functions to path\n",
    "sys.path.append(\"/home/mmurakami/MITgcm/MITgcm_c68r/MITgcm-checkpoint68r/utils/python/MITgcmutils/MITgcmutils/\") # go to parent dir\n",
    "from mds import *\n",
    "\n",
    "# add the other files\n",
    "sys.path.append(\"/home/mmurakami/crios_backups/an_helper_functions\")\n",
    "from read_binary import *\n",
    "from calc_UV_conv_1face import calc_UV_conv_1face\n",
    "from calc_mskmean_T_mod import calc_mskmean_T_mod\n",
    "from mk3D_mod import mk3D_mod\n",
    "from aste_helper_funcs import *\n",
    "from timing_functions import *           # ts2dte, get_fnames, etc.\n",
    "from binning import *                    # bin_array, create_mesh"
   ]
  },
  {
   "cell_type": "code",
   "execution_count": 2,
   "id": "d393826c-395b-4ad1-8940-bc5d4c43b481",
   "metadata": {},
   "outputs": [],
   "source": [
    "import warnings\n",
    "warnings.filterwarnings('ignore')"
   ]
  },
  {
   "cell_type": "code",
   "execution_count": 3,
   "id": "fff5737e-b8f4-4676-96a3-aac335d07a43",
   "metadata": {},
   "outputs": [
    {
     "name": "stdout",
     "output_type": "stream",
     "text": [
      "(50,) (50, 1350, 270)\n",
      "hf1 (1350, 270)\n",
      "(1, 1350, 270)\n",
      "LwetC2d 146614\n",
      "LwetC 4833023\n",
      "\n"
     ]
    }
   ],
   "source": [
    "%run /home/mmurakami/crios_backups/ASTE_270/prep_grid.py"
   ]
  },
  {
   "cell_type": "markdown",
   "id": "7a8cbffb-739b-43b0-9db8-315abf784d61",
   "metadata": {},
   "source": [
    "# load the grid"
   ]
  },
  {
   "cell_type": "code",
   "execution_count": 4,
   "id": "d2015777-19ac-4c49-abb3-6995998d66e3",
   "metadata": {},
   "outputs": [],
   "source": [
    "# define basin we want\n",
    "path = \"/home/mmurakami/crios_backups/ASTE_270/offline_binning/sample_images/\""
   ]
  },
  {
   "cell_type": "code",
   "execution_count": 5,
   "id": "0b4023eb-be4b-4b9e-8360-92b2b5857d86",
   "metadata": {},
   "outputs": [
    {
     "name": "stdout",
     "output_type": "stream",
     "text": [
      "364500\n"
     ]
    }
   ],
   "source": [
    "iB = 6    # read from BarentsSea\n",
    "    \n",
    "# mymsk below defines as all Arctic down to Fram Strait and BSO but not GINs Seas\n",
    "mymsk = mskBasin.copy()\n",
    "\n",
    "# Create a boolean mask for elements that are 6 or less\n",
    "mask = mymsk == 6\n",
    "\n",
    "# Set elements that are greater than 6 to np.nan\n",
    "mymsk[mask] = 1\n",
    "mymsk[~mask] = np.nan\n",
    "\n",
    "# Get the number of points where mskBasin is 6 or less\n",
    "npoints = np.count_nonzero(mymsk)  # Count the number of True values in the mask\n",
    "print(npoints)"
   ]
  },
  {
   "cell_type": "code",
   "execution_count": 6,
   "id": "7a67a58b-9146-4076-b78e-c5847cd7ed60",
   "metadata": {},
   "outputs": [
    {
     "data": {
      "text/plain": [
       "(50, 1350, 270)"
      ]
     },
     "execution_count": 6,
     "metadata": {},
     "output_type": "execute_result"
    }
   ],
   "source": [
    "mymsk3 = np.tile(mymsk[np.newaxis,:,:],(nz,1,1)) * mygrid['hFacC']\n",
    "mymsk3.shape"
   ]
  },
  {
   "cell_type": "markdown",
   "id": "2bc4f7e9-0161-4c94-a875-ddd5f331bc6c",
   "metadata": {},
   "source": [
    "# timesteps"
   ]
  },
  {
   "cell_type": "code",
   "execution_count": 7,
   "id": "51b00d5f-b355-47f4-94af-5ad286fd8a6e",
   "metadata": {},
   "outputs": [],
   "source": [
    "# create an array of the time steps we want to read\n",
    "# use ts2dte to get december 2014\n",
    "# first make an array of filenames\n",
    "dt_aste = 600\n",
    "startyr = 2002\n",
    "endyr = 2019\n",
    "\n",
    "# all the filenames in the system\n",
    "fnames = get_fnames(dt_aste,startyr,endyr)\n",
    "\n",
    "# ocean and ice\n",
    "AB_gT=0\n",
    "AB_gS=0"
   ]
  },
  {
   "cell_type": "code",
   "execution_count": 40,
   "id": "dbdcad04-8d3a-4643-b80e-9f02d3e46c1d",
   "metadata": {},
   "outputs": [],
   "source": [
    "# years = list(np.arange(2003,2018,1))  # 15 year period\n",
    "years = [2003,2004]\n",
    "years = [str(i) for i in years]\n",
    "years = np.array(years)\n",
    "# years"
   ]
  },
  {
   "cell_type": "code",
   "execution_count": 41,
   "id": "749aa26a-7bc0-44cb-bb6c-8aef5711b0f3",
   "metadata": {},
   "outputs": [
    {
     "data": {
      "text/plain": [
       "(24,)"
      ]
     },
     "execution_count": 41,
     "metadata": {},
     "output_type": "execute_result"
    }
   ],
   "source": [
    "# write the datetimes for the later period\n",
    "times = {}\n",
    "\n",
    "for year in years:\n",
    "    times[year] = np.arange(1,13,1)   # write all the months for this example 5-year period\n",
    "\n",
    "tsstr,datetimes = get_tsteps(times,fnames,dt_aste,startyr,1,1)\n",
    "tsstr.shape\n",
    "datetimes.shape"
   ]
  },
  {
   "cell_type": "code",
   "execution_count": 42,
   "id": "eb5e1eea-448a-4d40-8f55-9479c4b03a60",
   "metadata": {},
   "outputs": [],
   "source": [
    "# dates"
   ]
  },
  {
   "cell_type": "code",
   "execution_count": 43,
   "id": "b56e9dd4-1571-44d6-ace8-308141ee50a8",
   "metadata": {},
   "outputs": [
    {
     "data": {
      "text/plain": [
       "(7,)"
      ]
     },
     "execution_count": 43,
     "metadata": {},
     "output_type": "execute_result"
    }
   ],
   "source": [
    "# for one year\n",
    "# tsstr = tsstr[:7]\n",
    "# datetimes = datetimes[:7]\n",
    "tsstr = tsstr[6:13]\n",
    "datetimes = datetimes[6:13]\n",
    "datetimes.shape"
   ]
  },
  {
   "cell_type": "code",
   "execution_count": 44,
   "id": "5eaeabcc-3fe3-470e-a9c8-1c6411ff02aa",
   "metadata": {},
   "outputs": [
    {
     "data": {
      "text/plain": [
       "(6,)"
      ]
     },
     "execution_count": 44,
     "metadata": {},
     "output_type": "execute_result"
    }
   ],
   "source": [
    "# 'datetimes' is a list of datetime objects\n",
    "dt = [(datetimes[i+1] - datetimes[i]).total_seconds() for i in range(len(datetimes) - 1)]\n",
    "dt = np.array(dt)\n",
    "dt.shape"
   ]
  },
  {
   "cell_type": "markdown",
   "id": "91db750f-36dc-4ab1-b93f-ba894de3648e",
   "metadata": {},
   "source": [
    "# create the J terms\n",
    "\n",
    "In general, when we create the time-mean for these terms we are interested in the mean weighted by depth"
   ]
  },
  {
   "cell_type": "markdown",
   "id": "a21f6691-e230-4b8b-824d-d03a0f058289",
   "metadata": {},
   "source": [
    "### For salt\n",
    "\n",
    "We need to find a way to do this more efficiently"
   ]
  },
  {
   "cell_type": "code",
   "execution_count": 45,
   "id": "0ee7ec2e-bc47-49e7-897a-4d15a81b8c5b",
   "metadata": {},
   "outputs": [
    {
     "data": {
      "text/plain": [
       "(6, 50, 1350, 270)"
      ]
     },
     "execution_count": 45,
     "metadata": {},
     "output_type": "execute_result"
    }
   ],
   "source": [
    "# read thetadr\n",
    "file_name = 'budg3d_snap_set2'\n",
    "meta_budg3d_snap_set2 = parsemeta(dirIn + file_name + \".\" + tsstr[0] + \".meta\")\n",
    "fldlist = np.array(meta_budg3d_snap_set2[\"fldList\"])\n",
    "varnames = np.array([\"SALTDR\"])\n",
    "recs = np.array([])\n",
    "for var in varnames:\n",
    "    irec = np.where(fldlist == var)\n",
    "    recs = np.append(recs, irec[0][0])\n",
    "\n",
    "\n",
    "SALTDR = np.full((len(tsstr),nz,ny,nx),np.nan)\n",
    "for i in range(len(tsstr)):\n",
    "    thisSALTDR,its,meta = rdmds(os.path.join(dirIn, file_name),int(tsstr[i]),returnmeta=True,rec=recs[0])\n",
    "    thisSALTDR = thisSALTDR.reshape(nz,ny,nx)\n",
    "    SALTDR[i] = thisSALTDR\n",
    "\n",
    "SALTDR =  (SALTDR[1:, :, :,:] - SALTDR[:-1, :,:, :]) / dt[:,np.newaxis,np.newaxis,np.newaxis]    # PSU.m/s\n",
    "SALTDR.shape"
   ]
  },
  {
   "cell_type": "code",
   "execution_count": 46,
   "id": "05aab7be-6f48-4b03-9ae6-9fd33299233e",
   "metadata": {},
   "outputs": [],
   "source": [
    "tmptend = myparms['rhoconst'] * (SALTDR - AB_gS) * np.tile(mk3D_mod(RAC,SALTDR[0])[np.newaxis,:,:,:],(SALTDR.shape[0],1,1,1))    # kg/m^3 * PSU.m/s * m^2 = g/s\n",
    "budgO = {}\n",
    "budgO['saltfluxes'] = {}\n",
    "budgI = {}\n",
    "budgI['saltfluxes'] = {}\n",
    "budgOI = {}\n",
    "\n",
    "# ocean\n",
    "budgO['saltfluxes']['tend'] = tmptend\n",
    "budgO['salttend'] = np.nansum(tmptend,axis=1)"
   ]
  },
  {
   "cell_type": "code",
   "execution_count": 47,
   "id": "991f9674-341b-4820-863f-7e0c0fc77a65",
   "metadata": {},
   "outputs": [],
   "source": [
    "del SALTDR,tmptend"
   ]
  },
  {
   "cell_type": "code",
   "execution_count": 48,
   "id": "1787f3ac-12b7-4fe8-98c5-d38ad58ae408",
   "metadata": {},
   "outputs": [],
   "source": [
    "# read adv and dfe\n",
    "file_name = \"budg3d_hflux_set2\"\n",
    "meta_budg3d_hflux_set2 = parsemeta(dirIn + file_name + \".\" + tsstr[0] + \".meta\")\n",
    "fldlist = np.array(meta_budg3d_hflux_set2[\"fldList\"])\n",
    "varnames = np.array([\"ADVx_SLT\",\"ADVy_SLT\",\"DFxE_SLT\",\"DFyE_SLT\"])\n",
    "recs = np.array([])\n",
    "for var in varnames:\n",
    "    irec = np.where(fldlist == var)\n",
    "    recs = np.append(recs, irec[0][0])\n",
    "\n",
    "# do this onle for datetimes[1:] so we can set it in the file\n",
    "saltfluxeshconv = np.zeros((len(tsstr)-1,nz,ny,nx))\n",
    "advfluxeshconv = np.zeros((len(tsstr)-1,nz,ny,nx))\n",
    "dffluxeshconv = np.zeros((len(tsstr)-1,nz,ny,nx))\n",
    "                     \n",
    "for t in range(len(tsstr[1:])):\n",
    "    t2 = int(tsstr[t + 1])\n",
    "    # read the files\n",
    "    ADVx_SLT,its,meta = rdmds(os.path.join(dirIn, file_name),t2,returnmeta=True,rec=recs[0])\n",
    "    ADVy_SLT,its,meta = rdmds(os.path.join(dirIn, file_name),t2,returnmeta=True,rec=recs[1])\n",
    "    DFxE_SLT,its,meta = rdmds(os.path.join(dirIn, file_name),t2,returnmeta=True,rec=recs[2])\n",
    "    DFyE_SLT,its,meta = rdmds(os.path.join(dirIn, file_name),t2,returnmeta=True,rec=recs[3])\n",
    "    \n",
    "    tmpUo = myparms['rhoconst'] * (ADVx_SLT + DFxE_SLT)\n",
    "    tmpVo = myparms['rhoconst'] * (ADVy_SLT + DFyE_SLT)\n",
    "    \n",
    "    # reshape and get the faces\n",
    "    tmpUo = tmpUo.reshape(nz,ny,nx)\n",
    "    tmpVo = tmpVo.reshape(nz,ny,nx)\n",
    "    tmpUo = get_aste_faces(tmpUo,nfx,nfy)              \n",
    "    tmpVo = get_aste_faces(tmpVo,nfx,nfy)\n",
    "\n",
    "    # set in the larger array\n",
    "    saltfluxeshconv[t] = calc_UV_conv_mod(nfx,nfy,tmpUo,tmpVo)\n",
    "\n",
    "\n",
    "    # also do for adv and df\n",
    "    tmpUo = get_aste_faces(ADVx_SLT.reshape(nz,ny,nx),nfx,nfy)\n",
    "    tmpVo = get_aste_faces(ADVy_SLT.reshape(nz,ny,nx),nfx,nfy)\n",
    "    advfluxeshconv[t] = calc_UV_conv_mod(nfx,nfy,tmpUo,tmpVo) * myparms['rhoconst'] #g/s\n",
    "\n",
    "    tmpUo = get_aste_faces(DFxE_SLT.reshape(nz,ny,nx),nfx,nfy)\n",
    "    tmpVo = get_aste_faces(DFyE_SLT.reshape(nz,ny,nx),nfx,nfy)\n",
    "    dffluxeshconv[t] = calc_UV_conv_mod(nfx,nfy,tmpUo,tmpVo) * myparms['rhoconst'] #g/s\n",
    "\n",
    "\n",
    "budgO['saltfluxes']['hconv'] = saltfluxeshconv\n",
    "budgO['saltfluxes']['ADV_hconv'] = advfluxeshconv\n",
    "budgO['saltfluxes']['DF_hconv'] = dffluxeshconv"
   ]
  },
  {
   "cell_type": "code",
   "execution_count": 49,
   "id": "c128ecdf-2eec-4381-8f99-f6d653677673",
   "metadata": {},
   "outputs": [],
   "source": [
    "del ADVx_SLT, ADVy_SLT, DFxE_SLT, DFyE_SLT\n",
    "del saltfluxeshconv,advfluxeshconv,dffluxeshconv"
   ]
  },
  {
   "cell_type": "code",
   "execution_count": 50,
   "id": "b633903b-3aea-4c04-9283-94a907e5acfd",
   "metadata": {},
   "outputs": [],
   "source": [
    "# read fluxes\n",
    "file_name = 'budg2d_zflux_set1'\n",
    "meta_budg2d_zflux_set1 = parsemeta(dirIn + file_name + \".\" + tsstr[0] + \".meta\")\n",
    "fldlist = np.array(meta_budg2d_zflux_set1[\"fldList\"])\n",
    "varnames = np.array([\"oceSPflx\",\"SFLUX\",'oceFWflx','SIatmFW'])   # add in other terms to look at balance\n",
    "recs = np.array([])\n",
    "for var in varnames:\n",
    "    irec = np.where(fldlist == var)\n",
    "    recs = np.append(recs, irec[0][0])\n",
    "\n",
    "# read all the files\n",
    "oceSPflx = np.zeros((len(tsstr)-1,ny,nx))\n",
    "SFLUX = np.zeros((len(tsstr)-1,ny,nx))\n",
    "oceFWflx = np.zeros((len(tsstr)-1,ny,nx))\n",
    "SIatmFW = np.zeros((len(tsstr)-1,ny,nx))\n",
    "\n",
    "# loop and add to list\n",
    "for t in range(len(tsstr[1:])):\n",
    "    t2 = int(tsstr[t+1])  # +1 so we can read end of budg time steps\n",
    "    \n",
    "    tmpoceSPflx,its,meta = rdmds(os.path.join(dirIn, file_name),t2,returnmeta=True,rec=recs[0])   # g/m^2/s\n",
    "    tmpSFLUX,its,meta = rdmds(os.path.join(dirIn, file_name),t2,returnmeta=True,rec=recs[1])      # g/m^2/s\n",
    "    tmpoceFWflx,its,meta = rdmds(os.path.join(dirIn, file_name),t2,returnmeta=True,rec=recs[2])   # kg/m^2/s\n",
    "    tmpSIatmFW,its,meta = rdmds(os.path.join(dirIn, file_name),t2,returnmeta=True,rec=recs[3])    # kg/m^2/s\n",
    "\n",
    "    tmpoceSPflx = tmpoceSPflx.reshape(ny,nx)\n",
    "    tmpSFLUX = tmpSFLUX.reshape(ny,nx)\n",
    "    tmpoceFWflx = tmpoceFWflx.reshape(ny,nx)\n",
    "    tmpSIatmFW = tmpSIatmFW.reshape(ny,nx)\n",
    "\n",
    "    # add to bigger array\n",
    "    oceSPflx[t] = tmpoceSPflx\n",
    "    SFLUX[t] = tmpSFLUX\n",
    "    oceFWflx[t] = tmpoceFWflx\n",
    "    SIatmFW[t] = tmpSIatmFW\n",
    "\n",
    "# array to store all the files\n",
    "oceSflux = np.zeros((len(tsstr)-1,ny,nx))\n",
    "WSLTMASS = np.zeros((len(tsstr)-1,ny,nx))\n",
    "SRELAX = np.zeros((len(tsstr)-1,ny,nx))\n",
    "\n",
    "# read relax and salt mass\n",
    "file_name = \"budg2d_zflux_set2\"\n",
    "meta_budg2d_zflux_set2 = parsemeta(dirIn + file_name + \".\" + tsstr[0] + \".meta\")\n",
    "fldlist = np.array(meta_budg2d_zflux_set2[\"fldList\"])\n",
    "varnames = np.array([\"oceSflux\",\"WSLTMASS\",\"SRELAX\"])\n",
    "recs = np.array([])\n",
    "for var in varnames:\n",
    "    irec = np.where(fldlist == var)\n",
    "    if len(irec[0]) > 0:\n",
    "        recs = np.append(recs, irec[0][0])\n",
    "\n",
    "# loop and add to list\n",
    "for t in range(len(tsstr[1:])):\n",
    "    t2 = int(tsstr[t+1])\n",
    "\n",
    "    tmpoceSflux,its,meta = rdmds(os.path.join(dirIn, file_name),t2,returnmeta=True,rec=recs[0])\n",
    "    tmpWSLTMASS,its,meta = rdmds(os.path.join(dirIn, file_name),t2,returnmeta=True,rec=recs[1])\n",
    "    tmpSRELAX,its,meta = rdmds(os.path.join(dirIn, file_name),t2,returnmeta=True,rec=recs[1])\n",
    "    tmpoceSflux = tmpoceSflux.reshape(ny,nx)\n",
    "    tmpWSLTMASS = tmpWSLTMASS.reshape(ny,nx)\n",
    "    tmpSRELAX = tmpSRELAX.reshape(ny,nx)\n",
    "\n",
    "    # add to bigger array\n",
    "    oceSflux[t] = tmpoceSflux\n",
    "    WSLTMASS[t] = tmpWSLTMASS\n",
    "    SRELAX[t] = tmpSRELAX"
   ]
  },
  {
   "cell_type": "code",
   "execution_count": 51,
   "id": "ecd4aae2-ca63-48af-b5ba-b2fce6bb7952",
   "metadata": {},
   "outputs": [],
   "source": [
    "# read kpp tend and from 3d zflux\n",
    "file_name = \"budg3d_kpptend_set1\"\n",
    "meta_budg3d_kpptend_set1 = parsemeta(dirIn + file_name + \".\" + tsstr[0] + \".meta\")\n",
    "fldlist = np.array(meta_budg3d_kpptend_set1[\"fldList\"])\n",
    "varnames = np.array([\"oceSPtnd\",\"KPPg_SLT\"])\n",
    "recs = np.array([])\n",
    "for var in varnames:\n",
    "    irec = np.where(fldlist == var)\n",
    "    if len(irec[0]) > 0:\n",
    "        recs = np.append(recs, irec[0][0])\n",
    "\n",
    "oceSPtnd = np.zeros((len(tsstr)-1,nz,ny,nx))\n",
    "KPPg_SLT = np.zeros((len(tsstr)-1,nz,ny,nx))\n",
    "\n",
    "# loop and add to list\n",
    "for t in range(len(tsstr[1:])):\n",
    "    t2 = int(tsstr[t+1])  # +1 so we can read end of budg time steps\n",
    "\n",
    "    tmpoceSPtnd,its,meta = rdmds(os.path.join(dirIn, file_name),t2,returnmeta=True,rec=recs[0])\n",
    "    tmpKPPg_SLT,its,meta = rdmds(os.path.join(dirIn, file_name),t2,returnmeta=True,rec=recs[1])\n",
    "    tmpoceSPtnd = tmpoceSPtnd.reshape(nz,ny,nx)\n",
    "    tmpKPPg_SLT = tmpKPPg_SLT.reshape(nz,ny,nx)\n",
    "\n",
    "    oceSPtnd[t] = tmpoceSPtnd\n",
    "    KPPg_SLT[t] = tmpKPPg_SLT\n",
    "\n",
    "\n",
    "# now 3d zfluxes\n",
    "file_name = \"budg3d_zflux_set2\"\n",
    "meta_budg3d_zflux_set2 = parsemeta(dirIn + file_name + \".\" + tsstr[0] + \".meta\")\n",
    "fldlist = np.array(meta_budg3d_zflux_set2[\"fldList\"])\n",
    "varnames = np.array([\"ADVr_SLT\",\"DFrE_SLT\",\"DFrI_SLT\"])\n",
    "recs = np.array([])\n",
    "for var in varnames:\n",
    "    irec = np.where(fldlist == var)\n",
    "    recs = np.append(recs, irec[0][0])\n",
    "\n",
    "# do same time-reading\n",
    "ADVr_SLT = np.zeros((len(tsstr)-1,nz,ny,nx))\n",
    "DFrE_SLT = np.zeros((len(tsstr)-1,nz,ny,nx))\n",
    "DFrI_SLT = np.zeros((len(tsstr)-1,nz,ny,nx))\n",
    "\n",
    "# loop and add to list\n",
    "for t in range(len(tsstr[1:])):\n",
    "    t2 = int(tsstr[t+1])  # +1 so we can read end of budg time steps\n",
    "\n",
    "    tmpADVr_SLT,its,meta = rdmds(os.path.join(dirIn, file_name),t2,returnmeta=True,rec=recs[0])\n",
    "    tmpDFrE_SLT,its,meta = rdmds(os.path.join(dirIn, file_name),t2,returnmeta=True,rec=recs[1])\n",
    "    tmpDFrI_SLT,its,meta = rdmds(os.path.join(dirIn, file_name),t2,returnmeta=True,rec=recs[2])\n",
    "    tmpADVr_SLT = tmpADVr_SLT.reshape(nz,ny,nx)\n",
    "    tmpDFrE_SLT = tmpDFrE_SLT.reshape(nz,ny,nx)\n",
    "    tmpDFrI_SLT = tmpDFrI_SLT.reshape(nz,ny,nx)\n",
    "\n",
    "    # add to bigger array\n",
    "    ADVr_SLT[t] = tmpADVr_SLT\n",
    "    DFrE_SLT[t] = tmpDFrE_SLT\n",
    "    DFrI_SLT[t] = tmpDFrI_SLT"
   ]
  },
  {
   "cell_type": "code",
   "execution_count": 52,
   "id": "20308115-81e8-4945-8a5e-66e23bd06089",
   "metadata": {},
   "outputs": [],
   "source": [
    "if myparms[\"useRFWF\"]==0 or myparms['useNLFS']==0:\n",
    "    print('do nothing')\n",
    "else:\n",
    "    oceSflux = 0 * oceSflux\n",
    "\n",
    "if myparms['useNLFS'] == 0:\n",
    "    print('do nothing, already read above')\n",
    "else:\n",
    "    WSLTMASS=0*WSLTMASS\n",
    "\n",
    "budgO['saltzconv'] = SFLUX + oceSPflx                  # W/m^2\n",
    "zconv_top_salt = (SFLUX + oceSPflx) * RAC               # g/s\n",
    "budgI['saltzconv'] = -budgO['saltzconv'] + SRELAX\n",
    "\n",
    "if myparms['useNLFS']==0:\n",
    "    budgO['saltzconv'] = budgO['saltzconv'] - myparms['rhoconst']*WSLTMASS\n",
    "\n",
    "if myparms['useRFWF']==0 or myparms['useNLFS']==0:\n",
    "    budgI['saltzconv']=-oceSflux"
   ]
  },
  {
   "cell_type": "code",
   "execution_count": 53,
   "id": "3252fad2-792d-49a7-96ac-c50f2c4844ee",
   "metadata": {},
   "outputs": [],
   "source": [
    "# tester to look at shapes\n",
    "\n",
    "\n",
    "nr = mygrid['RC'].shape[0]\n",
    "# break trWtop down into smaller terms\n",
    "trWtopADV = -(ADVr_SLT)*myparms['rhoconst']           # g/s\n",
    "trWtopDF = -(DFrE_SLT+DFrI_SLT)*myparms['rhoconst']   # g/s\n",
    "trWtopKPP = -(KPPg_SLT)*myparms['rhoconst']           # g/s\n",
    "trWtop = trWtopADV + trWtopDF + trWtopKPP             # g/s "
   ]
  },
  {
   "cell_type": "code",
   "execution_count": 54,
   "id": "11964441-e00e-4e5a-9225-698355d76d73",
   "metadata": {},
   "outputs": [
    {
     "name": "stdout",
     "output_type": "stream",
     "text": [
      "(6, 50, 1350, 270)\n"
     ]
    }
   ],
   "source": [
    "nr = mygrid['RC'].shape[0]\n",
    "# break trWtop down into smaller terms\n",
    "trWtopADV = -(ADVr_SLT)*myparms['rhoconst']           # g/s\n",
    "trWtopDF = -(DFrE_SLT+DFrI_SLT)*myparms['rhoconst']   # g/s\n",
    "trWtopKPP = -(KPPg_SLT)*myparms['rhoconst']           # g/s\n",
    "trWtop = trWtopADV + trWtopDF + trWtopKPP             # g/s \n",
    "\n",
    "print(trWtop.shape)\n",
    "sptop = np.tile(oceSPflx[:,np.newaxis,:,:],(1,nz,1,1)) - np.cumsum(oceSPtnd, axis=1)        # we include this in our zconv_top term\n",
    "sptop = sptop * np.tile(RAC3[np.newaxis,:,:,:],(len(tsstr)-1,1,1,1))        # g/s\n",
    "\n",
    "trWtop[:,1:,:,:] = trWtop[:,1:,:,:] + sptop[:,:-1,:,:]\n",
    "trWtop[:,0,:,:] = budgO['saltzconv'] * RAC    # g/s top layer is surface flux\n",
    "\n",
    "trWbot = np.zeros_like(trWtop)\n",
    "trWbot[:,:-1,:,:] = trWtop[:,1:,:,:]\n",
    "trWbot[:,-1,:,:] = 0\n",
    "\n",
    "budgO['saltfluxes']['trWtop'] = trWtop     # g/s\n",
    "budgO['saltfluxes']['trWbot'] = trWbot     # g/s\n",
    "\n",
    "budgI['saltfluxes']['trWtop'] = -RAC*0\n",
    "budgI['saltfluxes']['trWbot'] = budgO['saltfluxes']['trWtop'][:,0,:,:]  # surface because ice\n",
    "\n",
    "budgO['saltfluxes']['zconv'] = budgO['saltfluxes']['trWtop'] - budgO['saltfluxes']['trWbot']\n",
    "budgO['saltzconv'] = np.tile(RAC[np.newaxis,:,:],(len(tsstr)-1,1,1)) * budgO['saltzconv']   # g/s\n",
    "budgI['saltzconv'] = np.tile(RAC[np.newaxis,:,:],(len(tsstr)-1,1,1)) * budgI['saltzconv']   # g/s\n",
    "budgOI['saltzconv'] = budgO['saltzconv'] + budgI['saltzconv']"
   ]
  },
  {
   "cell_type": "code",
   "execution_count": 55,
   "id": "87acfd8e-fb3d-4421-896e-97122ee348bb",
   "metadata": {},
   "outputs": [],
   "source": [
    "del trWtop,trWbot"
   ]
  },
  {
   "cell_type": "code",
   "execution_count": 56,
   "id": "59419990-00e6-4784-9690-93137cea3906",
   "metadata": {},
   "outputs": [],
   "source": [
    "# do vertical convergence for ADV and DF terms\n",
    "tmpadv = np.full((len(tsstr)-1,nz,ny,nx),np.nan)\n",
    "tmpadv[:,:-1,:,:] = (trWtopADV[:,:-1] - trWtopADV[:,1:])              # for surface thru seafloor\n",
    "\n",
    "Sconv = budgO['saltfluxes']['ADV_hconv'] + tmpadv\n",
    "budgO['saltfluxes']['ADV_Sconv'] = Sconv             # g/s, this is the advective arrow of S for a cell"
   ]
  },
  {
   "cell_type": "code",
   "execution_count": 57,
   "id": "909422bd-45cd-40f4-b161-d3cf8fd45fae",
   "metadata": {},
   "outputs": [],
   "source": [
    "# do vertical convergence for ADV and DF terms\n",
    "tmpdf = np.full((len(tsstr)-1,nz,ny,nx),np.nan)\n",
    "tmpdf[:,:-1,:,:] = (trWtopDF[:,:-1] - trWtopDF[:,1:])              # for surface thru seafloor\n",
    "\n",
    "dfSconv = budgO['saltfluxes']['DF_hconv'] + tmpdf\n",
    "budgO['saltfluxes']['DF_Sconv'] = dfSconv             # g/s, this is the diffusive arrow of T for a cell"
   ]
  },
  {
   "cell_type": "code",
   "execution_count": 58,
   "id": "370d3303-f016-49bc-b924-3bf95a631e27",
   "metadata": {},
   "outputs": [],
   "source": [
    "tmpkpp = np.full((len(tsstr)-1,nz,ny,nx),np.nan)\n",
    "tmpkpp[:,:-1,:,:] = trWtopKPP[:,:-1] - trWtopKPP[:,1:]\n",
    "budgO['saltfluxes']['KPP_Sconv'] = tmpkpp        # no horizontal component for this"
   ]
  },
  {
   "cell_type": "code",
   "execution_count": 59,
   "id": "71ea4408-b760-4821-8167-3fc9c3963bf8",
   "metadata": {},
   "outputs": [],
   "source": [
    "# delete all the files from the salt budget\n",
    "del tmpkpp, dfSconv,tmpdf,tmpadv,Sconv"
   ]
  },
  {
   "cell_type": "markdown",
   "id": "672b743a-bfa3-480d-b303-7a8d144c6366",
   "metadata": {},
   "source": [
    "# create an example time series for a given set of points (points in the Barents Sea)"
   ]
  },
  {
   "cell_type": "code",
   "execution_count": 61,
   "id": "7e9eb6e8-5ed4-43cd-848f-845a35ef893f",
   "metadata": {},
   "outputs": [],
   "source": [
    "# # create the bins of TS data\n",
    "# # try new T bins where different sizes\n",
    "# refined_section = np.linspace(-3,8,93)\n",
    "# coarse_section = np.linspace(8,15,21,endpoint=False)\n",
    "# binsTH_edges = np.concatenate((refined_section,coarse_section[1:]))\n",
    "# binsTH_centers = (binsTH_edges[:-1] + binsTH_edges[1:])/2\n",
    "# nT = binsTH_edges.shape[0]-1\n",
    "\n",
    "# # do bi-sectional form for S\n",
    "# coarse_section = np.linspace(0, 28, 30, endpoint=False)\n",
    "# refined_section = np.linspace(28, 40, 83)\n",
    "# binsSLT_edges = np.concatenate((coarse_section, refined_section))\n",
    "# binsSLT_centers = (binsSLT_edges[:-1] + binsSLT_edges[1:])/2\n",
    "# nS = binsSLT_edges.shape[0]-1\n",
    "\n",
    "# Tbin,Sbin = np.meshgrid(binsTH_edges,binsSLT_edges)\n",
    "# Tbincent,Sbincent = np.meshgrid(binsTH_centers,binsSLT_centers)\n",
    "\n",
    "# binwidthT = binsTH_edges[1:] - binsTH_edges[:-1]\n",
    "# binwidthS = binsSLT_edges[1:] - binsSLT_edges[:-1]\n",
    "# dT,dS = np.meshgrid(binwidthT,binwidthS)\n",
    "# dT = dT.reshape(112,112,1)\n",
    "# dS = dS.reshape(112,112,1)"
   ]
  },
  {
   "cell_type": "code",
   "execution_count": 62,
   "id": "2f64aed3-7214-4bb2-b742-118e10793ee6",
   "metadata": {},
   "outputs": [],
   "source": [
    "# # read theta and salt averages from the t2 timestep (average)\n",
    "# file_name = \"state_3d_set1\"\n",
    "# meta_budg3d_kpptend_set1 = parsemeta(dirState + file_name + \".\" + tsstr[0] + \".meta\")\n",
    "# fldlist = np.array(meta_budg3d_kpptend_set1[\"fldList\"])\n",
    "# varnames = np.array([\"THETA\",\"SALT\"])\n",
    "# recs = np.array([])\n",
    "# for var in varnames:\n",
    "#     irec = np.where(fldlist == var)\n",
    "#     recs = np.append(recs, irec[0][0])\n",
    "\n",
    "\n",
    "# THETA = np.zeros((len(tsstr)-1,nz,ny,nx))\n",
    "# SALT = np.zeros((len(tsstr)-1,nz,ny,nx))\n",
    "# binned_theta = np.zeros((len(tsstr)-1,nz,ny,nx))\n",
    "# binned_salt = np.zeros((len(tsstr)-1,nz,ny,nx))\n",
    "\n",
    "# # loop and add to list\n",
    "# for t in range(len(tsstr[1:])):\n",
    "#     t2 = int(tsstr[t+1])  # +1 so we can read end of budg time steps\n",
    "\n",
    "#     tmpTHETA,its,meta = rdmds(os.path.join(dirState, file_name),t2,returnmeta=True,rec=recs[0])\n",
    "#     tmpSALT,its,meta = rdmds(os.path.join(dirState, file_name),t2,returnmeta=True,rec=recs[1])\n",
    "#     tmpTHETA = tmpTHETA.reshape(nz,ny,nx)\n",
    "#     tmpSALT = tmpSALT.reshape(nz,ny,nx)\n",
    "\n",
    "#     # set in larger array\n",
    "#     THETA[t] = tmpTHETA\n",
    "#     SALT[t] = tmpSALT\n",
    "\n",
    "#     # bin for temp\n",
    "#     tmpbinned_theta = bin_array(tmpTHETA,binsTH_edges)\n",
    "#     tmpbinned_theta = tmpbinned_theta.astype(float)\n",
    "#     tmpbinned_theta[tmpbinned_theta == nT] = np.nan\n",
    "#     binned_theta[t] = tmpbinned_theta\n",
    "\n",
    "#     # also for salt\n",
    "#     tmpbinned_salt = bin_array(tmpSALT,binsSLT_edges)\n",
    "#     tmpbinned_salt = tmpbinned_salt.astype(float)\n",
    "#     tmpbinned_salt[tmpbinned_salt == nS] = np.nan\n",
    "#     binned_salt[t] = tmpbinned_salt"
   ]
  },
  {
   "cell_type": "code",
   "execution_count": 63,
   "id": "ca9ded68-5d39-427c-a3d7-97c639350992",
   "metadata": {},
   "outputs": [],
   "source": [
    "# del THETA,SALT"
   ]
  },
  {
   "cell_type": "code",
   "execution_count": 64,
   "id": "d10d6716-5d88-4fcb-bbf3-fc4986db2dc8",
   "metadata": {},
   "outputs": [],
   "source": [
    "# # also make arrays of the binned_theta and binned_salt widths\n",
    "# default_value = 0\n",
    "# binwidthT_map = np.full_like(binned_theta, default_value, dtype=np.float64)\n",
    "# valid_mask = ~np.isnan(binned_theta)\n",
    "# binwidthT_map[valid_mask] = binwidthT[binned_theta[valid_mask].astype(int)]"
   ]
  },
  {
   "cell_type": "code",
   "execution_count": 65,
   "id": "c993bea9-be87-426a-b9b1-86433189ff59",
   "metadata": {},
   "outputs": [],
   "source": [
    "# # for salt\n",
    "# binwidthS_map = np.full_like(binned_theta, default_value, dtype=np.float64)\n",
    "# binwidthS_map[valid_mask] = binwidthS[binned_salt[valid_mask].astype(int)]"
   ]
  },
  {
   "cell_type": "markdown",
   "id": "45e9c871-ac35-4551-a8f1-5270abab2b90",
   "metadata": {},
   "source": [
    "# create points, the example points at the surface in the Barents Sea, so we can do a time series"
   ]
  },
  {
   "cell_type": "code",
   "execution_count": 66,
   "id": "51571f83-bfa1-4f0b-8e35-0e61fa659877",
   "metadata": {},
   "outputs": [
    {
     "data": {
      "text/plain": [
       "(6648, 2)"
      ]
     },
     "execution_count": 66,
     "metadata": {},
     "output_type": "execute_result"
    }
   ],
   "source": [
    "# get some example points for the basin\n",
    "\n",
    "y_indices, x_indices = np.meshgrid(np.arange(ny), np.arange(nx), indexing='ij')\n",
    "condition = (mskBasin == iB)\n",
    "\n",
    "x_points = x_indices[condition]\n",
    "y_points = y_indices[condition]\n",
    "\n",
    "# # Combine the x and y points into a single array of shape (npoints, 2)\n",
    "points = np.vstack((y_points, x_points)).T\n",
    "points.shape"
   ]
  },
  {
   "cell_type": "code",
   "execution_count": 67,
   "id": "1fe5ad8a-bdb6-4e78-acd2-2deef35921b4",
   "metadata": {},
   "outputs": [
    {
     "name": "stdout",
     "output_type": "stream",
     "text": [
      "0\n",
      "1\n",
      "2\n",
      "3\n",
      "4\n",
      "5\n"
     ]
    }
   ],
   "source": [
    "# loop through the time steps to grab the value\n",
    "JtendSfull = np.zeros((len(tsstr)-1,nz,ny,nx))\n",
    "JADVSfull = np.zeros((len(tsstr)-1,nz,ny,nx))\n",
    "JDFSfull = np.zeros((len(tsstr)-1,nz,ny,nx))\n",
    "JKPPSfull = np.zeros((len(tsstr)-1,nz,ny,nx))\n",
    "JsurfSfull = np.zeros((len(tsstr)-1,nz,ny,nx))\n",
    "budgetfull = np.zeros((len(tsstr)-1,nz,ny,nx))\n",
    "\n",
    "for t in range(len(tsstr)-1):\n",
    "    print(t)\n",
    "    \n",
    "    # grab the info on the vectors for each\n",
    "    aS = budgO['saltfluxes']['tend'][t]\n",
    "    bS = budgO['saltfluxes']['ADV_Sconv'][t]\n",
    "    cS = budgO['saltfluxes']['DF_Sconv'][t]\n",
    "    dS = budgO['saltfluxes']['KPP_Sconv'][t]\n",
    "    eS = zconv_top_salt[t].reshape(1,ny,nx)\n",
    "    fS = sptop[t]\n",
    "\n",
    "    # for each y,x point in the time steps, integrate the J terms to find total transformation\n",
    "    # syntax for one column\n",
    "    # aa = np.zeros((nz, 1))\n",
    "    # n = 1\n",
    "    # ix, iy, k = pt[n-1]\n",
    "    # aa[:, n-1] = aS[:, i, j] - bS[:, i, j] - cS[:, i, j] - dS[:, i, j]\n",
    "    # aa[1:, n-1] += (fS[1:,i,j] - fS[:-1,i,j])                                  # from the oceSPflx and oceSPtnd\n",
    "    # aa[0, n-1] += fS[0,i,j]\n",
    "    # aa[0, n-1] -= zconv_top_salt[i, j]\n",
    "\n",
    "    # get indices for bins\n",
    "    \n",
    "    # save the J terms here as maps\n",
    "    JtendS = (aS) / myparms['rhoconst']  # g/s / kg/m^3 = PSU.m^3/s\n",
    "    JADVS = (bS) / myparms['rhoconst']\n",
    "    JDFS = (cS) / myparms['rhoconst']\n",
    "    JKPPS = (dS) / myparms['rhoconst']\n",
    "\n",
    "    # do the surface term as a map\n",
    "    JsurfS = np.zeros((nz,ny,nx))\n",
    "    JsurfS[1:,:,:] += fS[1:,:,:] - fS[:-1,:,:]\n",
    "    JsurfS[0,:,:] += fS[0,:,:]\n",
    "    JsurfS[0,:,:] -= eS[0,:,:] \n",
    "    JsurfS = JsurfS/ myparms['rhoconst']\n",
    "\n",
    "\n",
    "    # fill inf\n",
    "    #JtendS[np.isneginf(JtendS)] = np.nan\n",
    "    #JADVS[np.isneginf(JtendS)] = np.nan\n",
    "    #JDFS[np.isneginf(JtendS)] = np.nan\n",
    "    #JKPPS[np.isneginf(JtendS)] = np.nan\n",
    "    #JsurfS[np.isneginf(JtendS)] = np.nan\n",
    "\n",
    "\n",
    "    # also do the budget of terms\n",
    "    budget_ofJ = JtendS - JADVS - JDFS - JKPPS + JsurfS\n",
    "\n",
    "    # add these to the larger array\n",
    "    JtendSfull[t] = JtendS\n",
    "    JADVSfull[t] = JADVS\n",
    "    JDFSfull[t] = JDFS\n",
    "    JKPPSfull[t] = JKPPS\n",
    "    JsurfSfull[t] = JsurfS\n",
    "    budgetfull[t] = budget_ofJ"
   ]
  },
  {
   "cell_type": "code",
   "execution_count": 68,
   "id": "57d23f45-d36a-4cb2-8a22-8f93b24184ac",
   "metadata": {},
   "outputs": [],
   "source": [
    "# # for some time step, look at one column, is this budgeted\n",
    "# for point in points:\n",
    "#     # print((JtendTfull[0][0] * mymsk3[0]))\n",
    "#     # print()\n",
    "#     y,x = point[0],point[1]\n",
    "\n",
    "#     a = np.nansum((JADVSfull[0] * mymsk3)[:,y,x])\n",
    "#     b = np.nansum((JDFSfull[0] * mymsk3)[:,y,x])\n",
    "#     c = np.nansum((JKPPSfull[0] * mymsk3)[:,y,x])\n",
    "#     d = np.nansum((JsurfSfull[0] * mymsk3)[:,y,x])\n",
    "#     e = np.nansum((JtendSfull[0] * mymsk3)[:,y,x])\n",
    "\n",
    "#     print(a,b,c,d,e)\n",
    "#     print(a+b+c-d)\n",
    "#     print()"
   ]
  },
  {
   "cell_type": "code",
   "execution_count": 69,
   "id": "58bccc96-5f52-4abf-900c-3cd8925630be",
   "metadata": {},
   "outputs": [],
   "source": [
    "# # double check that these are budgeted - the sum of the sub-parts should equal the total tendency\n",
    "# # THESE ARE THE NUMBERS WE WANT TO WRITE TO A FILE FOR A TIME SERIES\n",
    "\n",
    "# for t in range(len(tsstr)-1):\n",
    "\n",
    "#     a = np.nansum((JADVSfull[t] * mymsk3))\n",
    "#     b = np.nansum((JDFSfull[t] * mymsk3))\n",
    "#     c = np.nansum((JKPPSfull[t] * mymsk3))\n",
    "#     d = np.nansum((JsurfSfull[t] * mymsk))\n",
    "#     e = np.nansum((JtendSfull[t] * mymsk3))\n",
    "    \n",
    "#     print(a,b,c,d,e)\n",
    "#     print(a+b+c-d)\n",
    "#     print()"
   ]
  },
  {
   "cell_type": "markdown",
   "id": "4c9008f0-2ecc-4702-948f-76223eebc0bc",
   "metadata": {},
   "source": [
    "# add the above to a netcdf file"
   ]
  },
  {
   "cell_type": "code",
   "execution_count": 70,
   "id": "88e688c0-9bc8-403b-b581-2dcc31a0a74f",
   "metadata": {},
   "outputs": [],
   "source": [
    "# # write this to a dataset the first time only!\n",
    "# ds = xr.Dataset(\n",
    "#     {\n",
    "#         \"JtendSfull\": ([\"time\", \"z\", \"y\", \"x\"], JtendSfull)  # Replace 'variable_name' with the actual name\n",
    "#     },\n",
    "#     coords={\n",
    "#         \"time\": datetimes[:-1],\n",
    "#         \"z\": np.arange(nz),\n",
    "#         \"y\": np.arange(ny),\n",
    "#         \"x\": np.arange(nx),\n",
    "#     }\n",
    "# )\n",
    "\n",
    "# # add the other terms\n",
    "# ds['JADVSfull'] = ([\"time\", \"z\", \"y\", \"x\"], JADVSfull)\n",
    "# ds['JDFSfull'] = ([\"time\", \"z\", \"y\", \"x\"], JDFSfull)\n",
    "# ds['JKPPSfull'] = ([\"time\", \"z\", \"y\", \"x\"], JKPPSfull)\n",
    "# ds['JsurfSfull'] = ([\"time\", \"z\", \"y\", \"x\"], JsurfSfull)\n",
    "# ds['budgetfull'] = ([\"time\", \"z\", \"y\", \"x\"], budgetfull)\n",
    "\n",
    "# # write to a dataset (the first time, do not run again)\n",
    "# ds.to_netcdf(\"earlyyears_J.nc\", mode=\"w\", format=\"NETCDF4\", unlimited_dims=[\"time\"], engine=\"netcdf4\")"
   ]
  },
  {
   "cell_type": "code",
   "execution_count": 71,
   "id": "f97b3368-4e37-4af9-a85b-187385d14469",
   "metadata": {},
   "outputs": [],
   "source": [
    "ds_old = xr.open_dataset(\"earlyyears_J.nc\")"
   ]
  },
  {
   "cell_type": "code",
   "execution_count": 72,
   "id": "c72b47fa-50ed-4c23-af9c-e345a0b3a03b",
   "metadata": {},
   "outputs": [],
   "source": [
    "# Convert the new data arrays into xarray DataArrays with appropriate dimensions\n",
    "ds_new = xr.Dataset(\n",
    "    {\n",
    "        \"JtendSfull\": ([\"time\", \"z\", \"y\", \"x\"], JtendSfull),  # Replace with new data arrays\n",
    "        \"JADVSfull\": ([\"time\", \"z\", \"y\", \"x\"], JADVSfull),\n",
    "        \"JDFSfull\": ([\"time\", \"z\", \"y\", \"x\"], JDFSfull),\n",
    "        \"JKPPSfull\": ([\"time\", \"z\", \"y\", \"x\"], JKPPSfull),\n",
    "        \"JsurfSfull\": ([\"time\", \"z\", \"y\", \"x\"], JsurfSfull),\n",
    "        \"budgetfull\": ([\"time\", \"z\", \"y\", \"x\"], budgetfull)\n",
    "    },\n",
    "    coords={\n",
    "        \"time\": datetimes[:-1],  # New datetimes for the appended data\n",
    "        \"z\": np.arange(nz),     # Assuming z, y, x remain the same\n",
    "        \"y\": np.arange(ny),\n",
    "        \"x\": np.arange(nx),\n",
    "    }\n",
    ")\n",
    "\n",
    "# Append the new data to the existing NetCDF file"
   ]
  },
  {
   "cell_type": "code",
   "execution_count": 73,
   "id": "b531475a-e338-42cf-b78d-ffdf0cbe16c5",
   "metadata": {},
   "outputs": [],
   "source": [
    "ds_combined = xr.concat([ds_old,ds_new],dim=\"time\")"
   ]
  },
  {
   "cell_type": "code",
   "execution_count": 74,
   "id": "d991221e-8338-4cc1-aa8c-1ff8c0032569",
   "metadata": {},
   "outputs": [],
   "source": [
    "ds_combined.to_netcdf(\"J_salt_2003.nc\", mode=\"w\", format=\"NETCDF4\", unlimited_dims=[\"time\"], engine=\"netcdf4\")"
   ]
  },
  {
   "cell_type": "code",
   "execution_count": null,
   "id": "cd019450-87aa-4b3e-9070-fd7eca3cccb9",
   "metadata": {},
   "outputs": [],
   "source": []
  },
  {
   "cell_type": "code",
   "execution_count": null,
   "id": "cc45b2ac-91d5-4b4d-8893-9bf93c364c81",
   "metadata": {},
   "outputs": [],
   "source": []
  },
  {
   "cell_type": "code",
   "execution_count": null,
   "id": "e228e66a-3d5e-4470-8113-d40f236cf9d4",
   "metadata": {},
   "outputs": [],
   "source": []
  },
  {
   "cell_type": "code",
   "execution_count": null,
   "id": "0b8cef96-f1cf-4d79-855b-9a504b7ae4c7",
   "metadata": {},
   "outputs": [],
   "source": []
  },
  {
   "cell_type": "code",
   "execution_count": null,
   "id": "c3b8d754-1c24-4cfd-8b42-d9133703484a",
   "metadata": {},
   "outputs": [],
   "source": []
  },
  {
   "cell_type": "markdown",
   "id": "960f6128-26ca-4be6-af8d-912c70bfd324",
   "metadata": {},
   "source": [
    "# time series stuff from before"
   ]
  },
  {
   "cell_type": "code",
   "execution_count": 44,
   "id": "1d788a6d-8796-417d-8a54-6dba521e005e",
   "metadata": {},
   "outputs": [],
   "source": [
    "with open(\"saltterms.txt\",\"a\") as inf:\n",
    "    \n",
    "    for t in range(len(tsstr)-1):\n",
    "        # get the values we want\n",
    "        a = np.nansum((JADVSfull[t] * mymsk3))\n",
    "        b = np.nansum((JDFSfull[t] * mymsk3))\n",
    "        c = np.nansum((JKPPSfull[t] * mymsk3))\n",
    "        d = np.nansum((JsurfSfull[t] * mymsk))\n",
    "        e = np.nansum((JtendSfull[t] * mymsk3))\n",
    "\n",
    "        # write to file\n",
    "        inf.write(f\"{datetimes[t]}\\n\")\n",
    "        inf.write(f\"{a}, {b}, {c}, {d}, {e}\\n\")\n",
    "        inf.write(f\"{a+b+c-d}\\n\")\n",
    "        \n",
    "inf.close()"
   ]
  },
  {
   "cell_type": "code",
   "execution_count": 45,
   "id": "610e4dc5-447d-482d-a998-1c48ab17dc28",
   "metadata": {},
   "outputs": [],
   "source": [
    "# read from this array for later\n",
    "\n",
    "# Initialize lists to store the data\n",
    "dates = []\n",
    "abcde_values = []\n",
    "abc_minus_d_values = []\n",
    "\n",
    "# Open the file in read mode\n",
    "with open(\"saltterms.txt\", \"r\") as inf:\n",
    "    while True:\n",
    "        # Read the date/time line\n",
    "        date_line = inf.readline().strip()\n",
    "        if not date_line:  # End of file\n",
    "            break\n",
    "        dates.append(date_line[:7])\n",
    "        \n",
    "        # Read the a, b, c, d, e values line\n",
    "        values_line = inf.readline().strip()\n",
    "        a, b, c, d, e = map(float, values_line.split(\", \"))\n",
    "        abcde_values.append([a, b, c, d, e])\n",
    "        \n",
    "        # Read the a+b+c-d value line\n",
    "        result_line = inf.readline().strip()\n",
    "        abc_minus_d_values.append(float(result_line))\n",
    "\n",
    "# Convert the lists to NumPy arrays for easier manipulation\n",
    "dates = np.array(dates)  # This will be an array of strings\n",
    "abcde_values = np.array(abcde_values)  # This will be a (n, 5) array\n",
    "abc_minus_d_values = np.array(abc_minus_d_values)  # This will be a (n,) array"
   ]
  },
  {
   "cell_type": "code",
   "execution_count": 46,
   "id": "4d4df7a5-2b25-4883-abfc-5da077e9517c",
   "metadata": {},
   "outputs": [],
   "source": [
    "dates = np.array(dates,dtype='datetime64[M]')"
   ]
  },
  {
   "cell_type": "code",
   "execution_count": 47,
   "id": "fb10fc4b-fef4-4ca7-8372-815191e4e79a",
   "metadata": {},
   "outputs": [
    {
     "data": {
      "image/png": "[encoded data removed]",
      "text/plain": [
       "<Figure size 1000x900 with 6 Axes>"
      ]
     },
     "metadata": {},
     "output_type": "display_data"
    }
   ],
   "source": [
    "# now we can look at the time series of the salt terms\n",
    "\n",
    "# now we can look at a time series of each of the J terms for salt at this given cell in a given year\n",
    "\n",
    "fig = plt.figure(figsize=(10,9))\n",
    "plt.subplots_adjust(hspace=0.8)  # bigger hspace -- more vertical space\n",
    "\n",
    "plt.suptitle((\"Integrated Barents Sea Tendencies\"))\n",
    "\n",
    "ax = plt.subplot(611)\n",
    "ax.plot(dates,abcde_values[:,-1])\n",
    "# coefficients = np.polyfit(np.arange(len(dates)), abcde_values[:,-1], 1)\n",
    "# trendline = np.polyval(coefficients, np.arange(len(dates)))\n",
    "# ax.plot(dates, trendline, label=\"Trendline\", color='red', linestyle='--')\n",
    "ax.set_title(\"heat tend\")\n",
    "ax.grid()\n",
    "ax.set_ylabel(\"Sv/degC\")\n",
    "num_ticks = len(dates)\n",
    "tick_indices = np.arange(0, num_ticks, 12)  # Indices of every 12th tick\n",
    "ax.set_xticks(dates[tick_indices])  # Set the positions of the ticks\n",
    "ax.set_xticklabels(dates[tick_indices].astype(str), rotation=15, ha='right')  # Set the labels and format\n",
    "\n",
    "\n",
    "ax = plt.subplot(612)\n",
    "ax.plot(dates,abcde_values[:,0])\n",
    "ax.set_title(\"ADV salt tend\")\n",
    "ax.grid()\n",
    "ax.set_ylabel(\"Sv/degC\")\n",
    "ax.set_xticks(dates[tick_indices])  # Set the positions of the ticks\n",
    "ax.set_xticklabels(dates[tick_indices].astype(str), rotation=15, ha='right')  # Set the labels and format\n",
    "\n",
    "ax = plt.subplot(613)\n",
    "ax.plot(dates,abcde_values[:,1])\n",
    "ax.set_title(\"DF salt tend\")\n",
    "ax.grid()\n",
    "ax.set_ylabel(\"Sv/degC\")\n",
    "ax.set_xticks(dates[tick_indices])  # Set the positions of the ticks\n",
    "ax.set_xticklabels(dates[tick_indices].astype(str), rotation=15, ha='right')  # Set the labels and format\n",
    "\n",
    "ax = plt.subplot(614)\n",
    "ax.plot(dates,abcde_values[:,2])\n",
    "ax.set_title(\"KPP salt tend\")\n",
    "ax.grid()\n",
    "ax.set_ylabel(\"Sv/degC\")\n",
    "ax.set_xticks(dates[tick_indices])  # Set the positions of the ticks\n",
    "ax.set_xticklabels(dates[tick_indices].astype(str), rotation=15, ha='right')  # Set the labels and format\n",
    "\n",
    "ax = plt.subplot(615)\n",
    "ax.plot(dates,abcde_values[:,3])\n",
    "ax.set_title(\"surf salt tend\")\n",
    "ax.grid()\n",
    "ax.set_ylabel(\"Sv/degC\")\n",
    "ax.set_xticks(dates[tick_indices])  # Set the positions of the ticks\n",
    "ax.set_xticklabels(dates[tick_indices].astype(str), rotation=15, ha='right')  # Set the labels and format\n",
    "\n",
    "ax = plt.subplot(616)\n",
    "ax.plot(dates,abc_minus_d_values)\n",
    "ax.set_title(\"tend from terms\")\n",
    "ax.grid()\n",
    "ax.set_ylabel(\"Sv/degC\")\n",
    "ax.set_xticks(dates[tick_indices])  # Set the positions of the ticks\n",
    "ax.set_xticklabels(dates[tick_indices].astype(str), rotation=15, ha='right')  # Set the labels and format\n",
    "\n",
    "plt.savefig(path + \"BarentsSea_saltJterms_ts.png\",dpi=300)"
   ]
  },
  {
   "cell_type": "code",
   "execution_count": 48,
   "id": "a4063027-1558-430f-8df5-bb44c53d4b05",
   "metadata": {},
   "outputs": [
    {
     "data": {
      "text/plain": [
       "array(['2003-01', '2003-02', '2003-03', '2003-04', '2003-05', '2003-06',\n",
       "       '2003-08', '2003-09', '2003-10', '2003-11', '2003-12', '2004-01',\n",
       "       '2004-02', '2004-03', '2004-04', '2004-05', '2004-06', '2004-08',\n",
       "       '2004-09', '2004-10', '2004-11', '2004-12', '2005-01', '2005-02',\n",
       "       '2005-03', '2005-04', '2005-05', '2005-06', '2005-08', '2005-09',\n",
       "       '2005-10', '2005-11', '2005-12', '2006-01', '2006-02', '2006-03',\n",
       "       '2006-04', '2006-05', '2006-06', '2006-08', '2006-09', '2006-10',\n",
       "       '2006-11', '2006-12'], dtype='datetime64[M]')"
      ]
     },
     "execution_count": 48,
     "metadata": {},
     "output_type": "execute_result"
    }
   ],
   "source": [
    "dates"
   ]
  },
  {
   "cell_type": "code",
   "execution_count": null,
   "id": "390cf52f-ffcf-48aa-9b45-89d1187ab699",
   "metadata": {},
   "outputs": [],
   "source": []
  }
 ],
 "metadata": {
  "kernelspec": {
   "display_name": "py38",
   "language": "python",
   "name": "py38"
  },
  "language_info": {
   "codemirror_mode": {
    "name": "ipython",
    "version": 3
   },
   "file_extension": ".py",
   "mimetype": "text/x-python",
   "name": "python",
   "nbconvert_exporter": "python",
   "pygments_lexer": "ipython3",
   "version": "3.8.18"
  }
 },
 "nbformat": 4,
 "nbformat_minor": 5
}
