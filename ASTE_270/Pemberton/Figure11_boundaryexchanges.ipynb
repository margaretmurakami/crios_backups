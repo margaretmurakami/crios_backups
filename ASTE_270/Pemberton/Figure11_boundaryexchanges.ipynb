{
 "cells": [
  {
   "cell_type": "markdown",
   "id": "a21c3082-a45b-41c2-b83e-eca7710f0ec9",
   "metadata": {},
   "source": [
    "# Import packages and libraries"
   ]
  },
  {
   "cell_type": "code",
   "execution_count": 1,
   "id": "a3cb29c0-8518-4f29-b5ba-3a33f70fcbea",
   "metadata": {},
   "outputs": [],
   "source": [
    "import numpy as np\n",
    "import sys\n",
    "import matplotlib.pyplot as plt\n",
    "import xarray as xr\n",
    "import h5py\n",
    "from scipy.io import loadmat\n",
    "import matplotlib as mpl\n",
    "import time\n",
    "import gsw\n",
    "from matplotlib.colors import TwoSlopeNorm\n",
    "\n",
    "# import existing python files\n",
    "plt.rcParams['figure.figsize'] = (10,4)\n",
    "\n",
    "# add rdmds reading functions to path\n",
    "sys.path.append(\"/home/mmurakami/MITgcm/MITgcm_c68r/MITgcm-checkpoint68r/utils/python/MITgcmutils/MITgcmutils/\") # go to parent dir\n",
    "from mds import *\n",
    "\n",
    "# add the other files\n",
    "sys.path.append(\"/home/mmurakami/crios_backups/an_helper_functions\")\n",
    "from read_binary import *\n",
    "from calc_UV_conv_1face import calc_UV_conv_1face\n",
    "from calc_mskmean_T_mod import calc_mskmean_T_mod\n",
    "from mk3D_mod import mk3D_mod\n",
    "from aste_helper_funcs import *\n",
    "from timing_functions import *           # ts2dte, get_fnames, etc.\n",
    "from binning import *                    # bin_array, create_mesh"
   ]
  },
  {
   "cell_type": "code",
   "execution_count": 2,
   "id": "45912d30-ba6d-4133-8b7f-b9a56c88f672",
   "metadata": {},
   "outputs": [
    {
     "name": "stdout",
     "output_type": "stream",
     "text": [
      "(50,) (50, 1350, 270)\n",
      "hf1 (1350, 270)\n",
      "(1, 1350, 270)\n",
      "LwetC2d 146614\n",
      "LwetC 4833023\n",
      "\n"
     ]
    }
   ],
   "source": [
    "%run /home/mmurakami/crios_backups/ASTE_270/prep_grid.py"
   ]
  },
  {
   "cell_type": "markdown",
   "id": "5805588d-8919-4cfe-8e9b-64cee6683207",
   "metadata": {},
   "source": [
    "# Set the grid"
   ]
  },
  {
   "cell_type": "code",
   "execution_count": 2,
   "id": "f95c2cfd-28a4-4633-9bbb-88ec50139df0",
   "metadata": {},
   "outputs": [],
   "source": [
    "# iB = 6\n",
    "\n",
    "path = \"/home/mmurakami/crios_backups/ASTE_270/offline_binning/sample_images/\""
   ]
  },
  {
   "cell_type": "code",
   "execution_count": 62,
   "id": "623188a1-1db0-43c7-a2ec-e5b4e934e6f6",
   "metadata": {},
   "outputs": [
    {
     "name": "stdout",
     "output_type": "stream",
     "text": [
      "364500\n"
     ]
    }
   ],
   "source": [
    "# read one basin or whole ASTE\n",
    "whole = True\n",
    "if not whole:\n",
    "    iB = 6    # example read from BarentsSea\n",
    "    \n",
    "# mymsk below defines as all Arctic down to Fram Strait and BSO but not GINs Seas\n",
    "mymsk = mskBasin.copy()\n",
    "\n",
    "# Create a boolean mask for elements that are 6 or less\n",
    "# mask = mymsk <7\n",
    "if whole:\n",
    "    mask = mymsk <=8\n",
    "    #mask = (mymsk < 5) | (mymsk==6) \n",
    "else:\n",
    "    mask = mymsk == 6\n",
    "\n",
    "# Set elements that are greater than 6 to np.nan\n",
    "mymsk[mask] = 1\n",
    "mymsk[~mask] = np.nan\n",
    "\n",
    "test = get_aste_tracer(mymsk,nfx,nfy)[0]\n",
    "test[:,:270] = np.nan\n",
    "mymsk = test\n",
    "\n",
    "mymsk = aste_tracer2compact(mymsk,nfx,nfy)[0]\n",
    "\n",
    "# Get the number of points where mskBasin is 6 or less\n",
    "npoints = np.count_nonzero(mymsk)  # Count the number of True values in the mask\n",
    "print(npoints)"
   ]
  },
  {
   "cell_type": "code",
   "execution_count": 64,
   "id": "f89d2f4c-b93f-4406-b366-83cd6210cec2",
   "metadata": {},
   "outputs": [],
   "source": [
    "# test1 = test.copy()"
   ]
  },
  {
   "cell_type": "code",
   "execution_count": 66,
   "id": "56a0e561-c95a-4ff3-8569-d8fd35e1469a",
   "metadata": {},
   "outputs": [],
   "source": [
    "# # we're selecting everything here to make it easier to select teh \n",
    "# plt.pcolormesh(get_aste_tracer(mymsk,nfx,nfy)[0],alpha=0.2)\n",
    "# plt.pcolormesh(get_aste_tracer(test1,nfx,nfy)[0])\n",
    "# plt.xlim(270,540)\n",
    "# plt.ylim(300,850)"
   ]
  },
  {
   "cell_type": "markdown",
   "id": "09693876-2fa5-4046-b7b9-b3dfef9c7d27",
   "metadata": {},
   "source": [
    "# Load the files\n",
    "\n",
    "We want the volume transport in and out of the Arctic and to bin this in T-S space, also salt tend and heat tend so we can do arrows"
   ]
  },
  {
   "cell_type": "code",
   "execution_count": 67,
   "id": "25857538-abff-495e-a94d-f9024c1cd404",
   "metadata": {},
   "outputs": [],
   "source": [
    "# create an array of the time steps we want to read\n",
    "# use ts2dte to get december 2014\n",
    "# first make an array of filenames\n",
    "dt = 600 # for the MODEL, not for tendency calculations\n",
    "startyr = 2002\n",
    "endyr = 2019\n",
    "\n",
    "# all the filenames in the system\n",
    "fnames = get_fnames(dt,startyr,endyr)\n",
    "\n",
    "times = {}\n",
    "times[\"2014\"] = np.array([3,4,9,10])   # load four so we can do tendency of two month periods\n",
    "# times[\"2015\"] = np.array([1])\n",
    "\n",
    "# the filenames we want for 2014\n",
    "tsstr,datetimes = get_tsteps(times,fnames,dt,startyr,1,1)\n",
    "\n",
    "# ocean and ice\n",
    "AB_gT=0\n",
    "AB_gS=0\n",
    "debug = False\n",
    "ffac = 1\n",
    "\n",
    "dt = np.array([])\n",
    "for i in range(1,len(datetimes)):\n",
    "    dt = np.append(dt,(datetimes[i]-datetimes[i-1]).total_seconds())"
   ]
  },
  {
   "cell_type": "code",
   "execution_count": 68,
   "id": "198d00a9-18b5-4f4f-ac5b-c8a99e585d45",
   "metadata": {},
   "outputs": [],
   "source": [
    "file_name = 'budg3d_snap_set2'\n",
    "THETADR = read_field3d(tsstr,nz,ny,nx,file_name,np.array([\"THETADR\"]),mymsk,dirIn)\n",
    "SALTDR = read_field3d(tsstr,nz,ny,nx,file_name,np.array([\"SALTDR\"]),mymsk,dirIn)\n",
    "\n",
    "# divide first two and second two by dt\n",
    "theta = np.full((int(len(tsstr)),nz,ny,nx),np.nan)\n",
    "dthetadt = np.full((int(len(tsstr)-1),nz,ny,nx),np.nan)\n",
    "salt = np.full((int(len(tsstr)),nz,ny,nx),np.nan)\n",
    "dsaltdt = np.full((int(len(tsstr)-1),nz,ny,nx),np.nan)\n",
    "\n",
    "for i in range(len(tsstr)):\n",
    "    theta[i,:,:,:] = THETADR[i,:,:,:]/DRF3d/mygrid['hFacC']\n",
    "    salt[i,:,:,:]  = SALTDR[i,:,:,:]/DRF3d/mygrid['hFacC']\n",
    "\n",
    "for i in range(len(tsstr)-1):\n",
    "    dthetadt[i,:,:,:] = (THETADR[i,:,:,:]/DRF3d/mygrid['hFacC'] - THETADR[i-1,:,:,:]/DRF3d/mygrid['hFacC'])/dt[i-1]\n",
    "    dsaltdt[i,:,:,:] = (SALTDR[i,:,:,:]/DRF3d/mygrid['hFacC'] - SALTDR[i-1,:,:,:]/DRF3d/mygrid['hFacC'])/dt[i-1]"
   ]
  },
  {
   "cell_type": "code",
   "execution_count": 69,
   "id": "b9353c4c-a836-4d4a-8968-93f9b28ddee6",
   "metadata": {},
   "outputs": [],
   "source": [
    "# get velocity fields - we actually need this for the total transport pcolormesh\n",
    "# read timesteps at index 1 and 3\n",
    "UVELMASS = np.full((int(len(tsstr)),nz,ny,nx),np.nan)\n",
    "VVELMASS = np.full((int(len(tsstr)),nz,ny,nx),np.nan)\n",
    "\n",
    "# read the averages from tsstr[1] and tsstr[3] - averages from March and September\n",
    "# start from 1 because these are averages\n",
    "for i in range(0,len(tsstr)-1):\n",
    "\n",
    "    meta_budg3d_hflux_set2= parsemeta(dirIn + \"budg3d_hflux_set2\" + '.' + tsstr[i+1] + '.meta')\n",
    "    fldlist = np.array(meta_budg3d_hflux_set2['fldList'])\n",
    "    varnames = np.array(['UVELMASS','VVELMASS','ADVx_TH','ADVy_TH','DFxE_TH','DFyE_TH','ADVx_SLT','ADVy_SLT','DFxE_SLT','DFyE_SLT'])\n",
    "    recs = np.array([])\n",
    "    for var in varnames:\n",
    "        irec = np.where(fldlist == var)\n",
    "        recs = np.append(recs, irec[0][0])\n",
    "    UVELMASSi,its,meta = rdmds(dirIn + \"budg3d_hflux_set2\", int(tsstr[i+1]),returnmeta=True,rec = recs[0])     # m/s\n",
    "    VVELMASSi,its,meta = rdmds(dirIn + \"budg3d_hflux_set2\", int(tsstr[i+1]),returnmeta=True,rec = recs[1])     # m/s=\n",
    "    \n",
    "    # reshaping and fixing up\n",
    "    UVELMASS[i,:,:,:] = UVELMASSi.reshape(nz,ny,nx)\n",
    "    VVELMASS[i,:,:,:] = VVELMASSi.reshape(nz,ny,nx)\n",
    "\n",
    "# get the vectors of u and v without mass weighting\n",
    "Uo = np.full((int(len(tsstr)),nz,ny-nfy[0],nfx[0]*2),np.nan)\n",
    "Vo = np.full((int(len(tsstr)),nz,ny-nfy[0],nfx[0]*2),np.nan)\n",
    "\n",
    "for i in range((int(len(tsstr)))):\n",
    "    # get values from reading before\n",
    "    tmpU = UVELMASS[i]\n",
    "    tmpV = VVELMASS[i]\n",
    "\n",
    "    # define u and v velocities\n",
    "    tmpUo,tmpVo = get_aste_vector_face1_3(tmpU,tmpV,nfx,nfy,False)\n",
    "    tmpUo,tmpVo = tmpUo[:,:-1,:-1],tmpVo[:,:-1,:-1]     # centering\n",
    "\n",
    "    # add to larger arrays\n",
    "    Uo[i] = tmpUo\n",
    "    Vo[i] = tmpVo"
   ]
  },
  {
   "cell_type": "code",
   "execution_count": 70,
   "id": "d5d32130-2909-4b90-b6a1-ca1d2856cbb9",
   "metadata": {},
   "outputs": [
    {
     "name": "stdout",
     "output_type": "stream",
     "text": [
      "(2, 50, 1350, 270)\n"
     ]
    }
   ],
   "source": [
    "# do salt tendency\n",
    "# Initialize the new array with the desired shape (2, z, y, x)\n",
    "dSALTDRdt = np.zeros((2, SALTDR.shape[1], SALTDR.shape[2], SALTDR.shape[3]))\n",
    "# Calculate the differences and assign to the new array\n",
    "dSALTDRdt[0] = (SALTDR[1] - SALTDR[0]) / (datetimes[1]-datetimes[0]).total_seconds()\n",
    "dSALTDRdt[1] = (SALTDR[3] - SALTDR[2])  / (datetimes[3]-datetimes[2]).total_seconds()\n",
    "print(dSALTDRdt.shape)    # PSU.m  / s\n",
    "\n",
    "# now calculate the tendency for the two months times[0], times[2]\n",
    "AB_gS = 0\n",
    "G_S = np.zeros((2, SALTDR.shape[1], SALTDR.shape[2], SALTDR.shape[3]))\n",
    "for i in range(dSALTDRdt.shape[0]):\n",
    "    G_S[i] = (dSALTDRdt[i] - AB_gS) * mk3D_mod(RAC,dSALTDRdt[i])   # PSU.m/s * m^2 = PSU.m^3/s"
   ]
  },
  {
   "cell_type": "code",
   "execution_count": 71,
   "id": "73cc2de5-57d5-40d7-a454-680f75cea101",
   "metadata": {},
   "outputs": [
    {
     "name": "stdout",
     "output_type": "stream",
     "text": [
      "(2, 50, 1350, 270)\n"
     ]
    }
   ],
   "source": [
    "# do heat tendency\n",
    "# Initialize the new array with the desired shape (2, z, y, x)\n",
    "dTHETADRdt = np.zeros((2, THETADR.shape[1], THETADR.shape[2], THETADR.shape[3]))\n",
    "# Calculate the differences and assign to the new array\n",
    "dTHETADRdt[0] = (THETADR[1] - THETADR[0]) / (datetimes[1]-datetimes[0]).total_seconds()\n",
    "dTHETADRdt[1] = (THETADR[3] - THETADR[2]) / (datetimes[3]-datetimes[2]).total_seconds()\n",
    "print(dTHETADRdt.shape)    # degC.m / s\n",
    "\n",
    "# now calculate the tendency for the two months times[0], times[2]\n",
    "G_T = np.zeros((2, THETADR.shape[1], THETADR.shape[2], THETADR.shape[3]))\n",
    "for i in range(dTHETADRdt.shape[0]):\n",
    "    G_T[i] = (dTHETADRdt[i]-AB_gT)*mk3D_mod(RAC,dTHETADRdt[i])     # degC.m/s * m^2 = degC.m^3/s"
   ]
  },
  {
   "cell_type": "markdown",
   "id": "f10451df-3294-48d4-b5e2-e799b03deba2",
   "metadata": {},
   "source": [
    "# Get the gateways and do the TS binning"
   ]
  },
  {
   "cell_type": "code",
   "execution_count": 72,
   "id": "aa18036a-c1a0-4073-b7a1-ad47fc0ec1e5",
   "metadata": {},
   "outputs": [],
   "source": [
    "# try new T bins where different sizes\n",
    "refined_section = np.linspace(-3,8,93)\n",
    "coarse_section = np.linspace(8,15,21,endpoint=False)\n",
    "binsTH_edges = np.concatenate((refined_section,coarse_section[1:]))\n",
    "binsTH_centers = (binsTH_edges[:-1] + binsTH_edges[1:])/2\n",
    "nT = binsTH_edges.shape[0]-1\n",
    "\n",
    "# do bi-sectional form for S\n",
    "coarse_section = np.linspace(0, 28, 30, endpoint=False)\n",
    "refined_section = np.linspace(28, 40, 83)\n",
    "binsSLT_edges = np.concatenate((coarse_section, refined_section))\n",
    "binsSLT_centers = (binsSLT_edges[:-1] + binsSLT_edges[1:])/2\n",
    "nS = binsSLT_edges.shape[0]-1\n",
    "\n",
    "Tbin,Sbin = np.meshgrid(binsTH_edges,binsSLT_edges)\n",
    "Tbincent,Sbincent = np.meshgrid(binsTH_centers,binsSLT_centers)\n",
    "\n",
    "binwidthT = binsTH_edges[1:] - binsTH_edges[:-1]\n",
    "binwidthS = binsSLT_edges[1:] - binsSLT_edges[:-1]\n",
    "dT,dS = np.meshgrid(binwidthT,binwidthS)\n",
    "dT = dT.reshape(112,112,1)\n",
    "dS = dS.reshape(112,112,1)\n",
    "\n",
    "# create the binned values for theta and salt\n",
    "# we want to bin theta and salt into the T and S bins\n",
    "binned_theta = bin_array(theta,binsTH_edges)\n",
    "binned_theta = binned_theta.astype(float)\n",
    "binned_theta[binned_theta == nT] = np.nan     # because the binning is setting nan to last value\n",
    "binned_salinity = bin_array(salt,binsSLT_edges)\n",
    "binned_salinity = binned_salinity.astype(float)\n",
    "binned_salinity[binned_salinity == nS] = np.nan"
   ]
  },
  {
   "cell_type": "code",
   "execution_count": 73,
   "id": "9e2adc9a-b7dc-4291-95bd-d5bec205f4ac",
   "metadata": {},
   "outputs": [],
   "source": [
    "binwidthsS_tile = np.tile(binwidthS, (112, 1)).T\n",
    "binwidthsT_tile = np.tile(binwidthT, (112, 1))"
   ]
  },
  {
   "cell_type": "code",
   "execution_count": 74,
   "id": "5c2b8ee8-7d4e-422c-a693-235a928dadd1",
   "metadata": {},
   "outputs": [],
   "source": [
    "# gates to the Arctic we're interested in:\n",
    "    # FramStrait\n",
    "    # CAA\n",
    "    # BarentsSeaOpening\n",
    "    # BeringStrait\n",
    "    # DavisStrait\n",
    "\n",
    "x1 = gg['FramStrait'][\"ix\"]-1   # 1\n",
    "y1 = gg['FramStrait'][\"jy\"]-1\n",
    "\n",
    "x2 = gg['BarentsSeaOpening'][\"ix\"]-1   # 0 \n",
    "y2 = gg['BarentsSeaOpening'][\"jy\"]-1\n",
    "x2[x2 == 162] = 161\n",
    "\n",
    "x3 = gg['CAA']['ix'] -1\n",
    "y3 = gg['CAA']['jy'] -1\n",
    "\n",
    "# set Bering Strait manually\n",
    "x4 = np.array([130,  40, 220, 130,  40, 220, 130,  40, 220, 130,  40, 220, 130,40, 220, 130])\n",
    "y4 = np.array([813, 814, 814, 815, 816, 816, 817, 818, 818, 819, 820, 820, 821,822, 822, 823])\n",
    "\n",
    "# set Davis Strait manually\n",
    "x5 = np.array([ 60,  61,  62,  63,  64,  65,  66,  67,  68,  69,  70,  71,  72,\n",
    "         73,  74,  75,  76,  77,  78,  79,  80,  81,  82,  83,  84,  85,\n",
    "         86,  87,  88,  89,  90,  91,  92,  93,  94,  95,  96,  97,  98,\n",
    "         99, 100, 101, 102, 103, 104, 105, 106, 107, 108, 109, 110, 111,\n",
    "        112, 113, 114, 115, 116, 117, 118, 119])\n",
    "y5 = np.array([715, 715, 715, 715, 715, 715, 715, 715, 715, 715, 715, 715, 715,\n",
    "        715, 715, 715, 715, 715, 715, 715, 715, 715, 715, 715, 715, 715,\n",
    "        715, 715, 715, 715, 715, 715, 715, 715, 715, 715, 715, 715, 715,\n",
    "        715, 715, 715, 715, 715, 715, 715, 715, 715, 715, 715, 715, 715,\n",
    "        715, 715, 715, 715, 715, 715, 715, 715])\n",
    "\n",
    "test = np.full(mskBasin.shape,np.nan)\n",
    "test[y1,x1] = 1\n",
    "test[y2,x2] = 2\n",
    "test[y3,x3] = 3\n",
    "test[y4,x4] = 4\n",
    "test[y5,x5] = 5"
   ]
  },
  {
   "cell_type": "code",
   "execution_count": 75,
   "id": "ff982675-9640-49a7-946a-6d3dda1e472d",
   "metadata": {},
   "outputs": [],
   "source": [
    "def line_orientation(x, y):\n",
    "    orientations = np.array([])\n",
    "\n",
    "    # Iterate through the list of points\n",
    "    for i in range(1, len(x)):\n",
    "        if x[i] == x[i - 1] and y[i] != y[i - 1]:\n",
    "            orientations = np.append(orientations,\"V\") # vertical line add zonal transp\n",
    "        elif y[i] == y[i - 1] and x[i] != x[i - 1]:\n",
    "            orientations = np.append(orientations,\"H\") # horizontal line add meridional transp\n",
    "        else:\n",
    "            orientations = np.append(orientations,\"V\")  # fill na should be for top of vertical line (ie U)\n",
    "\n",
    "    # the last one will be the same as the second to last orientation so we can keep consistent sizing\n",
    "    orientations = np.append(orientations,orientations[-1])\n",
    "\n",
    "    return orientations"
   ]
  },
  {
   "cell_type": "code",
   "execution_count": 76,
   "id": "3c646ee8-e6f9-4d91-84d8-1e87aafa4da7",
   "metadata": {},
   "outputs": [],
   "source": [
    "xs = np.array([x1,x2,x3,x4,x5],dtype=\"object\")\n",
    "ys = np.array([y1,y2,y3,y4,y5],dtype=\"object\")"
   ]
  },
  {
   "cell_type": "markdown",
   "id": "60060db0-ad75-4365-8760-e871da775d4f",
   "metadata": {},
   "source": [
    "# Calculate the J_x and J_y terms"
   ]
  },
  {
   "cell_type": "code",
   "execution_count": 81,
   "id": "189b474d-b3ee-42da-ac42-a1a1a018a1d3",
   "metadata": {},
   "outputs": [],
   "source": [
    "# set months here just to be sure\n",
    "m = 0   # for the snaps in datetimes\n",
    "s = 2   # for the snaps in datetimes\n",
    "m_avg = 0  # for the averages in tendency\n",
    "s_avg = 1  # for the averages in tendency\n",
    "\n",
    "# the following is how we did it before but we only want to do this for the gates, not the whole basin\n",
    "# steps\n",
    "    # get a mask from test for the gate we want (tmpmask)\n",
    "    # multiply G_S[month] * tmpmask\n",
    "    # create J terms from this\n",
    "\n",
    "# calc for first month\n",
    "J_x_vec_m1 = calc_G_term(G_S[m_avg],binned_theta[m],binned_salinity[m],nT,nS,binwidthS,binwidthT)/binwidthsS_tile/binwidthsT_tile    # Sv/degC\n",
    "J_y_vec_m1 = calc_G_term(G_T[m_avg],binned_theta[m],binned_salinity[m],nT,nS,binwidthS,binwidthT)/binwidthsS_tile/binwidthsT_tile    # Sv/PSU\n",
    "\n",
    "# calc for second month\n",
    "J_x_vec_m2 = calc_G_term(G_S[s_avg],binned_theta[s],binned_salinity[s],nT,nS,binwidthS,binwidthT)/binwidthsS_tile/binwidthsT_tile    # Sv/degC\n",
    "J_y_vec_m2 = calc_G_term(G_T[s_avg],binned_theta[s],binned_salinity[s],nT,nS,binwidthS,binwidthT)/binwidthsS_tile/binwidthsT_tile    # Sv/PSU"
   ]
  },
  {
   "cell_type": "markdown",
   "id": "d514e1cc-65a3-47a7-bbb2-e0218d9ed51d",
   "metadata": {},
   "source": [
    "# do a sample gateway as a TS mesh"
   ]
  },
  {
   "cell_type": "code",
   "execution_count": 79,
   "id": "76bc5612-92f1-437d-ba0d-469ebf5c0ba4",
   "metadata": {},
   "outputs": [],
   "source": [
    "def truncate_colormap(cmap, minval=0.0, maxval=1.0, n=100):\n",
    "    new_cmap = colors.LinearSegmentedColormap.from_list(\n",
    "        'trunc({n},{a:.2f},{b:.2f})'.format(n=cmap.name, a=minval, b=maxval),\n",
    "        cmap(np.linspace(minval, maxval, n)))\n",
    "    return new_cmap\n",
    "\n",
    "cmap = plt.get_cmap('RdBu_r',31).copy()\n",
    "# cmap = plt.get_cmap('rainbow',31).copy()\n",
    "cmap.set_under(color='white')\n",
    "cmap_bath = plt.get_cmap('Blues',31).copy()"
   ]
  },
  {
   "cell_type": "code",
   "execution_count": 80,
   "id": "21c9fe19-968c-497c-b388-8d6358bad2f2",
   "metadata": {},
   "outputs": [],
   "source": [
    "# get get velocity for the two months\n",
    "# Uomean = np.nanmean(Uo, axis = 0)\n",
    "# Vomean = np.nanmean(Vo, axis = 0)\n",
    "\n",
    "# Uomeancompact = aste_tracer2compact(Uomean,nfx,nfy)\n",
    "# Vomeancompact = aste_tracer2compact(Vomean,nfx,nfy)"
   ]
  },
  {
   "cell_type": "code",
   "execution_count": 21,
   "id": "d2948562-244d-4b21-9a86-406d8f08714d",
   "metadata": {},
   "outputs": [],
   "source": [
    "\n",
    "y_curr,x_curr = y1,x1\n",
    "gateid = 1\n",
    "\n",
    "# get the u and v components\n",
    "uvelgate = Uomeancompact[:,y_curr,x_curr]\n",
    "vvelgate = Vomeancompact[:,y_curr,x_curr]\n",
    "\n",
    "# get the perpendicular vel\n",
    "mygate = np.where(get_aste_tracer(test,nfx,nfy)[0] ==gateid)\n",
    "choose_UV = line_orientation(mygate[1],mygate[0])\n",
    "choose_UV = np.tile(choose_UV,(nz,1))\n",
    "\n",
    "# calculate transport velocity\n",
    "perpendicular_vel = np.full(uvelgate.shape,np.nan) #    zeros_like(uvelgate)\n",
    "for i in range(len(choose_UV)):\n",
    "    if choose_UV[i][0] == \"V\":\n",
    "        perpendicular_vel[i] = uvelgate[i]       # remember to think about proper sign\n",
    "    elif choose_UV[i][0] == \"H\":\n",
    "        perpendicular_vel[i] = vvelgate[i]\n",
    "\n",
    "# calculate cell area\n",
    "gatemask = mygrid['hFacC'][:,y_curr,x_curr]\n",
    "dxggate = mygrid['DXG'][y_curr,x_curr]\n",
    "dyggate = mygrid['DYG'][y_curr,x_curr]\n",
    "cell_lengths = np.full(choose_UV[0].shape[0],np.nan)\n",
    "for i in range(len(choose_UV[0])):\n",
    "    if choose_UV[0][i] == \"V\":\n",
    "        cell_lengths[i] = dyggate[i] #DYG\n",
    "    elif choose_UV[0][i] == \"H\":\n",
    "        cell_lengths[i] = dxggate[i] #DXG\n",
    "cell_lengths = np.tile(cell_lengths,(nz,1))\n",
    "cell_area = cell_lengths * mygrid['DRF'].reshape(nz,1)\n",
    "\n",
    "# calculate binned S and T\n",
    "binned_theta_gate = binned_theta_tmean[:,y_curr,x_curr]\n",
    "binned_salinity_gate = binned_salinity_tmean[:,y_curr,x_curr]\n",
    "\n",
    "data = perpendicular_vel*cell_area*1e-6\n",
    "\n",
    "# data is now the volume transport at the gate, we can bin this with the TS at the gate and plot\n",
    "gate_thetabins = binned_theta_tmean[:,y_curr,x_curr]\n",
    "gate_saltbins = binned_salinity_tmean[:,y_curr,x_curr]\n",
    "\n",
    "# get the distribution of volume in TS space\n",
    "distr = np.full((nT,nS),0.0)\n",
    "for i in range(data.shape[0]):\n",
    "    for j in range(data.shape[1]):\n",
    "        if not np.isnan(gate_thetabins[i,j]):\n",
    "            distr[int(gate_saltbins[i,j]),int(gate_thetabins[i,j])] += data[i,j]\n",
    "            #print(distr[int(gate_thetabins[i,j]),int(gate_saltbins[i,j])])\n"
   ]
  },
  {
   "cell_type": "code",
   "execution_count": 22,
   "id": "66e44298-3cc3-435d-adde-4ca58bde0f21",
   "metadata": {},
   "outputs": [],
   "source": [
    "ADVy_TH_gate = ADVy_TH_mean[:,y1,x1]      # degC m^3/s\n",
    "ADVy_SLT_gate = ADVy_SLT_mean[:,y1,x1]    # PSU m^3/s\n",
    "\n",
    "# bin these as per the values in the binnedsalt and theta\n",
    "distrADVy_TH = np.full((nT,nS),0.0)\n",
    "for i in range(data.shape[0]):\n",
    "    for j in range(data.shape[1]):\n",
    "        if not np.isnan(gate_thetabins[i,j]):\n",
    "            distrADVy_TH[int(gate_saltbins[i,j]),int(gate_thetabins[i,j])] += ADVy_TH_gate[i,j]\n",
    "\n",
    "distrADVy_SLT = np.full((nT,nS),0.0)\n",
    "for i in range(data.shape[0]):\n",
    "    for j in range(data.shape[1]):\n",
    "        if not np.isnan(gate_thetabins[i,j]):\n",
    "            distrADVy_SLT[int(gate_saltbins[i,j]),int(gate_thetabins[i,j])] += ADVy_SLT_gate[i,j]"
   ]
  },
  {
   "cell_type": "code",
   "execution_count": 23,
   "id": "c76bf222-ae69-45ab-bf3b-756a7fe87a21",
   "metadata": {},
   "outputs": [],
   "source": [
    "distrADVy_TH /= np.tile(binwidthT, (112, 1))\n",
    "distrADVy_SLT /= np.tile(binwidthS, (112, 1))\n",
    "\n",
    "# replace 0 values with nan\n",
    "distrADVy_TH[distrADVy_TH == 0 ] = np.nan\n",
    "distrADVy_SLT[distrADVy_SLT == 0 ] = np.nan"
   ]
  },
  {
   "cell_type": "code",
   "execution_count": 24,
   "id": "6e9f36e5-cfa9-4afc-aa96-33a2a3e9ab1f",
   "metadata": {},
   "outputs": [
    {
     "data": {
      "image/png": "[encoded data removed]",
      "text/plain": [
       "<Figure size 1000x400 with 2 Axes>"
      ]
     },
     "metadata": {},
     "output_type": "display_data"
    }
   ],
   "source": [
    "plt.pcolormesh(Sbin,Tbin,distr,cmap=cmap,vmin=-.5,vmax=.5)\n",
    "plt.ylim(-2,5)\n",
    "plt.xlim(31,35.5)\n",
    "plt.colorbar(label=\"Sv + into Arctic\")\n",
    "plt.quiver(Sbincent,Tbincent,distrADVy_SLT,distrADVy_TH,scale=1000000000)\n",
    "\n",
    "plt.savefig(path + \"FramTransp.png\",dpi=300)"
   ]
  },
  {
   "cell_type": "markdown",
   "id": "9af9444b-82f1-4058-9d07-f7e1d0b000e8",
   "metadata": {},
   "source": [
    "# try to loop and plot distr for all gates"
   ]
  },
  {
   "cell_type": "code",
   "execution_count": 87,
   "id": "0db1b892-4f28-4264-88c6-104f09135934",
   "metadata": {},
   "outputs": [
    {
     "data": {
      "text/plain": [
       "(4, 50, 1350, 270)"
      ]
     },
     "execution_count": 87,
     "metadata": {},
     "output_type": "execute_result"
    }
   ],
   "source": [
    "binned_theta.shape"
   ]
  },
  {
   "cell_type": "code",
   "execution_count": 86,
   "id": "018e2e9b-2d0a-456b-8b7b-b6f7dd25d8a9",
   "metadata": {},
   "outputs": [
    {
     "name": "stdout",
     "output_type": "stream",
     "text": [
      "1\n"
     ]
    },
    {
     "ename": "NameError",
     "evalue": "name 'binned_theta_tmean' is not defined",
     "output_type": "error",
     "traceback": [
      "\u001b[0;31m---------------------------------------------------------------------------\u001b[0m",
      "\u001b[0;31mNameError\u001b[0m                                 Traceback (most recent call last)",
      "Cell \u001b[0;32mIn[86], line 50\u001b[0m\n\u001b[1;32m     47\u001b[0m cell_area \u001b[38;5;241m=\u001b[39m cell_lengths \u001b[38;5;241m*\u001b[39m mygrid[\u001b[38;5;124m'\u001b[39m\u001b[38;5;124mDRF\u001b[39m\u001b[38;5;124m'\u001b[39m]\u001b[38;5;241m.\u001b[39mreshape(nz,\u001b[38;5;241m1\u001b[39m)\n\u001b[1;32m     49\u001b[0m \u001b[38;5;66;03m# calculate binned S and T\u001b[39;00m\n\u001b[0;32m---> 50\u001b[0m binned_theta_gate \u001b[38;5;241m=\u001b[39m \u001b[43mbinned_theta_tmean\u001b[49m[:,y_curr,x_curr]\n\u001b[1;32m     51\u001b[0m binned_salinity_gate \u001b[38;5;241m=\u001b[39m binned_salinity_tmean[:,y_curr,x_curr]\n\u001b[1;32m     53\u001b[0m data \u001b[38;5;241m=\u001b[39m perpendicular_vel\u001b[38;5;241m*\u001b[39mcell_area\u001b[38;5;241m*\u001b[39m\u001b[38;5;241m1e-6\u001b[39m\n",
      "\u001b[0;31mNameError\u001b[0m: name 'binned_theta_tmean' is not defined"
     ]
    },
    {
     "data": {
      "image/png": "[encoded data removed]",
      "text/plain": [
       "<Figure size 1000x1000 with 1 Axes>"
      ]
     },
     "metadata": {},
     "output_type": "display_data"
    }
   ],
   "source": [
    "y_curr,x_curr = y1,x1\n",
    "gateids = np.array([1,2,3,4])\n",
    "names = np.array([\"FramStrait\",\"BarentsSeaOpening\",\"CAA\",\"BeringStrait\"])\n",
    "\n",
    "Uomeancompact = aste_tracer2compact(Uo[m],nfx,nfy)\n",
    "Vomeancompact = aste_tracer2compact(Vo[m],nfx,nfy)   # should rename these after we make sure this runs\n",
    "# binned_theta_tmean = \n",
    "\n",
    "# loop through each of the gates\n",
    "fig = plt.figure(figsize=(10,10))\n",
    "totaldistr = np.full((nT,nS),0.0)\n",
    "\n",
    "for x_curr, y_curr,gateid,name in zip(xs,ys,gateids,names):\n",
    "    print(gateid)\n",
    "    ax = plt.subplot(2,2,gateid)\n",
    "\n",
    "    # get the u and v components\n",
    "    uvelgate = Uomeancompact[:,y_curr,x_curr]\n",
    "    vvelgate = Vomeancompact[:,y_curr,x_curr]\n",
    "    \n",
    "    # get the perpendicular vel\n",
    "    mygate = np.where(get_aste_tracer(test,nfx,nfy)[0] ==gateid)\n",
    "    choose_UV = line_orientation(mygate[1],mygate[0])\n",
    "    choose_UV = np.tile(choose_UV,(nz,1))\n",
    "    \n",
    "    # calculate transport velocity\n",
    "    perpendicular_vel = np.full(uvelgate.shape,np.nan) #    zeros_like(uvelgate)\n",
    "    for i in range(len(choose_UV)):\n",
    "        if choose_UV[i][0] == \"V\":\n",
    "            perpendicular_vel[i] = uvelgate[i]       # remember to think about proper sign\n",
    "        elif choose_UV[i][0] == \"H\":\n",
    "            if name == \"BeringStrait\":\n",
    "                perpendicular_vel[i] = -vvelgate[i]\n",
    "            else:\n",
    "                perpendicular_vel[i] = vvelgate[i]\n",
    "    \n",
    "    # calculate cell area\n",
    "    gatemask = mygrid['hFacC'][:,y_curr,x_curr]\n",
    "    dxggate = mygrid['DXG'][y_curr,x_curr]\n",
    "    dyggate = mygrid['DYG'][y_curr,x_curr]\n",
    "    cell_lengths = np.full(choose_UV[0].shape[0],np.nan)\n",
    "    for i in range(len(choose_UV[0])):\n",
    "        if choose_UV[0][i] == \"V\":\n",
    "            cell_lengths[i] = dyggate[i] #DYG\n",
    "        elif choose_UV[0][i] == \"H\":\n",
    "            cell_lengths[i] = dxggate[i] #DXG\n",
    "    cell_lengths = np.tile(cell_lengths,(nz,1))\n",
    "    cell_area = cell_lengths * mygrid['DRF'].reshape(nz,1)\n",
    "    \n",
    "    # calculate binned S and T\n",
    "    binned_theta_gate = binned_theta_tmean[:,y_curr,x_curr]\n",
    "    binned_salinity_gate = binned_salinity_tmean[:,y_curr,x_curr]\n",
    "    \n",
    "    data = perpendicular_vel*cell_area*1e-6\n",
    "    \n",
    "    # data is now the volume transport at the gate, we can bin this with the TS at the gate and plot\n",
    "    gate_thetabins = binned_theta_tmean[:,y_curr,x_curr]\n",
    "    gate_saltbins = binned_salinity_tmean[:,y_curr,x_curr]\n",
    "    \n",
    "    # get the distribution of volume in TS space\n",
    "    distr = np.full((nT,nS),0.0)\n",
    "    for i in range(data.shape[0]):\n",
    "        for j in range(data.shape[1]):\n",
    "            if not np.isnan(gate_thetabins[i,j]):\n",
    "                distr[int(gate_saltbins[i,j]),int(gate_thetabins[i,j])] += data[i,j]\n",
    "\n",
    "    totaldistr += distr\n",
    "\n",
    "    cb = ax.pcolormesh(Sbin,Tbin,distr,cmap=cmap,vmin=-.1,vmax=.1)\n",
    "    ax.set_ylim(-2,8.5)\n",
    "    ax.set_xlim(31,35.5)\n",
    "    ax.set_title(name+\" Volume Avg 2014\")\n",
    "    plt.colorbar(cb,label=\"Sv, + into Arctic\")\n",
    "    ax.grid()\n",
    "\n",
    "# plt.savefig(path + \"fourgates_TSdist.png\",dpi=300)"
   ]
  },
  {
   "cell_type": "code",
   "execution_count": 58,
   "id": "48e933a9-1a5a-44e1-ad12-4af70cfc859b",
   "metadata": {},
   "outputs": [
    {
     "data": {
      "image/png": "[encoded data removed]",
      "text/plain": [
       "<Figure size 800x600 with 2 Axes>"
      ]
     },
     "metadata": {},
     "output_type": "display_data"
    }
   ],
   "source": [
    "fig = plt.figure(figsize = (8,6))\n",
    "ax = plt.subplot(111)\n",
    "\n",
    "cb = ax.pcolormesh(Sbin,Tbin,totaldistr,cmap=cmap,vmin=-.1,vmax=.1)\n",
    "ax.set_ylim(-2,8.5)\n",
    "ax.set_xlim(31,35.5)\n",
    "ax.set_title(\"All Gates Volume Avg 2014\")\n",
    "plt.colorbar(cb,label=\"Sv, + into Arctic\")\n",
    "ax.grid()\n",
    "\n",
    "plt.savefig(path + \"pemberton_fig11_total.png\",dpi=300)"
   ]
  },
  {
   "cell_type": "markdown",
   "id": "9397e2e1-20d0-4ee7-b6ee-2f9ab38b689b",
   "metadata": {},
   "source": [
    "### Old version of this code tried to add transformation arrows at the gates, see github for more detail"
   ]
  },
  {
   "cell_type": "code",
   "execution_count": 78,
   "id": "81104ebe-17fb-438a-9b12-5269be886a8d",
   "metadata": {},
   "outputs": [],
   "source": [
    "y_curr,x_curr = y3,x3\n",
    "gateid = 3\n",
    "\n",
    "# calculate binned S and T\n",
    "binned_theta_gate = binned_theta_tmean[:,y_curr,x_curr]\n",
    "binned_salinity_gate = binned_salinity_tmean[:,y_curr,x_curr]\n",
    "\n",
    "# data is now the volume transport at the gate, we can bin this with the TS at the gate and plot\n",
    "gate_thetabins = binned_theta_tmean[:,y_curr,x_curr]\n",
    "gate_saltbins = binned_salinity_tmean[:,y_curr,x_curr]"
   ]
  },
  {
   "cell_type": "code",
   "execution_count": 79,
   "id": "9427aed4-f3ce-4929-a0b2-bcdde4ea4a2b",
   "metadata": {},
   "outputs": [],
   "source": [
    "ADVy_TH_gate = ADVx_TH_mean[:,y_curr,x_curr]      # degC m^3/s\n",
    "ADVy_SLT_gate = ADVx_SLT_mean[:,y_curr,x_curr]    # PSU m^3/s\n",
    "\n",
    "# bin these as per the values in the binnedsalt and theta\n",
    "distrADVy_TH = np.full((nT,nS),0.0)\n",
    "for i in range(data.shape[0]):\n",
    "    for j in range(data.shape[1]):\n",
    "        if not np.isnan(gate_thetabins[i,j]):\n",
    "            distrADVy_TH[int(gate_saltbins[i,j]),int(gate_thetabins[i,j])] += ADVy_TH_gate[i,j]\n",
    "\n",
    "distrADVy_SLT = np.full((nT,nS),0.0)\n",
    "for i in range(data.shape[0]):\n",
    "    for j in range(data.shape[1]):\n",
    "        if not np.isnan(gate_thetabins[i,j]):\n",
    "            distrADVy_SLT[int(gate_saltbins[i,j]),int(gate_thetabins[i,j])] += ADVy_SLT_gate[i,j]"
   ]
  },
  {
   "cell_type": "code",
   "execution_count": 80,
   "id": "539815ed-9a06-41d9-b744-1f365eaa17d8",
   "metadata": {},
   "outputs": [],
   "source": [
    "distrADVy_TH /= np.tile(binwidthT, (112, 1))\n",
    "distrADVy_SLT /= np.tile(binwidthS, (112, 1))\n",
    "\n",
    "# replace 0 values with nan\n",
    "# distrADVy_TH[distrADVy_TH == 0 ] = np.nan\n",
    "# distrADVy_SLT[distrADVy_SLT == 0 ] = np.nan"
   ]
  },
  {
   "cell_type": "code",
   "execution_count": 81,
   "id": "479cce5f-77bb-4497-be67-f169621070d7",
   "metadata": {},
   "outputs": [],
   "source": [
    "tot_dist_th += distrADVy_TH\n",
    "tot_dist_slt += distrADVy_SLT"
   ]
  },
  {
   "cell_type": "code",
   "execution_count": 83,
   "id": "90038904-288a-40bd-be9e-491a57aa39b9",
   "metadata": {},
   "outputs": [],
   "source": [
    "tot_dist_th[tot_dist_th == 0 ] = np.nan\n",
    "tot_dist_slt[tot_dist_slt == 0 ] = np.nan"
   ]
  },
  {
   "cell_type": "code",
   "execution_count": 84,
   "id": "77bf5403-a602-438c-9419-72ed610f7c2c",
   "metadata": {},
   "outputs": [
    {
     "data": {
      "text/plain": [
       "<matplotlib.quiver.Quiver at 0x14bb631fb340>"
      ]
     },
     "execution_count": 84,
     "metadata": {},
     "output_type": "execute_result"
    },
    {
     "data": {
      "image/png": "[encoded data removed]",
      "text/plain": [
       "<Figure size 1000x400 with 1 Axes>"
      ]
     },
     "metadata": {},
     "output_type": "display_data"
    }
   ],
   "source": [
    "# plt.pcolormesh(Sbin,Tbin,distr,cmap=cmap,vmin=-.5,vmax=.5)\n",
    "# plt.ylim(-2,5)\n",
    "# plt.xlim(31,35.5)\n",
    "# plt.colorbar(label=\"Sv + into Arctic\")\n",
    "plt.quiver(Sbincent,Tbincent,tot_dist_slt,tot_dist_th,scale=1000000000)\n",
    "\n",
    "# plt.savefig(path + \"FramTransp.png\",dpi=300)"
   ]
  },
  {
   "cell_type": "code",
   "execution_count": 102,
   "id": "f74f2f64-fad0-4eca-a3d0-cfb2d9864ca5",
   "metadata": {},
   "outputs": [
    {
     "data": {
      "image/png": "[encoded data removed]",
      "text/plain": [
       "<Figure size 800x600 with 2 Axes>"
      ]
     },
     "metadata": {},
     "output_type": "display_data"
    }
   ],
   "source": [
    "# now plot this on top of the volume distribution totals\n",
    "fig = plt.figure(figsize = (8,6))\n",
    "ax = plt.subplot(111)\n",
    "\n",
    "cb = ax.pcolormesh(Sbin,Tbin,totaldistr,cmap=cmap,vmin=-.1,vmax=.1)\n",
    "ax.set_ylim(-2,8.5)\n",
    "ax.set_xlim(31,35.5)\n",
    "ax.set_title(\"All Gates Volume Avg with Advection, 2014\")\n",
    "plt.colorbar(cb,label=\"Sv, + into Arctic\")\n",
    "quiver_plot = plt.quiver(Sbincent,Tbincent,tot_dist_slt,tot_dist_th,scale=500000000)\n",
    "\n",
    "# Add a quiver key (reference arrow)\n",
    "scale_arrow_magnitude = 1e7  # Adjust this value based on your data's scale\n",
    "plt.quiverkey(quiver_plot, X=0.1, Y=0.9, U=scale_arrow_magnitude, label=f'{scale_arrow_magnitude} m^3/s', labelpos='E')\n",
    "\n",
    "ax.grid()\n",
    "\n",
    "plt.savefig(path + \"pemberton_fig12.png\",dpi=300)"
   ]
  },
  {
   "cell_type": "code",
   "execution_count": 131,
   "id": "c92d68d0-47f9-48c2-b94f-1e3fe8cb799f",
   "metadata": {},
   "outputs": [],
   "source": [
    "# let's do the same for diffusion\n",
    "y_curr,x_curr = y3,x3\n",
    "gateid = 3\n",
    "\n",
    "# calculate binned S and T\n",
    "binned_theta_gate = binned_theta_tmean[:,y_curr,x_curr]\n",
    "binned_salinity_gate = binned_salinity_tmean[:,y_curr,x_curr]\n",
    "\n",
    "# data is now the volume transport at the gate, we can bin this with the TS at the gate and plot\n",
    "gate_thetabins = binned_theta_tmean[:,y_curr,x_curr]\n",
    "gate_saltbins = binned_salinity_tmean[:,y_curr,x_curr]\n",
    "\n",
    "DFyE_TH_gate = DFxE_TH_mean[:,y_curr,x_curr]      # degC m^3/s\n",
    "DFyE_SLT_gate = DFxE_SLT_mean[:,y_curr,x_curr]    # PSU m^3/s\n",
    "\n",
    "# bin these as per the values in the binnedsalt and theta\n",
    "distrDFyE_TH = np.full((nT,nS),0.0)\n",
    "for i in range(data.shape[0]):\n",
    "    for j in range(data.shape[1]):\n",
    "        if not np.isnan(gate_thetabins[i,j]):\n",
    "            distrDFyE_TH[int(gate_saltbins[i,j]),int(gate_thetabins[i,j])] += -DFyE_TH_gate[i,j]\n",
    "\n",
    "distrDFyE_SLT = np.full((nT,nS),0.0)\n",
    "for i in range(data.shape[0]):\n",
    "    for j in range(data.shape[1]):\n",
    "        if not np.isnan(gate_thetabins[i,j]):\n",
    "            distrDFyE_SLT[int(gate_saltbins[i,j]),int(gate_thetabins[i,j])] += -DFyE_SLT_gate[i,j]\n",
    "\n",
    "distrDFyE_TH /= np.tile(binwidthT, (112, 1))\n",
    "distrDFyE_SLT /= np.tile(binwidthS, (112, 1))"
   ]
  },
  {
   "cell_type": "code",
   "execution_count": 132,
   "id": "1e12ec49-7aac-480d-ac00-d7a2e504eea9",
   "metadata": {},
   "outputs": [],
   "source": [
    "tot_dist_th_df += distrDFyE_TH\n",
    "tot_dist_slt_df += distrDFyE_SLT"
   ]
  }
 ],
 "metadata": {
  "kernelspec": {
   "display_name": "py38",
   "language": "python",
   "name": "py38"
  },
  "language_info": {
   "codemirror_mode": {
    "name": "ipython",
    "version": 3
   },
   "file_extension": ".py",
   "mimetype": "text/x-python",
   "name": "python",
   "nbconvert_exporter": "python",
   "pygments_lexer": "ipython3",
   "version": "3.8.18"
  }
 },
 "nbformat": 4,
 "nbformat_minor": 5
}
