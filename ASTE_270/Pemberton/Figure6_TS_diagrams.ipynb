{
 "cells": [
  {
   "cell_type": "markdown",
   "id": "0ddd16a5",
   "metadata": {},
   "source": [
    "# Purpose of this notebook\n",
    "\n",
    "This notebook will be to look at a basin by basin breakdown of the volume distribution and see differences between two example years. We will also try to color these in different color scales by the water mass name."
   ]
  },
  {
   "cell_type": "markdown",
   "id": "5922a784",
   "metadata": {},
   "source": [
    "# Import packages and functions"
   ]
  },
  {
   "cell_type": "code",
   "execution_count": 1,
   "id": "5232d10b",
   "metadata": {},
   "outputs": [],
   "source": [
    "import numpy as np\n",
    "import sys\n",
    "import matplotlib.pyplot as plt\n",
    "import xarray as xr\n",
    "import h5py\n",
    "from scipy.io import loadmat\n",
    "import matplotlib as mpl\n",
    "import time\n",
    "import gsw\n",
    "from matplotlib.colors import TwoSlopeNorm\n",
    "\n",
    "# import existing python files\n",
    "plt.rcParams['figure.figsize'] = (10,4)\n",
    "\n",
    "# add rdmds reading functions to path\n",
    "sys.path.append(\"/home/mmurakami/MITgcm/MITgcm_c68r/MITgcm-checkpoint68r/utils/python/MITgcmutils/MITgcmutils/\") # go to parent dir\n",
    "from mds import *\n",
    "\n",
    "# add the other files\n",
    "sys.path.append(\"/home/mmurakami/crios_backups/an_helper_functions\")\n",
    "from read_binary import *\n",
    "from calc_UV_conv_1face import calc_UV_conv_1face\n",
    "from calc_mskmean_T_mod import calc_mskmean_T_mod\n",
    "from mk3D_mod import mk3D_mod\n",
    "from aste_helper_funcs import *\n",
    "from timing_functions import *           # ts2dte, get_fnames, etc.\n",
    "from binning import *                    # bin_array, create_mesh"
   ]
  },
  {
   "cell_type": "code",
   "execution_count": 3,
   "id": "5da6ed5a",
   "metadata": {},
   "outputs": [
    {
     "name": "stdout",
     "output_type": "stream",
     "text": [
      "(50,) (50, 1350, 270)\n",
      "hf1 (1350, 270)\n",
      "(1, 1350, 270)\n",
      "LwetC2d 146614\n",
      "LwetC 4833023\n",
      "\n"
     ]
    }
   ],
   "source": [
    "%run /home/mmurakami/crios_backups/an_helper_functions/prep_grid.py"
   ]
  },
  {
   "cell_type": "markdown",
   "id": "59fd7449",
   "metadata": {},
   "source": [
    "# set the grid, months, mask of interest"
   ]
  },
  {
   "cell_type": "code",
   "execution_count": 4,
   "id": "e633c35e",
   "metadata": {},
   "outputs": [],
   "source": [
    "# iB = 6\n",
    "m = 0\n",
    "s = 1\n",
    "path = \"/home/mmurakami/crios_backups/ASTE_270/offline_binning/sample_images/\""
   ]
  },
  {
   "cell_type": "code",
   "execution_count": 5,
   "id": "1c08f0a5",
   "metadata": {},
   "outputs": [
    {
     "name": "stdout",
     "output_type": "stream",
     "text": [
      "364500\n"
     ]
    }
   ],
   "source": [
    "# mymsk below defines as all Arctic down to Fram Strait and BSO but not GINs Seas\n",
    "mymsk = mskBasin.copy()\n",
    "\n",
    "# Create a boolean mask for elements that are 6 or less\n",
    "# mask = mymsk <7\n",
    "mask = (mymsk < 5) | (mymsk==6) \n",
    "\n",
    "# Set elements that are greater than 6 to np.nan\n",
    "mymsk[mask] = 1\n",
    "mymsk[~mask] = np.nan\n",
    "\n",
    "test = get_aste_tracer(mymsk,nfx,nfy)[0]\n",
    "test[:,:270] = np.nan\n",
    "mymsk = test\n",
    "\n",
    "mymsk = aste_tracer2compact(mymsk,nfx,nfy)[0]\n",
    "\n",
    "# Get the number of points where mskBasin is 6 or less\n",
    "npoints = np.count_nonzero(mymsk)  # Count the number of True values in the mask\n",
    "print(npoints)"
   ]
  },
  {
   "cell_type": "markdown",
   "id": "28c48db1",
   "metadata": {},
   "source": [
    "# Read the files\n",
    "\n",
    "We need:\n",
    "- theta and salt\n",
    "- volume from the grid and ETAN"
   ]
  },
  {
   "cell_type": "code",
   "execution_count": 5,
   "id": "a60175e3",
   "metadata": {},
   "outputs": [],
   "source": [
    "# create an array of the time steps we want to read\n",
    "# use ts2dte to get december 2014\n",
    "# first make an array of filenames\n",
    "dt = 600 # for the MODEL, not for tendency calculations\n",
    "startyr = 2002\n",
    "endyr = 2019\n",
    "\n",
    "# all the filenames in the system\n",
    "fnames = get_fnames(dt,startyr,endyr)\n",
    "\n",
    "times = {}\n",
    "# times[\"2006\"] = np.array([1,2,3,4,5,6,7,8,9,10,11,12])\n",
    "times[\"2014\"] = np.array([3,9])\n",
    "# times[\"2014\"] = np.array([3,9])\n",
    "\n",
    "# the filenames we want for 2014\n",
    "tsstr,datetimes = get_tsteps(times,fnames,dt,startyr,1,1)\n",
    "\n",
    "# ocean and ice\n",
    "AB_gT=0\n",
    "AB_gS=0\n",
    "debug = False\n",
    "ffac = 1\n",
    "\n",
    "dt = np.array([])\n",
    "for i in range(1,len(datetimes)):\n",
    "    dt = np.append(dt,(datetimes[i]-datetimes[i-1]).total_seconds())"
   ]
  },
  {
   "cell_type": "code",
   "execution_count": 6,
   "id": "9f7714f8",
   "metadata": {},
   "outputs": [],
   "source": [
    "file_name = 'budg3d_snap_set2'\n",
    "THETADR = read_field3d(tsstr,nz,ny,nx,file_name,np.array([\"THETADR\"]),mymsk,dirIn)\n",
    "SALTDR = read_field3d(tsstr,nz,ny,nx,file_name,np.array([\"SALTDR\"]),mymsk,dirIn)\n",
    "\n",
    "# divide first two and second two by dt\n",
    "theta = np.full((int(len(tsstr)),nz,ny,nx),np.nan)\n",
    "dthetadt = np.full((int(len(tsstr)-1),nz,ny,nx),np.nan)\n",
    "salt = np.full((int(len(tsstr)),nz,ny,nx),np.nan)\n",
    "dsaltdt = np.full((int(len(tsstr)-1),nz,ny,nx),np.nan)\n",
    "\n",
    "for i in range(len(tsstr)):\n",
    "    theta[i,:,:,:] = THETADR[i,:,:,:]/DRF3d/mygrid['hFacC']\n",
    "    salt[i,:,:,:]  = SALTDR[i,:,:,:]/DRF3d/mygrid['hFacC']\n",
    "\n",
    "for i in range(len(tsstr)-1):\n",
    "    dthetadt[i,:,:,:] = (THETADR[i,:,:,:]/DRF3d/mygrid['hFacC'] - THETADR[i-1,:,:,:]/DRF3d/mygrid['hFacC'])/dt[i-1]\n",
    "    dsaltdt[i,:,:,:] = (SALTDR[i,:,:,:]/DRF3d/mygrid['hFacC'] - SALTDR[i-1,:,:,:]/DRF3d/mygrid['hFacC'])/dt[i-1]"
   ]
  },
  {
   "cell_type": "code",
   "execution_count": 7,
   "id": "0e1882a3-7b42-4460-95c3-3ef943aa8a4b",
   "metadata": {},
   "outputs": [],
   "source": [
    "# first have to get the vector values from U and V\n",
    "file_name = \"budg3d_hflux_set2\"\n",
    "UVELMASS = read_field3d(tsstr,nz,ny,nx,file_name,np.array(['UVELMASS']),mymsk,dirIn)\n",
    "VVELMASS = read_field3d(tsstr,nz,ny,nx,file_name,np.array(['VVELMASS']),mymsk,dirIn)\n",
    "ADVx_TH = read_field3d(tsstr,nz,ny,nx,file_name,np.array(['ADVx_TH']),mymsk,dirIn)     # degC m^3/s\n",
    "ADVy_TH = read_field3d(tsstr,nz,ny,nx,file_name,np.array(['ADVy_TH']),mymsk,dirIn)\n",
    "DFxE_TH = read_field3d(tsstr,nz,ny,nx,file_name,np.array(['DFxE_TH']),mymsk,dirIn)\n",
    "DFyE_TH = read_field3d(tsstr,nz,ny,nx,file_name,np.array(['DFyE_TH']),mymsk,dirIn)\n",
    "ADVx_SLT = read_field3d(tsstr,nz,ny,nx,file_name,np.array(['ADVx_SLT']),mymsk,dirIn)   # PSU m^3/s\n",
    "ADVy_SLT = read_field3d(tsstr,nz,ny,nx,file_name,np.array(['ADVy_SLT']),mymsk,dirIn)\n",
    "DFxE_SLT = read_field3d(tsstr,nz,ny,nx,file_name,np.array(['DFxE_SLT']),mymsk,dirIn)\n",
    "DFyE_SLT = read_field3d(tsstr,nz,ny,nx,file_name,np.array(['DFyE_SLT']),mymsk,dirIn)\n",
    "\n",
    "# get the vectors of u and v without mass weighting\n",
    "Uo = np.full((int(len(tsstr)),nz,ny-nfy[0],nfx[0]*2),np.nan)\n",
    "Vo = np.full((int(len(tsstr)),nz,ny-nfy[0],nfx[0]*2),np.nan)\n",
    "ADVx_THo = np.full((int(len(tsstr)),nz,ny-nfy[0],nfx[0]*2),np.nan)\n",
    "ADVy_THo = np.full((int(len(tsstr)),nz,ny-nfy[0],nfx[0]*2),np.nan)\n",
    "DFxE_THo = np.full((int(len(tsstr)),nz,ny-nfy[0],nfx[0]*2),np.nan)\n",
    "DFyE_THo = np.full((int(len(tsstr)),nz,ny-nfy[0],nfx[0]*2),np.nan)\n",
    "ADVx_SLTo = np.full((int(len(tsstr)),nz,ny-nfy[0],nfx[0]*2),np.nan)\n",
    "ADVy_SLTo = np.full((int(len(tsstr)),nz,ny-nfy[0],nfx[0]*2),np.nan)\n",
    "DFxE_SLTo = np.full((int(len(tsstr)),nz,ny-nfy[0],nfx[0]*2),np.nan)\n",
    "DFyE_SLTo = np.full((int(len(tsstr)),nz,ny-nfy[0],nfx[0]*2),np.nan)\n",
    "\n",
    "for i in range((int(len(tsstr)))):\n",
    "    # get values from reading before\n",
    "    tmpU = UVELMASS[i]\n",
    "    tmpV = VVELMASS[i]\n",
    "    tmpUadvth = ADVx_TH[i]\n",
    "    tmpVadvth = ADVy_TH[i]\n",
    "    tmpUdfth = DFxE_TH[i]\n",
    "    tmpVdfth = DFyE_TH[i]\n",
    "    tmpUadvslt = ADVx_SLT[i]\n",
    "    tmpVadvslt = ADVy_SLT[i]\n",
    "    tmpUdfslt = DFxE_SLT[i]\n",
    "    tmpVdfslt = DFyE_SLT[i]\n",
    "\n",
    "    # define u and v velocities\n",
    "    tmpUo,tmpVo = get_aste_vector_face1_3(tmpU,tmpV,nfx,nfy,False)\n",
    "    tmpUo,tmpVo = tmpUo[:,:-1,:-1],tmpVo[:,:-1,:-1]     # centering\n",
    "    # define in theta\n",
    "    tmpUadvth,tmpVadvth = get_aste_vector_face1_3(tmpUadvth,tmpVadvth,nfx,nfy,False)\n",
    "    tmpUadvth,tmpVadvth = tmpUadvth[:,:-1,:-1],tmpVadvth[:,:-1,:-1]     # centering\n",
    "    tmpUdfth,tmpVdfth = get_aste_vector_face1_3(tmpUdfth,tmpVdfth,nfx,nfy,False)\n",
    "    tmpUdfth,tmpVdfth = tmpUdfth[:,:-1,:-1],tmpVdfth[:,:-1,:-1]     # centering\n",
    "    # define in salt\n",
    "    tmpUadvslt,tmpVadvslt = get_aste_vector_face1_3(tmpUadvslt,tmpVadvslt,nfx,nfy,False)\n",
    "    tmpUadvslt,tmpVadvslt = tmpUadvslt[:,:-1,:-1],tmpVadvslt[:,:-1,:-1]     # centering\n",
    "    tmpUdfslt,tmpVdfslt = get_aste_vector_face1_3(tmpUdfslt,tmpVdfslt,nfx,nfy,False)\n",
    "    tmpUdfslt,tmpVdfslt = tmpUdfslt[:,:-1,:-1],tmpVdfslt[:,:-1,:-1]     # centering\n",
    "\n",
    "    # add to larger arrays\n",
    "    Uo[i] = tmpUo\n",
    "    Vo[i] = tmpVo\n",
    "    ADVx_THo[i] = tmpUadvth\n",
    "    ADVy_THo[i] = tmpVadvth\n",
    "    DFxE_THo[i] = tmpUdfth\n",
    "    DFyE_THo[i] = tmpVdfth\n",
    "    ADVx_SLTo[i] = tmpUadvslt\n",
    "    ADVy_SLTo[i] = tmpVadvslt\n",
    "    DFxE_SLTo[i] = tmpUdfslt\n",
    "    DFyE_SLTo[i] = tmpVdfslt"
   ]
  },
  {
   "cell_type": "code",
   "execution_count": 8,
   "id": "a00ea3da",
   "metadata": {},
   "outputs": [
    {
     "name": "stdout",
     "output_type": "stream",
     "text": [
      "volume allocation shape (2, 50, 1350, 270)\n",
      "(2, 50, 1350, 270)\n"
     ]
    }
   ],
   "source": [
    "# for mass tendency (m^3/s) - time is not yet included in this block\n",
    "file_name = 'budg2d_snap_set1'\n",
    "\n",
    "# assuming all files are structured the same\n",
    "meta_budg2d_snap_set1 = parsemeta(dirIn + file_name + \".\" + tsstr[0]+ \".meta\")\n",
    "# try to read this with rec\n",
    "fldlist = np.array(meta_budg2d_snap_set1['fldList'])\n",
    "varnames = np.array(['ETAN'])\n",
    "recs = np.array([])\n",
    "for var in varnames:\n",
    "    irec = np.where(fldlist == var)\n",
    "    recs = np.append(recs, irec[0][0])\n",
    "\n",
    "# set for all months\n",
    "vol = np.zeros((len(tsstr),nz, ny, nx))\n",
    "print(\"volume allocation shape\",vol.shape)\n",
    "\n",
    "for t in range(len(tsstr)):\n",
    "    t1 = tsstr[t]\n",
    "    read = [int(t1)]\n",
    "\n",
    "    # make sure order we write the variables is the same as the order in varnames, else we read the wrong thing\n",
    "    ETAN,its,meta = rdmds(os.path.join(dirIn, file_name),read,returnmeta=True,rec=recs[0])\n",
    "\n",
    "    # choose by basin\n",
    "    ETAN = np.reshape(ETAN,(ny,nx))\n",
    "\n",
    "    # ocean\n",
    "    if debug:\n",
    "        print(read,its[0],its[1]) # these iteration numbers should be the same as read\n",
    "\n",
    "    # 3D, with rStar:\n",
    "    tmpvol = np.zeros((nz, ny, nx))\n",
    "    if myparms['useNLFS'] < 2 or myparms['rStar'] == 0:        # not this time\n",
    "        tmpvol[0,:, :] = ETAN * myparms['rhoconst'] * RAC\n",
    "        if myparms['useRFWF'] == 0:\n",
    "            tmpvol[0, :, :] = np.zeros((ny, nx))\n",
    "    else:    # 4/22 look at this one\n",
    "        if myparms['useRFWF'] != 0:                                 # we are using this  # check if tmp1 is the same as drf3d!!\n",
    "            tmp1 = mk3D_mod(mygrid['DRF'],hfC) * hfC     # m\n",
    "            tmp2 = tmp1/mk3D_mod(DD,tmp1)                # drf as a fraction of total depth, this allows us to distribute etan between z\n",
    "        else:\n",
    "            tmp2 = drf3d / mk3D_mod(DD, tmp1)\n",
    "\n",
    "        # this is still wrong, we want to subtract the ETAN anomaly from the existing volumes\n",
    "        tmpvol =  (tmp1 + tmp2*mk3D_mod(ETAN, tmp2)) * mk3D_mod(RAC, hfC) * ffac     # volume, m * m^2  = m^3\n",
    "\n",
    "    vol[t,:,:,:] = tmpvol * np.tile(mymsk, (nz, 1, 1))\n",
    "\n",
    "print(vol.shape)"
   ]
  },
  {
   "cell_type": "markdown",
   "id": "fcdb7c37",
   "metadata": {},
   "source": [
    "# create the TS bins"
   ]
  },
  {
   "cell_type": "code",
   "execution_count": 10,
   "id": "590b1797",
   "metadata": {},
   "outputs": [],
   "source": [
    "# try new T bins where different sizes\n",
    "refined_section = np.linspace(-3,8,93)\n",
    "coarse_section = np.linspace(8,15,21,endpoint=False)\n",
    "binsTH_edges = np.concatenate((refined_section,coarse_section[1:]))\n",
    "binsTH_centers = (binsTH_edges[:-1] + binsTH_edges[1:])/2\n",
    "nT = binsTH_edges.shape[0]-1\n",
    "\n",
    "# do bi-sectional form for S\n",
    "coarse_section = np.linspace(0, 28, 30, endpoint=False)\n",
    "refined_section = np.linspace(28, 40, 83)\n",
    "binsSLT_edges = np.concatenate((coarse_section, refined_section))\n",
    "binsSLT_centers = (binsSLT_edges[:-1] + binsSLT_edges[1:])/2\n",
    "nS = binsSLT_edges.shape[0]-1\n",
    "\n",
    "Tbin,Sbin = np.meshgrid(binsTH_edges,binsSLT_edges)\n",
    "Tbincent,Sbincent = np.meshgrid(binsTH_centers,binsSLT_centers)\n",
    "\n",
    "binwidthT = binsTH_edges[1:] - binsTH_edges[:-1]\n",
    "binwidthS = binsSLT_edges[1:] - binsSLT_edges[:-1]\n",
    "dT,dS = np.meshgrid(binwidthT,binwidthS)\n",
    "dT = dT.reshape(112,112,1)\n",
    "dS = dS.reshape(112,112,1)"
   ]
  },
  {
   "cell_type": "code",
   "execution_count": 11,
   "id": "18d7ba40",
   "metadata": {},
   "outputs": [],
   "source": [
    "# we want to bin theta and salt into the T and S bins\n",
    "binned_theta = bin_array(theta,binsTH_edges)\n",
    "binned_theta = binned_theta.astype(float)\n",
    "binned_theta[binned_theta == nT] = np.nan     # because the binning is setting nan to last value\n",
    "binned_salinity = bin_array(salt,binsSLT_edges)\n",
    "binned_salinity = binned_salinity.astype(float)\n",
    "binned_salinity[binned_salinity == nS] = np.nan"
   ]
  },
  {
   "cell_type": "code",
   "execution_count": 12,
   "id": "031977cd",
   "metadata": {},
   "outputs": [],
   "source": [
    "# Flatten the arrays to use np.add.at\n",
    "flat_binned_salinity = binned_salinity[:,0,:,:].flatten()\n",
    "flat_binned_salinity[np.isnan(flat_binned_salinity)] = 0\n",
    "flat_binned_salinity = flat_binned_salinity.astype(int)"
   ]
  },
  {
   "cell_type": "markdown",
   "id": "25f57e01",
   "metadata": {},
   "source": [
    "# loop through, look at basin by basin TS distribution"
   ]
  },
  {
   "cell_type": "code",
   "execution_count": 13,
   "id": "750e13bb",
   "metadata": {},
   "outputs": [
    {
     "name": "stdout",
     "output_type": "stream",
     "text": [
      "['CanadaB' 'ChukchiS' 'MakarovB' 'AmundsenB' 'NansenB' 'BeringS'\n",
      " 'BarentsS']\n"
     ]
    },
    {
     "data": {
      "text/plain": [
       "(400.0, 860.0)"
      ]
     },
     "execution_count": 13,
     "metadata": {},
     "output_type": "execute_result"
    },
    {
     "data": {
      "image/png": "[encoded data removed]",
      "text/plain": [
       "<Figure size 1000x400 with 2 Axes>"
      ]
     },
     "metadata": {},
     "output_type": "display_data"
    }
   ],
   "source": [
    "print(strb[0:7])\n",
    "plt.pcolormesh(get_aste_tracer(mskBasin,nfx,nfy)[0] * get_aste_tracer(mymsk,nfx,nfy)[0])\n",
    "maskArc = mskBasin * mymsk\n",
    "plt.colorbar()\n",
    "plt.xlim(290,540)\n",
    "plt.ylim(400,860)"
   ]
  },
  {
   "cell_type": "code",
   "execution_count": 14,
   "id": "bddefcad",
   "metadata": {},
   "outputs": [],
   "source": [
    "def truncate_colormap(cmap, minval=0.0, maxval=1.0, n=100):\n",
    "    new_cmap = colors.LinearSegmentedColormap.from_list(\n",
    "        'trunc({n},{a:.2f},{b:.2f})'.format(n=cmap.name, a=minval, b=maxval),\n",
    "        cmap(np.linspace(minval, maxval, n)))\n",
    "    return new_cmap\n",
    "\n",
    "cmap = plt.get_cmap('RdBu_r',31).copy()\n",
    "# cmap = plt.get_cmap('rainbow',31).copy()\n",
    "cmap.set_under(color='white')\n",
    "cmap_bath = plt.get_cmap('Blues',31).copy()"
   ]
  },
  {
   "cell_type": "code",
   "execution_count": 15,
   "id": "85c3dc76",
   "metadata": {},
   "outputs": [],
   "source": [
    "def create_TS_mesh(tsstr,nS,nT,npoints, binned_salinity, binned_theta, attr,idxs):\n",
    "    '''\n",
    "    returns an nS by nT shaped array with the summed values within the attr (like volume)\n",
    "    '''\n",
    "    \n",
    "    mesh = np.zeros((len(tsstr),nS, nT, npoints))\n",
    "    tn = 0\n",
    "    for t in range(len(tsstr)):\n",
    "        if len(attr.shape) == 4:\n",
    "            # time x nz x ny x nx\n",
    "            thisvol = attr[t][:,idxs[0],idxs[1]]\n",
    "            thissalt = binned_salinity[t][:,idxs[0],idxs[1]]\n",
    "            thistemp = binned_theta[t][:,idxs[0],idxs[1]]\n",
    "        elif len(attr.shape) == 3:\n",
    "            # time x ny x nx\n",
    "            thisvol = attr[t][maskArc == iB]\n",
    "            thissalt = binned_salinity[t][idxs[0],idxs[1]]\n",
    "            thistemp = binned_theta[t][idxs[0],idxs[1]]\n",
    "            \n",
    "        # trim the nan values\n",
    "        thisvol = np.where(np.isnan(thisvol), 0, thisvol)\n",
    "        thissalt = np.where(np.isnan(thissalt), -1, thissalt)  # Replace NaN with -1\n",
    "        thistemp = np.where(np.isnan(thistemp), -1, thistemp)\n",
    "        \n",
    "        # create the mesh\n",
    "        meshx = np.zeros((nS,nT,npoints))\n",
    "        \n",
    "        # create local timed mesh\n",
    "        np.add.at(meshx, (thissalt.astype(int), thistemp.astype(int), np.arange(0,npoints,1)), thisvol[...])  # this should work to add at bins\n",
    "        meshx /= dT   # m^3/deg C\n",
    "        meshx /= dS   # m^3/deg C/PSU\n",
    "        \n",
    "        # add to big mesh\n",
    "        mesh[tn,:,:,:] = meshx\n",
    "        del meshx\n",
    "\n",
    "        tn += 1\n",
    "    return mesh"
   ]
  },
  {
   "cell_type": "code",
   "execution_count": null,
   "id": "abff5f3e",
   "metadata": {},
   "outputs": [],
   "source": [
    "# loop to make all the TS distributions\n",
    "\n",
    "for iB in range(7):\n",
    "    print(iB)\n",
    "    idxs = np.where(maskArc == iB)\n",
    "    npoints = len(idxs[0])\n",
    "    mesh = create_TS_mesh(tsstr,nS,nT,npoints,binned_salinity, binned_theta,vol,idxs)\n",
    "    \n",
    "    # try to plot an example\n",
    "    fig = plt.figure(figsize=(10,5))\n",
    "\n",
    "    # March\n",
    "    ax = plt.subplot(121)\n",
    "    cb = ax.pcolormesh(Sbin,Tbin,np.nansum(mesh[m],axis=2),cmap=cmap,vmin = .001)\n",
    "    plt.colorbar(cb,label=\"m^3\")\n",
    "    ax.set_title(\"Volume Distribution \" + datetimes[m].strftime(\"%Y-%m\"))\n",
    "    ax.set_xlim(25,36)\n",
    "    ax.set_ylim(-2,9)\n",
    "    ax.grid()\n",
    "\n",
    "    # September\n",
    "    ax = plt.subplot(122)\n",
    "    cb = ax.pcolormesh(Sbin,Tbin,np.nansum(mesh[s],axis=2),cmap=cmap,vmin = .001)\n",
    "    plt.colorbar(cb,label=\"m^3\")\n",
    "    ax.set_title(\"Volume Distribution \" + datetimes[s].strftime(\"%Y-%m\"))\n",
    "    ax.set_xlim(25,36)\n",
    "    ax.set_ylim(-2,9)\n",
    "    ax.grid()\n",
    "\n",
    "    plt.suptitle(strb[iB])\n",
    "\n",
    "    plt.savefig(path + strb[iB] + \"_TS_distr.png\",dpi=300)"
   ]
  },
  {
   "cell_type": "markdown",
   "id": "9f2ec6bc",
   "metadata": {},
   "source": [
    "# Now see if we can make a big TS distribution and show water mass"
   ]
  },
  {
   "cell_type": "code",
   "execution_count": 16,
   "id": "2b78b4c9-7035-4ce5-bca5-cdfa07a593cb",
   "metadata": {},
   "outputs": [],
   "source": [
    "idxs = np.where(mymsk == 1)\n",
    "idxs[0].shape\n",
    "\n",
    "npoints = len(idxs[0])\n",
    "mesh = create_TS_mesh(tsstr,nS,nT,npoints,binned_salinity, binned_theta,vol,idxs)"
   ]
  },
  {
   "cell_type": "code",
   "execution_count": 17,
   "id": "d4795a73-fa30-4d6a-a214-771f88576e1d",
   "metadata": {},
   "outputs": [
    {
     "name": "stderr",
     "output_type": "stream",
     "text": [
      "/tmp/ipykernel_298691/317819875.py:6: RuntimeWarning: divide by zero encountered in log10\n",
      "  data = np.log10(np.nansum(mesh[m],axis=2))\n"
     ]
    },
    {
     "ename": "KeyboardInterrupt",
     "evalue": "",
     "output_type": "error",
     "traceback": [
      "\u001b[0;31m---------------------------------------------------------------------------\u001b[0m",
      "\u001b[0;31mKeyboardInterrupt\u001b[0m                         Traceback (most recent call last)",
      "Cell \u001b[0;32mIn[17], line 16\u001b[0m\n\u001b[1;32m     14\u001b[0m \u001b[38;5;66;03m# September\u001b[39;00m\n\u001b[1;32m     15\u001b[0m ax \u001b[38;5;241m=\u001b[39m plt\u001b[38;5;241m.\u001b[39msubplot(\u001b[38;5;241m122\u001b[39m)\n\u001b[0;32m---> 16\u001b[0m data \u001b[38;5;241m=\u001b[39m np\u001b[38;5;241m.\u001b[39mlog10(\u001b[43mnp\u001b[49m\u001b[38;5;241;43m.\u001b[39;49m\u001b[43mnansum\u001b[49m\u001b[43m(\u001b[49m\u001b[43mmesh\u001b[49m\u001b[43m[\u001b[49m\u001b[43ms\u001b[49m\u001b[43m]\u001b[49m\u001b[43m,\u001b[49m\u001b[43maxis\u001b[49m\u001b[38;5;241;43m=\u001b[39;49m\u001b[38;5;241;43m2\u001b[39;49m\u001b[43m)\u001b[49m)\n\u001b[1;32m     17\u001b[0m cb \u001b[38;5;241m=\u001b[39m ax\u001b[38;5;241m.\u001b[39mpcolormesh(Sbin,Tbin,data,cmap\u001b[38;5;241m=\u001b[39mcmap,vmin \u001b[38;5;241m=\u001b[39m \u001b[38;5;241m8\u001b[39m)\n\u001b[1;32m     18\u001b[0m plt\u001b[38;5;241m.\u001b[39mcolorbar(cb,label\u001b[38;5;241m=\u001b[39m\u001b[38;5;124m\"\u001b[39m\u001b[38;5;124mlog_10 m^3\u001b[39m\u001b[38;5;124m\"\u001b[39m)\n",
      "File \u001b[0;32m<__array_function__ internals>:180\u001b[0m, in \u001b[0;36mnansum\u001b[0;34m(*args, **kwargs)\u001b[0m\n",
      "File \u001b[0;32m~/miniconda3/envs/py38/lib/python3.8/site-packages/numpy/lib/nanfunctions.py:722\u001b[0m, in \u001b[0;36mnansum\u001b[0;34m(a, axis, dtype, out, keepdims, initial, where)\u001b[0m\n\u001b[1;32m    623\u001b[0m \u001b[38;5;129m@array_function_dispatch\u001b[39m(_nansum_dispatcher)\n\u001b[1;32m    624\u001b[0m \u001b[38;5;28;01mdef\u001b[39;00m \u001b[38;5;21mnansum\u001b[39m(a, axis\u001b[38;5;241m=\u001b[39m\u001b[38;5;28;01mNone\u001b[39;00m, dtype\u001b[38;5;241m=\u001b[39m\u001b[38;5;28;01mNone\u001b[39;00m, out\u001b[38;5;241m=\u001b[39m\u001b[38;5;28;01mNone\u001b[39;00m, keepdims\u001b[38;5;241m=\u001b[39mnp\u001b[38;5;241m.\u001b[39m_NoValue,\n\u001b[1;32m    625\u001b[0m            initial\u001b[38;5;241m=\u001b[39mnp\u001b[38;5;241m.\u001b[39m_NoValue, where\u001b[38;5;241m=\u001b[39mnp\u001b[38;5;241m.\u001b[39m_NoValue):\n\u001b[1;32m    626\u001b[0m \u001b[38;5;250m    \u001b[39m\u001b[38;5;124;03m\"\"\"\u001b[39;00m\n\u001b[1;32m    627\u001b[0m \u001b[38;5;124;03m    Return the sum of array elements over a given axis treating Not a\u001b[39;00m\n\u001b[1;32m    628\u001b[0m \u001b[38;5;124;03m    Numbers (NaNs) as zero.\u001b[39;00m\n\u001b[0;32m   (...)\u001b[0m\n\u001b[1;32m    720\u001b[0m \n\u001b[1;32m    721\u001b[0m \u001b[38;5;124;03m    \"\"\"\u001b[39;00m\n\u001b[0;32m--> 722\u001b[0m     a, mask \u001b[38;5;241m=\u001b[39m \u001b[43m_replace_nan\u001b[49m\u001b[43m(\u001b[49m\u001b[43ma\u001b[49m\u001b[43m,\u001b[49m\u001b[43m \u001b[49m\u001b[38;5;241;43m0\u001b[39;49m\u001b[43m)\u001b[49m\n\u001b[1;32m    723\u001b[0m     \u001b[38;5;28;01mreturn\u001b[39;00m np\u001b[38;5;241m.\u001b[39msum(a, axis\u001b[38;5;241m=\u001b[39maxis, dtype\u001b[38;5;241m=\u001b[39mdtype, out\u001b[38;5;241m=\u001b[39mout, keepdims\u001b[38;5;241m=\u001b[39mkeepdims,\n\u001b[1;32m    724\u001b[0m                   initial\u001b[38;5;241m=\u001b[39minitial, where\u001b[38;5;241m=\u001b[39mwhere)\n",
      "File \u001b[0;32m~/miniconda3/envs/py38/lib/python3.8/site-packages/numpy/lib/nanfunctions.py:102\u001b[0m, in \u001b[0;36m_replace_nan\u001b[0;34m(a, val)\u001b[0m\n\u001b[1;32m    100\u001b[0m     mask \u001b[38;5;241m=\u001b[39m np\u001b[38;5;241m.\u001b[39mnot_equal(a, a, dtype\u001b[38;5;241m=\u001b[39m\u001b[38;5;28mbool\u001b[39m)\n\u001b[1;32m    101\u001b[0m \u001b[38;5;28;01melif\u001b[39;00m \u001b[38;5;28missubclass\u001b[39m(a\u001b[38;5;241m.\u001b[39mdtype\u001b[38;5;241m.\u001b[39mtype, np\u001b[38;5;241m.\u001b[39minexact):\n\u001b[0;32m--> 102\u001b[0m     mask \u001b[38;5;241m=\u001b[39m \u001b[43mnp\u001b[49m\u001b[38;5;241;43m.\u001b[39;49m\u001b[43misnan\u001b[49m\u001b[43m(\u001b[49m\u001b[43ma\u001b[49m\u001b[43m)\u001b[49m\n\u001b[1;32m    103\u001b[0m \u001b[38;5;28;01melse\u001b[39;00m:\n\u001b[1;32m    104\u001b[0m     mask \u001b[38;5;241m=\u001b[39m \u001b[38;5;28;01mNone\u001b[39;00m\n",
      "\u001b[0;31mKeyboardInterrupt\u001b[0m: "
     ]
    },
    {
     "data": {
      "image/png": "[encoded data removed]",
      "text/plain": [
       "<Figure size 1000x500 with 3 Axes>"
      ]
     },
     "metadata": {},
     "output_type": "display_data"
    }
   ],
   "source": [
    "# try to plot an example\n",
    "fig = plt.figure(figsize=(10,5))\n",
    "\n",
    "# March\n",
    "ax = plt.subplot(121)\n",
    "data = np.log10(np.nansum(mesh[m],axis=2))\n",
    "cb = ax.pcolormesh(Sbin,Tbin,data,cmap=cmap,vmin = 8)\n",
    "plt.colorbar(cb,label=\"log_10 m^3\")\n",
    "ax.set_title(\"Volume Distribution \" + datetimes[m].strftime(\"%Y-%m\"))\n",
    "ax.set_xlim(25,36)\n",
    "ax.set_ylim(-2,9)\n",
    "ax.grid()\n",
    "\n",
    "# September\n",
    "ax = plt.subplot(122)\n",
    "data = np.log10(np.nansum(mesh[s],axis=2))\n",
    "cb = ax.pcolormesh(Sbin,Tbin,data,cmap=cmap,vmin = 8)\n",
    "plt.colorbar(cb,label=\"log_10 m^3\")\n",
    "ax.set_title(\"Volume Distribution \" + datetimes[s].strftime(\"%Y-%m\"))\n",
    "ax.set_xlim(25,36)\n",
    "ax.set_ylim(-2,9)\n",
    "ax.grid()\n",
    "\n",
    "plt.suptitle(\"All Arctic\")\n",
    "plt.savefig(path + \"allarctic_TS_distr.png\",dpi=300)"
   ]
  },
  {
   "cell_type": "code",
   "execution_count": null,
   "id": "530bbc68-690e-483a-bf2b-ed1fe1d58837",
   "metadata": {},
   "outputs": [],
   "source": [
    "# only surface layer\n",
    "idxs = np.where(mymsk == 1)\n",
    "idxs[0].shape\n",
    "\n",
    "npoints = len(idxs[0])\n",
    "mesh = create_TS_mesh(tsstr,nS,nT,npoints,binned_salinity[:,2:], binned_theta[:,2:],vol[:,2:],idxs)"
   ]
  },
  {
   "cell_type": "code",
   "execution_count": null,
   "id": "0bdf8ed2-c44d-47ef-8617-25aa9e101319",
   "metadata": {},
   "outputs": [],
   "source": [
    "# try the same without the surface layer\n",
    "# try to plot an example\n",
    "fig = plt.figure(figsize=(10,5))\n",
    "\n",
    "# March\n",
    "ax = plt.subplot(121)\n",
    "data = np.log10(np.nansum(mesh[m],axis=2))\n",
    "cb = ax.pcolormesh(Sbin,Tbin,data,cmap=cmap,vmin = 8)\n",
    "plt.colorbar(cb,label=\"log_10 m^3\")\n",
    "ax.set_title(\"Volume Distribution \" + datetimes[m].strftime(\"%Y-%m\"))\n",
    "ax.set_xlim(25,36)\n",
    "ax.set_ylim(-2,9)\n",
    "ax.grid()\n",
    "\n",
    "# September\n",
    "ax = plt.subplot(122)\n",
    "data = np.log10(np.nansum(mesh[s],axis=2))\n",
    "cb = ax.pcolormesh(Sbin,Tbin,data,cmap=cmap,vmin = 8)\n",
    "plt.colorbar(cb,label=\"log_10 m^3\")\n",
    "ax.set_title(\"Volume Distribution \" + datetimes[s].strftime(\"%Y-%m\"))\n",
    "ax.set_xlim(25,36)\n",
    "ax.set_ylim(-2,9)\n",
    "ax.grid()\n",
    "\n",
    "plt.suptitle(\"All Arctic\")\n",
    "plt.savefig(path + \"allarctic_TS_distr_subsurface.png\",dpi=300)"
   ]
  },
  {
   "cell_type": "markdown",
   "id": "19e28d69-a404-44c2-927e-389ea8ee8e9b",
   "metadata": {},
   "source": [
    "# maybe let's look at the annual average of theta and salt before binning"
   ]
  },
  {
   "cell_type": "code",
   "execution_count": null,
   "id": "803e06c8-47a4-4058-a853-44cd4c2141f1",
   "metadata": {},
   "outputs": [],
   "source": [
    "# do time averaging of theta and salt first, then recreate binning arrays\n",
    "theta_avg = np.nanmean(theta,axis=0)\n",
    "theta_avg.shape\n",
    "salt_avg = np.nanmean(salt,axis=0)\n",
    "salt_avg.shape"
   ]
  },
  {
   "cell_type": "code",
   "execution_count": null,
   "id": "9ad78713-d26c-49f0-9318-5914f1b99aed",
   "metadata": {},
   "outputs": [],
   "source": [
    "vol_avg = np.nanmean(vol,axis=0)"
   ]
  },
  {
   "cell_type": "code",
   "execution_count": null,
   "id": "1f24131d-e64b-4f9f-8767-d1379da45361",
   "metadata": {},
   "outputs": [],
   "source": [
    "# we want to bin theta and salt into the T and S bins\n",
    "binned_theta = bin_array(theta_avg,binsTH_edges)\n",
    "binned_theta = binned_theta.astype(float)\n",
    "binned_theta[binned_theta == nT] = np.nan     # because the binning is setting nan to last value\n",
    "binned_salinity = bin_array(salt_avg,binsSLT_edges)\n",
    "binned_salinity = binned_salinity.astype(float)\n",
    "binned_salinity[binned_salinity == nS] = np.nan"
   ]
  },
  {
   "cell_type": "code",
   "execution_count": null,
   "id": "8610556a-7ac6-437c-acfd-c09d60a63e7f",
   "metadata": {},
   "outputs": [],
   "source": [
    "idxs = np.where(mymsk == 1)\n",
    "idxs[0].shape\n",
    "\n",
    "npoints = len(idxs[0])\n",
    "mesh = create_TS_mesh(np.array([tsstr[0]]),nS,nT,npoints,binned_salinity[np.newaxis,:,:,:], binned_theta[np.newaxis,:,:,:],vol_avg[np.newaxis,:,:,:],idxs)"
   ]
  },
  {
   "cell_type": "code",
   "execution_count": null,
   "id": "ddc18c0c-1a75-4c0b-9ee2-c24c513e7907",
   "metadata": {},
   "outputs": [],
   "source": [
    "# try the same without the surface layer\n",
    "# try to plot an example\n",
    "fig = plt.figure(figsize=(5,5))\n",
    "\n",
    "# time mean\n",
    "ax = plt.subplot(111)\n",
    "data = np.log10(np.nansum(mesh[0],axis=2))\n",
    "cb = ax.pcolormesh(Sbin,Tbin,data,cmap=cmap,vmin = 8)\n",
    "plt.colorbar(cb,label=\"log_10 m^3\")\n",
    "ax.set_title(\"Volume Distribution\")\n",
    "ax.set_xlim(25,36)\n",
    "ax.set_ylim(-2,9)\n",
    "ax.grid()\n",
    "\n",
    "plt.suptitle(\"All Arctic Time-Mean\")\n",
    "# plt.savefig(path + \"allarctic_TS_distr_timeavg_2006.png\",dpi=300)"
   ]
  },
  {
   "cell_type": "code",
   "execution_count": null,
   "id": "08475870-31c5-45bc-834b-2c77a5e75960",
   "metadata": {},
   "outputs": [],
   "source": [
    "# set the indices for some water masses\n",
    "AWs = np.argmax(binsSLT_centers >= 33)\n",
    "AWt = np.argmax(binsTH_centers >= 0)\n",
    "\n",
    "mask = (binsSLT_centers > 31.6) & (binsSLT_centers <= 33)\n",
    "PWs = np.where(mask)[0]\n",
    "PWt = np.argmax(binsTH_centers  >= 0)\n",
    "\n",
    "MWs = np.argmin(binsSLT_centers <= 31.6)\n",
    "\n",
    "os = np.argmax(binsSLT_centers > 31.6)\n",
    "ot = np.argmin(binsTH_centers <= 0)\n",
    "\n",
    "# set separate colormaps\n",
    "AW_data = data.copy()\n",
    "AW_data[:AWs] = np.nan\n",
    "AW_data[:,:AWt] = np.nan\n",
    "\n",
    "PW_data = data.copy()\n",
    "PW_data[:PWs[0]] = np.nan\n",
    "PW_data[PWs[-1]+1:] = np.nan\n",
    "PW_data[:,:PWt] = np.nan\n",
    "\n",
    "MW_data = data.copy()\n",
    "MW_data[MWs:] = np.nan\n",
    "\n",
    "o_data = data.copy()\n",
    "o_data[:os] = np.nan\n",
    "o_data[:,ot:] = np.nan\n",
    "\n",
    "# plot it up\n",
    "AWcb = plt.pcolormesh(Sbin,Tbin,AW_data,cmap='Reds',vmin = 10)\n",
    "PWcb = plt.pcolormesh(Sbin,Tbin,PW_data,cmap='Greens',vmin = 10)\n",
    "MWcb = plt.pcolormesh(Sbin,Tbin,MW_data,cmap='Blues',vmin = 10)\n",
    "ocb = plt.pcolormesh(Sbin,Tbin,o_data,cmap='rainbow')\n",
    "plt.colorbar(AWcb)\n",
    "plt.colorbar(PWcb)\n",
    "plt.colorbar(MWcb)\n",
    "plt.colorbar(ocb)\n",
    "plt.grid()\n",
    "plt.xlim(25,36)\n",
    "plt.ylim(-2,8)"
   ]
  },
  {
   "cell_type": "markdown",
   "id": "77064869-b494-45a3-b771-fb8e7f7987d0",
   "metadata": {},
   "source": [
    "# Let's look closer at the halocline layer for these"
   ]
  },
  {
   "cell_type": "code",
   "execution_count": null,
   "id": "9b91351f-c014-42a2-9e7b-46c6875c567c",
   "metadata": {},
   "outputs": [],
   "source": [
    "# do time averaging of theta and salt first, then recreate binning arrays\n",
    "theta_avg_t1 = np.nanmean(theta[:12],axis=0)\n",
    "salt_avg_t1 = np.nanmean(salt[:12],axis=0)\n",
    "theta_avg_t2 = np.nanmean(theta[12:],axis=0)\n",
    "salt_avg_t2 = np.nanmean(salt[12:],axis=0)"
   ]
  },
  {
   "cell_type": "code",
   "execution_count": null,
   "id": "b5166c10-bd9e-41c2-b20d-222b4f26a540",
   "metadata": {},
   "outputs": [],
   "source": [
    "vol_avg_t1 = np.nanmean(vol[:12],axis=0)\n",
    "vol_avg_t2 = np.nanmean(vol[12:],axis=0)"
   ]
  },
  {
   "cell_type": "code",
   "execution_count": null,
   "id": "0c1393e5-2b3c-4cc7-b155-402de4de0625",
   "metadata": {},
   "outputs": [],
   "source": [
    "# we want to bin theta and salt into the T and S bins\n",
    "binned_theta_t1 = bin_array(theta_avg_t1,binsTH_edges)\n",
    "binned_theta_t1 = binned_theta_t1.astype(float)\n",
    "binned_theta_t1[binned_theta_t1 == nT] = np.nan     # because the binning is setting nan to last value\n",
    "binned_salinity_t1 = bin_array(salt_avg_t1,binsSLT_edges)\n",
    "binned_salinity_t1 = binned_salinity_t1.astype(float)\n",
    "binned_salinity_t1[binned_salinity_t1 == nS] = np.nan"
   ]
  },
  {
   "cell_type": "code",
   "execution_count": null,
   "id": "9b0b132a-ca9f-49f2-9c6c-1177ca260beb",
   "metadata": {},
   "outputs": [],
   "source": [
    "# we want to bin theta and salt into the T and S bins\n",
    "binned_theta_t2 = bin_array(theta_avg_t2,binsTH_edges)\n",
    "binned_theta_t2 = binned_theta_t2.astype(float)\n",
    "binned_theta_t2[binned_theta_t2 == nT] = np.nan     # because the binning is setting nan to last value\n",
    "binned_salinity_t2 = bin_array(salt_avg_t2,binsSLT_edges)\n",
    "binned_salinity_t2 = binned_salinity_t2.astype(float)\n",
    "binned_salinity_t2[binned_salinity_t2 == nS] = np.nan"
   ]
  },
  {
   "cell_type": "code",
   "execution_count": null,
   "id": "3ef12d13-a938-4d54-92cb-e019aac25fbf",
   "metadata": {},
   "outputs": [],
   "source": [
    "# idxs = np.where(mymsk == 1)\n",
    "idxs = np.where(maskArc == 6)\n",
    "idxs[0].shape\n",
    "\n",
    "npoints = len(idxs[0])\n",
    "mesh_t1 = create_TS_mesh(np.array([tsstr[0]]),nS,nT,npoints,binned_salinity_t1[np.newaxis,:,:,:], binned_theta_t1[np.newaxis,:,:,:],vol_avg_t1[np.newaxis,:,:,:],idxs)"
   ]
  },
  {
   "cell_type": "code",
   "execution_count": null,
   "id": "98872782-b050-4a76-a821-b9422fe77fd8",
   "metadata": {},
   "outputs": [],
   "source": [
    "# idxs = np.where(mymsk == 1)\n",
    "idxs = np.where(maskArc == 6)\n",
    "idxs[0].shape\n",
    "\n",
    "npoints = len(idxs[0])\n",
    "mesh_t2 = create_TS_mesh(np.array([tsstr[0]]),nS,nT,npoints,binned_salinity_t2[np.newaxis,:,:,:], binned_theta_t2[np.newaxis,:,:,:],vol_avg_t2[np.newaxis,:,:,:],idxs)"
   ]
  },
  {
   "cell_type": "code",
   "execution_count": null,
   "id": "0e0da51d-dfa4-4b31-b704-66309e6076fd",
   "metadata": {},
   "outputs": [],
   "source": [
    "# try the same without the surface layer\n",
    "# try to plot an example\n",
    "fig = plt.figure(figsize=(10,5))\n",
    "\n",
    "# time mean\n",
    "ax = plt.subplot(121)\n",
    "data_t1 = np.log10(np.nansum(mesh_t1[0],axis=2))\n",
    "cb = ax.pcolormesh(Sbin,Tbin,data_t1,cmap=cmap,vmin = 10)\n",
    "plt.colorbar(cb,label=\"log_10 m^3\")\n",
    "ax.set_title(\"Volume Distribution 2006\")\n",
    "ax.set_xlim(25,36)\n",
    "ax.set_ylim(-2,9)\n",
    "ax.grid()\n",
    "\n",
    "ax = plt.subplot(122)\n",
    "data_t2 = np.log10(np.nansum(mesh_t2[0],axis=2))\n",
    "cb = ax.pcolormesh(Sbin,Tbin,data_t2,cmap=cmap,vmin = 10)\n",
    "plt.colorbar(cb,label=\"log_10 m^3\")\n",
    "ax.set_title(\"Volume Distribution 2014\")\n",
    "ax.set_xlim(25,36)\n",
    "ax.set_ylim(-2,9)\n",
    "ax.grid()\n",
    "\n",
    "plt.suptitle(\"All Arctic Time-Mean\")\n",
    "plt.savefig(path + \"BarentsS_TS_distr_timeavg_comparison.png\",dpi=300)"
   ]
  },
  {
   "cell_type": "code",
   "execution_count": null,
   "id": "e35e61b6-bf9e-4f66-b1d8-5d8f8964b28f",
   "metadata": {},
   "outputs": [],
   "source": [
    "# try the same without the surface layer\n",
    "# try to plot an example\n",
    "fig = plt.figure(figsize=(10,5))\n",
    "\n",
    "# time mean\n",
    "ax = plt.subplot(121)\n",
    "data_t1 = np.log10(np.nansum(mesh_t1[0],axis=2))\n",
    "cb = ax.pcolormesh(Sbin,Tbin,data_t1,cmap='rainbow',vmin = 10)\n",
    "plt.colorbar(cb,label=\"log_10 m^3\")\n",
    "ax.set_title(\"Volume Distribution 2006\")\n",
    "ax.set_xlim(31.6,35.5)\n",
    "ax.set_ylim(-2,1)\n",
    "ax.grid()\n",
    "\n",
    "ax = plt.subplot(122)\n",
    "data_t2 = np.log10(np.nansum(mesh_t2[0],axis=2))\n",
    "cb = ax.pcolormesh(Sbin,Tbin,data_t2,cmap='rainbow',vmin = 10)\n",
    "plt.colorbar(cb,label=\"log_10 m^3\")\n",
    "ax.set_title(\"Volume Distribution 2014\")\n",
    "ax.set_xlim(31.6,35.5)\n",
    "ax.set_ylim(-2,1)\n",
    "ax.grid()\n",
    "\n",
    "plt.suptitle(\"All Arctic Time-Mean\")\n",
    "plt.savefig(path + \"BarentsS_TS_distr_timeavg_HL.png\",dpi=300)"
   ]
  },
  {
   "cell_type": "markdown",
   "id": "74f2fcbc-eff5-47cd-be9a-c2a0dd0233ea",
   "metadata": {},
   "source": [
    "# show the arrows based on a specific Basin"
   ]
  },
  {
   "cell_type": "code",
   "execution_count": 17,
   "id": "94d88152-019a-4f49-870f-ed941071c7a0",
   "metadata": {},
   "outputs": [
    {
     "name": "stdout",
     "output_type": "stream",
     "text": [
      "BarentsS\n"
     ]
    }
   ],
   "source": [
    "iB = 6\n",
    "print(strb[iB])\n",
    "\n",
    "idxs = np.where(maskArc == iB)\n",
    "npoints = len(idxs[0])\n",
    "mesh = create_TS_mesh(tsstr,nS,nT,npoints,binned_salinity, binned_theta,vol,idxs)\n",
    "mydata_test_m1 = np.nansum(mesh[m],axis=2)\n",
    "mydata_test_m2 = np.nansum(mesh[s],axis=2)\n",
    "\n",
    "# make a mask for iB so we can multiply the advective terms\n",
    "mymsk_iB = mskBasin.copy()\n",
    "\n",
    "# Create a boolean mask for elements iB\n",
    "mask = (mymsk_iB==6) \n",
    "\n",
    "# Set non iB elements to nan\n",
    "mymsk_iB[mask] = 1\n",
    "mymsk_iB[~mask] = np.nan\n",
    "mymsk_iB = np.tile(mymsk_iB,(50,1,1))"
   ]
  },
  {
   "cell_type": "code",
   "execution_count": 18,
   "id": "d3b1990f-a1c2-4634-afaf-b3ec798eb078",
   "metadata": {},
   "outputs": [],
   "source": [
    "# grab the advective terms and multiply by mymsk_iB\n",
    "ADVx_TH_iB = ADVx_TH * mymsk_iB[np.newaxis,:,:,:]\n",
    "ADVx_SLT_iB = ADVx_SLT * mymsk_iB[np.newaxis,:,:,:]\n",
    "binned_theta_iB = binned_theta * mymsk_iB[np.newaxis,:,:,:]\n",
    "binned_salinity_iB = binned_salinity * mymsk_iB[np.newaxis,:,:,:]"
   ]
  },
  {
   "cell_type": "code",
   "execution_count": 19,
   "id": "abff57fa-1fa9-491a-94bf-b800f26c3cfa",
   "metadata": {},
   "outputs": [
    {
     "name": "stdout",
     "output_type": "stream",
     "text": [
      "0\n",
      "1\n"
     ]
    }
   ],
   "source": [
    "# bin these as per the values in the binnedsalt and theta\n",
    "distrADVx_TH = np.full((len(tsstr),nT,nS),0.0)\n",
    "distrADVx_SLT = np.full((len(tsstr),nT,nS),0.0)\n",
    "\n",
    "# for each time step\n",
    "for t in range(len(tsstr)):\n",
    "    print(t)\n",
    "\n",
    "    # grab the advection in each x,y,z point -- maybe fix later to speed things up?\n",
    "    data_TH = ADVx_TH_iB[t]\n",
    "    for i in range(data_TH.shape[0]):\n",
    "        for j in range(data_TH.shape[1]):\n",
    "            for k in range(data_TH.shape[2]):\n",
    "                if not np.isnan(binned_theta_iB[t][i,j,k]):\n",
    "                    distrADVx_TH[t,int(binned_salinity_iB[t][i,j,k]),int(binned_theta_iB[t][i,j,k])] += data_TH[i,j,k]\n",
    "\n",
    "\n",
    "    data_SLT = ADVx_SLT_iB[t]\n",
    "    for i in range(data_SLT.shape[0]):\n",
    "        for j in range(data_SLT.shape[1]):\n",
    "            for k in range(data_SLT.shape[2]):\n",
    "                if not np.isnan(binned_salinity_iB[t][i,j,k]):\n",
    "                    distrADVx_SLT[t,int(binned_salinity_iB[t][i,j,k]),int(binned_theta_iB[t][i,j,k])] += data_SLT[i,j,k]"
   ]
  },
  {
   "cell_type": "code",
   "execution_count": 20,
   "id": "b03fd8d5-f8be-4506-ad60-86b1111a8950",
   "metadata": {},
   "outputs": [],
   "source": [
    "# for time saving\n",
    "a = distrADVx_SLT.copy()\n",
    "b = distrADVx_TH.copy()"
   ]
  },
  {
   "cell_type": "code",
   "execution_count": 39,
   "id": "f388b0c5-7868-43bc-aa5c-451bf1970b6b",
   "metadata": {},
   "outputs": [],
   "source": [
    "# create the arrows for ADV\n",
    "binwidthsS_tile = np.tile(binwidthS, (112, 1)).T\n",
    "binwidthsT_tile = np.tile(binwidthT, (112, 1))\n",
    "\n",
    "# divide\n",
    "distrADVx_TH  = distrADVx_TH/binwidthsT_tile[np.newaxis,:,:]/binwidthsS_tile[np.newaxis,:,:]                # m^3/s/PSU\n",
    "distrADVx_SLT = distrADVx_SLT/binwidthsT_tile[np.newaxis,:,:]/binwidthsS_tile[np.newaxis,:,:]               # m^3/s/degC\n",
    "\n",
    "distrADVx_TH[distrADVx_TH == 0 ] = np.nan\n",
    "distrADVx_SLT[distrADVx_SLT == 0 ] = np.nan"
   ]
  },
  {
   "cell_type": "code",
   "execution_count": 42,
   "id": "75c694fb-4147-4d07-8a7e-1023e8e89507",
   "metadata": {},
   "outputs": [
    {
     "data": {
      "image/png": "[encoded data removed]",
      "text/plain": [
       "<Figure size 1000x500 with 4 Axes>"
      ]
     },
     "metadata": {},
     "output_type": "display_data"
    }
   ],
   "source": [
    "# try to plot an example\n",
    "fig = plt.figure(figsize=(10,5))\n",
    "\n",
    "# March\n",
    "ax = plt.subplot(121)\n",
    "cb = ax.pcolormesh(Sbin,Tbin,mydata_test_m1,cmap=cmap,vmin = .001)\n",
    "ax.quiver(Sbincent,Tbincent,distrADVx_SLT[m],distrADVx_TH[m],scale=5e10)    # in units of m^3/s\n",
    "plt.colorbar(cb,label=\"m^3\")\n",
    "ax.set_title(\"Volume Distribution \" + datetimes[m].strftime(\"%Y-%m\"))\n",
    "ax.set_xlim(25,36)\n",
    "ax.set_ylim(-2,9)\n",
    "ax.grid()\n",
    "\n",
    "# September\n",
    "ax = plt.subplot(122)\n",
    "cb = ax.pcolormesh(Sbin,Tbin,mydata_test_m2,cmap=cmap,vmin = .001)\n",
    "ax.quiver(Sbincent,Tbincent,distrADVx_SLT[s],distrADVx_TH[s],scale=5e10)    # in units of m^3/s\n",
    "plt.colorbar(cb,label=\"m^3\")\n",
    "ax.set_title(\"Volume Distribution \" + datetimes[s].strftime(\"%Y-%m\"))\n",
    "ax.set_xlim(25,36)\n",
    "ax.set_ylim(-2,9)\n",
    "ax.grid()\n",
    "\n",
    "# plt.title(strb[iB])\n",
    "\n",
    "# plt.savefig(path + strb[iB] + \"_TS_distr.png\",dpi=300)"
   ]
  },
  {
   "cell_type": "code",
   "execution_count": 46,
   "id": "3002fe53-d29c-4ad4-b2fd-c0d488d2a148",
   "metadata": {},
   "outputs": [
    {
     "name": "stderr",
     "output_type": "stream",
     "text": [
      "/tmp/ipykernel_298691/4861626.py:5: RuntimeWarning: Mean of empty slice\n",
      "  data = np.nanmean(ADVx_SLT[m],axis=0)\n",
      "/tmp/ipykernel_298691/4861626.py:12: RuntimeWarning: Mean of empty slice\n",
      "  data = np.nanmean(ADVx_SLT[s],axis=0)\n"
     ]
    },
    {
     "data": {
      "text/plain": [
       "(400.0, 600.0)"
      ]
     },
     "execution_count": 46,
     "metadata": {},
     "output_type": "execute_result"
    },
    {
     "data": {
      "image/png": "[encoded data removed]",
      "text/plain": [
       "<Figure size 1000x400 with 4 Axes>"
      ]
     },
     "metadata": {},
     "output_type": "display_data"
    }
   ],
   "source": [
    "# quickly, does this make sense with the depth-mean advection we see in xyz? Yes!\n",
    "fig = plt.figure()\n",
    "\n",
    "ax = plt.subplot(121)\n",
    "data = np.nanmean(ADVx_SLT[m],axis=0)\n",
    "cb = ax.pcolormesh(get_aste_tracer(data*mymsk_iB[0],nfx,nfy)[0],cmap=cmap,vmin=-1e6,vmax=1e6)\n",
    "plt.colorbar(cb)\n",
    "ax.set_xlim(400,540)\n",
    "ax.set_ylim(400,600)\n",
    "\n",
    "ax = plt.subplot(122)\n",
    "data = np.nanmean(ADVx_SLT[s],axis=0)\n",
    "cb = ax.pcolormesh(get_aste_tracer(data*mymsk_iB[0],nfx,nfy)[0],cmap=cmap,vmin=-1e6,vmax=1e6)\n",
    "plt.colorbar(cb)\n",
    "ax.set_xlim(400,540)\n",
    "ax.set_ylim(400,600)"
   ]
  },
  {
   "cell_type": "code",
   "execution_count": null,
   "id": "5713a366-31d9-4f9c-a9c7-9d2380e790bb",
   "metadata": {},
   "outputs": [],
   "source": []
  }
 ],
 "metadata": {
  "kernelspec": {
   "display_name": "py38",
   "language": "python",
   "name": "py38"
  },
  "language_info": {
   "codemirror_mode": {
    "name": "ipython",
    "version": 3
   },
   "file_extension": ".py",
   "mimetype": "text/x-python",
   "name": "python",
   "nbconvert_exporter": "python",
   "pygments_lexer": "ipython3",
   "version": "3.8.18"
  }
 },
 "nbformat": 4,
 "nbformat_minor": 5
}
