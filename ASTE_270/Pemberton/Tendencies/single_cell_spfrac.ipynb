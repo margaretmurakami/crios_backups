{
 "cells": [
  {
   "cell_type": "markdown",
   "id": "b43ed0eb-77ab-4d5a-b71c-e6c6515c6887",
   "metadata": {},
   "source": [
    "# intro\n",
    "\n",
    "The purpose of this notebook create the J terms for a single map grid cell at the surface, show the residuals and look at the comparable contributions of different terms"
   ]
  },
  {
   "cell_type": "markdown",
   "id": "dc7e9cea-1e35-490d-9c4b-c359dc0e78e7",
   "metadata": {},
   "source": [
    "# packages and functions"
   ]
  },
  {
   "cell_type": "code",
   "execution_count": 1,
   "id": "a8924249-4f0c-44dd-93ae-2108603e00b2",
   "metadata": {},
   "outputs": [],
   "source": [
    "import numpy as np\n",
    "import sys\n",
    "import matplotlib.pyplot as plt\n",
    "import xarray as xr\n",
    "import h5py\n",
    "from scipy.io import loadmat\n",
    "import matplotlib as mpl\n",
    "import time\n",
    "import gsw\n",
    "from matplotlib.colors import TwoSlopeNorm\n",
    "\n",
    "# import existing python files\n",
    "plt.rcParams['figure.figsize'] = (10,4)\n",
    "\n",
    "# add rdmds reading functions to path\n",
    "sys.path.append(\"/home/mmurakami/MITgcm/MITgcm_c68r/MITgcm-checkpoint68r/utils/python/MITgcmutils/MITgcmutils/\") # go to parent dir\n",
    "from mds import *\n",
    "\n",
    "# add the other files\n",
    "sys.path.append(\"/home/mmurakami/crios_backups/an_helper_functions\")\n",
    "from read_binary import *\n",
    "from calc_UV_conv_1face import calc_UV_conv_1face\n",
    "from calc_mskmean_T_mod import calc_mskmean_T_mod\n",
    "from mk3D_mod import mk3D_mod\n",
    "from aste_helper_funcs import *\n",
    "from timing_functions import *           # ts2dte, get_fnames, etc.\n",
    "from binning import *                    # bin_array, create_mesh"
   ]
  },
  {
   "cell_type": "code",
   "execution_count": 2,
   "id": "ba33922a-c22e-4937-a71f-5fa604e46747",
   "metadata": {},
   "outputs": [],
   "source": [
    "import warnings\n",
    "warnings.filterwarnings('ignore')"
   ]
  },
  {
   "cell_type": "markdown",
   "id": "9766d60e-f5c2-430c-a0a3-a12248138562",
   "metadata": {},
   "source": [
    "# read grid and files"
   ]
  },
  {
   "cell_type": "code",
   "execution_count": 3,
   "id": "2f69c3b5-9a60-4f2e-85f8-4b2d4b46f4c2",
   "metadata": {},
   "outputs": [],
   "source": [
    "# define basin we want\n",
    "iB = 6   # see mskBasin if you want for later; maybe we should write this to file\n",
    "path = \"/home/mmurakami/crios_backups/ASTE_270/offline_binning/sample_images/\""
   ]
  },
  {
   "cell_type": "code",
   "execution_count": 4,
   "id": "43e110f9-e901-42af-9e8a-3080200b3c4a",
   "metadata": {},
   "outputs": [],
   "source": [
    "dirroot = \"/scratch2/atnguyen/aste_270x450x180/\"\n",
    "dirrun = \"/scratch/atnguyen/aste_270x450x180/OFFICIAL_ASTE_R1_Sep2019/\"\n",
    "dirIn = dirrun + \"diags/BUDG/\"\n",
    "dirDiags = dirrun + \"diags/\"\n",
    "dirState = dirDiags + \"STATE/\"\n",
    "dirGrid = dirroot + \"GRID_real8/\"\n",
    "dirgridnb = dirroot + \"GRID_noblank/\"\n",
    "dirgridw = dirroot + \"GRID_wet/\""
   ]
  },
  {
   "cell_type": "code",
   "execution_count": 5,
   "id": "037236aa-7c20-433a-8765-7609d01bef6f",
   "metadata": {},
   "outputs": [],
   "source": [
    "bigaste = True\n",
    "\n",
    "if bigaste:\n",
    "    nx = 270\n",
    "    ncut1 = 450\n",
    "    ncut2 = 180\n",
    "else:\n",
    "    nx = 90\n",
    "    ncut1 = 150\n",
    "    ncut2 = 60\n",
    "    \n",
    "ny = 2*ncut1+nx+ncut2\n",
    "nz = 50\n",
    "nfx = np.array([nx, 0 , nx, ncut2 ,ncut1])\n",
    "nfy = np.array([ncut1, 0 , nx, nx, nx])"
   ]
  },
  {
   "cell_type": "code",
   "execution_count": 6,
   "id": "8aabcc01-2c68-4e97-9344-ba31b69eb20d",
   "metadata": {},
   "outputs": [],
   "source": [
    "# save myParms from An hard-coding\n",
    "save_budg_3d = 0\n",
    "save_budg_2d = 1\n",
    "save_budg_scalar = 0\n",
    "save_budg_lev = 0\n",
    "\n",
    "strbudg = 'Salt'\n",
    "kBudget = 1\n",
    "test3d = True\n",
    "plot_fig = 1\n",
    "# kz = [[1, 5], [6, 10], [11, 19], [20, 23]]\n",
    "\n",
    "myparms = {\n",
    "    'yearFirst': 1979,\n",
    "    'yearLast': 1979,\n",
    "    'yearInAv': [1979, 1979],\n",
    "    'timeStep': 3600,\n",
    "    'iceModel': 1,\n",
    "    'useRFWF': 1,\n",
    "    'useNLFS': 4,\n",
    "    'rStar': 2,\n",
    "    'rhoconst': 1029,\n",
    "    'rcp': 1029 * 3994,    # reference seawater specific heat capacity (1029 kg/m^3) * (3994 J/kg K) = J/(m^3*degC)\n",
    "    'rhoi': 910,\n",
    "    'rhosn': 330,\n",
    "    'flami': 334000,\n",
    "    'flamb': 2500000,\n",
    "    'SIsal0': 4,\n",
    "    'diagsAreMonthly': 0,\n",
    "    'diagsAreAnnual': 0,\n",
    "    'recInAve': [1, 2],\n",
    "    'SaltPlumeHeatFlux': 0,  # Not sure what this is\n",
    "    'SEAICEheatConsFix': 0,\n",
    "    'conserveTr': 0,\n",
    "    'seaice_variable_salinity_flag': 0\n",
    "}"
   ]
  },
  {
   "cell_type": "code",
   "execution_count": 7,
   "id": "535d440e-18a4-46ca-94f2-138b293f50f9",
   "metadata": {},
   "outputs": [],
   "source": [
    "# get time-steps:\n",
    "flist = [f for f in os.listdir(dirIn) if f.startswith('budg2d_snap_set1.') and f.endswith('.data')]\n",
    "idot = flist[0].index('.')\n",
    "idot = [idot+1, flist[0][idot+1:].index('.')+idot+1]\n",
    "idot = np.asarray(idot,dtype=int)\n",
    "\n",
    "mygrid = {\n",
    "    'dirGrid': dirGrid,\n",
    "    'nFaces': 1,\n",
    "    'fileFormat': 'compact',\n",
    "    'memoryLimit': 2,\n",
    "    'ioSize': [nx*ny, 1],\n",
    "    'facesSize': [ny, nx],\n",
    "    'facesExpand': [ny, nx],\n",
    "    'missVal': 0,\n",
    "}\n",
    "\n",
    "fldstr2d = ['XC','YC','XG','YG','RAC','Depth','DXG','DYG','DXC','DYC']\n",
    "fldstr3d = ['hFacC','hFacW','hFacS','mskC','mskS','mskW']\n",
    "fldstr3dp = ['hFacC','hFacW','hFacS','maskCtrlC','maskCtrlS','maskCtrlW']\n",
    "fldstr1d = ['RC','RF','DRC','DRF']\n",
    "\n",
    "for fld in fldstr1d:\n",
    "    mygrid[fld] = np.squeeze(rdmds(os.path.join(dirGrid, fld)))\n",
    "\n",
    "for fld in fldstr3d:\n",
    "    temp = rdmds(os.path.join(dirGrid, fldstr3dp[fldstr3d.index(fld)]))\n",
    "    mygrid[fld] = temp.reshape(nz, ny, nx)\n",
    "\n",
    "for fld in fldstr2d:\n",
    "    temp = rdmds(os.path.join(dirGrid, fld))\n",
    "    mygrid[fld] = temp.reshape(ny, nx)\n",
    "\n",
    "mygrid['mskC'][mygrid['mskC'] == 0] = np.nan\n",
    "\n",
    "areaW, areaS, Vol = [], [], []\n",
    "for k in range(nz):\n",
    "    areaW.append(mygrid['DYG'] * mygrid['DRF'][k])\n",
    "    areaS.append(mygrid['DXG'] * mygrid['DRF'][k])\n",
    "    Vol.append(mygrid['RAC'] * mygrid['DRF'][k])"
   ]
  },
  {
   "cell_type": "code",
   "execution_count": 8,
   "id": "f998e012-4843-4ec3-94a0-12128149186e",
   "metadata": {},
   "outputs": [
    {
     "name": "stdout",
     "output_type": "stream",
     "text": [
      "(50,) (50, 1350, 270)\n"
     ]
    }
   ],
   "source": [
    "# block out obcs\n",
    "# np tile I think operates the same as repmat in MATLAB\n",
    "RAC = mygrid['RAC']\n",
    "RAC3 = np.tile(RAC,(nz,1,1))\n",
    "\n",
    "hfC = mygrid['hFacC']\n",
    "DD = mygrid['Depth']\n",
    "dxg = mygrid['DXG']\n",
    "dyg = mygrid['DYG']\n",
    "dxg3d = np.tile(dxg,(nz,1,1))\n",
    "dyg3d = np.tile(dyg,(nz,1,1))\n",
    "\n",
    "print(mygrid['DRF'].shape,np.zeros((nz, ny, nx)).shape)\n",
    "drf3d = mk3D_mod(mygrid['DRF'], np.zeros((nz, ny, nx)))\n",
    "DD3d = mk3D_mod(DD,np.zeros((nz, ny, nx)))\n",
    "\n",
    "hfC[hfC == 0] = np.nan\n",
    "hfC1 = hfC[0, :, :]\n",
    "hfC1[hfC1 == 0] = np.nan\n",
    "\n",
    "RACg = RAC * hfC1\n",
    "hfC1p = np.copy(hfC1)\n",
    "\n",
    "hfC1p[:, nx-1] = np.nan\n",
    "hfC1p[ny-1,:] = np.nan\n",
    "RACgp = RAC * hfC1p"
   ]
  },
  {
   "cell_type": "code",
   "execution_count": 9,
   "id": "6704aa85-36e9-4b40-9128-5fb8dd7b3657",
   "metadata": {},
   "outputs": [
    {
     "name": "stdout",
     "output_type": "stream",
     "text": [
      "hf1 (1350, 270)\n"
     ]
    }
   ],
   "source": [
    "#mygrid['hFacC'][mygrid['hFacC'] > 0] = 1\n",
    "mygrid['hFacC'][mygrid['hFacC'] == 0] = np.nan\n",
    "hf1 = mygrid['hFacC'][0] # top layer in z\n",
    "\n",
    "print(\"hf1\",hf1.shape)\n",
    "\n",
    "hf1 = get_aste_tracer(hf1, nfx, nfy)\n",
    "# check with hardcoding on this for mini or big aste\n",
    "if nx == 90:\n",
    "    hf1[:,281,:] = np.nan\n",
    "    hf1[:,7,:] = np.nan\n",
    "    hf1[:,86,122] = np.nan\n",
    "elif nx == 270:\n",
    "    hf1[:,844,:] = np.nan\n",
    "    hf1[:,23,:] = np.nan\n",
    "    hf1[:,365,260:261] = np.nan\n",
    "\n",
    "hf1 = aste_tracer2compact(hf1,nfx,nfy)\n",
    "hf = mygrid[\"hFacC\"]\n",
    "hf = hf * np.tile(hf1,(nz, 1,1))"
   ]
  },
  {
   "cell_type": "code",
   "execution_count": 10,
   "id": "c7f46929-2eee-4d24-b44f-f3d7d888b3e4",
   "metadata": {},
   "outputs": [
    {
     "data": {
      "text/plain": [
       "(50, 1350, 270)"
      ]
     },
     "execution_count": 10,
     "metadata": {},
     "output_type": "execute_result"
    }
   ],
   "source": [
    "# copy basin listing from lookat_layers\n",
    "fileprefix = \"/scratch/pillarh/aste_270x450x180/\"\n",
    "extBasin='run_template/input_maskTransport/'\n",
    "filename = fileprefix + extBasin + \"GATE_transports_v3_osnap.mat\"\n",
    "if nx == 270:\n",
    "    inf = loadmat(filename)\n",
    "    mskBasin = (inf[\"mskBasin\"])\n",
    "\n",
    "mskBasin = mskBasin.T               # python adjustment\n",
    "\n",
    "# this is now different syntax than the other file\n",
    "strb=np.array(['CanadaB','ChukchiS','MakarovB','AmundsenB','NansenB','BeringS','BarentsS','GINs','CAA',\n",
    "               'SPG','LabSea','NPac','NAtlantic','AtlS30'])\n",
    "\n",
    "mskBasin[mskBasin==50] =6\n",
    "mskBasin[mskBasin==200]=7\n",
    "mskBasin[mskBasin==300]=8\n",
    "mskBasin[mskBasin==400]=9\n",
    "mskBasin[mskBasin==500]=9\n",
    "mskBasin[mskBasin==600]=10\n",
    "mskBasin[mskBasin==700]=11\n",
    "mskBasin[mskBasin==-1]=12\n",
    "mskBasin[mskBasin==-100]=13\n",
    "latNA = 30\n",
    "lonNA = -82\n",
    "condition_13 = (mskBasin == 0) & (mygrid['YC'] > latNA) & (mygrid['XC'] > lonNA) & (hf1.reshape((ny,nx)) > 0)\n",
    "mskBasin[condition_13] = 13\n",
    "condition_14 = (mskBasin == 0) & (hf1.reshape((ny,nx)) > 0)\n",
    "mskBasin[condition_14] = 14\n",
    "\n",
    "mskBasin = mskBasin * hf1\n",
    "mskBasin = mskBasin[0,:,:]   # change indexing for  python\n",
    "mskBasin -= 1\n",
    "\n",
    "# create mskBasin3D to also add to the dataset\n",
    "mskBasin3D = np.tile(mskBasin[np.newaxis,:,:],(nz,1,1))\n",
    "mskBasin3D.shape"
   ]
  },
  {
   "cell_type": "code",
   "execution_count": 11,
   "id": "fbeae4f1-8719-4613-8ef2-7c7655c34c15",
   "metadata": {},
   "outputs": [
    {
     "name": "stdout",
     "output_type": "stream",
     "text": [
      "364500\n"
     ]
    }
   ],
   "source": [
    "# read one basin or whole ASTE\n",
    "whole = False\n",
    "if not whole:\n",
    "    iB = 6    # example read from BarentsSea\n",
    "    \n",
    "# mymsk below defines as all Arctic down to Fram Strait and BSO but not GINs Seas\n",
    "mymsk = mskBasin.copy()\n",
    "\n",
    "# Create a boolean mask for elements that are 6 or less\n",
    "# mask = mymsk <7\n",
    "if whole:\n",
    "    mask = (mymsk < 5) | (mymsk==6) \n",
    "else:\n",
    "    mask = mymsk == 6\n",
    "\n",
    "# Set elements that are greater than 6 to np.nan\n",
    "mymsk[mask] = 1\n",
    "mymsk[~mask] = np.nan\n",
    "\n",
    "test = get_aste_tracer(mymsk,nfx,nfy)[0]\n",
    "test[:,:270] = np.nan\n",
    "mymsk = test\n",
    "\n",
    "mymsk = aste_tracer2compact(mymsk,nfx,nfy)[0]\n",
    "\n",
    "# Get the number of points where mskBasin is 6 or less\n",
    "npoints = np.count_nonzero(mymsk)  # Count the number of True values in the mask\n",
    "print(npoints)"
   ]
  },
  {
   "cell_type": "markdown",
   "id": "fe877711-5869-4ea4-b41f-c6319491eddd",
   "metadata": {},
   "source": [
    "## Get the timesteps"
   ]
  },
  {
   "cell_type": "code",
   "execution_count": 12,
   "id": "e190b8cd-3a8c-4c05-8be1-da22304d493b",
   "metadata": {},
   "outputs": [],
   "source": [
    "# create an array of the time steps we want to read\n",
    "# use ts2dte to get december 2014\n",
    "# first make an array of filenames\n",
    "dt_aste = 600\n",
    "startyr = 2002\n",
    "endyr = 2019\n",
    "\n",
    "# all the filenames in the system\n",
    "fnames = get_fnames(dt_aste,startyr,endyr)\n",
    "\n",
    "times = {}\n",
    "times[\"2014\"] = np.arange(3,5,1)\n",
    "# times[\"2014\"] = np.arange(9,11,1)\n",
    "# times[\"2015\"] = np.array([1])\n",
    "\n",
    "# the filenames we want for 2014\n",
    "tsstr,datetimes = get_tsteps(times,fnames,dt_aste,startyr,1,1)\n",
    "\n",
    "t2 = int(tsstr[1])    # this is the averages file that we want to read from when we do budgeting"
   ]
  },
  {
   "cell_type": "code",
   "execution_count": 13,
   "id": "d0a9c465-74b9-4f94-8d19-773b441f0555",
   "metadata": {},
   "outputs": [],
   "source": [
    "dt = datetimes[1]-datetimes[0]   # days\n",
    "dt = dt.total_seconds()"
   ]
  },
  {
   "cell_type": "code",
   "execution_count": 14,
   "id": "330d3c32-9754-4720-bab9-2154eaad5b7a",
   "metadata": {},
   "outputs": [],
   "source": [
    "# ocean and ice\n",
    "AB_gT=0\n",
    "AB_gS=0"
   ]
  },
  {
   "cell_type": "markdown",
   "id": "1b9d468c-63b2-403b-af18-8acc6946c65d",
   "metadata": {},
   "source": [
    "# create the salt budget\n",
    "### salt tendency"
   ]
  },
  {
   "cell_type": "code",
   "execution_count": 15,
   "id": "e9384302-2cd1-4a9a-8a79-342e6a0d83d7",
   "metadata": {},
   "outputs": [],
   "source": [
    "# read thetadr\n",
    "file_name = 'budg3d_snap_set2'\n",
    "meta_budg3d_snap_set2 = parsemeta(dirIn + file_name + \".\" + tsstr[0] + \".meta\")\n",
    "fldlist = np.array(meta_budg3d_snap_set2[\"fldList\"])\n",
    "varnames = np.array([\"SALTDR\"])\n",
    "recs = np.array([])\n",
    "for var in varnames:\n",
    "    irec = np.where(fldlist == var)\n",
    "    recs = np.append(recs, irec[0][0])\n",
    "\n",
    "\n",
    "SALTDR = np.full((len(tsstr),nz,ny,nx),np.nan)\n",
    "for i in range(len(tsstr)):\n",
    "    thisSALTDR,its,meta = rdmds(os.path.join(dirIn, file_name),int(tsstr[i]),returnmeta=True,rec=recs[0])\n",
    "    thisSALTDR = thisSALTDR.reshape(nz,ny,nx)\n",
    "    SALTDR[i] = thisSALTDR\n",
    "\n",
    "SALTDR =  (SALTDR[1, :, :,:] - SALTDR[0, :,:, :]) / dt    # PSU.m/s"
   ]
  },
  {
   "cell_type": "code",
   "execution_count": 16,
   "id": "3be72c8b-94f9-4cdf-b577-b7fc43dc8c1d",
   "metadata": {},
   "outputs": [],
   "source": [
    "tmptend = myparms['rhoconst'] * (SALTDR - AB_gS) * mk3D_mod(RAC,SALTDR)    # kg/m^3 * PSU.m/s * m^2 = g/s\n",
    "budgO = {}\n",
    "budgO['saltfluxes'] = {}\n",
    "budgI = {}\n",
    "budgI['saltfluxes'] = {}\n",
    "budgOI = {}\n",
    "\n",
    "# ocean\n",
    "\n",
    "budgO['saltfluxes']['tend'] = tmptend\n",
    "budgO['salttend'] = np.nansum(tmptend,axis=0)"
   ]
  },
  {
   "cell_type": "markdown",
   "id": "5ed1a7ab-7110-4757-ace8-f6596ce74bb2",
   "metadata": {},
   "source": [
    "### salt h conv"
   ]
  },
  {
   "cell_type": "code",
   "execution_count": 17,
   "id": "63b451dd-51a3-4884-a00c-caa2ee48aee3",
   "metadata": {},
   "outputs": [],
   "source": [
    "# read adv and dfe\n",
    "file_name = \"budg3d_hflux_set2\"\n",
    "meta_budg3d_hflux_set2 = parsemeta(dirIn + file_name + \".\" + tsstr[0] + \".meta\")\n",
    "fldlist = np.array(meta_budg3d_hflux_set2[\"fldList\"])\n",
    "varnames = np.array([\"ADVx_SLT\",\"ADVy_SLT\",\"DFxE_SLT\",\"DFyE_SLT\"])\n",
    "recs = np.array([])\n",
    "for var in varnames:\n",
    "    irec = np.where(fldlist == var)\n",
    "    recs = np.append(recs, irec[0][0])\n",
    "ADVx_SLT,its,meta = rdmds(os.path.join(dirIn, file_name),t2,returnmeta=True,rec=recs[0])\n",
    "ADVy_SLT,its,meta = rdmds(os.path.join(dirIn, file_name),t2,returnmeta=True,rec=recs[1])\n",
    "DFxE_SLT,its,meta = rdmds(os.path.join(dirIn, file_name),t2,returnmeta=True,rec=recs[2])\n",
    "DFyE_SLT,its,meta = rdmds(os.path.join(dirIn, file_name),t2,returnmeta=True,rec=recs[3])\n",
    "\n",
    "tmpUo = myparms['rhoconst'] * (ADVx_SLT + DFxE_SLT)\n",
    "tmpVo = myparms['rhoconst'] * (ADVy_SLT + DFyE_SLT)\n",
    "\n",
    "# reshape and get the faces\n",
    "tmpUo = tmpUo.reshape(nz,ny,nx)\n",
    "tmpVo = tmpVo.reshape(nz,ny,nx)\n",
    "tmpUo = get_aste_faces(tmpUo,nfx,nfy)              \n",
    "tmpVo = get_aste_faces(tmpVo,nfx,nfy)\n",
    "\n",
    "budgO['saltfluxes']['hconv'] = calc_UV_conv_mod(nfx,nfy,tmpUo,tmpVo)\n",
    "budgO['salthconv'] = calc_UV_conv_mod(nfx,nfy,np.nansum(tmpUo,axis=0),np.nansum(tmpVo,axis=0))"
   ]
  },
  {
   "cell_type": "code",
   "execution_count": 18,
   "id": "898c3bd7-bb13-42f6-acfa-dd1589ce5120",
   "metadata": {},
   "outputs": [],
   "source": [
    "# also do hconv for ADV and DF\n",
    "tmpUo = get_aste_faces(ADVx_SLT.reshape(nz,ny,nx),nfx,nfy)\n",
    "tmpVo = get_aste_faces(ADVy_SLT.reshape(nz,ny,nx),nfx,nfy)\n",
    "budgO['saltfluxes']['ADV_hconv'] = calc_UV_conv_mod(nfx,nfy,tmpUo,tmpVo) * myparms['rhoconst'] #g/s\n",
    "\n",
    "tmpUo = get_aste_faces(DFxE_SLT.reshape(nz,ny,nx),nfx,nfy)\n",
    "tmpVo = get_aste_faces(DFyE_SLT.reshape(nz,ny,nx),nfx,nfy)\n",
    "budgO['saltfluxes']['DF_hconv'] = calc_UV_conv_mod(nfx,nfy,tmpUo,tmpVo) * myparms['rhoconst'] #g/s"
   ]
  },
  {
   "cell_type": "code",
   "execution_count": 19,
   "id": "28c7ff45-998b-4ffa-a385-2d04903bb018",
   "metadata": {},
   "outputs": [],
   "source": [
    "# read the vars\n",
    "file_name = \"budg2d_hflux_set1\"\n",
    "meta_budg2d_hflux_set1 = parsemeta(dirIn + file_name + \".\" + tsstr[0] + \".meta\")\n",
    "fldlist = np.array(meta_budg2d_hflux_set1[\"fldList\"])\n",
    "varnames = np.array([\"ADVxHEFF\",\"ADVyHEFF\",\"DFxEHEFF\",\"DFyEHEFF\"])\n",
    "recs = np.array([])\n",
    "for var in varnames:\n",
    "    irec = np.where(fldlist == var)\n",
    "    recs = np.append(recs, irec[0][0])\n",
    "ADVxHEFF,its,meta = rdmds(os.path.join(dirIn, file_name),t2,returnmeta=True,rec=recs[0])\n",
    "ADVyHEFF,its,meta = rdmds(os.path.join(dirIn, file_name),t2,returnmeta=True,rec=recs[1])\n",
    "DFxEHEFF,its,meta = rdmds(os.path.join(dirIn, file_name),t2,returnmeta=True,rec=recs[2])\n",
    "DFyEHEFF,its,meta = rdmds(os.path.join(dirIn, file_name),t2,returnmeta=True,rec=recs[3])\n",
    "ADVxHEFF = ADVxHEFF.reshape(ny,nx)\n",
    "ADVyHEFF = ADVxHEFF.reshape(ny,nx)\n",
    "DFxEHEFF = DFxEHEFF.reshape(ny,nx)\n",
    "DFyEHEFF = DFyEHEFF.reshape(ny,nx)\n",
    "    \n",
    "if myparms['seaice_variable_salinity_flag'] == 0:\n",
    "    SIsal0 = myparms['SIsal0']\n",
    "\n",
    "tmpUi = SIsal0 * myparms['rhoi'] * (DFxEHEFF + ADVxHEFF)\n",
    "tmpVi = SIsal0 * myparms['rhoi'] * (DFyEHEFF + ADVyHEFF)\n",
    "tmpUi = get_aste_faces(tmpUi,nfx,nfy)              \n",
    "tmpVi = get_aste_faces(tmpVi,nfx,nfy)\n",
    "\n",
    "budgI['salthconv'] = calc_UV_conv_mod(nfx,nfy,tmpUi, tmpVi)\n",
    "budgOI['salthconv'] = (budgO['salthconv'] + budgI['salthconv'])"
   ]
  },
  {
   "cell_type": "markdown",
   "id": "dcd0b6da-f17c-403d-b10d-6f1fb05fff14",
   "metadata": {},
   "source": [
    "### salt v convergence"
   ]
  },
  {
   "cell_type": "code",
   "execution_count": 20,
   "id": "e8361f45-ae96-4b23-befe-3a3ac88a9a1d",
   "metadata": {},
   "outputs": [],
   "source": [
    "# read fluxes\n",
    "file_name = 'budg2d_zflux_set1'\n",
    "meta_budg2d_zflux_set1 = parsemeta(dirIn + file_name + \".\" + tsstr[0] + \".meta\")\n",
    "fldlist = np.array(meta_budg2d_zflux_set1[\"fldList\"])\n",
    "varnames = np.array([\"oceSPflx\",\"SFLUX\"])\n",
    "recs = np.array([])\n",
    "for var in varnames:\n",
    "    irec = np.where(fldlist == var)\n",
    "    recs = np.append(recs, irec[0][0])\n",
    "oceSPflx,its,meta = rdmds(os.path.join(dirIn, file_name),t2,returnmeta=True,rec=recs[0])\n",
    "SFLUX,its,meta = rdmds(os.path.join(dirIn, file_name),t2,returnmeta=True,rec=recs[1])\n",
    "oceSPflx = oceSPflx.reshape(ny,nx)\n",
    "SFLUX = SFLUX.reshape(ny,nx)\n",
    "\n",
    "# read relax and salt mass\n",
    "file_name = \"budg2d_zflux_set2\"\n",
    "meta_budg2d_zflux_set2 = parsemeta(dirIn + file_name + \".\" + tsstr[0] + \".meta\")\n",
    "fldlist = np.array(meta_budg2d_zflux_set2[\"fldList\"])\n",
    "varnames = np.array([\"oceSflux\",\"WSLTMASS\",\"SRELAX\"])\n",
    "recs = np.array([])\n",
    "for var in varnames:\n",
    "    irec = np.where(fldlist == var)\n",
    "    if len(irec[0]) > 0:\n",
    "        recs = np.append(recs, irec[0][0])\n",
    "oceSflux,its,meta = rdmds(os.path.join(dirIn, file_name),t2,returnmeta=True,rec=recs[0])\n",
    "WSLTMASS,its,meta = rdmds(os.path.join(dirIn, file_name),t2,returnmeta=True,rec=recs[1])\n",
    "SRELAX,its,meta = rdmds(os.path.join(dirIn, file_name),t2,returnmeta=True,rec=recs[2])\n",
    "oceSflux = oceSflux.reshape(ny,nx)\n",
    "WSLTMASS = WSLTMASS.reshape(ny,nx)\n",
    "SRELAX = SRELAX.reshape(ny,nx)"
   ]
  },
  {
   "cell_type": "code",
   "execution_count": 21,
   "id": "dc2dfa19-e3ef-4d41-bf02-bb89ea8aa95d",
   "metadata": {},
   "outputs": [],
   "source": [
    "# read kpp tend and from 3d zflux\n",
    "file_name = \"budg3d_kpptend_set1\"\n",
    "meta_budg3d_kpptend_set1 = parsemeta(dirIn + file_name + \".\" + tsstr[0] + \".meta\")\n",
    "fldlist = np.array(meta_budg3d_kpptend_set1[\"fldList\"])\n",
    "varnames = np.array([\"oceSPtnd\",\"KPPg_SLT\"])\n",
    "recs = np.array([])\n",
    "for var in varnames:\n",
    "    irec = np.where(fldlist == var)\n",
    "    if len(irec[0]) > 0:\n",
    "        recs = np.append(recs, irec[0][0])\n",
    "oceSPtnd,its,meta = rdmds(os.path.join(dirIn, file_name),t2,returnmeta=True,rec=recs[0])\n",
    "KPPg_SLT,its,meta = rdmds(os.path.join(dirIn, file_name),t2,returnmeta=True,rec=recs[1])\n",
    "oceSPtnd = oceSPtnd.reshape(nz,ny,nx)\n",
    "KPPg_SLT = KPPg_SLT.reshape(nz,ny,nx)\n",
    "\n",
    "\n",
    "# now 3d zfluxes\n",
    "file_name = \"budg3d_zflux_set2\"\n",
    "meta_budg3d_zflux_set2 = parsemeta(dirIn + file_name + \".\" + tsstr[0] + \".meta\")\n",
    "fldlist = np.array(meta_budg3d_zflux_set2[\"fldList\"])\n",
    "varnames = np.array([\"ADVr_SLT\",\"DFrE_SLT\",\"DFrI_SLT\"])\n",
    "recs = np.array([])\n",
    "for var in varnames:\n",
    "    irec = np.where(fldlist == var)\n",
    "    recs = np.append(recs, irec[0][0])\n",
    "ADVr_SLT,its,meta = rdmds(os.path.join(dirIn, file_name),t2,returnmeta=True,rec=recs[0])\n",
    "DFrE_SLT,its,meta = rdmds(os.path.join(dirIn, file_name),t2,returnmeta=True,rec=recs[1])\n",
    "DFrI_SLT,its,meta = rdmds(os.path.join(dirIn, file_name),t2,returnmeta=True,rec=recs[2])\n",
    "ADVr_SLT = ADVr_SLT.reshape(nz,ny,nx)\n",
    "DFrE_SLT = DFrE_SLT.reshape(nz,ny,nx)\n",
    "DFrI_SLT = DFrI_SLT.reshape(nz,ny,nx)"
   ]
  },
  {
   "cell_type": "code",
   "execution_count": 22,
   "id": "60d4e552-4f30-4f96-ae18-df3c5ba0df23",
   "metadata": {},
   "outputs": [],
   "source": [
    "if myparms[\"useRFWF\"]==0 or myparms['useNLFS']==0:\n",
    "    print('do nothing')\n",
    "else:\n",
    "    oceSflux = 0 * oceSflux\n",
    "\n",
    "if myparms['useNLFS'] == 0:\n",
    "    print('do nothing, already read above')\n",
    "else:\n",
    "    WSLTMASS=0*WSLTMASS\n",
    "\n",
    "budgO['saltzconv'] = SFLUX + oceSPflx                  # W/m^2\n",
    "zconv_top_salt = (SFLUX + oceSPflx) * RAC               # g/s\n",
    "budgI['saltzconv'] = -budgO['saltzconv'] + SRELAX\n",
    "\n",
    "if myparms['useNLFS']==0:\n",
    "    budgO['saltzconv'] = budgO['saltzconv'] - myparms['rhoconst']*WSLTMASS\n",
    "\n",
    "if myparms['useRFWF']==0 or myparms['useNLFS']==0:\n",
    "    budgI['saltzconv']=-oceSflux"
   ]
  },
  {
   "cell_type": "code",
   "execution_count": 42,
   "id": "d641e406-b0cd-4b6f-80b4-451348b31c97",
   "metadata": {},
   "outputs": [
    {
     "name": "stdout",
     "output_type": "stream",
     "text": [
      "(50, 1350, 270)\n"
     ]
    }
   ],
   "source": [
    "nr = mygrid['RC'].shape[0]\n",
    "# break trWtop down into smaller terms\n",
    "trWtopADV = -(ADVr_SLT)*myparms['rhoconst']           # g/s\n",
    "trWtopDF = -(DFrE_SLT+DFrI_SLT)*myparms['rhoconst']   # g/s\n",
    "trWtopKPP = -(KPPg_SLT)*myparms['rhoconst']           # g/s\n",
    "trWtop = trWtopADV + trWtopDF + trWtopKPP             # g/s \n",
    "\n",
    "print(trWtop.shape)\n",
    "sptop = mk3D_mod(oceSPflx,oceSPtnd) - np.cumsum(oceSPtnd, axis=0)        # we include this in our zconv_top term\n",
    "sptop = sptop * RAC3        # g/s\n",
    "\n",
    "trWtop[1:,:,:] = trWtop[1:,:,:] + sptop[:-1,:,:]\n",
    "trWtop[0,:,:] = budgO['saltzconv'] * RAC    # g/s top layer is surface flux\n",
    "\n",
    "trWbot = np.zeros_like(trWtop)\n",
    "trWbot[:-1,:,:] = trWtop[1:,:,:]\n",
    "trWbot[-1,:,:] = 0\n",
    "\n",
    "budgO['saltfluxes']['trWtop'] = trWtop     # g/s\n",
    "budgO['saltfluxes']['trWbot'] = trWbot     # g/s\n",
    "\n",
    "budgI['saltfluxes']['trWtop'] = -RAC*0\n",
    "budgI['saltfluxes']['trWbot'] = budgO['saltfluxes']['trWtop'][0,:,:]  # surface because ice\n",
    "\n",
    "budgO['saltfluxes']['zconv'] = budgO['saltfluxes']['trWtop'] - budgO['saltfluxes']['trWbot']\n",
    "budgO['saltzconv'] = RAC * budgO['saltzconv']   # g/s\n",
    "budgI['saltzconv'] = RAC * budgI['saltzconv']   # g/s\n",
    "budgOI['saltzconv'] = budgO['saltzconv'] + budgI['saltzconv']"
   ]
  },
  {
   "cell_type": "code",
   "execution_count": 24,
   "id": "3a70c7fc-52f7-4b84-9d87-140721c5e5df",
   "metadata": {},
   "outputs": [],
   "source": [
    "# do vertical convergence for ADV and DF terms\n",
    "tmpadv = np.full((nz,ny,nx),np.nan)\n",
    "tmpadv[:-1,:,:] = (trWtopADV[:-1] - trWtopADV[1:])              # for surface thru seafloor\n",
    "\n",
    "Sconv = budgO['saltfluxes']['ADV_hconv'] + tmpadv\n",
    "budgO['saltfluxes']['ADV_Sconv'] = Sconv             # g/s, this is the advective arrow of S for a cell"
   ]
  },
  {
   "cell_type": "code",
   "execution_count": 25,
   "id": "bc6c6345-b734-4b36-920e-9a68b25141a2",
   "metadata": {},
   "outputs": [],
   "source": [
    "# do vertical convergence for ADV and DF terms\n",
    "tmpdf = np.full((nz,ny,nx),np.nan)\n",
    "tmpdf[:-1,:,:] = (trWtopDF[:-1] - trWtopDF[1:])              # for surface thru seafloor\n",
    "\n",
    "dfSconv = budgO['saltfluxes']['DF_hconv'] + tmpdf\n",
    "budgO['saltfluxes']['DF_Sconv'] = dfSconv             # g/s, this is the diffusive arrow of T for a cell"
   ]
  },
  {
   "cell_type": "code",
   "execution_count": 26,
   "id": "174842bb-7540-49ea-998e-2fccd4f01021",
   "metadata": {},
   "outputs": [],
   "source": [
    "tmpkpp = np.full((nz,ny,nx),np.nan)\n",
    "tmpkpp[:-1,:,:] = trWtopKPP[:-1] - trWtopKPP[1:]\n",
    "budgO['saltfluxes']['KPP_Sconv'] = tmpkpp        # no horizontal component for this"
   ]
  },
  {
   "cell_type": "markdown",
   "id": "73eb6a83-9ea6-40c3-8f98-c000e8dbc3c9",
   "metadata": {},
   "source": [
    "### show salt is budgeted"
   ]
  },
  {
   "cell_type": "code",
   "execution_count": 27,
   "id": "f05df12d-ed50-4a1f-a83c-8822315f1791",
   "metadata": {},
   "outputs": [],
   "source": [
    "# pick one point from face 3 and one point from face 1\n",
    "pt = np.array([[10,500,4],       # this is organized as x,y,z\n",
    "               [220,445,10]])\n",
    "\n",
    "pt = np.array([[10,500,4],       # this is organized as x,y,z\n",
    "               [100,600,10]])\n",
    "\n",
    "# 0 540 50\n",
    "pt = np.array([[50,540,4],       # this is organized as x,y,z\n",
    "               [100,600,10]])\n",
    "\n",
    "y,x = 540,50\n",
    "\n",
    "pt = np.array([[50,540,0],\n",
    "               [25,500,0]])      # first is an extreme point, second is a more \"normal\" or midrange point for 03/2014"
   ]
  },
  {
   "cell_type": "code",
   "execution_count": 28,
   "id": "37f691f0-14fc-4550-b4af-4f33fe6945ed",
   "metadata": {},
   "outputs": [],
   "source": [
    "# Data variables (as given in your initial code)\n",
    "a = budgO['saltfluxes']['tend']\n",
    "b = budgO['saltfluxes']['ADV_Sconv']\n",
    "c = budgO['saltfluxes']['DF_Sconv']\n",
    "d = budgO['saltfluxes']['KPP_Sconv']\n",
    "e = zconv_top_salt.reshape(1,ny,nx)                 # only at surface, is the surface forcing  ((SFLUX + oceSPflx) * RAC) in g/s\n",
    "f = sptop                                            # oceSPtnd contribution from the ice"
   ]
  },
  {
   "cell_type": "code",
   "execution_count": 29,
   "id": "ff5992ad-8d4a-48dc-a243-f993ed40b439",
   "metadata": {},
   "outputs": [
    {
     "data": {
      "image/png": "[encoded data removed]",
      "text/plain": [
       "<Figure size 950x400 with 2 Axes>"
      ]
     },
     "metadata": {},
     "output_type": "display_data"
    }
   ],
   "source": [
    "# also show the convergence at depth - I will make this a 1 by 2 plot so I can look at things easier\n",
    "\n",
    "plt.figure(figsize=(9.5, 4))\n",
    "\n",
    "aa = np.zeros((nz, 2))\n",
    "plt.suptitle(\"Depth section S conv\")\n",
    "\n",
    "\n",
    "n = 1\n",
    "ix, iy, k = pt[n-1]\n",
    "aa[:, n-1] = a[:, iy, ix] - b[:, iy, ix] - c[:, iy, ix] - d[:, iy, ix]\n",
    "aa[1:, n-1] += (f[1:,iy,ix] - f[:-1,iy,ix])                                  # from the oceSPflx and oceSPtnd\n",
    "aa[0, n-1] += f[0,iy,ix]\n",
    "aa[0, n-1] -= zconv_top_salt[iy, ix]\n",
    "plt.subplot(1, 2, n)\n",
    "plt.plot(aa[:, n-1], -np.arange(1, nz+1), '.-')\n",
    "plt.grid()\n",
    "plt.xlabel(\"Net Salt\")\n",
    "plt.ylabel(\"Model Depth Level\")\n",
    "plt.title(f\"[ix,iy]=[{iy},{ix}]; {100 * np.nanmax(np.abs(aa[:, n-1]))/np.nanmax(np.abs(budgO['saltfluxes']['zconv'][:,iy, ix]))}%\")\n",
    "\n",
    "n = 2\n",
    "ix, iy, k = pt[n-1]\n",
    "aa[:, n-1] = a[:, iy, ix] - b[:, iy, ix] - c[:, iy, ix] - d[:, iy, ix]\n",
    "aa[1:, n-1] += (f[1:,iy,ix] - f[:-1,iy,ix])                                  # from the oceSPflx and oceSPtnd\n",
    "aa[0, n-1] += f[0,iy,ix]\n",
    "aa[0, n-1] -= zconv_top_salt[iy, ix]\n",
    "\n",
    "plt.subplot(1, 2, n)\n",
    "plt.plot(aa[:, n-1], -np.arange(1, nz+1), '.-')\n",
    "plt.grid()\n",
    "plt.xlabel(\"Net Salt\")\n",
    "plt.ylabel(\"Model Depth Level\")\n",
    "plt.title(f\"[ix,iy]=[{iy},{ix}]; {100 * np.nanmax(np.abs(aa[:, n-1]))/np.nanmax(np.abs(budgO['saltfluxes']['zconv'][:,iy, ix]))}%\")\n",
    "    \n",
    "        \n",
    "plt.tight_layout()\n",
    "plt.show()"
   ]
  },
  {
   "cell_type": "markdown",
   "id": "d4b709c8-1be7-40d8-8bde-a8790b9bf718",
   "metadata": {},
   "source": [
    "# we want to derive a fraction for salt as we have done for temperature"
   ]
  },
  {
   "cell_type": "code",
   "execution_count": 32,
   "id": "1eb708fa-60dc-4206-9d8b-a9492c5db3c1",
   "metadata": {},
   "outputs": [
    {
     "data": {
      "text/plain": [
       "array([ 3.18692128e+04,  3.18687843e+04,  3.18658679e+04,  3.18550730e+04,\n",
       "        3.18260333e+04,  3.17617478e+04,  3.16369225e+04,  3.14160285e+04,\n",
       "        3.10512439e+04,  3.04766424e+04,  2.95952370e+04,  2.82440131e+04,\n",
       "        2.61106565e+04,  2.25578566e+04,  1.62125386e+04,  4.03243615e+03,\n",
       "       -5.57294984e-12, -5.57294984e-12, -5.57294984e-12, -5.57294984e-12,\n",
       "       -5.57294984e-12, -5.57294984e-12, -5.57294984e-12, -5.57294984e-12,\n",
       "       -5.57294984e-12, -5.57294984e-12, -5.57294984e-12, -5.57294984e-12,\n",
       "       -5.57294984e-12, -5.57294984e-12, -5.57294984e-12, -5.57294984e-12,\n",
       "       -5.57294984e-12, -5.57294984e-12, -5.57294984e-12, -5.57294984e-12,\n",
       "       -5.57294984e-12, -5.57294984e-12, -5.57294984e-12, -5.57294984e-12,\n",
       "       -5.57294984e-12, -5.57294984e-12, -5.57294984e-12, -5.57294984e-12,\n",
       "       -5.57294984e-12, -5.57294984e-12, -5.57294984e-12, -5.57294984e-12,\n",
       "       -5.57294984e-12, -5.57294984e-12])"
      ]
     },
     "execution_count": 32,
     "metadata": {},
     "output_type": "execute_result"
    }
   ],
   "source": [
    "ix, iy, k = pt[0]\n",
    "\n",
    "sptop[:,iy,ix]"
   ]
  },
  {
   "cell_type": "code",
   "execution_count": 43,
   "id": "5cec056c-ddb1-480d-ad82-539d58144521",
   "metadata": {},
   "outputs": [
    {
     "data": {
      "text/plain": [
       "array([1.55001775e-04, 3.97905713e-05, 2.04290122e-05, 1.04886046e-05,\n",
       "       5.38502915e-06, 2.76476615e-06, 1.41947827e-06, 7.28784445e-07,\n",
       "       3.73921046e-07, 1.91593895e-07, 9.76488619e-08, 4.90763870e-08,\n",
       "       2.38880421e-08, 1.09067079e-08, 4.45804949e-09, 0.00000000e+00,\n",
       "       0.00000000e+00, 0.00000000e+00, 0.00000000e+00, 0.00000000e+00,\n",
       "       0.00000000e+00, 0.00000000e+00, 0.00000000e+00, 0.00000000e+00,\n",
       "       0.00000000e+00, 0.00000000e+00, 0.00000000e+00, 0.00000000e+00,\n",
       "       0.00000000e+00, 0.00000000e+00, 0.00000000e+00, 0.00000000e+00,\n",
       "       0.00000000e+00, 0.00000000e+00, 0.00000000e+00, 0.00000000e+00,\n",
       "       0.00000000e+00, 0.00000000e+00, 0.00000000e+00, 0.00000000e+00,\n",
       "       0.00000000e+00, 0.00000000e+00, 0.00000000e+00, 0.00000000e+00,\n",
       "       0.00000000e+00, 0.00000000e+00, 0.00000000e+00, 0.00000000e+00,\n",
       "       0.00000000e+00, 0.00000000e+00])"
      ]
     },
     "execution_count": 43,
     "metadata": {},
     "output_type": "execute_result"
    }
   ],
   "source": [
    "dd = mygrid['RF'][:-1]  # Depth of the cell faces (ignore the last one)\n",
    "\n",
    "# Define spfrac using a similar approach as swfrac, but customized for salinity\n",
    "spfrac = 0.5 * np.exp(dd / 0.8) + 0.5 * np.exp(dd / 15)  # Adjust these parameters as needed\n",
    "spfrac[dd < -150] = 0  # Set a depth threshold if necessary\n",
    "\n",
    "# Calculate sptop without cumsum using spfrac\n",
    "sptoptest = mk3D_mod(spfrac, trWtop) * mk3D_mod(oceSPflx, trWtop)  # g/s\n",
    "sptoptest[:,iy,ix]"
   ]
  },
  {
   "cell_type": "code",
   "execution_count": 44,
   "id": "ed811f79-428f-4044-b1be-e33f0d0b0cfc",
   "metadata": {},
   "outputs": [],
   "source": [
    "from scipy.optimize import curve_fit\n",
    "\n",
    "def spfrac_func(dd, a1, b1, a2, b2):\n",
    "    return a1 * np.exp(dd / b1) + a2 * np.exp(dd / b2)\n",
    "\n",
    "popt, _ = curve_fit(spfrac_func, depth, sptop_original.mean(axis=(1, 2)))\n",
    "spfrac = spfrac_func(depth, *popt)\n"
   ]
  },
  {
   "cell_type": "code",
   "execution_count": 48,
   "id": "2a91af06-9795-4809-beac-92655362e13d",
   "metadata": {},
   "outputs": [
    {
     "data": {
      "text/plain": [
       "array([1.00000000e+000, 2.30481687e-001, 1.39794188e-001, 8.47894609e-002,\n",
       "       5.14274076e-002, 3.11922995e-002, 1.89190860e-002, 1.14750057e-002,\n",
       "       6.95646368e-003, 4.21298428e-003, 2.54128854e-003, 1.51690375e-003,\n",
       "       8.83973011e-004, 4.90991360e-004, 2.50993372e-004, 1.12553260e-004,\n",
       "       4.17803666e-005, 1.20603900e-005, 2.54702633e-006, 3.73038567e-007,\n",
       "       3.64769958e-008, 2.33189633e-009, 9.74595178e-011, 2.71947022e-012,\n",
       "       5.26250567e-014, 7.45047256e-016, 8.20257105e-018, 7.47540153e-020,\n",
       "       5.97621856e-022, 4.39495901e-024, 3.07445728e-026, 2.07051750e-028,\n",
       "       1.30534681e-030, 7.00219760e-033, 2.67752866e-035, 5.76122144e-038,\n",
       "       5.49811214e-041, 1.94480179e-044, 2.30251139e-048, 8.75325737e-053,\n",
       "       1.05629370e-057, 4.03609174e-063, 4.88313480e-069, 1.87067242e-075,\n",
       "       2.26912342e-082, 8.71524981e-090, 1.05989516e-097, 4.08138271e-106,\n",
       "       4.97637477e-115, 1.92123365e-124])"
      ]
     },
     "execution_count": 48,
     "metadata": {},
     "output_type": "execute_result"
    }
   ],
   "source": [
    "swfrac = 0.62*np.exp(dd/0.6)+(1-0.62)*np.exp(dd/20)\n",
    "swfrac"
   ]
  },
  {
   "cell_type": "code",
   "execution_count": 62,
   "id": "3f466ec9-a099-48fa-9d97-504ca0f01163",
   "metadata": {},
   "outputs": [
    {
     "data": {
      "text/plain": [
       "array([6.72251613e-11, 2.15120516e-09, 1.63357142e-08, 6.88385652e-08,\n",
       "       2.10078629e-07, 5.22742855e-07, 1.12985329e-06, 2.20421120e-06,\n",
       "       3.97840768e-06, 6.77308649e-06, 1.10599617e-05, 1.76318849e-05,\n",
       "       2.80078524e-05, 4.52875403e-05, 7.61491476e-05, 1.35389289e-04,\n",
       "       1.55001775e-04, 1.55001775e-04, 1.55001775e-04, 1.55001775e-04,\n",
       "       1.55001775e-04, 1.55001775e-04, 1.55001775e-04, 1.55001775e-04,\n",
       "       1.55001775e-04, 1.55001775e-04, 1.55001775e-04, 1.55001775e-04,\n",
       "       1.55001775e-04, 1.55001775e-04, 1.55001775e-04, 1.55001775e-04,\n",
       "       1.55001775e-04, 1.55001775e-04, 1.55001775e-04, 1.55001775e-04,\n",
       "       1.55001775e-04, 1.55001775e-04, 1.55001775e-04, 1.55001775e-04,\n",
       "       1.55001775e-04, 1.55001775e-04, 1.55001775e-04, 1.55001775e-04,\n",
       "       1.55001775e-04, 1.55001775e-04, 1.55001775e-04, 1.55001775e-04,\n",
       "       1.55001775e-04, 1.55001775e-04])"
      ]
     },
     "execution_count": 62,
     "metadata": {},
     "output_type": "execute_result"
    }
   ],
   "source": [
    "np.cumsum(oceSPtnd, axis=0)[:,iy,ix]"
   ]
  },
  {
   "cell_type": "code",
   "execution_count": 47,
   "id": "0d83aae5-fbe7-4d00-a371-deaea6324694",
   "metadata": {},
   "outputs": [
    {
     "data": {
      "text/plain": [
       "array([ 3.18692128e+04,  3.18687843e+04,  3.18658679e+04,  3.18550730e+04,\n",
       "        3.18260333e+04,  3.17617478e+04,  3.16369225e+04,  3.14160285e+04,\n",
       "        3.10512439e+04,  3.04766424e+04,  2.95952370e+04,  2.82440131e+04,\n",
       "        2.61106565e+04,  2.25578566e+04,  1.62125386e+04,  4.03243615e+03,\n",
       "       -5.57294984e-12, -5.57294984e-12, -5.57294984e-12, -5.57294984e-12,\n",
       "       -5.57294984e-12, -5.57294984e-12, -5.57294984e-12, -5.57294984e-12,\n",
       "       -5.57294984e-12, -5.57294984e-12, -5.57294984e-12, -5.57294984e-12,\n",
       "       -5.57294984e-12, -5.57294984e-12, -5.57294984e-12, -5.57294984e-12,\n",
       "       -5.57294984e-12, -5.57294984e-12, -5.57294984e-12, -5.57294984e-12,\n",
       "       -5.57294984e-12, -5.57294984e-12, -5.57294984e-12, -5.57294984e-12,\n",
       "       -5.57294984e-12, -5.57294984e-12, -5.57294984e-12, -5.57294984e-12,\n",
       "       -5.57294984e-12, -5.57294984e-12, -5.57294984e-12, -5.57294984e-12,\n",
       "       -5.57294984e-12, -5.57294984e-12])"
      ]
     },
     "execution_count": 47,
     "metadata": {},
     "output_type": "execute_result"
    }
   ],
   "source": [
    "sptop = mk3D_mod(oceSPflx,oceSPtnd) - np.cumsum(oceSPtnd, axis=0)        # we include this in our zconv_top term\n",
    "sptop = sptop * RAC3        # g/s\n",
    "sptop[:,iy,ix]"
   ]
  },
  {
   "cell_type": "code",
   "execution_count": 72,
   "id": "6d2957ff-b690-423c-9f15-de617da49385",
   "metadata": {},
   "outputs": [
    {
     "data": {
      "text/plain": [
       "array([31869.24043892, 31869.32537336, 31869.63431477, 31870.14190894,\n",
       "       31870.72005572, 31871.23182971, 31871.58819725, 31871.7613765 ,\n",
       "       31871.76422828, 31871.64740413, 31871.46652243, 31871.27629371,\n",
       "       31871.11244671, 31870.97101111, 31870.81924982, 31870.59752729,\n",
       "       31869.39509372, 31869.22661706, 31869.22661706, 31869.22661706,\n",
       "       31869.22661706, 31869.22661706, 31869.22661706, 31869.22661706,\n",
       "       31869.22661706, 31869.22661706, 31869.22661706, 31869.22661706,\n",
       "       31869.22661706, 31869.22661706, 31869.22661706, 31869.22661706,\n",
       "       31869.22661706, 31869.22661706, 31869.22661706, 31869.22661706,\n",
       "       31869.22661706, 31869.22661706, 31869.22661706, 31869.22661706,\n",
       "       31869.22661706, 31869.22661706, 31869.22661706, 31869.22661706,\n",
       "       31869.22661706, 31869.22661706, 31869.22661706, 31869.22661706,\n",
       "       31869.22661706, 31869.22661706])"
      ]
     },
     "execution_count": 72,
     "metadata": {},
     "output_type": "execute_result"
    }
   ],
   "source": [
    "spfrac = 0.62*np.exp(dd/0.6) +(1-0.62)*np.exp(dd/20)\n",
    "# print(spfrac)\n",
    "oceSPreplicate = mk3D_mod(spfrac,trWtop) * oceSPtnd\n",
    "sptop = mk3D_mod(oceSPflx,oceSPtnd) + oceSPreplicate\n",
    "sptop = sptop * RAC3        # g/s\n",
    "sptop[:,iy,ix]"
   ]
  },
  {
   "cell_type": "code",
   "execution_count": 67,
   "id": "1f826f47-2a95-43f1-ad3f-8cede511966e",
   "metadata": {},
   "outputs": [
    {
     "data": {
      "text/plain": [
       "array([31869.21279519, 31869.16062069, 31868.99598955, 31868.78833869,\n",
       "       31868.6212826 , 31868.53862088, 31868.54074063, 31868.60346001,\n",
       "       31868.69862054, 31868.80046656, 31868.89345352, 31868.96992378,\n",
       "       31869.02934817, 31869.07662129, 31869.11711737, 31869.15447229,\n",
       "       31869.22024509, 31869.22661706, 31869.22661706, 31869.22661706,\n",
       "       31869.22661706, 31869.22661706, 31869.22661706, 31869.22661706,\n",
       "       31869.22661706, 31869.22661706, 31869.22661706, 31869.22661706,\n",
       "       31869.22661706, 31869.22661706, 31869.22661706, 31869.22661706,\n",
       "       31869.22661706, 31869.22661706, 31869.22661706, 31869.22661706,\n",
       "       31869.22661706, 31869.22661706, 31869.22661706, 31869.22661706,\n",
       "       31869.22661706, 31869.22661706, 31869.22661706, 31869.22661706,\n",
       "       31869.22661706, 31869.22661706, 31869.22661706, 31869.22661706,\n",
       "       31869.22661706, 31869.22661706])"
      ]
     },
     "execution_count": 67,
     "metadata": {},
     "output_type": "execute_result"
    }
   ],
   "source": [
    "# Modify these parameters\n",
    "alpha = 0.7  # Adjusted weight\n",
    "scale1 = 0.5  # Adjusted decay rate for the first exponential term\n",
    "scale2 = 15   # Adjusted decay rate for the second exponential term\n",
    "\n",
    "# Calculate the modified spfrac\n",
    "spfrac = alpha * np.exp(dd / scale1) + (1 - alpha) * np.exp(dd / scale2)\n",
    "oceSPreplicate = mk3D_mod(spfrac, trWtop) * oceSPtnd\n",
    "sptop = mk3D_mod(oceSPflx, oceSPtnd) - oceSPreplicate\n",
    "sptop = sptop * RAC3  # g/s\n",
    "\n",
    "# Test the result at the desired location\n",
    "sptop[:, iy, ix]"
   ]
  },
  {
   "cell_type": "code",
   "execution_count": 56,
   "id": "30ee1413-66d7-4d44-8d23-3a3eb7ec6d45",
   "metadata": {},
   "outputs": [
    {
     "name": "stdout",
     "output_type": "stream",
     "text": [
      "Estimated scale_depth: 1320043.8481063421\n"
     ]
    }
   ],
   "source": [
    "from scipy.optimize import curve_fit\n",
    "import numpy as np\n",
    "\n",
    "# Step 1: Calculate the original sptop using cumsum\n",
    "sptop_original = mk3D_mod(oceSPflx, oceSPtnd) - np.cumsum(oceSPtnd, axis=0)\n",
    "sptop_original = sptop_original * RAC3  # g/s\n",
    "\n",
    "# Step 2: Define depth and calculate the mean sptop profile across x and y dimensions\n",
    "depth = mygrid['RF'][:-1]  # Assuming depth is positive going downward\n",
    "sptop_profile = sptop_original.mean(axis=(1, 2))  # Average over horizontal dimensions\n",
    "\n",
    "# Step 3: Define an exponential function to fit\n",
    "def exp_decay(dd, scale_depth):\n",
    "    return np.exp(dd / scale_depth)\n",
    "\n",
    "# Step 4: Fit the function to the data\n",
    "popt, _ = curve_fit(exp_decay, depth, sptop_profile, p0=100)  # Initial guess for scale_depth\n",
    "\n",
    "# Step 5: Extract the fitted scale_depth\n",
    "scale_depth = popt[0]\n",
    "print(f\"Estimated scale_depth: {scale_depth}\")\n",
    "\n",
    "# Step 6: Calculate spfrac using the estimated scale_depth\n",
    "scale_depth = 13200000\n",
    "spfrac = np.exp(depth / scale_depth)\n",
    "spfrac /= spfrac[0]  # Normalize so that spfrac[0] = 1\n",
    "\n",
    "# Optionally, apply a depth cutoff\n",
    "spfrac[depth < -200] = 0\n",
    "\n",
    "# Step 7: Use spfrac to calculate sptop without cumsum\n",
    "sptop_new = mk3D_mod(spfrac, trWtop) * mk3D_mod(oceSPflx, trWtop)  # g/s"
   ]
  },
  {
   "cell_type": "code",
   "execution_count": 57,
   "id": "1266b300-aa1f-458c-9028-e4dfef1430a0",
   "metadata": {},
   "outputs": [
    {
     "data": {
      "text/plain": [
       "array([0.000155, 0.000155, 0.000155, 0.000155, 0.000155, 0.000155,\n",
       "       0.000155, 0.000155, 0.000155, 0.000155, 0.000155, 0.000155,\n",
       "       0.000155, 0.000155, 0.000155, 0.000155, 0.000155, 0.      ,\n",
       "       0.      , 0.      , 0.      , 0.      , 0.      , 0.      ,\n",
       "       0.      , 0.      , 0.      , 0.      , 0.      , 0.      ,\n",
       "       0.      , 0.      , 0.      , 0.      , 0.      , 0.      ,\n",
       "       0.      , 0.      , 0.      , 0.      , 0.      , 0.      ,\n",
       "       0.      , 0.      , 0.      , 0.      , 0.      , 0.      ,\n",
       "       0.      , 0.      ])"
      ]
     },
     "execution_count": 57,
     "metadata": {},
     "output_type": "execute_result"
    }
   ],
   "source": [
    "sptop_new[:,iy,ix]"
   ]
  },
  {
   "cell_type": "code",
   "execution_count": 51,
   "id": "0e08b102-462d-454d-82a6-4c9cc7eafc54",
   "metadata": {},
   "outputs": [
    {
     "data": {
      "text/plain": [
       "array([ 3.18692128e+04,  3.18687843e+04,  3.18658679e+04,  3.18550730e+04,\n",
       "        3.18260333e+04,  3.17617478e+04,  3.16369225e+04,  3.14160285e+04,\n",
       "        3.10512439e+04,  3.04766424e+04,  2.95952370e+04,  2.82440131e+04,\n",
       "        2.61106565e+04,  2.25578566e+04,  1.62125386e+04,  4.03243615e+03,\n",
       "       -5.57294984e-12, -5.57294984e-12, -5.57294984e-12, -5.57294984e-12,\n",
       "       -5.57294984e-12, -5.57294984e-12, -5.57294984e-12, -5.57294984e-12,\n",
       "       -5.57294984e-12, -5.57294984e-12, -5.57294984e-12, -5.57294984e-12,\n",
       "       -5.57294984e-12, -5.57294984e-12, -5.57294984e-12, -5.57294984e-12,\n",
       "       -5.57294984e-12, -5.57294984e-12, -5.57294984e-12, -5.57294984e-12,\n",
       "       -5.57294984e-12, -5.57294984e-12, -5.57294984e-12, -5.57294984e-12,\n",
       "       -5.57294984e-12, -5.57294984e-12, -5.57294984e-12, -5.57294984e-12,\n",
       "       -5.57294984e-12, -5.57294984e-12, -5.57294984e-12, -5.57294984e-12,\n",
       "       -5.57294984e-12, -5.57294984e-12])"
      ]
     },
     "execution_count": 51,
     "metadata": {},
     "output_type": "execute_result"
    }
   ],
   "source": [
    "sptop_original[:,iy,ix]"
   ]
  },
  {
   "cell_type": "code",
   "execution_count": 58,
   "id": "dbfe4bc1-23d1-4f55-b58e-9c0379642c47",
   "metadata": {},
   "outputs": [
    {
     "data": {
      "text/plain": [
       "-4434156946.911191"
      ]
     },
     "execution_count": 58,
     "metadata": {},
     "output_type": "execute_result"
    }
   ],
   "source": [
    "import numpy as np\n",
    "from scipy.optimize import curve_fit\n",
    "import matplotlib.pyplot as plt\n",
    "\n",
    "# Given sptop data at a specific point (e.g., [:, y, x])\n",
    "sptop_original = np.array([3.18692128e+04, 3.18687843e+04, 3.18658679e+04, 3.18550730e+04,\n",
    "                           3.18260333e+04, 3.17617478e+04, 3.16369225e+04, 3.14160285e+04,\n",
    "                           3.10512439e+04, 3.04766424e+04, 2.95952370e+04, 2.82440131e+04,\n",
    "                           2.61106565e+04, 2.25578566e+04, 1.62125386e+04, 4.03243615e+03,\n",
    "                           -5.57294984e-12, -5.57294984e-12, -5.57294984e-12, -5.57294984e-12,\n",
    "                           -5.57294984e-12, -5.57294984e-12, -5.57294984e-12, -5.57294984e-12,\n",
    "                           -5.57294984e-12, -5.57294984e-12, -5.57294984e-12, -5.57294984e-12,\n",
    "                           -5.57294984e-12, -5.57294984e-12, -5.57294984e-12, -5.57294984e-12,\n",
    "                           -5.57294984e-12, -5.57294984e-12, -5.57294984e-12, -5.57294984e-12,\n",
    "                           -5.57294984e-12, -5.57294984e-12, -5.57294984e-12, -5.57294984e-12,\n",
    "                           -5.57294984e-12, -5.57294984e-12, -5.57294984e-12, -5.57294984e-12,\n",
    "                           -5.57294984e-12, -5.57294984e-12, -5.57294984e-12, -5.57294984e-12,\n",
    "                           -5.57294984e-12, -5.57294984e-12])\n",
    "\n",
    "# Generate a mock depth array (assuming uniform spacing)\n",
    "depth = np.linspace(0, -500, len(sptop_original))  # depth from 0 to -500 meters\n",
    "\n",
    "# Define the exponential decay function for curve fitting\n",
    "def exp_decay(z, A, scale_depth):\n",
    "    return A * np.exp(z / scale_depth)\n",
    "\n",
    "# Perform the curve fitting to find the best parameters A and scale_depth\n",
    "popt, _ = curve_fit(exp_decay, depth, sptop_original, p0=[1, 100])  # Initial guess\n",
    "\n",
    "# Extract the fitted scale_depth\n",
    "A_fit, scale_depth_fit = popt\n",
    "\n",
    "# Generate fitted curve using the estimated parameters\n",
    "fitted_sptop = exp_decay(depth, A_fit, scale_depth_fit)\n",
    "\n",
    "scale_depth_fit\n"
   ]
  },
  {
   "cell_type": "code",
   "execution_count": null,
   "id": "e87ae288-012d-40c2-85ce-0f991cd4832a",
   "metadata": {},
   "outputs": [],
   "source": []
  },
  {
   "cell_type": "code",
   "execution_count": null,
   "id": "243e712d-febb-46c4-a901-37d248015727",
   "metadata": {},
   "outputs": [],
   "source": []
  },
  {
   "cell_type": "code",
   "execution_count": null,
   "id": "263f43c3-3e13-45a1-a611-20d3e4df713d",
   "metadata": {},
   "outputs": [],
   "source": []
  },
  {
   "cell_type": "code",
   "execution_count": null,
   "id": "e5e51853-2d1f-4d8c-8f07-129d78aaba77",
   "metadata": {},
   "outputs": [],
   "source": []
  },
  {
   "cell_type": "code",
   "execution_count": null,
   "id": "d685d5b6-c64d-4a9e-b5a2-503956778061",
   "metadata": {},
   "outputs": [],
   "source": []
  }
 ],
 "metadata": {
  "kernelspec": {
   "display_name": "py38",
   "language": "python",
   "name": "py38"
  },
  "language_info": {
   "codemirror_mode": {
    "name": "ipython",
    "version": 3
   },
   "file_extension": ".py",
   "mimetype": "text/x-python",
   "name": "python",
   "nbconvert_exporter": "python",
   "pygments_lexer": "ipython3",
   "version": "3.8.18"
  }
 },
 "nbformat": 4,
 "nbformat_minor": 5
}
