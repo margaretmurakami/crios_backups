{
 "cells": [
  {
   "cell_type": "markdown",
   "id": "b72f52f5-e4e8-4514-a0c5-49173c7c7e06",
   "metadata": {},
   "source": [
    "# Intro\n",
    "\n",
    "7/26: The purpose of this notebook is to double check that we're calculating the surface terms correctly when we look at advective and diffusive tendencies. This will look at map view and TS view of the Barents Sea at the surface in one month (March) to see if we're doing this thing correctly."
   ]
  },
  {
   "cell_type": "markdown",
   "id": "c851792d-c70b-4db0-86a3-67009b5a1481",
   "metadata": {},
   "source": [
    "# Load the files, set up grid"
   ]
  },
  {
   "cell_type": "code",
   "execution_count": 1,
   "id": "71d320c4-5f5a-4d31-af58-4af6da067f42",
   "metadata": {},
   "outputs": [],
   "source": [
    "import numpy as np\n",
    "import sys\n",
    "import matplotlib.pyplot as plt\n",
    "import xarray as xr\n",
    "import h5py\n",
    "from scipy.io import loadmat\n",
    "import matplotlib as mpl\n",
    "import time\n",
    "import gsw\n",
    "from matplotlib.colors import TwoSlopeNorm\n",
    "\n",
    "import warnings\n",
    "warnings.filterwarnings(\"ignore\")\n",
    "\n",
    "\n",
    "# import existing python files\n",
    "plt.rcParams['figure.figsize'] = (10,4)\n",
    "\n",
    "# add rdmds reading functions to path\n",
    "sys.path.append(\"/home/mmurakami/MITgcm/MITgcm_c68r/MITgcm-checkpoint68r/utils/python/MITgcmutils/MITgcmutils/\") # go to parent dir\n",
    "from mds import *\n",
    "\n",
    "# add the other files\n",
    "sys.path.append(\"/home/mmurakami/crios_backups/an_helper_functions\")\n",
    "from read_binary import *\n",
    "from calc_UV_conv_1face import calc_UV_conv_1face\n",
    "from calc_mskmean_T_mod import calc_mskmean_T_mod\n",
    "from mk3D_mod import mk3D_mod\n",
    "from aste_helper_funcs import *\n",
    "from timing_functions import *           # ts2dte, get_fnames, etc.\n",
    "from binning import *                    # bin_array, create_mesh\n",
    "from plotting_helpers import *           # truncate_colormap"
   ]
  },
  {
   "cell_type": "code",
   "execution_count": 2,
   "id": "da3a9494-b887-4a26-b2a3-7fe4796fbf6e",
   "metadata": {},
   "outputs": [
    {
     "name": "stdout",
     "output_type": "stream",
     "text": [
      "(50,) (50, 1350, 270)\n",
      "hf1 (1350, 270)\n",
      "(1, 1350, 270)\n",
      "LwetC2d 146614\n",
      "LwetC 4833023\n",
      "\n"
     ]
    }
   ],
   "source": [
    "%run /home/mmurakami/crios_backups/ASTE_270/prep_grid.py"
   ]
  },
  {
   "cell_type": "code",
   "execution_count": 3,
   "id": "5cd2f68f-3841-4bdc-a0b6-72d8bb5265a1",
   "metadata": {},
   "outputs": [
    {
     "data": {
      "text/plain": [
       "(50, 1350, 270)"
      ]
     },
     "execution_count": 3,
     "metadata": {},
     "output_type": "execute_result"
    }
   ],
   "source": [
    "RAC3d = np.tile(RAC[np.newaxis,:,:],(nz,1,1))\n",
    "RAC3d.shape"
   ]
  },
  {
   "cell_type": "code",
   "execution_count": 4,
   "id": "0de9fc6f-95c2-44df-87ef-a4f15a9feef4",
   "metadata": {},
   "outputs": [],
   "source": [
    "path = \"/home/mmurakami/crios_backups/ASTE_270/offline_binning/sample_images/\""
   ]
  },
  {
   "cell_type": "code",
   "execution_count": 5,
   "id": "954ddc9d-ba12-4e79-8dfd-4baf52d34f25",
   "metadata": {},
   "outputs": [],
   "source": [
    "klev = 0"
   ]
  },
  {
   "cell_type": "code",
   "execution_count": 6,
   "id": "3dbbec09-f76c-4056-b949-1cbfa47882aa",
   "metadata": {},
   "outputs": [
    {
     "name": "stdout",
     "output_type": "stream",
     "text": [
      "364500\n"
     ]
    }
   ],
   "source": [
    "\n",
    "# read one basin or whole ASTE\n",
    "whole = False\n",
    "if not whole:\n",
    "    iB = 6    # example read from BarentsSea\n",
    "    \n",
    "# mymsk below defines as all Arctic down to Fram Strait and BSO but not GINs Seas\n",
    "mymsk = mskBasin.copy()\n",
    "\n",
    "# Create a boolean mask for elements that are 6 or less\n",
    "# mask = mymsk <7\n",
    "whole = True\n",
    "if whole:\n",
    "    mask = (mymsk < 5) | (mymsk==6) \n",
    "else:\n",
    "    mask = mymsk == 6\n",
    "\n",
    "# Set elements that are greater than 6 to np.nan\n",
    "mymsk[mask] = 1\n",
    "mymsk[~mask] = np.nan\n",
    "\n",
    "test = get_aste_tracer(mymsk,nfx,nfy)[0]\n",
    "test[:,:270] = np.nan\n",
    "mymsk = test\n",
    "\n",
    "mymsk = aste_tracer2compact(mymsk,nfx,nfy)[0]\n",
    "\n",
    "# Get the number of points where mskBasin is 6 or less\n",
    "npoints = np.count_nonzero(mymsk)  # Count the number of True values in the mask\n",
    "print(npoints)"
   ]
  },
  {
   "cell_type": "code",
   "execution_count": 7,
   "id": "ff3caeb8-942c-4c94-a1b0-a02f07e56471",
   "metadata": {},
   "outputs": [],
   "source": [
    "# create an array of the time steps we want to read\n",
    "# use ts2dte to get december 2014\n",
    "# first make an array of filenames\n",
    "dt = 600 # for the MODEL, not for tendency calculations\n",
    "startyr = 2002\n",
    "endyr = 2019\n",
    "\n",
    "m = 0\n",
    "s = 2\n",
    "\n",
    "# all the filenames in the system\n",
    "fnames = get_fnames(dt,startyr,endyr)\n",
    "\n",
    "times = {}\n",
    "# times[\"2014\"] = np.array([1,2,3,4,5,6,7,8,9,10,11,12])\n",
    "times[\"2014\"] = np.array([3,4])     # tend will be calculated from tsteps before and after one month\n",
    "\n",
    "# try a different month to see\n",
    "# times[\"2014\"] = np.array([9,10])     # tend will be calculated from tsteps before and after one month\n",
    "\n",
    "\n",
    "# the filenames we want for 2014\n",
    "tsstr,datetimes = get_tsteps(times,fnames,dt,startyr,1,1)\n",
    "\n",
    "# ocean and ice\n",
    "AB_gT=0\n",
    "AB_gS=0\n",
    "debug = False\n",
    "ffac = 1\n",
    "\n",
    "dt = np.array([])\n",
    "for i in range(1,len(datetimes)):\n",
    "    dt = np.append(dt,(datetimes[i]-datetimes[i-1]).total_seconds())"
   ]
  },
  {
   "cell_type": "markdown",
   "id": "0c201299-e343-4a3c-bd02-5fb0aff46d7b",
   "metadata": {},
   "source": [
    "### note -- these are thetadr and saltdr but are called theta and salt, dthetadt and dsaltdt"
   ]
  },
  {
   "cell_type": "code",
   "execution_count": 8,
   "id": "a476a969-8ec1-4194-8df5-0863f120ad3b",
   "metadata": {},
   "outputs": [],
   "source": [
    "# note: the following works provided that the first 3 terms are definitely there\n",
    "file_name = \"state_3d_set1\"\n",
    "meta_budg2d_zflux_set2 = parsemeta(dirState + file_name + \".\" + tsstr[1] + \".meta\")\n",
    "fldlist = np.array(meta_budg2d_zflux_set2[\"fldList\"])\n",
    "varnames = np.array([\"THETA\",\"SALT\"])\n",
    "recs = np.array([])\n",
    "for var in varnames:\n",
    "    irec = np.where(fldlist == var)\n",
    "    recs = np.append(recs, irec[0][0])\n",
    "THETA,its,meta = rdmds(os.path.join(dirState, file_name),int(tsstr[1]),returnmeta=True,rec=recs[0])\n",
    "SALT,its,meta = rdmds(os.path.join(dirState, file_name),int(tsstr[1]),returnmeta=True,rec=recs[1])"
   ]
  },
  {
   "cell_type": "code",
   "execution_count": 9,
   "id": "cde166fa-44ed-46a4-aef7-995e079daa29",
   "metadata": {},
   "outputs": [],
   "source": [
    "THETA = THETA.reshape(nz,ny,nx)\n",
    "SALT = SALT.reshape(nz,ny,nx)"
   ]
  },
  {
   "cell_type": "code",
   "execution_count": 10,
   "id": "8a00fda7-3fca-4e14-8985-c465153da9f7",
   "metadata": {},
   "outputs": [],
   "source": [
    "# note: the following works provided that the first 3 terms are definitely there\n",
    "file_name = \"state_2d_set1\"\n",
    "meta_budg2d_zflux_set2 = parsemeta(dirState + file_name + \".\" + tsstr[1] + \".meta\")\n",
    "fldlist = np.array(meta_budg2d_zflux_set2[\"fldList\"])\n",
    "varnames = np.array([\"SIheff\",\"SIarea\"])\n",
    "recs = np.array([])\n",
    "for var in varnames:\n",
    "    irec = np.where(fldlist == var)\n",
    "    recs = np.append(recs, irec[0][0])\n",
    "SIheff,its,meta = rdmds(os.path.join(dirState, file_name),int(tsstr[1]),returnmeta=True,rec=recs[0])\n",
    "SIarea,its,meta = rdmds(os.path.join(dirState, file_name),int(tsstr[1]),returnmeta=True,rec=recs[1])\n",
    "\n",
    "SIheff = SIheff.reshape(ny,nx)\n",
    "SIarea = SIarea.reshape(ny,nx)"
   ]
  },
  {
   "cell_type": "code",
   "execution_count": 11,
   "id": "9c5fadfe-618a-40ed-b584-b100828870cb",
   "metadata": {},
   "outputs": [],
   "source": [
    "file_name = \"budg2d_zflux_set2\"\n",
    "meta_budg2d_zflux_set2 = parsemeta(dirIn + file_name + \".\" + tsstr[1] + \".meta\")\n",
    "fldlist = np.array(meta_budg2d_zflux_set2[\"fldList\"])\n",
    "varnames = np.array([\"oceQnet\",\"WTHMASS\",\"SIaaflux\"])\n",
    "recs = np.array([])\n",
    "for var in varnames:\n",
    "    irec = np.where(fldlist == var)\n",
    "    recs = np.append(recs, irec[0][0])\n",
    "oceQnet,its,meta = rdmds(os.path.join(dirIn, file_name),int(tsstr[1]),returnmeta=True,rec=recs[0])\n",
    "WTHMASS,its,meta = rdmds(os.path.join(dirIn, file_name),int(tsstr[1]),returnmeta=True,rec=recs[1])\n",
    "SIaaflux,its,meta = rdmds(os.path.join(dirIn, file_name),int(tsstr[1]),returnmeta=True,rec=recs[2])\n",
    "\n",
    "oceQnet = oceQnet.reshape((ny,nx))\n",
    "WTHMASS = WTHMASS.reshape((ny,nx))\n",
    "SIaaflux = SIaaflux.reshape((ny,nx))"
   ]
  },
  {
   "cell_type": "code",
   "execution_count": 12,
   "id": "f46b0c1a-2254-4b92-98fa-9ab592458c87",
   "metadata": {},
   "outputs": [],
   "source": [
    "file_name = 'budg3d_snap_set2'\n",
    "THETADR = read_field3d(tsstr,nz,ny,nx,file_name,np.array([\"THETADR\"]),mymsk,dirIn)\n",
    "SALTDR = read_field3d(tsstr,nz,ny,nx,file_name,np.array([\"SALTDR\"]),mymsk,dirIn)\n",
    "\n",
    "# divide first two and second two by dt\n",
    "theta = np.full((int(len(tsstr)),nz,ny,nx),np.nan)\n",
    "dthetadt = np.full((int(len(tsstr)-1),nz,ny,nx),np.nan)\n",
    "salt = np.full((int(len(tsstr)),nz,ny,nx),np.nan)\n",
    "dsaltdt = np.full((int(len(tsstr)-1),nz,ny,nx),np.nan)\n",
    "\n",
    "thetadr = np.full((int(len(tsstr)),nz,ny,nx),np.nan)\n",
    "dthetadrdt = np.full((int(len(tsstr)-1),nz,ny,nx),np.nan)\n",
    "saltdr = np.full((int(len(tsstr)),nz,ny,nx),np.nan)\n",
    "dsaltdrdt = np.full((int(len(tsstr)-1),nz,ny,nx),np.nan)\n",
    "\n",
    "for i in range(len(tsstr)):\n",
    "    # with dividing out hFacC grid\n",
    "    theta[i,:,:,:] = THETADR[i,:,:,:]/mygrid['hFacC']/DRF3d\n",
    "    salt[i,:,:,:]  = SALTDR[i,:,:,:]/mygrid['hFacC']/DRF3d\n",
    "\n",
    "    # without dividing out hFacC grid\n",
    "    thetadr[i,:,:,:] = THETADR[i,:,:,:]  #/mygrid['hFacC']\n",
    "    saltdr[i,:,:,:]  = SALTDR[i,:,:,:]  #/mygrid['hFacC']\n",
    "\n",
    "for i in range(len(tsstr)-1):\n",
    "    dthetadt[i,:,:,:] = (THETADR[i,:,:,:]/DRF3d/mygrid['hFacC'] - THETADR[i-1,:,:,:]/DRF3d/mygrid['hFacC'])/dt[i-1]\n",
    "    dsaltdt[i,:,:,:] = (SALTDR[i,:,:,:]/DRF3d/mygrid['hFacC'] - SALTDR[i-1,:,:,:]/DRF3d/mygrid['hFacC'])/dt[i-1]\n",
    "\n",
    "    # keeping the weights in the function\n",
    "    dthetadrdt[i,:,:,:] = (THETADR[i,:,:,:] - THETADR[i-1,:,:,:])/dt[i-1]\n",
    "    dsaltdrdt[i,:,:,:] = (SALTDR[i,:,:,:] - SALTDR[i-1,:,:,:])/dt[i-1]"
   ]
  },
  {
   "cell_type": "code",
   "execution_count": 13,
   "id": "b3857339-6d6b-45ef-acd0-7e33ff859566",
   "metadata": {},
   "outputs": [
    {
     "name": "stdout",
     "output_type": "stream",
     "text": [
      "volume allocation shape (2, 50, 1350, 270)\n",
      "(2, 50, 1350, 270)\n"
     ]
    }
   ],
   "source": [
    "# for mass tendency (m^3/s) - time is not yet included in this block\n",
    "file_name = 'budg2d_snap_set1'\n",
    "\n",
    "# assuming all files are structured the same\n",
    "meta_budg2d_snap_set1 = parsemeta(dirIn + file_name + \".\" + tsstr[0]+ \".meta\")\n",
    "# try to read this with rec\n",
    "fldlist = np.array(meta_budg2d_snap_set1['fldList'])\n",
    "varnames = np.array(['ETAN'])\n",
    "recs = np.array([])\n",
    "for var in varnames:\n",
    "    irec = np.where(fldlist == var)\n",
    "    recs = np.append(recs, irec[0][0])\n",
    "\n",
    "# set for all months\n",
    "vol = np.zeros((len(tsstr),nz, ny, nx))\n",
    "print(\"volume allocation shape\",vol.shape)\n",
    "\n",
    "for t in range(len(tsstr)):\n",
    "    t1 = tsstr[t]\n",
    "    read = [int(t1)]\n",
    "\n",
    "    # make sure order we write the variables is the same as the order in varnames, else we read the wrong thing\n",
    "    ETAN,its,meta = rdmds(os.path.join(dirIn, file_name),read,returnmeta=True,rec=recs[0])\n",
    "\n",
    "    # choose by basin\n",
    "    ETAN = np.reshape(ETAN,(ny,nx))\n",
    "\n",
    "    # ocean\n",
    "    if debug:\n",
    "        print(read,its[0],its[1]) # these iteration numbers should be the same as read\n",
    "\n",
    "    # 3D, with rStar:\n",
    "    tmpvol = np.zeros((nz, ny, nx))\n",
    "    if myparms['useNLFS'] < 2 or myparms['rStar'] == 0:        # not this time\n",
    "        tmpvol[0,:, :] = ETAN * myparms['rhoconst'] * RAC\n",
    "        if myparms['useRFWF'] == 0:\n",
    "            tmpvol[0, :, :] = np.zeros((ny, nx))\n",
    "    else:    # 4/22 look at this one\n",
    "        if myparms['useRFWF'] != 0:                                 # we are using this  # check if tmp1 is the same as drf3d!!\n",
    "            tmp1 = mk3D_mod(mygrid['DRF'],hfC) * hfC     # m\n",
    "            tmp2 = tmp1/mk3D_mod(DD,tmp1)                # drf as a fraction of total depth, this allows us to distribute etan between z\n",
    "        else:\n",
    "            tmp2 = drf3d / mk3D_mod(DD, tmp1)\n",
    "\n",
    "        # this is still wrong, we want to subtract the ETAN anomaly from the existing volumes\n",
    "        tmpvol =  (tmp1 + tmp2*mk3D_mod(ETAN, tmp2)) * mk3D_mod(RAC, hfC) * ffac     # volume, m * m^2  = m^3\n",
    "\n",
    "    vol[t,:,:,:] = tmpvol * np.tile(mymsk, (nz, 1, 1))\n",
    "\n",
    "print(vol.shape)"
   ]
  },
  {
   "cell_type": "code",
   "execution_count": 14,
   "id": "66a57b6c-8c95-410a-8018-919459caa0c0",
   "metadata": {},
   "outputs": [],
   "source": [
    "# first have to get the vector values from U and V\n",
    "file_name = \"budg3d_hflux_set2\"\n",
    "# UVELMASS = read_field3d(tsstr,nz,ny,nx,file_name,np.array(['UVELMASS']),mymsk,dirIn)\n",
    "# VVELMASS = read_field3d(tsstr,nz,ny,nx,file_name,np.array(['VVELMASS']),mymsk,dirIn)\n",
    "ADVx_TH = read_field3d(tsstr,nz,ny,nx,file_name,np.array(['ADVx_TH']),mymsk,dirIn)     # degC m^3/s\n",
    "ADVy_TH = read_field3d(tsstr,nz,ny,nx,file_name,np.array(['ADVy_TH']),mymsk,dirIn)\n",
    "DFxE_TH = read_field3d(tsstr,nz,ny,nx,file_name,np.array(['DFxE_TH']),mymsk,dirIn)\n",
    "DFyE_TH = read_field3d(tsstr,nz,ny,nx,file_name,np.array(['DFyE_TH']),mymsk,dirIn)\n",
    "ADVx_SLT = read_field3d(tsstr,nz,ny,nx,file_name,np.array(['ADVx_SLT']),mymsk,dirIn)   # PSU m^3/s\n",
    "ADVy_SLT = read_field3d(tsstr,nz,ny,nx,file_name,np.array(['ADVy_SLT']),mymsk,dirIn)\n",
    "DFxE_SLT = read_field3d(tsstr,nz,ny,nx,file_name,np.array(['DFxE_SLT']),mymsk,dirIn)\n",
    "DFyE_SLT = read_field3d(tsstr,nz,ny,nx,file_name,np.array(['DFyE_SLT']),mymsk,dirIn)"
   ]
  },
  {
   "cell_type": "code",
   "execution_count": 15,
   "id": "4b9a8cfb-48c3-48bb-be04-df55af21b682",
   "metadata": {},
   "outputs": [],
   "source": [
    "file_name = \"budg3d_zflux_set2\"\n",
    "ADVr_SLT = read_field3d(tsstr,nz,ny,nx,file_name,np.array(['ADVr_SLT']),mymsk,dirIn)\n",
    "ADVr_TH = read_field3d(tsstr,nz,ny,nx,file_name,np.array(['ADVr_TH']),mymsk,dirIn)\n",
    "DFrE_SLT = read_field3d(tsstr,nz,ny,nx,file_name,np.array(['DFrE_SLT']),mymsk,dirIn)\n",
    "DFrE_TH = read_field3d(tsstr,nz,ny,nx,file_name,np.array(['DFrE_TH']),mymsk,dirIn)\n",
    "DFrI_SLT = read_field3d(tsstr,nz,ny,nx,file_name,np.array(['DFrI_SLT']),mymsk,dirIn)\n",
    "DFrI_TH = read_field3d(tsstr,nz,ny,nx,file_name,np.array(['DFrI_TH']),mymsk,dirIn)"
   ]
  },
  {
   "cell_type": "code",
   "execution_count": 16,
   "id": "8af67826-73c3-4158-9897-121e02ecbae7",
   "metadata": {},
   "outputs": [],
   "source": [
    "file_name = \"budg3d_kpptend_set1\"\n",
    "KPPg_TH = read_field3d(tsstr,nz,ny,nx,file_name,np.array(['KPPg_TH']),mymsk,dirIn)\n",
    "KPPg_SLT = read_field3d(tsstr,nz,ny,nx,file_name,np.array(['KPPg_SLT']),mymsk,dirIn)\n",
    "oceSPtnd = read_field3d(tsstr,nz,ny,nx,file_name,np.array(['oceSPtnd']),mymsk,dirIn)"
   ]
  },
  {
   "cell_type": "code",
   "execution_count": 17,
   "id": "1f33b0ca-92b4-43a9-87ce-283064a4fe94",
   "metadata": {},
   "outputs": [],
   "source": [
    "# load the surface heat - to transform we / by rcp [J/(m^3*degC)] and * by RAC [m^2] = degC.m^3/s\n",
    "file_name = 'budg2d_zflux_set1'\n",
    "TFLUX = read_field2d(tsstr,ny,nx,file_name,np.array(['TFLUX']),mymsk,dirIn)            # W/m^2\n",
    "SItflux = read_field2d(tsstr,ny,nx,file_name,np.array(['SItflux']),mymsk,dirIn)        # W/m^2\n",
    "oceQsw = read_field2d(tsstr,ny,nx,file_name,np.array(['oceQsw']),mymsk,dirIn)          # W/m^2\n",
    "SPforcT1=0*np.ones((ny,nx))\n",
    "TRELAX = np.zeros((ny,nx))\n",
    "geothFlux = 0\n",
    "\n",
    "# load the surface terms for salt - to transform we / by rho [m^3/s] and * by RAC [m^2] = PSU.m^3/s\n",
    "file_name = 'budg2d_zflux_set1'\n",
    "SFLUX = read_field2d(tsstr,ny,nx,file_name,np.array(['SFLUX']),mymsk,dirIn)            # g/m^2/s\n",
    "oceSPflx = read_field2d(tsstr,ny,nx,file_name,np.array(['oceSPflx']),mymsk,dirIn)      # g/m^2/s\n",
    "file_name = 'budg2d_zflux_set2'\n",
    "oceSflux = read_field2d(tsstr,ny,nx,file_name,np.array(['oceSflux']),mymsk,dirIn)      # g/m^2/s \n",
    "WSLTMASS = read_field2d(tsstr,ny,nx,file_name,np.array(['WSLTMASS']),mymsk,dirIn)      # PSU.m/s"
   ]
  },
  {
   "cell_type": "code",
   "execution_count": 18,
   "id": "5829c886-a5ff-49ed-a046-c9dfd91cbc5e",
   "metadata": {},
   "outputs": [],
   "source": [
    "# SFLUX[1][y,x]"
   ]
  },
  {
   "cell_type": "code",
   "execution_count": 19,
   "id": "cf919080-2914-4643-82af-cf2a70ca646f",
   "metadata": {},
   "outputs": [
    {
     "data": {
      "text/plain": [
       "array(['0000639648', '0000644112'], dtype='<U32')"
      ]
     },
     "execution_count": 19,
     "metadata": {},
     "output_type": "execute_result"
    }
   ],
   "source": [
    "tsstr"
   ]
  },
  {
   "cell_type": "markdown",
   "id": "29d6d2bc-b667-42e2-a7b9-9572ee0c4b48",
   "metadata": {},
   "source": [
    "# Create the TS bins"
   ]
  },
  {
   "cell_type": "code",
   "execution_count": 20,
   "id": "acff70ac-0992-4433-b4c0-5d385d4e165e",
   "metadata": {},
   "outputs": [],
   "source": [
    "# try new T bins where different sizes\n",
    "refined_section = np.linspace(-3,8,93)\n",
    "coarse_section = np.linspace(8,15,21,endpoint=False)\n",
    "binsTH_edges = np.concatenate((refined_section,coarse_section[1:]))\n",
    "binsTH_centers = (binsTH_edges[:-1] + binsTH_edges[1:])/2\n",
    "nT = binsTH_edges.shape[0]-1\n",
    "\n",
    "# do bi-sectional form for S\n",
    "coarse_section = np.linspace(0, 28, 30, endpoint=False)\n",
    "refined_section = np.linspace(28, 40, 83)\n",
    "binsSLT_edges = np.concatenate((coarse_section, refined_section))\n",
    "binsSLT_centers = (binsSLT_edges[:-1] + binsSLT_edges[1:])/2\n",
    "nS = binsSLT_edges.shape[0]-1\n",
    "\n",
    "Tbin,Sbin = np.meshgrid(binsTH_edges,binsSLT_edges)\n",
    "Tbincent,Sbincent = np.meshgrid(binsTH_centers,binsSLT_centers)\n",
    "\n",
    "binwidthT = binsTH_edges[1:] - binsTH_edges[:-1]\n",
    "binwidthS = binsSLT_edges[1:] - binsSLT_edges[:-1]\n",
    "dT,dS = np.meshgrid(binwidthT,binwidthS)\n",
    "dT = dT.reshape(112,112,1)\n",
    "dS = dS.reshape(112,112,1)\n",
    "\n",
    "\n",
    "# create the binned values for theta and salt\n",
    "# we want to bin theta and salt into the T and S bins\n",
    "binned_theta = bin_array(theta,binsTH_edges)\n",
    "binned_theta = binned_theta.astype(float)\n",
    "binned_theta[binned_theta == nT] = np.nan     # because the binning is setting nan to last value\n",
    "binned_salinity = bin_array(salt,binsSLT_edges)\n",
    "binned_salinity = binned_salinity.astype(float)\n",
    "binned_salinity[binned_salinity == nS] = np.nan"
   ]
  },
  {
   "cell_type": "code",
   "execution_count": 21,
   "id": "b1c95b8a-574a-4a07-a443-77fe9e1bdd7c",
   "metadata": {},
   "outputs": [],
   "source": [
    "# df_distr_attr_th = distr_attr_th.copy()\n",
    "# df_distr_attr_slt = distr_attr_slt.copy()"
   ]
  },
  {
   "cell_type": "code",
   "execution_count": 22,
   "id": "470a7c37-727d-4f57-9d1c-d544a2436b5d",
   "metadata": {},
   "outputs": [
    {
     "name": "stdout",
     "output_type": "stream",
     "text": [
      "(1, 50, 1350, 270)\n"
     ]
    }
   ],
   "source": [
    "# do salt tendency\n",
    "# Initialize the new array with the desired shape (2, z, y, x)\n",
    "dSALTDRdt = np.zeros((1, SALTDR.shape[1], SALTDR.shape[2], SALTDR.shape[3]))\n",
    "# Calculate the differences and assign to the new array\n",
    "dSALTDRdt[0] = (SALTDR[1] - SALTDR[0]) / (datetimes[1]-datetimes[0]).total_seconds()\n",
    "# dSALTDRdt[1] = (SALTDR[3] - SALTDR[2])  / (datetimes[3]-datetimes[2]).total_seconds()\n",
    "print(dSALTDRdt.shape)    # PSU.m  / s\n",
    "\n",
    "# now calculate the tendency for the two months times[0], times[2]\n",
    "AB_gS = 0\n",
    "G_S = np.zeros((1, SALTDR.shape[1], SALTDR.shape[2], SALTDR.shape[3]))\n",
    "for i in range(dSALTDRdt.shape[0]):\n",
    "    G_S[i] = (dSALTDRdt[i] - AB_gS) * mk3D_mod(RAC,dSALTDRdt[i])   # PSU.m/s * m^2 = PSU.m^3/s"
   ]
  },
  {
   "cell_type": "code",
   "execution_count": 24,
   "id": "2f55f603-b3b5-4fe3-8ae9-30fc3d897fe3",
   "metadata": {},
   "outputs": [
    {
     "name": "stdout",
     "output_type": "stream",
     "text": [
      "(1, 50, 1350, 270)\n"
     ]
    }
   ],
   "source": [
    "# do heat tendency\n",
    "# Initialize the new array with the desired shape (2, z, y, x)\n",
    "dTHETADRdt = np.zeros((1, THETADR.shape[1], THETADR.shape[2], THETADR.shape[3]))\n",
    "# Calculate the differences and assign to the new array\n",
    "dTHETADRdt[0] = (THETADR[1] - THETADR[0]) / (datetimes[1]-datetimes[0]).total_seconds()\n",
    "# dTHETADRdt[1] = (THETADR[3] - THETADR[2]) / (datetimes[3]-datetimes[2]).total_seconds()\n",
    "print(dTHETADRdt.shape)    # degC.m / s\n",
    "\n",
    "# now calculate the tendency for the two months times[0], times[2]\n",
    "G_T = np.zeros((1, THETADR.shape[1], THETADR.shape[2], THETADR.shape[3]))\n",
    "for i in range(dTHETADRdt.shape[0]):\n",
    "    G_T[i] = (dTHETADRdt[i]-AB_gT)*mk3D_mod(RAC,dTHETADRdt[i])     # degC.m/s * m^2 = degC.m^3/s"
   ]
  },
  {
   "cell_type": "markdown",
   "id": "5ee2e610-edbf-4989-ae24-898ae1d615ea",
   "metadata": {},
   "source": [
    "# Do T convergence for one cell - this is what An will advise"
   ]
  },
  {
   "cell_type": "markdown",
   "id": "49c562fa-01bd-47d9-a65e-c424d0730fe7",
   "metadata": {},
   "source": [
    "# also pick a z cell!!!"
   ]
  },
  {
   "cell_type": "code",
   "execution_count": 25,
   "id": "a58a5f41-a11e-4ca0-836e-da853204d93f",
   "metadata": {},
   "outputs": [],
   "source": [
    "# mygrid['hFacC'][21,y,x]"
   ]
  },
  {
   "cell_type": "code",
   "execution_count": 142,
   "id": "afa7893a-8108-43d0-bf05-c97499e61427",
   "metadata": {},
   "outputs": [],
   "source": [
    "# check a point in the center of the map\n",
    "y = 500\n",
    "x = 25\n",
    "z = 0\n",
    "\n",
    "# at the egde of face 3\n",
    "# y = 500\n",
    "# x = 0\n",
    "\n",
    "# at the edge of face 1\n",
    "# y = 449\n",
    "# x = 170"
   ]
  },
  {
   "cell_type": "code",
   "execution_count": 144,
   "id": "ecb8c5b9-6189-4f3a-b26f-b3c546eee3c5",
   "metadata": {},
   "outputs": [
    {
     "data": {
      "text/plain": [
       "[<matplotlib.lines.Line2D at 0x14ec2a2fc520>]"
      ]
     },
     "execution_count": 144,
     "metadata": {},
     "output_type": "execute_result"
    },
    {
     "data": {
      "image/png": "[encoded data removed]",
      "text/plain": [
       "<Figure size 1000x400 with 1 Axes>"
      ]
     },
     "metadata": {},
     "output_type": "display_data"
    }
   ],
   "source": [
    "# plot for face 3\n",
    "XV,YV = np.meshgrid(np.arange(0,270,1),np.arange(450,720,1))\n",
    "plt.pcolormesh(XV,YV,theta[1][2][450:720,:270])\n",
    "plt.plot(x,y,'o')"
   ]
  },
  {
   "cell_type": "code",
   "execution_count": 145,
   "id": "766c355e-08df-4f1f-abd2-853cc1f3d019",
   "metadata": {},
   "outputs": [],
   "source": [
    "# # plot for face 1\n",
    "# XV,YV = np.meshgrid(np.arange(0,450,1),np.arange(0,270,1))\n",
    "# # plt.pcolormesh(XV,YV,theta[1][0][450:720,:270])\n",
    "# plt.pcolormesh(theta[1][0][:450,:270])\n",
    "# plt.plot(x,y,'o')\n",
    "# plt.xlim(150,270)\n",
    "# plt.ylim(400,450)"
   ]
  },
  {
   "cell_type": "code",
   "execution_count": 146,
   "id": "a6779693-b0c7-4f87-9477-d009e77c8104",
   "metadata": {},
   "outputs": [
    {
     "data": {
      "text/plain": [
       "1.627448558807373"
      ]
     },
     "execution_count": 146,
     "metadata": {},
     "output_type": "execute_result"
    }
   ],
   "source": [
    "THETA[z,y,x]"
   ]
  },
  {
   "cell_type": "code",
   "execution_count": 147,
   "id": "81edeaae-80f4-418c-a59a-b58d4303760b",
   "metadata": {},
   "outputs": [
    {
     "data": {
      "text/plain": [
       "34.803131103515625"
      ]
     },
     "execution_count": 147,
     "metadata": {},
     "output_type": "execute_result"
    }
   ],
   "source": [
    "SALT[z,y,x]"
   ]
  },
  {
   "cell_type": "code",
   "execution_count": 148,
   "id": "ffcf8e95-ac88-405f-9f47-0ee46bc80397",
   "metadata": {},
   "outputs": [
    {
     "name": "stdout",
     "output_type": "stream",
     "text": [
      "0.0 0.0\n"
     ]
    }
   ],
   "source": [
    "print(SIarea[y,x],SIheff[y,x])"
   ]
  },
  {
   "cell_type": "code",
   "execution_count": 149,
   "id": "eb4261fe-1cc0-4b25-a097-e4e9fe678a47",
   "metadata": {},
   "outputs": [
    {
     "data": {
      "text/plain": [
       "(2, 1350, 270)"
      ]
     },
     "execution_count": 149,
     "metadata": {},
     "output_type": "execute_result"
    }
   ],
   "source": [
    "TFLUX.shape"
   ]
  },
  {
   "cell_type": "code",
   "execution_count": 150,
   "id": "2c5d5117-c53c-4583-a93f-1a46663e4ff5",
   "metadata": {},
   "outputs": [
    {
     "name": "stdout",
     "output_type": "stream",
     "text": [
      "-117.69079008170229\n",
      "117.69079008170232\n",
      "53.46127912452661\n"
     ]
    }
   ],
   "source": [
    "print(TFLUX[1][y,x])\n",
    "print(SItflux[1][y,x])\n",
    "print(oceQsw[1][y,x])"
   ]
  },
  {
   "cell_type": "code",
   "execution_count": 151,
   "id": "7331668f-b3e1-428d-b52e-a927626be36c",
   "metadata": {},
   "outputs": [
    {
     "name": "stdout",
     "output_type": "stream",
     "text": [
      "-117.69708771630734\n",
      "-1.5323360661102166e-09\n",
      "0.0\n"
     ]
    }
   ],
   "source": [
    "print(oceQnet[y,x])\n",
    "print(WTHMASS[y,x])\n",
    "print(SIaaflux[y,x])"
   ]
  },
  {
   "cell_type": "code",
   "execution_count": 152,
   "id": "3fce8978-bb63-493d-8bde-a064ddbfa939",
   "metadata": {},
   "outputs": [
    {
     "name": "stdout",
     "output_type": "stream",
     "text": [
      "2977.9222738035805 5817.063552127806\n",
      "3086.6964199512245 -5529.85870168584\n",
      "0.0 -5508.767209934892\n",
      "\n",
      "190.83224234027426 179.3436553833449\n",
      "203.4720272947743 -63.18779340440642\n",
      "0.0 515.5353671940732\n",
      "0.0 3341.3762641706853\n",
      "\n",
      "0.0 1618.791566194125\n",
      "\n"
     ]
    }
   ],
   "source": [
    "print(ADVx_TH[1][z,y,x],ADVx_TH[1][z,y,x+1])\n",
    "print(ADVy_TH[1][z,y,x],ADVy_TH[1][z,y+1,x])\n",
    "print(ADVr_TH[1][z,y,x],ADVr_TH[1][z+1,y,x])           # above and below the cell we converge on\n",
    "\n",
    "print()\n",
    "print(DFxE_TH[1][z,y,x],DFxE_TH[1][z,y,x+1])\n",
    "print(DFyE_TH[1][z,y,x],DFyE_TH[1][z,y+1,x])\n",
    "print(DFrE_TH[1][z,y,x],DFrE_TH[1][z+1,y,x])          # printing around the cell we are converging on\n",
    "print(DFrI_TH[1][z,y,x],DFrI_TH[1][z+1,y,x])          # printing around the cell we are converging on\n",
    "\n",
    "print()\n",
    "print(KPPg_TH[1][z,y,x],KPPg_TH[1][z+1,y,x])\n",
    "\n",
    "print()"
   ]
  },
  {
   "cell_type": "code",
   "execution_count": 153,
   "id": "c538064c-45a6-4575-948b-e2009b65095a",
   "metadata": {},
   "outputs": [],
   "source": [
    "# this needs to be modified so that we do convergence at the borders of the faces\n",
    "def calc_UV_conv_mod(nfx,nfy,tmpUo,tmpVo):\n",
    "\n",
    "    # face 1\n",
    "    tmpUo_p1 = structtype()\n",
    "    tmpUo_p1.f1 = np.full((tmpUo.f1.shape[0],tmpUo.f1.shape[1],tmpUo.f1.shape[2]+1),np.nan)\n",
    "    tmpUo_p1.f1[:,:,:nfx[0]] = tmpUo.f1\n",
    "    \n",
    "    tmpVo_p1 = structtype()\n",
    "    tmpVo_p1.f1 = np.full((tmpVo.f1.shape[0],tmpVo.f1.shape[1]+1,tmpVo.f1.shape[2]),np.nan)\n",
    "    tmpVo_p1.f1[:,:nfy[0],:] = tmpVo.f1\n",
    "\n",
    "    # face 3\n",
    "    tmpUo_p1.f3 = np.full((tmpUo.f3.shape[0],tmpUo.f3.shape[1],tmpUo.f3.shape[2]+1),np.nan)\n",
    "    tmpUo_p1.f3[:,:,:nfx[2]] = tmpUo.f3\n",
    "    \n",
    "    tmpVo_p1.f3 = np.full((tmpVo.f3.shape[0],tmpVo.f3.shape[1]+1,tmpVo.f3.shape[2]),np.nan)\n",
    "    tmpVo_p1.f3[:,:nfy[2],:] = tmpVo.f3\n",
    "\n",
    "    # face 4\n",
    "    tmpUo_p1.f4 = np.full((tmpUo.f4.shape[0],tmpUo.f4.shape[1],tmpUo.f4.shape[2]+1),np.nan)\n",
    "    tmpUo_p1.f4[:,:,:nfx[3]] = tmpUo.f4\n",
    "    \n",
    "    tmpVo_p1.f4 = np.full((tmpVo.f4.shape[0],tmpVo.f4.shape[1]+1,tmpVo.f4.shape[2]),np.nan)\n",
    "    tmpVo_p1.f4[:,:nfy[3],:] = tmpVo.f4\n",
    "\n",
    "    # face 5\n",
    "    tmpUo_p1.f5 = np.full((tmpUo.f5.shape[0],tmpUo.f5.shape[1],tmpUo.f5.shape[2]+1),np.nan)\n",
    "    tmpUo_p1.f5[:,:,:nfx[4]] = tmpUo.f5\n",
    "    \n",
    "    tmpVo_p1.f5 = np.full((tmpVo.f5.shape[0],tmpVo.f5.shape[1]+1,tmpVo.f5.shape[2]),np.nan)\n",
    "    tmpVo_p1.f5[:,:nfy[4],:] = tmpVo.f5\n",
    "\n",
    "\n",
    "    # do the convergence for each face here\n",
    "    convU = structtype()\n",
    "    convV = structtype()\n",
    "    \n",
    "    convU.f1 = np.full((tmpUo.f1.shape[0],tmpUo.f1.shape[1],tmpUo.f1.shape[2]),np.nan)\n",
    "    convU.f1 = tmpUo_p1.f1[:,:,:-1] - tmpUo_p1.f1[:,:,1:]\n",
    "    convV.f1 = np.full((tmpVo.f1.shape[0],tmpVo.f1.shape[1],tmpVo.f1.shape[2]),np.nan)\n",
    "    convV.f1 = tmpVo_p1.f1[:,:-1,:] - tmpVo_p1.f1[:,1:,:]\n",
    "\n",
    "    convU.f3 = np.full((tmpUo.f3.shape[0],tmpUo.f3.shape[1],tmpUo.f3.shape[2]),np.nan)\n",
    "    convU.f3 = tmpUo_p1.f3[:,:,:-1] - tmpUo_p1.f3[:,:,1:]\n",
    "    convV.f3 = np.full((tmpVo.f3.shape[0],tmpVo.f3.shape[1],tmpVo.f3.shape[2]),np.nan)\n",
    "    convV.f3 = tmpVo_p1.f3[:,:-1,:] - tmpVo_p1.f3[:,1:,:]\n",
    "\n",
    "    convU.f4 = np.full((tmpUo.f4.shape[0],tmpUo.f4.shape[1],tmpUo.f4.shape[2]),np.nan)\n",
    "    convU.f4 = tmpUo_p1.f4[:,:,:-1] - tmpUo_p1.f4[:,:,1:]\n",
    "    convV.f4 = np.full((tmpVo.f4.shape[0],tmpVo.f4.shape[1],tmpVo.f4.shape[2]),np.nan)\n",
    "    convV.f4 = tmpVo_p1.f4[:,:-1,:] - tmpVo_p1.f4[:,1:,:]\n",
    "\n",
    "    convU.f5 = np.full((tmpUo.f5.shape[0],tmpUo.f5.shape[1],tmpUo.f5.shape[2]),np.nan)\n",
    "    convU.f5 = tmpUo_p1.f5[:,:,:-1] - tmpUo_p1.f5[:,:,1:]\n",
    "    convV.f5 = np.full((tmpVo.f5.shape[0],tmpVo.f5.shape[1],tmpVo.f5.shape[2]),np.nan)\n",
    "    convV.f5 = tmpVo_p1.f5[:,:-1,:] - tmpVo_p1.f5[:,1:,:]\n",
    "\n",
    "    # add the convergence between the two faces\n",
    "    convV.f1[:,-1,:] = tmpVo.f1[:,-1,:] - np.fliplr(tmpUo.f3[:,:,0])\n",
    "    convU.f3[:,:,-1] = tmpUo.f3[:,:,-1] - tmpUo.f4[:,:,0]\n",
    "    convV.f5[:,-1,:] = tmpVo.f5[:,-1,:] - np.fliplr(tmpUo.f1[:,:,0])\n",
    "\n",
    "    # return to compact form\n",
    "    convU_compact = aste_faces2compact(convU,nfx,nfy)\n",
    "    convV_compact = aste_faces2compact(convV,nfx,nfy)\n",
    "    \n",
    "    return(convU_compact+convV_compact)"
   ]
  },
  {
   "cell_type": "code",
   "execution_count": 154,
   "id": "32dcd9ed-fc35-4bbe-a07e-62de133cda4f",
   "metadata": {},
   "outputs": [],
   "source": [
    "tmpUo = get_aste_faces(ADVx_TH[1],nfx,nfy)\n",
    "tmpVo = get_aste_faces(ADVy_TH[1],nfx,nfy)\n",
    "ADV_THhconv = calc_UV_conv_mod(nfx,nfy,tmpUo,tmpVo) * myparms['rcp']   # degC.m^3/s * J/m^3degC = J/s\n",
    "\n",
    "tmpUo = get_aste_faces(DFxE_TH[1],nfx,nfy)\n",
    "tmpVo = get_aste_faces(DFyE_TH[1],nfx,nfy)\n",
    "DFE_THhconv = calc_UV_conv_mod(nfx,nfy,tmpUo,tmpVo) * myparms['rcp']"
   ]
  },
  {
   "cell_type": "code",
   "execution_count": 155,
   "id": "5cfd93dc-05b3-46a7-8825-c1444cdb1ac1",
   "metadata": {},
   "outputs": [
    {
     "name": "stdout",
     "output_type": "stream",
     "text": [
      "23744165626.00703\n",
      "1143141557.64368\n"
     ]
    }
   ],
   "source": [
    "print(ADV_THhconv[z,y,x])\n",
    "print(DFE_THhconv[z,y,x])"
   ]
  },
  {
   "cell_type": "code",
   "execution_count": 156,
   "id": "67044ade-05a8-450b-9b30-e0eeb7f370ba",
   "metadata": {},
   "outputs": [
    {
     "data": {
      "text/plain": [
       "192366447.46567982"
      ]
     },
     "execution_count": 156,
     "metadata": {},
     "output_type": "execute_result"
    }
   ],
   "source": [
    "RAC3d[z,y,x]"
   ]
  },
  {
   "cell_type": "code",
   "execution_count": 157,
   "id": "4a33653b-8619-4e82-9c0b-5a6987d2929f",
   "metadata": {},
   "outputs": [
    {
     "data": {
      "text/plain": [
       "4109826"
      ]
     },
     "execution_count": 157,
     "metadata": {},
     "output_type": "execute_result"
    }
   ],
   "source": [
    "myparms['rcp']"
   ]
  },
  {
   "cell_type": "code",
   "execution_count": 158,
   "id": "cb23aa9e-294c-4efe-90d1-8850c370624b",
   "metadata": {},
   "outputs": [
    {
     "name": "stdout",
     "output_type": "stream",
     "text": [
      "0.0 -5508.767209934892\n",
      "\n",
      "0.0 515.5353671940732\n",
      "0.0 3341.3762641706853\n",
      "\n",
      "0.0 1618.791566194125\n",
      "\n"
     ]
    }
   ],
   "source": [
    "# for surface convergence\n",
    "print(ADVr_TH[1][z,y,x],ADVr_TH[1][z+1,y,x])\n",
    "\n",
    "print()\n",
    "print(DFrE_TH[1][z,y,x],DFrE_TH[1][z+1,y,x])\n",
    "print(DFrI_TH[1][z,y,x],DFrI_TH[1][z+1,y,x])\n",
    "\n",
    "print()\n",
    "print(KPPg_TH[1][z,y,x],KPPg_TH[1][z+1,y,x])\n",
    "\n",
    "print()\n",
    "\n",
    "\n",
    "# trWtop = -(ADVr_TH[1]+DFrE_TH[1]+DFrI_TH[1]+KPPg_TH[1])*myparms['rcp']   #  degC.m^3/s * J/m^3degC = J/s\n",
    "trWtopADV = -(ADVr_TH[1])*myparms['rcp']   #  degC.m^3/s * J/m^3degC = J/s\n",
    "trWtopDF = -(DFrE_TH[1]+DFrI_TH[1])*myparms['rcp']   #  degC.m^3/s * J/m^3degC = J/s\n",
    "trWtopKPP = -(KPPg_TH[1])*myparms['rcp']   #  degC.m^3/s * J/m^3degC = J/s\n",
    "trWtop = trWtopADV + trWtopDF + trWtopKPP\n",
    "\n",
    "# print(trWtop[0,y,x],trWtop[1,y,x])"
   ]
  },
  {
   "cell_type": "code",
   "execution_count": 159,
   "id": "73b0f125-3f8d-4b78-a6fc-cf4e9de6f7a2",
   "metadata": {},
   "outputs": [
    {
     "name": "stdout",
     "output_type": "stream",
     "text": [
      "-22640074707.33788\n"
     ]
    }
   ],
   "source": [
    "print(trWtopADV[z,y,x] - trWtopADV[z+1,y,x])    # this is the z convergence"
   ]
  },
  {
   "cell_type": "code",
   "execution_count": 160,
   "id": "649582f8-287b-4f74-a607-73ef36017a64",
   "metadata": {},
   "outputs": [
    {
     "name": "stdout",
     "output_type": "stream",
     "text": [
      "-0.0 135887337.72724438\n"
     ]
    }
   ],
   "source": [
    "print(trWtop[z,y,x],trWtop[z+1,y,x])"
   ]
  },
  {
   "cell_type": "code",
   "execution_count": 161,
   "id": "21f177bb-0faa-411b-9b52-4b36389f2ee4",
   "metadata": {},
   "outputs": [],
   "source": [
    "# this is An's comment about swapping out the top layer\n",
    "zconv_top = TFLUX[1] * RAC      # W/m^2 * RAC"
   ]
  },
  {
   "cell_type": "code",
   "execution_count": 162,
   "id": "d80409e7-9f82-4a38-a549-ef13cedd1967",
   "metadata": {},
   "outputs": [
    {
     "name": "stdout",
     "output_type": "stream",
     "text": [
      "10284156342.156294 2370309698.101918\n",
      "-0.0 135887337.72724438\n",
      "10284156342.156294 2506197035.8291626\n"
     ]
    }
   ],
   "source": [
    "dd = mygrid['RF'][:-1]\n",
    "swfrac = 0.62*np.exp(dd/0.6)+(1-0.62)*np.exp(dd/20)\n",
    "swfrac[dd < -200] = 0\n",
    "\n",
    "trWtop_swtop= np.tile(swfrac[:,np.newaxis,np.newaxis],(1,ny,nx))  * RAC3d * np.tile(oceQsw[1][np.newaxis,:,:],(nz,1,1))   # W/m^2 * m^2\n",
    "mskC=mygrid['mskC']\n",
    "\n",
    "\n",
    "trWtop_swtop[np.isnan(mskC)]=0\n",
    "\n",
    "print(trWtop_swtop[z,y,x],trWtop_swtop[z+1,y,x])\n",
    "\n",
    "print(trWtop[z,y,x],trWtop[z+1,y,x])\n",
    "\n",
    "\n",
    "trWtop=trWtop+trWtop_swtop  # 323\n",
    "\n",
    "print(trWtop[z,y,x],trWtop[z+1,y,x])\n",
    "\n",
    "\n",
    "trWtop[0,:,:] = zconv_top.reshape(1,ny,nx)\n",
    "trWbot = np.zeros_like(trWtop)\n",
    "trWbot[:-1,:,:]=trWtop[1:,:,:]"
   ]
  },
  {
   "cell_type": "code",
   "execution_count": 163,
   "id": "d9182df9-e8db-4bfd-9964-9e8271c50e22",
   "metadata": {},
   "outputs": [
    {
     "name": "stdout",
     "output_type": "stream",
     "text": [
      "-22639759187.446136 2506197035.8291626\n",
      "2506197035.8291626\n"
     ]
    }
   ],
   "source": [
    "print(trWtop[z,y,x],trWtop[z+1,y,x])\n",
    "print(trWbot[z,y,x])                        # this should match the trWtop value"
   ]
  },
  {
   "cell_type": "code",
   "execution_count": 164,
   "id": "d86aa2fd-a36b-4d6a-8c1f-47424f65aee3",
   "metadata": {},
   "outputs": [
    {
     "name": "stdout",
     "output_type": "stream",
     "text": [
      "23744165626.00703\n",
      "1143141557.64368\n"
     ]
    }
   ],
   "source": [
    "print(ADV_THhconv[z,y,x])\n",
    "print(DFE_THhconv[z,y,x])"
   ]
  },
  {
   "cell_type": "code",
   "execution_count": 165,
   "id": "760905fa-bb0f-429c-af1f-2dfb7833dd32",
   "metadata": {},
   "outputs": [],
   "source": [
    "Ttend = G_T * myparms['rcp']     # degC.m^3/s   *   (kg/m^3  *   J/degC/kg = J/m^3.degC) = J/s"
   ]
  },
  {
   "cell_type": "markdown",
   "id": "3aaf046d-d004-4bea-b900-256474c23745",
   "metadata": {},
   "source": [
    "# double check this hFacC thing\n",
    "In the labsea example we also divide by RACgp for the 2d example, but not for 3d, double check if this works"
   ]
  },
  {
   "cell_type": "code",
   "execution_count": 166,
   "id": "1b4e3e22-68b1-4353-a0e0-e38651381530",
   "metadata": {},
   "outputs": [],
   "source": [
    "hfC = mygrid['hFacC']\n",
    "\n",
    "hfC[hfC == 0] = np.nan\n",
    "hfC1 = hfC[0, :, :]\n",
    "hfC1[hfC1 == 0] = np.nan\n",
    "\n",
    "RACg = RAC * hfC1\n",
    "hfC1p = np.copy(hfC1)\n",
    "\n",
    "hfC1p[:, nx-1] = np.nan\n",
    "hfC1p[ny-1,:] = np.nan                  # this is used for the 2d case\n",
    "\n",
    "# in the labsea code we nptile this for all layers and multiply\n",
    "hfC1ptile = np.tile(hfC1p[np.newaxis,:, :], (nz, 1, 1))"
   ]
  },
  {
   "cell_type": "code",
   "execution_count": 167,
   "id": "e521e2b7-39e8-403f-bcef-b7efc93fe7a1",
   "metadata": {},
   "outputs": [
    {
     "data": {
      "text/plain": [
       "1.0"
      ]
     },
     "execution_count": 167,
     "metadata": {},
     "output_type": "execute_result"
    }
   ],
   "source": [
    "myhfc = hfC1ptile[z,y,x]\n",
    "myhfc = mygrid['hFacC'][z+1,y,x]\n",
    "\n",
    "myhfc"
   ]
  },
  {
   "cell_type": "markdown",
   "id": "ec639ec3-cda9-4a86-ab2b-5db84e245e96",
   "metadata": {},
   "source": [
    "# now do the convergence"
   ]
  },
  {
   "cell_type": "code",
   "execution_count": 168,
   "id": "55babc00-f1c8-4fa9-b05f-401d1f378a0e",
   "metadata": {},
   "outputs": [
    {
     "name": "stdout",
     "output_type": "stream",
     "text": [
      "-25145956223.2753 -258649039.62454134 23744165626.00703 1143141557.64368\n",
      "total convergence or tend-zconv-hconvADV-hconvDF= 4.6253204345703125e-05 J/s\n"
     ]
    }
   ],
   "source": [
    "# tsstr\n",
    "Tzconv = trWtop[z,y,x] - trWbot[z,y,x]\n",
    "Ttendp = Ttend[0][z,y,x]\n",
    "ThconvADV = ADV_THhconv[z,y,x]\n",
    "ThconvDF = DFE_THhconv[z,y,x]\n",
    "\n",
    "print(Tzconv,Ttendp,ThconvADV,ThconvDF)\n",
    "total_conv = (Ttendp - Tzconv - ThconvADV - ThconvDF)                          # this is proving we are budgeted for this cell\n",
    "print(\"total convergence or tend-zconv-hconvADV-hconvDF=\",total_conv,\"J/s\")    # not sure if this is budgeted"
   ]
  },
  {
   "cell_type": "code",
   "execution_count": 169,
   "id": "4c974ba1-1904-4441-98aa-d7e09fcdc95a",
   "metadata": {},
   "outputs": [
    {
     "data": {
      "text/plain": [
       "(50, 1350, 270)"
      ]
     },
     "execution_count": 169,
     "metadata": {},
     "output_type": "execute_result"
    }
   ],
   "source": [
    "trWtopADV.shape"
   ]
  },
  {
   "cell_type": "code",
   "execution_count": 170,
   "id": "7648ac6c-5a52-45b7-8717-9fa0d4a09d67",
   "metadata": {},
   "outputs": [
    {
     "name": "stdout",
     "output_type": "stream",
     "text": [
      "23744165626.00703 -22640074707.33788\n"
     ]
    },
    {
     "data": {
      "text/plain": [
       "1104090918.6691513"
      ]
     },
     "execution_count": 170,
     "metadata": {},
     "output_type": "execute_result"
    }
   ],
   "source": [
    "# THIS IS STILL LIKELY WRONG AT THE SEAFLOOR - check hfc1\n",
    "tmpadv = np.full((nz,ny,nx),np.nan)\n",
    "tmpadv[:-1,:,:] = (trWtopADV[:-1] - trWtopADV[1:])              # for surface thru seafloor\n",
    "tmpadv[-1,:,:] = -trWtopADV[-1,:,:] #* mygrid['hFacC'][-1]       # for seafloor there will be no motion through the bottom layer\n",
    "#* mygrid['hFacC']\n",
    "\n",
    "print(ThconvADV,tmpadv[z,y,x])\n",
    "\n",
    "Tconv = ThconvADV + tmpadv[z,y,x]        # this is adding the advective convergence for ADV and the ADV component of the z conv\n",
    "Tconv     # this is the advective arrow in T for this grid cell"
   ]
  },
  {
   "cell_type": "code",
   "execution_count": 171,
   "id": "9ea7704e-e68e-4ab9-b226-a87b50d9be3e",
   "metadata": {},
   "outputs": [
    {
     "name": "stdout",
     "output_type": "stream",
     "text": [
      "1143141557.64368 15851235702.2853\n"
     ]
    },
    {
     "data": {
      "text/plain": [
       "16994377259.92898"
      ]
     },
     "execution_count": 171,
     "metadata": {},
     "output_type": "execute_result"
    }
   ],
   "source": [
    "# this will also be wrong at the seafloor\n",
    "tmpdf = np.full((nz,ny,nx),np.nan)\n",
    "tmpdf[:-1,:,:] = trWtopDF[:-1] - trWtopDF[1:]\n",
    "tmpdf[-1,:,:] = -trWtopDF[-1,:,:] #* mygrid['hFacC'][-1]\n",
    "\n",
    "print(ThconvDF,tmpdf[z,y,x])\n",
    "dfTconv = ThconvDF + tmpdf[z,y,x]\n",
    "dfTconv"
   ]
  },
  {
   "cell_type": "code",
   "execution_count": 172,
   "id": "7ab69640-e40c-4345-9685-04a8ab9984d1",
   "metadata": {},
   "outputs": [
    {
     "data": {
      "text/plain": [
       "6652951667.3253355"
      ]
     },
     "execution_count": 172,
     "metadata": {},
     "output_type": "execute_result"
    }
   ],
   "source": [
    "tmpkpp = np.full((nz,ny,nx),np.nan)\n",
    "# tmpkpp[:-1,:,:] = trWtopKPP[1:] - trWtopKPP[:-1]\n",
    "tmpkpp[:-1,:,:] = trWtopKPP[:-1] - trWtopKPP[1:]\n",
    "\n",
    "tmpkpp[z,y,x]"
   ]
  },
  {
   "cell_type": "code",
   "execution_count": 173,
   "id": "cf0fb2c8-e231-4405-97ea-5163554d0205",
   "metadata": {},
   "outputs": [
    {
     "data": {
      "text/plain": [
       "-22639759187.446136"
      ]
     },
     "execution_count": 173,
     "metadata": {},
     "output_type": "execute_result"
    }
   ],
   "source": [
    "zconv_top[y,x]   # this is from tflux but check in J/s "
   ]
  },
  {
   "cell_type": "code",
   "execution_count": 174,
   "id": "2fb4f962-3325-4802-80c6-c2f559eb2a8d",
   "metadata": {},
   "outputs": [
    {
     "data": {
      "text/plain": [
       "(50, 1350, 270)"
      ]
     },
     "execution_count": 174,
     "metadata": {},
     "output_type": "execute_result"
    }
   ],
   "source": [
    "trWtop_swtop.shape"
   ]
  },
  {
   "cell_type": "code",
   "execution_count": 175,
   "id": "4877dbe3-f86a-4b8e-9524-4694d6ca75c0",
   "metadata": {},
   "outputs": [
    {
     "data": {
      "text/plain": [
       "2370309698.101918"
      ]
     },
     "execution_count": 175,
     "metadata": {},
     "output_type": "execute_result"
    }
   ],
   "source": [
    "trWtop_swtop[z+1,y,x]"
   ]
  },
  {
   "cell_type": "code",
   "execution_count": 177,
   "id": "0c3c9875-a6c3-464e-9f0e-9edfc08ed1af",
   "metadata": {},
   "outputs": [
    {
     "name": "stdout",
     "output_type": "stream",
     "text": [
      "-258649039.62454134\n",
      "1104090918.6691513\n",
      "16994377259.92898\n",
      "-22639759187.446136\n",
      "6652951667.3253355\n",
      "2370309698.101918\n",
      "\n",
      "vector convergence for theta= 4.76837158203125e-05 J/s\n"
     ]
    }
   ],
   "source": [
    "print(Ttendp)\n",
    "print(Tconv)\n",
    "print(dfTconv)\n",
    "print(zconv_top[y,x])\n",
    "print(tmpkpp[z,y,x])\n",
    "print(trWtop_swtop[z+1,y,x])\n",
    "print()\n",
    "\n",
    "\n",
    "# at the surface we need to include the top zconv but at the bottom no\n",
    "if z == 0:\n",
    "    vector_conv = (Ttendp - Tconv - dfTconv - zconv_top[y,x] - tmpkpp[z,y,x] + trWtop_swtop[z+1,y,x])    # J/s\n",
    "else:\n",
    "    vector_conv = (Ttendp - Tconv - dfTconv - trWtop[z,y,x] - tmpkpp[z,y,x] + trWtop_swtop[z+1,y,x])    # J/s\n",
    "\n",
    "print(\"vector convergence for theta=\",vector_conv,\"J/s\")   # no, this is not converged at the seafloor- need to figure out"
   ]
  },
  {
   "cell_type": "markdown",
   "id": "964cab4a-eb72-46ed-8e5b-4d5a720259c2",
   "metadata": {},
   "source": [
    "# do single cell convergence for salt\n",
    "This works at surface, at midlevels and at seafloor"
   ]
  },
  {
   "cell_type": "code",
   "execution_count": 125,
   "id": "ac96b4f9-482c-4088-b8f6-9995de79d1ea",
   "metadata": {},
   "outputs": [],
   "source": [
    "y = 550\n",
    "x = 25\n",
    "z = 13   # we checked that z = 0 and z = 3 work, now do z at seafloor (21)"
   ]
  },
  {
   "cell_type": "code",
   "execution_count": 126,
   "id": "e6c2d7e6-29bf-414e-91c7-a927db7d8ab4",
   "metadata": {},
   "outputs": [],
   "source": [
    "# we want these things in terms of g/s"
   ]
  },
  {
   "cell_type": "code",
   "execution_count": 127,
   "id": "1eb4ecfd-3d6c-444e-8761-34615b2503c1",
   "metadata": {},
   "outputs": [],
   "source": [
    "# start with hconv\n",
    "tmpUo = get_aste_faces(ADVx_SLT[1],nfx,nfy)\n",
    "tmpVo = get_aste_faces(ADVy_SLT[1],nfx,nfy)\n",
    "ADV_SLThconv = calc_UV_conv_mod(nfx,nfy,tmpUo,tmpVo) * myparms['rhoconst']   # g/s\n",
    "\n",
    "tmpUo = get_aste_faces(DFxE_SLT[1],nfx,nfy)\n",
    "tmpVo = get_aste_faces(DFyE_SLT[1],nfx,nfy)\n",
    "DFE_SLThconv = calc_UV_conv_mod(nfx,nfy,tmpUo,tmpVo) * myparms['rhoconst']   # g/s"
   ]
  },
  {
   "cell_type": "code",
   "execution_count": 128,
   "id": "a6236263-0fd2-41a3-81f9-92fdd0935c71",
   "metadata": {},
   "outputs": [
    {
     "name": "stdout",
     "output_type": "stream",
     "text": [
      "-75603985.20620014\n",
      "33571.673355739214\n"
     ]
    }
   ],
   "source": [
    "print(ADV_SLThconv[z,y,x])\n",
    "print(DFE_SLThconv[z,y,x])"
   ]
  },
  {
   "cell_type": "code",
   "execution_count": 129,
   "id": "af417c72-c9e3-40b9-879a-e0223687e46d",
   "metadata": {},
   "outputs": [
    {
     "data": {
      "text/plain": [
       "7576.990516861956"
      ]
     },
     "execution_count": 129,
     "metadata": {},
     "output_type": "execute_result"
    }
   ],
   "source": [
    "# calculate the salt tendency\n",
    "Stend = G_S * myparms['rhoconst']     # PSU.m^3/s * kg/m^3 = g/s\n",
    "Stend[0][z,y,x]"
   ]
  },
  {
   "cell_type": "code",
   "execution_count": 130,
   "id": "30f32516-d2f4-49ee-8e81-26b1c15f4aae",
   "metadata": {},
   "outputs": [],
   "source": [
    "# start with the zconv terms\n",
    "zconv_top = (SFLUX[1] + oceSPflx[1]) * RAC   # g/m^2/s * m^2 = g/s\n",
    "\n",
    "nr = mygrid['RC'].shape[0]\n",
    "trWtopADV = -(ADVr_SLT[1])*myparms['rhoconst']    # PSU.m^3/s * kg/m^3 = g/s\n",
    "trWtopDF  = -(DFrE_SLT[1]+DFrI_SLT[1])*myparms['rhoconst']\n",
    "trWtopKPP = -(KPPg_SLT[1])*myparms['rhoconst']\n",
    "trWtop = trWtopADV + trWtopDF + trWtopKPP    # g/s"
   ]
  },
  {
   "cell_type": "code",
   "execution_count": 131,
   "id": "38611ecc-4a97-4f96-8530-ae4b1ccea814",
   "metadata": {},
   "outputs": [],
   "source": [
    "# this is again looking at the forcing on the surface -- double check on this\n",
    "tmp1 = np.tile(oceSPflx[1][np.newaxis,:,:],(nz,1,1)) - np.cumsum(oceSPtnd[1],axis=0)  # g/m^2/s\n",
    "tmp1 = tmp1 * RAC3    # g/s"
   ]
  },
  {
   "cell_type": "code",
   "execution_count": 132,
   "id": "ca45a319-b5f5-486c-a5be-d7706067d764",
   "metadata": {},
   "outputs": [
    {
     "name": "stdout",
     "output_type": "stream",
     "text": [
      "0.0\n",
      "0.0\n"
     ]
    }
   ],
   "source": [
    "print(oceSPflx[1][y,x])\n",
    "print(tmp1[z,y,x])"
   ]
  },
  {
   "cell_type": "code",
   "execution_count": 133,
   "id": "d55230b5-07af-4d59-9af1-6a0df3696d04",
   "metadata": {},
   "outputs": [],
   "source": [
    "trWtop[1:,:,:] = trWtop[1:,:,:] + tmp1[:-1,:,:]  # g/s     this is adding the same I think as what we did with swtop\n",
    "trWtop[0,:,:] = zconv_top    # g/s    top layer is surface flux\n",
    "trWbot = np.zeros_like(trWtop)\n",
    "trWbot[:-1,:,:] = trWtop[1:,:,:]\n",
    "trWbot[-1,:,:] = 0"
   ]
  },
  {
   "cell_type": "code",
   "execution_count": 134,
   "id": "af4b63a9-530a-4888-adf4-78036702d59a",
   "metadata": {},
   "outputs": [
    {
     "name": "stdout",
     "output_type": "stream",
     "text": [
      "75577990.5233616 0.0\n",
      "0.0\n"
     ]
    }
   ],
   "source": [
    "print(trWtop[z,y,x],trWtop[z+1,y,x])\n",
    "print(trWbot[z,y,x])"
   ]
  },
  {
   "cell_type": "code",
   "execution_count": 135,
   "id": "7abf3a44-d4f8-41c8-b651-84efd01868a2",
   "metadata": {},
   "outputs": [
    {
     "name": "stdout",
     "output_type": "stream",
     "text": [
      "75577990.5233616 7576.990516861956 -75603985.20620014 33571.673355739214\n",
      "total convergence or tend-zconv-hconvADV-hconvDF= -3.386521711945534e-07 g/s\n"
     ]
    }
   ],
   "source": [
    "Szconv = trWtop[z,y,x] - trWbot[z,y,x]\n",
    "Stendp = Stend[0][z,y,x]\n",
    "ShconvADV = ADV_SLThconv[z,y,x]\n",
    "ShconvDF = DFE_SLThconv[z,y,x]\n",
    "\n",
    "print(Szconv,Stendp,ShconvADV,ShconvDF)\n",
    "total_conv = (Stendp - Szconv - ShconvADV - ShconvDF)                          # this is proving we are budgeted for this cell\n",
    "print(\"total convergence or tend-zconv-hconvADV-hconvDF=\",total_conv,\"g/s\")"
   ]
  },
  {
   "cell_type": "code",
   "execution_count": 136,
   "id": "d04ac625-f9ab-4f20-8d52-55e3f2391bc2",
   "metadata": {},
   "outputs": [
    {
     "name": "stdout",
     "output_type": "stream",
     "text": [
      "-75603985.20620014 75629055.17594866\n"
     ]
    },
    {
     "data": {
      "text/plain": [
       "25069.96974852681"
      ]
     },
     "execution_count": 136,
     "metadata": {},
     "output_type": "execute_result"
    }
   ],
   "source": [
    "# THIS IS STILL LIKELY WRONG AT THE SEAFLOOR\n",
    "tmpadv = np.full((nz,ny,nx),np.nan)\n",
    "tmpadv[:-1,:,:] = trWtopADV[:-1] - trWtopADV[1:]      # g/s    we are doing the z convergence of the advective term only\n",
    "\n",
    "print(ShconvADV,tmpadv[z,y,x])\n",
    "\n",
    "Sconv = ShconvADV + tmpadv[z,y,x]        # this is adding the advective convergence for ADV and the ADV component of the z conv\n",
    "Sconv     # this is the advective arrow in T for this grid cell"
   ]
  },
  {
   "cell_type": "code",
   "execution_count": 137,
   "id": "9f433839-cf28-42c2-8532-25d8cd365473",
   "metadata": {},
   "outputs": [
    {
     "name": "stdout",
     "output_type": "stream",
     "text": [
      "33571.673355739214 -52503.3465768408\n"
     ]
    },
    {
     "data": {
      "text/plain": [
       "-18931.673221101584"
      ]
     },
     "execution_count": 137,
     "metadata": {},
     "output_type": "execute_result"
    }
   ],
   "source": [
    "tmpdf = np.full((nz,ny,nx),np.nan)\n",
    "tmpdf[:-1,:,:] = trWtopDF[:-1] - trWtopDF[1:]\n",
    "\n",
    "print(ShconvDF,tmpdf[z,y,x])\n",
    "dfSconv = ShconvDF + tmpdf[z,y,x]\n",
    "dfSconv"
   ]
  },
  {
   "cell_type": "code",
   "execution_count": 138,
   "id": "beef5de2-b5ef-4283-a17d-de4ae4c5371a",
   "metadata": {},
   "outputs": [
    {
     "data": {
      "text/plain": [
       "1438.693989765571"
      ]
     },
     "execution_count": 138,
     "metadata": {},
     "output_type": "execute_result"
    }
   ],
   "source": [
    "tmpkpp = np.full((nz,ny,nx),np.nan)\n",
    "tmpkpp[:-1,:,:] = trWtopKPP[:-1] - trWtopKPP[1:]\n",
    "\n",
    "tmpkpp[z,y,x]"
   ]
  },
  {
   "cell_type": "code",
   "execution_count": 139,
   "id": "27188b50-0d2b-4de4-b52f-4f2c33788230",
   "metadata": {},
   "outputs": [
    {
     "data": {
      "text/plain": [
       "-1.7985849699825302e-12"
      ]
     },
     "execution_count": 139,
     "metadata": {},
     "output_type": "execute_result"
    }
   ],
   "source": [
    "zconv_top[y,x]   # this is from sflux in g/s"
   ]
  },
  {
   "cell_type": "code",
   "execution_count": 140,
   "id": "69b1076c-aee2-4e2b-a4b6-6ccb0a323161",
   "metadata": {},
   "outputs": [
    {
     "name": "stdout",
     "output_type": "stream",
     "text": [
      "7576.990516861956\n",
      "25069.96974852681\n",
      "-18931.673221101584\n",
      "-1.7985849699825302e-12\n",
      "1438.693989765571\n",
      "\n",
      "vector convergence for theta= -3.2884122447285336e-07 J/s\n"
     ]
    }
   ],
   "source": [
    "print(Stendp)\n",
    "print(Sconv)\n",
    "print(dfSconv)\n",
    "print(zconv_top[y,x])\n",
    "print(tmpkpp[z,y,x])\n",
    "print()\n",
    "\n",
    "\n",
    "# print(Tconv + dfTconv + zconv_top[y,x] + tmpkpp[0,y,x])\n",
    "vector_conv = (Stendp - Sconv - dfSconv - zconv_top[y,x] - tmpkpp[z,y,x])   # g/s\n",
    "\n",
    "print(\"vector convergence for theta=\",vector_conv,\"J/s\")"
   ]
  },
  {
   "cell_type": "code",
   "execution_count": null,
   "id": "db2ecd49-6cee-4c82-969a-dd86a81fea66",
   "metadata": {},
   "outputs": [],
   "source": []
  },
  {
   "cell_type": "code",
   "execution_count": null,
   "id": "a5b6c4ba-36f4-4b2b-9b48-98a7fdeede16",
   "metadata": {},
   "outputs": [],
   "source": []
  }
 ],
 "metadata": {
  "kernelspec": {
   "display_name": "py38",
   "language": "python",
   "name": "py38"
  },
  "language_info": {
   "codemirror_mode": {
    "name": "ipython",
    "version": 3
   },
   "file_extension": ".py",
   "mimetype": "text/x-python",
   "name": "python",
   "nbconvert_exporter": "python",
   "pygments_lexer": "ipython3",
   "version": "3.8.18"
  }
 },
 "nbformat": 4,
 "nbformat_minor": 5
}
