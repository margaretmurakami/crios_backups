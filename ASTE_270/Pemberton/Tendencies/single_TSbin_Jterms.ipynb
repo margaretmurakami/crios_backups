{
 "cells": [
  {
   "cell_type": "markdown",
   "id": "b43ed0eb-77ab-4d5a-b71c-e6c6515c6887",
   "metadata": {},
   "source": [
    "# intro\n",
    "\n",
    "The purpose of this notebook create the J terms for a single map grid cell at the surface, show the residuals and look at the comparable contributions of different terms"
   ]
  },
  {
   "cell_type": "markdown",
   "id": "dc7e9cea-1e35-490d-9c4b-c359dc0e78e7",
   "metadata": {},
   "source": [
    "# packages and functions"
   ]
  },
  {
   "cell_type": "code",
   "execution_count": 1,
   "id": "a8924249-4f0c-44dd-93ae-2108603e00b2",
   "metadata": {},
   "outputs": [],
   "source": [
    "import numpy as np\n",
    "import sys\n",
    "import matplotlib.pyplot as plt\n",
    "import xarray as xr\n",
    "import h5py\n",
    "from scipy.io import loadmat\n",
    "import matplotlib as mpl\n",
    "import time\n",
    "import gsw\n",
    "from matplotlib.colors import TwoSlopeNorm\n",
    "\n",
    "# import existing python files\n",
    "plt.rcParams['figure.figsize'] = (10,4)\n",
    "\n",
    "# add rdmds reading functions to path\n",
    "sys.path.append(\"/home/mmurakami/MITgcm/MITgcm_c68r/MITgcm-checkpoint68r/utils/python/MITgcmutils/MITgcmutils/\") # go to parent dir\n",
    "from mds import *\n",
    "\n",
    "# add the other files\n",
    "sys.path.append(\"/home/mmurakami/crios_backups/an_helper_functions\")\n",
    "from read_binary import *\n",
    "from calc_UV_conv_1face import calc_UV_conv_1face\n",
    "from calc_mskmean_T_mod import calc_mskmean_T_mod\n",
    "from mk3D_mod import mk3D_mod\n",
    "from aste_helper_funcs import *\n",
    "from timing_functions import *           # ts2dte, get_fnames, etc.\n",
    "from binning import *                    # bin_array, create_mesh"
   ]
  },
  {
   "cell_type": "code",
   "execution_count": 2,
   "id": "ba33922a-c22e-4937-a71f-5fa604e46747",
   "metadata": {},
   "outputs": [],
   "source": [
    "import warnings\n",
    "warnings.filterwarnings('ignore')"
   ]
  },
  {
   "cell_type": "markdown",
   "id": "9766d60e-f5c2-430c-a0a3-a12248138562",
   "metadata": {},
   "source": [
    "# read grid and files"
   ]
  },
  {
   "cell_type": "code",
   "execution_count": 3,
   "id": "2f69c3b5-9a60-4f2e-85f8-4b2d4b46f4c2",
   "metadata": {},
   "outputs": [],
   "source": [
    "# define basin we want\n",
    "iB = 6   # see mskBasin if you want for later; maybe we should write this to file\n",
    "path = \"/home/mmurakami/crios_backups/ASTE_270/offline_binning/sample_images/\""
   ]
  },
  {
   "cell_type": "code",
   "execution_count": 4,
   "id": "43e110f9-e901-42af-9e8a-3080200b3c4a",
   "metadata": {},
   "outputs": [],
   "source": [
    "dirroot = \"/scratch2/atnguyen/aste_270x450x180/\"\n",
    "dirrun = \"/scratch/atnguyen/aste_270x450x180/OFFICIAL_ASTE_R1_Sep2019/\"\n",
    "dirIn = dirrun + \"diags/BUDG/\"\n",
    "dirDiags = dirrun + \"diags/\"\n",
    "dirState = dirDiags + \"STATE/\"\n",
    "dirGrid = dirroot + \"GRID_real8/\"\n",
    "dirgridnb = dirroot + \"GRID_noblank/\"\n",
    "dirgridw = dirroot + \"GRID_wet/\""
   ]
  },
  {
   "cell_type": "code",
   "execution_count": 5,
   "id": "037236aa-7c20-433a-8765-7609d01bef6f",
   "metadata": {},
   "outputs": [],
   "source": [
    "bigaste = True\n",
    "\n",
    "if bigaste:\n",
    "    nx = 270\n",
    "    ncut1 = 450\n",
    "    ncut2 = 180\n",
    "else:\n",
    "    nx = 90\n",
    "    ncut1 = 150\n",
    "    ncut2 = 60\n",
    "    \n",
    "ny = 2*ncut1+nx+ncut2\n",
    "nz = 50\n",
    "nfx = np.array([nx, 0 , nx, ncut2 ,ncut1])\n",
    "nfy = np.array([ncut1, 0 , nx, nx, nx])"
   ]
  },
  {
   "cell_type": "code",
   "execution_count": 6,
   "id": "8aabcc01-2c68-4e97-9344-ba31b69eb20d",
   "metadata": {},
   "outputs": [],
   "source": [
    "# save myParms from An hard-coding\n",
    "save_budg_3d = 0\n",
    "save_budg_2d = 1\n",
    "save_budg_scalar = 0\n",
    "save_budg_lev = 0\n",
    "\n",
    "strbudg = 'Salt'\n",
    "kBudget = 1\n",
    "test3d = True\n",
    "plot_fig = 1\n",
    "# kz = [[1, 5], [6, 10], [11, 19], [20, 23]]\n",
    "\n",
    "myparms = {\n",
    "    'yearFirst': 1979,\n",
    "    'yearLast': 1979,\n",
    "    'yearInAv': [1979, 1979],\n",
    "    'timeStep': 3600,\n",
    "    'iceModel': 1,\n",
    "    'useRFWF': 1,\n",
    "    'useNLFS': 4,\n",
    "    'rStar': 2,\n",
    "    'rhoconst': 1029,\n",
    "    'rcp': 1029 * 3994,    # reference seawater specific heat capacity (1029 kg/m^3) * (3994 J/kg K) = J/(m^3*degC)\n",
    "    'rhoi': 910,\n",
    "    'rhosn': 330,\n",
    "    'flami': 334000,\n",
    "    'flamb': 2500000,\n",
    "    'SIsal0': 4,\n",
    "    'diagsAreMonthly': 0,\n",
    "    'diagsAreAnnual': 0,\n",
    "    'recInAve': [1, 2],\n",
    "    'SaltPlumeHeatFlux': 0,  # Not sure what this is\n",
    "    'SEAICEheatConsFix': 0,\n",
    "    'conserveTr': 0,\n",
    "    'seaice_variable_salinity_flag': 0\n",
    "}"
   ]
  },
  {
   "cell_type": "code",
   "execution_count": 7,
   "id": "535d440e-18a4-46ca-94f2-138b293f50f9",
   "metadata": {},
   "outputs": [],
   "source": [
    "# get time-steps:\n",
    "flist = [f for f in os.listdir(dirIn) if f.startswith('budg2d_snap_set1.') and f.endswith('.data')]\n",
    "idot = flist[0].index('.')\n",
    "idot = [idot+1, flist[0][idot+1:].index('.')+idot+1]\n",
    "idot = np.asarray(idot,dtype=int)\n",
    "\n",
    "mygrid = {\n",
    "    'dirGrid': dirGrid,\n",
    "    'nFaces': 1,\n",
    "    'fileFormat': 'compact',\n",
    "    'memoryLimit': 2,\n",
    "    'ioSize': [nx*ny, 1],\n",
    "    'facesSize': [ny, nx],\n",
    "    'facesExpand': [ny, nx],\n",
    "    'missVal': 0,\n",
    "}\n",
    "\n",
    "fldstr2d = ['XC','YC','XG','YG','RAC','Depth','DXG','DYG','DXC','DYC']\n",
    "fldstr3d = ['hFacC','hFacW','hFacS','mskC','mskS','mskW']\n",
    "fldstr3dp = ['hFacC','hFacW','hFacS','maskCtrlC','maskCtrlS','maskCtrlW']\n",
    "fldstr1d = ['RC','RF','DRC','DRF']\n",
    "\n",
    "for fld in fldstr1d:\n",
    "    mygrid[fld] = np.squeeze(rdmds(os.path.join(dirGrid, fld)))\n",
    "\n",
    "for fld in fldstr3d:\n",
    "    temp = rdmds(os.path.join(dirGrid, fldstr3dp[fldstr3d.index(fld)]))\n",
    "    mygrid[fld] = temp.reshape(nz, ny, nx)\n",
    "\n",
    "for fld in fldstr2d:\n",
    "    temp = rdmds(os.path.join(dirGrid, fld))\n",
    "    mygrid[fld] = temp.reshape(ny, nx)\n",
    "\n",
    "mygrid['mskC'][mygrid['mskC'] == 0] = np.nan\n",
    "\n",
    "areaW, areaS, Vol = [], [], []\n",
    "for k in range(nz):\n",
    "    areaW.append(mygrid['DYG'] * mygrid['DRF'][k])\n",
    "    areaS.append(mygrid['DXG'] * mygrid['DRF'][k])\n",
    "    Vol.append(mygrid['RAC'] * mygrid['DRF'][k])"
   ]
  },
  {
   "cell_type": "code",
   "execution_count": 8,
   "id": "f998e012-4843-4ec3-94a0-12128149186e",
   "metadata": {},
   "outputs": [
    {
     "name": "stdout",
     "output_type": "stream",
     "text": [
      "(50,) (50, 1350, 270)\n"
     ]
    }
   ],
   "source": [
    "# block out obcs\n",
    "# np tile I think operates the same as repmat in MATLAB\n",
    "RAC = mygrid['RAC']\n",
    "RAC3 = np.tile(RAC,(nz,1,1))\n",
    "\n",
    "hfC = mygrid['hFacC']\n",
    "DD = mygrid['Depth']\n",
    "dxg = mygrid['DXG']\n",
    "dyg = mygrid['DYG']\n",
    "dxg3d = np.tile(dxg,(nz,1,1))\n",
    "dyg3d = np.tile(dyg,(nz,1,1))\n",
    "\n",
    "print(mygrid['DRF'].shape,np.zeros((nz, ny, nx)).shape)\n",
    "drf3d = mk3D_mod(mygrid['DRF'], np.zeros((nz, ny, nx)))\n",
    "DD3d = mk3D_mod(DD,np.zeros((nz, ny, nx)))\n",
    "\n",
    "hfC[hfC == 0] = np.nan\n",
    "hfC1 = hfC[0, :, :]\n",
    "hfC1[hfC1 == 0] = np.nan\n",
    "\n",
    "RACg = RAC * hfC1\n",
    "hfC1p = np.copy(hfC1)\n",
    "\n",
    "hfC1p[:, nx-1] = np.nan\n",
    "hfC1p[ny-1,:] = np.nan\n",
    "RACgp = RAC * hfC1p"
   ]
  },
  {
   "cell_type": "code",
   "execution_count": 9,
   "id": "6704aa85-36e9-4b40-9128-5fb8dd7b3657",
   "metadata": {},
   "outputs": [
    {
     "name": "stdout",
     "output_type": "stream",
     "text": [
      "hf1 (1350, 270)\n"
     ]
    }
   ],
   "source": [
    "#mygrid['hFacC'][mygrid['hFacC'] > 0] = 1\n",
    "mygrid['hFacC'][mygrid['hFacC'] == 0] = np.nan\n",
    "hf1 = mygrid['hFacC'][0] # top layer in z\n",
    "\n",
    "print(\"hf1\",hf1.shape)\n",
    "\n",
    "hf1 = get_aste_tracer(hf1, nfx, nfy)\n",
    "# check with hardcoding on this for mini or big aste\n",
    "if nx == 90:\n",
    "    hf1[:,281,:] = np.nan\n",
    "    hf1[:,7,:] = np.nan\n",
    "    hf1[:,86,122] = np.nan\n",
    "elif nx == 270:\n",
    "    hf1[:,844,:] = np.nan\n",
    "    hf1[:,23,:] = np.nan\n",
    "    hf1[:,365,260:261] = np.nan\n",
    "\n",
    "hf1 = aste_tracer2compact(hf1,nfx,nfy)\n",
    "hf = mygrid[\"hFacC\"]\n",
    "hf = hf * np.tile(hf1,(nz, 1,1))"
   ]
  },
  {
   "cell_type": "code",
   "execution_count": 10,
   "id": "c7f46929-2eee-4d24-b44f-f3d7d888b3e4",
   "metadata": {},
   "outputs": [
    {
     "data": {
      "text/plain": [
       "(50, 1350, 270)"
      ]
     },
     "execution_count": 10,
     "metadata": {},
     "output_type": "execute_result"
    }
   ],
   "source": [
    "# copy basin listing from lookat_layers\n",
    "fileprefix = \"/scratch/pillarh/aste_270x450x180/\"\n",
    "extBasin='run_template/input_maskTransport/'\n",
    "filename = fileprefix + extBasin + \"GATE_transports_v3_osnap.mat\"\n",
    "if nx == 270:\n",
    "    inf = loadmat(filename)\n",
    "    mskBasin = (inf[\"mskBasin\"])\n",
    "\n",
    "mskBasin = mskBasin.T               # python adjustment\n",
    "\n",
    "# this is now different syntax than the other file\n",
    "strb=np.array(['CanadaB','ChukchiS','MakarovB','AmundsenB','NansenB','BeringS','BarentsS','GINs','CAA',\n",
    "               'SPG','LabSea','NPac','NAtlantic','AtlS30'])\n",
    "\n",
    "mskBasin[mskBasin==50] =6\n",
    "mskBasin[mskBasin==200]=7\n",
    "mskBasin[mskBasin==300]=8\n",
    "mskBasin[mskBasin==400]=9\n",
    "mskBasin[mskBasin==500]=9\n",
    "mskBasin[mskBasin==600]=10\n",
    "mskBasin[mskBasin==700]=11\n",
    "mskBasin[mskBasin==-1]=12\n",
    "mskBasin[mskBasin==-100]=13\n",
    "latNA = 30\n",
    "lonNA = -82\n",
    "condition_13 = (mskBasin == 0) & (mygrid['YC'] > latNA) & (mygrid['XC'] > lonNA) & (hf1.reshape((ny,nx)) > 0)\n",
    "mskBasin[condition_13] = 13\n",
    "condition_14 = (mskBasin == 0) & (hf1.reshape((ny,nx)) > 0)\n",
    "mskBasin[condition_14] = 14\n",
    "\n",
    "mskBasin = mskBasin * hf1\n",
    "mskBasin = mskBasin[0,:,:]   # change indexing for  python\n",
    "mskBasin -= 1\n",
    "\n",
    "# create mskBasin3D to also add to the dataset\n",
    "mskBasin3D = np.tile(mskBasin[np.newaxis,:,:],(nz,1,1))\n",
    "mskBasin3D.shape"
   ]
  },
  {
   "cell_type": "code",
   "execution_count": 11,
   "id": "fbeae4f1-8719-4613-8ef2-7c7655c34c15",
   "metadata": {},
   "outputs": [
    {
     "name": "stdout",
     "output_type": "stream",
     "text": [
      "364500\n"
     ]
    }
   ],
   "source": [
    "# read one basin or whole ASTE\n",
    "whole = False\n",
    "if not whole:\n",
    "    iB = 6    # example read from BarentsSea\n",
    "    \n",
    "# mymsk below defines as all Arctic down to Fram Strait and BSO but not GINs Seas\n",
    "mymsk = mskBasin.copy()\n",
    "\n",
    "# Create a boolean mask for elements that are 6 or less\n",
    "# mask = mymsk <7\n",
    "if whole:\n",
    "    mask = (mymsk < 5) | (mymsk==6) \n",
    "else:\n",
    "    mask = mymsk == 6\n",
    "\n",
    "# Set elements that are greater than 6 to np.nan\n",
    "mymsk[mask] = 1\n",
    "mymsk[~mask] = np.nan\n",
    "\n",
    "test = get_aste_tracer(mymsk,nfx,nfy)[0]\n",
    "test[:,:270] = np.nan\n",
    "mymsk = test\n",
    "\n",
    "mymsk = aste_tracer2compact(mymsk,nfx,nfy)[0]\n",
    "\n",
    "# Get the number of points where mskBasin is 6 or less\n",
    "npoints = np.count_nonzero(mymsk)  # Count the number of True values in the mask\n",
    "print(npoints)"
   ]
  },
  {
   "cell_type": "markdown",
   "id": "fe877711-5869-4ea4-b41f-c6319491eddd",
   "metadata": {},
   "source": [
    "## Get the timesteps"
   ]
  },
  {
   "cell_type": "code",
   "execution_count": 12,
   "id": "e190b8cd-3a8c-4c05-8be1-da22304d493b",
   "metadata": {},
   "outputs": [],
   "source": [
    "# create an array of the time steps we want to read\n",
    "# use ts2dte to get december 2014\n",
    "# first make an array of filenames\n",
    "dt_aste = 600\n",
    "startyr = 2002\n",
    "endyr = 2019\n",
    "\n",
    "# all the filenames in the system\n",
    "fnames = get_fnames(dt_aste,startyr,endyr)\n",
    "\n",
    "times = {}\n",
    "times[\"2014\"] = np.arange(3,5,1)\n",
    "# times[\"2014\"] = np.arange(9,11,1)\n",
    "# times[\"2015\"] = np.array([1])\n",
    "\n",
    "# the filenames we want for 2014\n",
    "tsstr,datetimes = get_tsteps(times,fnames,dt_aste,startyr,1,1)\n",
    "\n",
    "t2 = int(tsstr[1])    # this is the averages file that we want to read from when we do budgeting"
   ]
  },
  {
   "cell_type": "code",
   "execution_count": 13,
   "id": "d0a9c465-74b9-4f94-8d19-773b441f0555",
   "metadata": {},
   "outputs": [],
   "source": [
    "dt = datetimes[1]-datetimes[0]   # days\n",
    "dt = dt.total_seconds()"
   ]
  },
  {
   "cell_type": "code",
   "execution_count": 14,
   "id": "330d3c32-9754-4720-bab9-2154eaad5b7a",
   "metadata": {},
   "outputs": [],
   "source": [
    "# ocean and ice\n",
    "AB_gT=0\n",
    "AB_gS=0"
   ]
  },
  {
   "cell_type": "markdown",
   "id": "1b9d468c-63b2-403b-af18-8acc6946c65d",
   "metadata": {},
   "source": [
    "# verification with the salt budget\n",
    "### salt tendency"
   ]
  },
  {
   "cell_type": "code",
   "execution_count": 15,
   "id": "e9384302-2cd1-4a9a-8a79-342e6a0d83d7",
   "metadata": {},
   "outputs": [],
   "source": [
    "# read thetadr\n",
    "file_name = 'budg3d_snap_set2'\n",
    "meta_budg3d_snap_set2 = parsemeta(dirIn + file_name + \".\" + tsstr[0] + \".meta\")\n",
    "fldlist = np.array(meta_budg3d_snap_set2[\"fldList\"])\n",
    "varnames = np.array([\"SALTDR\"])\n",
    "recs = np.array([])\n",
    "for var in varnames:\n",
    "    irec = np.where(fldlist == var)\n",
    "    recs = np.append(recs, irec[0][0])\n",
    "\n",
    "\n",
    "SALTDR = np.full((len(tsstr),nz,ny,nx),np.nan)\n",
    "for i in range(len(tsstr)):\n",
    "    thisSALTDR,its,meta = rdmds(os.path.join(dirIn, file_name),int(tsstr[i]),returnmeta=True,rec=recs[0])\n",
    "    thisSALTDR = thisSALTDR.reshape(nz,ny,nx)\n",
    "    SALTDR[i] = thisSALTDR\n",
    "\n",
    "SALTDR =  (SALTDR[1, :, :,:] - SALTDR[0, :,:, :]) / dt    # PSU.m/s"
   ]
  },
  {
   "cell_type": "code",
   "execution_count": 16,
   "id": "3be72c8b-94f9-4cdf-b577-b7fc43dc8c1d",
   "metadata": {},
   "outputs": [],
   "source": [
    "tmptend = myparms['rhoconst'] * (SALTDR - AB_gS) * mk3D_mod(RAC,SALTDR)    # kg/m^3 * PSU.m/s * m^2 = g/s\n",
    "budgO = {}\n",
    "budgO['saltfluxes'] = {}\n",
    "budgI = {}\n",
    "budgI['saltfluxes'] = {}\n",
    "budgOI = {}\n",
    "\n",
    "# ocean\n",
    "\n",
    "budgO['saltfluxes']['tend'] = tmptend\n",
    "budgO['salttend'] = np.nansum(tmptend,axis=0)"
   ]
  },
  {
   "cell_type": "markdown",
   "id": "5ed1a7ab-7110-4757-ace8-f6596ce74bb2",
   "metadata": {},
   "source": [
    "### salt h conv"
   ]
  },
  {
   "cell_type": "code",
   "execution_count": 17,
   "id": "63b451dd-51a3-4884-a00c-caa2ee48aee3",
   "metadata": {},
   "outputs": [],
   "source": [
    "# read adv and dfe\n",
    "file_name = \"budg3d_hflux_set2\"\n",
    "meta_budg3d_hflux_set2 = parsemeta(dirIn + file_name + \".\" + tsstr[0] + \".meta\")\n",
    "fldlist = np.array(meta_budg3d_hflux_set2[\"fldList\"])\n",
    "varnames = np.array([\"ADVx_SLT\",\"ADVy_SLT\",\"DFxE_SLT\",\"DFyE_SLT\"])\n",
    "recs = np.array([])\n",
    "for var in varnames:\n",
    "    irec = np.where(fldlist == var)\n",
    "    recs = np.append(recs, irec[0][0])\n",
    "ADVx_SLT,its,meta = rdmds(os.path.join(dirIn, file_name),t2,returnmeta=True,rec=recs[0])\n",
    "ADVy_SLT,its,meta = rdmds(os.path.join(dirIn, file_name),t2,returnmeta=True,rec=recs[1])\n",
    "DFxE_SLT,its,meta = rdmds(os.path.join(dirIn, file_name),t2,returnmeta=True,rec=recs[2])\n",
    "DFyE_SLT,its,meta = rdmds(os.path.join(dirIn, file_name),t2,returnmeta=True,rec=recs[3])\n",
    "\n",
    "tmpUo = myparms['rhoconst'] * (ADVx_SLT + DFxE_SLT)\n",
    "tmpVo = myparms['rhoconst'] * (ADVy_SLT + DFyE_SLT)\n",
    "\n",
    "# reshape and get the faces\n",
    "tmpUo = tmpUo.reshape(nz,ny,nx)\n",
    "tmpVo = tmpVo.reshape(nz,ny,nx)\n",
    "tmpUo = get_aste_faces(tmpUo,nfx,nfy)              \n",
    "tmpVo = get_aste_faces(tmpVo,nfx,nfy)\n",
    "\n",
    "budgO['saltfluxes']['hconv'] = calc_UV_conv_mod(nfx,nfy,tmpUo,tmpVo)\n",
    "budgO['salthconv'] = calc_UV_conv_mod(nfx,nfy,np.nansum(tmpUo,axis=0),np.nansum(tmpVo,axis=0))"
   ]
  },
  {
   "cell_type": "code",
   "execution_count": 18,
   "id": "898c3bd7-bb13-42f6-acfa-dd1589ce5120",
   "metadata": {},
   "outputs": [],
   "source": [
    "# also do hconv for ADV and DF\n",
    "tmpUo = get_aste_faces(ADVx_SLT.reshape(nz,ny,nx),nfx,nfy)\n",
    "tmpVo = get_aste_faces(ADVy_SLT.reshape(nz,ny,nx),nfx,nfy)\n",
    "budgO['saltfluxes']['ADV_hconv'] = calc_UV_conv_mod(nfx,nfy,tmpUo,tmpVo) * myparms['rhoconst'] #g/s\n",
    "\n",
    "tmpUo = get_aste_faces(DFxE_SLT.reshape(nz,ny,nx),nfx,nfy)\n",
    "tmpVo = get_aste_faces(DFyE_SLT.reshape(nz,ny,nx),nfx,nfy)\n",
    "budgO['saltfluxes']['DF_hconv'] = calc_UV_conv_mod(nfx,nfy,tmpUo,tmpVo) * myparms['rhoconst'] #g/s"
   ]
  },
  {
   "cell_type": "code",
   "execution_count": 19,
   "id": "28c7ff45-998b-4ffa-a385-2d04903bb018",
   "metadata": {},
   "outputs": [],
   "source": [
    "# read the vars\n",
    "file_name = \"budg2d_hflux_set1\"\n",
    "meta_budg2d_hflux_set1 = parsemeta(dirIn + file_name + \".\" + tsstr[0] + \".meta\")\n",
    "fldlist = np.array(meta_budg2d_hflux_set1[\"fldList\"])\n",
    "varnames = np.array([\"ADVxHEFF\",\"ADVyHEFF\",\"DFxEHEFF\",\"DFyEHEFF\"])\n",
    "recs = np.array([])\n",
    "for var in varnames:\n",
    "    irec = np.where(fldlist == var)\n",
    "    recs = np.append(recs, irec[0][0])\n",
    "ADVxHEFF,its,meta = rdmds(os.path.join(dirIn, file_name),t2,returnmeta=True,rec=recs[0])\n",
    "ADVyHEFF,its,meta = rdmds(os.path.join(dirIn, file_name),t2,returnmeta=True,rec=recs[1])\n",
    "DFxEHEFF,its,meta = rdmds(os.path.join(dirIn, file_name),t2,returnmeta=True,rec=recs[2])\n",
    "DFyEHEFF,its,meta = rdmds(os.path.join(dirIn, file_name),t2,returnmeta=True,rec=recs[3])\n",
    "ADVxHEFF = ADVxHEFF.reshape(ny,nx)\n",
    "ADVyHEFF = ADVxHEFF.reshape(ny,nx)\n",
    "DFxEHEFF = DFxEHEFF.reshape(ny,nx)\n",
    "DFyEHEFF = DFyEHEFF.reshape(ny,nx)\n",
    "    \n",
    "if myparms['seaice_variable_salinity_flag'] == 0:\n",
    "    SIsal0 = myparms['SIsal0']\n",
    "\n",
    "tmpUi = SIsal0 * myparms['rhoi'] * (DFxEHEFF + ADVxHEFF)\n",
    "tmpVi = SIsal0 * myparms['rhoi'] * (DFyEHEFF + ADVyHEFF)\n",
    "tmpUi = get_aste_faces(tmpUi,nfx,nfy)              \n",
    "tmpVi = get_aste_faces(tmpVi,nfx,nfy)\n",
    "\n",
    "budgI['salthconv'] = calc_UV_conv_mod(nfx,nfy,tmpUi, tmpVi)\n",
    "budgOI['salthconv'] = (budgO['salthconv'] + budgI['salthconv'])"
   ]
  },
  {
   "cell_type": "markdown",
   "id": "dcd0b6da-f17c-403d-b10d-6f1fb05fff14",
   "metadata": {},
   "source": [
    "### salt v convergence"
   ]
  },
  {
   "cell_type": "code",
   "execution_count": 20,
   "id": "e8361f45-ae96-4b23-befe-3a3ac88a9a1d",
   "metadata": {},
   "outputs": [],
   "source": [
    "# read fluxes\n",
    "file_name = 'budg2d_zflux_set1'\n",
    "meta_budg2d_zflux_set1 = parsemeta(dirIn + file_name + \".\" + tsstr[0] + \".meta\")\n",
    "fldlist = np.array(meta_budg2d_zflux_set1[\"fldList\"])\n",
    "varnames = np.array([\"oceSPflx\",\"SFLUX\"])\n",
    "recs = np.array([])\n",
    "for var in varnames:\n",
    "    irec = np.where(fldlist == var)\n",
    "    recs = np.append(recs, irec[0][0])\n",
    "oceSPflx,its,meta = rdmds(os.path.join(dirIn, file_name),t2,returnmeta=True,rec=recs[0])\n",
    "SFLUX,its,meta = rdmds(os.path.join(dirIn, file_name),t2,returnmeta=True,rec=recs[1])\n",
    "oceSPflx = oceSPflx.reshape(ny,nx)\n",
    "SFLUX = SFLUX.reshape(ny,nx)\n",
    "\n",
    "# read relax and salt mass\n",
    "file_name = \"budg2d_zflux_set2\"\n",
    "meta_budg2d_zflux_set2 = parsemeta(dirIn + file_name + \".\" + tsstr[0] + \".meta\")\n",
    "fldlist = np.array(meta_budg2d_zflux_set2[\"fldList\"])\n",
    "varnames = np.array([\"oceSflux\",\"WSLTMASS\",\"SRELAX\"])\n",
    "recs = np.array([])\n",
    "for var in varnames:\n",
    "    irec = np.where(fldlist == var)\n",
    "    if len(irec[0]) > 0:\n",
    "        recs = np.append(recs, irec[0][0])\n",
    "oceSflux,its,meta = rdmds(os.path.join(dirIn, file_name),t2,returnmeta=True,rec=recs[0])\n",
    "WSLTMASS,its,meta = rdmds(os.path.join(dirIn, file_name),t2,returnmeta=True,rec=recs[1])\n",
    "SRELAX,its,meta = rdmds(os.path.join(dirIn, file_name),t2,returnmeta=True,rec=recs[2])\n",
    "oceSflux = oceSflux.reshape(ny,nx)\n",
    "WSLTMASS = WSLTMASS.reshape(ny,nx)\n",
    "SRELAX = SRELAX.reshape(ny,nx)"
   ]
  },
  {
   "cell_type": "code",
   "execution_count": 21,
   "id": "dc2dfa19-e3ef-4d41-bf02-bb89ea8aa95d",
   "metadata": {},
   "outputs": [],
   "source": [
    "# read kpp tend and from 3d zflux\n",
    "file_name = \"budg3d_kpptend_set1\"\n",
    "meta_budg3d_kpptend_set1 = parsemeta(dirIn + file_name + \".\" + tsstr[0] + \".meta\")\n",
    "fldlist = np.array(meta_budg3d_kpptend_set1[\"fldList\"])\n",
    "varnames = np.array([\"oceSPtnd\",\"KPPg_SLT\"])\n",
    "recs = np.array([])\n",
    "for var in varnames:\n",
    "    irec = np.where(fldlist == var)\n",
    "    if len(irec[0]) > 0:\n",
    "        recs = np.append(recs, irec[0][0])\n",
    "oceSPtnd,its,meta = rdmds(os.path.join(dirIn, file_name),t2,returnmeta=True,rec=recs[0])\n",
    "KPPg_SLT,its,meta = rdmds(os.path.join(dirIn, file_name),t2,returnmeta=True,rec=recs[1])\n",
    "oceSPtnd = oceSPtnd.reshape(nz,ny,nx)\n",
    "KPPg_SLT = KPPg_SLT.reshape(nz,ny,nx)\n",
    "\n",
    "\n",
    "# now 3d zfluxes\n",
    "file_name = \"budg3d_zflux_set2\"\n",
    "meta_budg3d_zflux_set2 = parsemeta(dirIn + file_name + \".\" + tsstr[0] + \".meta\")\n",
    "fldlist = np.array(meta_budg3d_zflux_set2[\"fldList\"])\n",
    "varnames = np.array([\"ADVr_SLT\",\"DFrE_SLT\",\"DFrI_SLT\"])\n",
    "recs = np.array([])\n",
    "for var in varnames:\n",
    "    irec = np.where(fldlist == var)\n",
    "    recs = np.append(recs, irec[0][0])\n",
    "ADVr_SLT,its,meta = rdmds(os.path.join(dirIn, file_name),t2,returnmeta=True,rec=recs[0])\n",
    "DFrE_SLT,its,meta = rdmds(os.path.join(dirIn, file_name),t2,returnmeta=True,rec=recs[1])\n",
    "DFrI_SLT,its,meta = rdmds(os.path.join(dirIn, file_name),t2,returnmeta=True,rec=recs[2])\n",
    "ADVr_SLT = ADVr_SLT.reshape(nz,ny,nx)\n",
    "DFrE_SLT = DFrE_SLT.reshape(nz,ny,nx)\n",
    "DFrI_SLT = DFrI_SLT.reshape(nz,ny,nx)"
   ]
  },
  {
   "cell_type": "code",
   "execution_count": 22,
   "id": "60d4e552-4f30-4f96-ae18-df3c5ba0df23",
   "metadata": {},
   "outputs": [],
   "source": [
    "if myparms[\"useRFWF\"]==0 or myparms['useNLFS']==0:\n",
    "    print('do nothing')\n",
    "else:\n",
    "    oceSflux = 0 * oceSflux\n",
    "\n",
    "if myparms['useNLFS'] == 0:\n",
    "    print('do nothing, already read above')\n",
    "else:\n",
    "    WSLTMASS=0*WSLTMASS\n",
    "\n",
    "budgO['saltzconv'] = SFLUX + oceSPflx                  # W/m^2\n",
    "zconv_top_salt = (SFLUX + oceSPflx) * RAC               # g/s\n",
    "budgI['saltzconv'] = -budgO['saltzconv'] + SRELAX\n",
    "\n",
    "if myparms['useNLFS']==0:\n",
    "    budgO['saltzconv'] = budgO['saltzconv'] - myparms['rhoconst']*WSLTMASS\n",
    "\n",
    "if myparms['useRFWF']==0 or myparms['useNLFS']==0:\n",
    "    budgI['saltzconv']=-oceSflux"
   ]
  },
  {
   "cell_type": "code",
   "execution_count": 23,
   "id": "d641e406-b0cd-4b6f-80b4-451348b31c97",
   "metadata": {},
   "outputs": [
    {
     "name": "stdout",
     "output_type": "stream",
     "text": [
      "(50, 1350, 270)\n"
     ]
    }
   ],
   "source": [
    "nr = mygrid['RC'].shape[0]\n",
    "# break trWtop down into smaller terms\n",
    "trWtopADV = -(ADVr_SLT)*myparms['rhoconst']           # g/s\n",
    "trWtopDF = -(DFrE_SLT+DFrI_SLT)*myparms['rhoconst']   # g/s\n",
    "trWtopKPP = -(KPPg_SLT)*myparms['rhoconst']           # g/s\n",
    "trWtop = trWtopADV + trWtopDF + trWtopKPP             # g/s \n",
    "\n",
    "print(trWtop.shape)\n",
    "sptop = mk3D_mod(oceSPflx,oceSPtnd) - np.cumsum(oceSPtnd, axis=0)        # we include this in our zconv_top term\n",
    "sptop = sptop * RAC3        # g/s\n",
    "\n",
    "trWtop[1:,:,:] = trWtop[1:,:,:] + sptop[:-1,:,:]\n",
    "trWtop[0,:,:] = budgO['saltzconv'] * RAC    # g/s top layer is surface flux\n",
    "\n",
    "trWbot = np.zeros_like(trWtop)\n",
    "trWbot[:-1,:,:] = trWtop[1:,:,:]\n",
    "trWbot[-1,:,:] = 0\n",
    "\n",
    "budgO['saltfluxes']['trWtop'] = trWtop     # g/s\n",
    "budgO['saltfluxes']['trWbot'] = trWbot     # g/s\n",
    "\n",
    "budgI['saltfluxes']['trWtop'] = -RAC*0\n",
    "budgI['saltfluxes']['trWbot'] = budgO['saltfluxes']['trWtop'][0,:,:]  # surface because ice\n",
    "\n",
    "budgO['saltfluxes']['zconv'] = budgO['saltfluxes']['trWtop'] - budgO['saltfluxes']['trWbot']\n",
    "budgO['saltzconv'] = RAC * budgO['saltzconv']   # g/s\n",
    "budgI['saltzconv'] = RAC * budgI['saltzconv']   # g/s\n",
    "budgOI['saltzconv'] = budgO['saltzconv'] + budgI['saltzconv']"
   ]
  },
  {
   "cell_type": "code",
   "execution_count": 24,
   "id": "3a70c7fc-52f7-4b84-9d87-140721c5e5df",
   "metadata": {},
   "outputs": [],
   "source": [
    "# do vertical convergence for ADV and DF terms\n",
    "tmpadv = np.full((nz,ny,nx),np.nan)\n",
    "tmpadv[:-1,:,:] = (trWtopADV[:-1] - trWtopADV[1:])              # for surface thru seafloor\n",
    "\n",
    "Sconv = budgO['saltfluxes']['ADV_hconv'] + tmpadv\n",
    "budgO['saltfluxes']['ADV_Sconv'] = Sconv             # g/s, this is the advective arrow of S for a cell"
   ]
  },
  {
   "cell_type": "code",
   "execution_count": 25,
   "id": "bc6c6345-b734-4b36-920e-9a68b25141a2",
   "metadata": {},
   "outputs": [],
   "source": [
    "# do vertical convergence for ADV and DF terms\n",
    "tmpdf = np.full((nz,ny,nx),np.nan)\n",
    "tmpdf[:-1,:,:] = (trWtopDF[:-1] - trWtopDF[1:])              # for surface thru seafloor\n",
    "\n",
    "dfSconv = budgO['saltfluxes']['DF_hconv'] + tmpdf\n",
    "budgO['saltfluxes']['DF_Sconv'] = dfSconv             # g/s, this is the diffusive arrow of T for a cell"
   ]
  },
  {
   "cell_type": "code",
   "execution_count": 26,
   "id": "174842bb-7540-49ea-998e-2fccd4f01021",
   "metadata": {},
   "outputs": [],
   "source": [
    "tmpkpp = np.full((nz,ny,nx),np.nan)\n",
    "tmpkpp[:-1,:,:] = trWtopKPP[:-1] - trWtopKPP[1:]\n",
    "budgO['saltfluxes']['KPP_Sconv'] = tmpkpp        # no horizontal component for this"
   ]
  },
  {
   "cell_type": "markdown",
   "id": "73eb6a83-9ea6-40c3-8f98-c000e8dbc3c9",
   "metadata": {},
   "source": [
    "### show salt is budgeted"
   ]
  },
  {
   "cell_type": "code",
   "execution_count": 27,
   "id": "f05df12d-ed50-4a1f-a83c-8822315f1791",
   "metadata": {},
   "outputs": [],
   "source": [
    "# pick one point from face 3 and one point from face 1\n",
    "pt = np.array([[10,500,4],       # this is organized as x,y,z\n",
    "               [220,445,10]])\n",
    "\n",
    "pt = np.array([[10,500,4],       # this is organized as x,y,z\n",
    "               [100,600,10]])\n",
    "\n",
    "# 0 540 50\n",
    "pt = np.array([[50,540,4],       # this is organized as x,y,z\n",
    "               [100,600,10]])\n",
    "\n",
    "y,x = 540,50\n",
    "\n",
    "pt = np.array([[50,540,0],\n",
    "               [25,500,0]])      # first is an extreme point, second is a more \"normal\" or midrange point for 03/2014"
   ]
  },
  {
   "cell_type": "code",
   "execution_count": 28,
   "id": "37f691f0-14fc-4550-b4af-4f33fe6945ed",
   "metadata": {},
   "outputs": [],
   "source": [
    "# Data variables (as given in your initial code)\n",
    "a = budgO['saltfluxes']['tend']\n",
    "b = budgO['saltfluxes']['ADV_Sconv']\n",
    "c = budgO['saltfluxes']['DF_Sconv']\n",
    "d = budgO['saltfluxes']['KPP_Sconv']\n",
    "e = zconv_top_salt.reshape(1,ny,nx)                 # only at surface, is the surface forcing  ((SFLUX + oceSPflx) * RAC) in g/s\n",
    "f = sptop                                            # oceSPtnd contribution from the ice"
   ]
  },
  {
   "cell_type": "code",
   "execution_count": 29,
   "id": "ff5992ad-8d4a-48dc-a243-f993ed40b439",
   "metadata": {},
   "outputs": [
    {
     "data": {
      "image/png": "[encoded data removed]",
      "text/plain": [
       "<Figure size 950x400 with 2 Axes>"
      ]
     },
     "metadata": {},
     "output_type": "display_data"
    }
   ],
   "source": [
    "# also show the convergence at depth - I will make this a 1 by 2 plot so I can look at things easier\n",
    "\n",
    "plt.figure(figsize=(9.5, 4))\n",
    "\n",
    "aa = np.zeros((nz, 2))\n",
    "plt.suptitle(\"Depth section S conv\")\n",
    "\n",
    "\n",
    "n = 1\n",
    "ix, iy, k = pt[n-1]\n",
    "aa[:, n-1] = a[:, iy, ix] - b[:, iy, ix] - c[:, iy, ix] - d[:, iy, ix]\n",
    "aa[1:, n-1] += (f[1:,iy,ix] - f[:-1,iy,ix])                                  # from the oceSPflx and oceSPtnd\n",
    "aa[0, n-1] += f[0,iy,ix]\n",
    "aa[0, n-1] -= zconv_top_salt[iy, ix]\n",
    "plt.subplot(1, 2, n)\n",
    "plt.plot(aa[:, n-1], -np.arange(1, nz+1), '.-')\n",
    "plt.grid()\n",
    "plt.xlabel(\"Net Salt\")\n",
    "plt.ylabel(\"Model Depth Level\")\n",
    "plt.title(f\"[ix,iy]=[{iy},{ix}]; {100 * np.nanmax(np.abs(aa[:, n-1]))/np.nanmax(np.abs(budgO['saltfluxes']['zconv'][:,iy, ix]))}%\")\n",
    "\n",
    "n = 2\n",
    "ix, iy, k = pt[n-1]\n",
    "aa[:, n-1] = a[:, iy, ix] - b[:, iy, ix] - c[:, iy, ix] - d[:, iy, ix]\n",
    "aa[1:, n-1] += (f[1:,iy,ix] - f[:-1,iy,ix])                                  # from the oceSPflx and oceSPtnd\n",
    "aa[0, n-1] += f[0,iy,ix]\n",
    "aa[0, n-1] -= zconv_top_salt[iy, ix]\n",
    "\n",
    "plt.subplot(1, 2, n)\n",
    "plt.plot(aa[:, n-1], -np.arange(1, nz+1), '.-')\n",
    "plt.grid()\n",
    "plt.xlabel(\"Net Salt\")\n",
    "plt.ylabel(\"Model Depth Level\")\n",
    "plt.title(f\"[ix,iy]=[{iy},{ix}]; {100 * np.nanmax(np.abs(aa[:, n-1]))/np.nanmax(np.abs(budgO['saltfluxes']['zconv'][:,iy, ix]))}%\")\n",
    "    \n",
    "        \n",
    "plt.tight_layout()\n",
    "plt.show()"
   ]
  },
  {
   "cell_type": "markdown",
   "id": "b1ec732c-6f4f-488f-9d1b-93990aebfa82",
   "metadata": {},
   "source": [
    "# verification with the heat budget\n",
    "### start with the tendency"
   ]
  },
  {
   "cell_type": "code",
   "execution_count": 30,
   "id": "cc39c119-4b50-4870-8e41-e68c6e12eb99",
   "metadata": {},
   "outputs": [],
   "source": [
    "# read thetadr\n",
    "file_name = 'budg3d_snap_set2'\n",
    "meta_budg3d_snap_set2 = parsemeta(dirIn + file_name + \".\" + tsstr[0] + \".meta\")\n",
    "fldlist = np.array(meta_budg3d_snap_set2[\"fldList\"])\n",
    "varnames = np.array([\"THETADR\"])\n",
    "recs = np.array([])\n",
    "for var in varnames:\n",
    "    irec = np.where(fldlist == var)\n",
    "    recs = np.append(recs, irec[0][0])\n",
    "\n",
    "THETADR = np.full((len(tsstr),nz,ny,nx),np.nan)\n",
    "for i in range(len(tsstr)):\n",
    "    thisTHETADR,its,meta = rdmds(os.path.join(dirIn, file_name),int(tsstr[i]),returnmeta=True,rec=recs[0])\n",
    "    thisTHETADR = thisTHETADR.reshape(nz,ny,nx)\n",
    "    THETADR[i] = thisTHETADR\n",
    "\n",
    "THETADR =  (THETADR[1, :, :,:] - THETADR[0, :,:, :]) / dt    # degC.m/s"
   ]
  },
  {
   "cell_type": "code",
   "execution_count": 31,
   "id": "54325a78-7291-4bc3-a90e-6daf6422fba4",
   "metadata": {},
   "outputs": [],
   "source": [
    "tmptend=myparms['rcp']*(THETADR-AB_gT)*mk3D_mod(RAC,THETADR)   # J/m^3.degC * degC.m/s * m^2 = J/s\n",
    "budgO['heatfluxes'] = {}\n",
    "budgI['heatfluxes'] = {}\n",
    "\n",
    "budgO['heatfluxes']['tend'] = tmptend     # J/s\n",
    "\n",
    "budgO['heattend'] = np.nansum(tmptend,axis=0)"
   ]
  },
  {
   "cell_type": "markdown",
   "id": "60cac484-8898-4a35-b1a5-64c90049dceb",
   "metadata": {},
   "source": [
    "### do h convergence"
   ]
  },
  {
   "cell_type": "code",
   "execution_count": 32,
   "id": "422f4c68-4ce1-4933-a7e3-7693db83c685",
   "metadata": {},
   "outputs": [],
   "source": [
    "file_name = \"budg3d_hflux_set2\"\n",
    "meta_budg3d_hflux_set2 = parsemeta(dirIn + file_name + \".\" + tsstr[0] + \".meta\")\n",
    "fldlist = np.array(meta_budg3d_hflux_set2[\"fldList\"])\n",
    "varnames = np.array([\"ADVx_TH\",\"ADVy_TH\",\"DFxE_TH\",\"DFyE_TH\",\"UVELMASS\",\"VVELMASS\"])\n",
    "recs = np.array([])\n",
    "for var in varnames:\n",
    "    irec = np.where(fldlist == var)\n",
    "    recs = np.append(recs, irec[0][0])\n",
    "ADVx_TH,its,meta = rdmds(os.path.join(dirIn, file_name),t2,returnmeta=True,rec=recs[0])\n",
    "ADVy_TH,its,meta = rdmds(os.path.join(dirIn, file_name),t2,returnmeta=True,rec=recs[1])\n",
    "DFxE_TH,its,meta = rdmds(os.path.join(dirIn, file_name),t2,returnmeta=True,rec=recs[2])\n",
    "DFyE_TH,its,meta = rdmds(os.path.join(dirIn, file_name),t2,returnmeta=True,rec=recs[3])\n",
    "UVELMASS,its,meta = rdmds(os.path.join(dirIn, file_name),t2,returnmeta=True,rec=recs[4])\n",
    "VVELMASS,its,meta = rdmds(os.path.join(dirIn, file_name),t2,returnmeta=True,rec=recs[5])  # m/s\n",
    "\n",
    "# reshape the UVELMASS and VVELMASS to look at these\n",
    "UVELMASS = UVELMASS.reshape(nz,ny,nx)\n",
    "VVELMASS = VVELMASS.reshape(nz,ny,nx)\n",
    "\n",
    "tmpUo = myparms['rcp'] * (ADVx_TH + DFxE_TH)\n",
    "tmpVo = myparms['rcp'] * (ADVy_TH + DFyE_TH)\n",
    "\n",
    "tmpUo = tmpUo.reshape(nz,ny,nx)\n",
    "tmpVo = tmpVo.reshape(nz,ny,nx)\n",
    "\n",
    "# get the faces so we can do convergence\n",
    "tmpUo = get_aste_faces(tmpUo,nfx,nfy)              \n",
    "tmpVo = get_aste_faces(tmpVo,nfx,nfy)\n",
    "\n",
    "budgO['heatfluxes']['hconv'] = calc_UV_conv_mod(nfx,nfy,tmpUo,tmpVo)\n",
    "budgO['heathconv'] = calc_UV_conv_mod(nfx,nfy,np.nansum(tmpUo, axis=0),np.nansum(tmpVo,axis=0))"
   ]
  },
  {
   "cell_type": "code",
   "execution_count": 33,
   "id": "5049913f-bcbb-4ac4-afa3-aa76fdb55e16",
   "metadata": {},
   "outputs": [],
   "source": [
    "# add the budgeting for ADV and DF\n",
    "tmpUo = get_aste_faces(ADVx_TH.reshape(nz,ny,nx),nfx,nfy)\n",
    "tmpVo = get_aste_faces(ADVy_TH.reshape(nz,ny,nx),nfx,nfy)\n",
    "budgO['heatfluxes']['ADV_hconv'] = calc_UV_conv_mod(nfx,nfy,tmpUo,tmpVo) * myparms['rcp'] #J/s\n",
    "\n",
    "tmpUo = get_aste_faces(DFxE_TH.reshape(nz,ny,nx),nfx,nfy)\n",
    "tmpVo = get_aste_faces(DFyE_TH.reshape(nz,ny,nx),nfx,nfy)\n",
    "budgO['heatfluxes']['DF_hconv'] = calc_UV_conv_mod(nfx,nfy,tmpUo,tmpVo) * myparms['rcp'] #J/s"
   ]
  },
  {
   "cell_type": "markdown",
   "id": "62c47a4c-5ad1-4fb4-a5d8-38ab44ff51ec",
   "metadata": {},
   "source": [
    "### do the vertical convergence"
   ]
  },
  {
   "cell_type": "code",
   "execution_count": 34,
   "id": "b654b7a9-78b5-4348-aec4-6518d7f06229",
   "metadata": {},
   "outputs": [],
   "source": [
    "file_name = 'budg2d_zflux_set1'\n",
    "meta_budg2d_zflux_set1 = parsemeta(dirIn + file_name + \".\" + tsstr[0] + \".meta\")\n",
    "fldlist = np.array(meta_budg2d_zflux_set1[\"fldList\"])\n",
    "varnames = np.array([\"TFLUX\",\"oceQsw\",\"SItflux\"])\n",
    "recs = np.array([])\n",
    "for var in varnames:\n",
    "    irec = np.where(fldlist == var)\n",
    "    recs = np.append(recs, irec[0][0])\n",
    "TFLUX,its,meta = rdmds(os.path.join(dirIn, file_name),t2,returnmeta=True,rec=recs[0])\n",
    "oceQsw,its,meta = rdmds(os.path.join(dirIn, file_name),t2,returnmeta=True,rec=recs[1])\n",
    "SItflux,its,meta = rdmds(os.path.join(dirIn, file_name),t2,returnmeta=True,rec=recs[2])\n",
    "TFLUX = TFLUX.reshape(ny,nx)\n",
    "oceQsw = oceQsw.reshape(ny,nx)\n",
    "SItflux = SItflux.reshape(ny,nx)\n",
    "\n",
    "# note: the following works provided that the first 3 terms are definitely there\n",
    "file_name = \"budg2d_zflux_set2\"\n",
    "meta_budg2d_zflux_set2 = parsemeta(dirIn + file_name + \".\" + tsstr[0] + \".meta\")\n",
    "fldlist = np.array(meta_budg2d_zflux_set2[\"fldList\"])\n",
    "varnames = np.array([\"oceQnet\",\"WTHMASS\",\"SIaaflux\",\"TRELAX\"])\n",
    "recs = np.array([])\n",
    "for var in varnames:\n",
    "    irec = np.where(fldlist == var)\n",
    "    recs = np.append(recs, irec[0][0])\n",
    "oceQnet,its,meta = rdmds(os.path.join(dirIn, file_name),t2,returnmeta=True,rec=recs[0])\n",
    "WTHMASS,its,meta = rdmds(os.path.join(dirIn, file_name),t2,returnmeta=True,rec=recs[1])\n",
    "SIaaflux,its,meta = rdmds(os.path.join(dirIn, file_name),t2,returnmeta=True,rec=recs[2])\n",
    "TRELAX,its,meta = rdmds(os.path.join(dirIn, file_name),t2,returnmeta=True,rec=recs[3])\n",
    "oceQnet = oceQnet.reshape(ny,nx)\n",
    "WTHMASS = WTHMASS.reshape(ny,nx)\n",
    "SIaaflux = SIaaflux.reshape(ny,nx)\n",
    "TRELAX = TRELAX.reshape(ny,nx)\n",
    "\n",
    "# note: will not work if these are defined, fix for future steps\n",
    "varnames = np.array([\"TRELAX\",\"SIabflux\",\"SIacflux\",\"SIeprflx\",\"SIfldflx\"])\n",
    "recs = np.array([])\n",
    "for var in varnames:\n",
    "    irec = np.where(fldlist == var)\n",
    "    if len(irec[0]) > 0:\n",
    "        recs = np.append(recs, irec[0][0])\n",
    "\n",
    "# if len(recs) == 0:\n",
    "SIabflux = np.zeros((ny, nx))\n",
    "SIacflux = np.zeros((ny, nx))\n",
    "SIeprflx = np.zeros((ny, nx))\n",
    "SIfldflx = np.zeros((ny, nx))"
   ]
  },
  {
   "cell_type": "code",
   "execution_count": 35,
   "id": "9dfb4b54-9c8f-4be9-bc83-af7e481e793e",
   "metadata": {},
   "outputs": [],
   "source": [
    "if myparms['useNLFS'] == 0:\n",
    "    print('do nothing, already read above')\n",
    "else:\n",
    "    WTHMASS=0*WTHMASS"
   ]
  },
  {
   "cell_type": "code",
   "execution_count": 36,
   "id": "525552a3-f9e6-402e-ae23-4ad971da1049",
   "metadata": {},
   "outputs": [],
   "source": [
    "geothFlux = 0\n",
    "\n",
    "if myparms['SaltPlumeHeatFlux']:\n",
    "    print(1)\n",
    "else:\n",
    "    SPforcT1=0*np.ones((ny,nx))\n",
    "    oceEPtnd=0*np.ones((nz,ny,nx))"
   ]
  },
  {
   "cell_type": "code",
   "execution_count": 37,
   "id": "74b0be3b-8a15-4b64-850c-547c96599772",
   "metadata": {},
   "outputs": [],
   "source": [
    "# read kpp tend and from 3d zflux\n",
    "file_name = \"budg3d_kpptend_set1\"\n",
    "meta_budg3d_kpptend_set1 = parsemeta(dirIn + file_name + \".\" + tsstr[0] + \".meta\")\n",
    "fldlist = np.array(meta_budg3d_kpptend_set1[\"fldList\"])\n",
    "varnames = np.array([\"KPPg_TH\"])\n",
    "recs = np.array([])\n",
    "for var in varnames:\n",
    "    irec = np.where(fldlist == var)\n",
    "    recs = np.append(recs, irec[0][0])\n",
    "KPPg_TH,its,meta = rdmds(os.path.join(dirIn, file_name),t2,returnmeta=True,rec=recs[0])\n",
    "KPPg_TH = KPPg_TH.reshape(nz,ny,nx)\n",
    "\n",
    "# now 3d zfluxes\n",
    "file_name = \"budg3d_zflux_set2\"\n",
    "meta_budg3d_zflux_set2 = parsemeta(dirIn + file_name + \".\" + tsstr[0] + \".meta\")\n",
    "fldlist = np.array(meta_budg3d_zflux_set2[\"fldList\"])\n",
    "varnames = np.array([\"ADVr_TH\",\"DFrE_TH\",\"DFrI_TH\"])\n",
    "recs = np.array([])\n",
    "for var in varnames:\n",
    "    irec = np.where(fldlist == var)\n",
    "    recs = np.append(recs, irec[0][0])\n",
    "ADVr_TH,its,meta = rdmds(os.path.join(dirIn, file_name),t2,returnmeta=True,rec=recs[0])\n",
    "DFrE_TH,its,meta = rdmds(os.path.join(dirIn, file_name),t2,returnmeta=True,rec=recs[1])\n",
    "DFrI_TH,its,meta = rdmds(os.path.join(dirIn, file_name),t2,returnmeta=True,rec=recs[2])\n",
    "ADVr_TH = ADVr_TH.reshape(nz,ny,nx)\n",
    "DFrE_TH = DFrE_TH.reshape(nz,ny,nx)\n",
    "DFrI_TH = DFrI_TH.reshape(nz,ny,nx)"
   ]
  },
  {
   "cell_type": "code",
   "execution_count": 38,
   "id": "662ec9a3-8e35-4b13-a46d-1dda1ad0371d",
   "metadata": {},
   "outputs": [
    {
     "name": "stdout",
     "output_type": "stream",
     "text": [
      "2\n"
     ]
    }
   ],
   "source": [
    "budgO['heatzconv']=TFLUX+geothFlux+SPforcT1                           # W/m^2 = J/m^2/s\n",
    "zconv_top_heat = TFLUX  * RAC     # W/m^2 * m^2 = J/s\n",
    "budgI['heatzconv']=-(SItflux+TFLUX-TRELAX+SPforcT1)\n",
    "\n",
    "if myparms['useNLFS']==0:\n",
    "    print(1)\n",
    "    budgO['heatzconv']=budgO['heatzconv']-myparms['rcp']*WTHMASS[:,:]     # degC.m/s * J/m^3degC = J/m^2.s\n",
    "\n",
    "budgI['heatzconv']=budgI['heatzconv']-SIabflux+SIacflux+SIeprflx\n",
    "if(myparms['SEAICEheatConsFix']==0):\n",
    "    print(2)\n",
    "    budgI['heatzconv']=budgI['heatzconv']+SIaaflux"
   ]
  },
  {
   "cell_type": "code",
   "execution_count": 39,
   "id": "dabd434a-1b74-4ce0-bd63-80c42ed108e7",
   "metadata": {},
   "outputs": [],
   "source": [
    "nr = mygrid['RC'].shape[0]\n",
    "trWtopADV = -(ADVr_TH) * myparms['rcp']         # J/s\n",
    "trWtopDF = -(DFrE_TH+DFrI_TH) * myparms['rcp']  # J/s\n",
    "trWtopKPP = -(KPPg_TH) * myparms['rcp']         # J/s\n",
    "trWtop = trWtopADV + trWtopDF + trWtopKPP       # J/s\n",
    "dd = mygrid['RF'][:-1]\n",
    "swfrac = 0.62*np.exp(dd/0.6)+(1-0.62)*np.exp(dd/20)\n",
    "swfrac[dd < -200] = 0\n",
    "swtop=mk3D_mod(swfrac,trWtop)*mk3D_mod(RAC*oceQsw,trWtop)   # J/s\n",
    "mskC=mygrid['mskC']\n",
    "swtop[np.isnan(mskC)]=0\n",
    "trWtop=trWtop+swtop  # 323\n",
    "    \n",
    "trWtop[0,:,:]=budgO['heatzconv']*RAC\n",
    "trWbot = np.zeros_like(trWtop)\n",
    "trWbot[:-1,:,:]=trWtop[1:,:,:]\n",
    "\n",
    "budgO[\"heatfluxes\"][\"trWtop\"] = trWtop\n",
    "budgO[\"heatfluxes\"][\"trWbot\"] = trWbot"
   ]
  },
  {
   "cell_type": "code",
   "execution_count": 40,
   "id": "ae51f03a-ab9a-478c-8407-ab1be9f0040d",
   "metadata": {},
   "outputs": [],
   "source": [
    "budgI[\"heatfluxes\"][\"trWtop\"] = -RAC * (budgI[\"heatzconv\"] + budgO[\"heatzconv\"])\n",
    "budgI[\"heatfluxes\"][\"trWbot\"] = -RAC * budgO[\"heatzconv\"]\n",
    "budgO['heatfluxes']['zconv']=budgO['heatfluxes']['trWtop']-budgO['heatfluxes']['trWbot']\n",
    "\n",
    "budgO['heatzconv'] = RAC*budgO['heatzconv']  # J/s\n",
    "budgI['heatzconv']=RAC*budgI['heatzconv']    # J/s\n",
    "budgOI['heatzconv']=budgO['heatzconv']+budgI['heatzconv']"
   ]
  },
  {
   "cell_type": "code",
   "execution_count": 41,
   "id": "12e1058e-b337-4f5a-a0f0-ef5d645f167c",
   "metadata": {},
   "outputs": [],
   "source": [
    "# do vertical convergence for ADV and DF terms\n",
    "tmpadv = np.full((nz,ny,nx),np.nan)\n",
    "tmpadv[:-1,:,:] = (trWtopADV[:-1] - trWtopADV[1:])              # for surface thru seafloor\n",
    "\n",
    "Tconv = budgO['heatfluxes']['ADV_hconv'] + tmpadv\n",
    "budgO['heatfluxes']['ADV_Tconv'] = Tconv      # J/s, this is the advective arrow of T for a cell"
   ]
  },
  {
   "cell_type": "code",
   "execution_count": 42,
   "id": "fa20e5bb-38d6-451c-858b-d441643a2538",
   "metadata": {},
   "outputs": [],
   "source": [
    "# do vertical convergence for ADV and DF terms\n",
    "tmpdf = np.full((nz,ny,nx),np.nan)\n",
    "tmpdf[:-1,:,:] = (trWtopDF[:-1] - trWtopDF[1:])              # for surface thru seafloor\n",
    "\n",
    "dfTconv = budgO['heatfluxes']['DF_hconv'] + tmpdf\n",
    "budgO['heatfluxes']['DF_Tconv'] = dfTconv      # J/s, this is the diffusive arrow of T for a cell"
   ]
  },
  {
   "cell_type": "code",
   "execution_count": 43,
   "id": "225f7c50-c0bc-4e87-a2fd-e77680dadfb0",
   "metadata": {},
   "outputs": [],
   "source": [
    "tmpkpp = np.full((nz,ny,nx),np.nan)\n",
    "tmpkpp[:-1,:,:] = trWtopKPP[:-1] - trWtopKPP[1:]\n",
    "budgO['heatfluxes']['KPP_Tconv'] = tmpkpp        # no horizontal component for this"
   ]
  },
  {
   "cell_type": "markdown",
   "id": "598b26a0-7586-4a4b-8a43-a5241455a821",
   "metadata": {},
   "source": [
    "### Show that this is budgeted"
   ]
  },
  {
   "cell_type": "code",
   "execution_count": 44,
   "id": "8a0d145b-a96b-42bb-a888-ca7005c5c7f3",
   "metadata": {},
   "outputs": [],
   "source": [
    "# now we can plot these the same way as we did for salt\n",
    "# Data variables (as given in your initial code)\n",
    "a = budgO['heatfluxes']['tend']\n",
    "b = budgO['heatfluxes']['ADV_Tconv']\n",
    "c = budgO['heatfluxes']['DF_Tconv']\n",
    "d = budgO['heatfluxes']['KPP_Tconv']\n",
    "e = zconv_top_heat.reshape(1,ny,nx)                 # NOTE - this is only at the surface\n",
    "f = swtop"
   ]
  },
  {
   "cell_type": "code",
   "execution_count": 45,
   "id": "06289f45-228d-4565-a8b6-05802fab7f44",
   "metadata": {},
   "outputs": [
    {
     "data": {
      "image/png": "[encoded data removed]",
      "text/plain": [
       "<Figure size 950x400 with 2 Axes>"
      ]
     },
     "metadata": {},
     "output_type": "display_data"
    }
   ],
   "source": [
    "# show the convergence of heat at depth - I will make this a 1 by 2 plot so I can look at things easier\n",
    "plt.figure(figsize=(9.5, 4))\n",
    "\n",
    "aa = np.zeros((nz, 2))\n",
    "plt.suptitle(\"Budget for T convergence\")\n",
    "\n",
    "n = 1\n",
    "ix, iy, k = pt[n-1]\n",
    "aa[:, n-1] = (a[:, iy, ix] - b[:, iy, ix] - c[:, iy, ix] - d[:, iy, ix])\n",
    "aa[1:-1, n-1] += (f[2:,iy,ix] - f[1:-1,iy,ix])    # for swtop we want the difference between the top and bottom\n",
    "aa[0, n-1] += f[1,iy,ix]\n",
    "aa[0, n-1] -= zconv_top_heat[iy, ix]      # subtract the TFLUX at the surface only\n",
    "plt.subplot(1, 2, n)\n",
    "plt.plot(aa[:, n-1], -np.arange(1, nz+1), '.-')\n",
    "plt.grid()\n",
    "plt.xlabel(\"Net Theta\")\n",
    "plt.ylabel(\"Model Depth Level\")\n",
    "plt.title(f\"[ix,iy]=[{iy},{ix}]; {100 * np.nanmax(np.abs(aa[:, n-1]))/np.nanmax(np.abs(budgO['heatfluxes']['zconv'][:,iy, ix]))}%\")\n",
    "\n",
    "n = 2\n",
    "ix, iy, k = pt[n-1]\n",
    "aa[:, n-1] = a[:, iy, ix] - b[:, iy, ix] - c[:, iy, ix] - d[:, iy, ix]\n",
    "aa[1:-1, n-1] += (f[2:,iy,ix] - f[1:-1,iy,ix])\n",
    "aa[0, n-1] += f[1,iy,ix]\n",
    "aa[0, n-1] -= zconv_top_heat[iy, ix]                   # this is because we already included the TFLUX\n",
    "plt.subplot(1, 2, n)\n",
    "plt.plot(aa[:, n-1], -np.arange(1, nz+1), '.-')\n",
    "plt.grid()\n",
    "plt.xlabel(\"Net Theta\")\n",
    "plt.ylabel(\"Model Depth Level\")\n",
    "plt.title(f\"[ix,iy]=[{iy},{ix}]; {100 * np.nanmax(np.abs(aa[:, n-1]))/np.nanmax(np.abs(budgO['heatfluxes']['zconv'][:,iy, ix]))}%\")\n",
    "    \n",
    "        \n",
    "plt.tight_layout()\n",
    "plt.show()"
   ]
  },
  {
   "cell_type": "markdown",
   "id": "aa945568-5957-46ef-ac2b-97ae070331c3",
   "metadata": {},
   "source": [
    "# get volume and TS values from bins"
   ]
  },
  {
   "cell_type": "code",
   "execution_count": 46,
   "id": "d3bb1e6d-7a69-4666-9964-0d888563acd5",
   "metadata": {},
   "outputs": [],
   "source": [
    "ffac = 1e-6"
   ]
  },
  {
   "cell_type": "code",
   "execution_count": 47,
   "id": "b1624c80-055a-4ea5-a6ca-8e4572b4d846",
   "metadata": {},
   "outputs": [
    {
     "name": "stdout",
     "output_type": "stream",
     "text": [
      "volume allocation shape (2, 50, 1350, 270)\n",
      "(2, 50, 1350, 270)\n"
     ]
    }
   ],
   "source": [
    "# for mass tendency (m^3/s) - time is not yet included in this block\n",
    "file_name = 'budg2d_snap_set1'\n",
    "\n",
    "# assuming all files are structured the same\n",
    "meta_budg2d_snap_set1 = parsemeta(dirIn + file_name + \".\" + tsstr[0]+ \".meta\")\n",
    "# try to read this with rec\n",
    "fldlist = np.array(meta_budg2d_snap_set1['fldList'])\n",
    "varnames = np.array(['ETAN'])\n",
    "recs = np.array([])\n",
    "for var in varnames:\n",
    "    irec = np.where(fldlist == var)\n",
    "    recs = np.append(recs, irec[0][0])\n",
    "\n",
    "# set for all months\n",
    "vol = np.zeros((len(tsstr),nz, ny, nx))\n",
    "print(\"volume allocation shape\",vol.shape)\n",
    "\n",
    "for t in range(len(tsstr)):\n",
    "    t1 = tsstr[t]\n",
    "    read = [int(t1)]\n",
    "\n",
    "    # make sure order we write the variables is the same as the order in varnames, else we read the wrong thing\n",
    "    ETAN,its,meta = rdmds(os.path.join(dirIn, file_name),read,returnmeta=True,rec=recs[0])\n",
    "\n",
    "    # choose by basin\n",
    "    ETAN = np.reshape(ETAN,(ny,nx))\n",
    "\n",
    "    # ocean\n",
    "    if debug:\n",
    "        print(read,its[0],its[1]) # these iteration numbers should be the same as read\n",
    "\n",
    "    # 3D, with rStar:\n",
    "    tmpvol = np.zeros((nz, ny, nx))\n",
    "    if myparms['useNLFS'] < 2 or myparms['rStar'] == 0:        # not this time\n",
    "        tmpvol[0,:, :] = ETAN * myparms['rhoconst'] * RAC\n",
    "        if myparms['useRFWF'] == 0:\n",
    "            tmpvol[0, :, :] = np.zeros((ny, nx))\n",
    "    else:    # 4/22 look at this one\n",
    "        if myparms['useRFWF'] != 0:                                 # we are using this  # check if tmp1 is the same as drf3d!!\n",
    "            tmp1 = mk3D_mod(mygrid['DRF'],hfC) * hfC     # m\n",
    "            tmp2 = tmp1/mk3D_mod(DD,tmp1)                # drf as a fraction of total depth, this allows us to distribute etan between z\n",
    "        else:\n",
    "            tmp2 = drf3d / mk3D_mod(DD, tmp1)\n",
    "\n",
    "        # this is still wrong, we want to subtract the ETAN anomaly from the existing volumes\n",
    "        tmpvol =  (tmp1 + tmp2*mk3D_mod(ETAN, tmp2)) * mk3D_mod(RAC, hfC) * ffac     # volume, m * m^2  = m^3\n",
    "\n",
    "    vol[t,:,:,:] = tmpvol * np.tile(mymsk, (nz, 1, 1))\n",
    "\n",
    "print(vol.shape)"
   ]
  },
  {
   "cell_type": "code",
   "execution_count": 48,
   "id": "f6c3db32-ab68-4484-8116-a4938cddf0dc",
   "metadata": {},
   "outputs": [],
   "source": [
    "# read theta and salt averages from the t2 timestep (average)\n",
    "file_name = \"state_3d_set1\"\n",
    "meta_budg3d_kpptend_set1 = parsemeta(dirState + file_name + \".\" + tsstr[0] + \".meta\")\n",
    "fldlist = np.array(meta_budg3d_kpptend_set1[\"fldList\"])\n",
    "varnames = np.array([\"THETA\",\"SALT\"])\n",
    "recs = np.array([])\n",
    "for var in varnames:\n",
    "    irec = np.where(fldlist == var)\n",
    "    recs = np.append(recs, irec[0][0])\n",
    "THETA,its,meta = rdmds(os.path.join(dirState, file_name),t2,returnmeta=True,rec=recs[0])\n",
    "SALT,its,meta = rdmds(os.path.join(dirState, file_name),t2,returnmeta=True,rec=recs[1])\n",
    "\n",
    "theta = THETA.reshape(nz,ny,nx)\n",
    "salt = SALT.reshape(nz,ny,nx)"
   ]
  },
  {
   "cell_type": "code",
   "execution_count": 49,
   "id": "10f3988a-e7c1-485a-b44f-c73c23ab649a",
   "metadata": {},
   "outputs": [],
   "source": [
    "# create the bins of TS data\n",
    "# try new T bins where different sizes\n",
    "refined_section = np.linspace(-3,8,93)\n",
    "coarse_section = np.linspace(8,15,21,endpoint=False)\n",
    "binsTH_edges = np.concatenate((refined_section,coarse_section[1:]))\n",
    "binsTH_centers = (binsTH_edges[:-1] + binsTH_edges[1:])/2\n",
    "nT = binsTH_edges.shape[0]-1\n",
    "\n",
    "# do bi-sectional form for S\n",
    "coarse_section = np.linspace(0, 28, 30, endpoint=False)\n",
    "refined_section = np.linspace(28, 40, 83)\n",
    "binsSLT_edges = np.concatenate((coarse_section, refined_section))\n",
    "binsSLT_centers = (binsSLT_edges[:-1] + binsSLT_edges[1:])/2\n",
    "nS = binsSLT_edges.shape[0]-1\n",
    "\n",
    "Tbin,Sbin = np.meshgrid(binsTH_edges,binsSLT_edges)\n",
    "Tbincent,Sbincent = np.meshgrid(binsTH_centers,binsSLT_centers)\n",
    "\n",
    "binwidthT = binsTH_edges[1:] - binsTH_edges[:-1]\n",
    "binwidthS = binsSLT_edges[1:] - binsSLT_edges[:-1]\n",
    "dT,dS = np.meshgrid(binwidthT,binwidthS)\n",
    "dT = dT.reshape(112,112,1)\n",
    "dS = dS.reshape(112,112,1)\n",
    "\n",
    "\n",
    "# create the binned values for theta and salt\n",
    "# we want to bin theta and salt into the T and S bins\n",
    "binned_theta = bin_array(theta,binsTH_edges)\n",
    "binned_theta = binned_theta.astype(float)\n",
    "binned_theta[binned_theta == nT] = np.nan     # because the binning is setting nan to last value\n",
    "binned_salinity = bin_array(salt,binsSLT_edges)\n",
    "binned_salinity = binned_salinity.astype(float)\n",
    "binned_salinity[binned_salinity == nS] = np.nan"
   ]
  },
  {
   "cell_type": "markdown",
   "id": "c1405cd5-1891-42c7-919b-367127ceed52",
   "metadata": {},
   "source": [
    "# define the TS bin that we want to look at - create volume mesh"
   ]
  },
  {
   "cell_type": "code",
   "execution_count": 50,
   "id": "b302a367-6849-4252-b062-3a28f74e7b70",
   "metadata": {},
   "outputs": [],
   "source": [
    "maskArc = mskBasin * mymsk\n",
    "\n",
    "binwidthsS_tile = np.tile(binwidthS, (112, 1)).T\n",
    "binwidthsT_tile = np.tile(binwidthT, (112, 1))\n",
    "\n",
    "idxs = np.where(maskArc == iB)\n",
    "npoints = len(idxs[0])\n",
    "\n",
    "# if we want to do just the surface of the basin:\n",
    "surf_vol = vol.copy()\n",
    "surf_vol[:,1:,:,:] = np.nan\n",
    "mesh = create_TS_mesh(tsstr[:-1],nS,nT,npoints,binned_salinity.reshape(1,nz,ny,nx), binned_theta.reshape(1,nz,ny,nx),surf_vol,idxs,dT,dS)"
   ]
  },
  {
   "cell_type": "code",
   "execution_count": 51,
   "id": "9a276e0b-667b-40b1-b435-9e7223405372",
   "metadata": {},
   "outputs": [],
   "source": [
    "# sum the volume from the points in dimension 2\n",
    "vol_mesh = np.nansum(mesh[0],axis=2)"
   ]
  },
  {
   "cell_type": "code",
   "execution_count": 52,
   "id": "01a0cbed-2617-4409-a153-3d33250e597e",
   "metadata": {},
   "outputs": [],
   "source": [
    "cmap = plt.get_cmap('RdBu_r',31).copy()\n",
    "cmap.set_under(color='white')\n",
    "cmap2 = plt.get_cmap('viridis',31).copy()\n",
    "cmap2.set_under(color='white')"
   ]
  },
  {
   "cell_type": "markdown",
   "id": "1bc3f853-de6c-4ce5-b980-717d355d802e",
   "metadata": {},
   "source": [
    "# do some analysis, now we're set up with the TS bins and volumes"
   ]
  },
  {
   "cell_type": "code",
   "execution_count": 53,
   "id": "a47030bf-6a33-4702-b48f-1f3e65ff843a",
   "metadata": {},
   "outputs": [
    {
     "data": {
      "image/png": "[encoded data removed]",
      "text/plain": [
       "<Figure size 600x400 with 2 Axes>"
      ]
     },
     "metadata": {},
     "output_type": "display_data"
    }
   ],
   "source": [
    "# just plot volume to start ( I am scared I messed something up )\n",
    "# remake the previous figure with scaled arrows\n",
    "fig = plt.figure(figsize=(6,4))\n",
    "\n",
    "sfact = 6   # scale factor for x (PSU in denom, multiply out)\n",
    "arrow_length = 0.25     # for the sverdrup arrows\n",
    "step=2\n",
    "t = 0\n",
    "U = .25\n",
    "\n",
    "ax1 = plt.subplot(111)\n",
    "cb1 = ax1.pcolormesh(Sbin, Tbin, np.log10(vol_mesh), cmap=cmap2, vmin=0.01)\n",
    "# U1, V1 = -G_S_vec_m1,G_T_vec_m1/16\n",
    "# q1 = ax1.quiver(Sbincent[::step,::step], Tbincent[::step,::step], U1[::step,::step], V1[::step,::step], width=0.005,scale=2e0)\n",
    "plt.colorbar(cb1, label=\"log_10(m^3/degC/PSU)\")\n",
    "ax1.set_title(strb[iB] + \" surface volume dist. snap \" + datetimes[0].strftime(\"%Y-%m-%d\"))\n",
    "ax1.set_xlim(28,36)\n",
    "ax1.set_ylim(-2,6)\n",
    "ax1.grid()\n",
    "# ax1.quiverkey(q1,X=0.1,Y=0.9,U = U,label=str(U) + \" Sv\")"
   ]
  },
  {
   "cell_type": "code",
   "execution_count": 54,
   "id": "d7051cbc-e9ee-41f1-8016-13cdce2bf5ac",
   "metadata": {},
   "outputs": [],
   "source": [
    "# np.where(vol_mesh != 0)"
   ]
  },
  {
   "cell_type": "code",
   "execution_count": 55,
   "id": "a5f7dd41-d8f0-478e-813d-df84a9c00b55",
   "metadata": {},
   "outputs": [
    {
     "data": {
      "image/png": "[encoded data removed]",
      "text/plain": [
       "<Figure size 600x400 with 2 Axes>"
      ]
     },
     "metadata": {},
     "output_type": "display_data"
    }
   ],
   "source": [
    "# pick a point based on this mesh\n",
    "# np.where(vol_mesh != 0)\n",
    "# vol_mesh[73,18]\n",
    "\n",
    "small_mesh = np.zeros_like(vol_mesh) # make an array of zeros to look like the total surface mesh\n",
    "small_mesh[74,43] = vol_mesh[74,43]\n",
    "\n",
    "\n",
    "fig = plt.figure(figsize=(6,4))\n",
    "\n",
    "sfact = 6   # scale factor for x (PSU in denom, multiply out)\n",
    "arrow_length = 0.25     # for the sverdrup arrows\n",
    "step=2\n",
    "t = 0\n",
    "U = .25\n",
    "\n",
    "ax1 = plt.subplot(111)\n",
    "cb1 = ax1.pcolormesh(Sbin, Tbin, np.log10(small_mesh), cmap=cmap2, vmin=0.01)\n",
    "plt.colorbar(cb1, label=\"log_10(m^3/degC/PSU)\")\n",
    "ax1.set_title(strb[iB] + \" surface volume dist. snap \" + datetimes[0].strftime(\"%Y-%m-%d\"))\n",
    "ax1.set_xlim(28,36)\n",
    "ax1.set_ylim(-2,6)\n",
    "ax1.grid()"
   ]
  },
  {
   "cell_type": "markdown",
   "id": "7a0feba7-243c-4409-8583-482bf3d60465",
   "metadata": {},
   "source": [
    "# select the points from the surface in some TS bin"
   ]
  },
  {
   "cell_type": "code",
   "execution_count": 56,
   "id": "b001e885-991e-4858-a6b7-972c4f8033f3",
   "metadata": {},
   "outputs": [
    {
     "name": "stdout",
     "output_type": "stream",
     "text": [
      "34.4390243902439\n",
      "2.141304347826087\n"
     ]
    }
   ],
   "source": [
    "iS = 74\n",
    "iT = 43\n",
    "\n",
    "# \n",
    "print(binsSLT_edges[iS])  # this is the bin we want to select from as verified from above\n",
    "print(binsTH_edges[iT])\n",
    "\n",
    "# also print the range of bins for this"
   ]
  },
  {
   "cell_type": "code",
   "execution_count": 57,
   "id": "5f329534-ae9c-418d-bf07-215083ae03e9",
   "metadata": {},
   "outputs": [],
   "source": [
    "# copy over the surface volume\n",
    "surf_vol = vol.copy()\n",
    "surf_vol[:,1:,:,:] = np.nan\n",
    "\n",
    "# get the indices of the binned_theta and binned_salinity in the desired range\n",
    "iT_sel = np.where(binned_theta[0]*mymsk == iT)     # xyz points in the T range, surface\n",
    "iS_sel = np.where(binned_salinity[0]*mymsk == iS)  # xyz points in the S range, surface\n",
    "\n",
    "# get the overlap of iT_sel and iS_sel - this is our bin\n",
    "# create arrays of x,y points based on these\n",
    "pts_T = np.stack((iT_sel[0],iT_sel[1]))\n",
    "pts_T = pts_T.T                             # y,x of cells in T bin\n",
    "pts_S = np.stack((iS_sel[0],iS_sel[1]))\n",
    "pts_S = pts_S.T                             # y,x of cells in S bin"
   ]
  },
  {
   "cell_type": "code",
   "execution_count": 58,
   "id": "72e333ed-1525-4853-8f60-126e309cbe48",
   "metadata": {},
   "outputs": [
    {
     "data": {
      "text/plain": [
       "<matplotlib.collections.QuadMesh at 0x14f1fe1f37c0>"
      ]
     },
     "execution_count": 58,
     "metadata": {},
     "output_type": "execute_result"
    },
    {
     "data": {
      "image/png": "[encoded data removed]",
      "text/plain": [
       "<Figure size 1000x400 with 1 Axes>"
      ]
     },
     "metadata": {},
     "output_type": "display_data"
    }
   ],
   "source": [
    "test = np.zeros((ny,nx))\n",
    "for i,j in zip(iT_sel[0],iT_sel[1]):\n",
    "    test[i,j] += 1\n",
    "a = test[450:720,:270]\n",
    "plt.pcolormesh(test[450:720,:270])"
   ]
  },
  {
   "cell_type": "code",
   "execution_count": 59,
   "id": "9f2c5b1d-cae2-4d37-a4b0-d5a56eb973c3",
   "metadata": {},
   "outputs": [
    {
     "data": {
      "text/plain": [
       "array([[445, 210],\n",
       "       [443, 203],\n",
       "       [444, 208],\n",
       "       [446, 210],\n",
       "       [443, 206],\n",
       "       [445, 209],\n",
       "       [443, 202],\n",
       "       [443, 205],\n",
       "       [445, 211],\n",
       "       [444, 209],\n",
       "       [446, 211],\n",
       "       [443, 207],\n",
       "       [443, 204]])"
      ]
     },
     "execution_count": 59,
     "metadata": {},
     "output_type": "execute_result"
    }
   ],
   "source": [
    "# do the intersection of the two arrays\n",
    "A = pts_T\n",
    "B = pts_S\n",
    "aset = set([tuple(x) for x in A])\n",
    "bset = set([tuple(x) for x in B])\n",
    "common_pts = np.array([x for x in aset & bset])\n",
    "common_pts                                            # this includes points in both face 1 and face 3"
   ]
  },
  {
   "cell_type": "code",
   "execution_count": 64,
   "id": "0a4f2540-8e89-4afa-af88-95bc0c1f5c1c",
   "metadata": {},
   "outputs": [
    {
     "data": {
      "text/plain": [
       "(400.0, 450.0)"
      ]
     },
     "execution_count": 64,
     "metadata": {},
     "output_type": "execute_result"
    },
    {
     "data": {
      "image/png": "[encoded data removed]",
      "text/plain": [
       "<Figure size 1000x500 with 2 Axes>"
      ]
     },
     "metadata": {},
     "output_type": "display_data"
    }
   ],
   "source": [
    "# double check the common points in the surface distribution and see\n",
    "# for i,j in zip(common_pts[:,0],common_pts[:,1]):\n",
    "#     print(theta[0,i,j],salt[0,i,j])\n",
    "\n",
    "# also plot these on the map\n",
    "# plot both faces so we can see where these are\n",
    "fig = plt.figure(figsize=(10,5))\n",
    "\n",
    "# face 3\n",
    "ax = plt.subplot(121)\n",
    "XV,YV = np.meshgrid(np.arange(0,270,1),np.arange(450,720,1))\n",
    "plt.pcolormesh(XV,YV,theta[0][450:720,:270]*mymsk[450:720,:270])\n",
    "\n",
    "# face 1 - scatter the points with the selected TS values\n",
    "ax = plt.subplot(122)\n",
    "XV,YV = np.meshgrid(np.arange(0,270,1),np.arange(0,450,1))\n",
    "ax.pcolormesh(XV,YV,theta[0][0:450,:270]*mymsk[0:450,:270])\n",
    "ax.scatter(common_pts[:,1],common_pts[:,0])\n",
    "ax.set_xlim(150,260)\n",
    "ax.set_ylim(400,450)"
   ]
  },
  {
   "cell_type": "code",
   "execution_count": 65,
   "id": "39b6b600-284e-488b-b43c-5d26694143cc",
   "metadata": {},
   "outputs": [],
   "source": [
    "# copy_surf_vol array, set values not in common_pts to nan\n",
    "bin_vol = np.zeros_like(surf_vol[1])\n",
    "for i,j in zip(common_pts[:,0],common_pts[:,1]):\n",
    "    bin_vol[0,i,j] += surf_vol[1,0,i,j]     # create the volume m^3 of surface values in the Barents Sea in this TS range"
   ]
  },
  {
   "cell_type": "code",
   "execution_count": 66,
   "id": "9f28ee5b-9659-461a-97d4-41a499616460",
   "metadata": {},
   "outputs": [
    {
     "data": {
      "text/plain": [
       "(1, 50, 1350, 270)"
      ]
     },
     "execution_count": 66,
     "metadata": {},
     "output_type": "execute_result"
    }
   ],
   "source": [
    "bin_vol = bin_vol.reshape(1,nz,ny,nx)\n",
    "bin_vol.shape"
   ]
  },
  {
   "cell_type": "code",
   "execution_count": 67,
   "id": "fdfb168d-1982-4aac-8919-b75caf6b124e",
   "metadata": {},
   "outputs": [],
   "source": [
    "maskArc = mskBasin * mymsk\n",
    "\n",
    "binwidthsS_tile = np.tile(binwidthS, (112, 1)).T\n",
    "binwidthsT_tile = np.tile(binwidthT, (112, 1))\n",
    "\n",
    "idxs = np.where(maskArc == iB)\n",
    "npoints = len(idxs[0])\n",
    "\n",
    "# if we want to do just the surface of the basin:\n",
    "mesh = create_TS_mesh(tsstr[1:],nS,nT,npoints,binned_salinity.reshape(1,nz,ny,nx), binned_theta.reshape(1,nz,ny,nx),bin_vol,idxs,dT,dS)"
   ]
  },
  {
   "cell_type": "code",
   "execution_count": 68,
   "id": "f4204be7-ad47-410a-98be-e850852a96ad",
   "metadata": {},
   "outputs": [],
   "source": [
    "small_mesh = np.nansum(mesh[0],axis=2)"
   ]
  },
  {
   "cell_type": "code",
   "execution_count": 69,
   "id": "bb36f021-2bc1-43fd-bfb5-07effb926417",
   "metadata": {},
   "outputs": [
    {
     "data": {
      "image/png": "[encoded data removed]",
      "text/plain": [
       "<Figure size 600x400 with 2 Axes>"
      ]
     },
     "metadata": {},
     "output_type": "display_data"
    }
   ],
   "source": [
    "# choose the points in the surface volume of the Barent's sea that match this value\n",
    "\n",
    "fig = plt.figure(figsize=(6,4))\n",
    "\n",
    "sfact = 6   # scale factor for x (PSU in denom, multiply out)\n",
    "\n",
    "ax1 = plt.subplot(111)\n",
    "cb1 = ax1.pcolormesh(Sbin, Tbin, np.log10(small_mesh), cmap=cmap2, vmin=0.01)\n",
    "plt.colorbar(cb1, label=\"log_10(m^3/degC/PSU)\")\n",
    "ax1.set_title(strb[iB] + \" surface volume dist. snap \" + datetimes[0].strftime(\"%Y-%m-%d\"))\n",
    "ax1.set_xlim(28,36)\n",
    "ax1.set_ylim(-2,6)\n",
    "ax1.grid()"
   ]
  },
  {
   "cell_type": "markdown",
   "id": "a02a7eb2-49cd-46e3-a20c-d79bad3b9d5a",
   "metadata": {},
   "source": [
    "# look at the J vectors for the given points"
   ]
  },
  {
   "cell_type": "code",
   "execution_count": null,
   "id": "1f770c3d-b16b-4c1e-ad0f-73742c5fd636",
   "metadata": {},
   "outputs": [],
   "source": [
    "# we can create this similarly to the patch but use xs, ys, and zs as the points in the common_pts"
   ]
  },
  {
   "cell_type": "code",
   "execution_count": 70,
   "id": "d8f260c3-fb7f-42e8-812b-bfd9f4225c84",
   "metadata": {},
   "outputs": [],
   "source": [
    "xs = common_pts[:,1]\n",
    "ys = common_pts[:,0]\n",
    "zs = np.zeros((ys.shape[0])).astype(int)"
   ]
  },
  {
   "cell_type": "code",
   "execution_count": 71,
   "id": "4846e4c9-f51a-4528-88a6-40a6a4ef6649",
   "metadata": {},
   "outputs": [
    {
     "name": "stdout",
     "output_type": "stream",
     "text": [
      "total residual -3.3306690738754696e-15 Sv/PSU\n"
     ]
    }
   ],
   "source": [
    "# make this a for loop for points just to start\n",
    "JtermsT = np.zeros((5,nS,nT))\n",
    "\n",
    "# get the data (will be the same for all points)\n",
    "aT = budgO['heatfluxes']['tend']\n",
    "bT = budgO['heatfluxes']['ADV_Tconv']\n",
    "cT = budgO['heatfluxes']['DF_Tconv']\n",
    "dT = budgO['heatfluxes']['KPP_Tconv']\n",
    "eT = zconv_top_heat.reshape(1,ny,nx)\n",
    "fT = swtop\n",
    "\n",
    "for k,i,j in zip(zs,ys,xs):\n",
    "    iTpt = int(binned_theta[k,i,j])\n",
    "    iSpt = int(binned_salinity[k,i,j])\n",
    "\n",
    "    # select for the column - this is ultimately overkill for just the surface\n",
    "    aa = np.zeros((nz, 1))\n",
    "    n = 0\n",
    "    aa[:, n] = (aT[:, i, j] - bT[:, i, j] - cT[:, i, j] - dT[:, i, j])\n",
    "    aa[1:-1, n] += (fT[2:,i,j] - fT[1:-1,i,j])    # for swtop we want the difference between the top and bottom\n",
    "    aa[0, n] += fT[1,i,j]\n",
    "    aa[0, n] -= zconv_top_heat[i, j]      # subtract the TFLUX at the surface only\n",
    "\n",
    "    # save the J terms for here for the single point   \n",
    "    JtendT = (aT[0,i,j]) / myparms['rcp'] / binwidthT[iTpt] / binwidthS[iSpt] * 1e-6             # Sv/PSU\n",
    "    JADVT = (bT[0,i,j]) / myparms['rcp'] / binwidthT[iTpt] / binwidthS[iSpt] * 1e-6              # Sv/PSU\n",
    "    JDFT = (cT[0,i,j]) / myparms['rcp'] / binwidthT[iTpt] / binwidthS[iSpt] * 1e-6               # Sv/PSU\n",
    "    JKPPT = (dT[0,i,j]) / myparms['rcp'] / binwidthT[iTpt] / binwidthS[iSpt] * 1e-6              # Sv/PSU\n",
    "    JsurfT = (eT[0,i,j] - fT[1,i,j]) / myparms['rcp'] / binwidthT[iTpt] / binwidthS[iSpt] * 1e-6 # Sv/PSU\n",
    "\n",
    "    # set these in meshes so we can plot\n",
    "    c = 0\n",
    "    for valT in (np.array([JtendT,JADVT,JDFT,JKPPT,JsurfT])):\n",
    "        #print(valT)\n",
    "        JtermsT[c,iSpt,iTpt] = valT\n",
    "        c += 1\n",
    "\n",
    "print(\"total residual\",np.nansum(JtermsT[0] - JtermsT[1] - JtermsT[2] - JtermsT[3] - JtermsT[4]),\"Sv/PSU\")"
   ]
  },
  {
   "cell_type": "code",
   "execution_count": 72,
   "id": "bfcb8285-9881-4606-a81e-40c81141c3cf",
   "metadata": {},
   "outputs": [
    {
     "name": "stdout",
     "output_type": "stream",
     "text": [
      "total residual -3.4033994270299095e-14 Sv/PSU\n"
     ]
    }
   ],
   "source": [
    "# initialize the J vectors for salt\n",
    "JtermsS = np.zeros((5,nS,nT))\n",
    "\n",
    "# get the values\n",
    "aS = budgO['saltfluxes']['tend']\n",
    "bS = budgO['saltfluxes']['ADV_Sconv']\n",
    "cS = budgO['saltfluxes']['DF_Sconv']\n",
    "dS = budgO['saltfluxes']['KPP_Sconv']\n",
    "eS = zconv_top_salt.reshape(1,ny,nx)\n",
    "fS = sptop\n",
    "\n",
    "for k,i,j in zip(zs,ys,xs):\n",
    "    iTpt = int(binned_theta[k,i,j])\n",
    "    iSpt = int(binned_salinity[k,i,j])\n",
    "\n",
    "    # do for one column - overkill but we can make it work here\n",
    "    aa = np.zeros((nz, 1))\n",
    "    n = 1\n",
    "    ix, iy, k = pt[n-1]\n",
    "    aa[:, n-1] = aS[:, i, j] - bS[:, i, j] - cS[:, i, j] - dS[:, i, j]\n",
    "    aa[1:, n-1] += (fS[1:,i,j] - fS[:-1,i,j])                                  # from the oceSPflx and oceSPtnd\n",
    "    aa[0, n-1] += fS[0,i,j]\n",
    "    aa[0, n-1] -= zconv_top_salt[i, j]\n",
    "    \n",
    "    # save the J terms for here for the single point   \n",
    "    JtendS = (aS[0,i,j]) / myparms['rhoconst'] / binwidthT[iTpt] / binwidthS[iSpt] * 1e-6             # Sv/degC\n",
    "    JADVS = (bS[0,i,j]) / myparms['rhoconst'] / binwidthT[iTpt] / binwidthS[iSpt] * 1e-6              # Sv/degC\n",
    "    JDFS = (cS[0,i,j]) / myparms['rhoconst'] / binwidthT[iTpt] / binwidthS[iSpt] * 1e-6               # Sv/degC\n",
    "    JKPPS = (dS[0,i,j]) / myparms['rhoconst'] / binwidthT[iTpt] / binwidthS[iSpt] * 1e-6              # Sv/degC\n",
    "    JsurfS= (eS[0,i,j] - fS[1,i,j]) / myparms['rhoconst'] / binwidthT[iTpt] / binwidthS[iSpt] * 1e-6  # Sv/degC\n",
    "\n",
    "    # set these in meshes so we can plot\n",
    "    c = 0\n",
    "    for valS in (np.array([JtendS,JADVS,JDFS,JKPPS,JsurfS])):\n",
    "        #print(valT)\n",
    "        JtermsS[c,iSpt,iTpt] = valS\n",
    "        c += 1\n",
    "\n",
    "# we will not print all terms here -- overkill\n",
    "print(\"total residual\",np.nansum(JtermsS[0] - JtermsS[1] - JtermsS[2] - JtermsS[3] - JtermsS[4]),\"Sv/PSU\")"
   ]
  },
  {
   "cell_type": "code",
   "execution_count": 81,
   "id": "ee000240-94c2-4d94-b183-54a476a0f82b",
   "metadata": {},
   "outputs": [
    {
     "data": {
      "image/png": "[encoded data removed]",
      "text/plain": [
       "<Figure size 1200x800 with 12 Axes>"
      ]
     },
     "metadata": {},
     "output_type": "display_data"
    }
   ],
   "source": [
    "# plot these on a figure to show the budgeted terms\n",
    "sfact = 8   # scale factor for x (PSU in denom, multiply out)\n",
    "arrow_length = 0.25     # for the sverdrup arrows\n",
    "step=2\n",
    "t = 0\n",
    "U = .01\n",
    "scale = 1e-1\n",
    "\n",
    "xlims = np.array([34.4,34.6])\n",
    "ylims = np.array([2.1,2.3])\n",
    "\n",
    "\n",
    "# first get the values and do conversions to Sv/degC or Sv/PSU\n",
    "fig = plt.figure(figsize = (12,8))\n",
    "\n",
    "# total tendency\n",
    "ax = plt.subplot(231)\n",
    "cb1 = ax.pcolormesh(Sbin, Tbin, np.log10(small_mesh), cmap=cmap2, vmin=0.01)\n",
    "U1, V1 = JtermsS[0],JtermsT[0]/sfact\n",
    "q1 = ax.quiver(Sbincent, Tbincent, U1, V1, width=0.005,scale=scale)\n",
    "plt.colorbar(cb1, label=\"log_10(m^3/degC/PSU)\")\n",
    "ax.set_title(\"total tend \" + datetimes[0].strftime(\"%Y-%m-%d\"))\n",
    "ax.set_xlim(xlims)\n",
    "ax.set_ylim(ylims)\n",
    "ax.grid()\n",
    "ax.quiverkey(q1,X=0.1,Y=0.9,U = U,label=str(U) + \" Sv/degC\")\n",
    "\n",
    "# ADV tendency\n",
    "ax = plt.subplot(232)\n",
    "cb1 = ax.pcolormesh(Sbin, Tbin, np.log10(small_mesh), cmap=cmap2, vmin=0.01)\n",
    "U1, V1 = JtermsS[1],JtermsT[1]/sfact\n",
    "q1 = ax.quiver(Sbincent, Tbincent, U1, V1, width=0.005,scale=scale)\n",
    "plt.colorbar(cb1, label=\"log_10(m^3/degC/PSU)\")\n",
    "ax.set_title(\"ADV J at surf \" + datetimes[0].strftime(\"%Y-%m-%d\"))\n",
    "ax.set_xlim(xlims)\n",
    "ax.set_ylim(ylims)\n",
    "ax.grid()\n",
    "ax.quiverkey(q1,X=0.1,Y=0.9,U = U,label=str(U) + \" Sv/degC\")\n",
    "\n",
    "# DF tendency\n",
    "ax = plt.subplot(233)\n",
    "cb1 = ax.pcolormesh(Sbin, Tbin, np.log10(small_mesh), cmap=cmap2, vmin=0.01)\n",
    "U1, V1 = JtermsS[2],JtermsT[2]/sfact\n",
    "q1 = ax.quiver(Sbincent, Tbincent, U1, V1, width=0.005,scale=scale)\n",
    "plt.colorbar(cb1, label=\"log_10(m^3/degC/PSU)\")\n",
    "ax.set_title(\"DF J at surf \" + datetimes[0].strftime(\"%Y-%m-%d\"))\n",
    "ax.set_xlim(xlims)\n",
    "ax.set_ylim(ylims)\n",
    "ax.grid()\n",
    "ax.quiverkey(q1,X=0.1,Y=0.9,U = U,label=str(U) + \" Sv/degC\")\n",
    "\n",
    "# KPP tendency\n",
    "ax = plt.subplot(234)\n",
    "cb1 = ax.pcolormesh(Sbin, Tbin, np.log10(small_mesh), cmap=cmap2, vmin=0.01)\n",
    "U1, V1 = JtermsS[3],JtermsT[3]/sfact\n",
    "q1 = ax.quiver(Sbincent, Tbincent, U1, V1, width=0.005,scale=scale)\n",
    "plt.colorbar(cb1, label=\"log_10(m^3/degC/PSU)\")\n",
    "ax.set_title(\"KPP J at surf \" + datetimes[0].strftime(\"%Y-%m-%d\"))\n",
    "ax.set_xlim(xlims)\n",
    "ax.set_ylim(ylims)\n",
    "ax.grid()\n",
    "ax.quiverkey(q1,X=0.1,Y=0.9,U = U,label=str(U) + \" Sv/degC\")\n",
    "\n",
    "# surface tendency\n",
    "ax = plt.subplot(235)\n",
    "cb1 = ax.pcolormesh(Sbin, Tbin, np.log10(small_mesh), cmap=cmap2, vmin=0.01)\n",
    "U1, V1 = JtermsS[4],JtermsT[4]/sfact\n",
    "q1 = ax.quiver(Sbincent, Tbincent, U1, V1, width=0.005,scale=scale)\n",
    "plt.colorbar(cb1, label=\"log_10(m^3/degC/PSU)\")\n",
    "ax.set_title(\"surf J at surf \" + datetimes[0].strftime(\"%Y-%m-%d\"))\n",
    "ax.set_xlim(xlims)\n",
    "ax.set_ylim(ylims)\n",
    "ax.grid()\n",
    "ax.quiverkey(q1,X=0.1,Y=0.9,U = U,label=str(U) + \" Sv/degC\")\n",
    "\n",
    "# for total tendency for this square from terms\n",
    "ax = plt.subplot(236)\n",
    "cb1 = ax.pcolormesh(Sbin, Tbin, np.log10(small_mesh), cmap=cmap2, vmin=0.01)\n",
    "U1, V1 = (JtermsS[1] + JtermsS[2] + JtermsS[3] + JtermsS[4]),(JtermsT[1] + JtermsT[2] + JtermsT[3] + JtermsT[4])/sfact\n",
    "q1 = ax.quiver(Sbincent, Tbincent, U1, V1, width=0.005,scale=scale)\n",
    "plt.colorbar(cb1, label=\"log_10(m^3/degC/PSU)\")\n",
    "ax.set_title(\"ADV + DF + KPP + surface J\" + datetimes[0].strftime(\"%Y-%m-%d\"))\n",
    "ax.set_xlim(xlims)\n",
    "ax.set_ylim(ylims)\n",
    "ax.grid()\n",
    "ax.quiverkey(q1,X=0.2,Y=0.81,U = U,label=str(U) + \" Sv/degC\")\n",
    "\n",
    "# save the figure for this point\n",
    "title = f\"Surface J terms for ({binsSLT_edges[iS]:.2f} - {binsSLT_edges[iS+1]:.2f}) and ({binsTH_edges[iT]:.2f} - {binsTH_edges[iT+1]:.2f})\"\n",
    "plt.suptitle(title)\n",
    "\n",
    "plt.savefig(path + \"example_surface_TSbin.png\",dpi=300)"
   ]
  },
  {
   "cell_type": "markdown",
   "id": "02df4fa5-6d68-48d1-96b9-1abf34f681ea",
   "metadata": {},
   "source": [
    "# Let's also look at the exact values and see if these are budgeted and by how much"
   ]
  },
  {
   "cell_type": "code",
   "execution_count": 86,
   "id": "1561d485-2615-4f16-a6d2-95f1d0bc07ca",
   "metadata": {},
   "outputs": [
    {
     "name": "stdout",
     "output_type": "stream",
     "text": [
      "-0.04157506317509684\n",
      "0.007380716737599763\n",
      "0.2848952295006077\n",
      "0.0033844520993248366\n",
      "-0.33723546151262584\n",
      "\n",
      "-0.04157506317509352\n",
      "residual:  3.3237301799715624e-15\n"
     ]
    }
   ],
   "source": [
    "# start with the Jterms for temperature\n",
    "# there is only one value in each of the sub-arrays of the JtermsT and JtermsS, so we can look at that one\n",
    "samples = np.array([])\n",
    "for i in range(5):\n",
    "    tmp = JtermsT[i].copy()\n",
    "    tmp[tmp == 0] = np.nan\n",
    "    print(np.nanmax(tmp))\n",
    "    samples = np.append(samples,np.nanmax(tmp))\n",
    "\n",
    "print()\n",
    "summed_tmp = (samples[1]+samples[2]+samples[3]+samples[4])\n",
    "print(summed_tmp)\n",
    "print(\"residual: \",summed_tmp - samples[0])"
   ]
  },
  {
   "cell_type": "code",
   "execution_count": 87,
   "id": "f215d3f9-79c6-49a0-94a5-aa59937c4165",
   "metadata": {},
   "outputs": [
    {
     "name": "stdout",
     "output_type": "stream",
     "text": [
      "-0.015091829457483807\n",
      "-0.0971815912642431\n",
      "0.08173743416319984\n",
      "0.00035232764359348394\n",
      "5.279094777674076e-18\n",
      "\n",
      "-0.015091829457449768\n",
      "residual:  3.403874404561691e-14\n"
     ]
    }
   ],
   "source": [
    "samples = np.array([])\n",
    "for i in range(5):\n",
    "    tmp = JtermsS[i].copy()\n",
    "    tmp[tmp == 0] = np.nan\n",
    "    print(np.nanmax(tmp))\n",
    "    samples = np.append(samples,np.nanmax(tmp))\n",
    "\n",
    "print()\n",
    "summed_tmp = (samples[1]+samples[2]+samples[3]+samples[4])\n",
    "print(summed_tmp)\n",
    "print(\"residual: \",summed_tmp - samples[0])"
   ]
  },
  {
   "cell_type": "code",
   "execution_count": null,
   "id": "6639afd9-0673-4008-be24-b1383f9c8604",
   "metadata": {},
   "outputs": [],
   "source": []
  }
 ],
 "metadata": {
  "kernelspec": {
   "display_name": "py38",
   "language": "python",
   "name": "py38"
  },
  "language_info": {
   "codemirror_mode": {
    "name": "ipython",
    "version": 3
   },
   "file_extension": ".py",
   "mimetype": "text/x-python",
   "name": "python",
   "nbconvert_exporter": "python",
   "pygments_lexer": "ipython3",
   "version": "3.8.18"
  }
 },
 "nbformat": 4,
 "nbformat_minor": 5
}
