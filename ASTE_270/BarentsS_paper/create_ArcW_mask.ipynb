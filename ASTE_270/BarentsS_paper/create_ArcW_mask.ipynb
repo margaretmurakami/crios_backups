{
 "cells": [
  {
   "cell_type": "markdown",
   "id": "3d584d59-f79b-4555-b578-425ff573f21b",
   "metadata": {},
   "source": [
    "# Introduction\n",
    "\n",
    "The purpose of this notebook will be to replicate the figure 1d from Lind 2018. This will ideally do this and create a 3D mask of the Atlantic Water based on the T--S ranges."
   ]
  },
  {
   "cell_type": "markdown",
   "id": "1776d5cd-1a72-4669-a92d-7ff0bb0bd06e",
   "metadata": {},
   "source": [
    "# Import packages and functions"
   ]
  },
  {
   "cell_type": "code",
   "execution_count": 128,
   "id": "275a87b4-879d-4875-bdab-4f2f0006f42c",
   "metadata": {},
   "outputs": [],
   "source": [
    "import numpy as np\n",
    "import sys\n",
    "import matplotlib.pyplot as plt\n",
    "import xarray as xr\n",
    "import matplotlib as mpl\n",
    "import time\n",
    "import gsw\n",
    "from matplotlib.colors import TwoSlopeNorm\n",
    "\n",
    "# import existing python files\n",
    "plt.rcParams['figure.figsize'] = (10,4)\n",
    "\n",
    "# add rdmds reading functions to path\n",
    "sys.path.append(\"/home/mmurakami/MITgcm/MITgcm_c68r/MITgcm-checkpoint68r/utils/python/MITgcmutils/MITgcmutils/\") # go to parent dir\n",
    "from mds import *\n",
    "\n",
    "# add the other files\n",
    "sys.path.append(\"/home/mmurakami/crios_backups/an_helper_functions\")\n",
    "from read_binary import *\n",
    "from mk3D_mod import mk3D_mod\n",
    "from aste_helper_funcs import *\n",
    "from timing_functions import *           # ts2dte, get_fnames, etc.\n",
    "\n",
    "# ignore warnings\n",
    "import warnings\n",
    "warnings.filterwarnings('ignore')"
   ]
  },
  {
   "cell_type": "code",
   "execution_count": 129,
   "id": "87c2b593-d8a1-4b0e-92ab-0fe996e532ac",
   "metadata": {},
   "outputs": [
    {
     "name": "stdout",
     "output_type": "stream",
     "text": [
      "(50,) (50, 1350, 270)\n",
      "hf1 (1350, 270)\n",
      "(1, 1350, 270)\n",
      "LwetC2d 146614\n",
      "LwetC 4833023\n",
      "\n"
     ]
    }
   ],
   "source": [
    "%run /home/mmurakami/crios_backups/an_helper_functions/prep_grid.py"
   ]
  },
  {
   "cell_type": "markdown",
   "id": "6112faf2-3c83-4d13-9238-ad5a33a88684",
   "metadata": {},
   "source": [
    "# load the files"
   ]
  },
  {
   "cell_type": "code",
   "execution_count": 133,
   "id": "f5a022a3-f3ec-432a-9a06-665f45295a43",
   "metadata": {},
   "outputs": [],
   "source": [
    "# load the timesteps\n",
    "dt_aste = 600\n",
    "startyr = 2002\n",
    "endyr = 2019\n",
    "\n",
    "# all the filenames in the system\n",
    "fnames = get_fnames(dt_aste,startyr,endyr)\n",
    "\n",
    "# ocean and ice\n",
    "AB_gT=0\n",
    "AB_gS=0\n",
    "\n",
    "# allyears = np.arange(2003,2018,1)\n",
    "# allyears = np.arange(2003,2008,1)\n",
    "allyears = np.arange(2003,2018,1)\n",
    "\n",
    "dterm = 19                 # set a terminal depth for freshwater and heat calculations"
   ]
  },
  {
   "cell_type": "code",
   "execution_count": 135,
   "id": "5172f95a-2c33-4a85-8f43-f9628cbe663e",
   "metadata": {},
   "outputs": [
    {
     "name": "stdout",
     "output_type": "stream",
     "text": [
      "364500\n"
     ]
    }
   ],
   "source": [
    "# load the existing mask of the Barents Sea -- this is what we will work from \n",
    "whole = True\n",
    "if not whole:\n",
    "    iB = 6    # example read from BarentsSea\n",
    "    \n",
    "# mymsk below defines as all Arctic down to Fram Strait and BSO but not GINs Seas\n",
    "mymsk = mskBasin.copy()\n",
    "mask = ~np.isnan(mymsk)\n",
    "\n",
    "# Create a boolean mask for elements that are 6 or less\n",
    "# mask = mymsk <7\n",
    "# if whole:\n",
    "#     mask = (mymsk < 5) | (mymsk==6) \n",
    "# else:\n",
    "mask = mymsk == 6\n",
    "\n",
    "# Set elements that are greater than 6 to np.nan\n",
    "mymsk[mask] = 1\n",
    "mymsk[~mask] = np.nan\n",
    "\n",
    "test = get_aste_tracer(mymsk,nfx,nfy)[0]\n",
    "# test[:,:270] = np.nan\n",
    "mymsk = test\n",
    "\n",
    "mymsk = aste_tracer2compact(mymsk,nfx,nfy)[0]\n",
    "\n",
    "# Get the number of points where mskBasin is 6 or less\n",
    "npoints = np.count_nonzero(mymsk)  # Count the number of True values in the mask\n",
    "print(npoints)"
   ]
  },
  {
   "cell_type": "code",
   "execution_count": 136,
   "id": "61b768c1-4424-42a7-be2c-73b6c54d74f9",
   "metadata": {},
   "outputs": [],
   "source": [
    "# plt.pcolormesh(get_aste_tracer(mymsk,nfx,nfy)[0])"
   ]
  },
  {
   "cell_type": "markdown",
   "id": "be222b43-21c4-417d-b341-d1b3886d4c9c",
   "metadata": {},
   "source": [
    "# load the temperature and salinity fields for all timesteps\n",
    "\n",
    "These do not need to be saved but we do need:\n",
    "- mean thickness and depth of the Arctic Water as a timeseries (50 by ntimes)\n",
    "- 3D mask from the 2003-07 and 2013-17"
   ]
  },
  {
   "cell_type": "code",
   "execution_count": 137,
   "id": "225f944c-3e0a-47db-aef7-283136942fa4",
   "metadata": {},
   "outputs": [],
   "source": [
    "# the number of timesteps to load will be 12*years\n",
    "ntimes = 12*len(allyears)"
   ]
  },
  {
   "cell_type": "code",
   "execution_count": 138,
   "id": "270d38ba-8a6a-4cb2-91ba-33f582d8af67",
   "metadata": {},
   "outputs": [
    {
     "data": {
      "text/plain": [
       "'\\n    msk1: regime 1: southern, warming and freshening surface\\n        surface Water: above Arctic Water\\n        Arctic Water: T < 0 C and S 34.0-34.7 PSU\\n        Atlantic Water: T > 2 and S > 35 PSU\\n    msk2: regime 2: northern, warming and salting surface\\n'"
      ]
     },
     "execution_count": 138,
     "metadata": {},
     "output_type": "execute_result"
    }
   ],
   "source": [
    "# define the layers of the water masses based on the profiles figure above\n",
    "# for the two masks, maybe we can define these in depth\n",
    "'''\n",
    "    msk1: regime 1: southern, warming and freshening surface\n",
    "        surface Water: above Arctic Water\n",
    "        Arctic Water: T < 0 C and S 34.0-34.7 PSU\n",
    "        Atlantic Water: T > 2 and S > 35 PSU\n",
    "    msk2: regime 2: northern, warming and salting surface\n",
    "'''\n",
    "\n",
    "# save the theta and salt fields so we can do layer by layer timeseries as Lind does\n",
    "# THETA = np.zeros((len(allyears))"
   ]
  },
  {
   "cell_type": "code",
   "execution_count": 139,
   "id": "49692882-cef2-4938-ac81-d069e465d44f",
   "metadata": {},
   "outputs": [],
   "source": [
    "# store the average theta and salt values for all the years\n",
    "# avgTHETA = np.full((len(allyears),12,nz,ny,nx),np.nan)\n",
    "# avgSALT = np.full((len(allyears),12,nz,ny,nx),np.nan)"
   ]
  },
  {
   "cell_type": "code",
   "execution_count": null,
   "id": "8ff69225-1ad3-4e1a-8e88-7ac3cfe4ac9f",
   "metadata": {},
   "outputs": [
    {
     "name": "stdout",
     "output_type": "stream",
     "text": [
      "2003\n",
      "2004\n",
      "2005\n",
      "2006\n",
      "2007\n"
     ]
    }
   ],
   "source": [
    "# do this by looping through the salt and heat -- we want to make an average of these as depth\n",
    "# ArcWater = np.zeros((ntimes,nz,ny,nx))   # file to store True/False Arctic Water exists as a mask\n",
    "ArcWater = np.zeros((nz,ntimes))\n",
    "alldatetimes = np.array([])\n",
    "\n",
    "# do indexing in years for the layers\n",
    "iy = 0\n",
    "for year in allyears:\n",
    "    print(year)\n",
    "\n",
    "    # get the datetime values\n",
    "    # years = list(np.arange(2003,2018,1))  # 15 year period\n",
    "    years = list(np.arange(year,year+1,1))\n",
    "    years = [str(i) for i in years]\n",
    "    years = np.array(years)\n",
    "    # write the datetimes for the later period\n",
    "    times = {}\n",
    "    \n",
    "    for year in years:\n",
    "        times[year] = np.arange(1,13,1)   # write all the months for this example 5-year period\n",
    "    \n",
    "    tsstr,datetimes = get_tsteps(times,fnames,dt_aste,startyr,1,1)\n",
    "\n",
    "    ##########################################################################################\n",
    "    # get the theta/salt values\n",
    "    # we also want salt to do the FW content\n",
    "    # we want temperature and salt\n",
    "    \n",
    "    for i in range(len(tsstr)):\n",
    "    \n",
    "        # read the fldList\n",
    "        file_name = 'budg3d_snap_set2'\n",
    "        meta_budg3d_snap_set2 = parsemeta(dirIn + file_name + \".\" + tsstr[i] + \".meta\")\n",
    "        fldlist = np.array(meta_budg3d_snap_set2[\"fldList\"])\n",
    "        varnames = np.array([\"THETADR\",\"SALTDR\"])\n",
    "        recs = np.array([])\n",
    "        for var in varnames:\n",
    "            irec = np.where(fldlist == var)\n",
    "            recs = np.append(recs, irec[0][0])\n",
    "            \n",
    "        read = [int(tsstr[i])]\n",
    "        \n",
    "        # make sure order we write the variables is the same as the order in varnames, else we read the wrong thing\n",
    "        THETADRi,its,meta = rdmds(os.path.join(dirIn, file_name),read,returnmeta=True,rec=recs[0])  # degC.m\n",
    "        SALTDRi,its,meta = rdmds(os.path.join(dirIn, file_name),read,returnmeta=True,rec=recs[1])  # degC.m\n",
    "    \n",
    "        THETADR = np.reshape(THETADRi,(nz,ny,nx))\n",
    "        SALTDR = np.reshape(SALTDRi,(nz,ny,nx))\n",
    "\n",
    "        thisTHETA = THETADR/DRF3d/mygrid['hFacC'] * mymsk[np.newaxis,:,:]    # degC\n",
    "        thisTHETA[thisTHETA == 0] = np.nan   # this was messing up averaging without this precaution\n",
    "\n",
    "        # do the depth averaging for freshwater\n",
    "        thisSALT = SALTDR/DRF3d/mygrid['hFacC'] * mymsk[np.newaxis,:,:]    # PSU\n",
    "        thisSALT[thisSALT == 0] = np.nan\n",
    "        \n",
    "        #avgTHETA[iy,i,:,:,:] = thisTHETA\n",
    "        #avgSALT[iy,i,:,:,:] = thisSALT\n",
    "        \n",
    "        # get the indices where there is Arctic Water\n",
    "        ArcW_mask = (thisTHETA < 0) & (thisSALT >= 34) & (thisSALT <= 34.7)\n",
    "        #AW_mask = (thisTHETA > 2) & (thisSALT >= 34.5)\n",
    "\n",
    "\n",
    "        ##########################################################################################\n",
    "        # following will be to calculate the thickness of the Arctic Water\n",
    "        # create a mask for Arctic Water\n",
    "        # Create mask where theta < 0 and 34 <= salt <= 34.7\n",
    "\n",
    "        # get the average thickness of the Arctic Water as a mask of the basin\n",
    "        \n",
    "        # this will need to use DRF3d\n",
    "        ArcW = np.zeros_like(DRF3d)\n",
    "        \n",
    "        # Assign values from DRF3d where the mask is True\n",
    "        ArcW[ArcW_mask] = DRF3d[ArcW_mask]   # of shape nz,ny,nx\n",
    "        ArcW[ArcW > 0] = 1\n",
    "        ArcW[ArcW == 0] = 0\n",
    "        \n",
    "        # try to take a mean of these in axes 1 and 2 -- not sure if this is the correct way\n",
    "        #print(np.mean(ArcW, axis = (1,2)))\n",
    "        ArcWater[:,iy] = np.mean(ArcW, axis = (1,2))\n",
    "        \n",
    "        # If you just want the thicknesses as a 1D array of the selected cells:\n",
    "        # ArcW_thicknesses = DRF3d[ArcW_mask]\n",
    "\n",
    "    for i in range(len(datetimes)):\n",
    "        alldatetimes = np.append(alldatetimes,datetimes[i])\n",
    "    \n",
    "        # proceed to timestep\n",
    "        iy += 1"
   ]
  },
  {
   "cell_type": "markdown",
   "id": "223046a3-753c-4f43-89e4-347a33da0f51",
   "metadata": {},
   "source": [
    "# try to look at Lind Figure 1D"
   ]
  },
  {
   "cell_type": "code",
   "execution_count": null,
   "id": "a0419532-bb77-45cb-b40e-dbee47e23c7f",
   "metadata": {},
   "outputs": [],
   "source": [
    "# try to add these as a plot\n",
    "fig = plt.figure()\n",
    "\n",
    "ax = plt.subplot(111)\n",
    "\n",
    "# ax.pcolormesh([mygrid['RF'],np.arange(180),],ArcWater)\n",
    "XVc,YVc = np.meshgrid(np.arange(181),mygrid['RF'])\n",
    "\n",
    "# set ArcWater = nan where 0\n",
    "ArcWater[ArcWater > 0] = 1\n",
    "ArcWater[ArcWater == 0] = np.nan\n",
    "cb = ax.pcolormesh(XVc, YVc, ArcWater)\n",
    "ax.set_ylim(-300,0)\n",
    "plt.colorbar(cb)\n",
    "\n",
    "# set xticklabels to this\n",
    "ax.set_xticks(np.linspace(0, 180, len(alldatetimes)))  # evenly space ticks along x-axis\n",
    "ax.set_xticklabels(alldatetimes.astype(str), rotation=45, ha='right')\n",
    "\n",
    "# Optional: format x-axis for better datetime handling\n",
    "ax.xaxis.set_major_formatter(mdates.DateFormatter('%Y-%m'))\n",
    "\n",
    "# Add vertical dashed lines at the start of each year\n",
    "for date in alldatetimes:\n",
    "    if np.datetime64(date, 'Y') == date:  # Check if the date is the first day of a year\n",
    "        index = np.where(alldatetimes == date)[0][0]  # Find its index on x-axis\n",
    "        ax.axvline(x=index, color='k', linestyle='--', linewidth=0.8)"
   ]
  },
  {
   "cell_type": "code",
   "execution_count": null,
   "id": "418d2428-6ebd-42ce-9695-78eb13a5efbb",
   "metadata": {},
   "outputs": [],
   "source": [
    "# mygrid['RC'].shape"
   ]
  },
  {
   "cell_type": "code",
   "execution_count": null,
   "id": "5a9dd829-dc98-4fed-bcc6-942a19870142",
   "metadata": {},
   "outputs": [],
   "source": [
    "# XVc.shape"
   ]
  },
  {
   "cell_type": "code",
   "execution_count": null,
   "id": "e7141795-d98a-49d6-a06b-450a304e9fb4",
   "metadata": {},
   "outputs": [],
   "source": []
  }
 ],
 "metadata": {
  "kernelspec": {
   "display_name": "py38",
   "language": "python",
   "name": "py38"
  },
  "language_info": {
   "codemirror_mode": {
    "name": "ipython",
    "version": 3
   },
   "file_extension": ".py",
   "mimetype": "text/x-python",
   "name": "python",
   "nbconvert_exporter": "python",
   "pygments_lexer": "ipython3",
   "version": "3.8.18"
  }
 },
 "nbformat": 4,
 "nbformat_minor": 5
}
