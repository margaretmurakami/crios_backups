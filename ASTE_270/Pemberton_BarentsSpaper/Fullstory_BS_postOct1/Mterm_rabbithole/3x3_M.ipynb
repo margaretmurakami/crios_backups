{
 "cells": [
  {
   "cell_type": "markdown",
   "id": "b6216402-95c5-449a-985e-b043a8d8a543",
   "metadata": {},
   "source": [
    "## Goal of this notebook\n",
    "\n",
    "Copy the entire get_J_terms here.\n",
    "See if we can close if we bin diffusion at the gateway T and S rather than the center T and S."
   ]
  },
  {
   "cell_type": "code",
   "execution_count": 1,
   "id": "47dc4851-0d5d-486a-8196-45fa2cc3e826",
   "metadata": {},
   "outputs": [
    {
     "name": "stdout",
     "output_type": "stream",
     "text": [
      "(50,) (50, 1350, 270)\n",
      "hf1 (1350, 270)\n",
      "(1, 1350, 270)\n",
      "LwetC2d 146614\n",
      "LwetC 4833023\n",
      "\n"
     ]
    }
   ],
   "source": [
    "# auto-reload edited modules\n",
    "%load_ext autoreload\n",
    "%autoreload 2\n",
    "\n",
    "import sys, os\n",
    "sys.path.insert(0, \"/home/mmurakami/crios_backups/an_helper_functions\")\n",
    "\n",
    "# run the script into the current kernel (vars/functions become available)\n",
    "%run -i \"/home/mmurakami/crios_backups/an_helper_functions/load_packages.py\""
   ]
  },
  {
   "cell_type": "code",
   "execution_count": 2,
   "id": "1c504930-52e3-416d-ad18-adafbfaacc4b",
   "metadata": {},
   "outputs": [],
   "source": [
    "from matplotlib.ticker import FuncFormatter, MaxNLocator"
   ]
  },
  {
   "cell_type": "code",
   "execution_count": 3,
   "id": "740d0203-7c44-46f8-9430-0ef8d469f456",
   "metadata": {},
   "outputs": [
    {
     "data": {
      "text/plain": [
       "2678400.0"
      ]
     },
     "execution_count": 3,
     "metadata": {},
     "output_type": "execute_result"
    }
   ],
   "source": [
    "# create an array of the time steps we want to read\n",
    "# use ts2dte to get december 2014\n",
    "# first make an array of filenames\n",
    "dt_aste = 600\n",
    "startyr = 2002\n",
    "endyr = 2019\n",
    "\n",
    "# all the filenames in the system\n",
    "fnames = get_fnames(dt_aste,startyr,endyr)\n",
    "\n",
    "times = {}\n",
    "times[\"2016\"] = np.arange(1,3,1)\n",
    "\n",
    "# the filenames we want for 2014\n",
    "tsstr,datetimes = get_tsteps(times,fnames,dt_aste,startyr,1,1)\n",
    "\n",
    "t2 = int(tsstr[1])    # this is the averages file that we want to read from when we do budgeting\n",
    "\n",
    "dt = datetimes[1]-datetimes[0]   # days\n",
    "dt = dt.total_seconds()\n",
    "dt"
   ]
  },
  {
   "cell_type": "code",
   "execution_count": 122,
   "id": "d548995f-6119-468e-8c46-d11a58f9094a",
   "metadata": {},
   "outputs": [
    {
     "name": "stdout",
     "output_type": "stream",
     "text": [
      "(15, 34) (15, 34)\n",
      "(15, 34) (15, 34)\n",
      "2 36\n",
      "520 535\n"
     ]
    }
   ],
   "source": [
    "# we will hard code some example box with gates for now\n",
    "xs = np.array([[25,26,27],[25,26,27],[25,26,27]])\n",
    "ys = np.array([[525,525,525],[526,526,526],[527,527,527]])\n",
    "\n",
    "xs = np.array([[25,26],[25,26],[25,26]])\n",
    "ys = np.array([[525,525],[526,526],[527,527]])\n",
    "\n",
    "# 10x10 grid continuing your pattern\n",
    "xs = np.tile(np.arange(25, 35), (10, 1))                 # each row: 25..34\n",
    "ys = np.tile(np.arange(525, 535).reshape(10, 1), (1, 10))  # each col: 525..534\n",
    "\n",
    "xs = np.tile(np.arange(2, 36), (15, 1))                  # shape (15, 34)\n",
    "ys = np.tile(np.arange(520, 535).reshape(15, 1), (1, 34))  # shape (15, 34)\n",
    "\n",
    "print(xs.shape, ys.shape)   # (15, 34) (15, 34)\n",
    "\n",
    "print(xs.shape, ys.shape)  # (10, 10) (10, 10)\n",
    "\n",
    "gatei = np.nanmin(xs)\n",
    "gateip1 = np.nanmax(xs)\n",
    "gateip3 = np.nanmax(xs) + 1   # the eastern \"gate\" index for this range,  we take -advx\n",
    "gatej = np.nanmin(ys)\n",
    "gatejp1 = np.nanmin(ys) + 1   # the northern \"gate\" index we take at j+1 for -advy\n",
    "gatejp2 = np.nanmax(ys) +1\n",
    "gatejp2\n",
    "\n",
    "print(gatei,gateip3)\n",
    "print(gatej,gatejp2)\n",
    "x1d = xs.ravel()  # or xs.flatten()\n",
    "y1d = ys.ravel()"
   ]
  },
  {
   "cell_type": "code",
   "execution_count": 123,
   "id": "d374492c-c9d5-4506-a665-ca3aebd5853b",
   "metadata": {},
   "outputs": [
    {
     "data": {
      "text/plain": [
       "<matplotlib.collections.PathCollection at 0x151e3f435700>"
      ]
     },
     "execution_count": 123,
     "metadata": {},
     "output_type": "execute_result"
    },
    {
     "data": {
      "image/png": "[encoded data removed]",
      "text/plain": [
       "<Figure size 1000x400 with 1 Axes>"
      ]
     },
     "metadata": {},
     "output_type": "display_data"
    }
   ],
   "source": [
    "plt.pcolormesh(mymsk)\n",
    "plt.scatter(xs,ys)\n",
    "# plt.xlim(23,40)\n",
    "# plt.ylim(520,540)"
   ]
  },
  {
   "cell_type": "markdown",
   "id": "525a5e34-cff3-4da4-83a3-8f5b203191a0",
   "metadata": {},
   "source": [
    "## Load the variables we need for the salt budget"
   ]
  },
  {
   "cell_type": "code",
   "execution_count": 124,
   "id": "0ffc517f-d35f-4fab-a755-1b060e1b6298",
   "metadata": {},
   "outputs": [
    {
     "name": "stdout",
     "output_type": "stream",
     "text": [
      "doing salt budget\n"
     ]
    }
   ],
   "source": [
    "# total tendency will just be for those two squares\n",
    "print(\"doing salt budget\")\n",
    "# create the salt budget\n",
    "AB_gT=0\n",
    "AB_gS=0\n",
    "file_name = 'budg3d_snap_set2'\n",
    "meta_budg3d_snap_set2 = parsemeta(dirIn + file_name + \".\" + tsstr[0] + \".meta\")\n",
    "fldlist = np.array(meta_budg3d_snap_set2[\"fldList\"])\n",
    "varnames = np.array([\"SALTDR\"])\n",
    "recs = np.array([])\n",
    "for var in varnames:\n",
    "    irec = np.where(fldlist == var)\n",
    "    recs = np.append(recs, irec[0][0])\n",
    "\n",
    "\n",
    "SALTDR = np.full((len(tsstr),nz,ny,nx),np.nan)\n",
    "for i in range(len(tsstr)):\n",
    "    thisSALTDR,its,meta = rdmds(os.path.join(dirIn, file_name),int(tsstr[i]),returnmeta=True,rec=recs[0])\n",
    "    thisSALTDR = thisSALTDR.reshape(nz,ny,nx)\n",
    "    SALTDR[i] = thisSALTDR\n",
    "\n",
    "SALTDR =  (SALTDR[1, :, :,:] - SALTDR[0, :,:, :]) / dt    # PSU.m/s\n",
    "\n",
    "tmptend = myparms['rhoconst'] * (SALTDR - AB_gS) * mk3D_mod(RAC,SALTDR)    # kg/m^3 * PSU.m/s * m^2 = g/s\n",
    "budgO = {}\n",
    "budgO['saltfluxes'] = {}\n",
    "budgI = {}\n",
    "budgI['saltfluxes'] = {}\n",
    "budgOI = {}\n",
    "\n",
    "# ocean\n",
    "budgO['saltfluxes']['tend'] = tmptend\n",
    "budgO['salttend'] = np.nansum(tmptend,axis=0)"
   ]
  },
  {
   "cell_type": "code",
   "execution_count": 125,
   "id": "cf57672d-d616-41c9-8e40-d44a5e543fc0",
   "metadata": {},
   "outputs": [
    {
     "name": "stdout",
     "output_type": "stream",
     "text": [
      "doing TS binning\n"
     ]
    }
   ],
   "source": [
    "# load the T and S so we can look at the overall salt tend of the little box\n",
    "\n",
    "# let's load the Tbins and the Sbins for these columns\n",
    "# set for all months\n",
    "vol = np.zeros((len(tsstr),nz, ny, nx))\n",
    "#print(\"volume allocation shape\",vol.shape)\n",
    "\n",
    "for t in range(len(tsstr)):\n",
    "    tmpvol = np.tile(mygrid['DXG'][np.newaxis,:,:],(50,1,1)) * np.tile(mygrid['DYG'][np.newaxis,:,:],(50,1,1)) * DRF3d\n",
    "\n",
    "    vol[t,:,:,:] = tmpvol * np.tile(mymsk, (nz, 1, 1))\n",
    "#######\n",
    "print(\"doing TS binning\")\n",
    "# read theta and salt averages from the t2 timestep (average)\n",
    "file_name = \"state_3d_set1\"\n",
    "meta_budg3d_kpptend_set1 = parsemeta(dirState + file_name + \".\" + tsstr[0] + \".meta\")\n",
    "fldlist = np.array(meta_budg3d_kpptend_set1[\"fldList\"])\n",
    "varnames = np.array([\"THETA\",\"SALT\"])\n",
    "recs = np.array([])\n",
    "for var in varnames:\n",
    "    irec = np.where(fldlist == var)\n",
    "    recs = np.append(recs, irec[0][0])\n",
    "THETA,its,meta = rdmds(os.path.join(dirState, file_name),t2,returnmeta=True,rec=recs[0])\n",
    "SALT,its,meta = rdmds(os.path.join(dirState, file_name),t2,returnmeta=True,rec=recs[1])\n",
    "\n",
    "THETA = THETA.reshape(nz,ny,nx) * np.tile(mymsk[np.newaxis,:,:],(nz,1,1))\n",
    "SALT = SALT.reshape(nz,ny,nx) * np.tile(mymsk[np.newaxis,:,:],(nz,1,1))\n",
    "\n",
    "# create the bins of TS data\n",
    "n_bins = 112\n",
    "\n",
    "T_min, T_max = -2.0, 15.0\n",
    "S_min, S_max = 28.0, 37.0\n",
    "\n",
    "# T_min, T_max = -2.0, 115.0\n",
    "# S_min, S_max = 20.0, 45.0\n",
    "\n",
    "# edges and centers\n",
    "binsTH_edges   = np.linspace(T_min, T_max, n_bins + 1)\n",
    "binsSLT_edges  = np.linspace(S_min, S_max, n_bins + 1)\n",
    "binsTH_centers = 0.5 * (binsTH_edges[:-1]  + binsTH_edges[1:])\n",
    "binsSLT_centers= 0.5 * (binsSLT_edges[:-1] + binsSLT_edges[1:])\n",
    "\n",
    "nT = nS = n_bins\n",
    "\n",
    "# 2D bin grids\n",
    "Tbin,     Sbin     = np.meshgrid(binsTH_edges,  binsSLT_edges)\n",
    "Tbincent, Sbincent = np.meshgrid(binsTH_centers, binsSLT_centers)\n",
    "\n",
    "# bin widths and reshaped versions (match downstream shape)\n",
    "binwidthT = np.diff(binsTH_edges)\n",
    "binwidthS = np.diff(binsSLT_edges)\n",
    "dT, dS = np.meshgrid(binwidthT, binwidthS)\n",
    "dT = dT.reshape(n_bins, n_bins, 1)\n",
    "dS = dS.reshape(n_bins, n_bins, 1)\n",
    "\n",
    "# bin theta and salt\n",
    "binned_theta = bin_array(THETA, binsTH_edges).astype(float)\n",
    "binned_theta[binned_theta == nT] = np.nan  # handle right-edge assignment\n",
    "\n",
    "binned_salinity = bin_array(SALT, binsSLT_edges).astype(float)\n",
    "binned_salinity[binned_salinity == nS] = np.nan"
   ]
  },
  {
   "cell_type": "code",
   "execution_count": 126,
   "id": "dbdaca99-5ca3-4b70-a200-5c9041ca643d",
   "metadata": {},
   "outputs": [],
   "source": [
    "# we only really care about the binned_salinity for this region\n",
    "binned_salinity_col = binned_salinity[:,ys,xs]    # nz,3,3\n",
    "binned_theta_col = binned_theta[:,ys,xs]"
   ]
  },
  {
   "cell_type": "code",
   "execution_count": 127,
   "id": "0d35e207-091a-416d-86f3-2f9a80aabb61",
   "metadata": {},
   "outputs": [],
   "source": [
    "hfcsel = mygrid['hFacC']"
   ]
  },
  {
   "cell_type": "code",
   "execution_count": 128,
   "id": "eec035fa-b043-4cae-b072-228b64bf663b",
   "metadata": {},
   "outputs": [],
   "source": [
    "# just hard code the bin widths T and S for now because this doesn't make sense\n",
    "binwidthTconst = np.nanmax(binwidthT)\n",
    "binwidthSconst = np.nanmax(binwidthS)"
   ]
  },
  {
   "cell_type": "code",
   "execution_count": 129,
   "id": "5ea99f96-db74-4173-afde-638cd131dcc6",
   "metadata": {},
   "outputs": [],
   "source": [
    "# plot the TS distribution of the salt tend\n",
    "\n",
    "tend_S = np.zeros((nS,nT))\n",
    "\n",
    "for i,j in zip(x1d,y1d):\n",
    "    nzna = len(hfcsel[:,j,i][~np.isnan(hfcsel[:,j,i])])\n",
    "    for k in range(nz):\n",
    "        mytendtmp = budgO['saltfluxes']['tend'][k,j,i]  # g/s\n",
    "        \n",
    "        iTpt = int(binned_theta[k, j, i])\n",
    "        iSpt = int(binned_salinity[k, j, i])\n",
    "        \n",
    "        tend_S[iSpt,iTpt] += mytendtmp / myparms['rhoconst'] * 1e-6   # Sv"
   ]
  },
  {
   "cell_type": "code",
   "execution_count": 130,
   "id": "082c2f8c-d4e2-4e77-8ca1-10d4774bcd34",
   "metadata": {},
   "outputs": [
    {
     "data": {
      "text/plain": [
       "<matplotlib.colorbar.Colorbar at 0x151e3e13c730>"
      ]
     },
     "execution_count": 130,
     "metadata": {},
     "output_type": "execute_result"
    },
    {
     "data": {
      "image/png": "[encoded data removed]",
      "text/plain": [
       "<Figure size 200x200 with 2 Axes>"
      ]
     },
     "metadata": {},
     "output_type": "display_data"
    }
   ],
   "source": [
    "fig = plt.figure(figsize = (2,2))\n",
    "\n",
    "ax = plt.subplot(111)\n",
    "cb = ax.pcolormesh(Sbin,Tbin,tend_S,cmap='seismic',vmin=-.001,vmax=.001)\n",
    "ax.set_xlim(34.5,35)\n",
    "ax.set_ylim(2.5,4)\n",
    "plt.colorbar(cb,label=\"Sv\")"
   ]
  },
  {
   "cell_type": "markdown",
   "id": "53b9122a-fe69-4106-8df5-f7c25e620af7",
   "metadata": {},
   "source": [
    "## Create the face T and S values"
   ]
  },
  {
   "cell_type": "code",
   "execution_count": 131,
   "id": "76d12549-e0d9-4d03-a003-4625c7889c77",
   "metadata": {},
   "outputs": [],
   "source": [
    "THETA_face_i = np.full((nz,ny,nx),np.nan)      # for the left and right faces\n",
    "THETA_face_j = np.full((nz,ny,nx),np.nan)      # for the bottom and top (y) faces)\n",
    "THETA_face_z = np.full((nz,ny,nx),np.nan)    # for the face at top and bottom from k=1 down\n",
    "\n",
    "# we will only be able to fill between faces i=0 -- i=-2\n",
    "# we should also do this within each of the faces based on the algorithm in calc_UV_conv_mod\n",
    "# these points are in face 3 so maybe we can get away with doing a shortcut for now with just that in mind - but it will not work otherwise\n",
    "# we will need to handle the difference between the two faces\n",
    "THETA_face_j[:,1:,:] = 0.5*(THETA[:,1:,:] + THETA[:,:-1,:])\n",
    "# THETA_face is now defined with the avg theta at the LEFT face of the cube - we still need to bin this\n",
    "THETA_face_j[1:,:,:] = 0.5*(THETA[1:,:,:] + THETA[:-1,:,:])\n",
    "THETA_face_i[:,:,1:] = 0.5*(THETA[:,:,1:] + THETA[:,:,:-1])\n",
    "\n",
    "# do the same for SALT\n",
    "SALT_face_z = np.full((nz,ny,nx),np.nan)      # for the left and right faces\n",
    "SALT_face_j = np.full((nz,ny,nx),np.nan)    # for the face at top and bottom from k=1 down\n",
    "SALT_face_i = np.full((nz,ny,nx),np.nan)    # for the face at top and bottom from k=1 down\n",
    "SALT_face_j[:,1:,:] = 0.5*(SALT[:,1:,:] + SALT[:,:-1,:])\n",
    "SALT_face_z[1:,:,:] = 0.5*(SALT[1:,:,:] + SALT[:-1,:,:])   # salt is defined as the face below the top one from down\n",
    "SALT_face_i[:,:,1:] = 0.5*(SALT[:,:,1:] + SALT[:,:,:-1])\n",
    "\n",
    "\n",
    "# now bin these values\n",
    "binned_theta_face_i = bin_array(THETA_face_i, binsTH_edges).astype(float)\n",
    "binned_theta_face_i[binned_theta_face_i == nT] = np.nan  # handle right-edge assignment\n",
    "binned_theta_face_j = bin_array(THETA_face_j, binsTH_edges).astype(float)\n",
    "binned_theta_face_j[binned_theta_face_j == nT] = np.nan  # handle right-edge assignment\n",
    "binned_theta_face_z = bin_array(THETA_face_z, binsTH_edges).astype(float)\n",
    "binned_theta_face_z[binned_theta_face_z == nT] = np.nan  # handle right-edge assignment\n",
    "\n",
    "binned_salinity_face_i = bin_array(SALT_face_i, binsSLT_edges).astype(float)\n",
    "binned_salinity_face_i[binned_salinity_face_i == nS] = np.nan\n",
    "binned_salinity_face_j = bin_array(SALT_face_j, binsSLT_edges).astype(float)\n",
    "binned_salinity_face_j[binned_salinity_face_j == nS] = np.nan\n",
    "binned_salinity_face_z = bin_array(SALT_face_z, binsSLT_edges).astype(float)\n",
    "binned_salinity_face_z[binned_salinity_face_z == nS] = np.nan"
   ]
  },
  {
   "cell_type": "markdown",
   "id": "dff37c94-00ed-4e28-a7b9-b8d08ae079c2",
   "metadata": {},
   "source": [
    "## Load the variables that we need for other terms"
   ]
  },
  {
   "cell_type": "code",
   "execution_count": 132,
   "id": "09631c78-1314-4c0f-9fa6-33ddf701df3e",
   "metadata": {},
   "outputs": [
    {
     "name": "stdout",
     "output_type": "stream",
     "text": [
      "doing salt budget\n"
     ]
    }
   ],
   "source": [
    "print(\"doing salt budget\")\n",
    "\n",
    "# read adv and dfe\n",
    "file_name = \"budg3d_hflux_set2\"\n",
    "meta_budg3d_hflux_set2 = parsemeta(dirIn + file_name + \".\" + tsstr[0] + \".meta\")\n",
    "fldlist = np.array(meta_budg3d_hflux_set2[\"fldList\"])\n",
    "varnames = np.array([\"ADVx_SLT\",\"ADVy_SLT\",\"DFxE_SLT\",\"DFyE_SLT\"])\n",
    "recs = np.array([])\n",
    "for var in varnames:\n",
    "    irec = np.where(fldlist == var)\n",
    "    recs = np.append(recs, irec[0][0])\n",
    "ADVx_SLT,its,meta = rdmds(os.path.join(dirIn, file_name),t2,returnmeta=True,rec=recs[0])\n",
    "ADVy_SLT,its,meta = rdmds(os.path.join(dirIn, file_name),t2,returnmeta=True,rec=recs[1])\n",
    "DFxE_SLT,its,meta = rdmds(os.path.join(dirIn, file_name),t2,returnmeta=True,rec=recs[2])\n",
    "DFyE_SLT,its,meta = rdmds(os.path.join(dirIn, file_name),t2,returnmeta=True,rec=recs[3])\n",
    "\n",
    "tmpUo = myparms['rhoconst'] * (ADVx_SLT + DFxE_SLT)\n",
    "tmpVo = myparms['rhoconst'] * (ADVy_SLT + DFyE_SLT)\n",
    "\n",
    "# reshape and get the faces\n",
    "tmpUo = tmpUo.reshape(nz,ny,nx)\n",
    "tmpVo = tmpVo.reshape(nz,ny,nx)\n",
    "tmpUo = get_aste_faces(tmpUo,nfx,nfy)              \n",
    "tmpVo = get_aste_faces(tmpVo,nfx,nfy)\n",
    "\n",
    "budgO['saltfluxes']['hconv'] = calc_UV_conv_mod(nfx,nfy,tmpUo,tmpVo)\n",
    "budgO['salthconv'] = calc_UV_conv_mod(nfx,nfy,np.nansum(tmpUo,axis=0),np.nansum(tmpVo,axis=0))\n",
    "\n",
    "\n",
    "# also do hconv for ADV and DF\n",
    "tmpUo = get_aste_faces(ADVx_SLT.reshape(nz,ny,nx),nfx,nfy)\n",
    "tmpVo = get_aste_faces(ADVy_SLT.reshape(nz,ny,nx),nfx,nfy)\n",
    "budgO['saltfluxes']['ADV_hconv'] = calc_UV_conv_mod(nfx,nfy,tmpUo,tmpVo) * myparms['rhoconst'] #g/s\n",
    "\n",
    "tmpUo = get_aste_faces(DFxE_SLT.reshape(nz,ny,nx),nfx,nfy)\n",
    "tmpVo = get_aste_faces(DFyE_SLT.reshape(nz,ny,nx),nfx,nfy)\n",
    "budgO['saltfluxes']['DF_hconv'] = calc_UV_conv_mod(nfx,nfy,tmpUo,tmpVo) * myparms['rhoconst'] #g/s\n",
    "\n",
    "# read the vars\n",
    "file_name = \"budg2d_hflux_set1\"\n",
    "meta_budg2d_hflux_set1 = parsemeta(dirIn + file_name + \".\" + tsstr[0] + \".meta\")\n",
    "fldlist = np.array(meta_budg2d_hflux_set1[\"fldList\"])\n",
    "varnames = np.array([\"ADVxHEFF\",\"ADVyHEFF\",\"DFxEHEFF\",\"DFyEHEFF\"])\n",
    "recs = np.array([])\n",
    "for var in varnames:\n",
    "    irec = np.where(fldlist == var)\n",
    "    recs = np.append(recs, irec[0][0])\n",
    "ADVxHEFF,its,meta = rdmds(os.path.join(dirIn, file_name),t2,returnmeta=True,rec=recs[0])\n",
    "ADVyHEFF,its,meta = rdmds(os.path.join(dirIn, file_name),t2,returnmeta=True,rec=recs[1])\n",
    "DFxEHEFF,its,meta = rdmds(os.path.join(dirIn, file_name),t2,returnmeta=True,rec=recs[2])\n",
    "DFyEHEFF,its,meta = rdmds(os.path.join(dirIn, file_name),t2,returnmeta=True,rec=recs[3])\n",
    "ADVxHEFF = ADVxHEFF.reshape(ny,nx)\n",
    "ADVyHEFF = ADVxHEFF.reshape(ny,nx)\n",
    "DFxEHEFF = DFxEHEFF.reshape(ny,nx)\n",
    "DFyEHEFF = DFyEHEFF.reshape(ny,nx)\n",
    "    \n",
    "if myparms['seaice_variable_salinity_flag'] == 0:\n",
    "    SIsal0 = myparms['SIsal0']\n",
    "\n",
    "tmpUi = SIsal0 * myparms['rhoi'] * (DFxEHEFF + ADVxHEFF)\n",
    "tmpVi = SIsal0 * myparms['rhoi'] * (DFyEHEFF + ADVyHEFF)\n",
    "tmpUi = get_aste_faces(tmpUi,nfx,nfy)              \n",
    "tmpVi = get_aste_faces(tmpVi,nfx,nfy)\n",
    "\n",
    "budgI['salthconv'] = calc_UV_conv_mod(nfx,nfy,tmpUi, tmpVi)\n",
    "budgOI['salthconv'] = (budgO['salthconv'] + budgI['salthconv'])\n",
    "\n",
    "\n",
    "# read fluxes\n",
    "file_name = 'budg2d_zflux_set1'\n",
    "meta_budg2d_zflux_set1 = parsemeta(dirIn + file_name + \".\" + tsstr[0] + \".meta\")\n",
    "fldlist = np.array(meta_budg2d_zflux_set1[\"fldList\"])\n",
    "varnames = np.array([\"oceSPflx\",\"SFLUX\"])\n",
    "recs = np.array([])\n",
    "for var in varnames:\n",
    "    irec = np.where(fldlist == var)\n",
    "    recs = np.append(recs, irec[0][0])\n",
    "oceSPflx,its,meta = rdmds(os.path.join(dirIn, file_name),t2,returnmeta=True,rec=recs[0])\n",
    "SFLUX,its,meta = rdmds(os.path.join(dirIn, file_name),t2,returnmeta=True,rec=recs[1])\n",
    "oceSPflx = oceSPflx.reshape(ny,nx)\n",
    "SFLUX = SFLUX.reshape(ny,nx)\n",
    "\n",
    "# read relax and salt mass\n",
    "file_name = \"budg2d_zflux_set2\"\n",
    "meta_budg2d_zflux_set2 = parsemeta(dirIn + file_name + \".\" + tsstr[0] + \".meta\")\n",
    "fldlist = np.array(meta_budg2d_zflux_set2[\"fldList\"])\n",
    "varnames = np.array([\"oceSflux\",\"WSLTMASS\",\"SRELAX\"])\n",
    "recs = np.array([])\n",
    "for var in varnames:\n",
    "    irec = np.where(fldlist == var)\n",
    "    if len(irec[0]) > 0:\n",
    "        recs = np.append(recs, irec[0][0])\n",
    "oceSflux,its,meta = rdmds(os.path.join(dirIn, file_name),t2,returnmeta=True,rec=recs[0])\n",
    "WSLTMASS,its,meta = rdmds(os.path.join(dirIn, file_name),t2,returnmeta=True,rec=recs[1])\n",
    "SRELAX,its,meta = rdmds(os.path.join(dirIn, file_name),t2,returnmeta=True,rec=recs[2])\n",
    "oceSflux = oceSflux.reshape(ny,nx)\n",
    "WSLTMASS = WSLTMASS.reshape(ny,nx)\n",
    "SRELAX = SRELAX.reshape(ny,nx)\n",
    "\n",
    "\n",
    "# read kpp tend and from 3d zflux\n",
    "file_name = \"budg3d_kpptend_set1\"\n",
    "meta_budg3d_kpptend_set1 = parsemeta(dirIn + file_name + \".\" + tsstr[0] + \".meta\")\n",
    "fldlist = np.array(meta_budg3d_kpptend_set1[\"fldList\"])\n",
    "varnames = np.array([\"oceSPtnd\",\"KPPg_SLT\"])\n",
    "recs = np.array([])\n",
    "for var in varnames:\n",
    "    irec = np.where(fldlist == var)\n",
    "    if len(irec[0]) > 0:\n",
    "        recs = np.append(recs, irec[0][0])\n",
    "oceSPtnd,its,meta = rdmds(os.path.join(dirIn, file_name),t2,returnmeta=True,rec=recs[0])\n",
    "KPPg_SLT,its,meta = rdmds(os.path.join(dirIn, file_name),t2,returnmeta=True,rec=recs[1])\n",
    "oceSPtnd = oceSPtnd.reshape(nz,ny,nx)\n",
    "KPPg_SLT = KPPg_SLT.reshape(nz,ny,nx)\n",
    "\n",
    "\n",
    "# now 3d zfluxes\n",
    "file_name = \"budg3d_zflux_set2\"\n",
    "meta_budg3d_zflux_set2 = parsemeta(dirIn + file_name + \".\" + tsstr[0] + \".meta\")\n",
    "fldlist = np.array(meta_budg3d_zflux_set2[\"fldList\"])\n",
    "varnames = np.array([\"ADVr_SLT\",\"DFrE_SLT\",\"DFrI_SLT\"])\n",
    "recs = np.array([])\n",
    "for var in varnames:\n",
    "    irec = np.where(fldlist == var)\n",
    "    recs = np.append(recs, irec[0][0])\n",
    "ADVr_SLT,its,meta = rdmds(os.path.join(dirIn, file_name),t2,returnmeta=True,rec=recs[0])\n",
    "DFrE_SLT,its,meta = rdmds(os.path.join(dirIn, file_name),t2,returnmeta=True,rec=recs[1])\n",
    "DFrI_SLT,its,meta = rdmds(os.path.join(dirIn, file_name),t2,returnmeta=True,rec=recs[2])\n",
    "ADVr_SLT = ADVr_SLT.reshape(nz,ny,nx)\n",
    "DFrE_SLT = DFrE_SLT.reshape(nz,ny,nx)\n",
    "DFrI_SLT = DFrI_SLT.reshape(nz,ny,nx)\n",
    "\n",
    "if myparms[\"useRFWF\"]==0 or myparms['useNLFS']==0:\n",
    "    print('do nothing')\n",
    "else:\n",
    "    oceSflux = 0 * oceSflux\n",
    "\n",
    "if myparms['useNLFS'] == 0:\n",
    "    print('do nothing, already read above')\n",
    "else:\n",
    "    WSLTMASS=0*WSLTMASS\n",
    "\n",
    "budgO['saltzconv'] = SFLUX + oceSPflx                  # W/m^2\n",
    "zconv_top_salt = (SFLUX + oceSPflx) * RAC               # g/s\n",
    "budgI['saltzconv'] = -budgO['saltzconv'] + SRELAX\n",
    "\n",
    "if myparms['useNLFS']==0:\n",
    "    budgO['saltzconv'] = budgO['saltzconv'] - myparms['rhoconst']*WSLTMASS\n",
    "\n",
    "if myparms['useRFWF']==0 or myparms['useNLFS']==0:\n",
    "    budgI['saltzconv']=-oceSflux\n",
    "\n",
    "\n",
    "nr = mygrid['RC'].shape[0]\n",
    "# break trWtop down into smaller terms\n",
    "trWtopADV = -(ADVr_SLT)*myparms['rhoconst']           # g/s\n",
    "trWtopDF = -(DFrE_SLT+DFrI_SLT)*myparms['rhoconst']   # g/s\n",
    "trWtopKPP = -(KPPg_SLT)*myparms['rhoconst']           # g/s\n",
    "trWtop = trWtopADV + trWtopDF + trWtopKPP             # g/s \n",
    "\n",
    "#print(trWtop.shape)\n",
    "sptop = mk3D_mod(oceSPflx,oceSPtnd) - np.cumsum(oceSPtnd, axis=0)        # we include this in our zconv_top term\n",
    "sptop = sptop * RAC3        # g/s\n",
    "\n",
    "trWtop[1:,:,:] = trWtop[1:,:,:] + sptop[:-1,:,:]\n",
    "trWtop[0,:,:] = budgO['saltzconv'] * RAC    # g/s top layer is surface flux\n",
    "\n",
    "trWbot = np.zeros_like(trWtop)\n",
    "trWbot[:-1,:,:] = trWtop[1:,:,:]\n",
    "trWbot[-1,:,:] = 0\n",
    "\n",
    "budgO['saltfluxes']['trWtop'] = trWtop     # g/s\n",
    "budgO['saltfluxes']['trWbot'] = trWbot     # g/s\n",
    "\n",
    "budgI['saltfluxes']['trWtop'] = -RAC*0\n",
    "budgI['saltfluxes']['trWbot'] = budgO['saltfluxes']['trWtop'][0,:,:]  # surface because ice\n",
    "\n",
    "budgO['saltfluxes']['zconv'] = budgO['saltfluxes']['trWtop'] - budgO['saltfluxes']['trWbot']\n",
    "budgO['saltzconv'] = RAC * budgO['saltzconv']   # g/s\n",
    "budgI['saltzconv'] = RAC * budgI['saltzconv']   # g/s\n",
    "budgOI['saltzconv'] = budgO['saltzconv'] + budgI['saltzconv']\n",
    "\n",
    "# do vertical convergence for ADV and DF terms\n",
    "tmpadv = np.full((nz,ny,nx),np.nan)\n",
    "tmpadv[:-1,:,:] = (trWtopADV[:-1] - trWtopADV[1:])              # for surface thru seafloor\n",
    "\n",
    "Sconv = budgO['saltfluxes']['ADV_hconv'] + tmpadv\n",
    "budgO['saltfluxes']['ADV_Sconv'] = Sconv             # g/s, this is the advective arrow of S for a \n",
    "\n",
    "# do vertical convergence for ADV and DF terms\n",
    "tmpdf = np.full((nz,ny,nx),np.nan)\n",
    "tmpdf[:-1,:,:] = (trWtopDF[:-1] - trWtopDF[1:])              # for surface thru seafloor\n",
    "\n",
    "dfSconv = budgO['saltfluxes']['DF_hconv'] + tmpdf\n",
    "budgO['saltfluxes']['DF_Sconv'] = dfSconv             # g/s, this is the diffusive arrow of T for a cell\n",
    "\n",
    "\n",
    "tmpkpp = np.full((nz,ny,nx),np.nan)\n",
    "tmpkpp[:-1,:,:] = trWtopKPP[:-1] - trWtopKPP[1:]\n",
    "budgO['saltfluxes']['KPP_Sconv'] = tmpkpp        # no horizontal component for this"
   ]
  },
  {
   "cell_type": "code",
   "execution_count": 133,
   "id": "78e972cc-9cc5-42f8-9a52-b15c01b68464",
   "metadata": {},
   "outputs": [],
   "source": [
    "# # # redefine gatesS and gatesT\n",
    "# gatesS_N = np.zeros((nz, 2))\n",
    "# gatesS_S = np.zeros((nz, 2))\n",
    "# gatesS_E = np.zeros((nz, 1))\n",
    "# gatesS_W = np.zeros((nz, 1))\n",
    "\n",
    "# # --- WEST gate (left side) ---\n",
    "# gatesS_W[:, 0] = tmpADVx_SLT[:, gatej, gatei] / SW            # m^3/s\n",
    "\n",
    "# # --- EAST gate (right side) ---\n",
    "# gatesS_E[:, 0] = -tmpADVx_SLT[:, gatej, gateip2] / SE         # m^3/s\n",
    "\n",
    "# # --- SOUTH gate (bottom) ---\n",
    "# gatesS_S[:, 0] = tmpADVy_SLT[:, gatej, gatei] / SSW \n",
    "# gatesS_S[:, 1] = tmpADVy_SLT[:, gatej, gateip1] / SSE\n",
    "\n",
    "# # --- NORTH gate (top) ---\n",
    "# gatesS_N[:, 0] = -(tmpADVy_SLT[:, gatejp1, gatei]) / SNW\n",
    "# gatesS_N[:, 1] = -(tmpADVy_SLT[:, gatejp1, gateip1]) / SNE    # m^3/s"
   ]
  },
  {
   "cell_type": "code",
   "execution_count": 141,
   "id": "e577209a-6e38-4a5b-9823-4382add7fc01",
   "metadata": {},
   "outputs": [
    {
     "name": "stdout",
     "output_type": "stream",
     "text": [
      "(15, 34) (15, 34)\n"
     ]
    }
   ],
   "source": [
    "# given your patch\n",
    "xs2d = np.array([[25,26,27],\n",
    "                 [25,26,27],\n",
    "                 [25,26,27]])\n",
    "ys2d = np.array([[525,525,525],\n",
    "                 [526,526,526],\n",
    "                 [527,527,527]])\n",
    "\n",
    "xs2d = np.array([[25,26],\n",
    "                 [25,26],\n",
    "                 [25,26]])\n",
    "ys2d = np.array([[525,525,],\n",
    "                 [526,526,],\n",
    "                 [527,527,]])\n",
    "\n",
    "# 10x10 grid continuing your pattern\n",
    "xs2d = np.tile(np.arange(25, 35), (10, 1))                 # each row: 25..34\n",
    "ys2d = np.tile(np.arange(525, 535).reshape(10, 1), (1, 10))  # each col: 525..534\n",
    "\n",
    "xs2d = np.tile(np.arange(2, 36), (15, 1))                  # shape (15, 34)\n",
    "ys2d = np.tile(np.arange(520, 535).reshape(15, 1), (1, 34))  # shape (15, 34)\n",
    "\n",
    "print(xs.shape, ys.shape)   # (15, 34) (15, 34)\n",
    "\n",
    "# print(xs.shape, ys.shape)  # (10, 10) (10, 10)\n",
    "\n",
    "# 1) build a boolean mask for boundary points of the patch\n",
    "x_vals = xs2d[0, :]\n",
    "y_vals = ys2d[:, 0]\n",
    "i_min, i_max = x_vals[0], x_vals[-1]\n",
    "j_min, j_max = y_vals[0], y_vals[-1]\n",
    "\n",
    "# mask over (ny, nx): True on the patch boundary, False elsewhere\n",
    "mask2d = np.zeros((ny, nx), dtype=bool)\n",
    "mask2d[j_min:j_max+1, [i_min, i_max]] = True        # left & right edges\n",
    "mask2d[[j_min, j_max], i_min:i_max+1] = True        # bottom & top edges\n",
    "\n",
    "# 2) make masked copies of your fields, zeroing boundary cells\n",
    "adv_hconv_masked = budgO['saltfluxes']['ADV_hconv'].copy()  # (nz,ny,nx)\n",
    "adv_hconv_masked[:, mask2d] = 0.0\n",
    "\n",
    "# vertical convergence part (you can keep as-is, or also zero at boundary columns)\n",
    "tmpadv = np.full((nz, ny, nx), np.nan)\n",
    "tmpadv[:-1, :, :] = (trWtopADV[:-1] - trWtopADV[1:])  # vertical (z) part\n",
    "\n",
    "tmpadv_masked = tmpadv.copy()\n",
    "tmpadv_masked[:, mask2d] = 0.0   # optional; keeps only interior columns\n",
    "\n",
    "# 3) combine to get the masked convergence\n",
    "Sconv2 = adv_hconv_masked + tmpadv_masked"
   ]
  },
  {
   "cell_type": "code",
   "execution_count": 142,
   "id": "4df486bf-3945-4936-b832-08c1813f58c4",
   "metadata": {},
   "outputs": [
    {
     "name": "stdout",
     "output_type": "stream",
     "text": [
      "doing JtermsS\n",
      "total resid:  -2.7424653657479006e-11\n"
     ]
    }
   ],
   "source": [
    "print(\"doing JtermsS\")\n",
    "# initialize the J vectors for salt\n",
    "JtermsS = np.zeros((6,nS,nT))\n",
    "\n",
    "# get the values\n",
    "aS = budgO['saltfluxes']['tend']\n",
    "bS = budgO['saltfluxes']['ADV_Sconv']\n",
    "cS = budgO['saltfluxes']['DF_Sconv']\n",
    "dS = budgO['saltfluxes']['KPP_Sconv']\n",
    "eS = zconv_top_salt.reshape(1,ny,nx)\n",
    "fS = sptop\n",
    "\n",
    "for j,i in zip(y1d,x1d):\n",
    "\n",
    "    # loop through the depths and add\n",
    "    nzna = len(hfcsel[:,j,i][~np.isnan(hfcsel[:,j,i])]) # how many cells are filled here\n",
    "    \n",
    "    for k in range (nzna):\n",
    "        iTpt = int(binned_theta[k,j,i])\n",
    "        iSpt = int(binned_salinity[k,j,i])\n",
    "    \n",
    "        # save the J terms for here for the single point   \n",
    "        JtendS = (aS[k,j,i]) / myparms['rhoconst'] / binwidthS[iSpt] * 1e-6             # Sv\n",
    "        JADVS = (bS[k,j,i]) / myparms['rhoconst'] / binwidthS[iSpt] * 1e-6              # Sv\n",
    "        JDFS = (cS[k,j,i]) / myparms['rhoconst'] / binwidthS[iSpt] * 1e-6               # Sv\n",
    "        JKPPS = (dS[k,j,i]) / myparms['rhoconst'] / binwidthS[iSpt] * 1e-6              # Sv\n",
    "\n",
    "        # surface term will be unique\n",
    "        if k == 0:\n",
    "            JsurfS = (eS[k,j,i] - fS[k+1,j,i]) / myparms['rhoconst'] / binwidthS[iSpt] * 1e-6  # Sv\n",
    "        else:\n",
    "            JsurfS = -(fS[k,j,i] - fS[k-1,j,i]) / myparms['rhoconst'] / binwidthS[iSpt] * 1e-6  # Sv\n",
    "\n",
    "        # set these in meshes so we can plot\n",
    "        c = 0\n",
    "        for valS in (np.array([JtendS,JADVS,JDFS,JKPPS,JsurfS])):\n",
    "            #print(valT)\n",
    "            JtermsS[c,iSpt,iTpt] += valS\n",
    "            c += 1\n",
    "        JtermsS[5,iSpt,iTpt] += Sconv2[k,j,i] / myparms['rhoconst'] / binwidthS[iSpt] * 1e-6              # Sv\n",
    "\n",
    "print(\"total resid: \",np.nansum(JtermsS[0] - JtermsS[1] - JtermsS[2] - JtermsS[3] - JtermsS[4]))"
   ]
  },
  {
   "cell_type": "code",
   "execution_count": 143,
   "id": "7b43c00b-0263-4063-8647-f2bfe6d09fe0",
   "metadata": {},
   "outputs": [
    {
     "data": {
      "text/plain": [
       "(2.5, 4.0)"
      ]
     },
     "execution_count": 143,
     "metadata": {},
     "output_type": "execute_result"
    },
    {
     "data": {
      "image/png": "[encoded data removed]",
      "text/plain": [
       "<Figure size 1000x400 with 1 Axes>"
      ]
     },
     "metadata": {},
     "output_type": "display_data"
    }
   ],
   "source": [
    "plt.pcolormesh(Sbin,Tbin,JtermsS[1] - JtermsS[5],cmap='seismic',vmin=-.01,vmax=.01)\n",
    "plt.xlim(34.5,35)\n",
    "plt.ylim(2.5,4)"
   ]
  },
  {
   "cell_type": "code",
   "execution_count": 144,
   "id": "a2ced18c-230d-4a78-a434-485813049e47",
   "metadata": {},
   "outputs": [
    {
     "name": "stdout",
     "output_type": "stream",
     "text": [
      "[2 2 2 2 2 2 2 2 2 2 2 2 2 2 2] [520 521 522 523 524 525 526 527 528 529 530 531 532 533 534]\n",
      "[ 2  3  4  5  6  7  8  9 10 11 12 13 14 15 16 17 18 19 20 21 22 23 24 25\n",
      " 26 27 28 29 30 31 32 33 34 35] [520 520 520 520 520 520 520 520 520 520 520 520 520 520 520 520 520 520\n",
      " 520 520 520 520 520 520 520 520 520 520 520 520 520 520 520 520]\n",
      "[36 36 36 36 36 36 36 36 36 36 36 36 36 36 36] [520 521 522 523 524 525 526 527 528 529 530 531 532 533 534]\n",
      "[ 2  3  4  5  6  7  8  9 10 11 12 13 14 15 16 17 18 19 20 21 22 23 24 25\n",
      " 26 27 28 29 30 31 32 33 34 35] [535 535 535 535 535 535 535 535 535 535 535 535 535 535 535 535 535 535\n",
      " 535 535 535 535 535 535 535 535 535 535 535 535 535 535 535 535]\n"
     ]
    }
   ],
   "source": [
    "\n",
    "# unique coords in order (assumes a rectilinear block)\n",
    "x_vals = xs[0, :]          # [25, 26, 27]\n",
    "y_vals = ys[:, 0]          # [525, 526, 527]\n",
    "\n",
    "# infer spacing (fallback 1 if single cell)\n",
    "dxs = np.unique(np.diff(x_vals))\n",
    "dys = np.unique(np.diff(y_vals))\n",
    "dx = dxs[0] if dxs.size else 1\n",
    "dy = dys[0] if dys.size else 1\n",
    "\n",
    "i_min, i_max = x_vals[0], x_vals[-1]\n",
    "j_min, j_max = y_vals[0], y_vals[-1]\n",
    "\n",
    "# gates (faces just outside the patch on right/top)\n",
    "leftx  = np.full_like(y_vals, i_min)\n",
    "lefty  = y_vals.copy()\n",
    "\n",
    "rightx = np.full_like(y_vals, i_max + dx)\n",
    "righty = y_vals.copy()\n",
    "\n",
    "botx   = x_vals.copy()\n",
    "boty   = np.full_like(x_vals, j_min)\n",
    "\n",
    "topx   = x_vals.copy()\n",
    "topy   = np.full_like(x_vals, j_max + dy)\n",
    "\n",
    "print(leftx, lefty)\n",
    "print(botx, boty)\n",
    "print(rightx, righty)\n",
    "print(topx, topy)"
   ]
  },
  {
   "cell_type": "code",
   "execution_count": 145,
   "id": "874520fa-ab78-4231-a190-a22d16387ada",
   "metadata": {},
   "outputs": [],
   "source": [
    "ADVx_SLT= ADVx_SLT.reshape(nz,ny,nx)\n",
    "ADVy_SLT= ADVy_SLT.reshape(nz,ny,nx)"
   ]
  },
  {
   "cell_type": "code",
   "execution_count": 146,
   "id": "a4afc087-fda0-4d96-bb61-1953c097f31b",
   "metadata": {},
   "outputs": [],
   "source": [
    "# this is where we try to put the salt terms into a TS mesh\n",
    "# we need to go through the ADV points in each gate and add them to the TS bin at that point\n",
    "binwidthTconst = np.nanmax(binwidthT)\n",
    "binwidthSconst = np.nanmax(binwidthS)\n",
    "norm = (binwidthTconst * binwidthSconst * myparms['rhoconst'])\n",
    "\n",
    "J_gates = np.zeros((4,nS,nT))\n",
    "\n",
    "#########################################################################################################################\n",
    "for j,i in zip(lefty,leftx):\n",
    "    # based on the direction, grab from ADV_gates at the correct index\n",
    "    col = ADVx_SLT[:,j,i]\n",
    "\n",
    "    nzc = len(binned_theta_face_i[:,j,i][~np.isnan(binned_theta_face_i[:,j,i])])\n",
    "    for kc in range(nzc):\n",
    "        # get the T and S bin for that item\n",
    "        iTpt = int(binned_theta_face_i[kc,j,i])\n",
    "        iSpt = int(binned_salinity_face_i[kc,j,i])\n",
    "        iTpt = int(binned_theta[kc,j,i])\n",
    "        iSpt = int(binned_salinity[kc,j,i])\n",
    "        J_gates[0,iSpt,iTpt] += (col[kc]) / binwidthSconst  #m^3.PSU/s -- g/s -- \n",
    "\n",
    "\n",
    "#########################################################################################################################\n",
    "# do this for SFJ\n",
    "for j,i in zip(boty,botx):\n",
    "    # based on the direction, grab from ADV_gates at the correct index\n",
    "    col = ADVy_SLT[:,j,i]\n",
    "    nzc = len(binned_theta_face_j[:,j,i][~np.isnan(binned_theta_face_j[:,j,i])])\n",
    "    for kc in range(nzc):\n",
    "        # get the T and S bin for that item\n",
    "        iTpt = int(binned_theta_face_j[kc,j,i])\n",
    "        iSpt = int(binned_salinity_face_j[kc,j,i])\n",
    "        iTpt = int(binned_theta[kc,j,i])\n",
    "        iSpt = int(binned_salinity[kc,j,i])\n",
    "        J_gates[1,iSpt,iTpt] += (col[kc]) / binwidthSconst\n",
    "\n",
    "#########################################################################################################################\n",
    "# same for FJNZ\n",
    "for j,i in zip(righty,rightx):\n",
    "    # based on the direction, grab from ADV_gates at the correct index\n",
    "    col = -ADVx_SLT[:,j,i]\n",
    "    nzc = len(binned_theta_face_i[:,j,i][~np.isnan(binned_theta_face_i[:,j,i])])\n",
    "    for kc in range(nzc):\n",
    "        # get the T and S bin for that item\n",
    "        iTpt = int(binned_theta_face_i[kc,j,i])\n",
    "        iSpt = int(binned_salinity_face_i[kc,j,i])\n",
    "        iTpt = int(binned_theta[kc,j,i-1])\n",
    "        iSpt = int(binned_salinity[kc,j,i-1])\n",
    "        J_gates[2,iSpt,iTpt] += (col[kc]) / binwidthSconst\n",
    "\n",
    "#########################################################################################################################\n",
    "# same again for NZRU\n",
    "for j,i in zip(topy,topx):\n",
    "    # based on the direction, grab from ADV_gates at the correct index\n",
    "    col = -ADVy_SLT[:,j,i]\n",
    "    nzc = len(binned_theta_face_j[:,j,i][~np.isnan(binned_theta_face_j[:,j,i])])\n",
    "    for kc in range(nzc):\n",
    "        # get the T and S bin for that item\n",
    "        iTpt = int(binned_theta_face_j[kc,j,i])\n",
    "        iSpt = int(binned_salinity_face_j[kc,j,i])\n",
    "        iTpt = int(binned_theta[kc,j-1,i])\n",
    "        iSpt = int(binned_salinity[kc,j-1,i])\n",
    "        J_gates[3,iSpt,iTpt] += (col[kc]) / binwidthSconst\n",
    "\n",
    "\n",
    "#############################################################################################################################\n",
    "J_gates *= 1e-6  # Sv"
   ]
  },
  {
   "cell_type": "code",
   "execution_count": 147,
   "id": "c54fca6e-799d-4994-a8d6-a862c075d036",
   "metadata": {},
   "outputs": [
    {
     "data": {
      "text/plain": [
       "<matplotlib.colorbar.Colorbar at 0x151e3e00b340>"
      ]
     },
     "execution_count": 147,
     "metadata": {},
     "output_type": "execute_result"
    },
    {
     "data": {
      "image/png": "[encoded data removed]",
      "text/plain": [
       "<Figure size 700x700 with 8 Axes>"
      ]
     },
     "metadata": {},
     "output_type": "display_data"
    }
   ],
   "source": [
    "fig = plt.figure(figsize=(7,7))\n",
    "vlev = 20\n",
    "\n",
    "ax = plt.subplot(221)\n",
    "cb=ax.pcolormesh(Sbin,Tbin,J_gates[0],cmap='seismic',vmin=-vlev,vmax=vlev)\n",
    "ax.set_title(\"Top\")\n",
    "ax.set_xlim(34.5,35)\n",
    "ax.set_ylim(2.5,4.5)\n",
    "plt.colorbar(cb)\n",
    "\n",
    "ax = plt.subplot(222)\n",
    "cb=ax.pcolormesh(Sbin,Tbin,J_gates[1],cmap='seismic',vmin=-vlev,vmax=vlev)\n",
    "ax.set_title(\"Bottom\")\n",
    "ax.set_xlim(34.5,35)\n",
    "ax.set_ylim(2.5,4.5)\n",
    "plt.colorbar(cb)\n",
    "\n",
    "ax = plt.subplot(223)\n",
    "cb=ax.pcolormesh(Sbin,Tbin,J_gates[2],cmap='seismic',vmin=-vlev,vmax=vlev)\n",
    "ax.set_title(\"Right\")\n",
    "ax.set_xlim(34.5,35)\n",
    "ax.set_ylim(2.5,4.5)\n",
    "plt.colorbar(cb)\n",
    "\n",
    "ax = plt.subplot(224)\n",
    "cb=ax.pcolormesh(Sbin,Tbin,J_gates[3],cmap='seismic',vmin=-vlev,vmax=vlev)\n",
    "ax.set_title(\"Left\")\n",
    "ax.set_xlim(34.5,35)\n",
    "ax.set_ylim(2.5,4.5)\n",
    "plt.colorbar(cb)"
   ]
  },
  {
   "cell_type": "code",
   "execution_count": 148,
   "id": "57709e31-2173-43be-9d31-0b79006826ce",
   "metadata": {},
   "outputs": [],
   "source": [
    "# ADVx_SLT[:,ys,xs]"
   ]
  },
  {
   "cell_type": "code",
   "execution_count": 149,
   "id": "d6f2c614-9526-447a-890c-6e92dcfdb854",
   "metadata": {},
   "outputs": [],
   "source": [
    "# fig = plt.figure()\n",
    "\n",
    "# ax = plt.subplot(121)\n",
    "# ax.pcolormesh(np.nansum(ADVx_SLT,axis=0),cmap='seismic',vmin=-5000000,vmax=5000000)\n",
    "# ax.set_xlim(20,30)\n",
    "# ax.set_ylim(520,530)\n",
    "# ax.scatter(xs,ys)\n",
    "\n",
    "# ax = plt.subplot(122)\n",
    "# ax.pcolormesh(np.nansum(ADVy_SLT,axis=0),cmap='seismic',vmin=-5000000,vmax=5000000)\n",
    "# ax.set_xlim(20,30)\n",
    "# ax.set_ylim(520,530)\n",
    "# ax.scatter(xs,ys)"
   ]
  },
  {
   "cell_type": "code",
   "execution_count": 150,
   "id": "1caab978-b958-4734-89b8-e301effdb969",
   "metadata": {},
   "outputs": [
    {
     "data": {
      "text/plain": [
       "<matplotlib.colorbar.Colorbar at 0x151e3dd88940>"
      ]
     },
     "execution_count": 150,
     "metadata": {},
     "output_type": "execute_result"
    },
    {
     "data": {
      "image/png": "[encoded data removed]",
      "text/plain": [
       "<Figure size 1000x400 with 4 Axes>"
      ]
     },
     "metadata": {},
     "output_type": "display_data"
    }
   ],
   "source": [
    "fig = plt.figure()\n",
    "\n",
    "ax = plt.subplot(121)\n",
    "cb = ax.pcolormesh(Sbin,Tbin,JtermsS[1]-JtermsS[5],cmap='seismic',vmin=-.01,vmax=.01)\n",
    "ax.set_xlim(34.5,35)\n",
    "ax.set_ylim(2,4.5)\n",
    "plt.colorbar(cb)\n",
    "\n",
    "ax = plt.subplot(122)\n",
    "cb = ax.pcolormesh(Sbin,Tbin,np.nansum(J_gates,axis=0),cmap='seismic',vmin=-20,vmax=20)\n",
    "ax.set_xlim(34.5,35)\n",
    "ax.set_ylim(2,4.5)\n",
    "plt.colorbar(cb)"
   ]
  },
  {
   "cell_type": "code",
   "execution_count": 151,
   "id": "ee1a062c-74c3-4beb-86f3-91add1fa8b60",
   "metadata": {},
   "outputs": [
    {
     "data": {
      "text/plain": [
       "<matplotlib.colorbar.Colorbar at 0x151e3db24520>"
      ]
     },
     "execution_count": 151,
     "metadata": {},
     "output_type": "execute_result"
    },
    {
     "data": {
      "image/png": "[encoded data removed]",
      "text/plain": [
       "<Figure size 1000x400 with 6 Axes>"
      ]
     },
     "metadata": {},
     "output_type": "display_data"
    }
   ],
   "source": [
    "fig = plt.figure()\n",
    "\n",
    "ax = plt.subplot(131)\n",
    "cb = ax.pcolormesh(Sbin,Tbin,JtermsS[1],cmap='seismic',vmin=-.05,vmax=.05)\n",
    "ax.set_xlim(34,35)\n",
    "ax.set_ylim(1,4.5)\n",
    "plt.colorbar(cb)\n",
    "\n",
    "ax = plt.subplot(132)\n",
    "cb = ax.pcolormesh(Sbin,Tbin,np.nansum(J_gates,axis=0),cmap='seismic',vmin=-10,vmax=10)\n",
    "ax.set_xlim(34,35)\n",
    "ax.set_ylim(1,4.5)\n",
    "plt.colorbar(cb)\n",
    "\n",
    "ax = plt.subplot(133)\n",
    "cb = ax.pcolormesh(Sbin,Tbin,JtermsS[1]- np.nansum(J_gates,axis=0) ,cmap='seismic',vmin=-10,vmax=10)\n",
    "ax.set_xlim(34,35)\n",
    "ax.set_ylim(1,4.5)\n",
    "plt.colorbar(cb)"
   ]
  },
  {
   "cell_type": "code",
   "execution_count": 152,
   "id": "d0f5129e-5ed3-4336-81c3-509b935c4a34",
   "metadata": {},
   "outputs": [
    {
     "data": {
      "text/plain": [
       "-2.0217130875737404"
      ]
     },
     "execution_count": 152,
     "metadata": {},
     "output_type": "execute_result"
    }
   ],
   "source": [
    "np.nansum(JtermsS[1])"
   ]
  },
  {
   "cell_type": "code",
   "execution_count": 153,
   "id": "991c4e5b-0df3-419b-b2be-86d8babad18c",
   "metadata": {},
   "outputs": [
    {
     "data": {
      "text/plain": [
       "-2.0217130875737723"
      ]
     },
     "execution_count": 153,
     "metadata": {},
     "output_type": "execute_result"
    }
   ],
   "source": [
    "np.nansum(J_gates)"
   ]
  },
  {
   "cell_type": "markdown",
   "id": "199c56c5-d6fd-49e0-86c9-6e1e4c52d249",
   "metadata": {},
   "source": [
    "## Now we can try to make the theta budget based on the same principle"
   ]
  },
  {
   "cell_type": "code",
   "execution_count": 155,
   "id": "7f109361-f828-4a62-9d56-88a9a9d01a79",
   "metadata": {},
   "outputs": [
    {
     "name": "stdout",
     "output_type": "stream",
     "text": [
      "doing heat budget\n",
      "2\n"
     ]
    }
   ],
   "source": [
    "#############################################################################\n",
    "print(\"doing heat budget\")\n",
    "# create the heat budget\n",
    "# read thetadr\n",
    "file_name = 'budg3d_snap_set2'\n",
    "meta_budg3d_snap_set2 = parsemeta(dirIn + file_name + \".\" + tsstr[0] + \".meta\")\n",
    "fldlist = np.array(meta_budg3d_snap_set2[\"fldList\"])\n",
    "varnames = np.array([\"THETADR\"])\n",
    "recs = np.array([])\n",
    "for var in varnames:\n",
    "    irec = np.where(fldlist == var)\n",
    "    recs = np.append(recs, irec[0][0])\n",
    "\n",
    "THETADR = np.full((len(tsstr),nz,ny,nx),np.nan)\n",
    "for i in range(len(tsstr)):\n",
    "    thisTHETADR,its,meta = rdmds(os.path.join(dirIn, file_name),int(tsstr[i]),returnmeta=True,rec=recs[0])\n",
    "    thisTHETADR = thisTHETADR.reshape(nz,ny,nx)\n",
    "    THETADR[i] = thisTHETADR\n",
    "\n",
    "THETADR =  (THETADR[1, :, :,:] - THETADR[0, :,:, :]) / dt    # degC.m/\n",
    "\n",
    "tmptend=myparms['rcp']*(THETADR-AB_gT)*mk3D_mod(RAC,THETADR)   # J/m^3.degC * degC.m/s * m^2 = J/s\n",
    "budgO['heatfluxes'] = {}\n",
    "budgI['heatfluxes'] = {}\n",
    "\n",
    "budgO['heatfluxes']['tend'] = tmptend     # J/s\n",
    "\n",
    "budgO['heattend'] = np.nansum(tmptend,axis=0)\n",
    "\n",
    "file_name = \"budg3d_hflux_set2\"\n",
    "meta_budg3d_hflux_set2 = parsemeta(dirIn + file_name + \".\" + tsstr[0] + \".meta\")\n",
    "fldlist = np.array(meta_budg3d_hflux_set2[\"fldList\"])\n",
    "varnames = np.array([\"ADVx_TH\",\"ADVy_TH\",\"DFxE_TH\",\"DFyE_TH\",\"UVELMASS\",\"VVELMASS\"])\n",
    "recs = np.array([])\n",
    "for var in varnames:\n",
    "    irec = np.where(fldlist == var)\n",
    "    recs = np.append(recs, irec[0][0])\n",
    "ADVx_TH,its,meta = rdmds(os.path.join(dirIn, file_name),t2,returnmeta=True,rec=recs[0])\n",
    "ADVy_TH,its,meta = rdmds(os.path.join(dirIn, file_name),t2,returnmeta=True,rec=recs[1])\n",
    "DFxE_TH,its,meta = rdmds(os.path.join(dirIn, file_name),t2,returnmeta=True,rec=recs[2])\n",
    "DFyE_TH,its,meta = rdmds(os.path.join(dirIn, file_name),t2,returnmeta=True,rec=recs[3])\n",
    "# UVELMASS,its,meta = rdmds(os.path.join(dirIn, file_name),t2,returnmeta=True,rec=recs[4])\n",
    "# VVELMASS,its,meta = rdmds(os.path.join(dirIn, file_name),t2,returnmeta=True,rec=recs[5])  # m/s\n",
    "\n",
    "# reshape the UVELMASS and VVELMASS to look at these\n",
    "# UVELMASS = UVELMASS.reshape(nz,ny,nx)\n",
    "# VVELMASS = VVELMASS.reshape(nz,ny,nx)\n",
    "\n",
    "tmpUo = myparms['rcp'] * (ADVx_TH + DFxE_TH)\n",
    "tmpVo = myparms['rcp'] * (ADVy_TH + DFyE_TH)\n",
    "\n",
    "tmpUo = tmpUo.reshape(nz,ny,nx)\n",
    "tmpVo = tmpVo.reshape(nz,ny,nx)\n",
    "\n",
    "# get the faces so we can do convergence\n",
    "tmpUo = get_aste_faces(tmpUo,nfx,nfy)              \n",
    "tmpVo = get_aste_faces(tmpVo,nfx,nfy)\n",
    "\n",
    "budgO['heatfluxes']['hconv'] = calc_UV_conv_mod(nfx,nfy,tmpUo,tmpVo)\n",
    "budgO['heathconv'] = calc_UV_conv_mod(nfx,nfy,np.nansum(tmpUo, axis=0),np.nansum(tmpVo,axis=0))\n",
    "\n",
    "# add the budgeting for ADV and DF\n",
    "tmpUo = get_aste_faces(ADVx_TH.reshape(nz,ny,nx),nfx,nfy)\n",
    "tmpVo = get_aste_faces(ADVy_TH.reshape(nz,ny,nx),nfx,nfy)\n",
    "budgO['heatfluxes']['ADV_hconv'] = calc_UV_conv_mod(nfx,nfy,tmpUo,tmpVo) * myparms['rcp'] #J/s\n",
    "\n",
    "tmpUo = get_aste_faces(DFxE_TH.reshape(nz,ny,nx),nfx,nfy)\n",
    "tmpVo = get_aste_faces(DFyE_TH.reshape(nz,ny,nx),nfx,nfy)\n",
    "budgO['heatfluxes']['DF_hconv'] = calc_UV_conv_mod(nfx,nfy,tmpUo,tmpVo) * myparms['rcp'] #J/s\n",
    "\n",
    "file_name = 'budg2d_zflux_set1'\n",
    "meta_budg2d_zflux_set1 = parsemeta(dirIn + file_name + \".\" + tsstr[0] + \".meta\")\n",
    "fldlist = np.array(meta_budg2d_zflux_set1[\"fldList\"])\n",
    "varnames = np.array([\"TFLUX\",\"oceQsw\",\"SItflux\"])\n",
    "recs = np.array([])\n",
    "for var in varnames:\n",
    "    irec = np.where(fldlist == var)\n",
    "    recs = np.append(recs, irec[0][0])\n",
    "TFLUX,its,meta = rdmds(os.path.join(dirIn, file_name),t2,returnmeta=True,rec=recs[0])\n",
    "oceQsw,its,meta = rdmds(os.path.join(dirIn, file_name),t2,returnmeta=True,rec=recs[1])\n",
    "SItflux,its,meta = rdmds(os.path.join(dirIn, file_name),t2,returnmeta=True,rec=recs[2])\n",
    "TFLUX = TFLUX.reshape(ny,nx)\n",
    "oceQsw = oceQsw.reshape(ny,nx)\n",
    "SItflux = SItflux.reshape(ny,nx)\n",
    "\n",
    "# note: the following works provided that the first 3 terms are definitely there\n",
    "file_name = \"budg2d_zflux_set2\"\n",
    "meta_budg2d_zflux_set2 = parsemeta(dirIn + file_name + \".\" + tsstr[0] + \".meta\")\n",
    "fldlist = np.array(meta_budg2d_zflux_set2[\"fldList\"])\n",
    "varnames = np.array([\"oceQnet\",\"WTHMASS\",\"SIaaflux\",\"TRELAX\"])\n",
    "recs = np.array([])\n",
    "for var in varnames:\n",
    "    irec = np.where(fldlist == var)\n",
    "    recs = np.append(recs, irec[0][0])\n",
    "oceQnet,its,meta = rdmds(os.path.join(dirIn, file_name),t2,returnmeta=True,rec=recs[0])\n",
    "WTHMASS,its,meta = rdmds(os.path.join(dirIn, file_name),t2,returnmeta=True,rec=recs[1])\n",
    "SIaaflux,its,meta = rdmds(os.path.join(dirIn, file_name),t2,returnmeta=True,rec=recs[2])\n",
    "TRELAX,its,meta = rdmds(os.path.join(dirIn, file_name),t2,returnmeta=True,rec=recs[3])\n",
    "oceQnet = oceQnet.reshape(ny,nx)\n",
    "WTHMASS = WTHMASS.reshape(ny,nx)\n",
    "SIaaflux = SIaaflux.reshape(ny,nx)\n",
    "TRELAX = TRELAX.reshape(ny,nx)\n",
    "\n",
    "# note: will not work if these are defined, fix for future steps\n",
    "varnames = np.array([\"TRELAX\",\"SIabflux\",\"SIacflux\",\"SIeprflx\",\"SIfldflx\"])\n",
    "recs = np.array([])\n",
    "for var in varnames:\n",
    "    irec = np.where(fldlist == var)\n",
    "    if len(irec[0]) > 0:\n",
    "        recs = np.append(recs, irec[0][0])\n",
    "\n",
    "# if len(recs) == 0:\n",
    "SIabflux = np.zeros((ny, nx))\n",
    "SIacflux = np.zeros((ny, nx))\n",
    "SIeprflx = np.zeros((ny, nx))\n",
    "SIfldflx = np.zeros((ny, nx))\n",
    "if myparms['useNLFS'] == 0:\n",
    "    print('do nothing, already read above')\n",
    "else:\n",
    "    WTHMASS=0*WTHMASS\n",
    "\n",
    "geothFlux = 0\n",
    "\n",
    "if myparms['SaltPlumeHeatFlux']:\n",
    "    print(1)\n",
    "else:\n",
    "    SPforcT1=0*np.ones((ny,nx))\n",
    "    oceEPtnd=0*np.ones((nz,ny,nx))\n",
    "\n",
    "\n",
    "# read kpp tend and from 3d zflux\n",
    "file_name = \"budg3d_kpptend_set1\"\n",
    "meta_budg3d_kpptend_set1 = parsemeta(dirIn + file_name + \".\" + tsstr[0] + \".meta\")\n",
    "fldlist = np.array(meta_budg3d_kpptend_set1[\"fldList\"])\n",
    "varnames = np.array([\"KPPg_TH\"])\n",
    "recs = np.array([])\n",
    "for var in varnames:\n",
    "    irec = np.where(fldlist == var)\n",
    "    recs = np.append(recs, irec[0][0])\n",
    "KPPg_TH,its,meta = rdmds(os.path.join(dirIn, file_name),t2,returnmeta=True,rec=recs[0])\n",
    "KPPg_TH = KPPg_TH.reshape(nz,ny,nx)\n",
    "\n",
    "# now 3d zfluxes\n",
    "file_name = \"budg3d_zflux_set2\"\n",
    "meta_budg3d_zflux_set2 = parsemeta(dirIn + file_name + \".\" + tsstr[0] + \".meta\")\n",
    "fldlist = np.array(meta_budg3d_zflux_set2[\"fldList\"])\n",
    "varnames = np.array([\"ADVr_TH\",\"DFrE_TH\",\"DFrI_TH\"])\n",
    "recs = np.array([])\n",
    "for var in varnames:\n",
    "    irec = np.where(fldlist == var)\n",
    "    recs = np.append(recs, irec[0][0])\n",
    "ADVr_TH,its,meta = rdmds(os.path.join(dirIn, file_name),t2,returnmeta=True,rec=recs[0])\n",
    "DFrE_TH,its,meta = rdmds(os.path.join(dirIn, file_name),t2,returnmeta=True,rec=recs[1])\n",
    "DFrI_TH,its,meta = rdmds(os.path.join(dirIn, file_name),t2,returnmeta=True,rec=recs[2])\n",
    "ADVr_TH = ADVr_TH.reshape(nz,ny,nx)\n",
    "DFrE_TH = DFrE_TH.reshape(nz,ny,nx)\n",
    "DFrI_TH = DFrI_TH.reshape(nz,ny,nx)\n",
    "\n",
    "budgO['heatzconv']=TFLUX+geothFlux+SPforcT1                           # W/m^2 = J/m^2/s\n",
    "zconv_top_heat = TFLUX  * RAC     # W/m^2 * m^2 = J/s\n",
    "budgI['heatzconv']=-(SItflux+TFLUX-TRELAX+SPforcT1)\n",
    "\n",
    "if myparms['useNLFS']==0:\n",
    "    print(1)\n",
    "    budgO['heatzconv']=budgO['heatzconv']-myparms['rcp']*WTHMASS[:,:]     # degC.m/s * J/m^3degC = J/m^2.s\n",
    "\n",
    "budgI['heatzconv']=budgI['heatzconv']-SIabflux+SIacflux+SIeprflx\n",
    "if(myparms['SEAICEheatConsFix']==0):\n",
    "    print(2)\n",
    "    budgI['heatzconv']=budgI['heatzconv']+SIaaflux\n",
    "\n",
    "nr = mygrid['RC'].shape[0]\n",
    "trWtopADV = -(ADVr_TH) * myparms['rcp']         # J/s\n",
    "trWtopDF = -(DFrE_TH+DFrI_TH) * myparms['rcp']  # J/s\n",
    "trWtopKPP = -(KPPg_TH) * myparms['rcp']         # J/s\n",
    "trWtop = trWtopADV + trWtopDF + trWtopKPP       # J/s\n",
    "dd = mygrid['RF'][:-1]\n",
    "swfrac = 0.62*np.exp(dd/0.6)+(1-0.62)*np.exp(dd/20)\n",
    "swfrac[dd < -200] = 0\n",
    "swtop=mk3D_mod(swfrac,trWtop)*mk3D_mod(RAC*oceQsw,trWtop)   # J/s\n",
    "mskC=mygrid['mskC']\n",
    "swtop[np.isnan(mskC)]=0\n",
    "trWtop=trWtop+swtop  # 323\n",
    "    \n",
    "trWtop[0,:,:]=budgO['heatzconv']*RAC\n",
    "trWbot = np.zeros_like(trWtop)\n",
    "trWbot[:-1,:,:]=trWtop[1:,:,:]\n",
    "\n",
    "budgO[\"heatfluxes\"][\"trWtop\"] = trWtop\n",
    "budgO[\"heatfluxes\"][\"trWbot\"] = trWbot\n",
    "\n",
    "budgI[\"heatfluxes\"][\"trWtop\"] = -RAC * (budgI[\"heatzconv\"] + budgO[\"heatzconv\"])\n",
    "budgI[\"heatfluxes\"][\"trWbot\"] = -RAC * budgO[\"heatzconv\"]\n",
    "budgO['heatfluxes']['zconv']=budgO['heatfluxes']['trWtop']-budgO['heatfluxes']['trWbot']\n",
    "\n",
    "budgO['heatzconv'] = RAC*budgO['heatzconv']  # J/s\n",
    "budgI['heatzconv']=RAC*budgI['heatzconv']    # J/s\n",
    "budgOI['heatzconv']=budgO['heatzconv']+budgI['heatzconv']\n",
    "\n",
    "# do vertical convergence for ADV and DF terms\n",
    "tmpadv = np.full((nz,ny,nx),np.nan)\n",
    "tmpadv[:-1,:,:] = (trWtopADV[:-1] - trWtopADV[1:])              # for surface thru seafloor\n",
    "\n",
    "Tconv = budgO['heatfluxes']['ADV_hconv'] + tmpadv   # hconv + zconv\n",
    "budgO['heatfluxes']['ADV_Tconv'] = Tconv      # J/s, this is the advective arrow of T for a cell\n",
    "\n",
    "# do vertical convergence for ADV and DF terms\n",
    "tmpdf = np.full((nz,ny,nx),np.nan)\n",
    "tmpdf[:-1,:,:] = (trWtopDF[:-1] - trWtopDF[1:])              # for surface thru seafloor\n",
    "\n",
    "dfTconv = budgO['heatfluxes']['DF_hconv'] + tmpdf\n",
    "budgO['heatfluxes']['DF_Tconv'] = dfTconv      # J/s, this is the diffusive arrow of T for a cell\n",
    "\n",
    "tmpkpp = np.full((nz,ny,nx),np.nan)\n",
    "tmpkpp[:-1,:,:] = trWtopKPP[:-1] - trWtopKPP[1:]\n",
    "budgO['heatfluxes']['KPP_Tconv'] = tmpkpp        # no horizontal component for this\n"
   ]
  },
  {
   "cell_type": "code",
   "execution_count": 167,
   "id": "873520ea-26ed-451b-a2f2-02faf2776cf2",
   "metadata": {},
   "outputs": [
    {
     "name": "stdout",
     "output_type": "stream",
     "text": [
      "doing JtermsT\n",
      "total residual -1.9622153734628487e-12 Sv/PSU\n"
     ]
    }
   ],
   "source": [
    "##########################################################\n",
    "print(\"doing JtermsT\")\n",
    "# make this a for loop for points just to start\n",
    "JtermsT = np.zeros((5,nS,nT))\n",
    "\n",
    "# get the data (will be the same for all points)\n",
    "aT = budgO['heatfluxes']['tend']\n",
    "bT = budgO['heatfluxes']['ADV_Tconv']\n",
    "cT = budgO['heatfluxes']['DF_Tconv']\n",
    "dT = budgO['heatfluxes']['KPP_Tconv']\n",
    "eT = zconv_top_heat.reshape(1,ny,nx)\n",
    "fT = swtop\n",
    "\n",
    "for j,i in zip(y1d,x1d):\n",
    "\n",
    "    # loop through the depths and add\n",
    "    nzna = len(hfcsel[:,j,i][~np.isnan(hfcsel[:,j,i])]) # how many cells are filled here\n",
    "    \n",
    "    for k in range (nzna):\n",
    "        iTpt = int(binned_theta[k,j,i])\n",
    "        iSpt = int(binned_salinity[k,j,i])\n",
    "\n",
    "        # save the J terms for here for the single point   \n",
    "        JtendT = (aT[k,j,i]) / myparms['rcp'] / binwidthT[iTpt] * 1e-6             # Sv/PSU\n",
    "        JADVT = (bT[k,j,i]) / myparms['rcp'] / binwidthT[iTpt] * 1e-6              # Sv/PSU\n",
    "        JDFT = (cT[k,j,i]) / myparms['rcp'] / binwidthT[iTpt] * 1e-6               # Sv/PSU\n",
    "        JKPPT = (dT[k,j,i]) / myparms['rcp'] / binwidthT[iTpt] * 1e-6              # Sv/PSU\n",
    "\n",
    "        if k == 0:\n",
    "            JsurfT = (eT[k,j,i] - fT[k+1,j,i]) / myparms['rcp'] / binwidthT[iTpt] * 1e-6 # Sv/PSU\n",
    "        else:\n",
    "            JsurfT = -(fT[k+1,j,i] - fT[k,j,i]) / myparms['rcp'] / binwidthT[iTpt] * 1e-6 # Sv/PSU\n",
    "\n",
    "        # set these in meshes so we can plot\n",
    "        c = 0\n",
    "        for valT in (np.array([JtendT,JADVT,JDFT,JKPPT,JsurfT])):\n",
    "            #print(valT)\n",
    "            JtermsT[c,iSpt,iTpt] += valT\n",
    "            c += 1\n",
    "\n",
    "print(\"total residual\",np.nansum(JtermsT[0] - JtermsT[1] - JtermsT[2] - JtermsT[3] - JtermsT[4]),\"Sv/PSU\")"
   ]
  },
  {
   "cell_type": "code",
   "execution_count": 168,
   "id": "dd8fc7c5-3252-4e3d-9755-84ddcb8aee38",
   "metadata": {},
   "outputs": [],
   "source": [
    "ADVx_TH = ADVx_TH.reshape(nz,ny,nx)\n",
    "ADVy_TH = ADVy_TH.reshape(nz,ny,nx)"
   ]
  },
  {
   "cell_type": "code",
   "execution_count": 169,
   "id": "3999bf7a-7882-44f1-a1aa-3c1fe87740de",
   "metadata": {},
   "outputs": [],
   "source": [
    "# this is where we try to put the salt terms into a TS mesh\n",
    "# we need to go through the ADV points in each gate and add them to the TS bin at that point\n",
    "binwidthTconst = np.nanmax(binwidthT)\n",
    "binwidthSconst = np.nanmax(binwidthS)\n",
    "norm = (binwidthTconst * binwidthSconst * myparms['rhoconst'])\n",
    "\n",
    "J_gates = np.zeros((4,nS,nT))\n",
    "\n",
    "#########################################################################################################################\n",
    "for j,i in zip(lefty,leftx):\n",
    "    # based on the direction, grab from ADV_gates at the correct index\n",
    "    col = ADVx_TH[:,j,i]\n",
    "\n",
    "    nzc = len(binned_theta_face_i[:,j,i][~np.isnan(binned_theta_face_i[:,j,i])])\n",
    "    for kc in range(nzc):\n",
    "        # get the T and S bin for that item\n",
    "        iTpt = int(binned_theta_face_i[kc,j,i])\n",
    "        iSpt = int(binned_salinity_face_i[kc,j,i])\n",
    "        iTpt = int(binned_theta[kc,j,i])\n",
    "        iSpt = int(binned_salinity[kc,j,i])\n",
    "        J_gates[0,iSpt,iTpt] += (col[kc]) / binwidthTconst  #m^3.PSU/s -- g/s -- \n",
    "\n",
    "\n",
    "#########################################################################################################################\n",
    "# do this for SFJ\n",
    "for j,i in zip(boty,botx):\n",
    "    # based on the direction, grab from ADV_gates at the correct index\n",
    "    col = ADVy_TH[:,j,i]\n",
    "    nzc = len(binned_theta_face_j[:,j,i][~np.isnan(binned_theta_face_j[:,j,i])])\n",
    "    for kc in range(nzc):\n",
    "        # get the T and S bin for that item\n",
    "        iTpt = int(binned_theta_face_j[kc,j,i])\n",
    "        iSpt = int(binned_salinity_face_j[kc,j,i])\n",
    "        iTpt = int(binned_theta[kc,j,i])\n",
    "        iSpt = int(binned_salinity[kc,j,i])\n",
    "        J_gates[1,iSpt,iTpt] += (col[kc]) / binwidthTconst\n",
    "\n",
    "#########################################################################################################################\n",
    "# same for FJNZ\n",
    "for j,i in zip(righty,rightx):\n",
    "    # based on the direction, grab from ADV_gates at the correct index\n",
    "    col = -ADVx_TH[:,j,i]\n",
    "    nzc = len(binned_theta_face_i[:,j,i][~np.isnan(binned_theta_face_i[:,j,i])])\n",
    "    for kc in range(nzc):\n",
    "        # get the T and S bin for that item\n",
    "        iTpt = int(binned_theta_face_i[kc,j,i])\n",
    "        iSpt = int(binned_salinity_face_i[kc,j,i])\n",
    "        iTpt = int(binned_theta[kc,j,i-1])\n",
    "        iSpt = int(binned_salinity[kc,j,i-1])\n",
    "        J_gates[2,iSpt,iTpt] += (col[kc]) / binwidthTconst\n",
    "\n",
    "#########################################################################################################################\n",
    "# same again for NZRU\n",
    "for j,i in zip(topy,topx):\n",
    "    # based on the direction, grab from ADV_gates at the correct index\n",
    "    col = -ADVy_TH[:,j,i]\n",
    "    nzc = len(binned_theta_face_j[:,j,i][~np.isnan(binned_theta_face_j[:,j,i])])\n",
    "    for kc in range(nzc):\n",
    "        # get the T and S bin for that item\n",
    "        iTpt = int(binned_theta_face_j[kc,j,i])\n",
    "        iSpt = int(binned_salinity_face_j[kc,j,i])\n",
    "        iTpt = int(binned_theta[kc,j-1,i])\n",
    "        iSpt = int(binned_salinity[kc,j-1,i])\n",
    "        J_gates[3,iSpt,iTpt] += (col[kc]) / binwidthTconst\n",
    "\n",
    "\n",
    "#############################################################################################################################\n",
    "J_gates *= 1e-6  # Sv"
   ]
  },
  {
   "cell_type": "code",
   "execution_count": 170,
   "id": "5256f78c-4137-4e42-ba92-ca29c5fec3d4",
   "metadata": {},
   "outputs": [
    {
     "data": {
      "text/plain": [
       "<matplotlib.colorbar.Colorbar at 0x151e3cf83550>"
      ]
     },
     "execution_count": 170,
     "metadata": {},
     "output_type": "execute_result"
    },
    {
     "data": {
      "image/png": "[encoded data removed]",
      "text/plain": [
       "<Figure size 700x700 with 8 Axes>"
      ]
     },
     "metadata": {},
     "output_type": "display_data"
    }
   ],
   "source": [
    "fig = plt.figure(figsize=(7,7))\n",
    "vlev = 2\n",
    "\n",
    "ax = plt.subplot(221)\n",
    "cb=ax.pcolormesh(Sbin,Tbin,J_gates[0],cmap='seismic',vmin=-vlev,vmax=vlev)\n",
    "ax.set_title(\"Top\")\n",
    "ax.set_xlim(34.5,35)\n",
    "ax.set_ylim(2.5,4.5)\n",
    "plt.colorbar(cb)\n",
    "\n",
    "ax = plt.subplot(222)\n",
    "cb=ax.pcolormesh(Sbin,Tbin,J_gates[1],cmap='seismic',vmin=-vlev,vmax=vlev)\n",
    "ax.set_title(\"Bottom\")\n",
    "ax.set_xlim(34.5,35)\n",
    "ax.set_ylim(2.5,4.5)\n",
    "plt.colorbar(cb)\n",
    "\n",
    "ax = plt.subplot(223)\n",
    "cb=ax.pcolormesh(Sbin,Tbin,J_gates[2],cmap='seismic',vmin=-vlev,vmax=vlev)\n",
    "ax.set_title(\"Right\")\n",
    "ax.set_xlim(34.5,35)\n",
    "ax.set_ylim(2.5,4.5)\n",
    "plt.colorbar(cb)\n",
    "\n",
    "ax = plt.subplot(224)\n",
    "cb=ax.pcolormesh(Sbin,Tbin,J_gates[3],cmap='seismic',vmin=-vlev,vmax=vlev)\n",
    "ax.set_title(\"Left\")\n",
    "ax.set_xlim(34.5,35)\n",
    "ax.set_ylim(2.5,4.5)\n",
    "plt.colorbar(cb)"
   ]
  },
  {
   "cell_type": "code",
   "execution_count": 171,
   "id": "255a9894-d69f-4084-9099-8822eddf4e20",
   "metadata": {},
   "outputs": [
    {
     "data": {
      "text/plain": [
       "<matplotlib.colorbar.Colorbar at 0x151e3cd09fa0>"
      ]
     },
     "execution_count": 171,
     "metadata": {},
     "output_type": "execute_result"
    },
    {
     "data": {
      "image/png": "[encoded data removed]",
      "text/plain": [
       "<Figure size 1000x400 with 6 Axes>"
      ]
     },
     "metadata": {},
     "output_type": "display_data"
    }
   ],
   "source": [
    "fig = plt.figure()\n",
    "\n",
    "ax = plt.subplot(131)\n",
    "cb = ax.pcolormesh(Sbin,Tbin,JtermsS[1],cmap='seismic',vmin=-.05,vmax=.05)\n",
    "ax.set_xlim(34,35)\n",
    "ax.set_ylim(1,4.5)\n",
    "plt.colorbar(cb)\n",
    "\n",
    "ax = plt.subplot(132)\n",
    "cb = ax.pcolormesh(Sbin,Tbin,np.nansum(J_gates,axis=0),cmap='seismic',vmin=-10,vmax=10)\n",
    "ax.set_xlim(34,35)\n",
    "ax.set_ylim(1,4.5)\n",
    "plt.colorbar(cb)\n",
    "\n",
    "ax = plt.subplot(133)\n",
    "cb = ax.pcolormesh(Sbin,Tbin,JtermsS[1]- np.nansum(J_gates,axis=0) ,cmap='seismic',vmin=-10,vmax=10)\n",
    "ax.set_xlim(34,35)\n",
    "ax.set_ylim(1,4.5)\n",
    "plt.colorbar(cb)"
   ]
  },
  {
   "cell_type": "code",
   "execution_count": 174,
   "id": "29853374-673f-44b9-950a-9229607a13ab",
   "metadata": {},
   "outputs": [
    {
     "name": "stdout",
     "output_type": "stream",
     "text": [
      "11.93819084943734\n"
     ]
    }
   ],
   "source": [
    "print(np.nansum(JtermsT[1]))"
   ]
  },
  {
   "cell_type": "code",
   "execution_count": 173,
   "id": "91a76eec-7400-4257-a10b-0d92c6d2b63a",
   "metadata": {},
   "outputs": [
    {
     "name": "stdout",
     "output_type": "stream",
     "text": [
      "11.938190849437216\n"
     ]
    }
   ],
   "source": [
    "print(np.nansum(J_gates))"
   ]
  },
  {
   "cell_type": "code",
   "execution_count": null,
   "id": "caf9a26b-c5ec-41cb-9096-0da050ba79b5",
   "metadata": {},
   "outputs": [],
   "source": []
  }
 ],
 "metadata": {
  "kernelspec": {
   "display_name": "py38",
   "language": "python",
   "name": "py38"
  },
  "language_info": {
   "codemirror_mode": {
    "name": "ipython",
    "version": 3
   },
   "file_extension": ".py",
   "mimetype": "text/x-python",
   "name": "python",
   "nbconvert_exporter": "python",
   "pygments_lexer": "ipython3",
   "version": "3.8.18"
  }
 },
 "nbformat": 4,
 "nbformat_minor": 5
}
