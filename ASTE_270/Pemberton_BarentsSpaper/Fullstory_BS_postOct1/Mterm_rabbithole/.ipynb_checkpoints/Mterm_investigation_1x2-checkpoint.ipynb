{
 "cells": [
  {
   "cell_type": "markdown",
   "id": "b1534a72",
   "metadata": {},
   "source": [
    "## this will be another attempt to create a budgeted M term\n",
    "\n",
    "I think we should start with the heat budget and try to do the M term from the advective term\n",
    "\n",
    "This should ideally be budgeted already because the internal advective terms will cancel.\n",
    "\n",
    "What to add (10/16):\n",
    "- gateway volume transport from the U and V terms\n",
    "- gateway advective transport from ADVSLT and ADVTH (question will be if we do divergence on this how is this different"
   ]
  },
  {
   "cell_type": "code",
   "execution_count": 1,
   "id": "34d36a39",
   "metadata": {},
   "outputs": [
    {
     "name": "stdout",
     "output_type": "stream",
     "text": [
      "(50,) (50, 1350, 270)\n",
      "hf1 (1350, 270)\n",
      "(1, 1350, 270)\n",
      "LwetC2d 146614\n",
      "LwetC 4833023\n",
      "\n"
     ]
    }
   ],
   "source": [
    "# auto-reload edited modules\n",
    "%load_ext autoreload\n",
    "%autoreload 2\n",
    "\n",
    "import sys, os\n",
    "sys.path.insert(0, \"/home/mmurakami/crios_backups/an_helper_functions\")\n",
    "\n",
    "# run the script into the current kernel (vars/functions become available)\n",
    "%run -i \"/home/mmurakami/crios_backups/an_helper_functions/load_packages.py\""
   ]
  },
  {
   "cell_type": "code",
   "execution_count": 2,
   "id": "56eb4aea-1310-4ee6-92a8-328fd63d0e10",
   "metadata": {},
   "outputs": [],
   "source": [
    "from matplotlib.ticker import FuncFormatter, MaxNLocator"
   ]
  },
  {
   "cell_type": "markdown",
   "id": "e7f8d195",
   "metadata": {},
   "source": [
    "## I think we should start with a very small (2x2 box and see if we can do this)\n",
    "\n",
    "Any vertical advection should be included in the internal mixing"
   ]
  },
  {
   "cell_type": "code",
   "execution_count": 3,
   "id": "6300d062",
   "metadata": {},
   "outputs": [
    {
     "data": {
      "text/plain": [
       "2678400.0"
      ]
     },
     "execution_count": 3,
     "metadata": {},
     "output_type": "execute_result"
    }
   ],
   "source": [
    "# create an array of the time steps we want to read\n",
    "# use ts2dte to get december 2014\n",
    "# first make an array of filenames\n",
    "dt_aste = 600\n",
    "startyr = 2002\n",
    "endyr = 2019\n",
    "\n",
    "# all the filenames in the system\n",
    "fnames = get_fnames(dt_aste,startyr,endyr)\n",
    "\n",
    "times = {}\n",
    "times[\"2016\"] = np.arange(1,3,1)\n",
    "\n",
    "# the filenames we want for 2014\n",
    "tsstr,datetimes = get_tsteps(times,fnames,dt_aste,startyr,1,1)\n",
    "\n",
    "t2 = int(tsstr[1])    # this is the averages file that we want to read from when we do budgeting\n",
    "\n",
    "dt = datetimes[1]-datetimes[0]   # days\n",
    "dt = dt.total_seconds()\n",
    "dt"
   ]
  },
  {
   "cell_type": "code",
   "execution_count": 4,
   "id": "f0c4a906-c548-4e98-9860-726d8cfa95b6",
   "metadata": {},
   "outputs": [],
   "source": [
    "# we will hard code some example box with gates for now\n",
    "xs = np.array([[25,26]])\n",
    "ys = np.array([[525,525]])\n",
    "\n",
    "gatei = np.nanmin(xs)\n",
    "gateip1 = np.nanmax(xs)\n",
    "gateip2 = np.nanmax(xs) + 1   # the eastern \"gate\" index for this range,  we take -advx\n",
    "gatej = np.nanmin(ys)\n",
    "gatejp1 = np.nanmin(ys) + 1   # the northern \"gate\" index we take at j+1 for -advy"
   ]
  },
  {
   "cell_type": "code",
   "execution_count": 5,
   "id": "776d7711-4f36-4a22-bba7-6f5fcb1f4a1e",
   "metadata": {},
   "outputs": [
    {
     "data": {
      "text/plain": [
       "(520.0, 530.0)"
      ]
     },
     "execution_count": 5,
     "metadata": {},
     "output_type": "execute_result"
    },
    {
     "data": {
      "image/png": "[encoded data removed]",
      "text/plain": [
       "<Figure size 1000x400 with 1 Axes>"
      ]
     },
     "metadata": {},
     "output_type": "display_data"
    }
   ],
   "source": [
    "plt.pcolormesh(mymsk)\n",
    "plt.scatter(xs,ys)\n",
    "plt.xlim(23,30)\n",
    "plt.ylim(520,530)"
   ]
  },
  {
   "cell_type": "markdown",
   "id": "00c015b0-978c-4481-9ea9-98f308fc5629",
   "metadata": {},
   "source": [
    "## start with the original salt budget"
   ]
  },
  {
   "cell_type": "code",
   "execution_count": 6,
   "id": "e7a70455-e75d-409a-ae52-186d93ea7ec6",
   "metadata": {},
   "outputs": [
    {
     "name": "stdout",
     "output_type": "stream",
     "text": [
      "doing salt budget\n"
     ]
    }
   ],
   "source": [
    "# total tendency will just be for those two squares\n",
    "print(\"doing salt budget\")\n",
    "# create the salt budget\n",
    "AB_gT=0\n",
    "AB_gS=0\n",
    "file_name = 'budg3d_snap_set2'\n",
    "meta_budg3d_snap_set2 = parsemeta(dirIn + file_name + \".\" + tsstr[0] + \".meta\")\n",
    "fldlist = np.array(meta_budg3d_snap_set2[\"fldList\"])\n",
    "varnames = np.array([\"SALTDR\"])\n",
    "recs = np.array([])\n",
    "for var in varnames:\n",
    "    irec = np.where(fldlist == var)\n",
    "    recs = np.append(recs, irec[0][0])\n",
    "\n",
    "\n",
    "SALTDR = np.full((len(tsstr),nz,ny,nx),np.nan)\n",
    "for i in range(len(tsstr)):\n",
    "    thisSALTDR,its,meta = rdmds(os.path.join(dirIn, file_name),int(tsstr[i]),returnmeta=True,rec=recs[0])\n",
    "    thisSALTDR = thisSALTDR.reshape(nz,ny,nx)\n",
    "    SALTDR[i] = thisSALTDR\n",
    "\n",
    "SALTDR =  (SALTDR[1, :, :,:] - SALTDR[0, :,:, :]) / dt    # PSU.m/s\n",
    "\n",
    "tmptend = myparms['rhoconst'] * (SALTDR - AB_gS) * mk3D_mod(RAC,SALTDR)    # kg/m^3 * PSU.m/s * m^2 = g/s\n",
    "budgO = {}\n",
    "budgO['saltfluxes'] = {}\n",
    "budgI = {}\n",
    "budgI['saltfluxes'] = {}\n",
    "budgOI = {}\n",
    "\n",
    "# ocean\n",
    "budgO['saltfluxes']['tend'] = tmptend\n",
    "budgO['salttend'] = np.nansum(tmptend,axis=0)"
   ]
  },
  {
   "cell_type": "code",
   "execution_count": 7,
   "id": "1194d87b-4ff7-4edb-b1bc-4bb52da21733",
   "metadata": {},
   "outputs": [
    {
     "data": {
      "text/plain": [
       "(50, 1, 2)"
      ]
     },
     "execution_count": 7,
     "metadata": {},
     "output_type": "execute_result"
    }
   ],
   "source": [
    "# print the tendency for those two squares\n",
    "# take the sum in the second axis to get the total tendency for this array\n",
    "# we're integrating across the x axis (which is x)\n",
    "stend = budgO['saltfluxes']['tend'][:,ys,xs]\n",
    "stend.shape"
   ]
  },
  {
   "cell_type": "code",
   "execution_count": 8,
   "id": "fd11f987-5a15-4d3f-8278-691cf747ecdf",
   "metadata": {},
   "outputs": [
    {
     "data": {
      "text/plain": [
       "(50, 1)"
      ]
     },
     "execution_count": 8,
     "metadata": {},
     "output_type": "execute_result"
    }
   ],
   "source": [
    "# load the original horizontal fluxes and the hconv\n",
    "file_name = \"budg3d_hflux_set2\"\n",
    "meta_budg3d_hflux_set2 = parsemeta(dirIn + file_name + \".\" + tsstr[0] + \".meta\")\n",
    "fldlist = np.array(meta_budg3d_hflux_set2[\"fldList\"])\n",
    "varnames = np.array([\"ADVx_SLT\",\"ADVy_SLT\",\"DFxE_SLT\",\"DFyE_SLT\"])\n",
    "recs = np.array([])\n",
    "for var in varnames:\n",
    "    irec = np.where(fldlist == var)\n",
    "    recs = np.append(recs, irec[0][0])\n",
    "ADVx_SLT,its,meta = rdmds(os.path.join(dirIn, file_name),t2,returnmeta=True,rec=recs[0])\n",
    "ADVy_SLT,its,meta = rdmds(os.path.join(dirIn, file_name),t2,returnmeta=True,rec=recs[1])\n",
    "DFxE_SLT,its,meta = rdmds(os.path.join(dirIn, file_name),t2,returnmeta=True,rec=recs[2])\n",
    "DFyE_SLT,its,meta = rdmds(os.path.join(dirIn, file_name),t2,returnmeta=True,rec=recs[3])\n",
    "\n",
    "# calculate the overall horizontal convergence (we don't need here)\n",
    "tmpUo = myparms['rhoconst'] * (ADVx_SLT + DFxE_SLT)\n",
    "tmpVo = myparms['rhoconst'] * (ADVy_SLT + DFyE_SLT)\n",
    "tmpUo = tmpUo.reshape(nz,ny,nx)\n",
    "tmpVo = tmpVo.reshape(nz,ny,nx)\n",
    "tmpUo = get_aste_faces(tmpUo,nfx,nfy)              \n",
    "tmpVo = get_aste_faces(tmpVo,nfx,nfy)\n",
    "budgO['saltfluxes']['hconv'] = calc_UV_conv_mod(nfx,nfy,tmpUo,tmpVo)\n",
    "budgO['salthconv'] = calc_UV_conv_mod(nfx,nfy,np.nansum(tmpUo,axis=0),np.nansum(tmpVo,axis=0))\n",
    "\n",
    "# also do hconv for ADV and DF\n",
    "tmpUo = get_aste_faces(ADVx_SLT.reshape(nz,ny,nx),nfx,nfy)\n",
    "tmpVo = get_aste_faces(ADVy_SLT.reshape(nz,ny,nx),nfx,nfy)\n",
    "budgO['saltfluxes']['ADV_hconv'] = calc_UV_conv_mod(nfx,nfy,tmpUo,tmpVo) * myparms['rhoconst'] #g/s\n",
    "\n",
    "normaladvconv = np.nansum(budgO['saltfluxes']['ADV_hconv'][:,ys,xs],axis = 2)\n",
    "normaladvconv.shape"
   ]
  },
  {
   "cell_type": "code",
   "execution_count": 9,
   "id": "6b4be198-090d-494d-960d-31d7aff982a6",
   "metadata": {},
   "outputs": [],
   "source": [
    "# we need to create a new term which is the gateway transport\n",
    "gatesS = np.zeros((nz,1))\n",
    "tmpADVx_SLT = ADVx_SLT.reshape(nz,ny,nx)\n",
    "tmpADVy_SLT = ADVy_SLT.reshape(nz,ny,nx)\n",
    "\n",
    "# the gate hconv will just be the north and south gates\n",
    "gatesS[:,0] += tmpADVx_SLT[:,gatej,gatei]     # left gate\n",
    "gatesS[:,0] -= tmpADVx_SLT[:,gatej,gateip2]   # right gate\n",
    "gatesS[:,0] += tmpADVy_SLT[:,gatej,gatei]     # bottom left gate\n",
    "gatesS[:,0] += tmpADVy_SLT[:,gatej,gateip1]   # bottom right gate\n",
    "gatesS[:,0] -= tmpADVy_SLT[:,gatejp1,gatei]   # top left gate\n",
    "gatesS[:,0] -= tmpADVy_SLT[:,gatejp1,gateip1]   # top right gate\n",
    "\n",
    "gatesS *= myparms['rhoconst']"
   ]
  },
  {
   "cell_type": "code",
   "execution_count": 10,
   "id": "e9e62eee-4b78-46d1-9378-819989ba6e92",
   "metadata": {},
   "outputs": [],
   "source": [
    "tmpUo = get_aste_faces(DFxE_SLT.reshape(nz,ny,nx),nfx,nfy)\n",
    "tmpVo = get_aste_faces(DFyE_SLT.reshape(nz,ny,nx),nfx,nfy)\n",
    "budgO['saltfluxes']['DF_hconv'] = calc_UV_conv_mod(nfx,nfy,tmpUo,tmpVo) * myparms['rhoconst'] #g/s\n",
    "\n",
    "# read the vars\n",
    "file_name = \"budg2d_hflux_set1\"\n",
    "meta_budg2d_hflux_set1 = parsemeta(dirIn + file_name + \".\" + tsstr[0] + \".meta\")\n",
    "fldlist = np.array(meta_budg2d_hflux_set1[\"fldList\"])\n",
    "varnames = np.array([\"ADVxHEFF\",\"ADVyHEFF\",\"DFxEHEFF\",\"DFyEHEFF\"])\n",
    "recs = np.array([])\n",
    "for var in varnames:\n",
    "    irec = np.where(fldlist == var)\n",
    "    recs = np.append(recs, irec[0][0])\n",
    "ADVxHEFF,its,meta = rdmds(os.path.join(dirIn, file_name),t2,returnmeta=True,rec=recs[0])\n",
    "ADVyHEFF,its,meta = rdmds(os.path.join(dirIn, file_name),t2,returnmeta=True,rec=recs[1])\n",
    "DFxEHEFF,its,meta = rdmds(os.path.join(dirIn, file_name),t2,returnmeta=True,rec=recs[2])\n",
    "DFyEHEFF,its,meta = rdmds(os.path.join(dirIn, file_name),t2,returnmeta=True,rec=recs[3])\n",
    "ADVxHEFF = ADVxHEFF.reshape(ny,nx)\n",
    "ADVyHEFF = ADVxHEFF.reshape(ny,nx)\n",
    "DFxEHEFF = DFxEHEFF.reshape(ny,nx)\n",
    "DFyEHEFF = DFyEHEFF.reshape(ny,nx)\n",
    "    \n",
    "if myparms['seaice_variable_salinity_flag'] == 0:\n",
    "    SIsal0 = myparms['SIsal0']\n",
    "\n",
    "tmpUi = SIsal0 * myparms['rhoi'] * (DFxEHEFF + ADVxHEFF)\n",
    "tmpVi = SIsal0 * myparms['rhoi'] * (DFyEHEFF + ADVyHEFF)\n",
    "tmpUi = get_aste_faces(tmpUi,nfx,nfy)              \n",
    "tmpVi = get_aste_faces(tmpVi,nfx,nfy)\n",
    "\n",
    "budgI['salthconv'] = calc_UV_conv_mod(nfx,nfy,tmpUi, tmpVi)\n",
    "budgOI['salthconv'] = (budgO['salthconv'] + budgI['salthconv'])\n",
    "\n",
    "\n",
    "# read fluxes\n",
    "file_name = 'budg2d_zflux_set1'\n",
    "meta_budg2d_zflux_set1 = parsemeta(dirIn + file_name + \".\" + tsstr[0] + \".meta\")\n",
    "fldlist = np.array(meta_budg2d_zflux_set1[\"fldList\"])\n",
    "varnames = np.array([\"oceSPflx\",\"SFLUX\"])\n",
    "recs = np.array([])\n",
    "for var in varnames:\n",
    "    irec = np.where(fldlist == var)\n",
    "    recs = np.append(recs, irec[0][0])\n",
    "oceSPflx,its,meta = rdmds(os.path.join(dirIn, file_name),t2,returnmeta=True,rec=recs[0])\n",
    "SFLUX,its,meta = rdmds(os.path.join(dirIn, file_name),t2,returnmeta=True,rec=recs[1])\n",
    "oceSPflx = oceSPflx.reshape(ny,nx)\n",
    "SFLUX = SFLUX.reshape(ny,nx)\n",
    "\n",
    "# read relax and salt mass\n",
    "file_name = \"budg2d_zflux_set2\"\n",
    "meta_budg2d_zflux_set2 = parsemeta(dirIn + file_name + \".\" + tsstr[0] + \".meta\")\n",
    "fldlist = np.array(meta_budg2d_zflux_set2[\"fldList\"])\n",
    "varnames = np.array([\"oceSflux\",\"WSLTMASS\",\"SRELAX\"])\n",
    "recs = np.array([])\n",
    "for var in varnames:\n",
    "    irec = np.where(fldlist == var)\n",
    "    if len(irec[0]) > 0:\n",
    "        recs = np.append(recs, irec[0][0])\n",
    "oceSflux,its,meta = rdmds(os.path.join(dirIn, file_name),t2,returnmeta=True,rec=recs[0])\n",
    "WSLTMASS,its,meta = rdmds(os.path.join(dirIn, file_name),t2,returnmeta=True,rec=recs[1])\n",
    "SRELAX,its,meta = rdmds(os.path.join(dirIn, file_name),t2,returnmeta=True,rec=recs[2])\n",
    "oceSflux = oceSflux.reshape(ny,nx)\n",
    "WSLTMASS = WSLTMASS.reshape(ny,nx)\n",
    "SRELAX = SRELAX.reshape(ny,nx)\n",
    "\n",
    "\n",
    "# read kpp tend and from 3d zflux\n",
    "file_name = \"budg3d_kpptend_set1\"\n",
    "meta_budg3d_kpptend_set1 = parsemeta(dirIn + file_name + \".\" + tsstr[0] + \".meta\")\n",
    "fldlist = np.array(meta_budg3d_kpptend_set1[\"fldList\"])\n",
    "varnames = np.array([\"oceSPtnd\",\"KPPg_SLT\"])\n",
    "recs = np.array([])\n",
    "for var in varnames:\n",
    "    irec = np.where(fldlist == var)\n",
    "    if len(irec[0]) > 0:\n",
    "        recs = np.append(recs, irec[0][0])\n",
    "oceSPtnd,its,meta = rdmds(os.path.join(dirIn, file_name),t2,returnmeta=True,rec=recs[0])\n",
    "KPPg_SLT,its,meta = rdmds(os.path.join(dirIn, file_name),t2,returnmeta=True,rec=recs[1])\n",
    "oceSPtnd = oceSPtnd.reshape(nz,ny,nx)\n",
    "KPPg_SLT = KPPg_SLT.reshape(nz,ny,nx)\n",
    "\n",
    "\n",
    "# now 3d zfluxes\n",
    "file_name = \"budg3d_zflux_set2\"\n",
    "meta_budg3d_zflux_set2 = parsemeta(dirIn + file_name + \".\" + tsstr[0] + \".meta\")\n",
    "fldlist = np.array(meta_budg3d_zflux_set2[\"fldList\"])\n",
    "varnames = np.array([\"ADVr_SLT\",\"DFrE_SLT\",\"DFrI_SLT\"])\n",
    "recs = np.array([])\n",
    "for var in varnames:\n",
    "    irec = np.where(fldlist == var)\n",
    "    recs = np.append(recs, irec[0][0])\n",
    "ADVr_SLT,its,meta = rdmds(os.path.join(dirIn, file_name),t2,returnmeta=True,rec=recs[0])\n",
    "DFrE_SLT,its,meta = rdmds(os.path.join(dirIn, file_name),t2,returnmeta=True,rec=recs[1])\n",
    "DFrI_SLT,its,meta = rdmds(os.path.join(dirIn, file_name),t2,returnmeta=True,rec=recs[2])\n",
    "ADVr_SLT = ADVr_SLT.reshape(nz,ny,nx)\n",
    "DFrE_SLT = DFrE_SLT.reshape(nz,ny,nx)\n",
    "DFrI_SLT = DFrI_SLT.reshape(nz,ny,nx)\n",
    "\n",
    "if myparms[\"useRFWF\"]==0 or myparms['useNLFS']==0:\n",
    "    print('do nothing')\n",
    "else:\n",
    "    oceSflux = 0 * oceSflux\n",
    "\n",
    "if myparms['useNLFS'] == 0:\n",
    "    print('do nothing, already read above')\n",
    "else:\n",
    "    WSLTMASS=0*WSLTMASS\n",
    "\n",
    "budgO['saltzconv'] = SFLUX + oceSPflx                  # W/m^2\n",
    "zconv_top_salt = (SFLUX + oceSPflx) * RAC               # g/s\n",
    "budgI['saltzconv'] = -budgO['saltzconv'] + SRELAX\n",
    "\n",
    "if myparms['useNLFS']==0:\n",
    "    budgO['saltzconv'] = budgO['saltzconv'] - myparms['rhoconst']*WSLTMASS\n",
    "\n",
    "if myparms['useRFWF']==0 or myparms['useNLFS']==0:\n",
    "    budgI['saltzconv']=-oceSflux\n",
    "\n",
    "\n",
    "nr = mygrid['RC'].shape[0]\n",
    "# break trWtop down into smaller terms\n",
    "trWtopADV = -(ADVr_SLT)*myparms['rhoconst']           # g/s\n",
    "trWtopDF = -(DFrE_SLT+DFrI_SLT)*myparms['rhoconst']   # g/s\n",
    "trWtopKPP = -(KPPg_SLT)*myparms['rhoconst']           # g/s\n",
    "trWtop = trWtopADV + trWtopDF + trWtopKPP             # g/s \n",
    "\n",
    "#print(trWtop.shape)\n",
    "sptop = mk3D_mod(oceSPflx,oceSPtnd) - np.cumsum(oceSPtnd, axis=0)        # we include this in our zconv_top term\n",
    "sptop = sptop * RAC3        # g/s\n",
    "\n",
    "trWtop[1:,:,:] = trWtop[1:,:,:] + sptop[:-1,:,:]\n",
    "trWtop[0,:,:] = budgO['saltzconv'] * RAC    # g/s top layer is surface flux\n",
    "\n",
    "trWbot = np.zeros_like(trWtop)\n",
    "trWbot[:-1,:,:] = trWtop[1:,:,:]\n",
    "trWbot[-1,:,:] = 0\n",
    "\n",
    "budgO['saltfluxes']['trWtop'] = trWtop     # g/s\n",
    "budgO['saltfluxes']['trWbot'] = trWbot     # g/s\n",
    "\n",
    "budgI['saltfluxes']['trWtop'] = -RAC*0\n",
    "budgI['saltfluxes']['trWbot'] = budgO['saltfluxes']['trWtop'][0,:,:]  # surface because ice\n",
    "\n",
    "budgO['saltfluxes']['zconv'] = budgO['saltfluxes']['trWtop'] - budgO['saltfluxes']['trWbot']\n",
    "budgO['saltzconv'] = RAC * budgO['saltzconv']   # g/s\n",
    "budgI['saltzconv'] = RAC * budgI['saltzconv']   # g/s\n",
    "budgOI['saltzconv'] = budgO['saltzconv'] + budgI['saltzconv']\n",
    "\n",
    "# do vertical convergence for ADV and DF terms\n",
    "tmpadv = np.full((nz,ny,nx),np.nan)\n",
    "tmpadv[:-1,:,:] = (trWtopADV[:-1] - trWtopADV[1:])              # for surface thru seafloor\n",
    "\n",
    "Sconv = budgO['saltfluxes']['ADV_hconv'] + tmpadv\n",
    "budgO['saltfluxes']['ADV_Sconv'] = Sconv             # g/s, this is the advective arrow of S for a "
   ]
  },
  {
   "cell_type": "code",
   "execution_count": 11,
   "id": "40ec77d5-028f-4957-b77a-ce67fd57ba38",
   "metadata": {},
   "outputs": [
    {
     "data": {
      "text/plain": [
       "[<matplotlib.lines.Line2D at 0x1545c21939a0>]"
      ]
     },
     "execution_count": 11,
     "metadata": {},
     "output_type": "execute_result"
    },
    {
     "data": {
      "image/png": "[encoded data removed]",
      "text/plain": [
       "<Figure size 1000x400 with 1 Axes>"
      ]
     },
     "metadata": {},
     "output_type": "display_data"
    }
   ],
   "source": [
    "fig = plt.figure()\n",
    "ax = plt.subplot(111)\n",
    "ks = np.arange(0,-nz,-1)\n",
    "\n",
    "# this is just redistributing heat vertically, this will not affect the overall heat budget of the column (this is zero)\n",
    "zadvcol = np.nansum(tmpadv[:,ys,xs],axis=2)\n",
    "\n",
    "ax.plot(normaladvconv[:,0],ks)   # this is the same as below\n",
    "ax.plot(gatesS[:,0],ks)           # this is the same as the above\n",
    "# ax.plot(zadvcol,ks)"
   ]
  },
  {
   "cell_type": "code",
   "execution_count": 12,
   "id": "81856599",
   "metadata": {},
   "outputs": [],
   "source": [
    "# DF and KPP should be the same\n",
    "\n",
    "# do vertical convergence for ADV and DF terms\n",
    "tmpdf = np.full((nz,ny,nx),np.nan)\n",
    "tmpdf[:-1,:,:] = (trWtopDF[:-1] - trWtopDF[1:])              # for surface thru seafloor\n",
    "\n",
    "dfSconv = budgO['saltfluxes']['DF_hconv'] + tmpdf\n",
    "budgO['saltfluxes']['DF_Sconv'] = dfSconv             # g/s, this is the diffusive arrow of T for a cell\n",
    "dfconv = budgO['saltfluxes']['DF_Sconv'][:,ys,xs]  # I don't think we want to integrate these for the whole column\n",
    "\n",
    "\n",
    "tmpkpp = np.full((nz,ny,nx),np.nan)\n",
    "tmpkpp[:-1,:,:] = trWtopKPP[:-1] - trWtopKPP[1:]\n",
    "budgO['saltfluxes']['KPP_Sconv'] = tmpkpp        # no horizontal component for this\n",
    "kppconv = budgO['saltfluxes']['KPP_Sconv'][:,ys,xs]"
   ]
  },
  {
   "cell_type": "code",
   "execution_count": 13,
   "id": "f435c725-fa9d-41ab-8bb9-6043a75651c5",
   "metadata": {},
   "outputs": [
    {
     "name": "stdout",
     "output_type": "stream",
     "text": [
      "doing TS binning\n"
     ]
    }
   ],
   "source": [
    "# let's load the Tbins and the Sbins for these columns\n",
    "# set for all months\n",
    "vol = np.zeros((len(tsstr),nz, ny, nx))\n",
    "#print(\"volume allocation shape\",vol.shape)\n",
    "\n",
    "for t in range(len(tsstr)):\n",
    "    tmpvol = np.tile(mygrid['DXG'][np.newaxis,:,:],(50,1,1)) * np.tile(mygrid['DYG'][np.newaxis,:,:],(50,1,1)) * DRF3d\n",
    "\n",
    "    vol[t,:,:,:] = tmpvol * np.tile(mymsk, (nz, 1, 1))\n",
    "#######\n",
    "print(\"doing TS binning\")\n",
    "# read theta and salt averages from the t2 timestep (average)\n",
    "file_name = \"state_3d_set1\"\n",
    "meta_budg3d_kpptend_set1 = parsemeta(dirState + file_name + \".\" + tsstr[0] + \".meta\")\n",
    "fldlist = np.array(meta_budg3d_kpptend_set1[\"fldList\"])\n",
    "varnames = np.array([\"THETA\",\"SALT\"])\n",
    "recs = np.array([])\n",
    "for var in varnames:\n",
    "    irec = np.where(fldlist == var)\n",
    "    recs = np.append(recs, irec[0][0])\n",
    "THETA,its,meta = rdmds(os.path.join(dirState, file_name),t2,returnmeta=True,rec=recs[0])\n",
    "SALT,its,meta = rdmds(os.path.join(dirState, file_name),t2,returnmeta=True,rec=recs[1])\n",
    "\n",
    "THETA = THETA.reshape(nz,ny,nx) * np.tile(mymsk[np.newaxis,:,:],(nz,1,1))\n",
    "SALT = SALT.reshape(nz,ny,nx) * np.tile(mymsk[np.newaxis,:,:],(nz,1,1))\n",
    "\n",
    "# create the bins of TS data\n",
    "n_bins = 112\n",
    "\n",
    "T_min, T_max = -2.0, 15.0\n",
    "S_min, S_max = 28.0, 37.0\n",
    "\n",
    "# edges and centers\n",
    "binsTH_edges   = np.linspace(T_min, T_max, n_bins + 1)\n",
    "binsSLT_edges  = np.linspace(S_min, S_max, n_bins + 1)\n",
    "binsTH_centers = 0.5 * (binsTH_edges[:-1]  + binsTH_edges[1:])\n",
    "binsSLT_centers= 0.5 * (binsSLT_edges[:-1] + binsSLT_edges[1:])\n",
    "\n",
    "nT = nS = n_bins\n",
    "\n",
    "# 2D bin grids\n",
    "Tbin,     Sbin     = np.meshgrid(binsTH_edges,  binsSLT_edges)\n",
    "Tbincent, Sbincent = np.meshgrid(binsTH_centers, binsSLT_centers)\n",
    "\n",
    "# bin widths and reshaped versions (match downstream shape)\n",
    "binwidthT = np.diff(binsTH_edges)\n",
    "binwidthS = np.diff(binsSLT_edges)\n",
    "dT, dS = np.meshgrid(binwidthT, binwidthS)\n",
    "dT = dT.reshape(n_bins, n_bins, 1)\n",
    "dS = dS.reshape(n_bins, n_bins, 1)\n",
    "\n",
    "# bin theta and salt\n",
    "binned_theta = bin_array(THETA, binsTH_edges).astype(float)\n",
    "binned_theta[binned_theta == nT] = np.nan  # handle right-edge assignment\n",
    "\n",
    "binned_salinity = bin_array(SALT, binsSLT_edges).astype(float)\n",
    "binned_salinity[binned_salinity == nS] = np.nan"
   ]
  },
  {
   "cell_type": "code",
   "execution_count": 14,
   "id": "0cc86221-2b25-4121-8d51-ef8883a49ba4",
   "metadata": {},
   "outputs": [],
   "source": [
    "# we should be able to take the overall salt budget of this column with the gates\n",
    "stend    # nz,1,2\n",
    "gates    # nz,1,1  -- this is the same as the original advhconv\n",
    "dfconv   # nz,1,2\n",
    "kppconv  # nz,1,2\n",
    "zconv_top_salttmp = zconv_top_salt[ys,xs]  # 1,2\n",
    "sptoptmp = sptop[:,ys,xs]    # nz,1,2"
   ]
  },
  {
   "cell_type": "code",
   "execution_count": 15,
   "id": "ec568207-4460-4501-b022-a55cfc7c3d90",
   "metadata": {},
   "outputs": [],
   "source": [
    "# we only really care about the binned_salinity for this region\n",
    "binned_salinity_col = binned_salinity[:,ys,xs]    # nz,1,2\n",
    "binned_theta_col = binned_theta[:,ys,xs]"
   ]
  },
  {
   "cell_type": "code",
   "execution_count": 16,
   "id": "f8248498-83ce-4f47-aa68-3bcc8284fbb9",
   "metadata": {},
   "outputs": [],
   "source": [
    "Sconvsel = Sconv[:,ys,xs]"
   ]
  },
  {
   "cell_type": "code",
   "execution_count": 17,
   "id": "73cd93ee-4e2f-4dfa-aeba-cdf16b931f93",
   "metadata": {},
   "outputs": [],
   "source": [
    "# we're only looking at one Sbin here so maybe this will be easy\n",
    "ibinS = np.nanmax(binned_salinity_col)"
   ]
  },
  {
   "cell_type": "code",
   "execution_count": 18,
   "id": "5d0beab9-3d83-4f8b-8371-1e21474e0864",
   "metadata": {},
   "outputs": [
    {
     "data": {
      "text/plain": [
       "19"
      ]
     },
     "execution_count": 18,
     "metadata": {},
     "output_type": "execute_result"
    }
   ],
   "source": [
    "# get the non nan terms in these two columns\n",
    "hfcsel = mygrid['hFacC'][:,ys,xs]\n",
    "nzna = hfcsel[~np.isnan(hfcsel[:,:,0])].shape[0]\n",
    "nzna"
   ]
  },
  {
   "cell_type": "code",
   "execution_count": 19,
   "id": "04781553-2a7f-4a29-af3f-8e27382a49e8",
   "metadata": {},
   "outputs": [
    {
     "name": "stdout",
     "output_type": "stream",
     "text": [
      "stend [-0.0487581]\n",
      "gates [0.11952942]\n",
      "df [-0.16828752]\n",
      "kpp [2.78002169e-18]\n",
      "surface [-5.87415267e-19]\n",
      "original sconv [0.11952942]\n"
     ]
    }
   ],
   "source": [
    "# we only have one Sbin so we can just make a sample J terms of one S bin\n",
    "nzna = 19 # hard code for now but this is the max where drf is non na\n",
    "JtermsS = np.zeros((6,1))\n",
    "\n",
    "for pt in range(2):\n",
    "    for k in range(nzna):\n",
    "        iTpt = int(binned_theta_col[k,0,pt])\n",
    "        iSpt = int(binned_salinity_col[k,0,pt])\n",
    "        \n",
    "        JtermsS[0] += stend[k,0,pt]  / myparms['rhoconst'] / binwidthT[iTpt] / binwidthS[iSpt] * 1e-6  # total tend\n",
    "        JtermsS[2] += dfconv[k,0,pt]  / myparms['rhoconst'] / binwidthT[iTpt] / binwidthS[iSpt] * 1e-6  # diffusive tend\n",
    "        JtermsS[3] += kppconv[k,0,pt]  / myparms['rhoconst'] / binwidthT[iTpt] / binwidthS[iSpt] * 1e-6  # kpp tend\n",
    "\n",
    "        # do the advective tendency as we have done it before to see that these are the same\n",
    "        JtermsS[5] += Sconvsel[k,0,pt] / myparms['rhoconst'] / binwidthT[iTpt] / binwidthS[iSpt] * 1e-6 \n",
    "        \n",
    "for k in range(nzna):\n",
    "    JtermsS[1] += gatesS[k,0] / myparms['rhoconst'] / binwidthT[iTpt] / binwidthS[iSpt] * 1e-6 \n",
    "\n",
    "# do the surface tendency separately\n",
    "for pt in range(2):\n",
    "    for k in range(nzna):\n",
    "        iTpt = int(binned_theta_col[k,0,pt])\n",
    "        iSpt = int(binned_salinity_col[k,0,pt])\n",
    "        \n",
    "        if k == 0:\n",
    "            JtermsS[4] += (zconv_top_salttmp[0,pt] - sptoptmp[k,0,pt]) / myparms['rhoconst'] / binwidthT[iTpt] / binwidthS[iSpt] * 1e-6\n",
    "        else:\n",
    "            JtermsS[4] += -(sptoptmp[k,0,pt] - sptoptmp[k-1,0,pt])/ myparms['rhoconst'] / binwidthT[iTpt] / binwidthS[iSpt] * 1e-6\n",
    "\n",
    "labels = np.array([\"stend\",\"gates\",\"df\",\"kpp\",\"surface\",\"original sconv\"])\n",
    "for i in range(6):\n",
    "    print(labels[i],JtermsS[i])"
   ]
  },
  {
   "cell_type": "code",
   "execution_count": 20,
   "id": "b5856c8e-caa8-48c6-b957-da275f24ef27",
   "metadata": {},
   "outputs": [
    {
     "name": "stdout",
     "output_type": "stream",
     "text": [
      "[-0.0487581]\n",
      "-0.04875810411953224\n"
     ]
    }
   ],
   "source": [
    "print(JtermsS[0])\n",
    "print(np.sum(JtermsS[2:]))"
   ]
  },
  {
   "cell_type": "code",
   "execution_count": 21,
   "id": "5b890aba-763f-4002-bae9-6bbdabf7f0b1",
   "metadata": {},
   "outputs": [],
   "source": [
    "# if we want to do this at the original T and S points, I think we need to label the gate contribution with T and S rather than summing\n",
    "# we need to create a new term which is the gateway transport\n",
    "\n",
    "# try to do the gates again with East and West specifically so we can demarcate by T and S\n",
    "gatesS3 = np.zeros((nz,1,2))\n",
    "tmpADVx_SLT = ADVx_SLT.reshape(nz,ny,nx)\n",
    "tmpADVy_SLT = ADVy_SLT.reshape(nz,ny,nx)\n",
    "\n",
    "# the gate hconv will just be the north and south gates\n",
    "gatesS3[:,0,0] += tmpADVx_SLT[:,gatej,gatei]     # left gate\n",
    "gatesS3[:,0,1] -= tmpADVx_SLT[:,gatej,gateip2]   # right gate\n",
    "gatesS3[:,0,0] += tmpADVy_SLT[:,gatej,gatei]     # bottom left gate\n",
    "gatesS3[:,0,1] += tmpADVy_SLT[:,gatej,gateip1]   # bottom right gate\n",
    "gatesS3[:,0,0] -= tmpADVy_SLT[:,gatejp1,gatei]   # top left gate\n",
    "gatesS3[:,0,1] -= tmpADVy_SLT[:,gatejp1,gateip1]   # top right gate\n",
    "\n",
    "gatesS3 *= myparms['rhoconst']"
   ]
  },
  {
   "cell_type": "code",
   "execution_count": 22,
   "id": "b56f2b61-f2f9-4e63-936d-e930290af95a",
   "metadata": {},
   "outputs": [
    {
     "data": {
      "text/plain": [
       "(50, 1, 2)"
      ]
     },
     "execution_count": 22,
     "metadata": {},
     "output_type": "execute_result"
    }
   ],
   "source": [
    "gatesS3.shape"
   ]
  },
  {
   "cell_type": "code",
   "execution_count": 23,
   "id": "3393f248-e69e-452a-bd95-dc3128cbfb81",
   "metadata": {},
   "outputs": [],
   "source": [
    "# the above is not correct, I think we're messing something up with the divide by iTpt and iSpt"
   ]
  },
  {
   "cell_type": "markdown",
   "id": "9972746d-813b-43f9-8e7a-fe8b33f3cb20",
   "metadata": {},
   "source": [
    "## Try the exact same thing with the heat budget to see if we can do"
   ]
  },
  {
   "cell_type": "code",
   "execution_count": 24,
   "id": "c9117265-81cc-4cd9-a3c8-4511f2358285",
   "metadata": {},
   "outputs": [
    {
     "name": "stdout",
     "output_type": "stream",
     "text": [
      "doing heat budget\n"
     ]
    },
    {
     "data": {
      "text/plain": [
       "(50, 1)"
      ]
     },
     "execution_count": 24,
     "metadata": {},
     "output_type": "execute_result"
    }
   ],
   "source": [
    "#############################################################################\n",
    "print(\"doing heat budget\")\n",
    "# create the heat budget\n",
    "# read thetadr\n",
    "file_name = 'budg3d_snap_set2'\n",
    "meta_budg3d_snap_set2 = parsemeta(dirIn + file_name + \".\" + tsstr[0] + \".meta\")\n",
    "fldlist = np.array(meta_budg3d_snap_set2[\"fldList\"])\n",
    "varnames = np.array([\"THETADR\"])\n",
    "recs = np.array([])\n",
    "for var in varnames:\n",
    "    irec = np.where(fldlist == var)\n",
    "    recs = np.append(recs, irec[0][0])\n",
    "\n",
    "THETADR = np.full((len(tsstr),nz,ny,nx),np.nan)\n",
    "for i in range(len(tsstr)):\n",
    "    thisTHETADR,its,meta = rdmds(os.path.join(dirIn, file_name),int(tsstr[i]),returnmeta=True,rec=recs[0])\n",
    "    thisTHETADR = thisTHETADR.reshape(nz,ny,nx)\n",
    "    THETADR[i] = thisTHETADR\n",
    "\n",
    "THETADR =  (THETADR[1, :, :,:] - THETADR[0, :,:, :]) / dt    # degC.m/\n",
    "\n",
    "tmptend=myparms['rcp']*(THETADR-AB_gT)*mk3D_mod(RAC,THETADR)   # J/m^3.degC * degC.m/s * m^2 = J/s\n",
    "budgO['heatfluxes'] = {}\n",
    "budgI['heatfluxes'] = {}\n",
    "\n",
    "budgO['heatfluxes']['tend'] = tmptend     # J/s\n",
    "\n",
    "budgO['heattend'] = np.nansum(tmptend,axis=0)\n",
    "\n",
    "file_name = \"budg3d_hflux_set2\"\n",
    "meta_budg3d_hflux_set2 = parsemeta(dirIn + file_name + \".\" + tsstr[0] + \".meta\")\n",
    "fldlist = np.array(meta_budg3d_hflux_set2[\"fldList\"])\n",
    "varnames = np.array([\"ADVx_TH\",\"ADVy_TH\",\"DFxE_TH\",\"DFyE_TH\",\"UVELMASS\",\"VVELMASS\"])\n",
    "recs = np.array([])\n",
    "for var in varnames:\n",
    "    irec = np.where(fldlist == var)\n",
    "    recs = np.append(recs, irec[0][0])\n",
    "ADVx_TH,its,meta = rdmds(os.path.join(dirIn, file_name),t2,returnmeta=True,rec=recs[0])\n",
    "ADVy_TH,its,meta = rdmds(os.path.join(dirIn, file_name),t2,returnmeta=True,rec=recs[1])\n",
    "DFxE_TH,its,meta = rdmds(os.path.join(dirIn, file_name),t2,returnmeta=True,rec=recs[2])\n",
    "DFyE_TH,its,meta = rdmds(os.path.join(dirIn, file_name),t2,returnmeta=True,rec=recs[3])\n",
    "# UVELMASS,its,meta = rdmds(os.path.join(dirIn, file_name),t2,returnmeta=True,rec=recs[4])\n",
    "# VVELMASS,its,meta = rdmds(os.path.join(dirIn, file_name),t2,returnmeta=True,rec=recs[5])  # m/s\n",
    "\n",
    "# reshape the UVELMASS and VVELMASS to look at these\n",
    "# UVELMASS = UVELMASS.reshape(nz,ny,nx)\n",
    "# VVELMASS = VVELMASS.reshape(nz,ny,nx)\n",
    "\n",
    "tmpUo = myparms['rcp'] * (ADVx_TH + DFxE_TH)\n",
    "tmpVo = myparms['rcp'] * (ADVy_TH + DFyE_TH)\n",
    "\n",
    "tmpUo = tmpUo.reshape(nz,ny,nx)\n",
    "tmpVo = tmpVo.reshape(nz,ny,nx)\n",
    "\n",
    "# get the faces so we can do convergence\n",
    "tmpUo = get_aste_faces(tmpUo,nfx,nfy)              \n",
    "tmpVo = get_aste_faces(tmpVo,nfx,nfy)\n",
    "\n",
    "budgO['heatfluxes']['hconv'] = calc_UV_conv_mod(nfx,nfy,tmpUo,tmpVo)\n",
    "budgO['heathconv'] = calc_UV_conv_mod(nfx,nfy,np.nansum(tmpUo, axis=0),np.nansum(tmpVo,axis=0))\n",
    "\n",
    "# add the budgeting for ADV and DF\n",
    "tmpUo = get_aste_faces(ADVx_TH.reshape(nz,ny,nx),nfx,nfy)\n",
    "tmpVo = get_aste_faces(ADVy_TH.reshape(nz,ny,nx),nfx,nfy)\n",
    "budgO['heatfluxes']['ADV_hconv'] = calc_UV_conv_mod(nfx,nfy,tmpUo,tmpVo) * myparms['rcp'] #J/s\n",
    "\n",
    "normaladvconv = np.nansum(budgO['heatfluxes']['ADV_hconv'][:,ys,xs],axis = 2)\n",
    "normaladvconv.shape"
   ]
  },
  {
   "cell_type": "code",
   "execution_count": 25,
   "id": "46d82e1b-87b5-46b6-bdc6-52bd2dd92ecc",
   "metadata": {},
   "outputs": [],
   "source": [
    "# get the gateway transports for the ADV term"
   ]
  },
  {
   "cell_type": "code",
   "execution_count": 26,
   "id": "1bd71de0-f55c-4dd9-a281-0970b2b2b5c1",
   "metadata": {},
   "outputs": [],
   "source": [
    "# we need to create a new term which is the gateway transport\n",
    "gatesT = np.zeros((nz,1))\n",
    "tmpADVx_TH = ADVx_TH.reshape(nz,ny,nx)\n",
    "tmpADVy_TH = ADVy_TH.reshape(nz,ny,nx)\n",
    "\n",
    "# the gate hconv will just be the north and south gates\n",
    "gatesT[:,0] += tmpADVx_TH[:,gatej,gatei]     # left gate\n",
    "gatesT[:,0] -= tmpADVx_TH[:,gatej,gateip2]   # right gate\n",
    "gatesT[:,0] += tmpADVy_TH[:,gatej,gatei]     # bottom left gate\n",
    "gatesT[:,0] += tmpADVy_TH[:,gatej,gateip1]   # bottom right gate\n",
    "gatesT[:,0] -= tmpADVy_TH[:,gatejp1,gatei]   # top left gate\n",
    "gatesT[:,0] -= tmpADVy_TH[:,gatejp1,gateip1]   # top right gate\n",
    "\n",
    "gatesT *= myparms['rcp']"
   ]
  },
  {
   "cell_type": "code",
   "execution_count": 27,
   "id": "8ac27657-63e3-4e2f-a331-dd43f6480ece",
   "metadata": {},
   "outputs": [
    {
     "data": {
      "text/plain": [
       "[<matplotlib.lines.Line2D at 0x1545739c7a60>]"
      ]
     },
     "execution_count": 27,
     "metadata": {},
     "output_type": "execute_result"
    },
    {
     "data": {
      "image/png": "[encoded data removed]",
      "text/plain": [
       "<Figure size 1000x400 with 1 Axes>"
      ]
     },
     "metadata": {},
     "output_type": "display_data"
    }
   ],
   "source": [
    "# show that these are the same\n",
    "fig = plt.figure()\n",
    "ax = plt.subplot(111)\n",
    "ks = np.arange(0,-nz,-1)\n",
    "\n",
    "# this is just redistributing heat vertically, this will not affect the overall heat budget of the column (this is zero)\n",
    "zadvcol = np.nansum(tmpadv[:,ys,xs],axis=2)\n",
    "\n",
    "ax.plot(normaladvconv[:,0],ks)   # this is the same as below\n",
    "ax.plot(gatesT[:,0],ks)           # this is the same as the above"
   ]
  },
  {
   "cell_type": "code",
   "execution_count": 28,
   "id": "b7f4df4b-0228-48c4-942d-a579f04782e6",
   "metadata": {},
   "outputs": [
    {
     "name": "stdout",
     "output_type": "stream",
     "text": [
      "2\n"
     ]
    }
   ],
   "source": [
    "tmpUo = get_aste_faces(DFxE_TH.reshape(nz,ny,nx),nfx,nfy)\n",
    "tmpVo = get_aste_faces(DFyE_TH.reshape(nz,ny,nx),nfx,nfy)\n",
    "budgO['heatfluxes']['DF_hconv'] = calc_UV_conv_mod(nfx,nfy,tmpUo,tmpVo) * myparms['rcp'] #J/s\n",
    "\n",
    "file_name = 'budg2d_zflux_set1'\n",
    "meta_budg2d_zflux_set1 = parsemeta(dirIn + file_name + \".\" + tsstr[0] + \".meta\")\n",
    "fldlist = np.array(meta_budg2d_zflux_set1[\"fldList\"])\n",
    "varnames = np.array([\"TFLUX\",\"oceQsw\",\"SItflux\"])\n",
    "recs = np.array([])\n",
    "for var in varnames:\n",
    "    irec = np.where(fldlist == var)\n",
    "    recs = np.append(recs, irec[0][0])\n",
    "TFLUX,its,meta = rdmds(os.path.join(dirIn, file_name),t2,returnmeta=True,rec=recs[0])\n",
    "oceQsw,its,meta = rdmds(os.path.join(dirIn, file_name),t2,returnmeta=True,rec=recs[1])\n",
    "SItflux,its,meta = rdmds(os.path.join(dirIn, file_name),t2,returnmeta=True,rec=recs[2])\n",
    "TFLUX = TFLUX.reshape(ny,nx)\n",
    "oceQsw = oceQsw.reshape(ny,nx)\n",
    "SItflux = SItflux.reshape(ny,nx)\n",
    "\n",
    "# note: the following works provided that the first 3 terms are definitely there\n",
    "file_name = \"budg2d_zflux_set2\"\n",
    "meta_budg2d_zflux_set2 = parsemeta(dirIn + file_name + \".\" + tsstr[0] + \".meta\")\n",
    "fldlist = np.array(meta_budg2d_zflux_set2[\"fldList\"])\n",
    "varnames = np.array([\"oceQnet\",\"WTHMASS\",\"SIaaflux\",\"TRELAX\"])\n",
    "recs = np.array([])\n",
    "for var in varnames:\n",
    "    irec = np.where(fldlist == var)\n",
    "    recs = np.append(recs, irec[0][0])\n",
    "oceQnet,its,meta = rdmds(os.path.join(dirIn, file_name),t2,returnmeta=True,rec=recs[0])\n",
    "WTHMASS,its,meta = rdmds(os.path.join(dirIn, file_name),t2,returnmeta=True,rec=recs[1])\n",
    "SIaaflux,its,meta = rdmds(os.path.join(dirIn, file_name),t2,returnmeta=True,rec=recs[2])\n",
    "TRELAX,its,meta = rdmds(os.path.join(dirIn, file_name),t2,returnmeta=True,rec=recs[3])\n",
    "oceQnet = oceQnet.reshape(ny,nx)\n",
    "WTHMASS = WTHMASS.reshape(ny,nx)\n",
    "SIaaflux = SIaaflux.reshape(ny,nx)\n",
    "TRELAX = TRELAX.reshape(ny,nx)\n",
    "\n",
    "# note: will not work if these are defined, fix for future steps\n",
    "varnames = np.array([\"TRELAX\",\"SIabflux\",\"SIacflux\",\"SIeprflx\",\"SIfldflx\"])\n",
    "recs = np.array([])\n",
    "for var in varnames:\n",
    "    irec = np.where(fldlist == var)\n",
    "    if len(irec[0]) > 0:\n",
    "        recs = np.append(recs, irec[0][0])\n",
    "\n",
    "# if len(recs) == 0:\n",
    "SIabflux = np.zeros((ny, nx))\n",
    "SIacflux = np.zeros((ny, nx))\n",
    "SIeprflx = np.zeros((ny, nx))\n",
    "SIfldflx = np.zeros((ny, nx))\n",
    "if myparms['useNLFS'] == 0:\n",
    "    print('do nothing, already read above')\n",
    "else:\n",
    "    WTHMASS=0*WTHMASS\n",
    "\n",
    "geothFlux = 0\n",
    "\n",
    "if myparms['SaltPlumeHeatFlux']:\n",
    "    print(1)\n",
    "else:\n",
    "    SPforcT1=0*np.ones((ny,nx))\n",
    "    oceEPtnd=0*np.ones((nz,ny,nx))\n",
    "\n",
    "\n",
    "# read kpp tend and from 3d zflux\n",
    "file_name = \"budg3d_kpptend_set1\"\n",
    "meta_budg3d_kpptend_set1 = parsemeta(dirIn + file_name + \".\" + tsstr[0] + \".meta\")\n",
    "fldlist = np.array(meta_budg3d_kpptend_set1[\"fldList\"])\n",
    "varnames = np.array([\"KPPg_TH\"])\n",
    "recs = np.array([])\n",
    "for var in varnames:\n",
    "    irec = np.where(fldlist == var)\n",
    "    recs = np.append(recs, irec[0][0])\n",
    "KPPg_TH,its,meta = rdmds(os.path.join(dirIn, file_name),t2,returnmeta=True,rec=recs[0])\n",
    "KPPg_TH = KPPg_TH.reshape(nz,ny,nx)\n",
    "\n",
    "# now 3d zfluxes\n",
    "file_name = \"budg3d_zflux_set2\"\n",
    "meta_budg3d_zflux_set2 = parsemeta(dirIn + file_name + \".\" + tsstr[0] + \".meta\")\n",
    "fldlist = np.array(meta_budg3d_zflux_set2[\"fldList\"])\n",
    "varnames = np.array([\"ADVr_TH\",\"DFrE_TH\",\"DFrI_TH\"])\n",
    "recs = np.array([])\n",
    "for var in varnames:\n",
    "    irec = np.where(fldlist == var)\n",
    "    recs = np.append(recs, irec[0][0])\n",
    "ADVr_TH,its,meta = rdmds(os.path.join(dirIn, file_name),t2,returnmeta=True,rec=recs[0])\n",
    "DFrE_TH,its,meta = rdmds(os.path.join(dirIn, file_name),t2,returnmeta=True,rec=recs[1])\n",
    "DFrI_TH,its,meta = rdmds(os.path.join(dirIn, file_name),t2,returnmeta=True,rec=recs[2])\n",
    "ADVr_TH = ADVr_TH.reshape(nz,ny,nx)\n",
    "DFrE_TH = DFrE_TH.reshape(nz,ny,nx)\n",
    "DFrI_TH = DFrI_TH.reshape(nz,ny,nx)\n",
    "\n",
    "budgO['heatzconv']=TFLUX+geothFlux+SPforcT1                           # W/m^2 = J/m^2/s\n",
    "zconv_top_heat = TFLUX  * RAC     # W/m^2 * m^2 = J/s\n",
    "budgI['heatzconv']=-(SItflux+TFLUX-TRELAX+SPforcT1)\n",
    "\n",
    "if myparms['useNLFS']==0:\n",
    "    print(1)\n",
    "    budgO['heatzconv']=budgO['heatzconv']-myparms['rcp']*WTHMASS[:,:]     # degC.m/s * J/m^3degC = J/m^2.s\n",
    "\n",
    "budgI['heatzconv']=budgI['heatzconv']-SIabflux+SIacflux+SIeprflx\n",
    "if(myparms['SEAICEheatConsFix']==0):\n",
    "    print(2)\n",
    "    budgI['heatzconv']=budgI['heatzconv']+SIaaflux\n",
    "\n",
    "nr = mygrid['RC'].shape[0]\n",
    "trWtopADV = -(ADVr_TH) * myparms['rcp']         # J/s\n",
    "trWtopDF = -(DFrE_TH+DFrI_TH) * myparms['rcp']  # J/s\n",
    "trWtopKPP = -(KPPg_TH) * myparms['rcp']         # J/s\n",
    "trWtop = trWtopADV + trWtopDF + trWtopKPP       # J/s\n",
    "dd = mygrid['RF'][:-1]\n",
    "swfrac = 0.62*np.exp(dd/0.6)+(1-0.62)*np.exp(dd/20)\n",
    "swfrac[dd < -200] = 0\n",
    "swtop=mk3D_mod(swfrac,trWtop)*mk3D_mod(RAC*oceQsw,trWtop)   # J/s\n",
    "mskC=mygrid['mskC']\n",
    "swtop[np.isnan(mskC)]=0\n",
    "trWtop=trWtop+swtop  # 323\n",
    "    \n",
    "trWtop[0,:,:]=budgO['heatzconv']*RAC\n",
    "trWbot = np.zeros_like(trWtop)\n",
    "trWbot[:-1,:,:]=trWtop[1:,:,:]\n",
    "\n",
    "budgO[\"heatfluxes\"][\"trWtop\"] = trWtop\n",
    "budgO[\"heatfluxes\"][\"trWbot\"] = trWbot\n",
    "\n",
    "budgI[\"heatfluxes\"][\"trWtop\"] = -RAC * (budgI[\"heatzconv\"] + budgO[\"heatzconv\"])\n",
    "budgI[\"heatfluxes\"][\"trWbot\"] = -RAC * budgO[\"heatzconv\"]\n",
    "budgO['heatfluxes']['zconv']=budgO['heatfluxes']['trWtop']-budgO['heatfluxes']['trWbot']\n",
    "\n",
    "budgO['heatzconv'] = RAC*budgO['heatzconv']  # J/s\n",
    "budgI['heatzconv']=RAC*budgI['heatzconv']    # J/s\n",
    "budgOI['heatzconv']=budgO['heatzconv']+budgI['heatzconv']\n",
    "\n",
    "# do vertical convergence for ADV and DF terms\n",
    "tmpadv = np.full((nz,ny,nx),np.nan)\n",
    "tmpadv[:-1,:,:] = (trWtopADV[:-1] - trWtopADV[1:])              # for surface thru seafloor\n",
    "\n",
    "Tconv = budgO['heatfluxes']['ADV_hconv'] + tmpadv   # hconv + zconv\n",
    "budgO['heatfluxes']['ADV_Tconv'] = Tconv      # J/s, this is the advective arrow of T for a cell\n",
    "\n",
    "# do vertical convergence for ADV and DF terms\n",
    "tmpdf = np.full((nz,ny,nx),np.nan)\n",
    "tmpdf[:-1,:,:] = (trWtopDF[:-1] - trWtopDF[1:])              # for surface thru seafloor\n",
    "\n",
    "dfTconv = budgO['heatfluxes']['DF_hconv'] + tmpdf\n",
    "budgO['heatfluxes']['DF_Tconv'] = dfTconv      # J/s, this is the diffusive arrow of T for a cell\n",
    "\n",
    "tmpkpp = np.full((nz,ny,nx),np.nan)\n",
    "tmpkpp[:-1,:,:] = trWtopKPP[:-1] - trWtopKPP[1:]\n",
    "budgO['heatfluxes']['KPP_Tconv'] = tmpkpp        # no horizontal component for this\n",
    "\n",
    "# save these as temporary arrays so we can do the budgeting\n",
    "dfconv = budgO['heatfluxes']['DF_Tconv'][:,ys,xs]  # I don't think we want to integrate these for the whole column\n",
    "kppconv = budgO['heatfluxes']['KPP_Tconv'][:,ys,xs]"
   ]
  },
  {
   "cell_type": "code",
   "execution_count": 29,
   "id": "c4f6be03-c525-4374-9518-bb362dd5eedd",
   "metadata": {},
   "outputs": [],
   "source": [
    "ttend = budgO['heatfluxes']['tend'][:,ys,xs]\n"
   ]
  },
  {
   "cell_type": "code",
   "execution_count": 30,
   "id": "e5308aab-4e26-4735-8043-320132e0c2af",
   "metadata": {},
   "outputs": [],
   "source": [
    "# the temporary small arrays we have for fluxes\n",
    "# ttend\n",
    "Tconvsel = Tconv[:,ys,xs]\n",
    "# dfconv\n",
    "# kppconv\n",
    "zconv_top_heattmp = zconv_top_heat[ys,xs]\n",
    "swtoptmp = swtop[:,ys,xs]\n",
    "# gates                    # this we have shown to be the same as the normaladvconv"
   ]
  },
  {
   "cell_type": "code",
   "execution_count": 31,
   "id": "a27af608-f067-4bfa-a4f5-2f1fc8f8f43a",
   "metadata": {},
   "outputs": [
    {
     "name": "stdout",
     "output_type": "stream",
     "text": [
      "ttend [-0.50645449]\n",
      "gates [2.09031406]\n",
      "df [-1.1219462]\n",
      "kpp [-6.42200052e-16]\n",
      "surface [-1.55145587]\n",
      "original tconv [2.09031406]\n"
     ]
    }
   ],
   "source": [
    "# we only have one Sbin so we can just make a sample J terms of one S bin\n",
    "JtermsT = np.zeros((6,1))\n",
    "\n",
    "for pt in range(2):\n",
    "    for k in range(nzna):\n",
    "        iTpt = int(binned_theta_col[k,0,pt])\n",
    "        iSpt = int(binned_salinity_col[k,0,pt])\n",
    "        \n",
    "        JtermsT[0] += ttend[k,0,pt]  / myparms['rcp'] / binwidthT[iTpt] / binwidthS[iSpt] * 1e-6  # total tend\n",
    "        JtermsT[2] += dfconv[k,0,pt]  / myparms['rcp'] / binwidthT[iTpt] / binwidthS[iSpt] * 1e-6  # diffusive tend\n",
    "        JtermsT[3] += kppconv[k,0,pt]  / myparms['rcp'] / binwidthT[iTpt] / binwidthS[iSpt] * 1e-6  # kpp tend\n",
    "\n",
    "        # do the advective tendency as we have done it before to see that these are the same\n",
    "        JtermsT[5] += Tconvsel[k,0,pt] / myparms['rcp'] / binwidthT[iTpt] / binwidthS[iSpt] * 1e-6 \n",
    "        \n",
    "for k in range(nzna):\n",
    "    JtermsT[1] += gatesT[k,0] / myparms['rcp'] / binwidthT[iTpt] / binwidthS[iSpt] * 1e-6 \n",
    "\n",
    "# do the surface tendency separately\n",
    "for pt in range(2):\n",
    "    for k in range(nzna):\n",
    "        iTpt = int(binned_theta_col[k,0,pt])\n",
    "        iSpt = int(binned_salinity_col[k,0,pt])\n",
    "        \n",
    "        if k == 0:\n",
    "            JtermsT[4] += (zconv_top_heattmp[0,pt] - swtoptmp[k,0,pt]) / myparms['rcp'] / binwidthT[iTpt] / binwidthS[iSpt] * 1e-6\n",
    "        else:\n",
    "            JtermsT[4] += -(swtoptmp[k+1,0,pt] - sptoptmp[k,0,pt])/ myparms['rcp'] / binwidthT[iTpt] / binwidthS[iSpt] * 1e-6\n",
    "\n",
    "labels = np.array([\"ttend\",\"gates\",\"df\",\"kpp\",\"surface\",\"original tconv\"])\n",
    "for i in range(6):\n",
    "    print(labels[i],JtermsT[i])"
   ]
  },
  {
   "cell_type": "code",
   "execution_count": null,
   "id": "85484682-0f39-411b-8bda-55237f827ce8",
   "metadata": {},
   "outputs": [],
   "source": []
  },
  {
   "cell_type": "code",
   "execution_count": null,
   "id": "65e933d8-323a-4c87-a1f1-589c65dca6ac",
   "metadata": {},
   "outputs": [],
   "source": []
  },
  {
   "cell_type": "markdown",
   "id": "9fd86a51-ed28-4d77-9695-63fa55985e00",
   "metadata": {},
   "source": [
    "# Let's use this and redefine gatesS and gatesT for the same range"
   ]
  },
  {
   "cell_type": "code",
   "execution_count": 89,
   "id": "7e3920d6-1ef8-4da3-853e-4d58c15e9d1c",
   "metadata": {},
   "outputs": [],
   "source": [
    "# redefine gatesS and gatesT\n",
    "gatesS_N = np.zeros((nz, 1))\n",
    "gatesS_S = np.zeros((nz, 1))\n",
    "gatesS_E = np.zeros((nz, 1))\n",
    "gatesS_W = np.zeros((nz, 1))\n",
    "\n",
    "# --- WEST gate (left side) ---\n",
    "gatesS_W[:, 0] = tmpADVx_SLT[:, gatej, gatei]\n",
    "\n",
    "# --- EAST gate (right side) ---\n",
    "gatesS_E[:, 0] = -tmpADVx_SLT[:, gatej, gateip2]\n",
    "\n",
    "# --- SOUTH gate (bottom) ---\n",
    "gatesS_S[:, 0] = (\n",
    "    tmpADVy_SLT[:, gatej, gatei] +\n",
    "    tmpADVy_SLT[:, gatej, gateip1]\n",
    ")\n",
    "\n",
    "# --- NORTH gate (top) ---\n",
    "gatesS_N[:, 0] = -(\n",
    "    tmpADVy_SLT[:, gatejp1, gatei] +\n",
    "    tmpADVy_SLT[:, gatejp1, gateip1]\n",
    ")\n",
    "\n",
    "# multiply all by density constant\n",
    "for g in [gatesS_N, gatesS_S, gatesS_E, gatesS_W]:\n",
    "    g *= myparms['rhoconst']\n"
   ]
  },
  {
   "cell_type": "code",
   "execution_count": 90,
   "id": "dd4f8b60-da4a-4542-8030-3ac1c94e4fe5",
   "metadata": {},
   "outputs": [],
   "source": [
    "# just hard code the bin widths T and S for now because this doesn't make sense\n",
    "binwidthTconst = np.nanmax(binwidthT)\n",
    "binwidthSconst = np.nanmax(binwidthS)"
   ]
  },
  {
   "cell_type": "code",
   "execution_count": 129,
   "id": "4839e5be-0149-45c5-b655-a07861106642",
   "metadata": {},
   "outputs": [
    {
     "name": "stdout",
     "output_type": "stream",
     "text": [
      "stend           -4.875810e+04\n",
      "gate_N          -1.627296e+08\n",
      "gate_S          -4.923101e+07\n",
      "gate_E          -7.357130e+07\n",
      "gate_W          2.856514e+08\n",
      "df              -4.481053e+09\n",
      "kpp             4.256435e-07\n",
      "surface         -5.874153e-13\n",
      "original sconv  1.195294e+05\n",
      "gate_total      1.195294e+05\n"
     ]
    }
   ],
   "source": [
    "# JtermsS indices:\n",
    "# 0: stend\n",
    "# 1: gate_N\n",
    "# 2: gate_S\n",
    "# 3: gate_E\n",
    "# 4: gate_W\n",
    "# 5: df\n",
    "# 6: kpp\n",
    "# 7: surface\n",
    "# 8: original sconv\n",
    "# 9: gate_total (sum of N/S/E/W)\n",
    "\n",
    "# redefine gatesS and gatesT\n",
    "gatesS_N = np.zeros((nz, 1))\n",
    "gatesS_S = np.zeros((nz, 1))\n",
    "gatesS_E = np.zeros((nz, 1))\n",
    "gatesS_W = np.zeros((nz, 1))\n",
    "\n",
    "# --- WEST gate (left side) ---\n",
    "gatesS_W[:, 0] = tmpADVx_SLT[:, gatej, gatei]\n",
    "\n",
    "# --- EAST gate (right side) ---\n",
    "gatesS_E[:, 0] = -tmpADVx_SLT[:, gatej, gateip2]\n",
    "\n",
    "# --- SOUTH gate (bottom) ---\n",
    "gatesS_S[:, 0] = (\n",
    "    tmpADVy_SLT[:, gatej, gatei] +\n",
    "    tmpADVy_SLT[:, gatej, gateip1]\n",
    ")\n",
    "\n",
    "# --- NORTH gate (top) ---\n",
    "gatesS_N[:, 0] = -(\n",
    "    tmpADVy_SLT[:, gatejp1, gatei] +\n",
    "    tmpADVy_SLT[:, gatejp1, gateip1]\n",
    ")\n",
    "\n",
    "# multiply all by density constant\n",
    "for g in [gatesS_N, gatesS_S, gatesS_E, gatesS_W]:\n",
    "    g *= myparms['rhoconst']  # putting this in g/s\n",
    "\n",
    "\n",
    "nzna = 19  # max where drf is non-NA\n",
    "JtermsS = np.zeros((10,1))\n",
    "\n",
    "# --- bulk column terms ---\n",
    "for pt in range(2):\n",
    "    for k in range(nzna):\n",
    "        #iTpt = int(binned_theta_col[k,0,pt])\n",
    "        #iSpt = int(binned_salinity_col[k,0,pt])\n",
    "\n",
    "        # for these generally we've beeing going g/s / (g/kg) / degC / (kg/m^3) = m^3/degC\n",
    "\n",
    "        JtermsS[0] += stend[k,0,pt]    / binwidthTconst / binwidthSconst / myparms['rhoconst']  # total tendency, Sv\n",
    "        JtermsS[5] += dfconv[k,0,pt]   / binwidthTconst / binwidthSconst / myparms['rhoconst']  # diffusive\n",
    "        JtermsS[6] += kppconv[k,0,pt]  / binwidthTconst / binwidthSconst / myparms['rhoconst']  # KPP\n",
    "        JtermsS[8] += Sconvsel[k,0,pt] / binwidthTconst / binwidthSconst / myparms['rhoconst']  # original advective\n",
    "\n",
    "# --- gate contributions (split by direction) ---\n",
    "for k in range(nzna):\n",
    "    # grab the binwidths T and S\n",
    "    \n",
    "    JtermsS[1] += gatesS_N[k,0] / binwidthTconst / binwidthSconst / myparms['rhoconst']  # North\n",
    "    JtermsS[2] += gatesS_S[k,0] / binwidthTconst / binwidthSconst / myparms['rhoconst']  # South\n",
    "    JtermsS[3] += gatesS_E[k,0] / binwidthTconst / binwidthSconst / myparms['rhoconst']  # East\n",
    "    JtermsS[4] += gatesS_W[k,0] / binwidthTconst / binwidthSconst / myparms['rhoconst']  # West\n",
    "\n",
    "# --- surface tendency (unchanged) ---\n",
    "for pt in range(2):\n",
    "    for k in range(nzna):\n",
    "        iTpt = int(binned_theta_col[k,0,pt])\n",
    "        iSpt = int(binned_salinity_col[k,0,pt])\n",
    "\n",
    "        if k == 0:\n",
    "            JtermsS[7] += (zconv_top_salttmp[0,pt] - sptoptmp[k,0,pt]) / binwidthTconst / binwidthSconst / myparms['rhoconst']\n",
    "        else:\n",
    "            JtermsS[7] += -(sptoptmp[k,0,pt] - sptoptmp[k-1,0,pt]) / binwidthTconst / binwidthSconst / myparms['rhoconst']\n",
    "\n",
    "# --- total gate transport (sum of N/S/E/W) ---\n",
    "JtermsS[9] = JtermsS[1] + JtermsS[2] + JtermsS[3] + JtermsS[4]\n",
    "\n",
    "# --- labels ---\n",
    "labels = np.array([\n",
    "    \"stend\", \"gate_N\", \"gate_S\", \"gate_E\", \"gate_W\",\n",
    "    \"df\", \"kpp\", \"surface\", \"original sconv\", \"gate_total\"\n",
    "])\n",
    "\n",
    "# --- print all results ---\n",
    "for i in range(len(labels)):\n",
    "    print(f\"{labels[i]:<15} {JtermsS[i,0]:.6e}\")\n"
   ]
  },
  {
   "cell_type": "code",
   "execution_count": 164,
   "id": "c96892e4-e35d-437a-8037-f39f64e4b437",
   "metadata": {},
   "outputs": [
    {
     "data": {
      "text/plain": [
       "array([[[2.10097090e+09, 2.10097090e+09, 2.10097090e+09, 2.10097090e+09,\n",
       "         2.10097090e+09, 2.10097090e+09, 2.10097090e+09, 2.10307187e+09,\n",
       "         2.10727381e+09, 2.12408158e+09, 2.16820197e+09, 2.26904857e+09,\n",
       "         2.47074178e+09, 2.81950295e+09, 3.36995732e+09, 4.16412432e+09,\n",
       "         5.22091269e+09, 6.53401950e+09, 8.07193020e+09, 9.76951468e+09,\n",
       "         1.15553399e+10, 1.33411652e+10, 1.50387497e+10, 1.65766604e+10,\n",
       "         1.78897672e+10, 1.89465556e+10, 1.97407226e+10, 2.02911770e+10,\n",
       "         2.06420391e+10, 2.08521362e+10, 2.10118100e+10, 2.12891381e+10,\n",
       "         2.19677517e+10, 2.33901090e+10, 2.58062256e+10, 2.92224042e+10,\n",
       "         3.33928315e+10, 3.79918568e+10, 4.27652627e+10, 4.75869909e+10,\n",
       "         5.24192239e+10, 5.72514570e+10, 6.20836901e+10, 6.69159232e+10,\n",
       "         7.17481562e+10, 7.65803893e+10, 8.14126224e+10, 8.62448554e+10,\n",
       "         9.10770885e+10, 9.59093216e+10],\n",
       "        [2.09796415e+09, 2.09796415e+09, 2.09796415e+09, 2.09796415e+09,\n",
       "         2.09796415e+09, 2.09796415e+09, 2.09796415e+09, 2.10006211e+09,\n",
       "         2.10425804e+09, 2.12104175e+09, 2.16509900e+09, 2.26580128e+09,\n",
       "         2.46720584e+09, 2.81546789e+09, 3.36513449e+09, 4.15816494e+09,\n",
       "         5.21344091e+09, 6.52466850e+09, 8.06037825e+09, 9.75553328e+09,\n",
       "         1.15388028e+10, 1.33220723e+10, 1.50172274e+10, 1.65529371e+10,\n",
       "         1.78641647e+10, 1.89194407e+10, 1.97124711e+10, 2.02621377e+10,\n",
       "         2.06124977e+10, 2.08222942e+10, 2.09817394e+10, 2.12586707e+10,\n",
       "         2.19363131e+10, 2.33566348e+10, 2.57692936e+10, 2.91805833e+10,\n",
       "         3.33450422e+10, 3.79374857e+10, 4.27040602e+10, 4.75188879e+10,\n",
       "         5.23442055e+10, 5.71695230e+10, 6.19948405e+10, 6.68201581e+10,\n",
       "         7.16454756e+10, 7.64707932e+10, 8.12961107e+10, 8.61214282e+10,\n",
       "         9.09467458e+10, 9.57720633e+10]]])"
      ]
     },
     "execution_count": 164,
     "metadata": {},
     "output_type": "execute_result"
    }
   ],
   "source": [
    "vol[0,:,ys,xs]"
   ]
  },
  {
   "cell_type": "code",
   "execution_count": 132,
   "id": "2cff3ee2-0461-4f29-8c85-d5b5f96969c8",
   "metadata": {},
   "outputs": [
    {
     "data": {
      "text/plain": [
       "array([-4.87581041e+04, -1.62729560e+08, -4.92310144e+07, -7.35712998e+07,\n",
       "        2.85651404e+08, -4.48105311e+09,  5.81145287e-07, -5.87415267e-13,\n",
       "        1.19529419e+05])"
      ]
     },
     "execution_count": 132,
     "metadata": {},
     "output_type": "execute_result"
    }
   ],
   "source": [
    "totals = JtermsS.sum(axis=(1,2))  # shape (10,)\n",
    "totals"
   ]
  },
  {
   "cell_type": "markdown",
   "id": "0c6eea89-4626-4325-b285-705cd02656d3",
   "metadata": {},
   "source": [
    "## Let's replicate the above with a full T-S budget attempt"
   ]
  },
  {
   "cell_type": "code",
   "execution_count": 106,
   "id": "55db3de3-9f47-4b71-a249-5986d469ff11",
   "metadata": {},
   "outputs": [],
   "source": [
    "def idx_to_bins_formatter(edges):\n",
    "    def _fmt(x, pos):\n",
    "        i = int(round(x))\n",
    "        if 0 <= i < len(edges):\n",
    "            return f\"{edges[i]:g}\"\n",
    "        return \"\"\n",
    "    return FuncFormatter(_fmt)"
   ]
  },
  {
   "cell_type": "code",
   "execution_count": 177,
   "id": "85ad31a5-57b7-4ccf-977c-1c3d5eb7f3df",
   "metadata": {},
   "outputs": [],
   "source": [
    "# JtermsS indices:\n",
    "# 0: stend\n",
    "# 1: gate_N\n",
    "# 2: gate_S\n",
    "# 3: gate_E\n",
    "# 4: gate_W\n",
    "# 5: df\n",
    "# 6: kpp\n",
    "# 7: surface\n",
    "# 8: original sconv\n",
    "# 9: gate_total (sum of N/S/E/W)\n",
    "\n",
    "# redefine gatesS and gatesT\n",
    "gatesS_N = np.zeros((nz, 2))\n",
    "gatesS_S = np.zeros((nz, 2))\n",
    "gatesS_E = np.zeros((nz, 1))\n",
    "gatesS_W = np.zeros((nz, 1))\n",
    "\n",
    "# --- WEST gate (left side) ---\n",
    "gatesS_W[:, 0] = tmpADVx_SLT[:, gatej, gatei]\n",
    "\n",
    "# --- EAST gate (right side) ---\n",
    "gatesS_E[:, 0] = -tmpADVx_SLT[:, gatej, gateip2]\n",
    "\n",
    "# --- SOUTH gate (bottom) ---\n",
    "gatesS_S[:, 0] = tmpADVy_SLT[:, gatej, gatei]\n",
    "gatesS_S[:, 1] = tmpADVy_SLT[:, gatej, gateip1]\n",
    "\n",
    "# --- NORTH gate (top) ---\n",
    "gatesS_N[:, 0] = -(tmpADVy_SLT[:, gatejp1, gatei])\n",
    "gatesS_N[:, 1] = -(tmpADVy_SLT[:, gatejp1, gateip1]) # m^3.PSU/s\n",
    "\n",
    "# multiply all by density constant\n",
    "for g in [gatesS_N, gatesS_S, gatesS_E, gatesS_W]:\n",
    "    g *= myparms['rhoconst']\n",
    "\n",
    "\n",
    "nzna = 19  # max where drf is non-NA\n",
    "# rather than just one bin we can put this in an entire 112x112\n",
    "JtermsS = np.zeros((9,nS,nT))\n",
    "\n",
    "# --- bulk column terms ---\n",
    "for pt in range(2):\n",
    "    for k in range(nzna):\n",
    "        iTpt = int(binned_theta_col[k,0,pt])\n",
    "        iSpt = int(binned_salinity_col[k,0,pt])\n",
    "\n",
    "        JtermsS[0,iSpt,iTpt] += stend[k,0,pt]    / binwidthTconst / binwidthSconst / myparms['rhoconst'] * 1e-6  # total tendency, Sv\n",
    "        JtermsS[5,iSpt,iTpt] += dfconv[k,0,pt]   / binwidthTconst / binwidthSconst / myparms['rhoconst'] * 1e-6  # diffusive\n",
    "        JtermsS[6,iSpt,iTpt] += kppconv[k,0,pt]  / binwidthTconst / binwidthSconst / myparms['rhoconst'] * 1e-6  # KPP\n",
    "        JtermsS[8,iSpt,iTpt] += Sconvsel[k,0,pt] / binwidthTconst / binwidthSconst / myparms['rhoconst'] * 1e-6  # original advective\n",
    "\n",
    "# --- gate contributions (split by direction) , let's do this for the West and East boxes separately ---\n",
    "pt = 0\n",
    "for k in range(nzna):\n",
    "    # get the indices for that box\n",
    "    iTpt = int(binned_theta_col[k,0,pt])\n",
    "    iSpt = int(binned_salinity_col[k,0,pt])\n",
    "    \n",
    "    JtermsS[4,iSpt,iTpt] += gatesS_W[k,0]  / binwidthTconst / binwidthSconst / myparms['rhoconst'] * 1e-6  # West\n",
    "    JtermsS[1,iSpt,iTpt] += gatesS_N[k,pt] / binwidthTconst / binwidthSconst / myparms['rhoconst'] * 1e-6  # North\n",
    "    JtermsS[2,iSpt,iTpt] += gatesS_S[k,pt] / binwidthTconst / binwidthSconst / myparms['rhoconst'] * 1e-6  # South\n",
    "\n",
    "\n",
    "pt = 1\n",
    "for k in range(nzna):\n",
    "    # grab the T and S bin\n",
    "    iTpt = int(binned_theta_col[k,0,pt])\n",
    "    iSpt = int(binned_salinity_col[k,0,pt])\n",
    "\n",
    "    JtermsS[3,iSpt,iTpt] += gatesS_E[k,0]  / binwidthTconst / binwidthSconst / myparms['rhoconst'] * 1e-6  # East\n",
    "    JtermsS[1,iSpt,iTpt] += gatesS_N[k,pt] / binwidthTconst / binwidthSconst / myparms['rhoconst'] * 1e-6  # North\n",
    "    JtermsS[2,iSpt,iTpt] += gatesS_S[k,pt] / binwidthTconst / binwidthSconst / myparms['rhoconst'] * 1e-6  # South\n",
    "\n",
    "# --- surface tendency (unchanged) ---\n",
    "for pt in range(2):\n",
    "    for k in range(nzna):\n",
    "        iTpt = int(binned_theta_col[k,0,pt])\n",
    "        iSpt = int(binned_salinity_col[k,0,pt])\n",
    "\n",
    "        if k == 0:\n",
    "            JtermsS[7,iSpt,iTpt] += (zconv_top_salttmp[0,pt] - sptoptmp[k,0,pt]) / binwidthTconst / binwidthSconst / myparms['rhoconst'] * 1e-6\n",
    "        else:\n",
    "            JtermsS[7,iSpt,iTpt] += -(sptoptmp[k,0,pt] - sptoptmp[k-1,0,pt]) / binwidthTconst / binwidthSconst / myparms['rhoconst'] * 1e-6\n"
   ]
  },
  {
   "cell_type": "code",
   "execution_count": 181,
   "id": "67f5c4f0-981a-466e-8487-00add3e65798",
   "metadata": {},
   "outputs": [
    {
     "data": {
      "text/plain": [
       "<matplotlib.legend.Legend at 0x14a2514c4a60>"
      ]
     },
     "execution_count": 181,
     "metadata": {},
     "output_type": "execute_result"
    },
    {
     "data": {
      "image/png": "[encoded data removed]",
      "text/plain": [
       "<Figure size 800x600 with 3 Axes>"
      ]
     },
     "metadata": {},
     "output_type": "display_data"
    }
   ],
   "source": [
    "fig = plt.figure(figsize = (8,6))\n",
    "\n",
    "# plot the overall sum of the gates\n",
    "ax = plt.subplot(311)\n",
    "plotthis = np.nansum(JtermsS[8],axis=1)\n",
    "ax.plot(plotthis,label=\"adv internal tend\")\n",
    "# ax.plot(np.nansum(J_gates,axis=(0,1))*1e-3)\n",
    "ax.set_ylabel(\"Sv\")\n",
    "ax.set_xlim(-0.5, nS - 0.5)                     # keep ticks aligned to integer indices\n",
    "ax.xaxis.set_major_locator(MaxNLocator(integer=True))\n",
    "ax.xaxis.set_major_formatter(idx_to_bins_formatter(binsSLT_edges))\n",
    "ax.legend(loc=\"best\")\n",
    "\n",
    "ax = plt.subplot(312)\n",
    "plotthis = np.nansum(JtermsS[1],axis=1)\n",
    "ax.plot(plotthis,label=\"North\")\n",
    "plotthis = np.nansum(JtermsS[2],axis=1)\n",
    "ax.plot(plotthis,label=\"South\")\n",
    "plotthis = np.nansum(JtermsS[3],axis=1)\n",
    "ax.plot(plotthis,label=\"East\")\n",
    "plotthis = np.nansum(JtermsS[4],axis=1)\n",
    "ax.plot(plotthis,label=\"West\")\n",
    "ax.set_ylabel(\"Sv\")\n",
    "ax.set_xlim(-0.5, nS - 0.5)                     # keep ticks aligned to integer indices\n",
    "ax.xaxis.set_major_locator(MaxNLocator(integer=True))\n",
    "ax.xaxis.set_major_formatter(idx_to_bins_formatter(binsSLT_edges))\n",
    "ax.legend(loc=\"best\")\n",
    "\n",
    "\n",
    "ax = plt.subplot(313)\n",
    "plotthis = np.nansum(JtermsS[1:5],axis=(0,2))\n",
    "ax.plot(plotthis,label=\"All\")\n",
    "plotthis = np.nansum(JtermsS[8],axis=1)\n",
    "ax.plot(plotthis,label=\"adv internal tend\")\n",
    "# ax.plot(np.nansum(J_gates,axis=(0,1))*1e-3)\n",
    "ax.set_ylabel(\"Sv\")\n",
    "ax.set_xlim(-0.5, nS - 0.5)                     # keep ticks aligned to integer indices\n",
    "ax.xaxis.set_major_locator(MaxNLocator(integer=True))\n",
    "ax.xaxis.set_major_formatter(idx_to_bins_formatter(binsSLT_edges))\n",
    "ax.legend(loc=\"best\")"
   ]
  },
  {
   "cell_type": "code",
   "execution_count": 144,
   "id": "19034d35-6f59-4b55-82b6-43d59aaed8f9",
   "metadata": {},
   "outputs": [
    {
     "name": "stdout",
     "output_type": "stream",
     "text": [
      "119529.41900459219\n",
      "119529.41900455952\n",
      "3.266904968768358e-08\n"
     ]
    }
   ],
   "source": [
    "print(np.nansum(JtermsS[8],axis=(0,1)))         # summing in T and S\n",
    "print(np.nansum(JtermsS[1:5],axis=(0,1,2)))     # summing in S\n",
    "print((np.nansum(JtermsS[8],axis=(0,1))) - (np.nansum(JtermsS[1:5],axis=(0,1,2))))  # this would show that internal adv is same as gates"
   ]
  },
  {
   "cell_type": "code",
   "execution_count": null,
   "id": "a54d06d3-1786-4166-8723-35bb80c09c44",
   "metadata": {},
   "outputs": [],
   "source": [
    "# print the overall sum of these to make sure we"
   ]
  },
  {
   "cell_type": "code",
   "execution_count": 151,
   "id": "25593cb5-e51d-42a4-884c-15de7e06d80e",
   "metadata": {},
   "outputs": [
    {
     "name": "stdout",
     "output_type": "stream",
     "text": [
      "119529.41900454462 119529.41900459219\n"
     ]
    }
   ],
   "source": [
    "a =  np.nansum(JtermsS[1:5],axis=(0,2))\n",
    "b = np.nansum(JtermsS[8],axis=1)\n",
    "print(np.nansum(a),np.nansum(b))"
   ]
  },
  {
   "cell_type": "markdown",
   "id": "224199af-7755-4a6e-8f08-59b205d2d1ae",
   "metadata": {},
   "source": [
    "## Try a version of this where we divide by volume to see if this makes sense"
   ]
  },
  {
   "cell_type": "code",
   "execution_count": 173,
   "id": "74e651ea-9b6b-45be-8ab7-38abb9e47e79",
   "metadata": {},
   "outputs": [
    {
     "data": {
      "text/plain": [
       "116176134876.03658"
      ]
     },
     "execution_count": 173,
     "metadata": {},
     "output_type": "execute_result"
    }
   ],
   "source": [
    "volcol = vol[1][:nzna,ys,xs]\n",
    "volcol.shape\n",
    "np.nansum(volcol)"
   ]
  },
  {
   "cell_type": "code",
   "execution_count": 210,
   "id": "0336fc03-f989-40ac-9971-a848357ca378",
   "metadata": {},
   "outputs": [],
   "source": [
    "gate_conv_TS = np.zeros((nS, nT))\n",
    "\n",
    "for k in range(nzna):\n",
    "    # WEST cell (pt=0): Wext + N_west + S_west  (exclude its east face; that’s the internal interface)\n",
    "    iT0 = int(binned_theta_col[k,0,0]); iS0 = int(binned_salinity_col[k,0,0])\n",
    "    net0 = (gatesS_W[k,0] + gatesS_N[k,0] + gatesS_S[k,0])\n",
    "    gate_conv_TS[iS0, iT0] += net0 / (binwidthTconst * binwidthSconst * myparms['rhoconst'])\n",
    "\n",
    "    # EAST cell (pt=1): Eext + N_east + S_east  (exclude its west face; same internal interface)\n",
    "    iT1 = int(binned_theta_col[k,0,1]); iS1 = int(binned_salinity_col[k,0,1])\n",
    "    net1 = (gatesS_E[k,0] + gatesS_N[k,1] + gatesS_S[k,1])\n",
    "    gate_conv_TS[iS1, iT1] += net1 / (binwidthTconst * binwidthSconst * myparms['rhoconst'])\n",
    "\n",
    "gate_conv_TS *= 1e-6"
   ]
  },
  {
   "cell_type": "code",
   "execution_count": 215,
   "id": "2168908b-b955-4e3e-a8f9-4dd316a5974d",
   "metadata": {},
   "outputs": [
    {
     "data": {
      "text/plain": [
       "(-2.0, 8.0)"
      ]
     },
     "execution_count": 215,
     "metadata": {},
     "output_type": "execute_result"
    },
    {
     "data": {
      "image/png": "[encoded data removed]",
      "text/plain": [
       "<Figure size 1000x400 with 4 Axes>"
      ]
     },
     "metadata": {},
     "output_type": "display_data"
    }
   ],
   "source": [
    "fig = plt.figure()\n",
    "\n",
    "ax = plt.subplot(121)\n",
    "cb = ax.pcolormesh(Sbin,Tbin,gate_conv_TS,vmin=-50,vmax=50,cmap='seismic')\n",
    "plt.colorbar(cb)\n",
    "ax.set_xlim(32,36)\n",
    "ax.set_ylim(-2,8)\n",
    "\n",
    "ax = plt.subplot(122)\n",
    "cb = ax.pcolormesh(Sbin,Tbin,JtermsS[8],vmin=-.01,vmax=0.01,cmap='seismic')\n",
    "plt.colorbar(cb)\n",
    "ax.set_xlim(32,36)\n",
    "ax.set_ylim(-2,8)"
   ]
  },
  {
   "cell_type": "code",
   "execution_count": 212,
   "id": "34608195-de35-43eb-a348-63dadad13fa8",
   "metadata": {},
   "outputs": [
    {
     "data": {
      "text/plain": [
       "0.11952941900459635"
      ]
     },
     "execution_count": 212,
     "metadata": {},
     "output_type": "execute_result"
    }
   ],
   "source": [
    "np.nansum(gate_conv_TS)"
   ]
  },
  {
   "cell_type": "code",
   "execution_count": 213,
   "id": "e754c4f3-05a9-45e5-99ef-4c99d47b99be",
   "metadata": {},
   "outputs": [
    {
     "data": {
      "text/plain": [
       "0.11952941900459217"
      ]
     },
     "execution_count": 213,
     "metadata": {},
     "output_type": "execute_result"
    }
   ],
   "source": [
    "np.nansum(JtermsS[8])"
   ]
  },
  {
   "cell_type": "code",
   "execution_count": 221,
   "id": "a070a3b7-6885-4c03-8079-580502726b52",
   "metadata": {},
   "outputs": [
    {
     "data": {
      "text/plain": [
       "(112, 112)"
      ]
     },
     "execution_count": 221,
     "metadata": {},
     "output_type": "execute_result"
    }
   ],
   "source": [
    "gate_conv_TS.shape"
   ]
  },
  {
   "cell_type": "code",
   "execution_count": 232,
   "id": "18942eca-79da-4876-8ce1-dba6bbdc2c06",
   "metadata": {},
   "outputs": [
    {
     "data": {
      "image/png": "[encoded data removed]",
      "text/plain": [
       "<Figure size 1200x700 with 12 Axes>"
      ]
     },
     "metadata": {},
     "output_type": "display_data"
    }
   ],
   "source": [
    "# Make per-direction TS arrays (Sv per T–S bin)\n",
    "gate_W_TS = np.zeros((nS, nT))\n",
    "gate_E_TS = np.zeros((nS, nT))\n",
    "gate_N_TS = np.zeros((nS, nT))\n",
    "gate_S_TS = np.zeros((nS, nT))\n",
    "\n",
    "norm = (binwidthTconst * binwidthSconst * myparms['rhoconst'])\n",
    "\n",
    "for k in range(nzna):\n",
    "    # WEST cell (pt=0)\n",
    "    iT0 = int(binned_theta_col[k,0,0]); iS0 = int(binned_salinity_col[k,0,0])\n",
    "    gate_W_TS[iS0, iT0] += (gatesS_W[k,0]) / norm          # exterior west only\n",
    "    gate_N_TS[iS0, iT0] += (gatesS_N[k,0]) / norm          # north of west column\n",
    "    gate_S_TS[iS0, iT0] += (gatesS_S[k,0]) / norm          # south of west column\n",
    "\n",
    "    # EAST cell (pt=1)\n",
    "    iT1 = int(binned_theta_col[k,0,1]); iS1 = int(binned_salinity_col[k,0,1])\n",
    "    gate_E_TS[iS1, iT1] += (gatesS_E[k,0]) / norm          # exterior east only\n",
    "    gate_N_TS[iS1, iT1] += (gatesS_N[k,1]) / norm          # north of east column\n",
    "    gate_S_TS[iS1, iT1] += (gatesS_S[k,1]) / norm          # south of east column\n",
    "\n",
    "# Convert to Sv if desired\n",
    "scale = 1e-6\n",
    "gate_W_TS *= scale; gate_E_TS *= scale; gate_N_TS *= scale; gate_S_TS *= scale\n",
    "\n",
    "# Net gate convergence per bin (sum of directions)\n",
    "gate_SUM_TS = gate_W_TS + gate_E_TS + gate_N_TS + gate_S_TS\n",
    "\n",
    "# (Optional) consistency check against your previous gate_conv_TS (also in Sv)\n",
    "# print(np.nanmax(np.abs(gate_SUM_TS - gate_conv_TS)))\n",
    "\n",
    "# ---- Plot 5 separate T–S diagrams ----\n",
    "import matplotlib.pyplot as plt\n",
    "fig, axs = plt.subplots(2, 3, figsize=(12, 7), constrained_layout=True)\n",
    "\n",
    "def plot_ts(ax, Z, title):\n",
    "    # binsSLT_edges: S edges (y); binsTH_edges: T edges (x)\n",
    "    pcm = ax.pcolormesh(Sbin, Tbin, Z,cmap='seismic',vmin=-25,vmax=25)\n",
    "    ax.set_title(title)\n",
    "    ax.set_ylabel('Theta bins')\n",
    "    ax.set_xlabel('Salinity bins')\n",
    "    fig.colorbar(pcm, ax=ax, label='Sv /degC/PSU')\n",
    "    ax.set_xlim(34.5,35)\n",
    "    ax.set_ylim(2.5,4)\n",
    "\n",
    "# Choose a symmetric color scale across all for fair comparison\n",
    "v = np.nanmax(np.abs(np.stack([gate_W_TS, gate_E_TS, gate_N_TS, gate_S_TS, gate_SUM_TS])))\n",
    "kwargs = dict()\n",
    "# if you want symmetric limits:\n",
    "# kwargs = dict(vmin=-v, vmax=v)\n",
    "\n",
    "plot_ts(axs[0,0], gate_W_TS,  'West (Sv/bin)')\n",
    "plot_ts(axs[0,1], gate_E_TS,  'East (Sv/bin)')\n",
    "plot_ts(axs[0,2], gate_N_TS,  'North (Sv/bin)')\n",
    "plot_ts(axs[1,0], gate_S_TS,  'South (Sv/bin)')\n",
    "plot_ts(axs[1,1], gate_SUM_TS,'Sum N+S+E+W (Sv/bin)')\n",
    "\n",
    "\n",
    "# on the 6th panel put the advective convergence from the cell by cell convergence\n",
    "pcm = axs[1,2].pcolormesh(Sbin,Tbin,JtermsS[8],vmin=-.01,vmax=0.01,cmap='seismic')\n",
    "axs[1,2].set_ylabel('Theta bins')\n",
    "axs[1,2].set_xlabel('Salinity bins')\n",
    "fig.colorbar(pcm, ax=axs[1,2], label='Sv /degC/PSU')\n",
    "axs[1,2].set_xlim(34.5,35)\n",
    "axs[1,2].set_ylim(2.5,4)\n",
    "axs[1,2].set_title(\"Internal ADV Conv.\")\n",
    "axs[1,2].set_xlim(34.5,35)\n",
    "axs[1,2].set_ylim(2.5,4)\n",
    "\n",
    "plt.show()"
   ]
  },
  {
   "cell_type": "code",
   "execution_count": null,
   "id": "7f12970f-d5cf-4b57-8cd6-81fbceccf624",
   "metadata": {},
   "outputs": [],
   "source": []
  },
  {
   "cell_type": "code",
   "execution_count": null,
   "id": "57300a47-b430-4e67-9ad4-7cf9a96185b2",
   "metadata": {},
   "outputs": [],
   "source": []
  },
  {
   "cell_type": "code",
   "execution_count": null,
   "id": "1349ac97-583a-4306-a918-ecc71f1e5548",
   "metadata": {},
   "outputs": [],
   "source": []
  },
  {
   "cell_type": "code",
   "execution_count": null,
   "id": "dfb7321c-2d0c-415d-8e55-a6ec8905b1fe",
   "metadata": {},
   "outputs": [],
   "source": []
  },
  {
   "cell_type": "markdown",
   "id": "7c616836-ebeb-4587-9e99-692e2a537cc5",
   "metadata": {},
   "source": [
    "## continue for T budget for the two squares"
   ]
  },
  {
   "cell_type": "code",
   "execution_count": 59,
   "id": "e0b10815-8405-4743-929c-69f52964d7be",
   "metadata": {},
   "outputs": [
    {
     "name": "stdout",
     "output_type": "stream",
     "text": [
      "total ttend    -191495.0279288721\n",
      "gate W         372921.0810546011\n",
      "gate E         -79291.53083634762\n",
      "gate S         -69332.39752645143\n",
      "gate N         -198801.45344779734\n",
      "gates (net)    25495.699244004732\n",
      "diffusive      -13684.452163705944\n",
      "kpp            8.961720254774264e-13\n",
      "surface        -18923.210180255126\n",
      "original adv   25495.69924400477\n"
     ]
    }
   ],
   "source": [
    "# --- build a full directional T budget with residual check ---\n",
    "# --- initialize separate directional gates ---\n",
    "gatesT_N = np.zeros((nz, 1))\n",
    "gatesT_S = np.zeros((nz, 1))\n",
    "gatesT_E = np.zeros((nz, 1))\n",
    "gatesT_W = np.zeros((nz, 1))\n",
    "\n",
    "# --- WEST gate (left side, positive into the gate) ---\n",
    "gatesT_W[:, 0] = tmpADVx_TH[:, gatej, gatei]\n",
    "\n",
    "# --- EAST gate (right side, negative because it's out of the section) ---\n",
    "gatesT_E[:, 0] = -tmpADVx_TH[:, gatej, gateip2]\n",
    "\n",
    "# --- SOUTH gate (bottom, add both bottom-left and bottom-right corners) ---\n",
    "gatesT_S[:, 0] = (\n",
    "    tmpADVy_TH[:, gatej, gatei] +\n",
    "    tmpADVy_TH[:, gatej, gateip1]\n",
    ")\n",
    "\n",
    "# --- NORTH gate (top, subtract both top-left and top-right corners) ---\n",
    "gatesT_N[:, 0] = -(\n",
    "    tmpADVy_TH[:, gatejp1, gatei] +\n",
    "    tmpADVy_TH[:, gatejp1, gateip1]\n",
    ")\n",
    "\n",
    "# --- multiply all by heat capacity constant ---\n",
    "for g in [gatesT_N, gatesT_S, gatesT_E, gatesT_W]:\n",
    "    g *= myparms['rcp']\n",
    "\n",
    "# --- optional: compute total gate transport (for comparison) ---\n",
    "gatesT_total = gatesT_N + gatesT_S + gatesT_E + gatesT_W\n",
    "\n",
    "# this one we need to work harder on because it's normalized by two separate T for this specific box and timestep\n",
    "\n",
    "rcp = myparms['rcp']\n",
    "\n",
    "# container for terms (all divided by rcp so they match your current JtermsT units)\n",
    "J = {\n",
    "    \"ttend\": 0.0,        # total temperature tendency\n",
    "    \"gate_W\": 0.0,       # west gate contribution\n",
    "    \"gate_E\": 0.0,       # east gate contribution (already neg in gatesT_E)\n",
    "    \"gate_S\": 0.0,       # south gate contribution\n",
    "    \"gate_N\": 0.0,       # north gate contribution (already neg in gatesT_N)\n",
    "    \"gates_net\": 0.0,    # sum of the four gates\n",
    "    \"df\": 0.0,           # diffusive (DF) tendency\n",
    "    \"kpp\": 0.0,          # KPP tendency\n",
    "    \"surface\": 0.0,      # surface tendency\n",
    "    \"adv_orig\": 0.0,     # your original advective tendency for sanity check\n",
    "}\n",
    "\n",
    "# ---- volumetric / interior terms (sum over both columns pt and vertical k) ----\n",
    "for pt in range(2):\n",
    "    for k in range(nzna):\n",
    "        # binned indices available if you need per-bin normalization later\n",
    "        # iTpt = int(binned_theta_col[k,0,pt])\n",
    "        # iSpt = int(binned_salinity_col[k,0,pt])\n",
    "\n",
    "        J[\"ttend\"]    += ttend[k,0,pt]   / rcp\n",
    "        J[\"df\"]       += dfconv[k,0,pt]  / rcp\n",
    "        J[\"kpp\"]      += kppconv[k,0,pt] / rcp\n",
    "        J[\"adv_orig\"] += Tconvsel[k,0,pt] / rcp  # sanity check against gates\n",
    "\n",
    "# ---- directional gates (sum over vertical k; gates already multiplied by rcp upstream) ----\n",
    "for k in range(nzna):\n",
    "    J[\"gate_W\"] += gatesT_W[k,0] / rcp\n",
    "    J[\"gate_E\"] += gatesT_E[k,0] / rcp\n",
    "    J[\"gate_S\"] += gatesT_S[k,0] / rcp\n",
    "    J[\"gate_N\"] += gatesT_N[k,0] / rcp\n",
    "\n",
    "J[\"gates_net\"] = J[\"gate_W\"] + J[\"gate_E\"] + J[\"gate_S\"] + J[\"gate_N\"]\n",
    "\n",
    "# ---- surface tendency (your existing top/below-top logic, untouched) ----\n",
    "for pt in range(2):\n",
    "    for k in range(nzna):\n",
    "        # iTpt = int(binned_theta_col[k,0,pt])\n",
    "        # iSpt = int(binned_salinity_col[k,0,pt])\n",
    "\n",
    "        if k == 0:\n",
    "            J[\"surface\"] += (zconv_top_heattmp[0,pt] - swtoptmp[k,0,pt]) / rcp\n",
    "        else:\n",
    "            # note: original had sptoptmp in the comment; keeping your variables as-is\n",
    "            J[\"surface\"] += -(swtoptmp[k+1,0,pt] - sptoptmp[k,0,pt]) / rcp\n",
    "\n",
    "# ---- residual/closure check ----\n",
    "#   ttend ≟ gates + df + kpp + surface\n",
    "residual = J[\"ttend\"] - (J[\"gates_net\"] + J[\"df\"] + J[\"kpp\"] + J[\"surface\"])\n",
    "\n",
    "# ---- neat printout ----\n",
    "labels_order = [\n",
    "    (\"ttend\",      \"total ttend\"),\n",
    "    (\"gate_W\",     \"gate W\"),\n",
    "    (\"gate_E\",     \"gate E\"),\n",
    "    (\"gate_S\",     \"gate S\"),\n",
    "    (\"gate_N\",     \"gate N\"),\n",
    "    (\"gates_net\",  \"gates (net)\"),\n",
    "    (\"df\",         \"diffusive\"),\n",
    "    (\"kpp\",        \"kpp\"),\n",
    "    (\"surface\",    \"surface\"),\n",
    "    (\"adv_orig\",   \"original adv\"),\n",
    "]\n",
    "\n",
    "for key, label in labels_order:\n",
    "    print(f\"{label:14s} {J[key]}\")\n"
   ]
  },
  {
   "cell_type": "code",
   "execution_count": 63,
   "id": "110d4836-5831-4c51-986b-02b2d89c40cb",
   "metadata": {},
   "outputs": [
    {
     "data": {
      "text/plain": [
       "-184383.06482891578"
      ]
     },
     "execution_count": 63,
     "metadata": {},
     "output_type": "execute_result"
    }
   ],
   "source": [
    "J['ttend'] - J['df'] - J['adv_orig'] - J['kpp'] - J['surface']"
   ]
  },
  {
   "cell_type": "code",
   "execution_count": null,
   "id": "7a242c3d-a2be-46e8-bfc3-4b9b6d7622bf",
   "metadata": {},
   "outputs": [],
   "source": []
  }
 ],
 "metadata": {
  "kernelspec": {
   "display_name": "py38",
   "language": "python",
   "name": "py38"
  },
  "language_info": {
   "codemirror_mode": {
    "name": "ipython",
    "version": 3
   },
   "file_extension": ".py",
   "mimetype": "text/x-python",
   "name": "python",
   "nbconvert_exporter": "python",
   "pygments_lexer": "ipython3",
   "version": "3.8.18"
  }
 },
 "nbformat": 4,
 "nbformat_minor": 5
}
