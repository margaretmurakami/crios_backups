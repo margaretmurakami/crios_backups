{
 "cells": [
  {
   "cell_type": "markdown",
   "id": "54d09829-d30b-4ad7-810c-415ce6a57ad1",
   "metadata": {},
   "source": [
    "## Notes  10/22\n",
    "\n",
    "This notebook will be to get the VOLUME budget in TS space.\n",
    "We will use UVEL and VVEL mass at the gates on a sample 2x2 to look at it."
   ]
  },
  {
   "cell_type": "code",
   "execution_count": 3,
   "id": "047d11c5-6e6d-446b-a998-826576524dd9",
   "metadata": {},
   "outputs": [
    {
     "name": "stdout",
     "output_type": "stream",
     "text": [
      "(50,) (50, 1350, 270)\n",
      "hf1 (1350, 270)\n",
      "(1, 1350, 270)\n",
      "LwetC2d 146614\n",
      "LwetC 4833023\n",
      "\n"
     ]
    }
   ],
   "source": [
    "# auto-reload edited modules\n",
    "%load_ext autoreload\n",
    "%autoreload 2\n",
    "\n",
    "import sys, os\n",
    "sys.path.insert(0, \"/home/mmurakami/crios_backups/an_helper_functions\")\n",
    "\n",
    "# run the script into the current kernel (vars/functions become available)\n",
    "%run -i \"/home/mmurakami/crios_backups/an_helper_functions/load_packages.py\""
   ]
  },
  {
   "cell_type": "code",
   "execution_count": 4,
   "id": "a95ca532-1334-4230-adab-575cd9e746b8",
   "metadata": {},
   "outputs": [
    {
     "data": {
      "text/plain": [
       "2678400.0"
      ]
     },
     "execution_count": 4,
     "metadata": {},
     "output_type": "execute_result"
    }
   ],
   "source": [
    "# create an array of the time steps we want to read\n",
    "# use ts2dte to get december 2014\n",
    "# first make an array of filenames\n",
    "dt_aste = 600\n",
    "startyr = 2002\n",
    "endyr = 2019\n",
    "\n",
    "# all the filenames in the system\n",
    "fnames = get_fnames(dt_aste,startyr,endyr)\n",
    "\n",
    "times = {}\n",
    "times[\"2016\"] = np.arange(1,3,1)\n",
    "\n",
    "# the filenames we want for 2014\n",
    "tsstr,datetimes = get_tsteps(times,fnames,dt_aste,startyr,1,1)\n",
    "\n",
    "t2 = int(tsstr[1])    # this is the averages file that we want to read from when we do budgeting\n",
    "\n",
    "dt = datetimes[1]-datetimes[0]   # days\n",
    "dt = dt.total_seconds()\n",
    "dt"
   ]
  },
  {
   "cell_type": "code",
   "execution_count": 5,
   "id": "3fe35c54-a173-4cbe-837b-c78647e09579",
   "metadata": {},
   "outputs": [
    {
     "name": "stdout",
     "output_type": "stream",
     "text": [
      "(2, 2) (2, 2)\n",
      "(2, 2) (2, 2)\n",
      "25 27\n",
      "525 527\n"
     ]
    }
   ],
   "source": [
    "# we will hard code some example box with gates for now\n",
    "xs = np.array([[25,26,27],[25,26,27],[25,26,27]])\n",
    "ys = np.array([[525,525,525],[526,526,526],[527,527,527]])\n",
    "\n",
    "xs = np.array([[25,26],[25,26],[25,26]])\n",
    "ys = np.array([[525,525],[526,526],[527,527]])\n",
    "\n",
    "# 10x10 grid continuing your pattern\n",
    "xs = np.tile(np.arange(25, 35), (10, 1))                 # each row: 25..34\n",
    "ys = np.tile(np.arange(525, 535).reshape(10, 1), (1, 10))  # each col: 525..534\n",
    "\n",
    "xs = np.tile(np.arange(2, 36), (15, 1))                  # shape (15, 34)\n",
    "ys = np.tile(np.arange(520, 535).reshape(15, 1), (1, 34))  # shape (15, 34)\n",
    "\n",
    "xs = np.array([[25,26],[25,26]])\n",
    "ys = np.array([[525,525],[526,526]])\n",
    "xs1d,ys1d = xs.copy(),ys.copy()\n",
    "\n",
    "\n",
    "print(xs.shape, ys.shape)   # (15, 34) (15, 34)\n",
    "\n",
    "print(xs.shape, ys.shape)  # (10, 10) (10, 10)\n",
    "\n",
    "gatei = np.nanmin(xs)\n",
    "gateip1 = np.nanmax(xs)\n",
    "gateip3 = np.nanmax(xs) + 1   # the eastern \"gate\" index for this range,  we take -advx\n",
    "gatej = np.nanmin(ys)\n",
    "gatejp1 = np.nanmin(ys) + 1   # the northern \"gate\" index we take at j+1 for -advy\n",
    "gatejp2 = np.nanmax(ys) +1\n",
    "gatejp2\n",
    "\n",
    "print(gatei,gateip3)\n",
    "print(gatej,gatejp2)\n",
    "x1d = xs.ravel()  # or xs.flatten()\n",
    "y1d = ys.ravel()"
   ]
  },
  {
   "cell_type": "code",
   "execution_count": 6,
   "id": "a712ca0c-dccf-43f6-949e-78ed9036cb39",
   "metadata": {},
   "outputs": [
    {
     "data": {
      "text/plain": [
       "<matplotlib.collections.PathCollection at 0x152d37b8de50>"
      ]
     },
     "execution_count": 6,
     "metadata": {},
     "output_type": "execute_result"
    },
    {
     "data": {
      "image/png": "[encoded data removed]",
      "text/plain": [
       "<Figure size 1000x400 with 1 Axes>"
      ]
     },
     "metadata": {},
     "output_type": "display_data"
    }
   ],
   "source": [
    "plt.pcolormesh(mymsk)\n",
    "plt.scatter(xs,ys)\n",
    "# plt.xlim(23,40)\n",
    "# plt.ylim(520,540)"
   ]
  },
  {
   "cell_type": "code",
   "execution_count": 17,
   "id": "7a22c814-63f8-4dc8-9016-bedd7f683a0d",
   "metadata": {},
   "outputs": [],
   "source": [
    "file_name = 'budg2d_snap_set1'\n",
    "meta_budg2d_snap_set1 = parsemeta(dirIn + file_name + \".\" + tsstr[0] + \".meta\")\n",
    "\n",
    "# try to read this with rec\n",
    "fldlist = np.array(meta_budg2d_snap_set1['fldList'])\n",
    "varnames = np.array(['ETAN','PHIBOT','SIheff','SIhsnow'])\n",
    "recs = np.array([])\n",
    "for var in varnames:\n",
    "    irec = np.where(fldlist == var)\n",
    "    recs = np.append(recs, irec[0][0])\n",
    "\n",
    "ETAN = np.full((len(tsstr),ny,nx),np.nan)\n",
    "PHIBOT = np.full((len(tsstr),ny,nx),np.nan)\n",
    "SIheff = np.full((len(tsstr),ny,nx),np.nan)\n",
    "SIhsnow = np.full((len(tsstr),ny,nx),np.nan)\n",
    "\n",
    "for i in range(len(tsstr)):\n",
    "    thisETAN,its,meta = rdmds(os.path.join(dirIn, file_name),int(tsstr[i]),returnmeta=True,rec=recs[0])\n",
    "    thisETAN = thisETAN.reshape(ny,nx)\n",
    "    ETAN[i] = thisETAN\n",
    "\n",
    "    thisPHIBOT,its,meta = rdmds(os.path.join(dirIn, file_name),int(tsstr[i]),returnmeta=True,rec=recs[1])\n",
    "    thisPHIBOT = thisPHIBOT.reshape(ny,nx)\n",
    "    PHIBOT[i] = thisPHIBOT\n",
    "\n",
    "    thisSIheff,its,meta = rdmds(os.path.join(dirIn, file_name),int(tsstr[i]),returnmeta=True,rec=recs[2])\n",
    "    thisSIheff = thisSIheff.reshape(ny,nx)\n",
    "    SIheff[i] = thisSIheff\n",
    "\n",
    "    thisSIhsnow,its,meta = rdmds(os.path.join(dirIn, file_name),int(tsstr[i]),returnmeta=True,rec=recs[3])\n",
    "    thisSIhsnow = thisSIhsnow.reshape(ny,nx)\n",
    "    SIhsnow[i] = thisSIhsnow\n",
    "\n",
    "# Keep an undifferenced ETAN snapshot for volume (choose the later time, t1)\n",
    "ETAN_t1 = ETAN[1].copy()  # meters\n",
    "\n",
    "# If you still want tendencies (per your snippet), do the dt differencing:\n",
    "dETANdt   = (ETAN[1]   - ETAN[0])   / dt  # m/s\n",
    "dPHIBOTdt = (PHIBOT[1] - PHIBOT[0]) / dt  # m^2/s^3\n",
    "dSIheffdt = (SIheff[1] - SIheff[0]) / dt  # m/s\n",
    "dSIhsnowdt= (SIhsnow[1]- SIhsnow[0]) / dt # m/s\n",
    "\n",
    "# --- 2) r* geometry: build static layer thickness h_k and column thickness H ---\n",
    "# mk3D_mod broadcasts a vector (nz,) to (nz,ny,nx) using the mask-like second arg for shape.\n",
    "# h_k (m) is the static thickness per cell: DRF expanded and masked by hfC.\n",
    "h3 = mk3D_mod(mygrid['DRF'], hfC) * hfC                # (nz,ny,nx), meters\n",
    "H  = np.sum(h3, axis=0)                                # (ny,nx), total water column thickness, meters\n",
    "\n",
    "# --- 3) Instantaneous 3D CELL VOLUME at time t1 under r* ---\n",
    "# V_k = RAC * (h_k + (h_k/H)*eta). Use RAC3 (3D area) if you have it; else tile RAC.\n",
    "eta3 = ETAN_t1[np.newaxis, :, :]                       # (1,ny,nx)\n",
    "frac = h3 / np.where(H==0, np.nan, H)[np.newaxis, :, :]  # (nz,ny,nx), safe divide\n",
    "VOL3D_t1 = RAC3 * (h3 + frac * eta3)                   # (nz,ny,nx), m^3\n",
    "\n",
    "# Optional: If you’d like the column-integrated volume too:\n",
    "VOLcol_t1 = np.nansum(VOL3D_t1, axis=0)                # (ny,nx), m^3\n",
    "\n",
    "# --- 4) Volume tendency (your second snippet), consistent with r* ---\n",
    "# dV/dt per cell: RAC * (h_k/H) * dη/dt\n",
    "dVdt3D = RAC3 * frac * dETANdt[np.newaxis, :, :]       # (nz,ny,nx), m^3/s\n",
    "\n",
    "# (Your earlier variables map as:)\n",
    "# tmp1 = h3\n",
    "# tmp2 = frac\n",
    "# tmptend = dVdt3D"
   ]
  },
  {
   "cell_type": "code",
   "execution_count": 56,
   "id": "ec8cd2d8-5587-455e-bc4e-d1759348e56a",
   "metadata": {},
   "outputs": [],
   "source": [
    "file_name = 'budg2d_snap_set1'\n",
    "meta_budg2d_snap_set1 = parsemeta(dirIn + file_name + \".\" + tsstr[0] + \".meta\")\n",
    "\n",
    "# try to read this with rec\n",
    "fldlist = np.array(meta_budg2d_snap_set1['fldList'])\n",
    "varnames = np.array(['ETAN','PHIBOT','SIheff','SIhsnow'])\n",
    "recs = np.array([])\n",
    "for var in varnames:\n",
    "    irec = np.where(fldlist == var)\n",
    "    recs = np.append(recs, irec[0][0])\n",
    "\n",
    "ETAN = np.full((len(tsstr),ny,nx),np.nan)\n",
    "PHIBOT = np.full((len(tsstr),ny,nx),np.nan)\n",
    "SIheff = np.full((len(tsstr),ny,nx),np.nan)\n",
    "SIhsnow = np.full((len(tsstr),ny,nx),np.nan)\n",
    "\n",
    "for i in range(len(tsstr)):\n",
    "    thisETAN,its,meta = rdmds(os.path.join(dirIn, file_name),int(tsstr[i]),returnmeta=True,rec=recs[0])\n",
    "    thisETAN = thisETAN.reshape(ny,nx)\n",
    "    ETAN[i] = thisETAN\n",
    "\n",
    "    thisPHIBOT,its,meta = rdmds(os.path.join(dirIn, file_name),int(tsstr[i]),returnmeta=True,rec=recs[1])\n",
    "    thisPHIBOT = thisPHIBOT.reshape(ny,nx)\n",
    "    PHIBOT[i] = thisPHIBOT\n",
    "\n",
    "    thisSIheff,its,meta = rdmds(os.path.join(dirIn, file_name),int(tsstr[i]),returnmeta=True,rec=recs[2])\n",
    "    thisSIheff = thisSIheff.reshape(ny,nx)\n",
    "    SIheff[i] = thisSIheff\n",
    "\n",
    "    thisSIhsnow,its,meta = rdmds(os.path.join(dirIn, file_name),int(tsstr[i]),returnmeta=True,rec=recs[3])\n",
    "    thisSIhsnow = thisSIhsnow.reshape(ny,nx)\n",
    "    SIhsnow[i] = thisSIhsnow\n",
    "\n",
    "dETANdt =  (ETAN[1, :, :] - ETAN[0, :, :]) / dt\n",
    "PHIBOT = (PHIBOT[1, :, :] - PHIBOT[0, :, :]) / dt\n",
    "SIheff =  (SIheff[1, :, :] - SIheff[0, :, :]) / dt\n",
    "SIhsnow = (SIhsnow[1, :, :] - SIhsnow[0, :, :]) / dt\n",
    "\n",
    "# 3D, with rStar:\n",
    "# mk3D_mod function should be called here but I might be doing it wrong\n",
    "tmptend = np.zeros((nz, ny, nx))\n",
    "if myparms['useNLFS'] < 2 or myparms['rStar'] == 0:        # not this time\n",
    "    tmptend[0,:, :] = ETAN * myparms['rhoconst'] * RAC     # m/s * kg/m^3 * m  = kg/s\n",
    "    if myparms['useRFWF'] == 0:\n",
    "        tmptend[0, :, :] = np.zeros((ny, nx))\n",
    "else:\n",
    "    if myparms['useRFWF'] != 0:                                 # we are using this  # check if tmp1 is the same as drf3d!!\n",
    "        tmp1 = mk3D_mod(mygrid['DRF'],hfC) * hfC           # m\n",
    "        tmp2 = tmp1/mk3D_mod(DD,tmp1)                      # m/m\n",
    "    else:\n",
    "        tmp2 = drf3d / mk3D_mod(DD, tmp1)\n",
    "        \n",
    "    tmptend = tmp2 * np.tile(dETANdt[np.newaxis,:,:],(nz,1,1)) * RAC3  # m/s * m^2 = m^3/s\n",
    "\n",
    "vol0 = tmp2 * np.tile(ETAN[0][np.newaxis,:,:],(nz,1,1)) * RAC3\n",
    "vol1 = tmp2 * np.tile(ETAN[1][np.newaxis,:,:],(nz,1,1)) * RAC3\n",
    "\n",
    "budgO = {}\n",
    "budgO = {'fluxes': {'tend': tmptend}}\n",
    "budgO['tend'] = np.nansum(tmptend,axis=0)\n",
    "budgI = {'tend': (SIheff * myparms['rhoi'] + SIhsnow * myparms['rhosn'] * RAC)}"
   ]
  },
  {
   "cell_type": "code",
   "execution_count": 57,
   "id": "ea7974c0-3944-4876-81db-73e39e8c2e46",
   "metadata": {},
   "outputs": [],
   "source": [
    "# read U and V mass\n",
    "meta_budg3d_hflux_set2= parsemeta(dirIn + \"budg3d_hflux_set2\" + '.' + tsstr[1] + '.meta')\n",
    "fldlist = np.array(meta_budg3d_hflux_set2['fldList'])\n",
    "varnames = np.array(['UVELMASS','VVELMASS'])\n",
    "recs = np.array([])\n",
    "for var in varnames:\n",
    "    irec = np.where(fldlist == var)\n",
    "    recs = np.append(recs, irec[0][0])\n",
    "UVELMASS,its,meta = rdmds(dirIn + \"budg3d_hflux_set2\", int(tsstr[1]),returnmeta=True,rec = recs[0])       # m/s\n",
    "VVELMASS,its,meta = rdmds(dirIn + \"budg3d_hflux_set2\", int(tsstr[1]),returnmeta=True,rec = recs[1])       # m/s\n",
    "\n",
    "# read advective\n",
    "meta_budg2d_hflux_set1= parsemeta(dirIn + \"budg2d_hflux_set1\" + '.' + tsstr[1] + '.meta')\n",
    "fldlist = np.array(meta_budg2d_hflux_set1['fldList'])\n",
    "varnames = np.array(['ADVxHEFF','ADVyHEFF','ADVxSNOW','ADVySNOW'])\n",
    "recs = np.array([])\n",
    "for var in varnames:\n",
    "    irec = np.where(fldlist == var)\n",
    "    recs = np.append(recs, irec[0][0])\n",
    "ADVxHEFF,its,meta = rdmds(dirIn + \"budg2d_hflux_set1\", int(tsstr[1]),returnmeta=True,rec = recs[0])       # m.m^2/s    ice \n",
    "ADVyHEFF,its,meta = rdmds(dirIn + \"budg2d_hflux_set1\", int(tsstr[1]),returnmeta=True,rec = recs[1])       # m.m^2/s    ice \n",
    "ADVxSNOW,its,meta = rdmds(dirIn + \"budg2d_hflux_set1\", int(tsstr[1]),returnmeta=True,rec = recs[2])       # m.m^2/s    snow\n",
    "ADVySNOW,its,meta = rdmds(dirIn + \"budg2d_hflux_set1\", int(tsstr[1]),returnmeta=True,rec = recs[3])"
   ]
  },
  {
   "cell_type": "code",
   "execution_count": 58,
   "id": "76cb0cf3-96f6-4400-b762-7e1df5376545",
   "metadata": {},
   "outputs": [],
   "source": [
    "UVELMASS = UVELMASS.reshape(nz,ny,nx)\n",
    "VVELMASS = VVELMASS.reshape(nz,ny,nx)\n",
    "ADVxHEFF = ADVxHEFF.reshape(ny,nx)\n",
    "ADVyHEFF = ADVyHEFF.reshape(ny,nx)\n",
    "ADVxSNOW = ADVxSNOW.reshape(ny,nx)\n",
    "ADVySNOW = ADVySNOW.reshape(ny,nx)"
   ]
  },
  {
   "cell_type": "code",
   "execution_count": 59,
   "id": "3e6d9a0e-6289-465c-9e95-56f5bedec415",
   "metadata": {},
   "outputs": [],
   "source": [
    "UTRANSP = dyg3d * drf3d * UVELMASS    # m/s * m * m = m^3/s\n",
    "VTRANSP = dxg3d * drf3d * VVELMASS    # m/s * m * m = m^3/s"
   ]
  },
  {
   "cell_type": "markdown",
   "id": "83709bc2-2ccf-44e9-90c1-52f0a3a1ef8a",
   "metadata": {},
   "source": [
    "## We have now loaded the overall dVdt and the U and V transport"
   ]
  },
  {
   "cell_type": "code",
   "execution_count": 60,
   "id": "4712adaf-1ca8-44c8-b12e-e6e1bcd327b1",
   "metadata": {},
   "outputs": [],
   "source": [
    "# rewrite with only reading in these lines, be sure to compare\n",
    "meta_budg2d_zflux_set1= parsemeta(dirIn + \"budg2d_zflux_set1\" + '.' + tsstr[1] + '.meta')\n",
    "fldlist = np.array(meta_budg2d_zflux_set1['fldList'])\n",
    "varnames = np.array(['oceFWflx','SIatmFW'])\n",
    "recs = np.array([])\n",
    "for var in varnames:\n",
    "    irec = np.where(fldlist == var)\n",
    "    recs = np.append(recs, irec[0][0])\n",
    "# net surface Fresh-Water flux into the ocean (+=down), >0 decreases salinity\n",
    "oceFWflx,its,meta = rdmds(dirIn + \"budg2d_zflux_set1\", int(tsstr[1]),returnmeta=True,rec = recs[0])\n",
    "# Net freshwater flux from atmosphere & land (+=down)\n",
    "SIatmFW,its,meta = rdmds(dirIn + \"budg2d_zflux_set1\", int(tsstr[1]),returnmeta=True,rec = recs[1])\n",
    "\n",
    "oceFWflx = oceFWflx.reshape(ny,nx)                     # kg/m^2/s\n",
    "SIatmFW = SIatmFW.reshape(ny,nx)                       # kg/m^2/s\n",
    "\n",
    "# --- convert to volume flux (m^3/s) into the ocean ---\n",
    "oceFWflx /= myparms['rhoconstFresh']  * RAC  # m^3/s\n",
    "SIatmFW /= myparms['rhoconstFresh']  * RAC   # m^3/s\n",
    "\n",
    "\n",
    "# read WVELMASS\n",
    "# meta_budg3d_zflux_set2= parsemeta(dirIn + \"budg3d_zflux_set2\" + '.' + tsstr[1] + '.meta')\n",
    "# fldlist = np.array(meta_budg3d_zflux_set2['fldList'])\n",
    "# varnames = np.array(['WVELMASS'])\n",
    "# recs = np.array([])\n",
    "# for var in varnames:\n",
    "#     irec = np.where(fldlist == var)\n",
    "#     recs = np.append(recs, irec[0][0])\n",
    "# # Vertical Mass-Weighted Comp of Velocity\n",
    "# WVELMASS,its,meta = rdmds(dirIn + \"budg3d_zflux_set2\", int(tsstr[1]),returnmeta=True,rec = recs[0])\n",
    "# WVELMASS = WVELMASS.reshape(nz,ny,nx)                        # m/s\n",
    "\n",
    "# a note: I don't think we will need to load the WVELMASS if we're doing just the gates"
   ]
  },
  {
   "cell_type": "code",
   "execution_count": 61,
   "id": "a03b73f0-d890-47b4-b62f-7bd965f5f44a",
   "metadata": {},
   "outputs": [
    {
     "name": "stdout",
     "output_type": "stream",
     "text": [
      "doing TS binning\n"
     ]
    }
   ],
   "source": [
    "# load the T and S so we can look at the overall salt tend of the little box\n",
    "\n",
    "# let's load the Tbins and the Sbins for these columns\n",
    "# set for all months\n",
    "vol = np.zeros((len(tsstr),nz, ny, nx))\n",
    "#print(\"volume allocation shape\",vol.shape)\n",
    "\n",
    "for t in range(len(tsstr)):\n",
    "    tmpvol = np.tile(mygrid['DXG'][np.newaxis,:,:],(50,1,1)) * np.tile(mygrid['DYG'][np.newaxis,:,:],(50,1,1)) * DRF3d\n",
    "\n",
    "    vol[t,:,:,:] = tmpvol * np.tile(mymsk, (nz, 1, 1))\n",
    "#######\n",
    "print(\"doing TS binning\")\n",
    "# read theta and salt averages from the t2 timestep (average)\n",
    "file_name = \"state_3d_set1\"\n",
    "meta_budg3d_kpptend_set1 = parsemeta(dirState + file_name + \".\" + tsstr[0] + \".meta\")\n",
    "fldlist = np.array(meta_budg3d_kpptend_set1[\"fldList\"])\n",
    "varnames = np.array([\"THETA\",\"SALT\"])\n",
    "recs = np.array([])\n",
    "for var in varnames:\n",
    "    irec = np.where(fldlist == var)\n",
    "    recs = np.append(recs, irec[0][0])\n",
    "THETA,its,meta = rdmds(os.path.join(dirState, file_name),t2,returnmeta=True,rec=recs[0])\n",
    "SALT,its,meta = rdmds(os.path.join(dirState, file_name),t2,returnmeta=True,rec=recs[1])\n",
    "\n",
    "THETA = THETA.reshape(nz,ny,nx) * np.tile(mymsk[np.newaxis,:,:],(nz,1,1))\n",
    "SALT = SALT.reshape(nz,ny,nx) * np.tile(mymsk[np.newaxis,:,:],(nz,1,1))\n",
    "\n",
    "# create the bins of TS data\n",
    "n_bins = 112\n",
    "\n",
    "T_min, T_max = -2.0, 15.0\n",
    "S_min, S_max = 28.0, 37.0\n",
    "\n",
    "# T_min, T_max = -2.0, 115.0\n",
    "# S_min, S_max = 20.0, 45.0\n",
    "\n",
    "# edges and centers\n",
    "binsTH_edges   = np.linspace(T_min, T_max, n_bins + 1)\n",
    "binsSLT_edges  = np.linspace(S_min, S_max, n_bins + 1)\n",
    "binsTH_centers = 0.5 * (binsTH_edges[:-1]  + binsTH_edges[1:])\n",
    "binsSLT_centers= 0.5 * (binsSLT_edges[:-1] + binsSLT_edges[1:])\n",
    "\n",
    "nT = nS = n_bins\n",
    "\n",
    "# 2D bin grids\n",
    "Tbin,     Sbin     = np.meshgrid(binsTH_edges,  binsSLT_edges)\n",
    "Tbincent, Sbincent = np.meshgrid(binsTH_centers, binsSLT_centers)\n",
    "\n",
    "# bin widths and reshaped versions (match downstream shape)\n",
    "binwidthT = np.diff(binsTH_edges)\n",
    "binwidthS = np.diff(binsSLT_edges)\n",
    "dT, dS = np.meshgrid(binwidthT, binwidthS)\n",
    "dT = dT.reshape(n_bins, n_bins, 1)\n",
    "dS = dS.reshape(n_bins, n_bins, 1)\n",
    "\n",
    "# bin theta and salt\n",
    "binned_theta = bin_array(THETA, binsTH_edges).astype(float)\n",
    "binned_theta[binned_theta == nT] = np.nan  # handle right-edge assignment\n",
    "\n",
    "binned_salinity = bin_array(SALT, binsSLT_edges).astype(float)\n",
    "binned_salinity[binned_salinity == nS] = np.nan"
   ]
  },
  {
   "cell_type": "code",
   "execution_count": 62,
   "id": "62b1f1ff-60a7-4fbb-83ea-f757c51de912",
   "metadata": {},
   "outputs": [
    {
     "data": {
      "text/plain": [
       "(50, 1350, 270)"
      ]
     },
     "execution_count": 62,
     "metadata": {},
     "output_type": "execute_result"
    }
   ],
   "source": [
    "hfC.shape"
   ]
  },
  {
   "cell_type": "code",
   "execution_count": 63,
   "id": "8ddc59bf-c14e-49e0-a9dc-e439673f924e",
   "metadata": {},
   "outputs": [],
   "source": [
    "# plot the TS distribution of the salt tend\n",
    "\n",
    "tend_S = np.zeros((nS,nT))\n",
    "\n",
    "for i,j in zip(x1d,y1d):\n",
    "    \n",
    "    nzna = len(hfC[:,j,i][~np.isnan(hfC[:,j,i])])\n",
    "    for k in range(nzna):\n",
    "        mytendtmp = budgO['fluxes']['tend'][k,j,i]  # m^3/s\n",
    "        \n",
    "        iTpt = int(binned_theta[k, j, i])\n",
    "        iSpt = int(binned_salinity[k, j, i])\n",
    "        \n",
    "        tend_S[iSpt,iTpt] += mytendtmp / binwidthT[iTpt] / binwidthS[iSpt] * 1e-6   # Sv"
   ]
  },
  {
   "cell_type": "code",
   "execution_count": 64,
   "id": "46d39193-12b3-4631-94c7-89a18e394716",
   "metadata": {},
   "outputs": [
    {
     "data": {
      "text/plain": [
       "<matplotlib.colorbar.Colorbar at 0x152ce8e48dc0>"
      ]
     },
     "execution_count": 64,
     "metadata": {},
     "output_type": "execute_result"
    },
    {
     "data": {
      "image/png": "[encoded data removed]",
      "text/plain": [
       "<Figure size 200x200 with 2 Axes>"
      ]
     },
     "metadata": {},
     "output_type": "display_data"
    }
   ],
   "source": [
    "fig = plt.figure(figsize = (2,2))\n",
    "\n",
    "ax = plt.subplot(111)\n",
    "cb = ax.pcolormesh(Sbin,Tbin,tend_S,cmap='seismic',vmin=-.001,vmax=0.001)\n",
    "ax.set_xlim(34.5,35)\n",
    "ax.set_ylim(2.5,4)\n",
    "plt.colorbar(cb,label=\"Sv/degC/PSU\")"
   ]
  },
  {
   "cell_type": "code",
   "execution_count": 69,
   "id": "073aa1ce-8367-4da0-8501-30ce179e2e4b",
   "metadata": {},
   "outputs": [],
   "source": [
    "# try to grab the gateway terms from UVEL and VVELMASS\n",
    "# copy the UVEL and VVEL calculation and grabbing of the gates here\n",
    "\n",
    "# create the volume and bin this\n",
    "DXG3d = np.tile(mygrid['DXG'][np.newaxis,:,:],(nz,1,1))\n",
    "DYG3d = np.tile(mygrid['DYG'][np.newaxis,:,:],(nz,1,1))\n",
    "\n",
    "# grab the UVEL and VVEL for this timestep\n",
    "file_name = \"budg3d_hflux_set2\"\n",
    "meta_budg3d_hflux_set2 = parsemeta(dirIn + file_name + \".\" + tsstr[0] + \".meta\")\n",
    "fldlist = np.array(meta_budg3d_hflux_set2[\"fldList\"])\n",
    "varnames = np.array([\"UVELMASS\",\"VVELMASS\"])\n",
    "recs = np.array([])\n",
    "for var in varnames:\n",
    "    irec = np.where(fldlist == var)\n",
    "    recs = np.append(recs, irec[0][0])\n",
    "UVELMASS,its,meta = rdmds(os.path.join(dirIn, file_name),t2,returnmeta=True,rec=recs[0])\n",
    "VVELMASS,its,meta = rdmds(os.path.join(dirIn, file_name),t2,returnmeta=True,rec=recs[1])  # m/s\n",
    "UVELMASS = UVELMASS.reshape(nz,ny,nx)\n",
    "VVELMASS = VVELMASS.reshape(nz,ny,nx)"
   ]
  },
  {
   "cell_type": "code",
   "execution_count": 70,
   "id": "a43cd7f2-14ae-4082-ba66-11d931debaf0",
   "metadata": {},
   "outputs": [
    {
     "name": "stdout",
     "output_type": "stream",
     "text": [
      "[25 25] [525 526]\n",
      "[25 26] [525 525]\n",
      "[27 27] [525 526]\n",
      "[25 26] [527 527]\n"
     ]
    }
   ],
   "source": [
    "\n",
    "# unique coords in order (assumes a rectilinear block)\n",
    "x_vals = xs[0, :]          # [25, 26, 27]\n",
    "y_vals = ys[:, 0]          # [525, 526, 527]\n",
    "\n",
    "# infer spacing (fallback 1 if single cell)\n",
    "dxs = np.unique(np.diff(x_vals))\n",
    "dys = np.unique(np.diff(y_vals))\n",
    "dx = dxs[0] if dxs.size else 1\n",
    "dy = dys[0] if dys.size else 1\n",
    "\n",
    "i_min, i_max = x_vals[0], x_vals[-1]\n",
    "j_min, j_max = y_vals[0], y_vals[-1]\n",
    "\n",
    "# gates (faces just outside the patch on right/top)\n",
    "leftx  = np.full_like(y_vals, i_min)\n",
    "lefty  = y_vals.copy()\n",
    "\n",
    "rightx = np.full_like(y_vals, i_max + dx)\n",
    "righty = y_vals.copy()\n",
    "\n",
    "botx   = x_vals.copy()\n",
    "boty   = np.full_like(x_vals, j_min)\n",
    "\n",
    "topx   = x_vals.copy()\n",
    "topy   = np.full_like(x_vals, j_max + dy)\n",
    "\n",
    "print(leftx, lefty)\n",
    "print(botx, boty)\n",
    "print(rightx, righty)\n",
    "print(topx, topy)"
   ]
  },
  {
   "cell_type": "code",
   "execution_count": 72,
   "id": "5980cadd-dab8-4db3-8e69-9cdc737cc0ea",
   "metadata": {},
   "outputs": [],
   "source": [
    "# this is where we try to put the salt terms into a TS mesh\n",
    "# we need to go through the ADV points in each gate and add them to the TS bin at that point\n",
    "binwidthTconst = np.nanmax(binwidthT)\n",
    "binwidthSconst = np.nanmax(binwidthS)\n",
    "norm = (binwidthTconst * binwidthSconst * myparms['rhoconst'])\n",
    "\n",
    "J_gates = np.zeros((4,nS,nT))\n",
    "\n",
    "#########################################################################################################################\n",
    "for j,i in zip(lefty,leftx):\n",
    "    # based on the direction, grab from ADV_gates at the correct index\n",
    "    col = UVELMASS[:,j,i]\n",
    "\n",
    "    nzc = len(binned_theta[:,j,i][~np.isnan(binned_theta[:,j,i])])\n",
    "    for kc in range(nzc):\n",
    "        # get the T and S bin for that item\n",
    "        iTpt = int(binned_theta[kc,j,i])\n",
    "        iSpt = int(binned_salinity[kc,j,i])\n",
    "        J_gates[0,iSpt,iTpt] += (col[kc]) * DYG3d[kc,j,i] * DRF3d[kc,j,i]  / binwidthTconst  / binwidthSconst #m^3.PSU/s -- g/s -- \n",
    "\n",
    "\n",
    "#########################################################################################################################\n",
    "# do this for SFJ\n",
    "for j,i in zip(boty,botx):\n",
    "    # based on the direction, grab from ADV_gates at the correct index\n",
    "    col = VVELMASS[:,j,i]\n",
    "    nzc = len(binned_theta[:,j,i][~np.isnan(binned_theta[:,j,i])])\n",
    "    for kc in range(nzc):\n",
    "        # get the T and S bin for that item\n",
    "        iTpt = int(binned_theta[kc,j,i])\n",
    "        iSpt = int(binned_salinity[kc,j,i])\n",
    "        J_gates[1,iSpt,iTpt] += (col[kc]) * DYG3d[kc,j,i] * DRF3d[kc,j,i] / binwidthTconst / binwidthSconst\n",
    "\n",
    "#########################################################################################################################\n",
    "# same for FJNZ\n",
    "for j,i in zip(righty,rightx):\n",
    "    # based on the direction, grab from ADV_gates at the correct index\n",
    "    col = -UVELMASS[:,j,i]\n",
    "    nzc = len(binned_theta[:,j,i][~np.isnan(binned_theta[:,j,i])])\n",
    "    for kc in range(nzc):\n",
    "        # get the T and S bin for that item\n",
    "        iTpt = int(binned_theta[kc,j,i-1])\n",
    "        iSpt = int(binned_salinity[kc,j,i-1])\n",
    "        J_gates[2,iSpt,iTpt] += (col[kc]) * DYG3d[kc,j,i] * DRF3d[kc,j,i] / binwidthTconst / binwidthSconst\n",
    "\n",
    "#########################################################################################################################\n",
    "# same again for NZRU\n",
    "for j,i in zip(topy,topx):\n",
    "    # based on the direction, grab from ADV_gates at the correct index\n",
    "    col = -VVELMASS[:,j,i]\n",
    "    nzc = len(binned_theta[:,j,i][~np.isnan(binned_theta[:,j,i])])\n",
    "    for kc in range(nzc):\n",
    "        # get the T and S bin for that item\n",
    "        iTpt = int(binned_theta[kc,j-1,i])\n",
    "        iSpt = int(binned_salinity[kc,j-1,i])\n",
    "        J_gates[3,iSpt,iTpt] += (col[kc]) * DYG3d[kc,j,i] * DRF3d[kc,j,i] / binwidthTconst / binwidthSconst\n",
    "\n",
    "\n",
    "#############################################################################################################################\n",
    "J_gates *= 1e-6  # Sv"
   ]
  },
  {
   "cell_type": "code",
   "execution_count": 78,
   "id": "f7351d59-4a23-4be8-a3d7-015d3143c033",
   "metadata": {},
   "outputs": [
    {
     "data": {
      "text/plain": [
       "<matplotlib.colorbar.Colorbar at 0x152ce5c49ee0>"
      ]
     },
     "execution_count": 78,
     "metadata": {},
     "output_type": "execute_result"
    },
    {
     "data": {
      "image/png": "[encoded data removed]",
      "text/plain": [
       "<Figure size 200x200 with 2 Axes>"
      ]
     },
     "metadata": {},
     "output_type": "display_data"
    }
   ],
   "source": [
    "fig = plt.figure(figsize = (2,2))\n",
    "\n",
    "ax = plt.subplot(111)\n",
    "cb = ax.pcolormesh(Sbin,Tbin,np.nansum(J_gates,axis=0),cmap='seismic',vmin=-5,vmax=5)\n",
    "ax.set_xlim(34.5,35)\n",
    "ax.set_ylim(2.5,4)\n",
    "plt.colorbar(cb,label=\"Sv/degC/PSU\")"
   ]
  },
  {
   "cell_type": "code",
   "execution_count": null,
   "id": "737e7f62-62eb-4ab9-90d6-c649e4449b14",
   "metadata": {},
   "outputs": [],
   "source": []
  }
 ],
 "metadata": {
  "kernelspec": {
   "display_name": "py38",
   "language": "python",
   "name": "py38"
  },
  "language_info": {
   "codemirror_mode": {
    "name": "ipython",
    "version": 3
   },
   "file_extension": ".py",
   "mimetype": "text/x-python",
   "name": "python",
   "nbconvert_exporter": "python",
   "pygments_lexer": "ipython3",
   "version": "3.8.18"
  }
 },
 "nbformat": 4,
 "nbformat_minor": 5
}
