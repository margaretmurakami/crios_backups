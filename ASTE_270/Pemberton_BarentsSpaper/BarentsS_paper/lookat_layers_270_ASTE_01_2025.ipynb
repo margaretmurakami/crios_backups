{
 "cells": [
  {
   "cell_type": "markdown",
   "id": "8cd170ab-6f71-4ea5-ab77-2815e837c1ff",
   "metadata": {},
   "source": [
    "# Introduction and purpose of this file\n",
    "\n",
    "The point of this is to remodify lookat_layers_270 with the new ASTE run sent from An:\n",
    "- forward run: run_c68v_adxOFF_20022023_capxxN50_it0062_pk0000000007_bro\n",
    "- year 2007 with the layers diagnostics: run_c68v_layers_lessmem1_adxOFF_Jan2007_capxxN50_it0062_pk0000262944_bro\n",
    "\n",
    "We will try to compare them here and see if we get the same thing"
   ]
  },
  {
   "cell_type": "markdown",
   "id": "c947507e-16b7-45f2-b6c8-b3a33e7fcfed",
   "metadata": {},
   "source": [
    "# Import the files and functions for run 1"
   ]
  },
  {
   "cell_type": "code",
   "execution_count": 1,
   "id": "8f779806-ca0a-4d16-95b1-1938b5ef5847",
   "metadata": {},
   "outputs": [],
   "source": [
    "import numpy as np\n",
    "import sys\n",
    "import matplotlib.pyplot as plt\n",
    "import pandas as pd\n",
    "import xarray as xr\n",
    "import h5py\n",
    "from scipy.io import loadmat\n",
    "import matplotlib as mpl\n",
    "import time\n",
    "import gsw\n",
    "from matplotlib.colors import TwoSlopeNorm\n",
    "import gzip\n",
    "\n",
    "# import existing python files\n",
    "plt.rcParams['figure.figsize'] = (10,4)\n",
    "\n",
    "# add rdmds reading functions to path\n",
    "sys.path.append(\"/home/mmurakami/MITgcm/MITgcm_c68r/MITgcm-checkpoint68r/utils/python/MITgcmutils/MITgcmutils/\") # go to parent dir\n",
    "from mds import *\n",
    "\n",
    "# add the other files\n",
    "sys.path.append(\"/home/mmurakami/crios_backups/an_helper_functions\")\n",
    "from read_binary import *\n",
    "from calc_UV_conv_1face import calc_UV_conv_1face\n",
    "from calc_mskmean_T_mod import calc_mskmean_T_mod\n",
    "from mk3D_mod import mk3D_mod\n",
    "from aste_helper_funcs import *\n",
    "from timing_functions import *           # ts2dte, get_fnames, etc.\n",
    "from binning import *                    # bin_array, create_mesh\n",
    "\n",
    "# ignore memory warnings\n",
    "import warnings\n",
    "warnings.filterwarnings('ignore')"
   ]
  },
  {
   "cell_type": "code",
   "execution_count": 2,
   "id": "275517c7-8948-45e2-9033-88ac066f1249",
   "metadata": {},
   "outputs": [
    {
     "name": "stdout",
     "output_type": "stream",
     "text": [
      "(50,) (50, 1350, 270)\n",
      "hf1 (1350, 270)\n",
      "(1, 1350, 270)\n",
      "LwetC2d 146614\n",
      "LwetC 4833023\n",
      "\n"
     ]
    }
   ],
   "source": [
    "sys.path.append(\"/home/mmurakami/crios_backups/an_helper_functions\")\n",
    "from get_Jterms import *  # this will also set up the grid should be"
   ]
  },
  {
   "cell_type": "code",
   "execution_count": 33,
   "id": "b336c0b3-3f2e-4d4e-bfb6-b5c1950748cb",
   "metadata": {},
   "outputs": [],
   "source": [
    "forward_path = \"/scratch3/atnguyen/aste_270x450x180/run_c68v_adxOFF_20022023_capxxN50_it0062_pk0000000007_bro/\"\n",
    "layers_path = \"/scratch3/atnguyen/aste_270x450x180/run_c68v_layers_lessmem1_adxOFF_Jan2007_capxxN50_it0062_pk0000262944_bro/\"\n",
    "imgpath = \"/home/mmurakami/crios_backups/ASTE_270/Pemberton_BarentsSpaper/BarentsS_paper/figs/\"\n",
    "dirdiags = \"/scratch3/atnguyen/aste_270x450x180/run_c68v_layers_lessmem1_adxOFF_Jan2007_capxxN50_it0062_pk0000262944_bro/diags/LAYERS_Cwet/\"\n",
    "dirrun = \"/scratch3/atnguyen/aste_270x450x180/run_c68v_layers_lessmem1_adxOFF_Jan2007_capxxN50_it0062_pk0000262944_bro/\"\n",
    "dirState = \"/scratch3/atnguyen/aste_270x450x180/run_c68v_layers_lessmem1_adxOFF_Jan2007_capxxN50_it0062_pk0000262944_bro/diags/STATE/\""
   ]
  },
  {
   "cell_type": "code",
   "execution_count": 199,
   "id": "fa4b4674-8adc-4561-9dd2-6a7d0e62d2af",
   "metadata": {},
   "outputs": [
    {
     "data": {
      "text/plain": [
       "1"
      ]
     },
     "execution_count": 199,
     "metadata": {},
     "output_type": "execute_result"
    }
   ],
   "source": [
    "# get the timesteps for the year 2007\n",
    "# ocean and ice\n",
    "AB_gT=0\n",
    "AB_gS=0\n",
    "\n",
    "# define the years of this that we want to read from\n",
    "# create an array of the time steps we want to read\n",
    "# use ts2dte to get december 2014\n",
    "# first make an array of filenames\n",
    "dt_aste = 600\n",
    "startyr = 2002\n",
    "endyr = 2019\n",
    "\n",
    "# all the filenames in the system\n",
    "fnames = get_fnames(dt_aste,startyr,endyr)\n",
    "\n",
    "times = {}\n",
    "# times[\"2007\"] = np.arange(1,13,1)\n",
    "# times[\"2008\"] = np.array([1])\n",
    "# times[\"2007\"] = np.arange(11,13,1)\n",
    "times[\"2008\"] = np.arange(1,3,1)\n",
    "\n",
    "# the filenames we want for 2014\n",
    "tsstr,datetimes = get_tsteps(times,fnames,dt_aste,startyr,1,1)\n",
    "\n",
    "t2 = int(tsstr[1])    # this is the averages file that we want to read from when we do budgeting\n",
    "\n",
    "\n",
    "dt = datetimes[1]-datetimes[0]   # days\n",
    "dt = dt.total_seconds()\n",
    "\n",
    "tsteps = len(datetimes)-1\n",
    "tsteps"
   ]
  },
  {
   "cell_type": "code",
   "execution_count": 200,
   "id": "0d7510f2-cd1b-4b73-9e10-0e753b40dbc7",
   "metadata": {},
   "outputs": [
    {
     "data": {
      "text/plain": [
       "'0000315504'"
      ]
     },
     "execution_count": 200,
     "metadata": {},
     "output_type": "execute_result"
    }
   ],
   "source": [
    "names[-1]"
   ]
  },
  {
   "cell_type": "code",
   "execution_count": 201,
   "id": "070399f6-6dea-49e0-b7e1-d99bef76c6f5",
   "metadata": {},
   "outputs": [
    {
     "data": {
      "text/plain": [
       "array(['0000315504', '0000319968'], dtype='<U32')"
      ]
     },
     "execution_count": 201,
     "metadata": {},
     "output_type": "execute_result"
    }
   ],
   "source": [
    "tsstr"
   ]
  },
  {
   "cell_type": "code",
   "execution_count": 202,
   "id": "b01c51c4-b343-4e23-960e-223cbd4c3ac9",
   "metadata": {},
   "outputs": [],
   "source": [
    "# set up the mask - we can try and use the Barents Sea mask here but not sure\n",
    "data = np.load('masks_BS.npz')\n",
    "\n",
    "# Access the saved masks\n",
    "mask_south = data['mask_south']  # mask for heating and freshening (southern region)\n",
    "mask_north = data['mask_north']  # mask for heating and salting (northern region)\n",
    "mask_north_subsect = data['mask_north_subsect']  # mask for maximum location of change for heating and salting\n",
    "mask_BS = data['mask_BS']\n",
    "\n",
    "mask_south[mask_south == 0] = np.nan\n",
    "mask_north[mask_north == 0] = np.nan\n",
    "mask_north_subsect[mask_north_subsect == 0] = np.nan\n",
    "mask_BS[mask_BS == 0] = np.nan\n",
    "\n",
    "# set mymsk for the run below\n",
    "mymsk = mask_BS\n",
    "iB = 6\n",
    "titlestr = \"BarentsS\""
   ]
  },
  {
   "cell_type": "markdown",
   "id": "b2ce1cc3-5e38-4fad-bee9-c661dd29325e",
   "metadata": {},
   "source": [
    "### Do the budgeting and get the J terms"
   ]
  },
  {
   "cell_type": "code",
   "execution_count": 203,
   "id": "abb34850-c001-4ce4-82ef-586d30c0ae80",
   "metadata": {},
   "outputs": [],
   "source": [
    "# we will use the bins from the An run so that we have the same thing in both sections\n",
    "# Paths for the bins in this run\n",
    "copypath = \"/scratch/mmurakami/ASTE_270/LAYERS_copies/\"\n",
    "filename = \"layers2TH\"\n",
    "boundsT = rdmds(copypath + filename)\n",
    "binsTH_edges = boundsT.reshape(boundsT.shape[0])\n",
    "binsTH_centers = (binsTH_edges[:-1] + binsTH_edges[1:])/2\n",
    "nT = binsTH_edges.shape[0]-1\n",
    "# boundsT\n",
    "\n",
    "filename = \"layers1SLT\"\n",
    "boundsS = rdmds(copypath + filename)\n",
    "binsSLT_edges = boundsS.reshape(boundsS.shape[0])\n",
    "binsSLT_centers = (binsSLT_edges[:-1] + binsSLT_edges[1:])/2\n",
    "nS = binsSLT_edges.shape[0]-1\n",
    "# boundsS\n",
    "\n",
    "binwidthT = binsTH_edges[1:] - binsTH_edges[:-1]\n",
    "binwidthS = binsSLT_edges[1:] - binsSLT_edges[:-1]\n",
    "dT,dS = np.meshgrid(binwidthT,binwidthS)\n",
    "dT = dT.reshape(112,112,1)\n",
    "dS = dS.reshape(112,112,1)\n",
    "\n",
    "Tbin,Sbin = np.meshgrid(binsTH_edges,binsSLT_edges)\n",
    "Tbincent,Sbincent = np.meshgrid(binsTH_centers,binsSLT_centers)"
   ]
  },
  {
   "cell_type": "code",
   "execution_count": 204,
   "id": "aaf82f2b-9c0c-47b0-b0d1-963946d4d3c7",
   "metadata": {},
   "outputs": [],
   "source": [
    "# set a larger array for one year of the terms\n",
    "nS,nT = 112,112\n",
    "vol_mesh_all = np.zeros((tsteps,nS,nT))\n",
    "JtermsT_all = np.zeros((tsteps,5,nS,nT))  # recall this is in the format tend, adv, df, kpp, and surface\n",
    "JtermsS_all = np.zeros((tsteps,5,nS,nT))\n",
    "JtermsT_nn_all = np.zeros((tsteps,5,nS,nT))\n",
    "JtermsS_nn_all = np.zeros((tsteps,5,nS,nT))"
   ]
  },
  {
   "cell_type": "code",
   "execution_count": 205,
   "id": "1546d23a-b589-41e6-b1d8-b5d78fb007a6",
   "metadata": {},
   "outputs": [],
   "source": [
    "# reset the mean volume based on the terms\n",
    "JtermsT = np.nanmean(JtermsT_all,axis=0)\n",
    "JtermsS = np.nanmean(JtermsS_all,axis=0)\n",
    "vol_mesh = np.nanmean(vol_mesh_all,axis=0)\n",
    "JtermsS_nn = np.nanmean(JtermsS_nn_all,axis=0)\n",
    "JtermsT_nn = np.nanmean(JtermsT_nn_all,axis=0)"
   ]
  },
  {
   "cell_type": "code",
   "execution_count": 206,
   "id": "bc111fd3-e15d-46a1-acbf-e4e535be2b68",
   "metadata": {},
   "outputs": [
    {
     "name": "stdout",
     "output_type": "stream",
     "text": [
      "2008-01-01 00:00:00\n",
      "doing salt budget\n",
      "doing heat budget\n",
      "2\n",
      "doing volume\n",
      "doing TS binning\n",
      "creating the J terms now\n",
      "doing JtermsT\n",
      "total residual -1.679657497380022e-11 Sv/PSU\n",
      "doing JtermsS\n",
      "total residual -0.0381585122285505 Sv/degC\n",
      "doing not normalized J terms\n",
      "total residual -1.679657497380022e-11 Sv\n",
      "total residual -0.0381585122285505 Sv\n"
     ]
    }
   ],
   "source": [
    "for i in range(len(datetimes)-1):\n",
    "    print(datetimes[i])\n",
    "    tsstrhere = tsstr[i:i+2]\n",
    "    datetimeshere = datetimes[i:i+2]\n",
    "    dt = datetimes[i+1]-datetimes[i]\n",
    "    dt = dt.total_seconds()\n",
    "    t2 = int(tsstr[i+1])\n",
    "\n",
    "    # run the function - check if this works\n",
    "    vol_mesh,JtermsT,JtermsS,JtermsT_nn,JtermsS_nn = get_Jterms(fnames,tsstrhere,datetimeshere,dt,t2,mymsk,iB,RAC,RAC3,myparms)\n",
    "\n",
    "    vol_mesh_all[i] = vol_mesh\n",
    "    JtermsT_all[i] = JtermsT\n",
    "    JtermsS_all[i] = JtermsS\n",
    "    JtermsT_nn_all[i] = JtermsT_nn\n",
    "    JtermsS_nn_all[i] = JtermsS_nn"
   ]
  },
  {
   "cell_type": "code",
   "execution_count": 207,
   "id": "526ba27f-aad9-4656-afb2-92ddf30499d0",
   "metadata": {},
   "outputs": [
    {
     "data": {
      "text/plain": [
       "array(['0000315504', '0000319968'], dtype='<U32')"
      ]
     },
     "execution_count": 207,
     "metadata": {},
     "output_type": "execute_result"
    }
   ],
   "source": [
    "tsstrhere"
   ]
  },
  {
   "cell_type": "code",
   "execution_count": 208,
   "id": "eba2023b-5f88-43d8-bd13-a1053dd817a6",
   "metadata": {},
   "outputs": [],
   "source": [
    "# do the time-averaging -- setting this from January onward because this is what we have listed\n",
    "# JtermsT = np.nanmean(JtermsT_all[1:],axis=0)\n",
    "# JtermsS = np.nanmean(JtermsS_all[1:],axis=0)\n",
    "# vol_mesh = np.nanmean(vol_mesh_all[1:],axis=0)\n",
    "\n",
    "# JtermsS_nn = np.nanmean(JtermsS_nn_all[1:],axis=0)\n",
    "# JtermsT_nn = np.nanmean(JtermsT_nn_all[1:],axis=0)\n",
    "\n",
    "JtermsT = np.nanmean(JtermsT_all,axis=0)\n",
    "JtermsS = np.nanmean(JtermsS_all,axis=0)\n",
    "vol_mesh = np.nanmean(vol_mesh_all,axis=0)\n",
    "\n",
    "JtermsS_nn = np.nanmean(JtermsS_nn_all,axis=0)\n",
    "JtermsT_nn = np.nanmean(JtermsT_nn_all,axis=0)"
   ]
  },
  {
   "cell_type": "markdown",
   "id": "df07586a-40eb-4295-8f67-12e4cf485f01",
   "metadata": {},
   "source": [
    "### Create the T-S mesh for this (I think we should be able to use the same one in the layers)"
   ]
  },
  {
   "cell_type": "code",
   "execution_count": 209,
   "id": "20d6cadd-e94a-4f1e-8225-292f8509541a",
   "metadata": {},
   "outputs": [],
   "source": [
    "cmap = plt.get_cmap('RdBu_r',31).copy()\n",
    "cmap.set_under(color='white')\n",
    "cmap2 = plt.get_cmap('viridis',31).copy()\n",
    "cmap2.set_under(color='white')"
   ]
  },
  {
   "cell_type": "code",
   "execution_count": null,
   "id": "14da6a6a-2df3-4423-91bb-7fe81ad2ad30",
   "metadata": {},
   "outputs": [],
   "source": []
  },
  {
   "cell_type": "code",
   "execution_count": 210,
   "id": "6e6c79ba-ac28-4e01-8c60-bcd518ab8387",
   "metadata": {},
   "outputs": [
    {
     "name": "stdout",
     "output_type": "stream",
     "text": [
      "tmin, tmax, smin, smax sizes=, -2.2 34.1 25.245 38.38\n"
     ]
    }
   ],
   "source": [
    "\n",
    "# add the isopycnals\n",
    "# add the density contours from gsw\n",
    "smin = 25.5 - (0.01 * 25.5)    #salt_ctrl_subregR.min - (0.01 * salt_ctrl_subregR.min)\n",
    "smax = 38 + (0.01 * 38)    #salt_ctrl_subregR.max + (0.01 * salt_ctrl_subregR.max)\n",
    "tmin = -2 + (0.1 * -2)       #temp_ctrl_subregR.min - (0.1 * temp_ctrl_subregR.max)\n",
    "tmax = 31 + (0.1 * 31)       #temp_ctrl_subregR.max + (0.1 * temp_ctrl_subregR.max)\n",
    "print('tmin, tmax, smin, smax sizes=,', tmin, tmax, smin, smax)\n",
    "# Calculate how many gridcells we need in the x and y dimensions\n",
    "xdim = 50\n",
    "ydim = 50\n",
    "# Create empty grid of zeros\n",
    "dens = np.zeros((ydim,xdim))\n",
    "# Create temp and salt vectors of appropiate dimensions\n",
    "ti = np.linspace(-2,31,ydim)\n",
    "si = np.linspace(25.5,38,xdim)\n",
    "Freez_temp = gsw.CT_freezing(si,0,0)\n",
    "\n",
    "Si, Ti = np.meshgrid(si, ti, sparse=False, indexing='ij')\n",
    "# Loop to fill in grid with densities\n",
    "for j in range(0,int(ydim)):\n",
    "    for i in range(0, int(xdim)):\n",
    "        #print(si[i],ti[j])\n",
    "        dens[j,i]=gsw.rho(si[i],ti[j],0)\n",
    "        # Substract 1000 to convert to sigma-0\n",
    "dens2 = dens - 1000"
   ]
  },
  {
   "cell_type": "code",
   "execution_count": 211,
   "id": "81c59d1a-b7b4-4062-a13c-c7ee212be79e",
   "metadata": {},
   "outputs": [
    {
     "data": {
      "image/png": "[encoded data removed]",
      "text/plain": [
       "<Figure size 1200x800 with 12 Axes>"
      ]
     },
     "metadata": {},
     "output_type": "display_data"
    }
   ],
   "source": [
    "# do a sample plot of the tendency terms here\n",
    "alpha, beta = 1, 0.2\n",
    "arrow_length, step, t, U, scale = 0.25, 2, 0, 0.5, 3e0\n",
    "ypos1, ypos2, xpos1, xpos2 = 0.81, 0.88, 0.35, 0.19\n",
    "\n",
    "# Time string for labeling\n",
    "timestr = datetimes[0].strftime(\"%Y-%m\")\n",
    "# timestr = datetimes[0].strftime(\"%Y\")\n",
    "\n",
    "# Plot limits\n",
    "xlims, ylims = np.array([30, 35.5]), np.array([-2.3, 12])\n",
    "\n",
    "# Titles for each subplot\n",
    "titles = [\n",
    "    \"Observed Tendency\", \"ADV Tendency\", \"DF Tendency\",\n",
    "    \"KPP Tendency\", \"Surface Tendency\", \"Sum of Tendencies\"\n",
    "]\n",
    "\n",
    "# Figure setup\n",
    "fig, axes = plt.subplots(2, 3, figsize=(12, 8))  # 2x3 subplot layout\n",
    "axes = axes.flatten()  # Flatten to iterate easily\n",
    "\n",
    "for i, ax in enumerate(axes):\n",
    "    if i < 5:\n",
    "        U1, V1 = JtermsS[i], JtermsT[i]  # Select tendency terms\n",
    "    else:\n",
    "        # Sum up all terms for the last plot\n",
    "        U1, V1 = sum(JtermsS[1:5]), sum(JtermsT[1:5])\n",
    "\n",
    "    # Apply scaling and set zero values to NaN\n",
    "    U1, V1 = U1 * alpha, V1 * beta\n",
    "    U1[U1 == 0], V1[V1 == 0] = np.nan, np.nan\n",
    "\n",
    "    # Background colormap\n",
    "    cb = ax.pcolormesh(Sbin, Tbin, np.log10(vol_mesh), cmap=cmap2, vmin=0.01, zorder=2)\n",
    "\n",
    "    # Quiver plot\n",
    "    q = ax.quiver(Sbincent[::step, ::step], Tbincent[::step, ::step], \n",
    "                  U1[::step, ::step], V1[::step, ::step], \n",
    "                  width=0.005, scale=scale, zorder=3, headwidth=5)\n",
    "\n",
    "    # Colorbar\n",
    "    plt.colorbar(cb, ax=ax, label=r'$\\log_{10}\\ (\\mathrm{m^3/^\\circ C/PSU})$')\n",
    "\n",
    "    # Titles, limits, and labels\n",
    "    ax.set_title(f\"{titles[i]} {timestr}\")\n",
    "    ax.set_xlim(xlims)\n",
    "    ax.set_ylim(ylims)\n",
    "\n",
    "    # Quiver key (for scale reference)\n",
    "    ax.quiverkey(q, X=xpos1, Y=ypos1, U=U, label=f\"{U*alpha} Sv/degC\", labelpos='E')\n",
    "    ax.quiverkey(q, X=xpos2, Y=ypos2, U=U, label=f\"{U*beta} Sv/PSU\", angle=90, labelpos='N', coordinates='axes')\n",
    "\n",
    "    # Label each subplot (A, B, C, etc.)\n",
    "    ax.text(0.95, 0.95, chr(65 + i), transform=ax.transAxes, fontsize=16, fontweight='bold', \n",
    "            va='top', ha='right')\n",
    "\n",
    "    # Density contours\n",
    "    cs = ax.contour(si, ti, dens2, colors=\"grey\", zorder=1, alpha=0.5, levels=np.arange(16, 32, 1))\n",
    "    ax.clabel(cs, fontsize=10, inline=False, fmt=\"%.f\")\n",
    "\n",
    "# Save figure\n",
    "plt.tight_layout()\n",
    "# plt.savefig(imgpath + titlestr + \"BarentsS\" + timestr + \".png\", dpi=300)\n",
    "plt.show()"
   ]
  },
  {
   "cell_type": "markdown",
   "id": "b79e926b-fc93-4abf-8427-181aeca435d4",
   "metadata": {},
   "source": [
    "# Import the files for run 2, the one with layers"
   ]
  },
  {
   "cell_type": "code",
   "execution_count": 212,
   "id": "a0dafc6b-845d-4746-b652-0d961979345c",
   "metadata": {},
   "outputs": [
    {
     "data": {
      "text/plain": [
       "datetime.datetime(2002, 3, 3, 0, 0)"
      ]
     },
     "execution_count": 212,
     "metadata": {},
     "output_type": "execute_result"
    }
   ],
   "source": [
    "ts2dte(int(names[0]))"
   ]
  },
  {
   "cell_type": "code",
   "execution_count": 213,
   "id": "d493773d-3d28-48e6-b16b-721b50a75f4a",
   "metadata": {},
   "outputs": [],
   "source": [
    "# check that we are reading the same timesteps"
   ]
  },
  {
   "cell_type": "code",
   "execution_count": 214,
   "id": "6a05bae0-0c83-479f-ade7-9d5e78e802f2",
   "metadata": {},
   "outputs": [
    {
     "data": {
      "text/plain": [
       "array(['0000315504', '0000319968'], dtype='<U32')"
      ]
     },
     "execution_count": 214,
     "metadata": {},
     "output_type": "execute_result"
    }
   ],
   "source": [
    "# we will be using the same tsstr values, check these are the ones listed\n",
    "tsstr"
   ]
  },
  {
   "cell_type": "code",
   "execution_count": 215,
   "id": "92849d3c-77b6-4c48-bbda-3cefdb66534a",
   "metadata": {},
   "outputs": [],
   "source": [
    "names = np.array(['0000267408','0000280224','0000293472','0000306720','0000271440','0000284688',  '0000297936',  '0000311040','0000275904',  '0000289008',  '0000302256',  '0000315504'])"
   ]
  },
  {
   "cell_type": "code",
   "execution_count": 216,
   "id": "62e5de1c-4fad-40ab-8323-68847e41f5ac",
   "metadata": {},
   "outputs": [],
   "source": [
    "tsstr = np.sort(tsstr)\n",
    "names = np.sort(names)"
   ]
  },
  {
   "cell_type": "code",
   "execution_count": 217,
   "id": "dcff6e3f-6f95-4bed-8344-18cad027d3cb",
   "metadata": {},
   "outputs": [
    {
     "name": "stdout",
     "output_type": "stream",
     "text": [
      "0000315504 0000267408\n",
      "0000319968 0000271440\n"
     ]
    }
   ],
   "source": [
    "for i,j in zip(tsstr,names):\n",
    "    print(i,j)"
   ]
  },
  {
   "cell_type": "code",
   "execution_count": 218,
   "id": "fd642b6e-6511-4aff-8fe8-94ca8b3c9659",
   "metadata": {},
   "outputs": [
    {
     "name": "stdout",
     "output_type": "stream",
     "text": [
      "2002-03-03 00:00:00\n",
      "2002-04-28 00:00:00\n",
      "2002-06-29 00:00:00\n",
      "2002-08-28 00:00:00\n",
      "2002-10-29 00:00:00\n",
      "2002-12-28 00:00:00\n",
      "2003-02-28 00:00:00\n",
      "2003-05-01 00:00:00\n",
      "2003-06-30 00:00:00\n",
      "2003-08-31 00:00:00\n",
      "2003-10-30 00:00:00\n",
      "2003-12-31 00:00:00\n"
     ]
    }
   ],
   "source": [
    "for fname in names:\n",
    "    print(ts2dte(int(fname)))"
   ]
  },
  {
   "cell_type": "code",
   "execution_count": 219,
   "id": "0eeff927-0489-4ac6-8934-cac613ad56d3",
   "metadata": {},
   "outputs": [
    {
     "name": "stdout",
     "output_type": "stream",
     "text": [
      "2003-12-31 00:00:00\n",
      "2004-03-02 00:00:00\n"
     ]
    }
   ],
   "source": [
    "for fname in tsstr:\n",
    "    print(ts2dte(int(fname)))"
   ]
  },
  {
   "cell_type": "code",
   "execution_count": 220,
   "id": "00537888-e524-4463-9507-4bace9b9658f",
   "metadata": {},
   "outputs": [],
   "source": [
    "# we need to drop the first month of this from the previous calculation"
   ]
  },
  {
   "cell_type": "markdown",
   "id": "4fb1277c-e07b-4724-b007-41edcef405ea",
   "metadata": {},
   "source": [
    "### see if we can load for one month from the layers"
   ]
  },
  {
   "cell_type": "markdown",
   "id": "79a4e106-16f6-4637-9264-6aa95e6f733c",
   "metadata": {},
   "source": [
    "Key from available_diagnostics.log for Ttend:\n",
    "\n",
    "- LaTs2TH (m/s): Layer thickness tendency due to THETA surf. forc.\n",
    "- LaTh2TH (m/s): Layer thickness tendency due to THETA horiz. diff.\n",
    "- LaTz2TH (m/s): Layer thickness tendency due to THETA vert. diff.\n",
    "- TzKp2TH (m/s): Layer thickness tendency due to THETA vert. diff. (KPP part)\n",
    "- TzRe2TH (m/s): Layer thickness tendency due to THETA vert. diff. (Redi part)\n",
    "- TzBg2TH (m/s): Layer thickness tendency due to THETA vert. diff. (Bolus part)?\n",
    "- TKpg2TH: ?\n",
    "- LTha2TH (m/s): Layer thickness tendency due to THETA horiz. adv.\n",
    "- LTza2TH (m/s): Layer thickness tendency due to THETA vert. adv.\n",
    "- LTBh2TH (m/s): Layer thickness tendency due    to THETA horiz. adv. (bolus part)\n",
    "- LTBz2TH (m/s): Layer thickness tendency due to THETA vert. adv. (bolus)?\n",
    "- LTto2TH (m/day): Layer thickness tendency due to all THETA terms.\n",
    "- LaTs1SLT (m/s): Layer thickness tendency due to THETA surf. forc.\n",
    "- LaTh1SLT (m/s): Layer thickness tendency due to THETA horiz. diff.\n",
    "- LaTz1SLT (m/s): Layer thickness tendency due to THETA vert. diff.\n",
    "- TzKp1SLT (m/s): Layer thickness tendency due to THETA vert. diff. (KPP part)\n",
    "- TzRe1SLT (m/s): Layer thickness tendency due to THETA vert. diff. (Redi part)\n",
    "- TzBg1SLT (m/s): bolus?\n",
    "- TKpg1SLT: ?\n",
    "- LTha1SLT (m/s): Layer thickness tendency due to THETA horiz. adv.\n",
    "- LTza1SLT (m/s): Layer thickness tendency due to THETA vert. adv.\n",
    "- LTBh1SLT (m/s): Layer thickness tendency due    to THETA horiz. adv. (bolus part)\n",
    "- LTBz1SLT (m/s): Layer thickness tendency due to THETA vert. adv. (bolus)\n",
    "- LTto1SLT (m/day): Layer thickness tendency due to all THETA terms.\n"
   ]
  },
  {
   "cell_type": "markdown",
   "id": "03d5c666-3ffe-4073-937e-8b76e6a788c0",
   "metadata": {},
   "source": [
    "Key from available_diagnostics.log for Stend:\n",
    "\n",
    "- LaSs2TH (m/s): Layer thickness tendency due to SALT surf. forc.\n",
    "- LaSh2TH (m/s): Layer thickness tendency due to SALT horiz. diff.\n",
    "- LaSz2TH (m/s): Layer thickness tendency due to SALT vert. diff.\n",
    "- SzKp2TH (m/s): Layer thickness tendency due to SALT vert. diff. (KPP part)\n",
    "- SzRe2TH (m/s): Layer thickness tendency due to SALT vert. diff. (Redi part)\n",
    "- SzBg2TH (m/s): Layer thickness tendency due to SALT vert. diff. (Bolus part)?\n",
    "- SKpg2TH: ?\n",
    "- LSha2TH (m/s): Layer thickness tendency due to SALT horiz. adv.\n",
    "- LSza2TH (m/s): Layer thickness tendency due to SALT vert. adv.\n",
    "- LSBh2TH (m/s): Layer thickness tendency due to SALT horiz. adv. (bolus part)\n",
    "- LSBz2TH (m/s): Layer thickness tendency due to SALT vert. adv. (bolus part)\n",
    "- LSto2TH (m/day): Layer thickness tendency due to all SALT terms.\n",
    "- LaSs1SLT (m/s): Layer thickness tendency due to SALT surf. forc.\n",
    "- LaSh1SLT (m/s): Layer thickness tendency due to SALT horiz. diff.\n",
    "- LaSz1SLT (m/s): Layer thickness tendency due to SALT vert. diff.\n",
    "- SzKp1SLT (m/s): Layer thickness tendency due to SALT vert. diff. (KPP part)\n",
    "- SzRe1SLT (m/s): Layer thickness tendency due to SALT vert. diff. (Redi part)\n",
    "- SzBg1SLT (m/s): Layer thickness tendency due to SALT vert. diff. (Bolus part)?\n",
    "- SKpg1SLT: ?\n",
    "- LSha1SLT (m/s): Layer thickness tendency due to SALT horiz. adv.\n",
    "- LSza1SLT (m/s): Layer thickness tendency due to SALT vert. adv.\n",
    "- LSBh1SLT (m/s): Layer thickness tendency due to SALT horiz. adv. (bolus part)\n",
    "- LSBz1SLT (m/s): Layer thickness tendency due to SALT vert. adv. (bolus part)\n",
    "- LSto1SLT (m/day): Layer thickness tendency due to all SALT terms."
   ]
  },
  {
   "cell_type": "code",
   "execution_count": 221,
   "id": "c9c482e7-c97a-4136-a20f-a51715706cc2",
   "metadata": {},
   "outputs": [],
   "source": [
    "dirdiags = \"/scratch3/atnguyen/aste_270x450x180/run_c68v_layers_lessmem1_adxOFF_Jan2007_capxxN50_it0062_pk0000262944_bro/diags/LAYERS/\""
   ]
  },
  {
   "cell_type": "code",
   "execution_count": 222,
   "id": "571029ed-5dfb-4b94-9672-bc6029321dc0",
   "metadata": {},
   "outputs": [],
   "source": [
    "# ffac=1e-6\n",
    "# G_T=np.array([])\n",
    "# metaT=parsemeta(dirdiags + \"LAYERS/layers_3d_Ttend\" 0000723024.meta\")\n",
    "# metaS=parsemeta(dirdiags + \"LAYERS/layers_3d_Stend\" 0000723024.meta\")\n",
    "# nFldsS = metaS[\"fldList\"]\n",
    "# nFldsT = metaT[\"fldList\"]"
   ]
  },
  {
   "cell_type": "code",
   "execution_count": 223,
   "id": "14d0782c-96fc-4ffd-ab8d-5fa2019cf543",
   "metadata": {},
   "outputs": [
    {
     "name": "stdout",
     "output_type": "stream",
     "text": [
      "['LaTs2TH' 'LaTh2TH' 'LaTz2TH' 'TzKp2TH' 'TzRe2TH' 'TzBg2TH' 'TKpg2TH'\n",
      " 'LTha2TH' 'LTza2TH' 'LTBh2TH' 'LTBz2TH' 'LTto2TH' 'LaTs1SLT' 'LaTh1SLT'\n",
      " 'LaTz1SLT' 'TzKp1SLT' 'TzRe1SLT' 'TzBg1SLT' 'TKpg1SLT' 'LTha1SLT'\n",
      " 'LTza1SLT' 'LTBh1SLT' 'LTBz1SLT' 'LTto1SLT']\n"
     ]
    }
   ],
   "source": [
    "# try to just plot the total tendency from the Ttend files\n",
    "ffac = 1e-6\n",
    "dirInLayers = \"/scratch3/atnguyen/aste_270x450x180/run_c68v_layers_lessmem1_adxOFF_Jan2007_capxxN50_it0062_pk0000262944_bro/diags/LAYERS/\"\n",
    "dirInBudg = \"/scratch3/atnguyen/aste_270x450x180/run_c68v_layers_lessmem1_adxOFF_Jan2007_capxxN50_it0062_pk0000262944_bro/diags/BUDG/\"\n",
    "\n",
    "file_name = \"layers_3d_Ttend\"\n",
    "\n",
    "meta_layers_3d_Ttend = parsemeta(dirInLayers + file_name + \".\" + names[0] + \".meta\")\n",
    "fldlist = np.array(meta_layers_3d_Ttend[\"fldList\"])\n",
    "print(fldlist)\n",
    "varnames = np.array([\"LTto2TH\",\"LTto1SLT\"])\n",
    "# recs = np.array([])\n",
    "# for var in varnames:\n",
    "#     irec = np.where(fldlist == var)\n",
    "#     recs = np.append(recs, irec[0][0])\n",
    "# ADVx_SLT,its,meta = rdmds(os.path.join(dirIn, file_name),t2,returnmeta=True,rec=recs[0])\n",
    "# ADVy_SLT,its,meta = rdmds(os.path.join(dirIn, file_name),t2,returnmeta=True,rec=recs[1])\n",
    "# DFxE_SLT,its,meta = rdmds(os.path.join(dirIn, file_name),t2,returnmeta=True,rec=recs[2])\n",
    "# DFyE_SLT,its,meta = rdmds(os.path.join(dirIn, file_name),t2,returnmeta=True,rec=recs[3])"
   ]
  },
  {
   "cell_type": "code",
   "execution_count": 224,
   "id": "3aa5917f-ac0b-47da-b836-396eb370fdea",
   "metadata": {},
   "outputs": [
    {
     "name": "stdout",
     "output_type": "stream",
     "text": [
      "['LaSs2TH' 'LaSh2TH' 'LaSz2TH' 'SzKp2TH' 'SzRe2TH' 'SzBg2TH' 'SKpg2TH'\n",
      " 'LSha2TH' 'LSza2TH' 'LSBh2TH' 'LSBz2TH' 'LSto2TH' 'LaSs1SLT' 'LaSh1SLT'\n",
      " 'LaSz1SLT' 'SzKp1SLT' 'SzRe1SLT' 'SzBg1SLT' 'SKpg1SLT' 'LSha1SLT'\n",
      " 'LSza1SLT' 'LSBh1SLT' 'LSBz1SLT' 'LSto1SLT']\n"
     ]
    }
   ],
   "source": [
    "# try to do a plot of the total tendency from the Stend files\n",
    "# try to just plot the total tendency\n",
    "ffac = 1e-6\n",
    "dirInLayers = \"/scratch3/atnguyen/aste_270x450x180/run_c68v_layers_lessmem1_adxOFF_Jan2007_capxxN50_it0062_pk0000262944_bro/diags/LAYERS/\"\n",
    "file_name = \"layers_3d_Stend\"\n",
    "\n",
    "meta_layers_3d_Ttend = parsemeta(dirInLayers + file_name + \".\" + names[0] + \".meta\")\n",
    "fldlist = np.array(meta_layers_3d_Ttend[\"fldList\"])\n",
    "print(fldlist)\n",
    "varnames = np.array([\"LTto2TH\",\"LTto1SLT\"])\n",
    "# recs = np.array([])\n",
    "# for var in varnames:\n",
    "#     irec = np.where(fldlist == var)\n",
    "#     recs = np.append(recs, irec[0][0])\n",
    "# ADVx_SLT,its,meta = rdmds(os.path.join(dirIn, file_name),t2,returnmeta=True,rec=recs[0])\n",
    "# ADVy_SLT,its,meta = rdmds(os.path.join(dirIn, file_name),t2,returnmeta=True,rec=recs[1])\n",
    "# DFxE_SLT,its,meta = rdmds(os.path.join(dirIn, file_name),t2,returnmeta=True,rec=recs[2])\n",
    "# DFyE_SLT,its,meta = rdmds(os.path.join(dirIn, file_name),t2,returnmeta=True,rec=recs[3])"
   ]
  },
  {
   "cell_type": "markdown",
   "id": "fbb389fd-014f-449b-9a7b-060e4a14ba0e",
   "metadata": {},
   "source": [
    "## create the volume distribution for one month"
   ]
  },
  {
   "cell_type": "code",
   "execution_count": 225,
   "id": "741c74b6-146a-4362-8285-c95b66ebe2c4",
   "metadata": {},
   "outputs": [
    {
     "data": {
      "text/plain": [
       "array(['0000267408', '0000271440', '0000275904', '0000280224',\n",
       "       '0000284688', '0000289008', '0000293472', '0000297936',\n",
       "       '0000302256', '0000306720', '0000311040', '0000315504'],\n",
       "      dtype='<U10')"
      ]
     },
     "execution_count": 225,
     "metadata": {},
     "output_type": "execute_result"
    }
   ],
   "source": [
    "names"
   ]
  },
  {
   "cell_type": "code",
   "execution_count": 226,
   "id": "e0bedcf4-4b65-4e82-b012-de04b7c18026",
   "metadata": {},
   "outputs": [
    {
     "ename": "FileNotFoundError",
     "evalue": "[Errno 2] No such file or directory: '/scratch3/atnguyen/aste_270x450x180/run_c68v_layers_lessmem1_adxOFF_Jan2007_capxxN50_it0062_pk0000262944_bro/diags/BUDG/budg2d_snap_set1.0000315504.meta'",
     "output_type": "error",
     "traceback": [
      "\u001b[0;31m---------------------------------------------------------------------------\u001b[0m",
      "\u001b[0;31mFileNotFoundError\u001b[0m                         Traceback (most recent call last)",
      "Cell \u001b[0;32mIn[226], line 4\u001b[0m\n\u001b[1;32m      1\u001b[0m \u001b[38;5;66;03m# assuming all files are structured the same\u001b[39;00m\n\u001b[1;32m      3\u001b[0m file_name \u001b[38;5;241m=\u001b[39m \u001b[38;5;124m'\u001b[39m\u001b[38;5;124mbudg2d_snap_set1\u001b[39m\u001b[38;5;124m'\u001b[39m\n\u001b[0;32m----> 4\u001b[0m meta_budg2d_snap_set1 \u001b[38;5;241m=\u001b[39m \u001b[43mparsemeta\u001b[49m\u001b[43m(\u001b[49m\u001b[43mdirInBudg\u001b[49m\u001b[43m \u001b[49m\u001b[38;5;241;43m+\u001b[39;49m\u001b[43m \u001b[49m\u001b[43mfile_name\u001b[49m\u001b[43m \u001b[49m\u001b[38;5;241;43m+\u001b[39;49m\u001b[43m \u001b[49m\u001b[38;5;124;43m\"\u001b[39;49m\u001b[38;5;124;43m.\u001b[39;49m\u001b[38;5;124;43m\"\u001b[39;49m\u001b[43m \u001b[49m\u001b[38;5;241;43m+\u001b[39;49m\u001b[43m \u001b[49m\u001b[43mnames\u001b[49m\u001b[43m[\u001b[49m\u001b[38;5;241;43m-\u001b[39;49m\u001b[38;5;241;43m1\u001b[39;49m\u001b[43m]\u001b[49m\u001b[38;5;241;43m+\u001b[39;49m\u001b[43m \u001b[49m\u001b[38;5;124;43m\"\u001b[39;49m\u001b[38;5;124;43m.meta\u001b[39;49m\u001b[38;5;124;43m\"\u001b[39;49m\u001b[43m)\u001b[49m\n\u001b[1;32m      6\u001b[0m \u001b[38;5;66;03m# try to read this with rec\u001b[39;00m\n\u001b[1;32m      7\u001b[0m fldlist \u001b[38;5;241m=\u001b[39m np\u001b[38;5;241m.\u001b[39marray(meta_budg2d_snap_set1[\u001b[38;5;124m'\u001b[39m\u001b[38;5;124mfldList\u001b[39m\u001b[38;5;124m'\u001b[39m])\n",
      "File \u001b[0;32m~/MITgcm/MITgcm_c68r/MITgcm-checkpoint68r/utils/python/MITgcmutils/MITgcmutils/mds.py:83\u001b[0m, in \u001b[0;36mparsemeta\u001b[0;34m(metafile)\u001b[0m\n\u001b[1;32m     80\u001b[0m \u001b[38;5;28;01mglobal\u001b[39;00m _currentline\n\u001b[1;32m     82\u001b[0m \u001b[38;5;28;01mtry\u001b[39;00m:\n\u001b[0;32m---> 83\u001b[0m     lines \u001b[38;5;241m=\u001b[39m \u001b[38;5;28;43mopen\u001b[39;49m\u001b[43m(\u001b[49m\u001b[43mmetafile\u001b[49m\u001b[43m)\u001b[49m\n\u001b[1;32m     84\u001b[0m \u001b[38;5;28;01mexcept\u001b[39;00m \u001b[38;5;167;01mTypeError\u001b[39;00m:\n\u001b[1;32m     85\u001b[0m     lines \u001b[38;5;241m=\u001b[39m \u001b[38;5;28miter\u001b[39m(metafile)\n",
      "\u001b[0;31mFileNotFoundError\u001b[0m: [Errno 2] No such file or directory: '/scratch3/atnguyen/aste_270x450x180/run_c68v_layers_lessmem1_adxOFF_Jan2007_capxxN50_it0062_pk0000262944_bro/diags/BUDG/budg2d_snap_set1.0000315504.meta'"
     ]
    }
   ],
   "source": [
    "# assuming all files are structured the same\n",
    "\n",
    "file_name = 'budg2d_snap_set1'\n",
    "meta_budg2d_snap_set1 = parsemeta(dirInBudg + file_name + \".\" + names[-1]+ \".meta\")\n",
    "\n",
    "# try to read this with rec\n",
    "fldlist = np.array(meta_budg2d_snap_set1['fldList'])\n",
    "varnames = np.array(['ETAN'])\n",
    "recs = np.array([])\n",
    "for var in varnames:\n",
    "    irec = np.where(fldlist == var)\n",
    "    recs = np.append(recs, irec[0][0])\n",
    "\n",
    "# set for all months\n",
    "vol = np.zeros((len(tsstr),nz, ny, nx))\n",
    "\n",
    "# read the first timestep as an example\n",
    "t1 = names[0]\n",
    "read = [int(t1)]\n",
    "\n",
    "# make sure order we write the variables is the same as the order in varnames, else we read the wrong thing\n",
    "ETAN,its,meta = rdmds(os.path.join(dirInBudg, file_name),read,returnmeta=True,rec=recs[0])\n",
    "\n",
    "# choose by basin\n",
    "ETAN = np.reshape(ETAN,(ny,nx))\n",
    "\n",
    "# 3D, with rStar:\n",
    "tmpvol = np.zeros((nz, ny, nx))\n",
    "if myparms['useNLFS'] < 2 or myparms['rStar'] == 0:        # not this time\n",
    "    tmpvol[0,:, :] = ETAN * myparms['rhoconst'] * RAC\n",
    "    if myparms['useRFWF'] == 0:\n",
    "        tmpvol[0, :, :] = np.zeros((ny, nx))\n",
    "else:    # 4/22 look at this one\n",
    "    if myparms['useRFWF'] != 0:                                 # we are using this  # check if tmp1 is the same as drf3d!!\n",
    "        tmp1 = mk3D_mod(mygrid['DRF'],hfC) * hfC     # m\n",
    "        tmp2 = tmp1/mk3D_mod(DD,tmp1)                # drf as a fraction of total depth, this allows us to distribute etan between z\n",
    "    else:\n",
    "        tmp2 = drf3d / mk3D_mod(DD, tmp1)\n",
    "\n",
    "    # this is still wrong, we want to subtract the ETAN anomaly from the existing volumes\n",
    "    tmpvol =  (tmp1 + tmp2*mk3D_mod(ETAN, tmp2)) * mk3D_mod(RAC, hfC)     # volume, m * m^2  = m^3\n",
    "\n",
    "tmpvol = tmpvol * np.tile(mymsk, (nz, 1, 1))"
   ]
  },
  {
   "cell_type": "code",
   "execution_count": null,
   "id": "6ddc9f04-641d-4c3f-adcb-4e6f6e82d04f",
   "metadata": {},
   "outputs": [],
   "source": [
    "print(names[-1],tsstrhere)"
   ]
  },
  {
   "cell_type": "code",
   "execution_count": 110,
   "id": "d8b786eb-8342-45fc-bf77-4efb81b51fbe",
   "metadata": {},
   "outputs": [],
   "source": [
    "# load the THETA to do the binning\n",
    "file_name = \"state_3d_set1\"\n",
    "meta_budg3d_kpptend_set1 = parsemeta(dirState + file_name + \".\" + names[0] + \".meta\")\n",
    "fldlist = np.array(meta_budg3d_kpptend_set1[\"fldList\"])\n",
    "varnames = np.array([\"THETA\",\"SALT\"])\n",
    "recs = np.array([])\n",
    "for var in varnames:\n",
    "    irec = np.where(fldlist == var)\n",
    "    recs = np.append(recs, irec[0][0])\n",
    "THETA,its,meta = rdmds(os.path.join(dirState, file_name),t2,returnmeta=True,rec=recs[0])\n",
    "SALT,its,meta = rdmds(os.path.join(dirState, file_name),t2,returnmeta=True,rec=recs[1])\n",
    "\n",
    "THETA = THETA.reshape(nz,ny,nx) * np.tile(mymsk[np.newaxis,:,:],(nz,1,1))\n",
    "SALT = SALT.reshape(nz,ny,nx) * np.tile(mymsk[np.newaxis,:,:],(nz,1,1))"
   ]
  },
  {
   "cell_type": "code",
   "execution_count": 111,
   "id": "74e85db6-c9ec-4df7-9f91-9b8766cc9840",
   "metadata": {},
   "outputs": [],
   "source": [
    "# bin the volume we masked\n",
    "binned_theta = bin_array(THETA,binsTH_edges)\n",
    "binned_theta = binned_theta.astype(float)\n",
    "binned_theta[binned_theta == nT] = np.nan     # because the binning is setting nan to last value\n",
    "binned_salinity = bin_array(SALT,binsSLT_edges)\n",
    "binned_salinity = binned_salinity.astype(float)\n",
    "binned_salinity[binned_salinity == nS] = np.nan"
   ]
  },
  {
   "cell_type": "code",
   "execution_count": 112,
   "id": "e1660614-ad46-4028-9de3-76dce6e3d5c7",
   "metadata": {},
   "outputs": [],
   "source": [
    "# create the volume mesh\n",
    "maskArc = mskBasin * mymsk   # this is somewhat redundant and we are not actually using iB below\n",
    "\n",
    "binwidthsS_tile = np.tile(binwidthS, (112, 1)).T\n",
    "binwidthsT_tile = np.tile(binwidthT, (112, 1))\n",
    "\n",
    "idxs = np.where(maskArc == iB)\n",
    "npoints = len(idxs[0])\n",
    "mesh = create_TS_mesh(np.array(names[0]).reshape(1),nS,nT,npoints,binned_salinity.reshape(1,nz,ny,nx), binned_theta.reshape(1,nz,ny,nx),tmpvol.reshape(1,nz,ny,nx),idxs,dT,dS)\n",
    "\n",
    "# sum the volume from the points in dimension 2\n",
    "vol_mesh = np.nansum(mesh[0],axis=2)"
   ]
  },
  {
   "cell_type": "code",
   "execution_count": 114,
   "id": "6ae514fd-ddf4-43ec-839e-f506a303f68a",
   "metadata": {},
   "outputs": [
    {
     "data": {
      "text/plain": [
       "<a list of 15 text.Text objects>"
      ]
     },
     "execution_count": 114,
     "metadata": {},
     "output_type": "execute_result"
    },
    {
     "data": {
      "image/png": "[encoded data removed]",
      "text/plain": [
       "<Figure size 400x400 with 2 Axes>"
      ]
     },
     "metadata": {},
     "output_type": "display_data"
    }
   ],
   "source": [
    "# now plot a sample TS diagram of this without the tendency terms\n",
    "xlims, ylims = np.array([30, 35.5]), np.array([-2.3, 12])\n",
    "\n",
    "fig = plt.figure(figsize = (4,4))\n",
    "\n",
    "ax = plt.subplot(111)\n",
    "cb = ax.pcolormesh(Sbin, Tbin, np.log10(vol_mesh), cmap=cmap2, zorder=2,vmin=0.01)\n",
    "ax.set_xlim(xlims)\n",
    "ax.set_ylim(ylims)\n",
    "\n",
    "plt.colorbar(cb, ax=ax, label=r'$\\log_{10}\\ (\\mathrm{m^3/^\\circ C/PSU})$')\n",
    "cs = ax.contour(si, ti, dens2, colors=\"grey\", zorder=1, alpha=0.5, levels=np.arange(16, 32, 1))\n",
    "ax.clabel(cs, fontsize=10, inline=False, fmt=\"%.f\")"
   ]
  },
  {
   "cell_type": "markdown",
   "id": "954c9dd6-d213-4b61-9a66-c0ff69d19f0f",
   "metadata": {},
   "source": [
    "# Now we can try to plot the above with some quivers, but this already looks different"
   ]
  },
  {
   "cell_type": "code",
   "execution_count": 115,
   "id": "6dafec60-7ca1-4b95-b5f1-12f46b8145cd",
   "metadata": {},
   "outputs": [
    {
     "data": {
      "text/plain": [
       "'0000267408'"
      ]
     },
     "execution_count": 115,
     "metadata": {},
     "output_type": "execute_result"
    }
   ],
   "source": [
    "# tsstr = '0000723024'\n",
    "names[0]"
   ]
  },
  {
   "cell_type": "code",
   "execution_count": 132,
   "id": "e2b456b0-a2e8-4939-b5a1-e43b743073e3",
   "metadata": {},
   "outputs": [],
   "source": [
    "ffac=1e-6\n",
    "G_T=np.array([])\n",
    "metaT=parsemeta(dirdiags + \"layers_3d_Ttend.0000267408.meta\")\n",
    "metaS=parsemeta(dirdiags + \"layers_3d_Stend.0000267408.meta\")\n",
    "nFldsS = metaS[\"fldList\"]\n",
    "nFldsT = metaT[\"fldList\"]"
   ]
  },
  {
   "cell_type": "code",
   "execution_count": 139,
   "id": "c4bdac1f-a6d8-4691-bdc1-7ebba37afe3e",
   "metadata": {},
   "outputs": [
    {
     "name": "stdout",
     "output_type": "stream",
     "text": [
      "LSto2TH LaSs1SLT LaSh1SLT SzRe1SLT LSha1SLT LSBz1SLT\n"
     ]
    }
   ],
   "source": [
    "# metaT['fldList']  # 0, 1, 2, 7, \n",
    "metaS['fldList']   # 13, 14, 15, 16, 19, 22\n",
    "a = metaS['fldList']\n",
    "print(a[11],a[12],a[13],a[16],a[19],a[22])  # these are the ifldS values\n",
    "# these are the total tend due to salt terms, tend due to salt surf forcing, tend due to salt horizontal diff, tend due to salt vertical diff\n",
    "# ... tend due to salt horiz adv, tend due to salt vertical adv\n",
    "ifldS = np.array([11,12,13,16,19,22])  # total tend, surf, hDiff, vDiff, hADV, vADV"
   ]
  },
  {
   "cell_type": "code",
   "execution_count": 140,
   "id": "00f21ec0-10be-46af-b765-1c0766288bd9",
   "metadata": {},
   "outputs": [],
   "source": [
    "# from before ([0,1,2,3,4,7])"
   ]
  },
  {
   "cell_type": "code",
   "execution_count": 141,
   "id": "ec2f0448-2c79-4900-9830-b888c356f468",
   "metadata": {},
   "outputs": [
    {
     "name": "stdout",
     "output_type": "stream",
     "text": [
      "LaTs2TH LaTh2TH LaTz2TH LTha2TH LTza2TH LTto2TH\n"
     ]
    }
   ],
   "source": [
    "metaT['fldList']   # 13, 14, 15, 16, 19, 22\n",
    "a = metaT['fldList']\n",
    "print(a[0],a[1],a[2],a[7],a[8],a[11])\n",
    "ifldT = np.array([0,1,2,7,8,11])    # surf, hDiff, vDiff, hADV, vADV, total tend"
   ]
  },
  {
   "cell_type": "code",
   "execution_count": 142,
   "id": "73d0f6c2-dbd8-4aef-897b-5933eda4cd03",
   "metadata": {},
   "outputs": [
    {
     "data": {
      "text/plain": [
       "'/scratch3/atnguyen/aste_270x450x180/run_c68v_layers_lessmem1_adxOFF_Jan2007_capxxN50_it0062_pk0000262944_bro/diags/LAYERS/'"
      ]
     },
     "execution_count": 142,
     "metadata": {},
     "output_type": "execute_result"
    }
   ],
   "source": [
    "dirdiags"
   ]
  },
  {
   "cell_type": "code",
   "execution_count": 147,
   "id": "cfcab1f6-7e3d-4082-9662-b9d9b19b1047",
   "metadata": {},
   "outputs": [
    {
     "data": {
      "text/plain": [
       "array(['0000267408', '0000271440'], dtype='<U32')"
      ]
     },
     "execution_count": 147,
     "metadata": {},
     "output_type": "execute_result"
    }
   ],
   "source": [
    "tsstr"
   ]
  },
  {
   "cell_type": "code",
   "execution_count": 148,
   "id": "cc66ea89-20c3-4f4d-8c47-722bf7b8f22a",
   "metadata": {},
   "outputs": [],
   "source": [
    "dirroot = \"/scratch2/atnguyen/aste_270x450x180/GRID_wet/\""
   ]
  },
  {
   "cell_type": "code",
   "execution_count": 150,
   "id": "8ebca559-dc08-46f6-af33-51d3bd7f4af5",
   "metadata": {},
   "outputs": [
    {
     "name": "stdout",
     "output_type": "stream",
     "text": [
      "RAC2d (146614,)\n",
      "(4833023,)\n"
     ]
    }
   ],
   "source": [
    "# 2d\n",
    "rac2d = read_float64(dirgridw + \"RAC_\" + str(LwetC2d) + \".data\")\n",
    "# TEST, ask An\n",
    "# rac2d = rac2d.reshape((LwetC2d,2))\n",
    "# rac2d = rac2d[:,0]\n",
    "print(\"RAC2d\",rac2d.shape)\n",
    "\n",
    "drf3d = read_float32(dirgridw + \"DRF_\" + str(LwetC) + \".data\")\n",
    "\n",
    "hf1flat = np.reshape(hf1,hf1.flatten().shape[0])\n",
    "hf2d = hf1flat[iwetC2d]\n",
    "\n",
    "rac2dtile = np.tile(rac2d,(nT-1,1)) #.shape\n",
    "hf2dtile = np.tile(hf2d,(nT-1,1))"
   ]
  },
  {
   "cell_type": "code",
   "execution_count": 153,
   "id": "e95a2294-fc9b-4e0f-9097-2648e6122ed5",
   "metadata": {},
   "outputs": [],
   "source": [
    "setTtend=nFldsT.copy()\n",
    "setStend=nFldsS.copy()"
   ]
  },
  {
   "cell_type": "markdown",
   "id": "4832396e-bb11-4df3-8537-405d59851569",
   "metadata": {},
   "source": [
    "# define the G_T and G_S terms"
   ]
  },
  {
   "cell_type": "code",
   "execution_count": 176,
   "id": "af63ea41-7a41-4efa-86fc-65e0cd662ec5",
   "metadata": {},
   "outputs": [
    {
     "data": {
      "image/png": "[encoded data removed]",
      "text/plain": [
       "<Figure size 1000x400 with 2 Axes>"
      ]
     },
     "metadata": {},
     "output_type": "display_data"
    }
   ],
   "source": [
    "ind2d_aste = get_aste_tracer(np.reshape(mskBasin,(ny,nx)),nfx,nfy)\n",
    "plt.pcolormesh(ind2d_aste[0,:,:])\n",
    "plt.colorbar()\n",
    "ind2d = mskBasin.reshape(364500)\n",
    "ind2d.shape\n",
    "iBarentsS2D = np.where(ind2d == 7)[0]\n",
    "\n",
    "ind2d_wet = ind2d[iwetC2d]\n",
    "iwet_BarentsS2D = np.where(ind2d_wet == 7)[0]"
   ]
  },
  {
   "cell_type": "code",
   "execution_count": 180,
   "id": "d62fc2c5-361c-4035-964d-aa969c9a00e3",
   "metadata": {},
   "outputs": [],
   "source": [
    "# make the G_T term\n",
    "G_T = {}\n",
    "    \n",
    "# now loop through\n",
    "for i in range(len(ifldT)-1, -1, -1):\n",
    "    tmp = read_float32_skip(dirdiags + \"layers_3d_Ttend.\" + tsstr[0] + \".data\", nx*ny*(nT-1),ifldT[i])\n",
    "    tmp = np.reshape(tmp,(nT-1,nx*ny))\n",
    "    tmp = tmp[:,iwetC2d] * (rac2dtile * hf2dtile) * ffac\n",
    "    if i == ifldT.shape[0]-1:\n",
    "        residT = tmp\n",
    "    else:\n",
    "        residT = residT-tmp\n",
    "\n",
    "    # just do the Barents Sea for this one\n",
    "    a = np.nansum(tmp[:,iwet_BarentsS2D],axis=1)\n",
    "    G_T[setTtend[ifldT[i]]] = a\n",
    "\n",
    "G_T[\"residT\"] = np.nansum(residT[:,iwet_BarentsS2D],axis=1)"
   ]
  },
  {
   "cell_type": "code",
   "execution_count": 181,
   "id": "ae07ddf4-21e4-4d11-88c5-f347c1ffa7fc",
   "metadata": {},
   "outputs": [],
   "source": [
    "# create G_S for all basins (line 258)\n",
    "G_S = {}\n",
    "for ib in range(len(strb)):\n",
    "    G_S[strb[ib]] = {}\n",
    "\n",
    "# now loop through similar to ifldS\n",
    "for i in range(len(ifldS)-1, -1, -1):\n",
    "    tmp = read_float32_skip(dirdiags + \"layers_3d_Stend.\" + tsstr[0] + \".data\", nx*ny*(nT-1),ifldS[i])\n",
    "    tmp = np.reshape(tmp,(nS-1,nx*ny))\n",
    "    tmp = tmp[:,iwetC2d] * (rac2dtile * hf2dtile) * ffac\n",
    "    if i == ifldS.shape[0]-1:\n",
    "        residS = tmp\n",
    "    else:\n",
    "        residS = residS-tmp\n",
    "\n",
    "    # just do for the Barents Sea\n",
    "    a = np.nansum(tmp[:,iwet_BarentsS2D],axis=1)\n",
    "    G_S[setStend[ifldS[i]]] = a\n",
    "\n",
    "# loop through again to calculate resid\n",
    "G_S[\"residS\"] = np.nansum(residS[:,iwet_BarentsS2D],axis=1)"
   ]
  },
  {
   "cell_type": "code",
   "execution_count": 188,
   "id": "94f71238-0ea2-4852-b74a-f68bb0a18815",
   "metadata": {},
   "outputs": [
    {
     "name": "stdout",
     "output_type": "stream",
     "text": [
      "2003-12-31 00:00:00\n",
      "2002-04-28 00:00:00\n"
     ]
    }
   ],
   "source": [
    "print(ts2dte(int('0000315504')))\n",
    "print(ts2dte(int(tsstr[-1])))"
   ]
  },
  {
   "cell_type": "markdown",
   "id": "98fc3c19-0d9f-44a7-be87-c00906e35e68",
   "metadata": {},
   "source": [
    "## We now did G_S and G_T and these are budgeted. Can move on to calculation of J (scary)"
   ]
  },
  {
   "cell_type": "code",
   "execution_count": null,
   "id": "2dc33e6b-e370-4cf4-8127-bbdaa4a26184",
   "metadata": {},
   "outputs": [],
   "source": [
    "setTSp = ['LaHc_TS']\n",
    "\n",
    "if len(nFldsT) == 18:\n",
    "    setTS_Stend = ['LaSs_TS', 'LaSh_TS', 'LaSz_TS', 'SzKp_TS', 'SzRe_TS', 'LSha_TS', 'LSza_TS', 'LSBh_TS', 'LSBz_TS', 'LSto_TS']\n",
    "    setTS_Ttend = ['LaTs_TS', 'LaTh_TS', 'LaTz_TS', 'TzKp_TS', 'TzRe_TS', 'LTha_TS', 'LTza_TS', 'LTBh_TS', 'LTBz_TS', 'LTto_TS']"
   ]
  }
 ],
 "metadata": {
  "kernelspec": {
   "display_name": "py38",
   "language": "python",
   "name": "py38"
  },
  "language_info": {
   "codemirror_mode": {
    "name": "ipython",
    "version": 3
   },
   "file_extension": ".py",
   "mimetype": "text/x-python",
   "name": "python",
   "nbconvert_exporter": "python",
   "pygments_lexer": "ipython3",
   "version": "3.8.18"
  }
 },
 "nbformat": 4,
 "nbformat_minor": 5
}
