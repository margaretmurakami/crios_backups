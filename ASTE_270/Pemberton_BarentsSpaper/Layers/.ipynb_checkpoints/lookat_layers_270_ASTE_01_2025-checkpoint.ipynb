{
 "cells": [
  {
   "cell_type": "markdown",
   "id": "8cd170ab-6f71-4ea5-ab77-2815e837c1ff",
   "metadata": {},
   "source": [
    "# Introduction and purpose of this file\n",
    "\n",
    "The point of this is to remodify lookat_layers_270 with the new ASTE run sent from An:\n",
    "- forward run: run_c68v_adxOFF_20022023_capxxN50_it0062_pk0000000007_bro\n",
    "- year 2007 with the layers diagnostics: run_c68v_layers_lessmem1_adxOFF_Jan2007_capxxN50_it0062_pk0000262944_bro\n",
    "\n",
    "We will try to compare them here and see if we get the same thing"
   ]
  },
  {
   "cell_type": "markdown",
   "id": "c947507e-16b7-45f2-b6c8-b3a33e7fcfed",
   "metadata": {},
   "source": [
    "# Import the files and functions for run 1"
   ]
  },
  {
   "cell_type": "code",
   "execution_count": 1,
   "id": "8f779806-ca0a-4d16-95b1-1938b5ef5847",
   "metadata": {},
   "outputs": [],
   "source": [
    "import numpy as np\n",
    "import sys\n",
    "import matplotlib.pyplot as plt\n",
    "import pandas as pd\n",
    "import xarray as xr\n",
    "import h5py\n",
    "from scipy.io import loadmat\n",
    "import matplotlib as mpl\n",
    "import time\n",
    "import gsw\n",
    "from matplotlib.colors import TwoSlopeNorm\n",
    "import gzip\n",
    "\n",
    "# import existing python files\n",
    "plt.rcParams['figure.figsize'] = (10,4)\n",
    "\n",
    "# add rdmds reading functions to path\n",
    "sys.path.append(\"/home/mmurakami/MITgcm/MITgcm_c68r/MITgcm-checkpoint68r/utils/python/MITgcmutils/MITgcmutils/\") # go to parent dir\n",
    "from mds import *\n",
    "\n",
    "# add the other files\n",
    "sys.path.append(\"/home/mmurakami/crios_backups/an_helper_functions\")\n",
    "from read_binary import *\n",
    "from calc_UV_conv_1face import calc_UV_conv_1face\n",
    "from calc_mskmean_T_mod import calc_mskmean_T_mod\n",
    "from mk3D_mod import mk3D_mod\n",
    "from aste_helper_funcs import *\n",
    "from timing_functions import *           # ts2dte, get_fnames, etc.\n",
    "from binning import *                    # bin_array, create_mesh\n",
    "\n",
    "# ignore memory warnings\n",
    "import warnings\n",
    "warnings.filterwarnings('ignore')"
   ]
  },
  {
   "cell_type": "code",
   "execution_count": 2,
   "id": "275517c7-8948-45e2-9033-88ac066f1249",
   "metadata": {},
   "outputs": [
    {
     "name": "stdout",
     "output_type": "stream",
     "text": [
      "(50,) (50, 1350, 270)\n",
      "hf1 (1350, 270)\n",
      "(1, 1350, 270)\n",
      "LwetC2d 146614\n",
      "LwetC 4833023\n",
      "\n"
     ]
    }
   ],
   "source": [
    "sys.path.append(\"/home/mmurakami/crios_backups/an_helper_functions\")\n",
    "from get_Jterms import *  # this will also set up the grid should be"
   ]
  },
  {
   "cell_type": "code",
   "execution_count": 3,
   "id": "b336c0b3-3f2e-4d4e-bfb6-b5c1950748cb",
   "metadata": {},
   "outputs": [],
   "source": [
    "forward_path = \"/scratch3/atnguyen/aste_270x450x180/run_c68v_adxOFF_20022023_capxxN50_it0062_pk0000000007_bro/\"\n",
    "layers_path = \"/scratch3/atnguyen/aste_270x450x180/run_c68v_layers_lessmem1_adxOFF_Jan2007_capxxN50_it0062_pk0000262944_bro/\"\n",
    "imgpath = \"/home/mmurakami/crios_backups/ASTE_270/Pemberton_BarentsSpaper/BarentsS_paper/figs/\"\n",
    "dirdiags = \"/scratch3/atnguyen/aste_270x450x180/run_c68v_layers_lessmem1_adxOFF_Jan2007_capxxN50_it0062_pk0000262944_bro/diags/LAYERS_Cwet/\"\n",
    "dirrun = \"/scratch3/atnguyen/aste_270x450x180/run_c68v_layers_lessmem1_adxOFF_Jan2007_capxxN50_it0062_pk0000262944_bro/\"\n",
    "dirState = \"/scratch3/atnguyen/aste_270x450x180/run_c68v_layers_lessmem1_adxOFF_Jan2007_capxxN50_it0062_pk0000262944_bro/diags/STATE/\"\n",
    "dirgridw = \"/scratch2/atnguyen/aste_270x450x180/GRID_wet/\""
   ]
  },
  {
   "cell_type": "code",
   "execution_count": 4,
   "id": "fa4b4674-8adc-4561-9dd2-6a7d0e62d2af",
   "metadata": {},
   "outputs": [
    {
     "data": {
      "text/plain": [
       "1"
      ]
     },
     "execution_count": 4,
     "metadata": {},
     "output_type": "execute_result"
    }
   ],
   "source": [
    "# get the timesteps for the year 2007\n",
    "# ocean and ice\n",
    "AB_gT=0\n",
    "AB_gS=0\n",
    "\n",
    "# define the years of this that we want to read from\n",
    "# create an array of the time steps we want to read\n",
    "# use ts2dte to get december 2014\n",
    "# first make an array of filenames\n",
    "dt_aste = 600\n",
    "startyr = 2002\n",
    "endyr = 2019\n",
    "\n",
    "# all the filenames in the system\n",
    "fnames = get_fnames(dt_aste,startyr,endyr)\n",
    "\n",
    "times = {}\n",
    "# times[\"2007\"] = np.arange(1,13,1)\n",
    "# times[\"2008\"] = np.arange(1,3,1)\n",
    "times[\"2007\"] = np.arange(12,14,1)\n",
    "times[\"2008\"] = np.arange(1,2,1)\n",
    "\n",
    "# the filenames we want for 2014\n",
    "tsstr,datetimes = get_tsteps(times,fnames,dt_aste,startyr,1,1)\n",
    "\n",
    "t2 = int(tsstr[1])    # this is the averages file that we want to read from when we do budgeting\n",
    "\n",
    "\n",
    "dt = datetimes[1]-datetimes[0]   # days\n",
    "dt = dt.total_seconds()\n",
    "\n",
    "tsteps = len(datetimes)-1\n",
    "tsteps"
   ]
  },
  {
   "cell_type": "code",
   "execution_count": 5,
   "id": "070399f6-6dea-49e0-b7e1-d99bef76c6f5",
   "metadata": {},
   "outputs": [
    {
     "name": "stdout",
     "output_type": "stream",
     "text": [
      "['0000311040' '0000315504']\n",
      "0000311040\n"
     ]
    }
   ],
   "source": [
    "names = np.array([\n",
    "    '0000267408', '0000271440', '0000275904', '0000280224',\n",
    "    '0000284688', '0000289008', '0000293472', '0000297936',\n",
    "    '0000302256', '0000306720', '0000311040', '0000315504'\n",
    "])\n",
    "print(tsstr)\n",
    "print(names[-2])"
   ]
  },
  {
   "cell_type": "code",
   "execution_count": 8,
   "id": "b01c51c4-b343-4e23-960e-223cbd4c3ac9",
   "metadata": {},
   "outputs": [],
   "source": [
    "# set up the mask - we can try and use the Barents Sea mask here but not sure\n",
    "data = np.load('../BarentsS_paper/masks_BS.npz')\n",
    "\n",
    "# Access the saved masks\n",
    "mask_south = data['mask_south']  # mask for heating and freshening (southern region)\n",
    "mask_north = data['mask_north']  # mask for heating and salting (northern region)\n",
    "mask_north_subsect = data['mask_north_subsect']  # mask for maximum location of change for heating and salting\n",
    "mask_BS = data['mask_BS']\n",
    "\n",
    "mask_south[mask_south == 0] = np.nan\n",
    "mask_north[mask_north == 0] = np.nan\n",
    "mask_north_subsect[mask_north_subsect == 0] = np.nan\n",
    "mask_BS[mask_BS == 0] = np.nan\n",
    "\n",
    "# set mymsk for the run below\n",
    "mymsk = mask_BS\n",
    "iB = 6\n",
    "titlestr = \"BarentsS\""
   ]
  },
  {
   "cell_type": "markdown",
   "id": "b2ce1cc3-5e38-4fad-bee9-c661dd29325e",
   "metadata": {},
   "source": [
    "### Do the budgeting and get the J terms"
   ]
  },
  {
   "cell_type": "code",
   "execution_count": 9,
   "id": "abb34850-c001-4ce4-82ef-586d30c0ae80",
   "metadata": {},
   "outputs": [],
   "source": [
    "# we will use the bins from the An run so that we have the same thing in both sections\n",
    "# Paths for the bins in this run\n",
    "copypath = \"/scratch/mmurakami/ASTE_270/LAYERS_copies/\"\n",
    "filename = \"layers2TH\"\n",
    "boundsT = rdmds(copypath + filename)\n",
    "binsTH_edges = boundsT.reshape(boundsT.shape[0])\n",
    "binsTH_centers = (binsTH_edges[:-1] + binsTH_edges[1:])/2\n",
    "nT = binsTH_edges.shape[0]-1\n",
    "# boundsT\n",
    "\n",
    "filename = \"layers1SLT\"\n",
    "boundsS = rdmds(copypath + filename)\n",
    "binsSLT_edges = boundsS.reshape(boundsS.shape[0])\n",
    "binsSLT_centers = (binsSLT_edges[:-1] + binsSLT_edges[1:])/2\n",
    "nS = binsSLT_edges.shape[0]-1\n",
    "# boundsS\n",
    "\n",
    "binwidthT = binsTH_edges[1:] - binsTH_edges[:-1]\n",
    "binwidthS = binsSLT_edges[1:] - binsSLT_edges[:-1]\n",
    "\n",
    "binwidthT1 = (binwidthT[:-1] + binwidthT[1:])/2\n",
    "binwidthS1 = (binwidthS[:-1] + binwidthS[1:])/2\n",
    "\n",
    "dT,dS = np.meshgrid(binwidthT,binwidthS)\n",
    "dT = dT.reshape(112,112,1)\n",
    "dS = dS.reshape(112,112,1)\n",
    "\n",
    "binmidT = ((boundsT[:-1] + boundsT[1:])/2).reshape(nT)\n",
    "binmidS = ((boundsS[:-1] + boundsS[1:])/2).reshape(nT)\n",
    "\n",
    "binmidTp = boundsT[1:-1]\n",
    "binmidSp = boundsS[1:-1]\n",
    "\n",
    "Tbin,Sbin = np.meshgrid(binsTH_edges,binsSLT_edges)\n",
    "Tbincent,Sbincent = np.meshgrid(binsTH_centers,binsSLT_centers)\n",
    "nS,nT = 112,112"
   ]
  },
  {
   "cell_type": "code",
   "execution_count": null,
   "id": "aaf82f2b-9c0c-47b0-b0d1-963946d4d3c7",
   "metadata": {},
   "outputs": [],
   "source": [
    "# set a larger array for one year of the terms\n",
    "\n",
    "vol_mesh_all = np.zeros((tsteps,nS,nT))\n",
    "JtermsT_all = np.zeros((tsteps,5,nS,nT))  # recall this is in the format tend, adv, df, kpp, and surface\n",
    "JtermsS_all = np.zeros((tsteps,5,nS,nT))\n",
    "JtermsT_nn_all = np.zeros((tsteps,5,nS,nT))\n",
    "JtermsS_nn_all = np.zeros((tsteps,5,nS,nT))"
   ]
  },
  {
   "cell_type": "code",
   "execution_count": null,
   "id": "1546d23a-b589-41e6-b1d8-b5d78fb007a6",
   "metadata": {},
   "outputs": [],
   "source": [
    "# reset the mean volume based on the terms\n",
    "JtermsT = np.nanmean(JtermsT_all,axis=0)\n",
    "JtermsS = np.nanmean(JtermsS_all,axis=0)\n",
    "vol_mesh = np.nanmean(vol_mesh_all,axis=0)\n",
    "JtermsS_nn = np.nanmean(JtermsS_nn_all,axis=0)\n",
    "JtermsT_nn = np.nanmean(JtermsT_nn_all,axis=0)"
   ]
  },
  {
   "cell_type": "code",
   "execution_count": null,
   "id": "bc111fd3-e15d-46a1-acbf-e4e535be2b68",
   "metadata": {},
   "outputs": [],
   "source": [
    "for i in range(len(datetimes)-1):\n",
    "    print(datetimes[i])\n",
    "    tsstrhere = tsstr[i:i+2]\n",
    "    datetimeshere = datetimes[i:i+2]\n",
    "    dt = datetimes[i+1]-datetimes[i]\n",
    "    dt = dt.total_seconds()\n",
    "    t2 = int(tsstr[i+1])\n",
    "\n",
    "    # run the function - check if this works\n",
    "    vol_mesh,JtermsT,JtermsS,JtermsT_nn,JtermsS_nn = get_Jterms(fnames,tsstrhere,datetimeshere,dt,t2,mymsk,iB,RAC,RAC3,myparms)\n",
    "\n",
    "    vol_mesh_all[i] = vol_mesh\n",
    "    JtermsT_all[i] = JtermsT\n",
    "    JtermsS_all[i] = JtermsS\n",
    "    JtermsT_nn_all[i] = JtermsT_nn\n",
    "    JtermsS_nn_all[i] = JtermsS_nn"
   ]
  },
  {
   "cell_type": "code",
   "execution_count": null,
   "id": "526ba27f-aad9-4656-afb2-92ddf30499d0",
   "metadata": {},
   "outputs": [],
   "source": [
    "tsstrhere"
   ]
  },
  {
   "cell_type": "code",
   "execution_count": null,
   "id": "eba2023b-5f88-43d8-bd13-a1053dd817a6",
   "metadata": {},
   "outputs": [],
   "source": [
    "# do the time-averaging -- setting this from January onward because this is what we have listed\n",
    "# JtermsT = np.nanmean(JtermsT_all[1:],axis=0)\n",
    "# JtermsS = np.nanmean(JtermsS_all[1:],axis=0)\n",
    "# vol_mesh = np.nanmean(vol_mesh_all[1:],axis=0)\n",
    "\n",
    "# JtermsS_nn = np.nanmean(JtermsS_nn_all[1:],axis=0)\n",
    "# JtermsT_nn = np.nanmean(JtermsT_nn_all[1:],axis=0)\n",
    "\n",
    "JtermsT = np.nanmean(JtermsT_all,axis=0)\n",
    "JtermsS = np.nanmean(JtermsS_all,axis=0)\n",
    "vol_mesh = np.nanmean(vol_mesh_all,axis=0)\n",
    "\n",
    "JtermsS_nn = np.nanmean(JtermsS_nn_all,axis=0)\n",
    "JtermsT_nn = np.nanmean(JtermsT_nn_all,axis=0)"
   ]
  },
  {
   "cell_type": "markdown",
   "id": "df07586a-40eb-4295-8f67-12e4cf485f01",
   "metadata": {},
   "source": [
    "### Create the T-S mesh for this (I think we should be able to use the same one in the layers)"
   ]
  },
  {
   "cell_type": "code",
   "execution_count": null,
   "id": "20d6cadd-e94a-4f1e-8225-292f8509541a",
   "metadata": {},
   "outputs": [],
   "source": [
    "cmap = plt.get_cmap('RdBu_r',31).copy()\n",
    "cmap.set_under(color='white')\n",
    "cmap2 = plt.get_cmap('viridis',31).copy()\n",
    "cmap2.set_under(color='white')"
   ]
  },
  {
   "cell_type": "code",
   "execution_count": null,
   "id": "14da6a6a-2df3-4423-91bb-7fe81ad2ad30",
   "metadata": {},
   "outputs": [],
   "source": []
  },
  {
   "cell_type": "code",
   "execution_count": null,
   "id": "6e6c79ba-ac28-4e01-8c60-bcd518ab8387",
   "metadata": {},
   "outputs": [],
   "source": [
    "\n",
    "# add the isopycnals\n",
    "# add the density contours from gsw\n",
    "smin = 25.5 - (0.01 * 25.5)    #salt_ctrl_subregR.min - (0.01 * salt_ctrl_subregR.min)\n",
    "smax = 38 + (0.01 * 38)    #salt_ctrl_subregR.max + (0.01 * salt_ctrl_subregR.max)\n",
    "tmin = -2 + (0.1 * -2)       #temp_ctrl_subregR.min - (0.1 * temp_ctrl_subregR.max)\n",
    "tmax = 31 + (0.1 * 31)       #temp_ctrl_subregR.max + (0.1 * temp_ctrl_subregR.max)\n",
    "print('tmin, tmax, smin, smax sizes=,', tmin, tmax, smin, smax)\n",
    "# Calculate how many gridcells we need in the x and y dimensions\n",
    "xdim = 50\n",
    "ydim = 50\n",
    "# Create empty grid of zeros\n",
    "dens = np.zeros((ydim,xdim))\n",
    "# Create temp and salt vectors of appropiate dimensions\n",
    "ti = np.linspace(-2,31,ydim)\n",
    "si = np.linspace(25.5,38,xdim)\n",
    "Freez_temp = gsw.CT_freezing(si,0,0)\n",
    "\n",
    "Si, Ti = np.meshgrid(si, ti, sparse=False, indexing='ij')\n",
    "# Loop to fill in grid with densities\n",
    "for j in range(0,int(ydim)):\n",
    "    for i in range(0, int(xdim)):\n",
    "        #print(si[i],ti[j])\n",
    "        dens[j,i]=gsw.rho(si[i],ti[j],0)\n",
    "        # Substract 1000 to convert to sigma-0\n",
    "dens2 = dens - 1000"
   ]
  },
  {
   "cell_type": "code",
   "execution_count": null,
   "id": "81c59d1a-b7b4-4062-a13c-c7ee212be79e",
   "metadata": {},
   "outputs": [],
   "source": [
    "# do a sample plot of the tendency terms here\n",
    "alpha, beta = 1, 0.2\n",
    "arrow_length, step, t, U, scale = 0.25, 2, 0, 0.5, 3e0\n",
    "ypos1, ypos2, xpos1, xpos2 = 0.81, 0.88, 0.35, 0.19\n",
    "\n",
    "# Time string for labeling\n",
    "timestr = datetimes[0].strftime(\"%Y-%m\")\n",
    "# timestr = datetimes[0].strftime(\"%Y\")\n",
    "\n",
    "# Plot limits\n",
    "xlims, ylims = np.array([30, 35.5]), np.array([-2.3, 12])\n",
    "\n",
    "# Titles for each subplot\n",
    "titles = [\n",
    "    \"Observed Tendency\", \"ADV Tendency\", \"DF Tendency\",\n",
    "    \"KPP Tendency\", \"Surface Tendency\", \"Sum of Tendencies\"\n",
    "]\n",
    "\n",
    "# Figure setup\n",
    "fig, axes = plt.subplots(2, 3, figsize=(12, 8))  # 2x3 subplot layout\n",
    "axes = axes.flatten()  # Flatten to iterate easily\n",
    "\n",
    "for i, ax in enumerate(axes):\n",
    "    if i < 5:\n",
    "        U1, V1 = JtermsS[i], JtermsT[i]  # Select tendency terms\n",
    "    else:\n",
    "        # Sum up all terms for the last plot\n",
    "        U1, V1 = sum(JtermsS[1:5]), sum(JtermsT[1:5])\n",
    "\n",
    "    # Apply scaling and set zero values to NaN\n",
    "    U1, V1 = U1 * alpha, V1 * beta\n",
    "    U1[U1 == 0], V1[V1 == 0] = np.nan, np.nan\n",
    "\n",
    "    # Background colormap\n",
    "    cb = ax.pcolormesh(Sbin, Tbin, np.log10(vol_mesh), cmap=cmap2, vmin=0.01, zorder=2)\n",
    "\n",
    "    # Quiver plot\n",
    "    q = ax.quiver(Sbincent[::step, ::step], Tbincent[::step, ::step], \n",
    "                  U1[::step, ::step], V1[::step, ::step], \n",
    "                  width=0.005, scale=scale, zorder=3, headwidth=5)\n",
    "\n",
    "    # Colorbar\n",
    "    plt.colorbar(cb, ax=ax, label=r'$\\log_{10}\\ (\\mathrm{m^3/^\\circ C/PSU})$')\n",
    "\n",
    "    # Titles, limits, and labels\n",
    "    ax.set_title(f\"{titles[i]} {timestr}\")\n",
    "    ax.set_xlim(xlims)\n",
    "    ax.set_ylim(ylims)\n",
    "\n",
    "    # Quiver key (for scale reference)\n",
    "    ax.quiverkey(q, X=xpos1, Y=ypos1, U=U, label=f\"{U*alpha} Sv/degC\", labelpos='E')\n",
    "    ax.quiverkey(q, X=xpos2, Y=ypos2, U=U, label=f\"{U*beta} Sv/PSU\", angle=90, labelpos='N', coordinates='axes')\n",
    "\n",
    "    # Label each subplot (A, B, C, etc.)\n",
    "    ax.text(0.95, 0.95, chr(65 + i), transform=ax.transAxes, fontsize=16, fontweight='bold', \n",
    "            va='top', ha='right')\n",
    "\n",
    "    # Density contours\n",
    "    cs = ax.contour(si, ti, dens2, colors=\"grey\", zorder=1, alpha=0.5, levels=np.arange(16, 32, 1))\n",
    "    ax.clabel(cs, fontsize=10, inline=False, fmt=\"%.f\")\n",
    "\n",
    "# Save figure\n",
    "plt.tight_layout()\n",
    "# plt.savefig(imgpath + titlestr + \"BarentsS\" + timestr + \".png\", dpi=300)\n",
    "plt.savefig(imgpath + \"samplebinning_nolayers\" + timestr + \".png\",dpi=300)\n",
    "plt.show()"
   ]
  },
  {
   "cell_type": "code",
   "execution_count": null,
   "id": "907595e3-162b-4bb6-b545-9357850843cc",
   "metadata": {},
   "outputs": [],
   "source": [
    "del JtermsT,JtermsT_all,JtermsS,JtermsS_all,vol_mesh,vol_mesh_all,JtermsS_nn,JtermsS_nn_all,JtermsT_nn,JtermsT_nn_all"
   ]
  },
  {
   "cell_type": "markdown",
   "id": "b79e926b-fc93-4abf-8427-181aeca435d4",
   "metadata": {},
   "source": [
    "# Import the files for run 2, the one with layers"
   ]
  },
  {
   "cell_type": "code",
   "execution_count": null,
   "id": "a0dafc6b-845d-4746-b652-0d961979345c",
   "metadata": {},
   "outputs": [],
   "source": [
    "# ts2dte(int(names[0]))"
   ]
  },
  {
   "cell_type": "code",
   "execution_count": null,
   "id": "d493773d-3d28-48e6-b16b-721b50a75f4a",
   "metadata": {},
   "outputs": [],
   "source": [
    "# check that we are reading the same timesteps"
   ]
  },
  {
   "cell_type": "code",
   "execution_count": null,
   "id": "6a05bae0-0c83-479f-ade7-9d5e78e802f2",
   "metadata": {},
   "outputs": [],
   "source": [
    "# we will be using the same tsstr values, check these are the ones listed\n",
    "tsstr"
   ]
  },
  {
   "cell_type": "code",
   "execution_count": null,
   "id": "62e5de1c-4fad-40ab-8323-68847e41f5ac",
   "metadata": {},
   "outputs": [],
   "source": [
    "tsstr = np.sort(tsstr)\n",
    "names = np.sort(names)"
   ]
  },
  {
   "cell_type": "code",
   "execution_count": null,
   "id": "dcff6e3f-6f95-4bed-8344-18cad027d3cb",
   "metadata": {},
   "outputs": [],
   "source": [
    "for i,j in zip(tsstr,names):\n",
    "    print(i,j)"
   ]
  },
  {
   "cell_type": "code",
   "execution_count": null,
   "id": "fd642b6e-6511-4aff-8fe8-94ca8b3c9659",
   "metadata": {},
   "outputs": [],
   "source": [
    "for fname in names:\n",
    "    print(ts2dte(int(fname)))"
   ]
  },
  {
   "cell_type": "code",
   "execution_count": null,
   "id": "0eeff927-0489-4ac6-8934-cac613ad56d3",
   "metadata": {},
   "outputs": [],
   "source": [
    "for fname in tsstr:\n",
    "    print(ts2dte(int(fname)))"
   ]
  },
  {
   "cell_type": "code",
   "execution_count": null,
   "id": "00537888-e524-4463-9507-4bace9b9658f",
   "metadata": {},
   "outputs": [],
   "source": [
    "# we need to drop the first month of this from the previous calculation\n",
    "print(ts2dte(int(tsstr[0])))\n",
    "print(tsstr[0])"
   ]
  },
  {
   "cell_type": "code",
   "execution_count": null,
   "id": "04721b41-364a-49c4-8c22-8d97a50dec4d",
   "metadata": {},
   "outputs": [],
   "source": [
    "print(ts2dte(int(names[-2])))\n",
    "print(names[-2])"
   ]
  },
  {
   "cell_type": "markdown",
   "id": "4fb1277c-e07b-4724-b007-41edcef405ea",
   "metadata": {},
   "source": [
    "### see if we can load for one month from the layers"
   ]
  },
  {
   "cell_type": "markdown",
   "id": "79a4e106-16f6-4637-9264-6aa95e6f733c",
   "metadata": {},
   "source": [
    "Key from available_diagnostics.log for Ttend:\n",
    "\n",
    "- LaTs2TH (m/s): Layer thickness tendency due to THETA surf. forc.\n",
    "- LaTh2TH (m/s): Layer thickness tendency due to THETA horiz. diff.\n",
    "- LaTz2TH (m/s): Layer thickness tendency due to THETA vert. diff.\n",
    "- TzKp2TH (m/s): Layer thickness tendency due to THETA vert. diff. (KPP part)\n",
    "- TzRe2TH (m/s): Layer thickness tendency due to THETA vert. diff. (Redi part)\n",
    "- TzBg2TH (m/s): Layer thickness tendency due to THETA vert. diff. (Bolus part)?\n",
    "- TKpg2TH: ?\n",
    "- LTha2TH (m/s): Layer thickness tendency due to THETA horiz. adv.\n",
    "- LTza2TH (m/s): Layer thickness tendency due to THETA vert. adv.\n",
    "- LTBh2TH (m/s): Layer thickness tendency due    to THETA horiz. adv. (bolus part)\n",
    "- LTBz2TH (m/s): Layer thickness tendency due to THETA vert. adv. (bolus)?\n",
    "- LTto2TH (m/day): Layer thickness tendency due to all THETA terms.\n",
    "- LaTs1SLT (m/s): Layer thickness tendency due to THETA surf. forc.\n",
    "- LaTh1SLT (m/s): Layer thickness tendency due to THETA horiz. diff.\n",
    "- LaTz1SLT (m/s): Layer thickness tendency due to THETA vert. diff.\n",
    "- TzKp1SLT (m/s): Layer thickness tendency due to THETA vert. diff. (KPP part)\n",
    "- TzRe1SLT (m/s): Layer thickness tendency due to THETA vert. diff. (Redi part)\n",
    "- TzBg1SLT (m/s): bolus?\n",
    "- TKpg1SLT: ?\n",
    "- LTha1SLT (m/s): Layer thickness tendency due to THETA horiz. adv.\n",
    "- LTza1SLT (m/s): Layer thickness tendency due to THETA vert. adv.\n",
    "- LTBh1SLT (m/s): Layer thickness tendency due    to THETA horiz. adv. (bolus part)\n",
    "- LTBz1SLT (m/s): Layer thickness tendency due to THETA vert. adv. (bolus)\n",
    "- LTto1SLT (m/day): Layer thickness tendency due to all THETA terms.\n"
   ]
  },
  {
   "cell_type": "markdown",
   "id": "03d5c666-3ffe-4073-937e-8b76e6a788c0",
   "metadata": {},
   "source": [
    "Key from available_diagnostics.log for Stend:\n",
    "\n",
    "- LaSs2TH (m/s): Layer thickness tendency due to SALT surf. forc.\n",
    "- LaSh2TH (m/s): Layer thickness tendency due to SALT horiz. diff.\n",
    "- LaSz2TH (m/s): Layer thickness tendency due to SALT vert. diff.\n",
    "- SzKp2TH (m/s): Layer thickness tendency due to SALT vert. diff. (KPP part)\n",
    "- SzRe2TH (m/s): Layer thickness tendency due to SALT vert. diff. (Redi part)\n",
    "- SzBg2TH (m/s): Layer thickness tendency due to SALT vert. diff. (Bolus part)?\n",
    "- SKpg2TH: ?\n",
    "- LSha2TH (m/s): Layer thickness tendency due to SALT horiz. adv.\n",
    "- LSza2TH (m/s): Layer thickness tendency due to SALT vert. adv.\n",
    "- LSBh2TH (m/s): Layer thickness tendency due to SALT horiz. adv. (bolus part)\n",
    "- LSBz2TH (m/s): Layer thickness tendency due to SALT vert. adv. (bolus part)\n",
    "- LSto2TH (m/day): Layer thickness tendency due to all SALT terms.\n",
    "- LaSs1SLT (m/s): Layer thickness tendency due to SALT surf. forc.\n",
    "- LaSh1SLT (m/s): Layer thickness tendency due to SALT horiz. diff.\n",
    "- LaSz1SLT (m/s): Layer thickness tendency due to SALT vert. diff.\n",
    "- SzKp1SLT (m/s): Layer thickness tendency due to SALT vert. diff. (KPP part)\n",
    "- SzRe1SLT (m/s): Layer thickness tendency due to SALT vert. diff. (Redi part)\n",
    "- SzBg1SLT (m/s): Layer thickness tendency due to SALT vert. diff. (Bolus part)?\n",
    "- SKpg1SLT: ?\n",
    "- LSha1SLT (m/s): Layer thickness tendency due to SALT horiz. adv.\n",
    "- LSza1SLT (m/s): Layer thickness tendency due to SALT vert. adv.\n",
    "- LSBh1SLT (m/s): Layer thickness tendency due to SALT horiz. adv. (bolus part)\n",
    "- LSBz1SLT (m/s): Layer thickness tendency due to SALT vert. adv. (bolus part)\n",
    "- LSto1SLT (m/day): Layer thickness tendency due to all SALT terms."
   ]
  },
  {
   "cell_type": "code",
   "execution_count": null,
   "id": "c9c482e7-c97a-4136-a20f-a51715706cc2",
   "metadata": {},
   "outputs": [],
   "source": [
    "dirdiags = \"/scratch3/atnguyen/aste_270x450x180/run_c68v_layers_lessmem1_adxOFF_Jan2007_capxxN50_it0062_pk0000262944_bro/diags/LAYERS/\""
   ]
  },
  {
   "cell_type": "code",
   "execution_count": null,
   "id": "571029ed-5dfb-4b94-9672-bc6029321dc0",
   "metadata": {},
   "outputs": [],
   "source": [
    "# ffac=1e-6\n",
    "# G_T=np.array([])\n",
    "# metaT=parsemeta(dirdiags + \"LAYERS/layers_3d_Ttend.0000723024.meta\")\n",
    "# metaS=parsemeta(dirdiags + \"LAYERS/layers_3d_Stend.0000723024.meta\")\n",
    "# nFldsS = metaS[\"fldList\"]\n",
    "# nFldsT = metaT[\"fldList\"]"
   ]
  },
  {
   "cell_type": "code",
   "execution_count": null,
   "id": "14d0782c-96fc-4ffd-ab8d-5fa2019cf543",
   "metadata": {},
   "outputs": [],
   "source": [
    "# try to just plot the total tendency from the Ttend files\n",
    "ffac = 1e-6\n",
    "dirInLayers = \"/scratch3/atnguyen/aste_270x450x180/run_c68v_layers_lessmem1_adxOFF_Jan2007_capxxN50_it0062_pk0000262944_bro/diags/LAYERS/\"\n",
    "dirInBudg = \"/scratch3/atnguyen/aste_270x450x180/run_c68v_layers_lessmem1_adxOFF_Jan2007_capxxN50_it0062_pk0000262944_bro/diags/BUDG/\"\n",
    "\n",
    "file_name = \"layers_3d_Ttend\"\n",
    "\n",
    "meta_layers_3d_Ttend = parsemeta(dirInLayers + file_name + \".\" + names[0] + \".meta\")\n",
    "fldlist = np.array(meta_layers_3d_Ttend[\"fldList\"])\n",
    "print(fldlist)\n",
    "varnames = np.array([\"LTto2TH\",\"LTto1SLT\"])\n",
    "# recs = np.array([])\n",
    "# for var in varnames:\n",
    "#     irec = np.where(fldlist == var)\n",
    "#     recs = np.append(recs, irec[0][0])\n",
    "# ADVx_SLT,its,meta = rdmds(os.path.join(dirIn, file_name),t2,returnmeta=True,rec=recs[0])\n",
    "# ADVy_SLT,its,meta = rdmds(os.path.join(dirIn, file_name),t2,returnmeta=True,rec=recs[1])\n",
    "# DFxE_SLT,its,meta = rdmds(os.path.join(dirIn, file_name),t2,returnmeta=True,rec=recs[2])\n",
    "# DFyE_SLT,its,meta = rdmds(os.path.join(dirIn, file_name),t2,returnmeta=True,rec=recs[3])"
   ]
  },
  {
   "cell_type": "code",
   "execution_count": null,
   "id": "3aa5917f-ac0b-47da-b836-396eb370fdea",
   "metadata": {},
   "outputs": [],
   "source": [
    "# try to do a plot of the total tendency from the Stend files\n",
    "# try to just plot the total tendency\n",
    "ffac = 1e-6\n",
    "dirInLayers = \"/scratch3/atnguyen/aste_270x450x180/run_c68v_layers_lessmem1_adxOFF_Jan2007_capxxN50_it0062_pk0000262944_bro/diags/LAYERS/\"\n",
    "file_name = \"layers_3d_Stend\"\n",
    "\n",
    "meta_layers_3d_Ttend = parsemeta(dirInLayers + file_name + \".\" + names[0] + \".meta\")\n",
    "fldlist = np.array(meta_layers_3d_Ttend[\"fldList\"])\n",
    "print(fldlist)\n",
    "varnames = np.array([\"LTto2TH\",\"LTto1SLT\"])\n",
    "# recs = np.array([])\n",
    "# for var in varnames:\n",
    "#     irec = np.where(fldlist == var)\n",
    "#     recs = np.append(recs, irec[0][0])\n",
    "# ADVx_SLT,its,meta = rdmds(os.path.join(dirIn, file_name),t2,returnmeta=True,rec=recs[0])\n",
    "# ADVy_SLT,its,meta = rdmds(os.path.join(dirIn, file_name),t2,returnmeta=True,rec=recs[1])\n",
    "# DFxE_SLT,its,meta = rdmds(os.path.join(dirIn, file_name),t2,returnmeta=True,rec=recs[2])\n",
    "# DFyE_SLT,its,meta = rdmds(os.path.join(dirIn, file_name),t2,returnmeta=True,rec=recs[3])"
   ]
  },
  {
   "cell_type": "markdown",
   "id": "fbb389fd-014f-449b-9a7b-060e4a14ba0e",
   "metadata": {},
   "source": [
    "## create the volume distribution for one month"
   ]
  },
  {
   "cell_type": "code",
   "execution_count": null,
   "id": "741c74b6-146a-4362-8285-c95b66ebe2c4",
   "metadata": {},
   "outputs": [],
   "source": [
    "names\n",
    "dirInBudg"
   ]
  },
  {
   "cell_type": "code",
   "execution_count": null,
   "id": "e0bedcf4-4b65-4e82-b012-de04b7c18026",
   "metadata": {},
   "outputs": [],
   "source": [
    "# assuming all files are structured the same\n",
    "\n",
    "file_name = 'budg2d_snap_set1'\n",
    "meta_budg2d_snap_set1 = parsemeta(dirInBudg + file_name + \".\" + names[-2]+ \".meta\")\n",
    "print(\"reading \" + file_name + \".\" + names[-2]+ \".meta\")\n",
    "\n",
    "# try to read this with rec\n",
    "fldlist = np.array(meta_budg2d_snap_set1['fldList'])\n",
    "varnames = np.array(['ETAN'])\n",
    "recs = np.array([])\n",
    "for var in varnames:\n",
    "    irec = np.where(fldlist == var)\n",
    "    recs = np.append(recs, irec[0][0])\n",
    "\n",
    "# set for all months\n",
    "vol = np.zeros((len(tsstr),nz, ny, nx))\n",
    "\n",
    "# read the first timestep as an example\n",
    "t1 = names[0]\n",
    "read = [int(t1)]\n",
    "\n",
    "# make sure order we write the variables is the same as the order in varnames, else we read the wrong thing\n",
    "ETAN,its,meta = rdmds(os.path.join(dirInBudg, file_name),read,returnmeta=True,rec=recs[0])\n",
    "\n",
    "# choose by basin\n",
    "ETAN = np.reshape(ETAN,(ny,nx))\n",
    "\n",
    "# 3D, with rStar:\n",
    "tmpvol = np.zeros((nz, ny, nx))\n",
    "if myparms['useNLFS'] < 2 or myparms['rStar'] == 0:        # not this time\n",
    "    tmpvol[0,:, :] = ETAN * myparms['rhoconst'] * RAC\n",
    "    if myparms['useRFWF'] == 0:\n",
    "        tmpvol[0, :, :] = np.zeros((ny, nx))\n",
    "else:    # 4/22 look at this one\n",
    "    if myparms['useRFWF'] != 0:                                 # we are using this  # check if tmp1 is the same as drf3d!!\n",
    "        tmp1 = mk3D_mod(mygrid['DRF'],hfC) * hfC     # m\n",
    "        tmp2 = tmp1/mk3D_mod(DD,tmp1)                # drf as a fraction of total depth, this allows us to distribute etan between z\n",
    "    else:\n",
    "        tmp2 = drf3d / mk3D_mod(DD, tmp1)\n",
    "\n",
    "    # this is still wrong, we want to subtract the ETAN anomaly from the existing volumes\n",
    "    tmpvol =  (tmp1 + tmp2*mk3D_mod(ETAN, tmp2)) * mk3D_mod(RAC, hfC)     # volume, m * m^2  = m^3\n",
    "    tmpvol1 = (tmp1 * mk3D_mod(RAC, hfC))\n",
    "\n",
    "tmpvol = tmpvol * np.tile(mymsk, (nz, 1, 1))\n",
    "tmpvol1 = tmpvol1 * np.tile(mymsk, (nz, 1, 1))"
   ]
  },
  {
   "cell_type": "code",
   "execution_count": null,
   "id": "ba977004-4e54-4221-867d-47492f88ae54",
   "metadata": {},
   "outputs": [],
   "source": [
    "# print(np.nansum(tmpvol),np.nansum(tmpvol1))"
   ]
  },
  {
   "cell_type": "code",
   "execution_count": null,
   "id": "d8b786eb-8342-45fc-bf77-4efb81b51fbe",
   "metadata": {},
   "outputs": [],
   "source": [
    "# load the THETA to do the binning\n",
    "file_name = \"state_3d_set1\"\n",
    "meta_budg3d_kpptend_set1 = parsemeta(dirState + file_name + \".\" + names[-2] + \".meta\")\n",
    "fldlist = np.array(meta_budg3d_kpptend_set1[\"fldList\"])\n",
    "varnames = np.array([\"THETA\",\"SALT\"])\n",
    "recs = np.array([])\n",
    "t2 = int(names[-2])\n",
    "for var in varnames:\n",
    "    irec = np.where(fldlist == var)\n",
    "    recs = np.append(recs, irec[0][0])\n",
    "THETA,its,meta = rdmds(os.path.join(dirState, file_name),t2,returnmeta=True,rec=recs[0])\n",
    "SALT,its,meta = rdmds(os.path.join(dirState, file_name),t2,returnmeta=True,rec=recs[1])\n",
    "\n",
    "THETA = THETA.reshape(nz,ny,nx) * np.tile(mymsk[np.newaxis,:,:],(nz,1,1))\n",
    "SALT = SALT.reshape(nz,ny,nx) * np.tile(mymsk[np.newaxis,:,:],(nz,1,1))"
   ]
  },
  {
   "cell_type": "code",
   "execution_count": null,
   "id": "74e85db6-c9ec-4df7-9f91-9b8766cc9840",
   "metadata": {},
   "outputs": [],
   "source": [
    "# bin the volume we masked\n",
    "binned_theta = bin_array(THETA,binsTH_edges)\n",
    "binned_theta = binned_theta.astype(float)\n",
    "binned_theta[binned_theta == nT] = np.nan     # because the binning is setting nan to last value\n",
    "binned_salinity = bin_array(SALT,binsSLT_edges)\n",
    "binned_salinity = binned_salinity.astype(float)\n",
    "binned_salinity[binned_salinity == nS] = np.nan"
   ]
  },
  {
   "cell_type": "code",
   "execution_count": null,
   "id": "e1660614-ad46-4028-9de3-76dce6e3d5c7",
   "metadata": {},
   "outputs": [],
   "source": [
    "# create the volume mesh\n",
    "maskArc = mskBasin * mymsk   # this is somewhat redundant and we are not actually using iB below\n",
    "\n",
    "binwidthsS_tile = np.tile(binwidthS, (112, 1)).T\n",
    "binwidthsT_tile = np.tile(binwidthT, (112, 1))\n",
    "\n",
    "idxs = np.where(maskArc == iB)\n",
    "npoints = len(idxs[0])\n",
    "mesh = create_TS_mesh(np.array(names[0]).reshape(1),nS,nT,npoints,binned_salinity.reshape(1,nz,ny,nx), binned_theta.reshape(1,nz,ny,nx),tmpvol.reshape(1,nz,ny,nx),idxs,dT,dS)\n",
    "\n",
    "# sum the volume from the points in dimension 2\n",
    "vol_mesh = np.nansum(mesh[0],axis=2)"
   ]
  },
  {
   "cell_type": "code",
   "execution_count": null,
   "id": "6ae514fd-ddf4-43ec-839e-f506a303f68a",
   "metadata": {},
   "outputs": [],
   "source": [
    "# now plot a sample TS diagram of this without the tendency terms\n",
    "xlims, ylims = np.array([30, 35.5]), np.array([-2.3, 12])\n",
    "\n",
    "fig = plt.figure(figsize = (4,4))\n",
    "\n",
    "ax = plt.subplot(111)\n",
    "cb = ax.pcolormesh(Sbin, Tbin, np.log10(vol_mesh), cmap=cmap2, zorder=2,vmin=0.01)\n",
    "ax.set_xlim(xlims)\n",
    "ax.set_ylim(ylims)\n",
    "\n",
    "ax.set_title(f\" {timestr} from State Binning, Layers run\")\n",
    "\n",
    "plt.colorbar(cb, ax=ax, label=r'$\\log_{10}\\ (\\mathrm{m^3/^\\circ C/PSU})$')\n",
    "cs = ax.contour(si, ti, dens2, colors=\"grey\", zorder=1, alpha=0.5, levels=np.arange(16, 32, 1))\n",
    "ax.clabel(cs, fontsize=10, inline=False, fmt=\"%.f\")\n",
    "\n",
    "plt.savefig(imgpath + \"statebinning_layersrun\" + timestr + \".png\",dpi=300)"
   ]
  },
  {
   "cell_type": "code",
   "execution_count": null,
   "id": "0cdb984b-4135-47ca-857c-2bd870686c8c",
   "metadata": {},
   "outputs": [],
   "source": [
    "# maybe check the volume of the sea manually with the grid to make sure we are on the same scale\n",
    "mygrid['DRF']\n",
    "mygrid['DXG']\n",
    "mygrid['DYG']\n",
    "\n",
    "testx = mygrid['DXG']*mymsk\n",
    "testx = np.tile(testx[np.newaxis,:,:],(nz,1,1))\n",
    "testy = mygrid['DYG']*mymsk\n",
    "testy = np.tile(testy[np.newaxis,:,:],(nz,1,1))\n",
    "testz = np.tile(mygrid['DRF'][:,np.newaxis,np.newaxis],(1,ny,nx)) * np.tile(mymsk[np.newaxis,:,:],(nz,1,1))\n",
    "print(testx.shape,testy.shape,testz.shape)"
   ]
  },
  {
   "cell_type": "code",
   "execution_count": null,
   "id": "0abf6baf-e247-4fb3-b203-0978b28c14db",
   "metadata": {},
   "outputs": [],
   "source": [
    "testvolhere = testx*testy*testz"
   ]
  },
  {
   "cell_type": "code",
   "execution_count": null,
   "id": "3552e6cf-849e-45a5-90ad-884689889456",
   "metadata": {},
   "outputs": [],
   "source": [
    "np.nansum(testvolhere)"
   ]
  },
  {
   "cell_type": "code",
   "execution_count": null,
   "id": "f4383c92-9e92-42c1-8b0c-9ddcef3e453a",
   "metadata": {},
   "outputs": [],
   "source": [
    "np.nansum(vol_mesh)"
   ]
  },
  {
   "cell_type": "markdown",
   "id": "06a5151f-2bb6-454a-87db-babca0b80771",
   "metadata": {},
   "source": [
    "## Now try to do the volume the way we did in lookat_layers"
   ]
  },
  {
   "cell_type": "markdown",
   "id": "954c9dd6-d213-4b61-9a66-c0ff69d19f0f",
   "metadata": {},
   "source": [
    "# Now we can try to plot the above with some quivers, but this already looks different"
   ]
  },
  {
   "cell_type": "code",
   "execution_count": null,
   "id": "6dafec60-7ca1-4b95-b5f1-12f46b8145cd",
   "metadata": {},
   "outputs": [],
   "source": [
    "# tsstr = '0000723024'\n",
    "names[-2]"
   ]
  },
  {
   "cell_type": "code",
   "execution_count": 10,
   "id": "af63ea41-7a41-4efa-86fc-65e0cd662ec5",
   "metadata": {},
   "outputs": [
    {
     "data": {
      "image/png": "[encoded data removed]",
      "text/plain": [
       "<Figure size 1000x400 with 2 Axes>"
      ]
     },
     "metadata": {},
     "output_type": "display_data"
    }
   ],
   "source": [
    "ind2d_aste = get_aste_tracer(np.reshape(mskBasin,(ny,nx)),nfx,nfy)\n",
    "plt.pcolormesh(ind2d_aste[0,:,:])\n",
    "plt.colorbar()\n",
    "ind2d = mskBasin.reshape(364500)\n",
    "ind2d.shape\n",
    "# iBarentsS2D = np.where(ind2d == 7)[0]\n",
    "\n",
    "ind2d_wet = ind2d[iwetC2d]\n",
    "iwet_BarentsS2D = np.where(ind2d_wet == 6)[0]"
   ]
  },
  {
   "cell_type": "code",
   "execution_count": 11,
   "id": "1aac7f90-03ca-4f37-b4bb-a542b0f00782",
   "metadata": {},
   "outputs": [],
   "source": [
    "# create the basins based on the values and make subplots\n",
    "#        1           2          3           4         5         6        7         8      9     10    11       12      13         14\n",
    "#strb={'CanadaB','ChukchiS','MakarovB','AmundsenB','NansenB','BeringS','BarentsS','GINs','CAA','SPG','LabSea','NPac','NAtlantic','AtlS30'};\n",
    "idxs = np.arange(0,14,1)\n",
    "strb=np.array(['CanadaB','ChukchiS','MakarovB','AmundsenB','NansenB','BeringS','BarentsS','GINs','CAA',\n",
    "               'SPG','LabSea','NPac','NAtlantic','AtlS30'])\n",
    "\n",
    "# REDEFINE THESE AND REPLACE STRI with similar phrasing for wet indices\n",
    "iBarentsS2D = np.where(ind2d == 6)[0]\n",
    "iwet_BarentsS2D = np.where(ind2d_wet == 6)[0]"
   ]
  },
  {
   "cell_type": "code",
   "execution_count": 12,
   "id": "9eaf31af-af8c-4d90-919c-f900d43a1a48",
   "metadata": {},
   "outputs": [
    {
     "data": {
      "text/plain": [
       "<matplotlib.collections.QuadMesh at 0x154dda7c6d00>"
      ]
     },
     "execution_count": 12,
     "metadata": {},
     "output_type": "execute_result"
    },
    {
     "data": {
      "image/png": "[encoded data removed]",
      "text/plain": [
       "<Figure size 300x900 with 2 Axes>"
      ]
     },
     "metadata": {},
     "output_type": "display_data"
    }
   ],
   "source": [
    "# # now we should be around line 179\n",
    "# iBasinArctic = np.concatenate((iCanada2D,iChukchiS2D,iMakarovB2D,iAmundsenB2D,iNansenB2D))\n",
    "# iBasinMedSPG = np.concatenate ((iBasinArctic, iBeringS2D, iBarentsS2D,iGINs2D,iCAA2D,iSPG2D,iLabSea2D))\n",
    "# # iBasinGlobal = np.concatenate((iBasinMedSPG, iNPac2D,iNAtlantic2D,iAtlS302D))\n",
    "# iBasinGlobal = iwetC2d[np.where(hf2d>0)[0]] ## QUESTION FOR AN - WHAT IS THE CORRECT WAY TO REFERENCE THIS\n",
    "\n",
    "# make subplots based on these - hope we did this right\n",
    "myzero = np.zeros((ny*nx))\n",
    "fig,axs = plt.subplots(2,figsize = (3,9))\n",
    "\n",
    "myzerotmp = myzero.copy() # copy for reference in loop\n",
    "myzerotmp[iBarentsS2D] = 1\n",
    "myzerotmp =  np.reshape(myzerotmp,(ny,nx))\n",
    "myzerotmp = get_aste_tracer(myzerotmp,nfx,nfy)\n",
    "axs[0].pcolormesh(myzerotmp[0,:,:])\n",
    "\n",
    "# myzerotmp = myzero.copy() # copy for reference in loop\n",
    "# myzerotmp[iBasinMedSPG] = 1\n",
    "# myzerotmp =  np.reshape(myzerotmp,(ny,nx))\n",
    "# myzerotmp = get_aste_tracer(myzerotmp,nfx,nfy)\n",
    "# axs[1].pcolormesh(myzerotmp[0,:,:])\n",
    "\n",
    "# myzerotmp = myzero.copy() # copy for reference in loop\n",
    "# myzerotmp[iwetC2d[np.where(hf2d>0)[0]]] = 1\n",
    "# myzerotmp =  np.reshape(myzerotmp,(ny,nx))\n",
    "# myzerotmp = get_aste_tracer(myzerotmp,nfx,nfy)\n",
    "# axs[2].pcolormesh(myzerotmp[0,:,:])"
   ]
  },
  {
   "cell_type": "code",
   "execution_count": 13,
   "id": "98082546-faa5-4103-8c9c-8b2e2402b914",
   "metadata": {},
   "outputs": [
    {
     "name": "stdout",
     "output_type": "stream",
     "text": [
      "RAC2d (146614,)\n",
      "(4833023,)\n"
     ]
    }
   ],
   "source": [
    "# 2d\n",
    "rac2d = read_float64(dirgridw + \"RAC_\" + str(LwetC2d) + \".data\")\n",
    "# TEST, ask An\n",
    "# rac2d = rac2d.reshape((LwetC2d,2))\n",
    "# rac2d = rac2d[:,0]\n",
    "print(\"RAC2d\",rac2d.shape)\n",
    "\n",
    "drf3d = read_float32(dirgridw + \"DRF_\" + str(LwetC) + \".data\")\n",
    "\n",
    "hf1flat = np.reshape(hf1,hf1.flatten().shape[0])\n",
    "hf2d = hf1flat[iwetC2d]\n",
    "\n",
    "rac2dtile = np.tile(rac2d,(nT-1,1)) #.shape\n",
    "hf2dtile = np.tile(hf2d,(nT-1,1))"
   ]
  },
  {
   "cell_type": "code",
   "execution_count": 14,
   "id": "3c90070c-b6b4-4631-a0b8-fa1cb5b07c8f",
   "metadata": {},
   "outputs": [
    {
     "data": {
      "text/plain": [
       "'0000311040'"
      ]
     },
     "execution_count": 14,
     "metadata": {},
     "output_type": "execute_result"
    }
   ],
   "source": [
    "\n",
    "# small.shape\n",
    "\n",
    "ffac = 1e-6\n",
    "names[-2]"
   ]
  },
  {
   "cell_type": "code",
   "execution_count": 13,
   "id": "6d3f000a-292c-4c5d-90bb-9dfb85a7e619",
   "metadata": {},
   "outputs": [],
   "source": [
    "# try to read the volume from the layers\n",
    "# now create vectors (366) - this is not correct I think\n",
    "vol_distrib = {}\n",
    "dT,dS = np.meshgrid(binwidthT,binwidthS)\n",
    "i = 1\n",
    "\n",
    "filename = dirrun + \"diags/LAYERS_Cwet/layers_TSjoint_p_\" + str(LwetC2d) + \".\" + names[-2] + \".data\"\n",
    "tmp = read_float32_skip(filename, LwetC2d*(nS)*(nT),i-1)\n",
    "\n",
    "tmp = np.reshape(tmp,(nT,nS,LwetC2d))              # LwetC2d x nS x nT\n",
    "small = rac2d * hf2d\n",
    "small = np.tile(small[np.newaxis,np.newaxis,:],(nT,nS,1))\n",
    "\n",
    "tmp = tmp * small * ffac\n",
    "\n",
    "# do just for BarentsS\n",
    "tmp1 = np.nansum(tmp[:,:,iwet_BarentsS2D],axis=2)\n",
    "tmp1[tmp1 == 0] = np.nan\n",
    "vol_distrib[\"BarentsS\"] = tmp1 / dT / dS  # [m^3 / (degC psu)]\n",
    "\n",
    "del tmp1"
   ]
  },
  {
   "cell_type": "code",
   "execution_count": 14,
   "id": "d5a90fb5-8ce5-4288-95a3-3a0e0455d4c2",
   "metadata": {},
   "outputs": [
    {
     "data": {
      "text/plain": [
       "(0.0, 40.0)"
      ]
     },
     "execution_count": 14,
     "metadata": {},
     "output_type": "execute_result"
    },
    {
     "data": {
      "image/png": "[encoded data removed]",
      "text/plain": [
       "<Figure size 500x500 with 1 Axes>"
      ]
     },
     "metadata": {},
     "output_type": "display_data"
    }
   ],
   "source": [
    "# try to plot with this volume distribution to see if different from the previous version\n",
    "\n",
    "# # make a quick volume distribution of the entire region\n",
    "plt.figure(figsize = (5,5))\n",
    "plt.pcolormesh(Tbin,Sbin,np.log10(vol_distrib['BarentsS']))\n",
    "plt.xlabel(\"S\")\n",
    "plt.ylabel(\"T\")\n",
    "plt.grid()\n",
    "plt.xlim(25,38)\n",
    "plt.ylim(0,40)"
   ]
  },
  {
   "cell_type": "code",
   "execution_count": 14,
   "id": "a5518f08-da30-4edc-8cc4-e4e30878bd14",
   "metadata": {},
   "outputs": [],
   "source": [
    "imymsk = np.where(mymsk == 1)"
   ]
  },
  {
   "cell_type": "code",
   "execution_count": 15,
   "id": "dc51a4e6-5f99-4997-bb37-425555017e3f",
   "metadata": {},
   "outputs": [
    {
     "data": {
      "text/plain": [
       "<matplotlib.collections.QuadMesh at 0x14e7c81f5bb0>"
      ]
     },
     "execution_count": 15,
     "metadata": {},
     "output_type": "execute_result"
    },
    {
     "data": {
      "image/png": "[encoded data removed]",
      "text/plain": [
       "<Figure size 300x900 with 2 Axes>"
      ]
     },
     "metadata": {},
     "output_type": "display_data"
    }
   ],
   "source": [
    "# make subplots based on these - hope we did this right\n",
    "myzero = np.full((ny*nx),np.nan)\n",
    "fig,axs = plt.subplots(2,figsize = (3,9))\n",
    "\n",
    "myzerotmp = myzero.copy() # copy for reference in loop\n",
    "myzerotmp[iBarentsS2D] = 1\n",
    "myzerotmp =  np.reshape(myzerotmp,(ny,nx))\n",
    "myzerotmp = get_aste_tracer(myzerotmp,nfx,nfy)\n",
    "axs[0].pcolormesh(myzerotmp[0,:,:])\n",
    "\n",
    "myzerotmp = myzero.copy() # copy for reference in loop\n",
    "# myzerotmp[imymsk] = 1\n",
    "# myzerotmp =  np.reshape(myzerotmp,(ny,nx))\n",
    "myzerotmp = get_aste_tracer(mymsk,nfx,nfy)\n",
    "axs[1].pcolormesh(myzerotmp[0,:,:])"
   ]
  },
  {
   "cell_type": "code",
   "execution_count": null,
   "id": "9082c5a9-8687-449f-8698-9e0f25b23d9a",
   "metadata": {},
   "outputs": [],
   "source": [
    "# compare this to the one we did with the state\n",
    "\n",
    "fig = plt.figure(figsize = (10,5))\n",
    "# first subplot - from the state variables\n",
    "ax = plt.subplot(121)\n",
    "cb = ax.pcolormesh(Sbin, Tbin, np.log10(vol_mesh), cmap=cmap2, zorder=2,vmin=0.01)\n",
    "ax.set_xlim(xlims)\n",
    "ax.set_ylim(ylims)\n",
    "ax.set_title(f\" {timestr} from State Binning, Layers run\")\n",
    "plt.colorbar(cb, ax=ax, label=r'$\\log_{10}\\ (\\mathrm{m^3/^\\circ C/PSU})$')\n",
    "cs = ax.contour(si, ti, dens2, colors=\"grey\", zorder=1, alpha=0.5, levels=np.arange(16, 32, 1))\n",
    "ax.clabel(cs, fontsize=10, inline=False, fmt=\"%.f\")\n",
    "\n",
    "# second subplot - from the layers run\n",
    "ax = plt.subplot(122)\n",
    "cb = ax.pcolormesh(Sbin, Tbin, np.log10(vol_distrib['BarentsS']).T, cmap=cmap2, zorder=2,vmin=0.01)\n",
    "ax.set_xlim(xlims)\n",
    "ax.set_ylim(ylims)\n",
    "ax.set_title(f\" {timestr} from Layers run\")\n",
    "plt.colorbar(cb, ax=ax, label=r'$\\log_{10}\\ (\\mathrm{m^3/^\\circ C/PSU})$')\n",
    "cs = ax.contour(si, ti, dens2, colors=\"grey\", zorder=1, alpha=0.5, levels=np.arange(16, 32, 1))\n",
    "ax.clabel(cs, fontsize=10, inline=False, fmt=\"%.f\")\n",
    "\n",
    "plt.savefig(imgpath + \"comparing_state_binning_to_layers\" + timestr + \".png\",dpi=300)"
   ]
  },
  {
   "cell_type": "code",
   "execution_count": null,
   "id": "301441b1-16dd-4a94-9055-9cb6fce9c3ad",
   "metadata": {},
   "outputs": [],
   "source": [
    "print(np.nansum(np.log10(vol_mesh)))\n",
    "print(np.nansum(np.log10(vol_distrib['BarentsS'])))"
   ]
  },
  {
   "cell_type": "code",
   "execution_count": null,
   "id": "de125bd1-6473-4806-8c9c-9046473b53e3",
   "metadata": {},
   "outputs": [],
   "source": [
    "# np.nansum(vol_mesh)"
   ]
  },
  {
   "cell_type": "code",
   "execution_count": null,
   "id": "aab22918-ea30-4c8f-b462-536bd58a0401",
   "metadata": {},
   "outputs": [],
   "source": [
    "# np.nansum(vol_distrib['BarentsS'])"
   ]
  },
  {
   "cell_type": "markdown",
   "id": "b2544cf6-8d91-4022-a935-f02b01428892",
   "metadata": {},
   "source": [
    "## Do G_T and G_S and hopefully J terms"
   ]
  },
  {
   "cell_type": "code",
   "execution_count": 16,
   "id": "e2b456b0-a2e8-4939-b5a1-e43b743073e3",
   "metadata": {},
   "outputs": [],
   "source": [
    "ffac=1e-6\n",
    "G_T=np.array([])\n",
    "metaT=parsemeta(dirrun + \"diags/LAYERS/layers_3d_Ttend.\" + str(names[-2])+ \".meta\")\n",
    "metaS=parsemeta(dirrun + \"diags/LAYERS/layers_3d_Stend.\" + str(names[-2])+ \".meta\")\n",
    "nFldsS = metaS[\"fldList\"]\n",
    "nFldsT = metaT[\"fldList\"]"
   ]
  },
  {
   "cell_type": "code",
   "execution_count": null,
   "id": "c4bdac1f-a6d8-4691-bdc1-7ebba37afe3e",
   "metadata": {},
   "outputs": [],
   "source": [
    "# metaT['fldList']  # 0, 1, 2, 7, \n",
    "metaS['fldList']   # 13, 14, 15, 16, 19, 22\n",
    "a = metaS['fldList']\n",
    "print(a[11],a[12],a[13],a[16],a[19],a[22])  # these are the ifldS values\n",
    "# these are the total tend due to salt terms, tend due to salt surf forcing, tend due to salt horizontal diff, tend due to salt vertical diff\n",
    "# ... tend due to salt horiz adv, tend due to salt vertical adv\n",
    "ifldS = np.array([11,12,13,16,19,22])  # total tend, surf, hDiff, vDiff, hADV, vADV"
   ]
  },
  {
   "cell_type": "code",
   "execution_count": null,
   "id": "00f21ec0-10be-46af-b765-1c0766288bd9",
   "metadata": {},
   "outputs": [],
   "source": [
    "# from before ([0,1,2,3,4,7])"
   ]
  },
  {
   "cell_type": "code",
   "execution_count": null,
   "id": "ec2f0448-2c79-4900-9830-b888c356f468",
   "metadata": {},
   "outputs": [],
   "source": [
    "metaT['fldList']   # 13, 14, 15, 16, 19, 22\n",
    "a = metaT['fldList']\n",
    "print(a[0],a[1],a[2],a[7],a[8],a[11])\n",
    "ifldT = np.array([0,1,2,7,8,11])    # surf, hDiff, vDiff, hADV, vADV, total tend"
   ]
  },
  {
   "cell_type": "code",
   "execution_count": null,
   "id": "73d0f6c2-dbd8-4aef-897b-5933eda4cd03",
   "metadata": {},
   "outputs": [],
   "source": [
    "dirdiags"
   ]
  },
  {
   "cell_type": "code",
   "execution_count": null,
   "id": "cfcab1f6-7e3d-4082-9662-b9d9b19b1047",
   "metadata": {},
   "outputs": [],
   "source": [
    "tsstr"
   ]
  },
  {
   "cell_type": "code",
   "execution_count": null,
   "id": "cc66ea89-20c3-4f4d-8c47-722bf7b8f22a",
   "metadata": {},
   "outputs": [],
   "source": []
  },
  {
   "cell_type": "code",
   "execution_count": null,
   "id": "8ebca559-dc08-46f6-af33-51d3bd7f4af5",
   "metadata": {},
   "outputs": [],
   "source": []
  },
  {
   "cell_type": "code",
   "execution_count": null,
   "id": "e95a2294-fc9b-4e0f-9097-2648e6122ed5",
   "metadata": {},
   "outputs": [],
   "source": [
    "setTtend=nFldsT.copy()\n",
    "setStend=nFldsS.copy()"
   ]
  },
  {
   "cell_type": "markdown",
   "id": "4832396e-bb11-4df3-8537-405d59851569",
   "metadata": {},
   "source": [
    "# define the G_T and G_S terms"
   ]
  },
  {
   "cell_type": "code",
   "execution_count": null,
   "id": "83a64e04-b6eb-41d6-8f77-f4129f33fcef",
   "metadata": {},
   "outputs": [],
   "source": []
  },
  {
   "cell_type": "code",
   "execution_count": null,
   "id": "d62fc2c5-361c-4035-964d-aa969c9a00e3",
   "metadata": {},
   "outputs": [],
   "source": [
    "# make the G_T term\n",
    "G_T = {}\n",
    "G_T[\"BarentsS\"] = {}\n",
    "    \n",
    "# now loop through\n",
    "for i in range(len(ifldT)-1, -1, -1):\n",
    "    tmp = read_float32_skip(dirrun + \"diags/LAYERS/layers_3d_Ttend.\" + names[-2] + \".data\", nx*ny*(nT-1),ifldT[i])\n",
    "    tmp = np.reshape(tmp,(nT-1,nx*ny))\n",
    "    tmp = tmp[:,iwetC2d] * (rac2dtile * hf2dtile) * ffac\n",
    "    if i == ifldT.shape[0]-1:\n",
    "        residT = tmp\n",
    "    else:\n",
    "        residT = residT-tmp\n",
    "\n",
    "    # just do the Barents Sea for this one\n",
    "    a = np.nansum(tmp[:,iwet_BarentsS2D],axis=1)\n",
    "    G_T[\"BarentsS\"][setTtend[ifldT[i]]] = a\n",
    "\n",
    "G_T[\"BarentsS\"][\"residT\"] = np.nansum(residT[:,iwet_BarentsS2D],axis=1)"
   ]
  },
  {
   "cell_type": "code",
   "execution_count": null,
   "id": "ae07ddf4-21e4-4d11-88c5-f347c1ffa7fc",
   "metadata": {},
   "outputs": [],
   "source": [
    "# create G_S for all basins (line 258)\n",
    "G_S = {}\n",
    "for ib in range(len(strb)):\n",
    "    G_S[strb[ib]] = {}\n",
    "\n",
    "# now loop through similar to ifldS\n",
    "for i in range(len(ifldS)-1, -1, -1):\n",
    "    tmp = read_float32_skip(dirrun + \"diags/LAYERS/layers_3d_Stend.\" + names[-2] + \".data\", nx*ny*(nT-1),ifldS[i])\n",
    "    tmp = np.reshape(tmp,(nS-1,nx*ny))\n",
    "    tmp = tmp[:,iwetC2d] * (rac2dtile * hf2dtile) * ffac\n",
    "    if i == ifldS.shape[0]-1:\n",
    "        residS = tmp\n",
    "    else:\n",
    "        residS = residS-tmp\n",
    "\n",
    "    # just do for the Barents Sea\n",
    "    a = np.nansum(tmp[:,iwet_BarentsS2D],axis=1)\n",
    "    G_S[\"BarentsS\"][setStend[ifldS[i]]] = a\n",
    "\n",
    "# loop through again to calculate resid\n",
    "G_S[\"BarentsS\"][\"residS\"] = np.nansum(residS[:,iwet_BarentsS2D],axis=1)"
   ]
  },
  {
   "cell_type": "code",
   "execution_count": null,
   "id": "fac9a2ee-9f80-4c46-9630-105dec1de127",
   "metadata": {},
   "outputs": [],
   "source": [
    "dirrun"
   ]
  },
  {
   "cell_type": "code",
   "execution_count": null,
   "id": "94f71238-0ea2-4852-b74a-f68bb0a18815",
   "metadata": {},
   "outputs": [],
   "source": [
    "print(ts2dte(int('0000315504')))\n",
    "print(ts2dte(int(names[-2])))\n",
    "# tsstr[-3]"
   ]
  },
  {
   "cell_type": "markdown",
   "id": "98fc3c19-0d9f-44a7-be87-c00906e35e68",
   "metadata": {},
   "source": [
    "## We now did G_S and G_T and these are budgeted. Can move on to calculation of J (scary)"
   ]
  },
  {
   "cell_type": "code",
   "execution_count": 17,
   "id": "638c5163-844a-4435-a833-eea68f8b85d3",
   "metadata": {},
   "outputs": [],
   "source": [
    "# read the fieldlists from the setTS_Stend_set1 and 2\n",
    "# metaT=parsemeta(dirdiags + \"LAYERS/layers_3d_Ttend.0000723024.meta\")\n",
    "\n",
    "# set 1 - the total terms we want for the budget\n",
    "setTS_Ttend=parsemeta(dirrun + \"diags/LAYERS_Cwet/layers_TSjoint_Ttend_set1_146614.0000315504.meta\")[\"fldList\"]\n",
    "\n",
    "# set 2 - the other terms\n",
    "setTS_Ttend_set2=parsemeta(dirrun + \"diags/LAYERS_Cwet/layers_TSjoint_Ttend_set2_146614.0000315504.meta\")[\"fldList\"]\n",
    "\n",
    "# set 1 - the total terms for the salt budget\n",
    "setTS_Stend=parsemeta(dirrun + \"diags/LAYERS_Cwet/layers_TSjoint_Stend_set1_146614.0000315504.meta\")[\"fldList\"]\n",
    "\n",
    "# set 2 - the other terms\n",
    "setTS_Stend_set2=parsemeta(dirrun + \"diags/LAYERS_Cwet/layers_TSjoint_Stend_set2_146614.0000315504.meta\")[\"fldList\"]"
   ]
  },
  {
   "cell_type": "code",
   "execution_count": 18,
   "id": "18ba3370-7403-4cda-b041-644140dadd9c",
   "metadata": {},
   "outputs": [
    {
     "name": "stdout",
     "output_type": "stream",
     "text": [
      "['LaTs_TS', 'LaTh_TS', 'LaTz_TS', 'LTha_TS', 'LTza_TS', 'LTto_TS']\n",
      "['TzKp_TS', 'TzRe_TS', 'TzBg_TS', 'TKpg_TS', 'LTBh_TS', 'LTBz_TS']\n",
      "\n",
      "['LaSs_TS', 'LaSh_TS', 'LaSz_TS', 'LSha_TS', 'LSza_TS', 'LSto_TS']\n",
      "['SzKp_TS', 'SzRe_TS', 'SzBg_TS', 'SKpg_TS', 'LSBh_TS', 'LSBz_TS']\n"
     ]
    }
   ],
   "source": [
    "print(setTS_Ttend)\n",
    "print(setTS_Ttend_set2)\n",
    "print()\n",
    "print(setTS_Stend)\n",
    "print(setTS_Stend_set2)"
   ]
  },
  {
   "cell_type": "code",
   "execution_count": null,
   "id": "0a634f6f-9c96-408a-af1e-9383c3400a71",
   "metadata": {},
   "outputs": [],
   "source": [
    "# LaTs_TS LaTh_TS LaTz_TS LTha_TS LTza_TS LTBh_TS"
   ]
  },
  {
   "cell_type": "code",
   "execution_count": null,
   "id": "2dc33e6b-e370-4cf4-8127-bbdaa4a26184",
   "metadata": {},
   "outputs": [],
   "source": [
    "# setTSp = ['LaHc_TS']\n",
    "\n",
    "\n",
    "# from previous lookat layers:\n",
    "# setTS_Ttend = ['LaTs_TS', 'LaTh_TS', 'LaTz_TS', 'TzKp_TS', 'TzRe_TS', 'LTha_TS', 'LTza_TS', 'LTBh_TS', 'LTBz_TS', 'LTto_TS']\n",
    "# setTS_Stend = ['LaSs_TS', 'LaSh_TS', 'LaSz_TS', 'SzKp_TS', 'SzRe_TS', 'LSha_TS', 'LSza_TS', 'LSBh_TS', 'LSBz_TS', 'LSto_TS']\n",
    "\n",
    "# see if these are in the same order because stuff is hard-coded below\n",
    "# layers_3d_TSjoint_Stend_146614.meta"
   ]
  },
  {
   "cell_type": "code",
   "execution_count": null,
   "id": "50e781e1-0a0b-4163-b72b-41a8bbef4481",
   "metadata": {},
   "outputs": [],
   "source": [
    "# THESE ARE THE TERMS IN THE BUDGET\n",
    "# LaSs_TS LaSh_TS LaSz_TS LSha_TS LSza_TS LSBh_TS"
   ]
  },
  {
   "cell_type": "code",
   "execution_count": 19,
   "id": "ea67e7ea-a33c-4328-8918-f531d4c3674c",
   "metadata": {},
   "outputs": [
    {
     "name": "stdout",
     "output_type": "stream",
     "text": [
      "['LaTs2TH', 'LaTh2TH', 'LaTz2TH', 'TzKp2TH', 'TzRe2TH', 'TzBg2TH', 'TKpg2TH', 'LTha2TH', 'LTza2TH', 'LTBh2TH', 'LTBz2TH', 'LTto2TH', 'LaTs1SLT', 'LaTh1SLT', 'LaTz1SLT', 'TzKp1SLT', 'TzRe1SLT', 'TzBg1SLT', 'TKpg1SLT', 'LTha1SLT', 'LTza1SLT', 'LTBh1SLT', 'LTBz1SLT', 'LTto1SLT']\n"
     ]
    }
   ],
   "source": [
    "names[-1]\n",
    "\n",
    "# print(setTS_Ttend_set1[1],setTS_Ttend_set1[4],setTS_Ttend_set1[8],setTS_Ttend_set1[9])\n",
    "print(nFldsT)"
   ]
  },
  {
   "cell_type": "code",
   "execution_count": 20,
   "id": "0a1f647d-6277-4511-810a-d35774c5c1d3",
   "metadata": {},
   "outputs": [],
   "source": [
    "import h5py\n",
    "from scipy.io import loadmat\n",
    "from scipy.io import savemat"
   ]
  },
  {
   "cell_type": "code",
   "execution_count": 19,
   "id": "d6e30846-0ff6-4ebc-a4f6-2f0c30326c49",
   "metadata": {},
   "outputs": [
    {
     "name": "stdout",
     "output_type": "stream",
     "text": [
      "(111, 111, 146614)\n",
      "(111, 111, 146614)\n",
      "(111, 111, 146614)\n",
      "(111, 111, 146614)\n",
      "(111, 111, 146614)\n",
      "(111, 111, 146614)\n"
     ]
    }
   ],
   "source": [
    "# DO NOT RUN IF HAS ALREADY BEEN CALCULATED\n",
    "# JUST FOR SET1 HERE - NOT FOR SET 2\n",
    "# 287 - should be indexing nt, ns, wetpoints\n",
    "# T, S, wetpoints\n",
    "Jy = {}\n",
    "# set each basin to its own dictionary\n",
    "Jy[\"BarentsS\"] = {}\n",
    "Jy[\"BarentsS\"]['G_T'] = {}\n",
    "Jy[\"BarentsS\"]['G_T']['residT'] = {}\n",
    "\n",
    "rac = mygrid['RAC']\n",
    "hf1 = hf1.reshape(ny,nx)\n",
    "\n",
    "for i in range(len(setTS_Ttend)-1, -1, -1):\n",
    "    t0 = time.localtime()\n",
    "    # CHECK THIS IS SHAPED CORRECTLY - HOW\n",
    "    filename = dirrun + \"diags/LAYERS_Cwet/layers_TSjoint_Ttend_set1_\" + str(LwetC2d) + \".\" + names[-2] + \".data\"\n",
    "    tmp = read_float32_skip(filename, LwetC2d*(nS-1)*(nT-1),i)\n",
    "    tmp = np.reshape(tmp,(nT-1,nS-1,LwetC2d))\n",
    "    print(tmp.shape)\n",
    "\n",
    "    small = rac2d * hf2d\n",
    "    tmp = tmp * np.tile(small[np.newaxis,np.newaxis,:], (nT - 1, nS - 1,1)) * ffac\n",
    "\n",
    "    # if at end of loop\n",
    "    if i == len(setTS_Ttend)-1:\n",
    "        f = (np.nansum(tmp, axis=2))\n",
    "        f = np.nansum(f * binwidthS1)\n",
    "\n",
    "    # double check the names in the listed file\n",
    "    if i == len(setTS_Ttend)-1:\n",
    "        # do not remove from the residual - this is the total tendency\n",
    "        residT = tmp\n",
    "    elif i==0 or i == 1 or i == 2 or i == 3 or i == 4:\n",
    "        # LaTs_TS LaTh_TS LaTz_TS LTha_TS LTza_TS (LTBh_TS)\n",
    "        # surface forcing, hDiff, vDiff, hADV, vADV, hADV bolus\n",
    "        residT = residT - tmp\n",
    "\n",
    "    #for ib in range(len(strb)):\n",
    "    # use stri_wet, strb is names of basins\n",
    "    #print(tmp.shape)\n",
    "    tmp1 = np.nansum(tmp[:,:,iwet_BarentsS2D],axis=2)   # SUM OVER WET POINTS - should be of shape nS-1, nT-1\n",
    "    # TEST:\n",
    "    tmp1 = tmp1.T\n",
    "    tmp2 = np.nansum(tmp1 * binwidthS1,axis=1)              # SUM OVER S - should be of shape nT-1\n",
    "    Jy[\"BarentsS\"][setTS_Ttend[i]] = tmp1\n",
    "    Jy[\"BarentsS\"]['G_T'][setTS_Ttend[i]] = tmp2\n",
    "    del tmp\n",
    "    del tmp1\n",
    "    del tmp2\n",
    "\n",
    "\n",
    "myresid = np.nansum(residT[:,:,iwet_BarentsS2D],axis=2)    # SUM OVER WET POINTS - should be of shape nS-1, nT-1\n",
    "# TEST:\n",
    "myresid = myresid.T\n",
    "Jy[\"BarentsS\"][\"residT\"] = myresid\n",
    "Jy[\"BarentsS\"][\"G_T\"][\"residT\"] = np.nansum(Jy[\"BarentsS\"][\"residT\"] * binwidthS1,axis=1)   #SUM OVER S - should be of shape nT-1\n",
    "\n",
    "# set units and labels\n",
    "Jy[\"unit\"] = \"m/s/psu\"\n",
    "Jy[\"G_T\"] = {}\n",
    "Jy[\"G_T\"][\"unit\"] = \"m/s\"\n",
    "Jy[\"G_T\"][\"descr\"] = \"G_T=integral(Jy,dS)\"\n",
    "\n",
    "\n",
    "# # write to file\n",
    "matname = \"/scratch2/mmurakami/aste_270x450x180/\"\n",
    "matname += \"run_c68v_layers_lessmem1_adxOFF_Jan2007_capxxN50_it0062_pk0000262944_bro/\"\n",
    "matname += \"Jy_TSjoint_BarentsS.mat\"\n",
    "savemat(matname,Jy,do_compression=True)"
   ]
  },
  {
   "cell_type": "code",
   "execution_count": 24,
   "id": "4a331884-75af-4dd2-a225-fc9e11959cd6",
   "metadata": {},
   "outputs": [],
   "source": [
    "# read from file - swap TS_tend names to read easier\n",
    "namesTS = np.flip(setTS_Ttend)\n",
    "namesTS = np.append(\"residT\",namesTS)\n",
    "\n",
    "matname = \"/scratch2/mmurakami/aste_270x450x180/\"\n",
    "matname += \"run_c68v_layers_lessmem1_adxOFF_Jan2007_capxxN50_it0062_pk0000262944_bro/\"\n",
    "matname += \"Jy_TSjoint_BarentsS.mat\"\n",
    "\n",
    "Jy_test = loadmat(matname)\n",
    "Jy_read = {}\n",
    "Jy_read[\"BarentsS\"] = {}\n",
    "Jy_read[\"BarentsS\"]['G_T'] = {}\n",
    "Jy_read[\"BarentsS\"]['G_T']['residT'] = {}\n",
    "nbasin = \"BarentsS\"\n",
    "\n",
    "for ib in range(len(namesTS)):\n",
    "    this_name = namesTS[ib]\n",
    "    #print(np.sum(Jy_test[nbasin][0][0][0][0][0][ib] - Jy[nbasin]['G_T'][this_name]))    # manual check to see we're reading correct\n",
    "    this_set = Jy_test[\"BarentsS\"][0][0][0][0][0][ib].reshape(Jy_test[\"BarentsS\"][0][0][0][0][0][ib].shape[1])\n",
    "    Jy_read[nbasin]['G_T'][this_name] = this_set\n",
    "\n",
    "    # we forgot to read in tmp1 from the function\n",
    "    if ib>0:   # if not resid\n",
    "        #print(np.sum(Jy_test[nbasin][0][0][ib] - Jy[nbasin][this_name]))\n",
    "        this_set = Jy_test[\"BarentsS\"][0][0][ib]\n",
    "        Jy_read[\"BarentsS\"][this_name] = this_set\n",
    "\n",
    "# not sure how to get sum of residT but maybe we can skip this\n",
    "#print(np.sum(Jy[nbasin]['residT'] - Jy_test[nbasin][0][0][-1]))    # manual check to see we're reading correct\n",
    "Jy_read[\"BarentsS\"]['residT'] = Jy_test[\"BarentsS\"][0][0][-1]\n",
    "\n",
    "\n",
    "Jy_read[\"unit\"] = \"m/s/psu\"\n",
    "Jy_read[\"G_T\"] = {}\n",
    "Jy_read[\"G_T\"][\"unit\"] = \"m/s\"\n",
    "Jy_read[\"G_T\"][\"descr\"] = \"G_T=integral(Jy,dS)\""
   ]
  },
  {
   "cell_type": "code",
   "execution_count": 20,
   "id": "4f8c17d7-164b-4abc-b959-ddfb658bb7ec",
   "metadata": {},
   "outputs": [],
   "source": [
    "del Jy,myresid"
   ]
  },
  {
   "cell_type": "code",
   "execution_count": 21,
   "id": "275dd38a-fae5-4007-9a34-7dfd8b21a9df",
   "metadata": {},
   "outputs": [
    {
     "data": {
      "text/plain": [
       "'0000311040'"
      ]
     },
     "execution_count": 21,
     "metadata": {},
     "output_type": "execute_result"
    }
   ],
   "source": [
    "names[-2]"
   ]
  },
  {
   "cell_type": "code",
   "execution_count": 21,
   "id": "72808aee-ea3b-4b35-a1d5-a46c4b813f9b",
   "metadata": {},
   "outputs": [
    {
     "name": "stdout",
     "output_type": "stream",
     "text": [
      "(111, 111, 146614)\n",
      "(111, 111, 146614)\n",
      "(111, 111, 146614)\n",
      "(111, 111, 146614)\n",
      "(111, 111, 146614)\n",
      "(111, 111, 146614)\n"
     ]
    }
   ],
   "source": [
    "# DO NOT RUN IF HAS ALREADY BEEN CALCULATED\n",
    "Jx = {}\n",
    "# set each basin to its own dictionary\n",
    "Jx[\"BarentsS\"] = {}\n",
    "Jx[\"BarentsS\"]['G_S'] = {}\n",
    "Jx[\"BarentsS\"]['G_S']['residS'] = {}\n",
    "\n",
    "rac = mygrid['RAC']\n",
    "hf1 = hf1.reshape(ny,nx)\n",
    "\n",
    "for i in range(len(setTS_Stend)-1, -1, -1):\n",
    "    filename = dirrun + \"diags/LAYERS_Cwet/layers_TSjoint_Stend_set1_\" + str(LwetC2d) + \".\" + names[-2]+ \".data\"\n",
    "    tmp = read_float32_skip(filename, LwetC2d*(nS-1)*(nT-1),i)\n",
    "    tmp = np.reshape(tmp,(nT-1,nS-1,LwetC2d))\n",
    "    print(tmp.shape)\n",
    "\n",
    "    small = rac2d * hf2d\n",
    "    tmp = tmp * np.tile(small[np.newaxis,np.newaxis,:], (nT - 1, nS - 1,1)) * ffac\n",
    "\n",
    "    if i == len(setTS_Stend)-1:\n",
    "        # LSto_TS - total tendency\n",
    "        residS = tmp\n",
    "    elif i==0 or i == 1 or i == 2 or i == 3 or i == 4:\n",
    "        # LaSs_TS LaSh_TS LaSz_TS LSha_TS LSza_TS LSBh_TS\n",
    "        # surface, hdiff, vdiff, hADV, vADV, hADV bolus\n",
    "        residS = residS - tmp\n",
    "\n",
    "    # use stri_wet, strb is names of basins\n",
    "    tmp1 = np.nansum(tmp[:,:,iwet_BarentsS2D],axis=2)   # should be of shape nS-1, nT-1\n",
    "    # TEST\n",
    "    tmp1 = tmp1.T\n",
    "    thisbinwidthT1 = np.tile(binwidthT1[:,np.newaxis],(1, nS - 1))\n",
    "    tmp2 = np.nansum(tmp1 * thisbinwidthT1, axis=1)                 # second dim is T because this is S tend\n",
    "    Jx[\"BarentsS\"][setTS_Stend[i]] = tmp1\n",
    "    Jx[\"BarentsS\"]['G_S'][setTS_Stend[i]] = tmp2\n",
    "    del tmp\n",
    "    del tmp1\n",
    "    del tmp2\n",
    "\n",
    "tmp1 = np.nansum(residS[:,:,iwet_BarentsS2D],axis=2)    # sum over geo space\n",
    "mytileT1 = np.tile(binwidthT1[np.newaxis,:],(nS-1,1))  # nS-1 x nT-1\n",
    "# TEST\n",
    "mytileT1 = mytileT1.T\n",
    "tmp2 = np.nansum(tmp1 * mytileT1, axis=0)     # sum over T ( dimension 0)\n",
    "Jx[\"BarentsS\"][\"residS\"] = tmp1    # should be of shape nS-1, nT-1\n",
    "Jx[\"BarentsS\"][\"G_S\"][\"residS\"] = tmp2 #should be of shape nT-1\n",
    "\n",
    "# set units and labels\n",
    "Jx[\"descr\"] = \"m/s/degC\"\n",
    "Jx[\"G_S\"] = {}\n",
    "Jx[\"G_S\"][\"descr\"] = \"[m/s], e.g., integral(LSto_TS,dT) = LSto1SLT\"\n",
    "\n",
    "# write to file\n",
    "matname = \"/scratch2/mmurakami/aste_270x450x180/\"\n",
    "matname += \"run_c68v_layers_lessmem1_adxOFF_Jan2007_capxxN50_it0062_pk0000262944_bro/\"\n",
    "matname += \"Jx_TSjoint_BarentsS.mat\"\n",
    "savemat(matname,Jx,do_compression=True)"
   ]
  },
  {
   "cell_type": "code",
   "execution_count": 25,
   "id": "df020426-d65d-40ed-93f6-e67990dab4b9",
   "metadata": {},
   "outputs": [],
   "source": [
    "# load from file the same as Jy, check to make sure these are the same\n",
    "namesTS = np.flip(setTS_Stend)\n",
    "namesTS = np.append(\"residS\",namesTS)\n",
    "\n",
    "matname = \"/scratch2/mmurakami/aste_270x450x180/\"\n",
    "matname += \"run_c67w_layers_budget_nlayersorig_advdiffsplit_FULLYfixedXX_checkedwithAN_it0062_nS112_nT112_pk0000631152/\"\n",
    "matname += \"Jx_TSjoint.mat\"\n",
    "\n",
    "Jx_test = loadmat(matname)\n",
    "Jx_read = {}\n",
    "Jx_read[\"BarentsS\"] = {}\n",
    "Jx_read[\"BarentsS\"]['G_S'] = {}\n",
    "Jx_read[\"BarentsS\"]['G_S']['residS'] = {}\n",
    "\n",
    "\n",
    "for ib in range(len(namesTS)):\n",
    "    this_name = namesTS[ib]\n",
    "    #print(np.sum(Jx_test[nbasin][0][0][0][0][0][ib] - Jx[nbasin]['G_S'][this_name]))    # manual check to see we're reading correct\n",
    "    this_set = Jx_test[\"BarentsS\"][0][0][0][0][0][ib].reshape(Jx_test[\"BarentsS\"][0][0][0][0][0][ib].shape[1])\n",
    "    Jx_read[\"BarentsS\"]['G_S'][this_name] = this_set\n",
    "\n",
    "    if ib > 0:   # if not residS\n",
    "        #print(np.sum(Jx_test[nbasin][0][0][ib] - Jx[nbasin][this_name]))\n",
    "        this_set = Jx_test[\"BarentsS\"][0][0][ib]\n",
    "        Jx_read[\"BarentsS\"][this_name] = this_set\n",
    "\n",
    "#print(np.sum(Jx[nbasin]['residS'] - Jx_test[nbasin][0][0][-1]))    # manual check to see we're reading correct\n",
    "Jx_read[\"BarentsS\"]['residS'] = Jx_test[\"BarentsS\"][0][0][-1]\n",
    "\n",
    "\n",
    "Jx_read[\"unit\"] = \"m/s/psu\"\n",
    "Jx_read[\"G_S\"] = {}\n",
    "Jx_read[\"G_S\"][\"unit\"] = \"m/s\"\n",
    "Jx_read[\"G_S\"][\"descr\"] = \"G_T=integral(Jy,dS)\""
   ]
  },
  {
   "cell_type": "code",
   "execution_count": 26,
   "id": "349a513d-5aa4-4676-bf2c-18cd5e53ab83",
   "metadata": {},
   "outputs": [],
   "source": [
    "Jx = Jx_read.copy()\n",
    "Jy = Jy_read.copy()\n",
    "del Jx_read,Jy_read"
   ]
  },
  {
   "cell_type": "markdown",
   "id": "cf99ce2e-2baa-40c3-af7e-a4329c1b668a",
   "metadata": {},
   "source": [
    "# try plotting the G terms"
   ]
  },
  {
   "cell_type": "code",
   "execution_count": null,
   "id": "c379128d-e35e-48e8-aefa-49ca02d31d2a",
   "metadata": {},
   "outputs": [],
   "source": [
    "np.where(G_T['BarentsS']['LTto2TH'] > 0 )[0]\n",
    "nT-1\n",
    "\n",
    "ibegT = np.where(G_T[\"BarentsS\"]['LTto2TH']>0)[0]\n",
    "ibegT = max(0, min(ibegT) - 11)\n",
    "ibegT"
   ]
  },
  {
   "cell_type": "code",
   "execution_count": null,
   "id": "2ca778d5-ed1b-4415-bcd4-1a18e7d8d157",
   "metadata": {},
   "outputs": [],
   "source": [
    "# iendT = np.where(G_T['BarentsS']['LTto2TH'] > 0)[0]\n",
    "# iendT = min(nT - 1, max(iendT) + 10)\n",
    "iendT = nT-1\n",
    "ibegT = 0\n",
    "iendS = nS-1\n",
    "ibegS = 0\n",
    "iiS = np.arange(ibegS, iendS,1)\n",
    "iiT = np.arange(ibegT, iendT, 1)"
   ]
  },
  {
   "cell_type": "code",
   "execution_count": null,
   "id": "3f84772d-6247-4917-b814-e7fafe1c3921",
   "metadata": {},
   "outputs": [],
   "source": [
    "print(binmidT.shape)\n",
    "binmidT\n",
    "print(G_T[\"BarentsS\"]['LTto2TH'][iiT].shape)\n",
    "print(binmidT[iiT].shape)"
   ]
  },
  {
   "cell_type": "code",
   "execution_count": null,
   "id": "909d22a4-0d93-4319-b895-e7ef4968afb1",
   "metadata": {},
   "outputs": [],
   "source": [
    "# for i in range(len(strb[:1])):\n",
    "jb = i\n",
    "# print(jb)\n",
    "# # create iendT and ibegT\n",
    "# iendT = np.where(G_T[\"BarentsS\"]['LTto2TH'] > 0)[0]\n",
    "# iendT = min(nT - 1, max(iendT) + 10)\n",
    "# ibegT = np.where(G_T[\"BarentsS\"]['LTto2TH']>0)[0]\n",
    "# ibegT = max(0, min(ibegT) - 11)\n",
    "# iiT = np.arange(ibegT, iendT)\n",
    "\n",
    "# # create iendS and ibegS\n",
    "# iendS = np.where(G_S[\"BarentsS\"]['LSto1SLT']>0)[0]\n",
    "# if len(iendS) == 0:\n",
    "#     iendS = np.array([500])\n",
    "# iendS = min(nS-1, max(iendS) + 10)\n",
    "# ibegS = np.where(G_S[\"BarentsS\"]['LSto1SLT']>0)[0]\n",
    "# if len(ibegS) == 0:\n",
    "#     ibegS = np.array([-500])\n",
    "# ibegS = max(1, min(ibegS) - 10)\n",
    "# iiS = np.arange(ibegS, iendS,1)\n",
    "\n",
    "print(iiS.shape,iiT.shape)\n",
    "\n",
    "plt.figure(1)\n",
    "plt.clf()\n",
    "# Create a subplot with 2 rows, 2 columns, and select the first subplot\n",
    "plt.subplot(121)\n",
    "plt.plot(binmidT[iiT], G_T[\"BarentsS\"]['LTto2TH'][iiT], 'b-',alpha=0.5,label=\"tot\")\n",
    "plt.plot(binmidT[iiT], G_T[\"BarentsS\"]['LaTs2TH'][iiT], 'r-',alpha=0.5,label=\"surf\")\n",
    "plt.plot(binmidT[iiT], G_T[\"BarentsS\"]['LaTh2TH'][iiT] + G_T[\"BarentsS\"]['LaTz2TH'][iiT], 'g-',alpha=0.5,label=\"diff\")\n",
    "plt.plot(binmidT[iiT], G_T[\"BarentsS\"]['LTha2TH'][iiT] + G_T[\"BarentsS\"]['LTza2TH'][iiT], 'c-',alpha=0.5,label=\"adv\")\n",
    "plt.plot(binmidT[iiT], G_T[\"BarentsS\"]['residT'][iiT], 'k-',alpha=0.5,label=\"resid\")\n",
    "plt.legend(loc=\"best\")\n",
    "plt.xlabel(\"pot T\")\n",
    "plt.ylabel('Resid G_T [Sv]')\n",
    "plt.grid()\n",
    "plt.subplot(222)\n",
    "plt.plot(binmidT[iiT], G_T[\"BarentsS\"]['residT'][iiT], 'k-', alpha=0.5,label=\"resid\")\n",
    "plt.xlabel(\"pot T\")\n",
    "#plt.ylabel(\"resid G_T\")\n",
    "plt.grid()\n",
    "\n",
    "# plt.subplot(122)\n",
    "# plt.plot(binmidT[iiS], G_S[\"BarentsS\"]['LSto2TH'][iiS], 'b-',alpha=0.5,label=\"tot\")\n",
    "# plt.plot(binmidT[iiS], G_S[\"BarentsS\"]['LaSs1SLT'][iiS], 'r-',alpha=0.5,label=\"surf\")\n",
    "# plt.plot(binmidT[iiS], G_S[\"BarentsS\"]['LaSh1SLT'][iiS] + G_S[\"BarentsS\"]['LaSz2SLT'][iiS], 'g-',alpha=0.5,label=\"diff\")\n",
    "# plt.plot(binmidT[iiS], G_S[\"BarentsS\"]['LSha1SLT'][iiS] + G_S[\"BarentsS\"]['LSza2SLT'][iiS], 'c-',alpha=0.5,label=\"adv\")\n",
    "# plt.plot(binmidT[iiS], G_S[\"BarentsS\"]['residS'][iiS], 'k-',alpha=0.5,label=\"resid\")\n",
    "# plt.legend(loc=\"best\")\n",
    "# plt.xlabel(\"pot T\")\n",
    "# plt.ylabel('Resid G_S [Sv]')\n",
    "# plt.grid()\n",
    "# plt.subplot(222)\n",
    "# plt.plot(binmidT[iiS], G_S[\"BarentsS\"]['residT'][iiT], 'k-', alpha=0.5,label=\"resid\")\n",
    "# plt.xlabel(\"S\")\n",
    "# #plt.ylabel(\"resid G_T\")\n",
    "# plt.grid()\n",
    "\n",
    "# plt.figure(2)\n",
    "# plt.subplot(122)\n",
    "# plt.plot(binmidT[iiT], Jy[\"BarentsS\"]['G_T']['LTto_TS'][iiT], 'b-',alpha=0.5,label=\"tot\")\n",
    "# plt.plot(binmidT[iiT], Jy[\"BarentsS\"]['G_T']['LaTs_TS'][iiT], 'r-',alpha=0.5,label=\"surf\")\n",
    "# plt.plot(binmidT[iiT], Jy[\"BarentsS\"]['G_T']['LaTh_TS'][iiT] + Jy[\"BarentsS\"]['G_T']['LaTz_TS'][iiT], 'g-',alpha=0.5,label=\"diff\")\n",
    "# plt.plot(binmidT[iiT], Jy[\"BarentsS\"]['G_T']['LTha_TS'][iiT] + Jy[\"BarentsS\"]['G_T']['LTza_TS'][iiT], 'c-',alpha=0.5,label=\"adv\")\n",
    "# plt.plot(binmidT[iiT], Jy[\"BarentsS\"]['G_T']['residT'][iiT], 'k-',alpha=0.5,label=\"resid\")\n",
    "# plt.legend(loc=\"best\")\n",
    "# plt.xlabel(\"pot T\")\n",
    "# plt.ylabel('Resid G_T [Sv]')\n",
    "# plt.grid()\n",
    "# plt.subplot(222)\n",
    "# plt.plot(binmidT[iiT],Jy[\"BarentsS\"]['G_T']['residT'][iiT], 'k-',alpha=0.5,label=\"resid\")\n",
    "# plt.grid()\n",
    "\n",
    "# plt.subplot(223)\n",
    "# plt.plot(binmidS[iiS], Jx[\"BarentsS\"]['G_S']['LSto_TS'][iiS], 'b-',alpha=0.5,label=\"tot\")\n",
    "# plt.plot(binmidS[iiS], Jx[\"BarentsS\"]['G_S']['LaSs_TS'][iiS], 'r-',alpha=0.5,label=\"surf\")\n",
    "# plt.plot(binmidS[iiS], Jx[\"BarentsS\"]['G_S']['LaSh_TS'][iiS] + Jx[\"BarentsS\"]['G_S']['LaSz_TS'][iiS], 'g-',alpha=0.5,label=\"diff\")\n",
    "# plt.plot(binmidS[iiS], Jx[\"BarentsS\"]['G_S']['LSha_TS'][iiS] + Jx[\"BarentsS\"]['G_S']['LSza_TS'][iiS], 'c-',alpha=0.5,label=\"adv\")\n",
    "# plt.plot(binmidS[iiS], Jx[\"BarentsS\"]['G_S']['residS'][iiS], 'k-',alpha=0.5,label=\"resid\")\n",
    "# plt.legend(loc=\"best\")\n",
    "# plt.xlabel(\"S\")\n",
    "# plt.ylabel('Resid G_S [Sv]')\n",
    "# plt.grid()\n",
    "# plt.subplot(224)\n",
    "# plt.plot(binmidS[iiS], Jx[\"BarentsS\"]['G_S']['residS'][iiS], 'k-',alpha=0.5)\n",
    "# plt.grid()\n",
    "\n",
    "# plt.figure(3)\n",
    "# plt.subplot(2,5,1)\n",
    "# plt.plot(binmidT[iiT], G_T[\"BarentsS\"]['LTto2TH'][iiT] - Jy[strb[ib]]['G_T']['LTto_TS'][iiT], '-',alpha=0.5)\n",
    "# plt.xlabel(\"T\")\n",
    "# plt.grid()\n",
    "# plt.subplot(2,5,6)\n",
    "# plt.plot(binmidS[iiS], G_S[\"BarentsS\"]['LSto1SLT'][iiS] - Jx[strb[ib]]['G_S']['LSto_TS'][iiS], '-',alpha=0.5)\n",
    "# plt.xlabel(\"S\")\n",
    "# plt.grid()\n",
    "# plt.subplot(2,5,2)\n",
    "# plt.plot(binmidT[iiT], G_T[\"BarentsS\"]['LaTs2TH'][iiT] - Jy[strb[ib]]['G_T']['LaTs_TS'][iiT], '-',alpha=0.5)\n",
    "# plt.xlabel(\"T\")\n",
    "# plt.grid()\n",
    "# plt.subplot(2,5,7)\n",
    "# plt.plot(binmidS[iiS], G_S[\"BarentsS\"]['LaSs1SLT'][iiS] - Jx[strb[ib]]['G_S']['LaSs_TS'][iiS], '-',alpha=0.5)\n",
    "# plt.xlabel(\"S\")\n",
    "# plt.grid()\n",
    "# plt.subplot(2,5,3)\n",
    "# plt.plot(binmidT[iiT], G_T[\"BarentsS\"]['LaTh2TH'][iiT] + G_T[\"BarentsS\"]['LaTz2TH'][iiT] - \\\n",
    "#          Jy[strb[ib]]['G_T']['LaTh_TS'][iiT] + Jy[\"BarentsS\"]['G_T']['LaTz_TS'][iiT], '-',alpha=0.5)\n",
    "# plt.xlabel(\"T\")\n",
    "# plt.grid()\n",
    "# plt.subplot(2,5,8)\n",
    "# plt.plot(binmidS[iiS],G_S[\"BarentsS\"]['LaSh1SLT'][iiS] + G_S[\"BarentsS\"][\"LaSz1SLT\"][iiS] - \\\n",
    "#          Jx[\"BarentsS\"]['G_S'][\"LaSh_TS\"][iiS] + Jx[\"BarentsS\"][\"G_S\"][\"LaSz_TS\"][iiS],'-',alpha=0.5)\n",
    "# plt.xlabel(\"S\")\n",
    "# plt.grid()\n",
    "# plt.subplot(2,5,4)\n",
    "# plt.plot(binmidT[iiT], G_T[\"BarentsS\"]['LTha2TH'][iiT] + G_T[\"BarentsS\"]['LTza2TH'][iiT] - \\\n",
    "#          Jy[strb[ib]]['G_T']['LTha_TS'][iiT] + Jy[\"BarentsS\"]['G_T']['LTza_TS'][iiT], '-',alpha=0.5)\n",
    "# plt.xlabel(\"T\")\n",
    "# plt.grid()\n",
    "# plt.subplot(2,5,9)\n",
    "# plt.plot(binmidS[iiS],G_S[\"BarentsS\"]['LSha1SLT'][iiS] + G_S[\"BarentsS\"][\"LSza1SLT\"][iiS] - \\\n",
    "#          Jx[\"BarentsS\"]['G_S'][\"LSha_TS\"][iiS] + Jx[\"BarentsS\"][\"G_S\"][\"LSza_TS\"][iiS],'-',alpha=0.5)\n",
    "# plt.xlabel(\"S\")\n",
    "# plt.grid()\n",
    "# plt.subplot(2,5,5)\n",
    "# plt.plot(binmidT[iiT], G_T[\"BarentsS\"]['residT'][iiT] - Jy[strb[ib]]['G_T']['residT'][iiT],'-',alpha=0.5)\n",
    "# plt.xlabel(\"T\")\n",
    "# plt.grid()\n",
    "# plt.subplot(2,5,10)\n",
    "# plt.plot(binmidS[iiS],G_S[\"BarentsS\"]['residS'][iiS] - Jx[\"BarentsS\"]['G_S'][\"residS\"][iiS],'-',alpha=0.5)\n",
    "# plt.xlabel(\"S\")\n",
    "# plt.grid()"
   ]
  },
  {
   "cell_type": "code",
   "execution_count": null,
   "id": "8686424b-1dae-4fe5-be3c-922bf2e5f703",
   "metadata": {},
   "outputs": [],
   "source": [
    "G_S[\"BarentsS\"].keys()"
   ]
  },
  {
   "cell_type": "code",
   "execution_count": null,
   "id": "ba2096ad-345a-4d6e-94d9-c74f5770fce0",
   "metadata": {},
   "outputs": [],
   "source": [
    "binmidT.shape"
   ]
  },
  {
   "cell_type": "markdown",
   "id": "ff040e01-ada7-4830-a4bf-c5eaff0196c4",
   "metadata": {},
   "source": [
    "# try plotting J terms"
   ]
  },
  {
   "cell_type": "code",
   "execution_count": null,
   "id": "b3045309-e58c-4a4a-93bb-2b54094673d5",
   "metadata": {},
   "outputs": [],
   "source": [
    "Tbin2,Sbin2 = np.meshgrid(binmidTp,binmidSp)"
   ]
  },
  {
   "cell_type": "code",
   "execution_count": null,
   "id": "254065d4-aa79-424d-b202-ae640bf84234",
   "metadata": {},
   "outputs": [],
   "source": [
    "plt.rcParams.update({'font.size': 18})\n",
    "fig = plt.figure(figsize = (6,5))\n",
    "\n",
    "xlims, ylims = np.array([30, 35.5]), np.array([-2.3, 12])\n",
    "plt.subplot(111)\n",
    "i = 4\n",
    "plt.pcolormesh(Sbin,Tbin,np.log10(vol_distrib[\"BarentsS\"].T), cmap=cmap2, zorder=2,vmin=0.0001)\n",
    "plt.grid()\n",
    "plt.title(\"BarentsS Total Tend\")\n",
    "plt.xlabel('S')\n",
    "plt.ylabel('T')\n",
    "plt.xlim(xlims)\n",
    "plt.ylim(ylims)\n",
    "plt.colorbar(label=r\"$\\frac{m^3}{deg C/kg}$\")\n",
    "Usel = Jx[\"BarentsS\"]['LSto_TS']  #[iiS,:][:,iiT]\n",
    "Vsel = Jy[\"BarentsS\"]['LTto_TS']  #[iiS,:][:,iiT]\n",
    "hh = plt.quiver(Sbin2, Tbin2, Usel, Vsel, scale=50,width=0.003,zorder=5)"
   ]
  },
  {
   "cell_type": "code",
   "execution_count": 27,
   "id": "41a1517b-892b-4523-ad51-98e5f5983217",
   "metadata": {},
   "outputs": [
    {
     "data": {
      "text/plain": [
       "<matplotlib.collections.QuadMesh at 0x14e7c6d3e9d0>"
      ]
     },
     "execution_count": 27,
     "metadata": {},
     "output_type": "execute_result"
    },
    {
     "data": {
      "image/png": "[encoded data removed]",
      "text/plain": [
       "<Figure size 1000x400 with 1 Axes>"
      ]
     },
     "metadata": {},
     "output_type": "display_data"
    }
   ],
   "source": [
    "a =  Jx[\"BarentsS\"]['LSto_TS']\n",
    "plt.pcolormesh(a)"
   ]
  },
  {
   "cell_type": "code",
   "execution_count": 28,
   "id": "7f904753-f38e-4a79-82c3-a57911a1bd87",
   "metadata": {},
   "outputs": [
    {
     "data": {
      "text/plain": [
       "<matplotlib.collections.QuadMesh at 0x14e7c6e72d90>"
      ]
     },
     "execution_count": 28,
     "metadata": {},
     "output_type": "execute_result"
    },
    {
     "data": {
      "image/png": "[encoded data removed]",
      "text/plain": [
       "<Figure size 1000x400 with 1 Axes>"
      ]
     },
     "metadata": {},
     "output_type": "display_data"
    }
   ],
   "source": [
    "a =  Jy[\"BarentsS\"]['LTto_TS']\n",
    "plt.pcolormesh(a)"
   ]
  },
  {
   "cell_type": "code",
   "execution_count": null,
   "id": "251ee069-bce6-4b50-a058-4a6f5a5bfaeb",
   "metadata": {},
   "outputs": [],
   "source": []
  }
 ],
 "metadata": {
  "kernelspec": {
   "display_name": "py38",
   "language": "python",
   "name": "py38"
  },
  "language_info": {
   "codemirror_mode": {
    "name": "ipython",
    "version": 3
   },
   "file_extension": ".py",
   "mimetype": "text/x-python",
   "name": "python",
   "nbconvert_exporter": "python",
   "pygments_lexer": "ipython3",
   "version": "3.8.18"
  }
 },
 "nbformat": 4,
 "nbformat_minor": 5
}
