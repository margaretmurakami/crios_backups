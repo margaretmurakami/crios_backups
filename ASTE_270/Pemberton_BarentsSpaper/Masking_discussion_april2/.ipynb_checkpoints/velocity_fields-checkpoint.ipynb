{
 "cells": [
  {
   "cell_type": "markdown",
   "id": "c928b26c-8e32-4a85-a3c0-950e18874fa0",
   "metadata": {},
   "source": [
    "# Intro\n",
    "\n",
    "The purpose of this notebook will be to look at the gateway transports here so that we can label the gates with the inflow/outflow in the AW layer"
   ]
  },
  {
   "cell_type": "code",
   "execution_count": 1,
   "id": "45128aec-993b-4737-8aa9-ad3a04a00d6f",
   "metadata": {},
   "outputs": [],
   "source": [
    "import numpy as np\n",
    "import sys\n",
    "import matplotlib.pyplot as plt\n",
    "import pandas as pd\n",
    "import xarray as xr\n",
    "import h5py\n",
    "from scipy.io import loadmat\n",
    "import matplotlib as mpl\n",
    "import time\n",
    "import gsw\n",
    "from matplotlib.colors import TwoSlopeNorm\n",
    "\n",
    "# import existing python files\n",
    "plt.rcParams['figure.figsize'] = (10,4)\n",
    "\n",
    "# add rdmds reading functions to path\n",
    "sys.path.append(\"/home/mmurakami/MITgcm/MITgcm_c68r/MITgcm-checkpoint68r/utils/python/MITgcmutils/MITgcmutils/\") # go to parent dir\n",
    "from mds import *\n",
    "\n",
    "# add the other files\n",
    "sys.path.append(\"/home/mmurakami/crios_backups/an_helper_functions\")\n",
    "from read_binary import *\n",
    "from calc_UV_conv_1face import calc_UV_conv_1face\n",
    "from calc_mskmean_T_mod import calc_mskmean_T_mod\n",
    "from mk3D_mod import mk3D_mod\n",
    "from aste_helper_funcs import *\n",
    "from timing_functions import *           # ts2dte, get_fnames, etc.\n",
    "from binning import *                    # bin_array, create_mesh\n",
    "\n",
    "# ignore memory warnings\n",
    "import warnings\n",
    "warnings.filterwarnings('ignore')"
   ]
  },
  {
   "cell_type": "code",
   "execution_count": 2,
   "id": "1566a5dd-68a0-4c56-8dfa-6d5e55c78425",
   "metadata": {},
   "outputs": [
    {
     "name": "stdout",
     "output_type": "stream",
     "text": [
      "(50,) (50, 1350, 270)\n",
      "hf1 (1350, 270)\n",
      "(1, 1350, 270)\n",
      "LwetC2d 146614\n",
      "LwetC 4833023\n",
      "\n"
     ]
    }
   ],
   "source": [
    "sys.path.append(\"/home/mmurakami/crios_backups/an_helper_functions\")\n",
    "\n",
    "from get_Jterms import *"
   ]
  },
  {
   "cell_type": "code",
   "execution_count": 3,
   "id": "c53a3b94-3fc5-41cc-88a0-0ca9a33c0330",
   "metadata": {},
   "outputs": [
    {
     "name": "stdout",
     "output_type": "stream",
     "text": [
      "(50,) (50, 1350, 270)\n",
      "hf1 (1350, 270)\n",
      "(1, 1350, 270)\n",
      "LwetC2d 146614\n",
      "LwetC 4833023\n",
      "\n"
     ]
    }
   ],
   "source": [
    "%run /home/mmurakami/crios_backups/an_helper_functions/prep_grid.py"
   ]
  },
  {
   "cell_type": "code",
   "execution_count": 4,
   "id": "559152ea-5fe1-4de1-a43b-188fca759c67",
   "metadata": {},
   "outputs": [
    {
     "data": {
      "text/plain": [
       "<Figure size 800x500 with 0 Axes>"
      ]
     },
     "metadata": {},
     "output_type": "display_data"
    }
   ],
   "source": [
    "# calculate the sea ice edge for 1 and 2\n",
    "thresh = .15  # 15% sea ice coverage as Barton\n",
    "\n",
    "fig = plt.figure(figsize=(8,5))\n",
    "\n",
    "# plot the basins, color by label\n",
    "landmsk = np.zeros((ny,nx))\n",
    "landmsk[np.isnan(hfC[0])] = 2\n",
    "landmsk[hfC[0] == 1] = np.nan\n",
    "\n",
    "# add the land\n",
    "# plt.pcolormesh(get_aste_tracer(landmsk,nfx,nfy)[0],cmap='RdBu')"
   ]
  },
  {
   "cell_type": "code",
   "execution_count": 5,
   "id": "3a3f67fc-7ecd-4625-bd36-06fe16f7424e",
   "metadata": {},
   "outputs": [
    {
     "data": {
      "text/plain": [
       "<matplotlib.collections.QuadMesh at 0x154394c1ca90>"
      ]
     },
     "execution_count": 5,
     "metadata": {},
     "output_type": "execute_result"
    },
    {
     "data": {
      "image/png": "[encoded data removed]",
      "text/plain": [
       "<Figure size 800x500 with 1 Axes>"
      ]
     },
     "metadata": {},
     "output_type": "display_data"
    }
   ],
   "source": [
    "# calculate the sea ice edge for 1 and 2\n",
    "thresh = .15  # 15% sea ice coverage as Barton\n",
    "\n",
    "fig = plt.figure(figsize=(8,5))\n",
    "\n",
    "# plot the basins, color by label\n",
    "landmsk = np.zeros((ny,nx))\n",
    "landmsk[np.isnan(hfC[0])] = 2\n",
    "landmsk[hfC[0] == 1] = np.nan\n",
    "\n",
    "# add the land\n",
    "plt.pcolormesh(get_aste_tracer(hfC,nfx,nfy)[0],cmap='RdBu')"
   ]
  },
  {
   "cell_type": "markdown",
   "id": "d3d5002b-150c-488e-9496-99f622719e6d",
   "metadata": {},
   "source": [
    "# look at the mean surface currents and AW layer currents for 2006--"
   ]
  },
  {
   "cell_type": "code",
   "execution_count": 6,
   "id": "f342e5bd-21e7-4bdb-b63b-e66950de7f39",
   "metadata": {},
   "outputs": [],
   "source": [
    "# ocean and ice\n",
    "AB_gT=0\n",
    "AB_gS=0\n",
    "dt_aste = 600\n",
    "startyr = 2002\n",
    "endyr = 2019              # for ASTE R1\n",
    "\n",
    "# all the filenames in the system\n",
    "fnames = get_fnames(dt_aste,startyr,endyr)\n",
    "allyears = np.arange(2003,2018,1)"
   ]
  },
  {
   "cell_type": "code",
   "execution_count": 7,
   "id": "3cc56b97-4ddf-4e26-a3de-9bc2af2f7028",
   "metadata": {},
   "outputs": [],
   "source": [
    "dirtrsp = dirrun + \"diags/TRSP/\""
   ]
  },
  {
   "cell_type": "code",
   "execution_count": null,
   "id": "2a9ff62f-cbd9-4dff-a140-47c9c2fd3a28",
   "metadata": {},
   "outputs": [
    {
     "name": "stdout",
     "output_type": "stream",
     "text": [
      "2006\n"
     ]
    }
   ],
   "source": [
    "# overlay on bathymetry\n",
    "# make one set for DJFM and one set for JJAS\n",
    "\n",
    "# can do dterm[10:] for AW layer\n",
    "# can do dterm[:10] for surface layer\n",
    "names_title = \"DJF\"\n",
    "months_i = [0,1,11]\n",
    "# names_title = \"MAM\"\n",
    "# months_i = [2,3,4]\n",
    "# names_title = \"JJA\"\n",
    "# months_i = [5,6,7]\n",
    "# names_title = \"SON\"\n",
    "# months_i = [8,9,10]\n",
    "\n",
    "all_UVEL = np.zeros((len(allyears[3:]),len(months_i),900,540))\n",
    "all_VVEL = np.zeros((len(allyears[3:]),len(months_i),900,540))\n",
    "\n",
    "all_UVEL_top100m = np.zeros((len(allyears[3:]),len(months_i),900,540))\n",
    "all_VVEL_top100m = np.zeros((len(allyears[3:]),len(months_i),900,540))\n",
    "\n",
    "iy = 0\n",
    "for year in allyears[3:]:\n",
    "    print(year)\n",
    "\n",
    "    # get the datetime values\n",
    "    # years = list(np.arange(2003,2018,1))  # 15 year period\n",
    "    years = list(np.arange(year,year+1,1))\n",
    "    years = [str(i) for i in years]\n",
    "    years = np.array(years)\n",
    "    # write the datetimes for the later period\n",
    "    times = {}\n",
    "    \n",
    "    for year in years:\n",
    "        times[year] = np.arange(1,13,1)   # write all the months for this example 5-year period\n",
    "    \n",
    "    tsstr,datetimes = get_tsteps(times,fnames,dt_aste,startyr,1,1)\n",
    "\n",
    "    ## \n",
    "    for i in range(len(months_i)):\n",
    "        read_tsstr = tsstr[months_i[i]]\n",
    "        #print(read_tsstr)\n",
    "    \n",
    "        # read the fldList\n",
    "        file_name = 'trsp_3d_set1'\n",
    "        meta_trsp_3d_set1 = parsemeta(dirtrsp + file_name + \".\" + read_tsstr + \".meta\")\n",
    "        fldlist = np.array(meta_trsp_3d_set1[\"fldList\"])\n",
    "        varnames = np.array([\"UVELMASS\",\"VVELMASS\"])\n",
    "        recs = np.array([])\n",
    "        #print(fldlist)\n",
    "        for var in varnames:\n",
    "            irec = np.where(fldlist == var)\n",
    "            recs = np.append(recs, irec[0][0])\n",
    "        \n",
    "        # make sure order we write the variables is the same as the order in varnames, else we read the wrong thing\n",
    "        UVELi,its,meta = rdmds(os.path.join(dirtrsp, file_name),int(read_tsstr),returnmeta=True,rec=recs[0])  # m/s\n",
    "        UVELi = np.reshape(UVELi,(nz,ny,nx))\n",
    "        VVELi,its,meta = rdmds(os.path.join(dirtrsp, file_name),int(read_tsstr),returnmeta=True,rec=recs[1])  # m/s\n",
    "        VVELi = np.reshape(VVELi,(nz,ny,nx))\n",
    "\n",
    "        # get the vector\n",
    "        Uo,Vo = get_aste_vector_face1_3(UVELi,VVELi,nfx,nfy,False)\n",
    "        Uo,Vo = Uo[:,:-1,:-1],Vo[:,:-1,:-1]     # centering\n",
    "\n",
    "        # do depth averaging dependent on where you want\n",
    "        Uo_AW = np.nanmean(Uo[10:],axis=0)\n",
    "        Vo_AW = np.nanmean(Vo[10:],axis=0)\n",
    "        Uo_ArW = np.nanmean(Uo[:10],axis=0)\n",
    "        Vo_ArW = np.nanmean(Vo[:10],axis=0)\n",
    "\n",
    "        # do averaging in depth and set in bigger array\n",
    "        all_UVEL[iy,i] = Uo_AW\n",
    "        all_VVEL[iy,i] = Vo_AW\n",
    "        all_UVEL_top100m[iy,i] = Uo_ArW\n",
    "        all_VVEL_top100m[iy,i] = Vo_ArW\n",
    "    \n",
    "    iy += 1"
   ]
  },
  {
   "cell_type": "code",
   "execution_count": null,
   "id": "72bde9b3-2b48-4d41-8bf2-ca51ad1cbe45",
   "metadata": {},
   "outputs": [],
   "source": [
    "# do averaging\n",
    "all_UVEL_avg = np.nanmean(all_UVEL,axis=(0,1))\n",
    "all_VVEL_avg = np.nanmean(all_VVEL,axis=(0,1))"
   ]
  },
  {
   "cell_type": "code",
   "execution_count": null,
   "id": "ddfad205-44be-467a-bf38-dbe080bcf5b1",
   "metadata": {},
   "outputs": [],
   "source": [
    "all_UVEL_avg_top100m = np.nanmean(all_UVEL_top100m,axis=(0,1))\n",
    "all_VVEL_avg_top100m = np.nanmean(all_VVEL_top100m,axis=(0,1))"
   ]
  },
  {
   "cell_type": "code",
   "execution_count": null,
   "id": "0f26d541-d704-47f6-a80b-d3644de228cb",
   "metadata": {},
   "outputs": [],
   "source": [
    "mymsk = np.zeros((ny,nx))\n",
    "idxs = np.where(mskBasin == 6)\n",
    "\n",
    "for i,j in zip (idxs[0],idxs[1]):\n",
    "    mymsk[i,j] = 1\n",
    "\n",
    "test = get_aste_tracer(mymsk,nfx,nfy)[0]\n",
    "test[test == 0] = np.nan"
   ]
  },
  {
   "cell_type": "code",
   "execution_count": null,
   "id": "7e735d3e-adc7-48ae-9f8c-f4e36f2a50d7",
   "metadata": {},
   "outputs": [],
   "source": [
    "all_UVEL_avg_msk = all_UVEL_avg * test\n",
    "all_VVEL_avg_msk = all_VVEL_avg * test\n",
    "all_UVEL_avg_top100m_msk = all_UVEL_avg_top100m * test\n",
    "all_VVEL_avg_top100m_msk = all_VVEL_avg_top100m * test"
   ]
  },
  {
   "cell_type": "code",
   "execution_count": null,
   "id": "74e9b09d-4e78-48ab-8b95-cafb37372a80",
   "metadata": {},
   "outputs": [],
   "source": [
    "# fig = plt.figure(figsize=(8,4))\n",
    "# step = 6\n",
    "# scale2 = 1e0\n",
    "# scale = 2e-1\n",
    "# U=0.1\n",
    "\n",
    "# # create spacing for these\n",
    "# X, Y = np.meshgrid(np.arange(all_UVEL_avg.shape[1]), np.arange(all_VVEL_avg.shape[0]))  # Adjust for your grid\n",
    "\n",
    "# ax = plt.subplot(121)\n",
    "# ax.pcolormesh(get_aste_tracer(mygrid['Depth'],nfx,nfy)[0],cmap=\"rainbow_r\",vmin=0,vmax=600,alpha=.6)\n",
    "# q = ax.quiver(X[::step, ::step], Y[::step, ::step], all_UVEL_avg_msk[::step, ::step], all_VVEL_avg_msk[::step, ::step],color='black',width=0.01,zorder=2,scale=scale,alpha=0.7)\n",
    "# ax.quiverkey(q, X=.7, Y=.1, U=U, label=f\"{U} m/s\", labelpos='E',zorder=10)\n",
    "# ax.pcolormesh(get_aste_tracer(landmsk,nfx,nfy)[0],cmap=\"Greys\",zorder=2,vmin=0,vmax=6)\n",
    "# ax.set_xlim(400,540)\n",
    "# ax.set_ylim(400,600)\n",
    "# ax.set_title(\">100m velocity\")\n",
    "\n",
    "\n",
    "# ax = plt.subplot(122)\n",
    "# ax.pcolormesh(get_aste_tracer(mygrid['Depth'],nfx,nfy)[0],cmap=\"rainbow_r\",vmin=0,vmax=600,alpha=.6)\n",
    "# q = ax.quiver(X[::step, ::step], Y[::step, ::step], all_UVEL_avg_top100m_msk[::step, ::step], all_VVEL_avg_top100m_msk[::step, ::step],color='black',width=0.01,zorder=2,scale=scale2,alpha=0.7)\n",
    "# ax.pcolormesh(get_aste_tracer(landmsk,nfx,nfy)[0],cmap=\"Greys\",zorder=2,vmin=0,vmax=6)\n",
    "# ax.quiverkey(q, X=.7, Y=.1, U=U, label=f\"{U} m/s\", labelpos='E',zorder=10)\n",
    "\n",
    "# ax.set_xlim(400,540)\n",
    "# ax.set_ylim(400,600)\n",
    "# ax.set_title(\"0-100m velocity\")\n",
    "\n",
    "# plt.suptitle(\"DJF Average Mass Weighted Velocity (m/s)\")"
   ]
  },
  {
   "cell_type": "code",
   "execution_count": null,
   "id": "1bb45da6-d2ab-4343-b418-ec6ab6589beb",
   "metadata": {},
   "outputs": [],
   "source": [
    "# do same for arctic water layer\n",
    "\n",
    "mag = np.hypot(all_UVEL_avg_msk, all_VVEL_avg_msk)\n",
    "\n",
    "# Normalize the vectors by their magnitude\n",
    "U_norm = all_UVEL_avg_msk / (mag + 1e-10)\n",
    "V_norm = all_VVEL_avg_msk / (mag + 1e-10)\n",
    "\n",
    "# Apply square root scaling (or np.log1p for log)\n",
    "mag_scaled = np.sqrt(mag)  # or np.log1p(mag)\n",
    "\n",
    "# Now multiply back\n",
    "U_vis = U_norm * mag_scaled\n",
    "V_vis = V_norm * mag_scaled\n",
    "\n",
    "fig = plt.figure(figsize=(8,4))\n",
    "step = 8\n",
    "scale2 = 3e0\n",
    "scale = 2e0\n",
    "U=0.5\n",
    "\n",
    "# create spacing for these\n",
    "X, Y = np.meshgrid(np.arange(all_UVEL_avg.shape[1]), np.arange(all_VVEL_avg.shape[0]))  # Adjust for your grid\n",
    "\n",
    "ax = plt.subplot(121)\n",
    "ax.pcolormesh(get_aste_tracer(mygrid['Depth'],nfx,nfy)[0],cmap=\"rainbow_r\",vmin=0,vmax=600,alpha=.6)\n",
    "q = ax.quiver(X[::step, ::step], Y[::step, ::step], U_vis[::step, ::step], V_vis[::step, ::step],color='black',width=0.01,zorder=2,scale=scale,alpha=0.7)\n",
    "ax.quiverkey(q, X=.7, Y=.1, U=U, label=f\"ln({U}) m/s\", labelpos='E',zorder=10)\n",
    "ax.pcolormesh(get_aste_tracer(landmsk,nfx,nfy)[0],cmap=\"Greys\",zorder=2,vmin=0,vmax=6)\n",
    "ax.set_xlim(400,540)\n",
    "ax.set_ylim(400,600)\n",
    "ax.set_title(\">100m velocity\")\n",
    "\n",
    "\n",
    "mag = np.hypot(all_UVEL_avg_top100m_msk, all_VVEL_avg_top100m_msk)\n",
    "\n",
    "# Normalize the vectors by their magnitude\n",
    "U_norm = all_UVEL_avg_top100m_msk / (mag + 1e-10)\n",
    "V_norm = all_VVEL_avg_top100m_msk / (mag + 1e-10)\n",
    "\n",
    "# Apply square root scaling (or np.log1p for log)\n",
    "mag_scaled = np.sqrt(mag)  # or np.log1p(mag)\n",
    "\n",
    "# Now multiply back\n",
    "U_vis1 = U_norm * mag_scaled\n",
    "V_vis1 = V_norm * mag_scaled\n",
    "\n",
    "ax = plt.subplot(122)\n",
    "cb = ax.pcolormesh(get_aste_tracer(mygrid['Depth'],nfx,nfy)[0],cmap=\"rainbow_r\",vmin=0,vmax=600,alpha=.6)\n",
    "q = ax.quiver(X[::step, ::step], Y[::step, ::step], U_vis1[::step, ::step], V_vis1[::step, ::step],color='black',width=0.01,zorder=2,scale=scale2,alpha=0.7)\n",
    "ax.pcolormesh(get_aste_tracer(landmsk,nfx,nfy)[0],cmap=\"Greys\",zorder=2,vmin=0,vmax=6)\n",
    "ax.quiverkey(q, X=.7, Y=.1, U=U, label=f\"ln({U}) m/s\", labelpos='E',zorder=10)\n",
    "plt.colorbar(cb,label=\"Depth (m)\")\n",
    "\n",
    "ax.set_xlim(400,540)\n",
    "ax.set_ylim(400,600)\n",
    "ax.set_title(\"0-100m velocity\")\n",
    "\n",
    "\n",
    "plt.suptitle(names_title+ \" Average Mass Weighted Velocity 2006--2017 (m/s)\")\n",
    "plt.savefig(\"figs/vel2006_2017_\" + names_title + \".png\",dpi=300)"
   ]
  },
  {
   "cell_type": "code",
   "execution_count": null,
   "id": "c9b946d5-fa2e-48fe-9fd1-d305e008e685",
   "metadata": {},
   "outputs": [],
   "source": []
  },
  {
   "cell_type": "code",
   "execution_count": null,
   "id": "1575dd47-0743-4152-92d0-51fdbef0de09",
   "metadata": {},
   "outputs": [],
   "source": []
  }
 ],
 "metadata": {
  "kernelspec": {
   "display_name": "py38",
   "language": "python",
   "name": "py38"
  },
  "language_info": {
   "codemirror_mode": {
    "name": "ipython",
    "version": 3
   },
   "file_extension": ".py",
   "mimetype": "text/x-python",
   "name": "python",
   "nbconvert_exporter": "python",
   "pygments_lexer": "ipython3",
   "version": "3.8.18"
  }
 },
 "nbformat": 4,
 "nbformat_minor": 5
}
