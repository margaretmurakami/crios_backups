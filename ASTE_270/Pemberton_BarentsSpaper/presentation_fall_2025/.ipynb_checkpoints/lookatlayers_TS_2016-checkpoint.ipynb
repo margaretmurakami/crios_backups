{
 "cells": [
  {
   "cell_type": "markdown",
   "id": "43bd8fe5-b869-491c-ab70-059fbc3d8afd",
   "metadata": {},
   "source": [
    "# intro\n",
    "\n",
    "This notebook will (for the Barents Sea)\n",
    "\n",
    "- do a month by month breakdown of the volume distribution given in the layers package\n",
    "- decompose G terms to make sure these are budgeted and plotted\n",
    "- attempt to avoid hard coding\n",
    "\n",
    "This was initially done in April of 2025, this needs to be redone in September of 2025 to get up to the correct gates/check if this was correctly done (likely not). Next will need to see if we can get advection from the advective term."
   ]
  },
  {
   "cell_type": "markdown",
   "id": "7490c96c-dcc2-4a72-9d92-c2aa91800a0e",
   "metadata": {},
   "source": [
    "# load the packages and files"
   ]
  },
  {
   "cell_type": "code",
   "execution_count": 1,
   "id": "d43a8174-3391-452d-abb8-06f3bf8e717a",
   "metadata": {},
   "outputs": [],
   "source": [
    "import numpy as np\n",
    "import sys\n",
    "import matplotlib.pyplot as plt\n",
    "import pandas as pd\n",
    "import xarray as xr\n",
    "import h5py\n",
    "from scipy.io import loadmat\n",
    "import matplotlib as mpl\n",
    "import time\n",
    "import gsw\n",
    "from matplotlib.colors import TwoSlopeNorm\n",
    "import gzip\n",
    "\n",
    "# import existing python files\n",
    "plt.rcParams['figure.figsize'] = (10,4)\n",
    "\n",
    "# add rdmds reading functions to path\n",
    "sys.path.append(\"/home/mmurakami/MITgcm/MITgcm_c68r/MITgcm-checkpoint68r/utils/python/MITgcmutils/MITgcmutils/\") # go to parent dir\n",
    "from mds import *\n",
    "\n",
    "# add the other files\n",
    "sys.path.append(\"/home/mmurakami/crios_backups/an_helper_functions\")\n",
    "from read_binary import *\n",
    "from calc_UV_conv_1face import calc_UV_conv_1face\n",
    "from calc_mskmean_T_mod import calc_mskmean_T_mod\n",
    "from mk3D_mod import mk3D_mod\n",
    "from aste_helper_funcs import *\n",
    "from timing_functions import *           # ts2dte, get_fnames, etc.\n",
    "from binning import *                    # bin_array, create_mesh\n",
    "\n",
    "# ignore memory warnings\n",
    "import warnings\n",
    "warnings.filterwarnings('ignore')\n",
    "from dateutil.relativedelta import relativedelta"
   ]
  },
  {
   "cell_type": "code",
   "execution_count": 2,
   "id": "b7f0e3b3-b4fe-48d8-a2cf-ee9cc1bdba4b",
   "metadata": {},
   "outputs": [],
   "source": [
    "import h5py\n",
    "from scipy.io import loadmat\n",
    "from scipy.io import savemat"
   ]
  },
  {
   "cell_type": "code",
   "execution_count": 3,
   "id": "6e9c8cbb-e028-4f1a-940e-b4c2f21252ff",
   "metadata": {},
   "outputs": [
    {
     "name": "stdout",
     "output_type": "stream",
     "text": [
      "(50,) (50, 1350, 270)\n",
      "hf1 (1350, 270)\n",
      "(1, 1350, 270)\n",
      "LwetC2d 146614\n",
      "LwetC 4833023\n",
      "\n"
     ]
    }
   ],
   "source": [
    "sys.path.append(\"/home/mmurakami/crios_backups/an_helper_functions\")\n",
    "from get_Jterms import *  # this will also set up the grid should be"
   ]
  },
  {
   "cell_type": "code",
   "execution_count": 4,
   "id": "77cbde7a-430a-41c2-b20a-3d62a6e229ad",
   "metadata": {},
   "outputs": [],
   "source": [
    "forward_path = \"/scratch3/atnguyen/aste_270x450x180/run_c68v_adxOFF_20022023_capxxN50_it0062_pk0000000007_bro/\"\n",
    "layers_path = \"/scratch3/atnguyen/aste_270x450x180/run_c68v_layers_lessmem1_adxOFF_Jan2016_capxxN50_it0062_pk0000736272_bro/\"\n",
    "imgpath = \"/home/mmurakami/crios_backups/ASTE_270/Pemberton_BarentsSpaper/Layers/figs/\"\n",
    "dirdiags = \"/scratch3/atnguyen/aste_270x450x180/run_c68v_layers_lessmem1_adxOFF_Jan2016_capxxN50_it0062_pk0000736272_bro/diags/LAYERS_Cwet/\"\n",
    "dirrun = \"/scratch3/atnguyen/aste_270x450x180/run_c68v_layers_lessmem1_adxOFF_Jan2016_capxxN50_it0062_pk0000736272_bro/\"\n",
    "dirState = \"/scratch3/atnguyen/aste_270x450x180/run_c68v_layers_lessmem1_adxOFF_Jan2016_capxxN50_it0062_pk0000736272_bro/diags/STATE/\"\n",
    "dirgridw = \"/scratch2/atnguyen/aste_270x450x180/GRID_wet/\""
   ]
  },
  {
   "cell_type": "code",
   "execution_count": 5,
   "id": "725455e4-8cf9-4c38-8f4b-33c2f1f2da66",
   "metadata": {},
   "outputs": [],
   "source": [
    "# define the basin, the index and the years we want to look at\n",
    "nbasin = \"BarentsS\"\n",
    "iB = 6  # for the maskBasin\n",
    "ffac = 1e-6"
   ]
  },
  {
   "cell_type": "code",
   "execution_count": 6,
   "id": "81967ec4-f917-418f-8ef4-27295024fc5b",
   "metadata": {},
   "outputs": [
    {
     "data": {
      "text/plain": [
       "11"
      ]
     },
     "execution_count": 6,
     "metadata": {},
     "output_type": "execute_result"
    }
   ],
   "source": [
    "# get the timesteps for the year 2007\n",
    "# ocean and ice\n",
    "AB_gT=0\n",
    "AB_gS=0\n",
    "\n",
    "# define the years of this that we want to read from\n",
    "# create an array of the time steps we want to read\n",
    "# use ts2dte to get december 2014\n",
    "# first make an array of filenames\n",
    "dt_aste = 600\n",
    "startyr = 2002\n",
    "endyr = 2019\n",
    "\n",
    "# all the filenames in the system\n",
    "fnames = get_fnames(dt_aste,startyr,endyr)\n",
    "\n",
    "times = {}\n",
    "times[\"2016\"] = np.arange(2,13,1)\n",
    "times[\"2017\"] = np.arange(1,2,1)\n",
    "\n",
    "# the filenames we want for 2014\n",
    "tsstr,datetimes = get_tsteps(times,fnames,dt_aste,startyr,1,1)\n",
    "\n",
    "t2 = int(tsstr[1])    # this is the averages file that we want to read from when we do budgeting\n",
    "\n",
    "\n",
    "dt = datetimes[1]-datetimes[0]   # days\n",
    "dt = dt.total_seconds()\n",
    "\n",
    "tsteps = len(datetimes)-1\n",
    "tsteps"
   ]
  },
  {
   "cell_type": "code",
   "execution_count": 7,
   "id": "e55f7cec-e9a4-4bba-9f61-f16881966237",
   "metadata": {},
   "outputs": [
    {
     "data": {
      "text/plain": [
       "'/scratch3/atnguyen/aste_270x450x180/run_c68v_layers_lessmem1_adxOFF_Jan2016_capxxN50_it0062_pk0000736272_bro/'"
      ]
     },
     "execution_count": 7,
     "metadata": {},
     "output_type": "execute_result"
    }
   ],
   "source": [
    "layers_path"
   ]
  },
  {
   "cell_type": "markdown",
   "id": "9b486111-a01d-4afa-bf35-ad9d873884b1",
   "metadata": {},
   "source": [
    "# load the TS bins"
   ]
  },
  {
   "cell_type": "code",
   "execution_count": 8,
   "id": "009e56a2-a6d2-4bdc-b591-11cbee5b780d",
   "metadata": {},
   "outputs": [
    {
     "name": "stdout",
     "output_type": "stream",
     "text": [
      "112\n",
      "112\n",
      "(112,)\n"
     ]
    }
   ],
   "source": [
    "# we will use the bins from the An run so that we have the same thing in both sections\n",
    "# Paths for the bins in this run\n",
    "filename = \"layers2TH\"\n",
    "boundsT = rdmds(layers_path + filename)\n",
    "binsTH_edges = boundsT.reshape(boundsT.shape[0])\n",
    "binsTH_centers = (binsTH_edges[:-1] + binsTH_edges[1:])/2\n",
    "nT = binsTH_edges.shape[0]-1\n",
    "print(nT)\n",
    "\n",
    "filename = \"layers1SLT\"\n",
    "boundsS = rdmds(layers_path + filename)\n",
    "binsSLT_edges = boundsS.reshape(boundsS.shape[0])\n",
    "binsSLT_centers = (binsSLT_edges[:-1] + binsSLT_edges[1:])/2\n",
    "nS = binsSLT_edges.shape[0]-1\n",
    "print(nS)\n",
    "\n",
    "binwidthT = binsTH_edges[1:] - binsTH_edges[:-1]\n",
    "print(binwidthT.shape)\n",
    "binwidthS = binsSLT_edges[1:] - binsSLT_edges[:-1]\n",
    "\n",
    "binwidthT1 = (binwidthT[:-1] + binwidthT[1:])/2\n",
    "binwidthS1 = (binwidthS[:-1] + binwidthS[1:])/2\n",
    "\n",
    "dT,dS = np.meshgrid(binwidthT,binwidthS)\n",
    "dT = dT.reshape(112,112,1)\n",
    "dS = dS.reshape(112,112,1)\n",
    "\n",
    "binmidT = ((boundsT[:-1] + boundsT[1:])/2).reshape(nT)\n",
    "binmidS = ((boundsS[:-1] + boundsS[1:])/2).reshape(nT)\n",
    "\n",
    "binmidTp = boundsT[1:-1]\n",
    "binmidSp = boundsS[1:-1]\n",
    "\n",
    "Tbin,Sbin = np.meshgrid(binsTH_edges,binsSLT_edges)\n",
    "Tbincent,Sbincent = np.meshgrid(binsTH_centers,binsSLT_centers)\n",
    "Tbin2,Sbin2 = np.meshgrid(binmidTp,binmidSp)"
   ]
  },
  {
   "cell_type": "markdown",
   "id": "0625805c-a37d-496f-a652-70b988ef9209",
   "metadata": {},
   "source": [
    "# Test masking"
   ]
  },
  {
   "cell_type": "code",
   "execution_count": 9,
   "id": "003f17d8-fdcd-4160-acc4-647411913824",
   "metadata": {},
   "outputs": [
    {
     "data": {
      "image/png": "[encoded data removed]",
      "text/plain": [
       "<Figure size 1000x400 with 2 Axes>"
      ]
     },
     "metadata": {},
     "output_type": "display_data"
    }
   ],
   "source": [
    "# define the Barents Sea up to the NZRU opening\n",
    "mymsk = np.zeros((ny,nx))\n",
    "idxs = np.where(mskBasin == 6)\n",
    "\n",
    "for i,j in zip (idxs[0],idxs[1]):\n",
    "    mymsk[i,j] = 1\n",
    "\n",
    "# we have to add in until the edge of novaya zemlya\n",
    "mymsk2 = get_aste_tracer(mymsk,nfx,nfy)[0]\n",
    "mymsk2[:487,510:] = 1\n",
    "mymsk2[:490,532:] = 1\n",
    "mymsk = aste_tracer2compact(mymsk2,nfx,nfy)[0]\n",
    "\n",
    "# remember to mask with land so we have the correct item\n",
    "mymsk = mymsk * hfC[0]\n",
    "mymsk[mymsk == 0] = np.nan\n",
    "\n",
    "\n",
    "# extend the Barents Sea up to the gate between NZ--RU\n",
    "mskBasin[mymsk == 1] = 6\n",
    "\n",
    "ind2d_aste = get_aste_tracer(np.reshape(mskBasin,(ny,nx)),nfx,nfy)\n",
    "plt.pcolormesh(ind2d_aste[0,:,:])\n",
    "plt.colorbar()\n",
    "\n",
    "ind2d = mskBasin.reshape(364500)\n",
    "ind2d.shape\n",
    "# iBarentsS2D = np.where(ind2d == 7)[0]\n",
    "\n",
    "mymsk = np.zeros((ny,nx))\n",
    "idxs = np.where(mskBasin == 6)\n",
    "\n",
    "\n",
    "ind2d_wet = ind2d[iwetC2d]\n",
    "iwet_BarentsS2D = np.where(ind2d_wet == 6)[0]\n",
    "iwet_mine = iwet_BarentsS2D\n",
    "imask = np.where(ind2d == -1)[0]\n",
    "iwet_mymsk = np.where(ind2d_wet == 6)[0]"
   ]
  },
  {
   "cell_type": "code",
   "execution_count": 10,
   "id": "d76831fd-6e40-42c3-8ddd-93a43ed35dce",
   "metadata": {},
   "outputs": [],
   "source": [
    "ind2d_aste = get_aste_tracer(np.reshape(mskBasin,(ny,nx)),nfx,nfy)\n",
    "ind2d = mskBasin.reshape(364500)                 # the flattened basin\n",
    "ind2d_wet = ind2d[iwetC2d]                       # labels in the flattened array that are wet\n",
    "iwet_BarentsS2D = np.where(ind2d_wet == iB)[0]   # labels in the wet points that are the basin"
   ]
  },
  {
   "cell_type": "code",
   "execution_count": 11,
   "id": "52d0b306-032c-4d74-ac59-81dfe884e9a0",
   "metadata": {},
   "outputs": [],
   "source": [
    "# print(iwetC2d[iwet_BarentsS2D])\n",
    "# print(ind2d_wet.shape)\n",
    "# print(np.nanmax(iwet_BarentsS2D))\n",
    "# print(ind2d_wet[iwet_BarentsS2D])\n",
    "# print(ind2d[iwetC2d][iwet_BarentsS2D])"
   ]
  },
  {
   "cell_type": "code",
   "execution_count": 12,
   "id": "16cb1265-8d5d-4ca7-8fd9-59cce4833ffe",
   "metadata": {},
   "outputs": [
    {
     "name": "stdout",
     "output_type": "stream",
     "text": [
      "RAC2d (146614,)\n",
      "(4833023,)\n"
     ]
    }
   ],
   "source": [
    "# 2d\n",
    "rac2d = read_float64(dirgridw + \"RAC_\" + str(LwetC2d) + \".data\")\n",
    "print(\"RAC2d\",rac2d.shape)\n",
    "drf3d = read_float32(dirgridw + \"DRF_\" + str(LwetC) + \".data\")\n",
    "hf1flat = np.reshape(hf1,hf1.flatten().shape[0])\n",
    "hf2d = hf1flat[iwetC2d]\n",
    "rac2dtile = np.tile(rac2d,(nT-1,1)) #.shape\n",
    "hf2dtile = np.tile(hf2d,(nT-1,1))"
   ]
  },
  {
   "cell_type": "code",
   "execution_count": 13,
   "id": "f6151e6b-a580-43ec-a80f-8152f66bee39",
   "metadata": {},
   "outputs": [],
   "source": [
    "x_bso = gg['BarentsSeaOpening'][\"ix\"]-1   # 0 \n",
    "y_bso = gg['BarentsSeaOpening'][\"jy\"]-1\n",
    "x_bso[x_bso == 162] = 161\n",
    "\n",
    "x_sfj = gg['Svalbard-FranzJosefIslands'][\"ix\"]-1   # 1\n",
    "y_sfj = gg['Svalbard-FranzJosefIslands'][\"jy\"]-1\n",
    "x_sfj,y_sfj = x_sfj[1:],y_sfj[1:]\n",
    "\n",
    "x_fjnz = gg['FranzJosefIslands-NovayaZemlya'][\"ix\"]-1  #2 \n",
    "y_fjnz = gg['FranzJosefIslands-NovayaZemlya'][\"jy\"]-1\n",
    "\n",
    "x_nzru = np.full((5),37)\n",
    "y_nzru = np.arange(460,465,1)\n",
    "\n",
    "test = np.full(mskBasin.shape,np.nan)\n",
    "test[y_bso,x_bso] = 1\n",
    "test[y_sfj,x_sfj] = 2\n",
    "test[y_fjnz,x_fjnz] = 3\n",
    "test[y_nzru,x_nzru] = 4"
   ]
  },
  {
   "cell_type": "markdown",
   "id": "53d87140-a752-4dc7-8b29-dd840786ebf3",
   "metadata": {},
   "source": [
    "# load the files for volume distribution"
   ]
  },
  {
   "cell_type": "code",
   "execution_count": 14,
   "id": "91c5f2c8-072c-4608-892f-217391f96f2d",
   "metadata": {},
   "outputs": [
    {
     "data": {
      "text/plain": [
       "1e-06"
      ]
     },
     "execution_count": 14,
     "metadata": {},
     "output_type": "execute_result"
    }
   ],
   "source": [
    "ffac "
   ]
  },
  {
   "cell_type": "code",
   "execution_count": 15,
   "id": "32953da4-d9dd-42a9-9840-5bad599a5ace",
   "metadata": {},
   "outputs": [],
   "source": [
    "filename = \"/scratch3/atnguyen/aste_270x450x180/run_c68v_layers_lessmem1_adxOFF_Jan2016_capxxN50_it0062_pk0000736272_bro/diags/LAYERS_Cwet/layers_TSjoint_p_146614.0000740736.data\"\n",
    "\n",
    "tmp = read_float32_skip(filename, LwetC2d*(nS)*(nT),0)"
   ]
  },
  {
   "cell_type": "code",
   "execution_count": null,
   "id": "3d64d7a7-e4a4-4b19-a0de-431888e86d95",
   "metadata": {},
   "outputs": [],
   "source": [
    "# DO NOT RUN IF ALREADY CALCULATED\n",
    "vol_distrib = {}\n",
    "vol_distrib[nbasin] = {}\n",
    "dT,dS = np.meshgrid(binwidthT,binwidthS)\n",
    "bindices = iwet_BarentsS2D   # not sure if this is the best way to index probably fix layer\n",
    "\n",
    "# try to read the volume from the layers\n",
    "for i,j in zip(tsstr,datetimes):\n",
    "    print(i)\n",
    "    filename = dirrun + \"diags/LAYERS_Cwet/layers_TSjoint_p_\" + str(LwetC2d) + \".\" + i + \".data\"\n",
    "    print(filename)\n",
    "    tmp = read_float32_skip(filename, LwetC2d*(nS)*(nT),0) # 0 here is for matlab translation\n",
    "\n",
    "    print('s')\n",
    "\n",
    "    tmp = np.reshape(tmp,(nT,nS,LwetC2d))              # LwetC2d x nS x nT\n",
    "    small = rac2d * hf2d\n",
    "    small = np.tile(small[np.newaxis,np.newaxis,:],(nT,nS,1))\n",
    "\n",
    "    print('s')\n",
    "\n",
    "    tmp = tmp * small * ffac\n",
    "\n",
    "    print('a')\n",
    "\n",
    "    # do the summing over volume\n",
    "    tmp1 = np.nansum(tmp[:,:,bindices],axis=2)\n",
    "    tmp1[tmp1 == 0] = np.nan\n",
    "    vol_distrib[nbasin][i] = tmp1 / dT / dS  # [m^3 / (degC psu)]\n",
    "\n",
    "del tmp1"
   ]
  },
  {
   "cell_type": "code",
   "execution_count": null,
   "id": "d12eca9a-3d3a-479c-ae2e-aa29cceaf5cf",
   "metadata": {},
   "outputs": [],
   "source": [
    "# save the volume distribution\n",
    "matpath = \"/scratch2/mmurakami/aste_270x450x180/\"\n",
    "matpath += \"run_c68v_layers_lessmem1_adxOFF_Jan2016_capxxN50_it0062_pk0000262944_bro/\"\n",
    "np.savez_compressed(matpath + \"vol_distrib_BarentsS.npz\", **vol_distrib[nbasin])\n",
    "print(\"Saved vol_distrib as .npz\")"
   ]
  },
  {
   "cell_type": "code",
   "execution_count": null,
   "id": "597471b5-46c7-4ca1-ba48-66a5dd274907",
   "metadata": {},
   "outputs": [],
   "source": [
    "matpath = \"/scratch2/mmurakami/aste_270x450x180/\"\n",
    "matpath += \"run_c68v_layers_lessmem1_adxOFF_Jan2016p_capxxN50_it0062_pk0000262944_bro/\"\n",
    "loaded = np.load(matpath + \"vol_distrib_BarentsS.npz\", allow_pickle=True)\n",
    "vol_distrib = dict(loaded)\n",
    "# vol_distrib"
   ]
  },
  {
   "cell_type": "markdown",
   "id": "4596b540-a5b0-4f49-bdd1-7fa2d6c6c58e",
   "metadata": {},
   "source": [
    "# now plot the volume distributions in T-S space to see and save as figure"
   ]
  },
  {
   "cell_type": "code",
   "execution_count": null,
   "id": "d12f8580-b6a7-44fe-8661-404758bb62f7",
   "metadata": {},
   "outputs": [],
   "source": [
    "cmap = plt.get_cmap('RdBu_r',31).copy()\n",
    "cmap.set_under(color='white')\n",
    "cmap2 = plt.get_cmap('viridis',31).copy()\n",
    "cmap2.set_under(color='white')"
   ]
  },
  {
   "cell_type": "code",
   "execution_count": null,
   "id": "f1e9ef02-e41e-4dba-b7ce-07acffaaaa3d",
   "metadata": {},
   "outputs": [],
   "source": [
    "# add the isopycnals\n",
    "# add the density contours from gsw\n",
    "smin = 25.5 - (0.01 * 25.5)    #salt_ctrl_subregR.min - (0.01 * salt_ctrl_subregR.min)\n",
    "smax = 38 + (0.01 * 38)    #salt_ctrl_subregR.max + (0.01 * salt_ctrl_subregR.max)\n",
    "tmin = -2 + (0.1 * -2)       #temp_ctrl_subregR.min - (0.1 * temp_ctrl_subregR.max)\n",
    "tmax = 31 + (0.1 * 31)       #temp_ctrl_subregR.max + (0.1 * temp_ctrl_subregR.max)\n",
    "print('tmin, tmax, smin, smax sizes=,', tmin, tmax, smin, smax)\n",
    "# Calculate how many gridcells we need in the x and y dimensions\n",
    "xdim = 50\n",
    "ydim = 50\n",
    "# Create empty grid of zeros\n",
    "dens = np.zeros((ydim,xdim))\n",
    "# Create temp and salt vectors of appropiate dimensions\n",
    "ti = np.linspace(-2,31,ydim)\n",
    "si = np.linspace(25.5,38,xdim)\n",
    "Freez_temp = gsw.CT_freezing(si,0,0)\n",
    "\n",
    "Si, Ti = np.meshgrid(si, ti, sparse=False, indexing='ij')\n",
    "# Loop to fill in grid with densities\n",
    "for j in range(0,int(ydim)):\n",
    "    for i in range(0, int(xdim)):\n",
    "        #print(si[i],ti[j])\n",
    "        dens[j,i]=gsw.rho(si[i],ti[j],0)\n",
    "        # Substract 1000 to convert to sigma-0\n",
    "dens2 = dens - 1000"
   ]
  },
  {
   "cell_type": "code",
   "execution_count": null,
   "id": "9e885570-42e2-4747-9352-93c4c10165f1",
   "metadata": {},
   "outputs": [],
   "source": [
    "vol_distrib"
   ]
  },
  {
   "cell_type": "code",
   "execution_count": null,
   "id": "ff91c1ee-f3e0-4c5c-8a7e-f40ba166a345",
   "metadata": {},
   "outputs": [],
   "source": [
    "tsstr"
   ]
  },
  {
   "cell_type": "code",
   "execution_count": null,
   "id": "d560c8d7-0cea-413c-a3ec-a8536be4348c",
   "metadata": {},
   "outputs": [],
   "source": [
    "# setup before the run\n",
    "xlims, ylims = np.array([30, 36]), np.array([-2.3, 13])\n",
    "\n",
    "# setup the plotting\n",
    "fig, axes = plt.subplots(4,3, figsize = (15,15))\n",
    "axes = axes.flatten()\n",
    "\n",
    "# loop through tsstr and plot each\n",
    "i = 0  # for getting the datetimes name\n",
    "for idx, ts in enumerate(tsstr):\n",
    "    print(ts)\n",
    "    ax = axes[idx]\n",
    "    im = ax.pcolormesh(Sbin,Tbin, np.log10(vol_distrib['BarentsS'][ts]).T,cmap=cmap2,vmin=0,vmax=10)\n",
    "\n",
    "    ax.set_xlabel(\"S\")\n",
    "    ax.set_ylabel(\"T\")\n",
    "    ax.set_title(f\"Volume at Time: {datetimes[i]}\")\n",
    "    #ax.grid()\n",
    "    ax.set_xlim(xlims)\n",
    "    ax.set_ylim(ylims)\n",
    "\n",
    "    # Add colorbar for the last row of subplots\n",
    "    if idx % 3 == 2 or idx == len(tsstr) - 1:\n",
    "        cbar = fig.colorbar(im, ax=ax, orientation='vertical')\n",
    "        cbar.set_label(\"log10 Volume [m^3/(°C psu)]\")\n",
    "\n",
    "    # Density contours\n",
    "    cs = ax.contour(si, ti, dens2, colors=\"grey\", zorder=1, alpha=0.5, levels=np.arange(16, 32, 1))\n",
    "    ax.clabel(cs, fontsize=10, inline=False, fmt=\"%.f\")\n",
    "\n",
    "    i += 1\n",
    "\n",
    "# remove unused subplots\n",
    "for i in range(len(tsstr),len(axes)):\n",
    "    fig.delaxes(axes[i])\n",
    "\n",
    "plt.tight_layout()\n",
    "plt.savefig(imgpath + \"monthly_volume_distribution_2016.png\",dpi=300)"
   ]
  },
  {
   "cell_type": "code",
   "execution_count": null,
   "id": "5476395b-c232-4c56-b1d2-9a107486158c",
   "metadata": {},
   "outputs": [],
   "source": [
    "imgpath"
   ]
  },
  {
   "cell_type": "markdown",
   "id": "837301cb-c4f4-45bc-aed7-0cb32d5767dc",
   "metadata": {},
   "source": [
    "# now return to the G terms and see if we can calculate and understand these"
   ]
  },
  {
   "cell_type": "code",
   "execution_count": null,
   "id": "cc068cb6-c701-4d29-805b-70bc3e5af441",
   "metadata": {},
   "outputs": [],
   "source": [
    "# try to run with all months"
   ]
  },
  {
   "cell_type": "code",
   "execution_count": null,
   "id": "0c85d863-f53e-4c67-b411-ef60409f388b",
   "metadata": {},
   "outputs": [],
   "source": [
    "ffac=1e-6\n",
    "G_T=np.array([])\n",
    "metaT=parsemeta(dirrun + \"diags/LAYERS/layers_3d_Ttend.\" + tsstr[0] + \".meta\")\n",
    "metaS=parsemeta(dirrun + \"diags/LAYERS/layers_3d_Stend.\" + tsstr[0] + \".meta\")\n",
    "nFldsS = metaS[\"fldList\"]\n",
    "nFldsT = metaT[\"fldList\"]"
   ]
  },
  {
   "cell_type": "code",
   "execution_count": null,
   "id": "697f5844-2753-400f-af99-7a7696ab892a",
   "metadata": {},
   "outputs": [],
   "source": [
    "# metaT['fldList']  # 0, 1, 2, 7, \n",
    "metaS['fldList']   # 13, 14, 15, 16, 19, 22\n",
    "a = metaS['fldList']\n",
    "print(a[12],a[13],a[14],a[19],a[20],a[23])  # these are the ifldS values\n",
    "# these are the total tend due to salt terms, tend due to salt surf forcing, tend due to salt horizontal diff, tend due to salt vertical diff\n",
    "# ... tend due to salt horiz adv, tend due to salt vertical adv\n",
    "ifldS = np.array([12,13,14,19,20,23])  # total tend, surf, hDiff, vDiff, hADV, vADV"
   ]
  },
  {
   "cell_type": "code",
   "execution_count": null,
   "id": "98422e35-e624-4cd2-abab-0a0604ceb064",
   "metadata": {},
   "outputs": [],
   "source": [
    "metaT['fldList']   # 13, 14, 15, 16, 19, 22\n",
    "a = metaT['fldList']\n",
    "print(a[0],a[1],a[2],a[7],a[8],a[11])\n",
    "ifldT = np.array([0,1,2,7,8,11])    # surf, hDiff, vDiff, hADV, vADV, total tend"
   ]
  },
  {
   "cell_type": "code",
   "execution_count": null,
   "id": "09195547-5af9-4c56-978c-3efbce3de631",
   "metadata": {},
   "outputs": [],
   "source": [
    "setTtend=np.array(nFldsT.copy())\n",
    "setStend=np.array(nFldsS.copy())"
   ]
  },
  {
   "cell_type": "code",
   "execution_count": null,
   "id": "c18f84de-3a3c-4210-b309-e956dbd607bd",
   "metadata": {},
   "outputs": [],
   "source": [
    "print(setTtend[ifldT])\n",
    "print()\n",
    "print(setTtend)\n",
    "print()\n",
    "# print(setStend[ifldS])\n",
    "for i in range(len(ifldT)-1, -1, -1):\n",
    "    print(i)\n",
    "    print(setTtend[ifldT[i]])"
   ]
  },
  {
   "cell_type": "code",
   "execution_count": null,
   "id": "4870629c-bda9-488d-9384-56083cd0a00a",
   "metadata": {},
   "outputs": [],
   "source": [
    "# make the G_T term\n",
    "G_T = {}\n",
    "G_T[nbasin] = {}\n",
    "    \n",
    "# now loop through each timestep in tsstr\n",
    "for t in tsstr:\n",
    "    print(t)\n",
    "    # initialize for the timestep\n",
    "    G_T[nbasin][t] = {}\n",
    "    residT = None\n",
    "\n",
    "    # loop through each ifldT backward (total tend, vADV, hADV, vDiff, hDiff, surface)\n",
    "    for i in range(len(ifldT)-1, -1, -1):\n",
    "        # read from the file for current timestep\n",
    "        tmp = read_float32_skip(dirrun + f\"diags/LAYERS/layers_3d_Ttend.{t}.data\", nx*ny*(nT-1), ifldT[i])\n",
    "        tmp = np.reshape(tmp,(nT-1,nx*ny))\n",
    "\n",
    "        # apply masking and rescale with ffac\n",
    "        tmp = tmp[:,iwetC2d] * (rac2dtile * hf2dtile) * ffac\n",
    "\n",
    "        # update residual\n",
    "        if i == ifldT.shape[0]-1:  # for total tendency, leave as is\n",
    "            residT = tmp\n",
    "        else:                      # for all other terms, remove from the residual\n",
    "            residT = residT-tmp\n",
    "    \n",
    "        # just do the Barents Sea for this one\n",
    "        a = np.nansum(tmp[:,iwet_BarentsS2D],axis=1)\n",
    "        G_T[nbasin][t][setTtend[ifldT[i]]] = a\n",
    "\n",
    "    # compute and store the residual for this timestep\n",
    "    G_T[nbasin][t][\"residT\"] = np.nansum(residT[:,iwet_BarentsS2D],axis=1)"
   ]
  },
  {
   "cell_type": "code",
   "execution_count": null,
   "id": "52dc3f7e-02ec-4618-af81-3a5b7219f3c7",
   "metadata": {},
   "outputs": [],
   "source": [
    "# save G_T to file\n",
    "matpath = \"/scratch2/mmurakami/aste_270x450x180/\"\n",
    "matpath += \"run_c68v_layers_lessmem1_adxOFF_Jan2007_capxxN50_it0062_pk0000262944_bro/\"\n",
    "np.savez_compressed(matpath + \"G_T_BarentsS.npz\", **G_T[nbasin])\n",
    "print(\"Saved vol_distrib as .npz\")"
   ]
  },
  {
   "cell_type": "code",
   "execution_count": null,
   "id": "9c90943b-4dbd-404a-bf8b-cf7d48ca87e0",
   "metadata": {},
   "outputs": [],
   "source": [
    "print(setStend[ifldS])\n",
    "print()\n",
    "print(setStend)\n",
    "print()\n",
    "# print(setStend[ifldS])\n",
    "for i in range(len(ifldS)-1, -1, -1):\n",
    "    print(i)\n",
    "    print(setStend[ifldS[i]])"
   ]
  },
  {
   "cell_type": "code",
   "execution_count": null,
   "id": "c5fdc98e-7291-48c1-91f2-df6234e095ab",
   "metadata": {},
   "outputs": [],
   "source": [
    "# make the G_S term\n",
    "# this loop will be different because terms in different order (i=0) will be the total tend\n",
    "G_S = {}\n",
    "G_S[nbasin] = {}\n",
    "\n",
    "# loop through the timesteps as above\n",
    "for t in tsstr:\n",
    "    print(t)\n",
    "    # initialize for the timestep\n",
    "    G_S[nbasin][t] = {}\n",
    "    residS = None\n",
    "\n",
    "    # now loop through similar to ifldS -  change the looping because total tend is at the end\n",
    "    for i in range(len(ifldS)-1, -1, -1):\n",
    "        # read the file\n",
    "        tmp = read_float32_skip(dirrun + f\"diags/LAYERS/layers_3d_Stend.{t}.data\", nx*ny*(nT-1),ifldS[i])\n",
    "        tmp = np.reshape(tmp,(nS-1,nx*ny))\n",
    "\n",
    "        # apply masking\n",
    "        tmp = tmp[:,iwetC2d] * (rac2dtile * hf2dtile) * ffac\n",
    "\n",
    "        # update the terms\n",
    "        if i == ifldS.shape[0]-1:\n",
    "            residS = tmp          # for total tendency\n",
    "        else:\n",
    "            residS = residS-tmp   # for all other terms, remove from residual\n",
    "    \n",
    "        # just do for the Barents Sea\n",
    "        a = np.nansum(tmp[:,iwet_BarentsS2D],axis=1)\n",
    "        G_S[nbasin][t][setStend[ifldS[i]]] = a\n",
    "    \n",
    "    # loop through again to calculate resid\n",
    "    G_S[nbasin][t][\"residS\"] = np.nansum(residS[:,iwet_BarentsS2D],axis=1)  # check if this axis is correct"
   ]
  },
  {
   "cell_type": "code",
   "execution_count": null,
   "id": "83ade2dc-5de6-478d-b980-0f81fa29cb77",
   "metadata": {},
   "outputs": [],
   "source": [
    "# save G_S to file\n",
    "matpath = \"/scratch2/mmurakami/aste_270x450x180/\"\n",
    "matpath += \"run_c68v_layers_lessmem1_adxOFF_Jan2007_capxxN50_it0062_pk0000262944_bro/\"\n",
    "G_S_array = {key: np.array(value) for key, value in G_S[nbasin].items()}\n",
    "np.savez_compressed(matpath + \"G_S_BarentsS.npz\", **G_S_array)\n",
    "print(\"Saved vol_distrib as .npz\")"
   ]
  },
  {
   "cell_type": "markdown",
   "id": "4f054f5b-16a4-419c-b4a7-b0954737b29b",
   "metadata": {},
   "source": [
    "# load these G terms from file to prove that we can do that"
   ]
  },
  {
   "cell_type": "code",
   "execution_count": null,
   "id": "a5ab83ea-004c-422e-8cbb-e4f2ad7d8909",
   "metadata": {},
   "outputs": [],
   "source": [
    "matpath = \"/scratch2/mmurakami/aste_270x450x180/\"\n",
    "matpath += \"run_c68v_layers_lessmem1_adxOFF_Jan2007_capxxN50_it0062_pk0000262944_bro/\"\n",
    "loaded = np.load(matpath + \"G_S_BarentsS.npz\", allow_pickle=True)\n",
    "# G_S = dict(loaded)\n",
    "G_S = {key: loaded[key].item() for key in loaded}\n",
    "G_S[mytime].keys()"
   ]
  },
  {
   "cell_type": "code",
   "execution_count": null,
   "id": "ceb065e4-807b-4bc2-8ea5-41453619e0dc",
   "metadata": {},
   "outputs": [],
   "source": [
    "matpath = \"/scratch2/mmurakami/aste_270x450x180/\"\n",
    "matpath += \"run_c68v_layers_lessmem1_adxOFF_Jan2007_capxxN50_it0062_pk0000262944_bro/\"\n",
    "loaded = np.load(matpath + \"G_T_BarentsS.npz\", allow_pickle=True)\n",
    "G_T = {key: loaded[key].item() for key in loaded}\n",
    "G_T[mytime].keys()"
   ]
  },
  {
   "cell_type": "code",
   "execution_count": null,
   "id": "63eb6b11-2d49-40b2-9590-abad84918b37",
   "metadata": {},
   "outputs": [],
   "source": [
    "tsstr[10]\n",
    "mytime = tsstr[9]"
   ]
  },
  {
   "cell_type": "code",
   "execution_count": null,
   "id": "924b0186-2d03-44ea-ad69-a56b2b254ad9",
   "metadata": {},
   "outputs": [],
   "source": [
    "# get the indices we want to plot - only need one sample array\n",
    "sampleS = G_S[mytime]['LSto1SLT']\n",
    "nonzer_indices = np.flatnonzero(sampleS)\n",
    "ibegS = nonzer_indices[0]\n",
    "iendS = nonzer_indices[-1]\n",
    "iiS = np.arange(ibegS-5,iendS+5)\n",
    "\n",
    "# do same index sampling for G_T\n",
    "sampleT = G_T[mytime]['LTto2TH']\n",
    "nonzer_indices = np.flatnonzero(sampleT)\n",
    "ibegT = nonzer_indices[0]\n",
    "iendT = nonzer_indices[-1]\n",
    "iiT = np.arange(ibegT-1,iendT+2)\n",
    "\n",
    "print(iiS.shape,iiT.shape)\n",
    "iiS"
   ]
  },
  {
   "cell_type": "code",
   "execution_count": null,
   "id": "98cd5e90-6bbb-4fd6-9aeb-15ef318e4f1a",
   "metadata": {},
   "outputs": [],
   "source": [
    "# plot all the available times\n",
    "\n",
    "# Loop through the first 24 keys of G_T\n",
    "for i, mytime in enumerate(list(G_T.keys())[:24]):\n",
    "    fig = plt.figure(figsize=(9, 5))\n",
    "\n",
    "    ax1 = plt.subplot(121)\n",
    "    ax1.plot(binmidS[iiS], G_S[mytime][\"LSto1SLT\"][iiS], 'b-', alpha=0.5, label=\"tot\")\n",
    "    ax1.plot(binmidS[iiS], G_S[mytime][\"LSza1SLT\"][iiS] + G_S[mytime][\"LSha1SLT\"][iiS], 'r-', alpha=0.5, label=\"adv\")\n",
    "    ax1.plot(binmidS[iiS], G_S[mytime][\"LaSz1SLT\"][iiS] + G_S[mytime][\"LaSh1SLT\"][iiS], 'g-', alpha=0.5, label=\"diff\")\n",
    "    ax1.plot(binmidS[iiS], G_S[mytime][\"LaSs1SLT\"][iiS], 'c-', alpha=0.5, label=\"surf\")\n",
    "    ax1.plot(binmidS[iiS], G_S[mytime][\"residS\"][iiS], 'k-', alpha=0.5, label=\"resid\")\n",
    "    ax1.legend(loc=\"best\")\n",
    "    ax1.set_title(f\"G_S - {mytime}\")\n",
    "    ax1.set_ylabel('Resid G_S [Sv]')\n",
    "\n",
    "\n",
    "    ax2 = plt.subplot(122)\n",
    "    ax2.plot(binmidT[iiT], G_T[mytime][\"LTto2TH\"][iiT], 'b-', alpha=0.5, label=\"tot\")\n",
    "    ax2.plot(binmidT[iiT], G_T[mytime][\"LTza2TH\"][iiT] + G_T[mytime][\"LTha2TH\"][iiT], 'r-', alpha=0.5, label=\"adv\")\n",
    "    ax2.plot(binmidT[iiT], G_T[mytime][\"LaTz2TH\"][iiT] + G_T[mytime][\"LaTh2TH\"][iiT], 'g-', alpha=0.5, label=\"diff\")\n",
    "    ax2.plot(binmidT[iiT], G_T[mytime][\"LaTs2TH\"][iiT], 'c-', alpha=0.5, label=\"surf\")\n",
    "    ax2.plot(binmidT[iiT], G_T[mytime][\"residT\"][iiT], 'k-', alpha=0.5, label=\"resid\")\n",
    "    ax2.legend(loc=\"best\")\n",
    "    ax2.set_title(f\"G_T - {mytime}\")\n",
    "    ax2.set_ylabel('Resid G_T [Sv]')\n",
    "\n",
    "\n",
    "    plt.tight_layout()\n",
    "\n",
    "\n",
    "    # save each figure to show An\n",
    "    plt.savefig(imgpath + \"monthly_G_terms_\" + mytime+ \".png\",dpi=300)\n",
    "    \n",
    "    plt.show()"
   ]
  },
  {
   "cell_type": "markdown",
   "id": "ceddae38-30cf-425e-b838-9dbc2787d5b5",
   "metadata": {},
   "source": [
    "# double checking that this is closed"
   ]
  },
  {
   "cell_type": "code",
   "execution_count": null,
   "id": "dab45617-860b-4a19-8d0e-2a12ca3cb165",
   "metadata": {},
   "outputs": [],
   "source": [
    "fig = plt.figure(figsize = (9,5))\n",
    "\n",
    "ax = plt.subplot(121)\n",
    "ax.plot(binmidS[iiS], G_S[mytime][\"LSto1SLT\"][iiS], 'b-', alpha=0.5,label=\"tot\")\n",
    "ax.plot(binmidS[iiS], G_S[mytime][\"LSza1SLT\"][iiS] + G_S[mytime][\"LSha1SLT\"][iiS], 'r-', alpha=0.5,label=\"adv\")\n",
    "ax.plot(binmidS[iiS], G_S[mytime][\"LaSz1SLT\"][iiS] + G_S[mytime][\"LaSh1SLT\"][iiS], 'g-', alpha=0.5,label=\"diff\")\n",
    "ax.plot(binmidS[iiS], G_S[mytime][\"LaSs1SLT\"][iiS], 'c-', alpha=0.5,label=\"surf\")\n",
    "ax.plot(binmidS[iiS], G_S[mytime][\"residS\"][iiS], 'k-', alpha=0.5,label=\"resid\")\n",
    "ax.legend(loc=\"best\")\n",
    "ax.set_title(\"G_S\")\n",
    "\n",
    "\n",
    "ax = plt.subplot(122)\n",
    "ax.plot(binmidT[iiT], (G_T[mytime][\"LTto2TH\"][iiT]), 'b-', alpha=0.5,label=\"tot\")\n",
    "ax.plot(binmidT[iiT], G_T[mytime][\"LTza2TH\"][iiT] + G_T[mytime][\"LTha2TH\"][iiT], 'r-', alpha=0.5,label=\"adv\")\n",
    "ax.plot(binmidT[iiT], G_T[mytime][\"LaTz2TH\"][iiT] + G_T[mytime][\"LaTh2TH\"][iiT], 'g-', alpha=0.5,label=\"diff\")\n",
    "ax.plot(binmidT[iiT], G_T[mytime][\"LaTs2TH\"][iiT], 'c-', alpha=0.5,label=\"surf\")\n",
    "ax.plot(binmidT[iiT], G_T[mytime][\"residT\"][iiT], 'k-', alpha=0.5,label=\"resid\")\n",
    "ax.legend(loc=\"best\")\n",
    "ax.set_title(\"G_T\")"
   ]
  },
  {
   "cell_type": "code",
   "execution_count": null,
   "id": "0d0eebfa-783c-4ad2-b88c-56312b2f1806",
   "metadata": {},
   "outputs": [],
   "source": [
    "a = G_S[mytime][\"LSto1SLT\"]\n",
    "b = G_S[mytime][\"LSza1SLT\"] + G_S[mytime][\"LSha1SLT\"]\n",
    "c = G_S[mytime][\"LaSz1SLT\"] + G_S[mytime][\"LaSh1SLT\"]\n",
    "d = G_S[mytime][\"LaSs1SLT\"]\n",
    "e = G_S[mytime][\"residS\"]"
   ]
  },
  {
   "cell_type": "markdown",
   "id": "d48a9a2b-d41e-4b98-9eea-ed7c9e75c382",
   "metadata": {},
   "source": [
    "# now try to make the J terms for one month"
   ]
  },
  {
   "cell_type": "code",
   "execution_count": 16,
   "id": "ba9fd4f9-9e6c-4bc6-b208-1781e474186a",
   "metadata": {},
   "outputs": [],
   "source": [
    "# metaT=parsemeta(dirdiags + \"LAYERS/layers_3d_Ttend.0000723024.meta\")\n",
    "\n",
    "# set 1 - the total terms we want for the budget\n",
    "setTS_Ttend=parsemeta(dirrun + \"diags/LAYERS_Cwet/layers_TSjoint_Ttend_set1_146614.0000740736.meta\")[\"fldList\"]\n",
    "\n",
    "# set 2 - the other terms\n",
    "setTS_Ttend_set2=parsemeta(dirrun + \"diags/LAYERS_Cwet/layers_TSjoint_Ttend_set2_146614.0000740736.meta\")[\"fldList\"]\n",
    "\n",
    "# set 1 - the total terms for the salt budget\n",
    "setTS_Stend=parsemeta(dirrun + \"diags/LAYERS_Cwet/layers_TSjoint_Stend_set1_146614.0000740736.meta\")[\"fldList\"]\n",
    "\n",
    "# set 2 - the other terms\n",
    "setTS_Stend_set2=parsemeta(dirrun + \"diags/LAYERS_Cwet/layers_TSjoint_Stend_set2_146614.0000740736.meta\")[\"fldList\"]"
   ]
  },
  {
   "cell_type": "code",
   "execution_count": 17,
   "id": "d0164360-3e40-4078-a011-b28cc37fdf86",
   "metadata": {},
   "outputs": [
    {
     "data": {
      "text/plain": [
       "['LaTs_TS', 'LaTh_TS', 'LaTz_TS', 'LTha_TS', 'LTza_TS', 'LTto_TS']"
      ]
     },
     "execution_count": 17,
     "metadata": {},
     "output_type": "execute_result"
    }
   ],
   "source": [
    "setTS_Ttend"
   ]
  },
  {
   "cell_type": "code",
   "execution_count": 18,
   "id": "a4b7eaaa-d433-4250-97c2-c61e3959c018",
   "metadata": {},
   "outputs": [
    {
     "data": {
      "text/plain": [
       "['LaSs_TS', 'LaSh_TS', 'LaSz_TS', 'LSha_TS', 'LSza_TS', 'LSto_TS']"
      ]
     },
     "execution_count": 18,
     "metadata": {},
     "output_type": "execute_result"
    }
   ],
   "source": [
    "setTS_Stend"
   ]
  },
  {
   "cell_type": "code",
   "execution_count": null,
   "id": "0616e0b2-de32-4f3c-bf04-4490eda614c7",
   "metadata": {},
   "outputs": [],
   "source": [
    "# do the Jy term\n",
    "# DO NOT RUN IF HAS ALREADY BEEN CALCULATED\n",
    "# JUST FOR SET1 HERE - NOT FOR SET 2\n",
    "# 287 - should be indexing nt, ns, wetpoints\n",
    "# T, S, wetpoints\n",
    "Jy = {}\n",
    "# set each basin to its own dictionary\n",
    "Jy[nbasin] = {}\n",
    "\n",
    "rac = mygrid['RAC']\n",
    "hf1 = hf1.reshape(ny,nx)\n",
    "small = rac2d * hf2d\n",
    "\n",
    "# loop through the existing timesteps\n",
    "for t in tsstr:\n",
    "    print(t)\n",
    "    Jy[nbasin][t] = {}\n",
    "    Jy[nbasin][t]['G_T'] = {}\n",
    "    \n",
    "    # now loop through the terms and add these to the dictionary\n",
    "    for i in range(len(setTS_Ttend)-1, -1, -1):\n",
    "        print(i)\n",
    "        # read the file and apply masking\n",
    "        filename = dirrun + f\"diags/LAYERS_Cwet/layers_TSjoint_Ttend_set1_{LwetC2d}.{t}.data\"\n",
    "        tmp = read_float32_skip(filename, LwetC2d*(nS-1)*(nT-1),i)\n",
    "        tmp = np.reshape(tmp,(nT-1,nS-1,LwetC2d))\n",
    "        tmp = tmp * np.tile(small[np.newaxis,np.newaxis,:], (nT - 1, nS - 1,1)) * ffac\n",
    "    \n",
    "        # if at end of loop\n",
    "        if i == len(setTS_Ttend)-1:\n",
    "            f = (np.nansum(tmp, axis=2))\n",
    "            f = np.nansum(f * binwidthS1)\n",
    "    \n",
    "        # double check the names in the listed file\n",
    "        if i == len(setTS_Ttend)-1:\n",
    "            # do not remove from the residual - this is the total tendency\n",
    "            residT = tmp\n",
    "        elif i in {0,1,2,3,4}:\n",
    "            # LaTs_TS LaTh_TS LaTz_TS LTha_TS LTza_TS (LTBh_TS)\n",
    "            # surface forcing, hDiff, vDiff, hADV, vADV, hADV bolus\n",
    "            residT -= tmp\n",
    "    \n",
    "        tmp1 = np.nansum(tmp[:,:,iwet_BarentsS2D],axis=2)   # SUM OVER WET POINTS - should be of shape nS-1, nT-1\n",
    "        # TEST:\n",
    "        # tmp1 = tmp1.T\n",
    "        tmp2 = np.nansum(tmp1 * binwidthS1,axis=1)              # SUM OVER S - should be of shape nT-1\n",
    "        Jy[nbasin][t][setTS_Ttend[i]] = tmp1\n",
    "        Jy[nbasin][t]['G_T'][setTS_Ttend[i]] = tmp2\n",
    "        del tmp\n",
    "        del tmp1\n",
    "        del tmp2\n",
    "\n",
    "\n",
    "    myresid = np.nansum(residT[:,:,iwet_BarentsS2D],axis=2)    # SUM OVER WET POINTS - should be of shape nS-1, nT-1\n",
    "    # myresid = myresid.T\n",
    "    Jy[nbasin][t][\"residT\"] = myresid\n",
    "    Jy[nbasin][t][\"G_T\"][\"residT\"] = np.nansum(Jy[nbasin][t][\"residT\"] * binwidthS1,axis=1)   #SUM OVER S - should be of shape nT-1\n",
    "\n",
    "    print()\n",
    "# set units and labels\n",
    "Jy[\"unit\"] = \"m/s/psu\"\n",
    "\n",
    "# Define your filename\n",
    "filename = \"Jy_data_full.npz\"\n",
    "matpath = \"/scratch2/mmurakami/aste_270x450x180/\"\n",
    "matpath += \"run_c68v_layers_lessmem1_adxOFF_Jan2016_capxxN50_it0062_pk0000262944_bro/\"\n",
    "\n",
    "# Save the dictionary\n",
    "np.savez(matpath + filename, **Jy)"
   ]
  },
  {
   "cell_type": "code",
   "execution_count": null,
   "id": "a8625c01-2b88-4aaa-a452-04a14f859070",
   "metadata": {},
   "outputs": [],
   "source": [
    "# Load the .npz file\n",
    "filename = \"Jy_data.npz\"\n",
    "filename = \"Jy_data_full.npz\"\n",
    "\n",
    "matpath = \"/scratch2/mmurakami/aste_270x450x180/\"\n",
    "matpath += \"run_c68v_layers_lessmem1_adxOFF_Jan2016_capxxN50_it0062_pk0000262944_bro/\"\n",
    "\n",
    "loaded_data = np.load(matpath + filename, allow_pickle=True)\n",
    "\n",
    "# Convert it back to a dictionary\n",
    "Jy_loaded = {key: loaded_data[key].item() if loaded_data[key].ndim == 0 else loaded_data[key] for key in loaded_data}\n",
    "# Jy_loaded"
   ]
  },
  {
   "cell_type": "code",
   "execution_count": null,
   "id": "e8c951b1-3acf-44be-84b5-537de78a8b2b",
   "metadata": {},
   "outputs": [
    {
     "name": "stdout",
     "output_type": "stream",
     "text": [
      "0000740736\n",
      "(111, 111, 146614)\n",
      "(111, 111, 146614)\n",
      "(111, 111, 146614)\n",
      "(111, 111, 146614)\n"
     ]
    }
   ],
   "source": [
    "# DO NOT RUN IF HAS ALREADY BEEN CALCULATED\n",
    "Jx = {}\n",
    "Jx[nbasin] = {}\n",
    "\n",
    "rac = mygrid['RAC']\n",
    "hf1 = hf1.reshape(ny,nx)\n",
    "\n",
    "# loop through the existing timesteps\n",
    "for t in tsstr:\n",
    "    print(t)\n",
    "    Jx[nbasin][t] = {}\n",
    "    Jx[nbasin][t]['G_S'] = {}\n",
    "\n",
    "    # loop through the diagnostics\n",
    "    for i in range(len(setTS_Stend)-1, -1, -1):\n",
    "        filename = dirrun + f\"diags/LAYERS_Cwet/layers_TSjoint_Stend_set1_{LwetC2d}.{t}.data\"\n",
    "        tmp = read_float32_skip(filename, LwetC2d*(nS-1)*(nT-1),i)\n",
    "        tmp = np.reshape(tmp,(nT-1,nS-1,LwetC2d))\n",
    "        print(tmp.shape)\n",
    "    \n",
    "        small = rac2d * hf2d\n",
    "        tmp = tmp * np.tile(small[np.newaxis,np.newaxis,:], (nT - 1, nS - 1,1)) * ffac\n",
    "    \n",
    "        if i == len(setTS_Stend)-1:\n",
    "            # LSto_TS - total tendency\n",
    "            residS = tmp\n",
    "        elif i in {0,1,2,3,4}:\n",
    "            # LaSs_TS LaSh_TS LaSz_TS LSha_TS LSza_TS LSBh_TS\n",
    "            # surface, hdiff, vdiff, hADV, vADV, hADV bolus\n",
    "            residS -= tmp\n",
    "    \n",
    "        # use stri_wet, strb is names of basins\n",
    "        tmp1 = np.nansum(tmp[:,:,iwet_BarentsS2D],axis=2)   # should be of shape nS-1, nT-1\n",
    "        # TEST\n",
    "        # tmp1 = tmp1.T\n",
    "        thisbinwidthT1 = np.tile(binwidthT1[:,np.newaxis],(1, nS - 1))\n",
    "        tmp2 = np.nansum(tmp1 * thisbinwidthT1, axis=1)                 # second dim is T because this is S tend\n",
    "        Jx[nbasin][t][setTS_Stend[i]] = tmp1\n",
    "        Jx[nbasin][t]['G_S'][setTS_Stend[i]] = tmp2\n",
    "        del tmp\n",
    "        del tmp1\n",
    "        del tmp2\n",
    "\n",
    "    tmp1 = np.nansum(residS[:,:,iwet_BarentsS2D],axis=2)    # sum over geo space\n",
    "    mytileT1 = np.tile(binwidthT1[np.newaxis,:],(nS-1,1))  # nS-1 x nT-1\n",
    "    tmp2 = np.nansum(tmp1 * mytileT1, axis=0)     # sum over T ( dimension 0)\n",
    "    Jx[nbasin][t][\"residS\"] = tmp1    # should be of shape nS-1, nT-1\n",
    "    Jx[nbasin][t][\"G_S\"][\"residS\"] = tmp2 #should be of shape nT-1\n",
    "\n",
    "# set units and labels\n",
    "Jx[\"descr\"] = \"m/s/degC\"\n",
    "\n",
    "# Define your filename\n",
    "filename = \"Jx_data_full.npz\"\n",
    "matpath = \"/scratch2/mmurakami/aste_270x450x180/\"\n",
    "matpath += \"run_c68v_layers_lessmem1_adxOFF_Jan2016_capxxN50_it0062_pk0000262944_bro/\"\n",
    "\n",
    "# Save the dictionary\n",
    "np.savez(matpath + filename, **Jx)"
   ]
  },
  {
   "cell_type": "code",
   "execution_count": null,
   "id": "9a2b2947-3461-43fc-852c-b61d4ae13bf4",
   "metadata": {},
   "outputs": [],
   "source": [
    "# Define your filename\n",
    "filename = \"Jx_data_full.npz\"\n",
    "matpath = \"/scratch2/mmurakami/aste_270x450x180/\"\n",
    "matpath += \"run_c68v_layers_lessmem1_adxOFF_Jan2016_capxxN50_it0062_pk0000262944_bro/\"\n",
    "\n",
    "# Load the .npz file\n",
    "loaded_data = np.load(matpath + filename, allow_pickle=True)\n",
    "\n",
    "# Convert it back to a dictionary\n",
    "Jx_loaded = {key: loaded_data[key].item() if loaded_data[key].ndim == 0 else loaded_data[key] for key in loaded_data}\n",
    "Jx_loaded[nbasin].keys()"
   ]
  },
  {
   "cell_type": "markdown",
   "id": "566bcf7d-afee-48c8-ab71-567d672c574f",
   "metadata": {},
   "source": [
    "# load Jy from previous and plot in 2D to see if we did it"
   ]
  },
  {
   "cell_type": "code",
   "execution_count": null,
   "id": "7527db11-9d40-4cc3-a2b0-c76fef393822",
   "metadata": {},
   "outputs": [],
   "source": [
    "# load the old Jy terms for one month to plot as a comparison\n",
    "# Load the .npz file\n",
    "filename = \"Jy_data_full.npz\"\n",
    "\n",
    "matpath = \"/scratch2/mmurakami/aste_270x450x180/\"\n",
    "matpath += \"run_c68v_layers_lessmem1_adxOFF_Jan2016_capxxN50_it0062_pk0000262944_bro/\"\n",
    "\n",
    "loaded_data = np.load(matpath + filename, allow_pickle=True)\n",
    "\n",
    "# Convert it back to a dictionary\n",
    "Jy_loaded = {key: loaded_data[key].item() if loaded_data[key].ndim == 0 else loaded_data[key] for key in loaded_data}\n",
    "# Jy_loaded\n",
    "\n",
    "# Define your filename\n",
    "filename = \"Jx_data_full.npz\"\n",
    "matpath = \"/scratch2/mmurakami/aste_270x450x180/\"\n",
    "matpath += \"run_c68v_layers_lessmem1_adxOFF_Jan2016_capxxN50_it0062_pk0000262944_bro/\"\n",
    "\n",
    "# Load the .npz file\n",
    "loaded_data = np.load(matpath + filename, allow_pickle=True)\n",
    "\n",
    "# Convert it back to a dictionary\n",
    "Jx_loaded = {key: loaded_data[key].item() if loaded_data[key].ndim == 0 else loaded_data[key] for key in loaded_data}\n",
    "# Jx_loaded"
   ]
  },
  {
   "cell_type": "code",
   "execution_count": null,
   "id": "5f7decd9-9358-44e7-ac9d-57b1d02e1cc0",
   "metadata": {},
   "outputs": [],
   "source": [
    "Jy_loaded['BarentsS'].keys()"
   ]
  },
  {
   "cell_type": "code",
   "execution_count": null,
   "id": "ac485d0e-9acc-47f3-9a10-db4b8dab5bf6",
   "metadata": {},
   "outputs": [],
   "source": [
    "fig = plt.figure(figsize = (10,10))\n",
    "mytime = '0000275904'\n",
    "\n",
    "\n",
    "# first subplot - total tendency\n",
    "ax = plt.subplot(231)\n",
    "ax.pcolormesh(Sbin,Tbin,np.log10(vol_distrib[mytime]).T)\n",
    "# set the quivers\n",
    "U1,V1 = Jx_loaded[nbasin][mytime]['LSto_TS'].T, Jy_loaded[nbasin][mytime]['LTto_TS'].T\n",
    "U1[U1 == 0], V1[V1 == 0] = np.nan, np.nan\n",
    "q = ax.quiver(Sbin2, Tbin2, U1, V1, width=0.005, zorder=3, headwidth=5,scale=1e2)\n",
    "ax.set_xlim(32,36)\n",
    "ax.set_ylim(-3,12)\n",
    "ax.set_title(\"total tend\")\n",
    "\n",
    "# second subplot - adv tendency\n",
    "ax = plt.subplot(232)\n",
    "ax.pcolormesh(Sbin,Tbin,np.log10(vol_distrib[mytime]).T)\n",
    "# set the quivers\n",
    "U1,V1 = Jx_loaded[nbasin][mytime]['LaSz_TS'].T + Jx_loaded[nbasin][mytime]['LaSh_TS'].T, Jy_loaded[nbasin][mytime]['LaTz_TS'].T + Jy_loaded[nbasin][mytime]['LaTh_TS'].T\n",
    "U1[U1 == 0], V1[V1 == 0] = np.nan, np.nan\n",
    "q = ax.quiver(Sbin2, Tbin2, U1, V1, width=0.005, zorder=3, headwidth=5,scale=1e2)\n",
    "ax.set_xlim(32,36)\n",
    "ax.set_ylim(-3,12)\n",
    "ax.set_title(\"diff tend\")\n",
    "\n",
    "# third subplot - adv tendency\n",
    "ax = plt.subplot(233)\n",
    "ax.pcolormesh(Sbin,Tbin,np.log10(vol_distrib[mytime]).T)\n",
    "# set the quivers\n",
    "U2,V2 = Jx_loaded[nbasin][mytime]['LSza_TS'].T + Jx_loaded[nbasin][mytime]['LSha_TS'].T, Jy_loaded[nbasin][mytime]['LTza_TS'].T + Jy_loaded[nbasin][mytime]['LTha_TS'].T\n",
    "U2[U2 == 0], V2[V2 == 0] = np.nan, np.nan\n",
    "q = ax.quiver(Sbin2, Tbin2, U2, V2, width=0.005, zorder=3, headwidth=5,scale=1e2)\n",
    "ax.set_xlim(32,36)\n",
    "ax.set_ylim(-3,12)\n",
    "ax.set_title(\"adv tend\")\n",
    "\n",
    "# third subplot - adv tendency\n",
    "ax = plt.subplot(234)\n",
    "ax.pcolormesh(Sbin,Tbin,np.log10(vol_distrib[mytime]).T)\n",
    "# set the quivers\n",
    "U3,V3 = Jx_loaded[nbasin][mytime]['LaSs_TS'].T, Jy_loaded[nbasin][mytime]['LaTs_TS'].T\n",
    "U3[U3 == 0], V3[V3 == 0] = np.nan, np.nan\n",
    "q = ax.quiver(Sbin2, Tbin2, U3, V3, width=0.005, zorder=3, headwidth=5,scale=1e2)\n",
    "ax.set_xlim(32,36)\n",
    "ax.set_ylim(-3,12)\n",
    "ax.set_title(\"surf tend\")\n",
    "\n",
    "# third subplot - total\n",
    "ax = plt.subplot(235)\n",
    "ax.pcolormesh(Sbin,Tbin,np.log10(vol_distrib[mytime]).T)\n",
    "# set the quivers\n",
    "U4 = U1 + U2 + U3\n",
    "V4 = V1 + V2 + V3\n",
    "q = ax.quiver(Sbin2, Tbin2, U4, V4, width=0.005, zorder=3, headwidth=5,scale=1e2)\n",
    "ax.set_xlim(32,36)\n",
    "ax.set_ylim(-3,12)\n",
    "ax.set_title(\"total tend (calculated)\")\n",
    "\n",
    "# plt.savefig(imgpath + \"test_tendencies_\" + tsstr[0] + \".png\",dpi=300)"
   ]
  },
  {
   "cell_type": "markdown",
   "id": "da4e10e6-ef9b-4c54-9b56-ada23228f3fb",
   "metadata": {},
   "source": [
    "## Try to compare this to the gate transports for the same period to see if we did it"
   ]
  },
  {
   "cell_type": "code",
   "execution_count": null,
   "id": "9ddf43bc-cbb6-4fa5-8fa5-391e7ffa4bc1",
   "metadata": {},
   "outputs": [],
   "source": [
    "# we made the gates ealier but we need to set the directionality of these as in try_Mterm\n",
    "def line_orientation(x, y):\n",
    "    orientations = np.array([])\n",
    "\n",
    "    # Iterate through the list of points\n",
    "    for i in range(1, len(x)):\n",
    "        if x[i] == x[i - 1] and y[i] != y[i - 1]:\n",
    "            orientations = np.append(orientations,\"V\") # vertical line add zonal transp\n",
    "        elif y[i] == y[i - 1] and x[i] != x[i - 1]:\n",
    "            orientations = np.append(orientations,\"H\") # horizontal line add meridional transp\n",
    "        else:\n",
    "            orientations = np.append(orientations,\"V\")  # fill na should be for top of vertical line (ie U)\n",
    "\n",
    "    # the last one will be the same as the second to last orientation so we can keep consistent sizing\n",
    "    orientations = np.append(orientations,orientations[-1])\n",
    "\n",
    "    return orientations\n",
    "    \n",
    "choose_UV_bso = line_orientation(y_bso,x_bso)\n",
    "choose_UV_sfj = line_orientation(y_sfj,x_sfj)\n",
    "choose_UV_fjnz = line_orientation(y_fjnz,x_fjnz)\n",
    "choose_UV_nzru = line_orientation(y_nzru,x_nzru)\n",
    "\n",
    "choose_UV_bso3d = np.full((nz,ny,nx),'p')\n",
    "idx = 0\n",
    "for i,j in zip(y_bso,x_bso):\n",
    "    choose_UV_bso3d[:,i,j] = np.full(nz,choose_UV_bso[idx])\n",
    "    idx += 1\n",
    "\n",
    "choose_UV_sfj3d = np.full((nz,ny,nx),'p')\n",
    "idx = 0\n",
    "for i,j in zip(y_sfj,x_sfj):\n",
    "    choose_UV_sfj3d[:,i,j] = np.full(nz,choose_UV_sfj[idx])\n",
    "    idx += 1\n",
    "\n",
    "choose_UV_fjnz3d = np.full((nz,ny,nx),'p')\n",
    "idx = 0\n",
    "for i,j in zip(y_fjnz,x_fjnz):\n",
    "    choose_UV_fjnz3d[:,i,j] = np.full(nz,choose_UV_fjnz[idx])\n",
    "    idx += 1\n",
    "    \n",
    "choose_UV_nzru3d = np.full((nz,ny,nx),'p')\n",
    "idx = 0\n",
    "for i,j in zip(y_nzru,x_nzru):\n",
    "    choose_UV_nzru3d[:,i,j] = np.full(nz,choose_UV_nzru[idx])\n",
    "    idx += 1"
   ]
  },
  {
   "cell_type": "code",
   "execution_count": null,
   "id": "a206145a-8d0c-45e6-8fa7-6931145cffa8",
   "metadata": {},
   "outputs": [],
   "source": [
    "# ocean and ice\n",
    "AB_gT=0\n",
    "AB_gS=0\n",
    "dt_aste = 600\n",
    "startyr = 2002\n",
    "endyr = 2019              # for ASTE R1\n",
    "\n",
    "# all the filenames in the system\n",
    "fnames = get_fnames(dt_aste,startyr,endyr)\n",
    "allyears = np.arange(2003,2018,1)\n",
    "num_years = len(allyears)"
   ]
  },
  {
   "cell_type": "markdown",
   "id": "4300bd46-d9f6-4147-b361-9e8f737770d1",
   "metadata": {},
   "source": [
    "## Maybe we try and create the gate transports here from this run to see if we did it wrong"
   ]
  },
  {
   "cell_type": "code",
   "execution_count": null,
   "id": "73b42902-fe1a-4a35-a320-9243b3bcd7dc",
   "metadata": {},
   "outputs": [],
   "source": [
    "dirIn"
   ]
  },
  {
   "cell_type": "code",
   "execution_count": null,
   "id": "8ce3c7e4-5b88-4144-9401-0bfe7537e46f",
   "metadata": {},
   "outputs": [],
   "source": [
    "# not sure if I don't want to load from these?\n",
    "\n",
    "loaded_data = np.load(\"/scratch2/mmurakami/aste_270x450x180/ASTER1/timeseries_data_advheat_2025_09.npy\", allow_pickle=True).item()\n",
    "heat_transport_timeseries = loaded_data[\"heat_transport_timeseries\"]  # psu.m^3/s\n",
    "\n",
    "loaded_data = np.load(\"/scratch2/mmurakami/aste_270x450x180/ASTER1/timeseries_data_advslt_2025_09.npy\", allow_pickle=True).item()\n",
    "salt_transport_timeseries = loaded_data[\"salt_transport_timeseries\"]  # degC.m^3/s\n",
    "\n",
    "# To load later\n",
    "loaded_data = np.load(\"/scratch2/mmurakami/aste_270x450x180/ASTER1/timeseries_data.npy\", allow_pickle=True).item()\n",
    "\n",
    "# Access the saved dictionaries\n",
    "theta_timeseries = loaded_data[\"theta_timeseries\"]   # degC\n",
    "salt_timeseries = loaded_data[\"salt_timeseries\"]     # PSU\n",
    "binned_theta_timeseries = loaded_data[\"binned_theta_timeseries\"]  # binning index\n",
    "binned_salt_timeseries = loaded_data[\"binned_salt_timeseries\"]    # binning index"
   ]
  },
  {
   "cell_type": "code",
   "execution_count": null,
   "id": "cf67408f-f4ed-4108-9268-99ff582de9b5",
   "metadata": {},
   "outputs": [],
   "source": [
    "\n",
    "# To load later\n",
    "loaded_data = np.load(\"/scratch2/mmurakami/aste_270x450x180/ASTER1/timeseries_data_0914.npy\", allow_pickle=True).item()\n",
    "\n",
    "# Access the saved dictionaries\n",
    "heat_transport_timeseries = loaded_data[\"heat_transport_timeseries\"]\n",
    "salt_transport_timeseries = loaded_data[\"salt_transport_timeseries\"]\n",
    "theta_timeseries = loaded_data[\"theta_timeseries\"]\n",
    "salt_timeseries = loaded_data[\"salt_timeseries\"]\n",
    "binned_theta_timeseries = loaded_data[\"binned_theta_timeseries\"]\n",
    "binned_salt_timeseries = loaded_data[\"binned_salt_timeseries\"]"
   ]
  },
  {
   "cell_type": "code",
   "execution_count": null,
   "id": "5d264c59-3f49-4bc1-80c3-7e2c70332695",
   "metadata": {},
   "outputs": [],
   "source": [
    "# check with one of these if we need to redo these with head and salt full for this run?"
   ]
  },
  {
   "cell_type": "code",
   "execution_count": null,
   "id": "da9a7c79-d176-4f64-8144-545123ab1897",
   "metadata": {},
   "outputs": [],
   "source": [
    "# we have confirmed that this run is the same output as ASTE"
   ]
  },
  {
   "cell_type": "code",
   "execution_count": null,
   "id": "410e1d99-7244-4002-8a1c-f716f62ac83b",
   "metadata": {},
   "outputs": [],
   "source": [
    "# now to try and show that this gate convergence fits with previous solution\n",
    "def m_TS_from_prebinned(heat_tr, salt_tr, iT, iS, Tcent, Scent, binwidthT, binwidthS,\n",
    "                        T_min=1e-3, S_min=1e-4):\n",
    "    \"\"\"\n",
    "    Inputs:\n",
    "      heat_tr : (nz, nfaces)  degC·m^3/s  (T*Q)\n",
    "      salt_tr : (nz, nfaces)  psu·m^3/s   (S*Q)\n",
    "      iT, iS  : (nz, nfaces)  integer bin indices in [0..nT-1],[0..nS-1]\n",
    "      Tcent   : (nT,)         bin centers (degC)\n",
    "      Scent   : (nS,)         bin centers (psu)\n",
    "    Output:\n",
    "      m_TS    : (nS, nT)      Sv/(psu·°C)\n",
    "    \"\"\"\n",
    "    nT = len(Tcent); nS = len(Scent)\n",
    "    m_TS = np.zeros((nS-1, nT-1), dtype=float)\n",
    "\n",
    "    # Flatten\n",
    "    HT  = heat_tr.reshape(-1)              # degC·m^3/s\n",
    "    ST  = salt_tr.reshape(-1)              # psu·m^3/s\n",
    "    iTf = iT.reshape(-1).astype(int)\n",
    "    iSf = iS.reshape(-1).astype(int)\n",
    "\n",
    "    # Valid bins\n",
    "    valid = (iTf >= 0) & (iTf < nT) & (iSf >= 0) & (iSf < nS)\n",
    "    if not np.any(valid):\n",
    "        return m_TS\n",
    "\n",
    "    iTv = iTf[valid]; iSv = iSf[valid]\n",
    "    HTv = HT[valid];  STv = ST[valid]\n",
    "\n",
    "    # Get bin-center T,S for those indices\n",
    "    Tv = Tcent[iTv]; Sv = Scent[iSv]\n",
    "\n",
    "    # Recover Q (m^3/s). Prefer salt (often better conditioned), fallback to heat.\n",
    "    Qs = np.where(np.abs(Sv) > S_min, STv / Sv, np.nan)\n",
    "    Qt = np.where(np.abs(Tv) > T_min, HTv / Tv, np.nan)\n",
    "    Q  = np.where(np.isfinite(Qs), Qs, Qt)\n",
    "    Q  = np.where(np.isfinite(Q), Q, 0.0)   # m^3/s (+ into basin)\n",
    "\n",
    "    # Convert to Sv and normalize by ΔS·ΔT → Sv/(psu·°C)\n",
    "    dSv = binwidthS[iSv]; dTv = binwidthT[iTv]\n",
    "    contrib = (Q * 1e-6) / (dSv * dTv)\n",
    "\n",
    "    np.add.at(m_TS, (iSv, iTv), contrib)\n",
    "    return m_TS"
   ]
  },
  {
   "cell_type": "code",
   "execution_count": null,
   "id": "5ac48b2c-8e62-4bba-a519-84da845eba24",
   "metadata": {},
   "outputs": [],
   "source": [
    "# Bin metadata\n",
    "binsT_edges = binsTH_edges            # len = nT+1\n",
    "binsS_edges = binsSLT_edges           # len = nS+1\n",
    "binwidthT   = binsT_edges[1:] - binsT_edges[:-1]   # (nT,)\n",
    "binwidthS   = binsS_edges[1:] - binsS_edges[:-1]   # (nS,)\n",
    "Tcent       = 0.5 * (binsT_edges[1:] + binsT_edges[:-1])  # (nT,)\n",
    "Scent       = 0.5 * (binsS_edges[1:] + binsS_edges[:-1])  # (nS,)"
   ]
  },
  {
   "cell_type": "code",
   "execution_count": null,
   "id": "f93178ab-c7c2-4167-a1bc-48a6be5775d3",
   "metadata": {},
   "outputs": [],
   "source": [
    "# ta = theta_timeseries['BSO'][4][2]\n",
    "# sa = salt_timeseries['BSO'][4][2]\n",
    "\n",
    "# plt.scatter(sa,ta)\n",
    "# plt.xlim(33,36)"
   ]
  },
  {
   "cell_type": "code",
   "execution_count": null,
   "id": "96229231-f2d1-4ff2-8fb1-3ae7873a97ec",
   "metadata": {},
   "outputs": [],
   "source": [
    "heat_transport_timeseries['BSO'].shape"
   ]
  },
  {
   "cell_type": "code",
   "execution_count": null,
   "id": "7ead90a6-6715-431a-b7af-f3233002fc38",
   "metadata": {},
   "outputs": [],
   "source": [
    "np.nanmax(binned_theta_timeseries['BSO'][0][2])"
   ]
  },
  {
   "cell_type": "code",
   "execution_count": null,
   "id": "e85d5e71-f580-4a22-9736-62c2ff5ef476",
   "metadata": {},
   "outputs": [],
   "source": [
    "binsTH_edges.shape"
   ]
  },
  {
   "cell_type": "code",
   "execution_count": null,
   "id": "207e9552-c1a8-4202-8473-9fb14ffb4374",
   "metadata": {},
   "outputs": [],
   "source": [
    "year_idx  = 0    # example\n",
    "month_idx = 2    # example March 2007\n",
    "gates = [\"BSO\", \"SFJ\", \"FJNZ\", \"NZRU\"]\n",
    "\n",
    "m_by_gate = {}\n",
    "Jx_by_gate = {}\n",
    "Jy_by_gate = {}\n",
    "\n",
    "for g in gates:\n",
    "    # property transports (T*Q, S*Q) and *pre-binned indices* (ints)\n",
    "    HT = heat_transport_timeseries[g][year_idx, month_idx]           # (nz, nfaces)\n",
    "    ST = salt_transport_timeseries[g][year_idx, month_idx]           # (nz, nfaces)\n",
    "    iT = binned_theta_timeseries[g][year_idx, month_idx]             # (nz, nfaces) ints\n",
    "    iS = binned_salt_timeseries[g][year_idx, month_idx]              # (nz, nfaces) ints\n",
    "\n",
    "    m_gate = m_TS_from_prebinned(HT, ST, iT, iS, Tcent, Scent, binwidthT, binwidthS)\n",
    "    m_by_gate[g] = m_gate                                            # Sv/(psu·°C)\n",
    "\n",
    "    # Diagnostic J (Convention A): Jx = ∫ m dS, Jy = 0\n",
    "    Jx = np.cumsum(m_gate * binwidthS[1:, None], axis=0)              # Sv/°C\n",
    "    Jy = np.zeros_like(Jx)                                           # Sv/psu\n",
    "    Jx_by_gate[g], Jy_by_gate[g] = Jx, Jy\n",
    "\n",
    "# Total gate term for the budget:\n",
    "m_TS_total = sum(m_by_gate[g] for g in gates)                        # Sv/(psu·°C)"
   ]
  },
  {
   "cell_type": "code",
   "execution_count": null,
   "id": "974f755c-e3a7-4fb1-9387-bc35bf85e472",
   "metadata": {},
   "outputs": [],
   "source": [
    "def compute_gradient_manual(data_s, data_t, spacing_s, spacing_t):\n",
    "    # Gradient for salinity along axis 0\n",
    "    gradient_s = np.zeros_like(data_s)\n",
    "    gradient_s[1:-1] = (data_s[2:] - data_s[:-2]) / (spacing_s[2:] + spacing_s[:-2])\n",
    "    gradient_s[0] = (data_s[1] - data_s[0]) / spacing_s[1]  # forward difference at start\n",
    "    gradient_s[-1] = (data_s[-1] - data_s[-2]) / spacing_s[-1]  # backward difference at end\n",
    "\n",
    "    # Gradient for temperature along axis 1\n",
    "    gradient_t = np.zeros_like(data_t)\n",
    "    gradient_t[:, 1:-1] = (data_t[:, 2:] - data_t[:, :-2]) / (spacing_t[:, 2:] + spacing_t[:, :-2])\n",
    "    gradient_t[:, 0] = (data_t[:, 1] - data_t[:, 0]) / spacing_t[:, 1]  # forward difference at start\n",
    "    gradient_t[:, -1] = (data_t[:, -1] - data_t[:, -2]) / spacing_t[:, -1]  # backward difference at end\n",
    "\n",
    "    return gradient_s, gradient_t"
   ]
  },
  {
   "cell_type": "code",
   "execution_count": null,
   "id": "b260d72e-6dae-402c-b4ba-810d6d17c08e",
   "metadata": {},
   "outputs": [],
   "source": [
    "# choose the time\n",
    "mytime = '0000275904'\n",
    "a = binmidTp[:,0].reshape(111)\n",
    "a.shape\n",
    "b = binmidSp[:,0].reshape(111)\n",
    "b.shape\n",
    "\n",
    "binwidthTtile = np.tile(a[np.newaxis,:],(nS-1,1))\n",
    "binwidthStile = np.tile(b[:,np.newaxis],(1,nT-1))\n",
    "\n",
    "\n",
    "# compute the gradients based on the layers\n",
    "# overall tendency\n",
    "J_S_div, J_T_div = compute_gradient_manual(Jx_loaded[nbasin][mytime]['LSto_TS'].T, Jy_loaded[nbasin][mytime]['LTto_TS'].T, binwidthStile, binwidthTtile)\n",
    "div_J = J_S_div + J_T_div\n",
    "\n",
    "# advective tend (should be able to be ignored by the gates)\n",
    "J_S_div, J_T_div = compute_gradient_manual(Jx_loaded[nbasin][mytime]['LSza_TS'].T + Jx_loaded[nbasin][mytime]['LSha_TS'].T, Jy_loaded[nbasin][mytime]['LTza_TS'].T + Jy_loaded[nbasin][mytime]['LTha_TS'].T, binwidthStile, binwidthTtile)\n",
    "div_Ja = J_S_div + J_T_div\n",
    "\n",
    "# diffusive tend\n",
    "J_S_div, J_T_div = compute_gradient_manual(Jx_loaded[nbasin][mytime]['LaSz_TS'].T + Jx_loaded[nbasin][mytime]['LaSh_TS'].T, Jy_loaded[nbasin][mytime]['LaTz_TS'].T + Jy_loaded[nbasin][mytime]['LaTh_TS'].T, binwidthStile, binwidthTtile)\n",
    "div_Jd = J_S_div + J_T_div\n",
    "\n",
    "# surface tend\n",
    "J_S_div, J_T_div = compute_gradient_manual(Jx_loaded[nbasin][mytime]['LaSs_TS'].T, Jy_loaded[nbasin][mytime]['LaTs_TS'].T, binwidthStile, binwidthTtile)\n",
    "div_Jsurf = J_S_div + J_T_div\n"
   ]
  },
  {
   "cell_type": "code",
   "execution_count": null,
   "id": "bab357b5-7fa2-4e37-b0ad-2540ac8ce7bc",
   "metadata": {},
   "outputs": [],
   "source": [
    "fig = plt.figure(figsize=(7,7))\n",
    "\n",
    "ax = plt.subplot(221)\n",
    "cb = ax.pcolormesh(Sbin2,Tbin2,(-div_J),cmap=\"seismic\",vmin=-12,vmax=12)\n",
    "ax.set_xlim(33,35.5)\n",
    "ax.set_ylim(-2,9)\n",
    "\n",
    "ax = plt.subplot(222)\n",
    "cb = ax.pcolormesh(Sbin2,Tbin2,(-div_Jd),cmap=\"seismic\",vmin=-12,vmax=12)\n",
    "ax.set_xlim(33,35.5)\n",
    "ax.set_ylim(-2,9)\n",
    "\n",
    "ax = plt.subplot(223)\n",
    "cb = ax.pcolormesh(Sbin2,Tbin2,(-div_Jsurf),cmap=\"seismic\",vmin=-12,vmax=12)\n",
    "ax.set_xlim(33,35.5)\n",
    "ax.set_ylim(-2,9)\n",
    "\n",
    "ax = plt.subplot(224)\n",
    "cb = ax.pcolormesh(Sbin2,Tbin2,(-div_Ja),cmap=\"seismic\",vmin=-12,vmax=12)\n",
    "ax.set_xlim(33,35.5)\n",
    "ax.set_ylim(-2,9)"
   ]
  },
  {
   "cell_type": "code",
   "execution_count": null,
   "id": "ad8630a1-32cd-4969-83cd-0b00ab11a394",
   "metadata": {},
   "outputs": [],
   "source": [
    "fig = plt.figure()\n",
    "\n",
    "ax = plt.subplot(121)\n",
    "cb = ax.pcolormesh(Sbin2,Tbin2,(-div_J),cmap=\"seismic\",vmin=-12,vmax=12)\n",
    "ax.set_xlim(33,35.5)\n",
    "ax.set_ylim(-2,9)\n",
    "\n",
    "ax = plt.subplot(122)\n",
    "a = m_TS_total\n",
    "b = div_Ja - m_TS_total\n",
    "cb = ax.pcolormesh(Sbin2,Tbin2,(-(div_Jd + div_Jsurf + (a+b))),cmap=\"seismic\",vmin=-12,vmax=12)\n",
    "ax.set_xlim(33,35.5)\n",
    "ax.set_ylim(-2,9)"
   ]
  },
  {
   "cell_type": "code",
   "execution_count": null,
   "id": "4236d70a-0436-4f41-adf5-e12e541e0306",
   "metadata": {},
   "outputs": [],
   "source": [
    "print(np.nansum(div_Jd + div_Jsurf + div_Ja))"
   ]
  },
  {
   "cell_type": "code",
   "execution_count": null,
   "id": "5fd74f10-e04e-40b9-b85f-aca94b624c54",
   "metadata": {},
   "outputs": [],
   "source": [
    "print(np.nansum(div_J))"
   ]
  },
  {
   "cell_type": "code",
   "execution_count": null,
   "id": "a2c17a2a-49b6-4e97-8a9d-338fb769e7cc",
   "metadata": {},
   "outputs": [],
   "source": [
    "fig = plt.figure()\n",
    "\n",
    "ax = plt.subplot(131)\n",
    "a = div_J\n",
    "b = div_Ja\n",
    "cb = ax.pcolormesh(Sbin2,Tbin2,(-b),cmap=\"seismic\",vmin=-12,vmax=12)\n",
    "plt.colorbar(cb)\n",
    "ax.set_xlim(33,35.5)\n",
    "ax.set_ylim(-2,9)\n",
    "\n",
    "ax = plt.subplot(132)\n",
    "cb = ax.pcolormesh(Sbin2,Tbin2,(m_TS_total),cmap=\"seismic\",vmin=-12,vmax=12)\n",
    "plt.colorbar(cb)\n",
    "ax.set_xlim(33,35.5)\n",
    "ax.set_ylim(-2,9)\n",
    "\n",
    "ax = plt.subplot(133)\n",
    "cb = ax.pcolormesh(Sbin2,Tbin2,(-b - m_TS_total),cmap=\"seismic\",vmin=-12,vmax=12)\n",
    "plt.colorbar(cb)\n",
    "ax.set_xlim(33,35.5)\n",
    "ax.set_ylim(-2,9)"
   ]
  },
  {
   "cell_type": "code",
   "execution_count": null,
   "id": "d7156740-a738-417c-a7b4-b27f1b0ad7d3",
   "metadata": {},
   "outputs": [],
   "source": [
    "print(np.nansum(b))\n",
    "print(np.nansum(m_TS_total))"
   ]
  },
  {
   "cell_type": "code",
   "execution_count": null,
   "id": "2834afd5-9b70-4a39-be9b-7d30aabc5c01",
   "metadata": {},
   "outputs": [],
   "source": [
    "# plot like figure 12 in Pemberton\n",
    "\n",
    "fig = plt.figure(figsize=(4,4))\n",
    "\n",
    "ax = plt.subplot(111)\n",
    "cb = ax.pcolormesh(Sbin,Tbin,(m_TS_total),cmap=\"seismic\",vmin=-12,vmax=12)\n",
    "ax.set_xlim(33,35.5)\n",
    "ax.set_ylim(-2,9)\n",
    "U1,V1 = Jx_loaded[nbasin][\"0000275904\"]['LSto_TS'].T, Jy_loaded[nbasin][\"0000275904\"]['LTto_TS'].T\n",
    "U1[U1 == 0], V1[V1 == 0] = np.nan, np.nan\n",
    "q = ax.quiver(Sbin2, Tbin2, U1, V1, width=0.005, zorder=3, headwidth=5,scale=1e2)"
   ]
  },
  {
   "cell_type": "code",
   "execution_count": null,
   "id": "45cdc9e3-e854-48db-8b08-54fd8ef217e2",
   "metadata": {},
   "outputs": [],
   "source": [
    "# plot figure 16 for this month as in Pemberton\n",
    "fig = plt.figure(figsize = (7,7))\n",
    "\n",
    "# gateway transports\n",
    "ax = plt.subplot(221)\n",
    "cb = ax.pcolormesh(Sbin2,Tbin2,(m_TS_total),cmap=\"seismic\",vmin=-12,vmax=12)\n",
    "plt.colorbar(cb)\n",
    "ax.set_xlim(33,35.5)\n",
    "ax.set_ylim(-2,9)\n",
    "\n",
    "# total divergence (total tend)\n",
    "ax = plt.subplot(222)\n",
    "cb = ax.pcolormesh(Sbin2,Tbin2,(-div_J),cmap=\"seismic\",vmin=-12,vmax=12)\n",
    "ax.set_xlim(33,35.5)\n",
    "ax.set_ylim(-2,9)\n",
    "plt.colorbar(cb)\n",
    "\n",
    "# divergence due to surface processes\n",
    "ax = plt.subplot(223)\n",
    "cb = ax.pcolormesh(Sbin2,Tbin2,(-div_Jsurf),cmap=\"seismic\",vmin=-12,vmax=12)\n",
    "ax.set_xlim(33,35.5)\n",
    "ax.set_ylim(-2,9)\n",
    "plt.colorbar(cb)\n",
    "\n",
    "# divergence due to internal processes\n",
    "ax = plt.subplot(224)\n",
    "a = m_TS_total\n",
    "b = div_Ja - m_TS_total\n",
    "div_Jint = -(- div_Jd - div_Ja - m_TS_total)\n",
    "cb = ax.pcolormesh(Sbin2,Tbin2,(-div_Jint),cmap=\"seismic\",vmin=-12,vmax=12)\n",
    "ax.set_xlim(33,35.5)\n",
    "ax.set_ylim(-2,9)\n",
    "plt.colorbar(cb)"
   ]
  },
  {
   "cell_type": "code",
   "execution_count": null,
   "id": "57235750-1295-44af-8931-947864f73954",
   "metadata": {},
   "outputs": [],
   "source": [
    "fig = plt.figure(figsize = (7,3))\n",
    "\n",
    "ax = plt.subplot(121)\n",
    "cb = ax.pcolormesh(Sbin2,Tbin2,(-div_J),cmap=\"seismic\",vmin=-12,vmax=12)\n",
    "ax.set_xlim(33,35.5)\n",
    "ax.set_ylim(-2,9)\n",
    "plt.colorbar(cb)\n",
    "\n",
    "ax = plt.subplot(122)\n",
    "cb = ax.pcolormesh(Sbin2,Tbin2,(m_TS_total - div_Jsurf - div_Jint),cmap=\"seismic\",vmin=-12,vmax=12)\n",
    "ax.set_xlim(33,35.5)\n",
    "ax.set_ylim(-2,9)\n",
    "plt.colorbar(cb)"
   ]
  },
  {
   "cell_type": "markdown",
   "id": "16126593-9c2d-411a-8325-108d70af82ad",
   "metadata": {},
   "source": [
    "# now try to create these plots for each of the months we did"
   ]
  },
  {
   "cell_type": "code",
   "execution_count": null,
   "id": "a6c67b48-c0fa-435f-b3d9-29b107a74f1a",
   "metadata": {},
   "outputs": [],
   "source": [
    "# load the full Jy and Jx terms\n",
    "\n",
    "# Load the .npz file\n",
    "filename = \"Jy_data.npz\"\n",
    "filename = \"Jy_data_full.npz\"\n",
    "matpath = \"/scratch2/mmurakami/aste_270x450x180/\"\n",
    "matpath += \"run_c68v_layers_lessmem1_adxOFF_Jan2007_capxxN50_it0062_pk0000262944_bro/\"\n",
    "\n",
    "loaded_data = np.load(matpath + filename, allow_pickle=True)\n",
    "\n",
    "# Convert it back to a dictionary\n",
    "Jy_loaded = {key: loaded_data[key].item() if loaded_data[key].ndim == 0 else loaded_data[key] for key in loaded_data}\n",
    "# Jy_loaded"
   ]
  },
  {
   "cell_type": "code",
   "execution_count": null,
   "id": "15739e84-60ff-47ed-b5d9-0e38b38cc954",
   "metadata": {},
   "outputs": [],
   "source": [
    "# Define your filename\n",
    "filename = \"Jx_data_full.npz\"\n",
    "matpath = \"/scratch2/mmurakami/aste_270x450x180/\"\n",
    "matpath += \"run_c68v_layers_lessmem1_adxOFF_Jan2007_capxxN50_it0062_pk0000262944_bro/\"\n",
    "\n",
    "# Load the .npz file\n",
    "loaded_data = np.load(matpath + filename, allow_pickle=True)\n",
    "\n",
    "# Convert it back to a dictionary\n",
    "Jx_loaded = {key: loaded_data[key].item() if loaded_data[key].ndim == 0 else loaded_data[key] for key in loaded_data}\n",
    "Jx_loaded[nbasin].keys()"
   ]
  },
  {
   "cell_type": "code",
   "execution_count": null,
   "id": "dd77ee6e-9f7b-456c-b988-98b68f717725",
   "metadata": {},
   "outputs": [],
   "source": [
    "# Ensure imgpath exists\n",
    "\n",
    "os.makedirs(imgpath, exist_ok=True)\n",
    "alpha, beta = 1, 0.2\n",
    "ypos1, ypos2, xpos1, xpos2 = 0.81, 0.88, 0.35, 0.19\n",
    "arrow_length, step, t, U, scale = 0.25, 2, 0, 2, 2e1\n",
    "\n",
    "for time in range(len(tsstr)):  # Loop through 12 time steps\n",
    "    fig = plt.figure(figsize=(10, 10))\n",
    "    time_idx = tsstr[time]\n",
    "\n",
    "    # First subplot - total tendency\n",
    "    ax = plt.subplot(231)\n",
    "    cb = ax.pcolormesh(Sbin, Tbin, np.log10(vol_distrib[time_idx]).T)\n",
    "    plt.colorbar(cb, ax=ax, label=r'$\\log_{10}\\ (\\mathrm{m^3/^\\circ C/PSU})$')\n",
    "\n",
    "    U1, V1 = Jx_loaded[nbasin][time_idx]['LSto_TS'].T, Jy_loaded[nbasin][time_idx]['LTto_TS'].T\n",
    "    #U1[U1 == 0], V1[V1 == 0] = np.nan, np.nan\n",
    "    q = ax.quiver(Sbin2, Tbin2, U1*alpha, V1*beta, width=0.005, zorder=3, headwidth=5, scale=scale)\n",
    "    ax.set_xlim(32, 36)\n",
    "    ax.set_ylim(-3, 12)\n",
    "    ax.set_title(\"total tend\")\n",
    "    # add the quiver key and other density contours\n",
    "    ax.quiverkey(q, X=xpos1, Y=ypos1, U=U, label=f\"{U*alpha} Sv/degC\", labelpos='E')\n",
    "    ax.quiverkey(q, X=xpos2, Y=ypos2, U=U, label=f\"{U*beta} Sv/PSU\", angle=90, labelpos='N', coordinates='axes')\n",
    "    # Label each subplot (A, B, C, etc.)\n",
    "    ax.text(0.95, 0.95, chr(65 + i), transform=ax.transAxes, fontsize=16, fontweight='bold', \n",
    "            va='top', ha='right')\n",
    "    # Density contours\n",
    "    cs = ax.contour(si, ti, dens2, colors=\"grey\", zorder=1, alpha=0.5, levels=np.arange(16, 32, 1))\n",
    "    ax.clabel(cs, fontsize=10, inline=False, fmt=\"%.f\")\n",
    "\n",
    "    ############\n",
    "    # Second subplot - diff tendency\n",
    "    ax = plt.subplot(232)\n",
    "    cb = ax.pcolormesh(Sbin, Tbin, np.log10(vol_distrib[time_idx]).T)\n",
    "    plt.colorbar(cb, ax=ax, label=r'$\\log_{10}\\ (\\mathrm{m^3/^\\circ C/PSU})$')\n",
    "\n",
    "    U2, V2 = (\n",
    "        Jx_loaded[nbasin][time_idx]['LaSz_TS'].T + Jx_loaded[nbasin][time_idx]['LaSh_TS'].T,\n",
    "        Jy_loaded[nbasin][time_idx]['LaTz_TS'].T + Jy_loaded[nbasin][time_idx]['LaTh_TS'].T\n",
    "    )\n",
    "    U2[U2 == 0], V2[V2 == 0] = np.nan, np.nan\n",
    "    q = ax.quiver(Sbin2, Tbin2, U2*alpha, V2*beta, width=0.005, zorder=3, headwidth=5, scale=scale)\n",
    "    ax.set_xlim(32, 36)\n",
    "    ax.set_ylim(-3, 12)\n",
    "    ax.set_title(\"diff tend\")\n",
    "    # add the quiver key and other density contours\n",
    "    ax.quiverkey(q, X=xpos1, Y=ypos1, U=U, label=f\"{U*alpha} Sv/degC\", labelpos='E')\n",
    "    ax.quiverkey(q, X=xpos2, Y=ypos2, U=U, label=f\"{U*beta} Sv/PSU\", angle=90, labelpos='N', coordinates='axes')\n",
    "    # Label each subplot (A, B, C, etc.)\n",
    "    ax.text(0.95, 0.95, chr(65 + i), transform=ax.transAxes, fontsize=16, fontweight='bold', \n",
    "            va='top', ha='right')\n",
    "    # Density contours\n",
    "    cs = ax.contour(si, ti, dens2, colors=\"grey\", zorder=1, alpha=0.5, levels=np.arange(16, 32, 1))\n",
    "    ax.clabel(cs, fontsize=10, inline=False, fmt=\"%.f\")\n",
    "    \n",
    "    ############\n",
    "    # Third subplot - adv tendency\n",
    "    ax = plt.subplot(233)\n",
    "    cb = ax.pcolormesh(Sbin, Tbin, np.log10(vol_distrib[time_idx]).T)\n",
    "    plt.colorbar(cb, ax=ax, label=r'$\\log_{10}\\ (\\mathrm{m^3/^\\circ C/PSU})$')\n",
    "\n",
    "    U3, V3 = (\n",
    "        Jx_loaded[nbasin][time_idx]['LSza_TS'].T + Jx_loaded[nbasin][time_idx]['LSha_TS'].T,\n",
    "        Jy_loaded[nbasin][time_idx]['LTza_TS'].T + Jy_loaded[nbasin][time_idx]['LTha_TS'].T\n",
    "    )\n",
    "    U3[U3 == 0], V3[V3 == 0] = np.nan, np.nan\n",
    "    q = ax.quiver(Sbin2, Tbin2, U3*alpha, V3*beta, width=0.005, zorder=3, headwidth=5, scale=scale)\n",
    "    ax.set_xlim(32, 36)\n",
    "    ax.set_ylim(-3, 12)\n",
    "    ax.set_title(\"adv tend\")\n",
    "    # add the quiver key and other density contours\n",
    "    ax.quiverkey(q, X=xpos1, Y=ypos1, U=U, label=f\"{U*alpha} Sv/degC\", labelpos='E')\n",
    "    ax.quiverkey(q, X=xpos2, Y=ypos2, U=U, label=f\"{U*beta} Sv/PSU\", angle=90, labelpos='N', coordinates='axes')\n",
    "    # Label each subplot (A, B, C, etc.)\n",
    "    ax.text(0.95, 0.95, chr(65 + i), transform=ax.transAxes, fontsize=16, fontweight='bold', \n",
    "            va='top', ha='right')\n",
    "    # Density contours\n",
    "    cs = ax.contour(si, ti, dens2, colors=\"grey\", zorder=1, alpha=0.5, levels=np.arange(16, 32, 1))\n",
    "    ax.clabel(cs, fontsize=10, inline=False, fmt=\"%.f\")\n",
    "\n",
    "    ############\n",
    "    # Fourth subplot - surface tendency\n",
    "    ax = plt.subplot(234)\n",
    "    cb = ax.pcolormesh(Sbin, Tbin, np.log10(vol_distrib[time_idx]).T)\n",
    "    plt.colorbar(cb, ax=ax, label=r'$\\log_{10}\\ (\\mathrm{m^3/^\\circ C/PSU})$')\n",
    "\n",
    "    U4, V4 = (\n",
    "        Jx_loaded[nbasin][time_idx]['LaSs_TS'].T, Jy_loaded[nbasin][time_idx]['LaTs_TS'].T\n",
    "    )\n",
    "    #U4[U4 == 0], V4[V4 == 0] = np.nan, np.nan\n",
    "    q = ax.quiver(Sbin2, Tbin2, U4*alpha, V4*beta, width=0.005, zorder=3, headwidth=5, scale=scale)\n",
    "    ax.set_xlim(32, 36)\n",
    "    ax.set_ylim(-3, 12)\n",
    "    ax.set_title(\"surf tend\")\n",
    "    # add the quiver key and other density contours\n",
    "    ax.quiverkey(q, X=xpos1, Y=ypos1, U=U, label=f\"{U*alpha} Sv/degC\", labelpos='E')\n",
    "    ax.quiverkey(q, X=xpos2, Y=ypos2, U=U, label=f\"{U*beta} Sv/PSU\", angle=90, labelpos='N', coordinates='axes')\n",
    "    # Label each subplot (A, B, C, etc.)\n",
    "    ax.text(0.95, 0.95, chr(65 + i), transform=ax.transAxes, fontsize=16, fontweight='bold', \n",
    "            va='top', ha='right')\n",
    "    # Density contours\n",
    "    cs = ax.contour(si, ti, dens2, colors=\"grey\", zorder=1, alpha=0.5, levels=np.arange(16, 32, 1))\n",
    "    ax.clabel(cs, fontsize=10, inline=False, fmt=\"%.f\")\n",
    "\n",
    "    ############\n",
    "    # Fifth subplot - total (calculated)\n",
    "    ax = plt.subplot(235)\n",
    "    cb = ax.pcolormesh(Sbin, Tbin, np.log10(vol_distrib[time_idx]).T)\n",
    "    plt.colorbar(cb, ax=ax, label=r'$\\log_{10}\\ (\\mathrm{m^3/^\\circ C/PSU})$')\n",
    "\n",
    "    # replace nan with zero\n",
    "    #U_total, V_total = (U2 + U3 + U4), (V2 + V3 + V4)\n",
    "    U_total = (np.nan_to_num(U2) + np.nan_to_num(U3) + np.nan_to_num(U4))\n",
    "    V_total = (np.nan_to_num(V2) + np.nan_to_num(V3) + np.nan_to_num(V4))\n",
    "    U_total[U_total == 0],V_total[V_total == 0] = np.nan,np.nan\n",
    "\n",
    "    q = ax.quiver(Sbin2, Tbin2, U_total*alpha, V_total*beta, width=0.005, zorder=3, headwidth=5, scale=scale)\n",
    "    ax.set_xlim(32, 36)\n",
    "    ax.set_ylim(-3, 12)\n",
    "    ax.set_title(\"total tend (calculated)\")\n",
    "    # add the quiver key and other density contours\n",
    "    ax.quiverkey(q, X=xpos1, Y=ypos1, U=U, label=f\"{U*alpha} Sv/degC\", labelpos='E')\n",
    "    ax.quiverkey(q, X=xpos2, Y=ypos2, U=U, label=f\"{U*beta} Sv/PSU\", angle=90, labelpos='N', coordinates='axes')\n",
    "    # Label each subplot (A, B, C, etc.)\n",
    "    ax.text(0.95, 0.95, chr(65 + i), transform=ax.transAxes, fontsize=16, fontweight='bold', \n",
    "            va='top', ha='right')\n",
    "    # Density contours\n",
    "    cs = ax.contour(si, ti, dens2, colors=\"grey\", zorder=1, alpha=0.5, levels=np.arange(16, 32, 1))\n",
    "    ax.clabel(cs, fontsize=10, inline=False, fmt=\"%.f\")\n",
    "\n",
    "    plt.suptitle(nbasin + \" Tendencies for \" + (datetimes[time] - relativedelta(months=1)).strftime(\"%B %Y\"))\n",
    "\n",
    "    # Save figure\n",
    "    plt.savefig(os.path.join(imgpath, f\"test_tendencies_{tsstr[time]}.png\"), dpi=300)\n",
    "    plt.close(fig)  # Close the figure to free up memory"
   ]
  },
  {
   "cell_type": "markdown",
   "id": "2f41d36c-d3ff-473e-af23-1b0cbfcf6731",
   "metadata": {},
   "source": [
    "# plotting the same convergences to see if these work"
   ]
  },
  {
   "cell_type": "code",
   "execution_count": null,
   "id": "7fd441d0-080c-4f65-89c5-84061f86eaf6",
   "metadata": {},
   "outputs": [],
   "source": [
    "# create the scaling factor for getting to Sv instead of Sv/degC or Sv/PSU\n",
    "Tscale = np.flipud(np.tile(binwidthT[:,np.newaxis],(1,nT)))\n",
    "Sscale = np.tile(binwidthS[np.newaxis,:],(nS,1))\n",
    "Tscale = Tscale[:-1,:-1]\n",
    "Sscale = Sscale[1:,:-1]"
   ]
  },
  {
   "cell_type": "code",
   "execution_count": null,
   "id": "4e01ddba-7791-472f-928f-b96b1b775b65",
   "metadata": {},
   "outputs": [],
   "source": [
    "# Ensure imgpath exists\n",
    "os.makedirs(imgpath, exist_ok=True)\n",
    "cvmin = -3\n",
    "cvmax = 3\n",
    "\n",
    "for time in range(len(tsstr)):  # Loop through 12 time steps\n",
    "    fig = plt.figure(figsize=(10, 10))\n",
    "    time_idx = tsstr[time]\n",
    "\n",
    "    # First subplot - total tendency\n",
    "    ax = plt.subplot(221)\n",
    "    U1, V1 = Jx_loaded[nbasin][time_idx]['LSto_TS'].T, Jy_loaded[nbasin][time_idx]['LTto_TS'].T\n",
    "    # Fill NaNs with 0\n",
    "    U1 = np.nan_to_num(U1, nan=0.0)\n",
    "    V1 = np.nan_to_num(V1, nan=0.0)\n",
    "    divergence = np.gradient(U1*Tscale, axis=0) + np.gradient(V1*Sscale, axis=1)\n",
    "    cb = ax.pcolormesh(Sbin2, Tbin2, -divergence,cmap='seismic',vmin=cvmin,vmax=cvmax)\n",
    "    plt.colorbar(cb, ax=ax, label=\"Sv +: accumulation\",extend=\"both\")\n",
    "    ax.set_xlim(32, 36)\n",
    "    ax.set_ylim(-2.8, 12)\n",
    "    ax.set_title(\"total tend\")\n",
    "    cs = ax.contour(si, ti, dens2, colors=\"grey\", zorder=1, alpha=0.5, levels=np.arange(16, 32, 1))\n",
    "    ax.clabel(cs, fontsize=10, inline=False, fmt=\"%.f\")\n",
    "\n",
    "    ############\n",
    "    # Second subplot - diff tendency\n",
    "    ax = plt.subplot(222)\n",
    "    ax.pcolormesh(Sbin, Tbin, np.log10(vol_distrib[time_idx]).T)\n",
    "    U2, V2 = (\n",
    "        Jx_loaded[nbasin][time_idx]['LaSz_TS'].T + Jx_loaded[nbasin][time_idx]['LaSh_TS'].T,\n",
    "        Jy_loaded[nbasin][time_idx]['LaTz_TS'].T + Jy_loaded[nbasin][time_idx]['LaTh_TS'].T\n",
    "    )\n",
    "    divergence = np.gradient(U2*Tscale, axis=0) + np.gradient(V2*Sscale, axis=1)\n",
    "    cb = ax.pcolormesh(Sbin2, Tbin2, -divergence,cmap='seismic',vmin=cvmin,vmax=cvmax)\n",
    "    plt.colorbar(cb, ax=ax, label=\"Sv +: accumulation\",extend=\"both\")\n",
    "    ax.set_xlim(32, 36)\n",
    "    ax.set_ylim(-2.8, 12)\n",
    "    ax.set_title(\"diff tend\")\n",
    "    # Density contours\n",
    "    cs = ax.contour(si, ti, dens2, colors=\"grey\", zorder=1, alpha=0.5, levels=np.arange(16, 32, 1))\n",
    "    ax.clabel(cs, fontsize=10, inline=False, fmt=\"%.f\")\n",
    "    \n",
    "    ############\n",
    "    # Third subplot - adv tendency\n",
    "    ax = plt.subplot(223)\n",
    "    ax.pcolormesh(Sbin, Tbin, np.log10(vol_distrib[time_idx]).T)\n",
    "    U3, V3 = (\n",
    "        Jx_loaded[nbasin][time_idx]['LSza_TS'].T + Jx_loaded[nbasin][time_idx]['LSha_TS'].T,\n",
    "        Jy_loaded[nbasin][time_idx]['LTza_TS'].T + Jy_loaded[nbasin][time_idx]['LTha_TS'].T\n",
    "    )\n",
    "    divergence = np.gradient(U3*Tscale, axis=0) + np.gradient(V3*Sscale, axis=1)\n",
    "    cb = ax.pcolormesh(Sbin2, Tbin2, -divergence,cmap='seismic',vmin=cvmin,vmax=cvmax)\n",
    "    plt.colorbar(cb, ax=ax, label=\"Sv +: accumulation\",extend=\"both\")\n",
    "    ax.set_xlim(32, 36)\n",
    "    ax.set_ylim(-2.8, 12)\n",
    "    ax.set_title(\"adv tend\")\n",
    "    # Density contours\n",
    "    cs = ax.contour(si, ti, dens2, colors=\"grey\", zorder=1, alpha=0.5, levels=np.arange(16, 32, 1))\n",
    "    ax.clabel(cs, fontsize=10, inline=False, fmt=\"%.f\")\n",
    "\n",
    "    ############\n",
    "    # Fourth subplot - surface tendency\n",
    "    ax = plt.subplot(224)\n",
    "    U4, V4 = (\n",
    "        Jx_loaded[nbasin][time_idx]['LaSs_TS'].T, Jy_loaded[nbasin][time_idx]['LaTs_TS'].T\n",
    "    )\n",
    "    divergence = np.gradient(U4*Tscale, axis=0) + np.gradient(V4*Sscale, axis=1)\n",
    "    cb = ax.pcolormesh(Sbin2, Tbin2, -divergence,cmap='seismic',vmin=cvmin,vmax=cvmax)\n",
    "    plt.colorbar(cb, ax=ax, label=\"Sv +: accumulation\",extend=\"both\")\n",
    "    ax.set_xlim(32, 36)\n",
    "    ax.set_ylim(-2.8, 12)\n",
    "    ax.set_title(\"surf tend\")\n",
    "    cs = ax.contour(si, ti, dens2, colors=\"grey\", zorder=1, alpha=0.5, levels=np.arange(16, 32, 1))\n",
    "    ax.clabel(cs, fontsize=10, inline=False, fmt=\"%.f\")\n",
    "\n",
    "    plt.suptitle(nbasin + \" Tendencies for \" + (datetimes[time] - relativedelta(months=1)).strftime(\"%B %Y\"))\n",
    "\n",
    "    # Save figure\n",
    "    plt.savefig(os.path.join(imgpath, f\"test_convergence_{tsstr[time]}.png\"), dpi=300)\n",
    "    plt.close(fig)  # Close the figure to free up memory"
   ]
  },
  {
   "cell_type": "code",
   "execution_count": null,
   "id": "74fe1e66-e0e1-4f9f-adc0-b2a21d2963f7",
   "metadata": {},
   "outputs": [],
   "source": []
  }
 ],
 "metadata": {
  "kernelspec": {
   "display_name": "py38",
   "language": "python",
   "name": "py38"
  },
  "language_info": {
   "codemirror_mode": {
    "name": "ipython",
    "version": 3
   },
   "file_extension": ".py",
   "mimetype": "text/x-python",
   "name": "python",
   "nbconvert_exporter": "python",
   "pygments_lexer": "ipython3",
   "version": "3.8.18"
  }
 },
 "nbformat": 4,
 "nbformat_minor": 5
}
