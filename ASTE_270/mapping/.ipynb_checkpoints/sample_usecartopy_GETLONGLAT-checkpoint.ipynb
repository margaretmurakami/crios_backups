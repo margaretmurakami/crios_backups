{
 "cells": [
  {
   "cell_type": "markdown",
   "id": "fac5bda5-8055-4171-9c1a-1360e01a3419",
   "metadata": {},
   "source": [
    "# import packages and functions"
   ]
  },
  {
   "cell_type": "code",
   "execution_count": 1,
   "id": "20d80be1-edf9-4c9e-aae9-aeb1b81066c0",
   "metadata": {},
   "outputs": [],
   "source": [
    "import numpy as np\n",
    "import sys\n",
    "import matplotlib.pyplot as plt\n",
    "import xarray as xr\n",
    "import h5py\n",
    "import xmitgcm\n",
    "import pandas as pd\n",
    "# from scipy.io import loadmat\n",
    "# import matplotlib as mpl\n",
    "# import time\n",
    "import gsw\n",
    "from xmitgcm import llcreader\n",
    "import cartopy.crs as ccrs\n",
    "import cartopy.feature as cfeature\n",
    "\n",
    "\n",
    "# import existing python files\n",
    "plt.rcParams['figure.figsize'] = (10,4)\n",
    "\n",
    "# add rdmds reading functions to path\n",
    "sys.path.append(\"/home/mmurakami/MITgcm/MITgcm_c68r/MITgcm-checkpoint68r/utils/python/MITgcmutils/MITgcmutils/\") # go to parent dir\n",
    "from mds import *\n",
    "\n",
    "# add the other files\n",
    "sys.path.append(\"/home/mmurakami/crios_backups/an_helper_functions\")\n",
    "from read_binary import *\n",
    "from aste_helper_funcs import *\n",
    "from timing_functions import *           # ts2dte, get_fnames, etc."
   ]
  },
  {
   "cell_type": "code",
   "execution_count": 2,
   "id": "550ae48e-8594-4a23-9aa8-320a0028ae01",
   "metadata": {},
   "outputs": [],
   "source": [
    "import warnings\n",
    "warnings.filterwarnings('ignore')"
   ]
  },
  {
   "cell_type": "code",
   "execution_count": 3,
   "id": "6c0213f1-5521-42da-88ea-8afd744f0744",
   "metadata": {},
   "outputs": [
    {
     "name": "stdout",
     "output_type": "stream",
     "text": [
      "(50,) (50, 1350, 270)\n",
      "hf1 (1350, 270)\n",
      "(1, 1350, 270)\n",
      "LwetC2d 146614\n",
      "LwetC 4833023\n",
      "\n"
     ]
    }
   ],
   "source": [
    "%run /home/mmurakami/crios_backups/an_helper_functions/prep_grid.py"
   ]
  },
  {
   "cell_type": "markdown",
   "id": "d28ca95e-b41f-4ed4-9193-40c00604f2e0",
   "metadata": {},
   "source": [
    "# read the TS fields to get the average winter sea ice extent and polar front"
   ]
  },
  {
   "cell_type": "code",
   "execution_count": 4,
   "id": "abe62ce8-5e68-4d21-9e96-adf6fe829d88",
   "metadata": {},
   "outputs": [
    {
     "data": {
      "text/plain": [
       "2678400.0"
      ]
     },
     "execution_count": 4,
     "metadata": {},
     "output_type": "execute_result"
    }
   ],
   "source": [
    "# set the time files to read from\n",
    "dt_aste = 600\n",
    "startyr = 2002\n",
    "endyr = 2019\n",
    "\n",
    "# all the filenames in the system\n",
    "fnames = get_fnames(dt_aste,startyr,endyr)\n",
    "\n",
    "times = {}\n",
    "times[\"2007\"] = np.arange(1,13,1)\n",
    "# times[\"2011\"] = np.array([1])\n",
    "\n",
    "# the filenames we want for 2014\n",
    "tsstr,datetimes = get_tsteps(times,fnames,dt_aste,startyr,1,1)\n",
    "\n",
    "t2 = int(tsstr[1])    # this is the averages file that we want to read from when we do budgeting\n",
    "\n",
    "\n",
    "dt = datetimes[1]-datetimes[0]   # days\n",
    "dt = dt.total_seconds()\n",
    "dt"
   ]
  },
  {
   "cell_type": "code",
   "execution_count": null,
   "id": "f65cebde-9e72-4f5d-91b3-2b2a1c37e22b",
   "metadata": {},
   "outputs": [],
   "source": [
    "# do sea ice area, SST, SSS reading the files\n",
    "# read in the surface salt flux values\n",
    "THETA = np.zeros((len(tsstr),nz,ny,nx))\n",
    "SALT = np.zeros((len(tsstr),nz,ny,nx))\n",
    "\n",
    "for t in range(len(tsstr)):\n",
    "    print(t)\n",
    "    file_name = 'state_3d_set1'\n",
    "    meta_state_3d_set1 = parsemeta(dirState + file_name + \".\" + tsstr[0] + \".meta\")\n",
    "    fldlist = np.array(meta_state_3d_set1[\"fldList\"])\n",
    "    varnames = np.array([\"THETA\",\"SALT\"])\n",
    "    recs = np.array([])\n",
    "    t2 = int(tsstr[t])\n",
    "    for var in varnames:\n",
    "        irec = np.where(fldlist == var)\n",
    "        recs = np.append(recs, irec[0][0])\n",
    "    THETAi,its,meta = rdmds(os.path.join(dirState, file_name),t2,returnmeta=True,rec=recs[0])\n",
    "    SALTi,its,meta = rdmds(os.path.join(dirState, file_name),t2,returnmeta=True,rec=recs[1])\n",
    "    THETAi = THETAi.reshape(nz,ny,nx)\n",
    "    SALTi = SALTi.reshape(nz,ny,nx)\n",
    "\n",
    "    # set in the larger array\n",
    "    THETA[t] = THETAi\n",
    "    SALT[t] = SALTi\n",
    "\n",
    "# do the time averaging\n",
    "THETA = np.nanmean(THETA,axis=0) * hfC_modified\n",
    "SALT = np.nanmean(SALT,axis=0) * hfC_modified\n"
   ]
  },
  {
   "cell_type": "markdown",
   "id": "0a21a5f0-4fba-416f-80b5-4a20f8d50579",
   "metadata": {},
   "source": [
    "# do for all timesteps"
   ]
  },
  {
   "cell_type": "code",
   "execution_count": 5,
   "id": "bef5d8ff-424a-437e-ad58-c42902e30208",
   "metadata": {},
   "outputs": [],
   "source": [
    "# copy the files we need from the timeseries, make sure we know what we're looking at\n",
    "# get the timesteps for the year 2007\n",
    "# ocean and ice\n",
    "AB_gT=0\n",
    "AB_gS=0\n",
    "dt_aste = 600\n",
    "startyr = 2002\n",
    "endyr = 2019              # for ASTE R1\n",
    "\n",
    "# all the filenames in the system\n",
    "fnames = get_fnames(dt_aste,startyr,endyr)\n",
    "allyears = np.arange(2003,2018,1)"
   ]
  },
  {
   "cell_type": "code",
   "execution_count": 6,
   "id": "bd4789ac-cd26-4c8b-8da2-4c155e6ad6c0",
   "metadata": {},
   "outputs": [
    {
     "data": {
      "text/plain": [
       "(15,)"
      ]
     },
     "execution_count": 6,
     "metadata": {},
     "output_type": "execute_result"
    }
   ],
   "source": [
    "allyears.shape"
   ]
  },
  {
   "cell_type": "code",
   "execution_count": 7,
   "id": "5fcfc331-51cd-4735-86d4-c7239c90e3a0",
   "metadata": {},
   "outputs": [
    {
     "data": {
      "text/plain": [
       "<matplotlib.collections.QuadMesh at 0x15387d119a60>"
      ]
     },
     "execution_count": 7,
     "metadata": {},
     "output_type": "execute_result"
    },
    {
     "data": {
      "image/png": "[encoded data removed]",
      "text/plain": [
       "<Figure size 1000x400 with 1 Axes>"
      ]
     },
     "metadata": {},
     "output_type": "display_data"
    }
   ],
   "source": [
    "hfC = mygrid['hFacC']\n",
    "hfC0 = hfC[0]\n",
    "\n",
    "# Create a copy to modify\n",
    "hfC_modified = hfC.copy()\n",
    "hfC0_copy = np.full((ny, nx), np.nan)\n",
    "hfC0_copy[np.isnan(hfC0)] = 1\n",
    "\n",
    "# Modify only the copied version\n",
    "hfC_modified[0] = hfC0_copy\n",
    "\n",
    "# # Plot the modified version\n",
    "plt.pcolormesh(get_aste_tracer(hfC, nfx, nfy)[0])\n",
    "# plt.colorbar()\n",
    "# plt.show()\n",
    "# plt.pcolormesh(get_aste_tracer(mygrid['hFacC'],nfx,nfy)[0])"
   ]
  },
  {
   "cell_type": "code",
   "execution_count": 8,
   "id": "442f2138-c1b0-4186-b075-902190ca020b",
   "metadata": {},
   "outputs": [
    {
     "name": "stdout",
     "output_type": "stream",
     "text": [
      "2003\n",
      "2004\n",
      "2005\n",
      "2006\n",
      "2007\n",
      "2008\n",
      "2009\n",
      "2010\n",
      "2011\n",
      "2012\n",
      "2013\n",
      "2014\n",
      "2015\n",
      "2016\n",
      "2017\n"
     ]
    }
   ],
   "source": [
    "# do sea ice area, SST, SSS reading the files\n",
    "# read in the surface salt flux values\n",
    "THETAall = np.zeros((len(allyears),12,ny,nx))\n",
    "SALTall = np.zeros((len(allyears),12,ny,nx))\n",
    "i = 0\n",
    "for year in allyears:\n",
    "    print(year)\n",
    "\n",
    "    # get the datetime values\n",
    "    # years = list(np.arange(2003,2018,1))  # 15 year period\n",
    "    years = list(np.arange(year,year+1,1))\n",
    "    years = [str(i) for i in years]\n",
    "    years = np.array(years)\n",
    "    # write the datetimes for the later period\n",
    "    times = {}\n",
    "    \n",
    "    for year in years:\n",
    "        times[year] = np.arange(1,13,1)   # write all the months for this example 5-year period\n",
    "    \n",
    "    tsstr,datetimes = get_tsteps(times,fnames,dt_aste,startyr,1,1)\n",
    "\n",
    "    # get the theta/salt values\n",
    "    # we also want salt to do the FW content\n",
    "    # we want temperature and salt\n",
    "    THETA = np.full((len(tsstr),ny,nx),np.nan)\n",
    "    SALT = np.full((len(tsstr),ny,nx),np.nan)\n",
    "    \n",
    "    for t in range(len(tsstr)):\n",
    "        #print(t)\n",
    "        file_name = 'state_3d_set1'\n",
    "        meta_state_3d_set1 = parsemeta(dirState + file_name + \".\" + tsstr[0] + \".meta\")\n",
    "        fldlist = np.array(meta_state_3d_set1[\"fldList\"])\n",
    "        varnames = np.array([\"THETA\",\"SALT\"])\n",
    "        recs = np.array([])\n",
    "        t2 = int(tsstr[t])\n",
    "        for var in varnames:\n",
    "            irec = np.where(fldlist == var)\n",
    "            recs = np.append(recs, irec[0][0])\n",
    "        THETAi,its,meta = rdmds(os.path.join(dirState, file_name),t2,returnmeta=True,rec=recs[0])\n",
    "        SALTi,its,meta = rdmds(os.path.join(dirState, file_name),t2,returnmeta=True,rec=recs[1])\n",
    "        THETAi = THETAi.reshape(nz,ny,nx)\n",
    "        SALTi = SALTi.reshape(nz,ny,nx)\n",
    "    \n",
    "        # set in the larger array\n",
    "        THETA[t] = THETAi[0] * hfC[0]\n",
    "        SALT[t] = SALTi[0] * hfC[0]\n",
    "\n",
    "    # do the time averaging\n",
    "    THETAall[i] = THETA\n",
    "    SALTall[i] = SALT\n",
    "\n",
    "    i += 1"
   ]
  },
  {
   "cell_type": "code",
   "execution_count": 9,
   "id": "0550d5a1-269a-44d6-904f-a834792a8f56",
   "metadata": {},
   "outputs": [],
   "source": [
    "THETA = np.nanmean(THETAall,axis=(0,1))\n",
    "SALT = np.nanmean(SALTall,axis=(0,1))"
   ]
  },
  {
   "cell_type": "code",
   "execution_count": 11,
   "id": "6cead986-2a92-4a25-8755-48d4b7d1380c",
   "metadata": {},
   "outputs": [
    {
     "data": {
      "text/plain": [
       "Text(0.5, 0.98, 'Averaged Values from Jan 2017 to Dec 2017')"
      ]
     },
     "execution_count": 11,
     "metadata": {},
     "output_type": "execute_result"
    },
    {
     "data": {
      "image/png": "[encoded data removed]",
      "text/plain": [
       "<Figure size 800x400 with 4 Axes>"
      ]
     },
     "metadata": {},
     "output_type": "display_data"
    }
   ],
   "source": [
    "# plot these\n",
    "# plot these three\n",
    "\n",
    "fig = plt.figure(figsize = (8,4))\n",
    "\n",
    "# first subplot - salt\n",
    "ax = plt.subplot(121)\n",
    "cb = ax.pcolormesh(get_aste_tracer(SALT,nfx,nfy)[0],cmap=\"seismic\",vmin=33,vmax=36)\n",
    "cbar = plt.colorbar(cb)\n",
    "cbar.set_label(\"SALT (g/kg)\")\n",
    "ax.set_title(\"SSS\")\n",
    "ax.set_xlim(400,540)\n",
    "ax.set_ylim(400,600)\n",
    "\n",
    "# second subplot - temperature\n",
    "ax = plt.subplot(122)\n",
    "cb = ax.pcolormesh(get_aste_tracer(THETA,nfx,nfy)[0],cmap=\"seismic\",vmin=-3,vmax=3)\n",
    "cbar = plt.colorbar(cb)\n",
    "cbar.set_label(\"THETA (degC)\")\n",
    "ax.set_title(\"SST\")\n",
    "ax.set_xlim(400,540)\n",
    "ax.set_ylim(400,600)\n",
    "\n",
    "# set the title\n",
    "title = f\"Averaged Values from {datetimes[0].strftime('%b %Y')} to {datetimes[-1].strftime('%b %Y')}\"\n",
    "plt.suptitle(title)"
   ]
  },
  {
   "cell_type": "code",
   "execution_count": 12,
   "id": "69169685-e03c-4cd7-9d93-0c5e7715c6e4",
   "metadata": {},
   "outputs": [
    {
     "data": {
      "text/plain": [
       "(1350, 270)"
      ]
     },
     "execution_count": 12,
     "metadata": {},
     "output_type": "execute_result"
    }
   ],
   "source": [
    "THETA.shape"
   ]
  },
  {
   "cell_type": "code",
   "execution_count": 14,
   "id": "a236ae03-a370-4ab7-8919-a21356b1b610",
   "metadata": {},
   "outputs": [
    {
     "name": "stdout",
     "output_type": "stream",
     "text": [
      "[ 10.    20.    30.    40.    50.    60.    70.    80.01  90.04 100.15]\n"
     ]
    }
   ],
   "source": [
    "# calculate the horizontal T and S gradients\n",
    "# check which depths we need to be looking for\n",
    "print(np.cumsum(mygrid['DRF'])[:10])\n",
    "\n",
    "THETAmn = THETA #np.mean(THETA[:10],axis=0)\n",
    "SALTmn = SALT #np.mean(SALT[:10],axis=0)"
   ]
  },
  {
   "cell_type": "code",
   "execution_count": 16,
   "id": "2cbb8796-c6c6-42a3-a24a-ccfd279f9ebf",
   "metadata": {},
   "outputs": [
    {
     "data": {
      "text/plain": [
       "Text(0.5, 0.98, 'Averaged Values from Jan 2017 to Dec 2017')"
      ]
     },
     "execution_count": 16,
     "metadata": {},
     "output_type": "execute_result"
    },
    {
     "data": {
      "image/png": "[encoded data removed]",
      "text/plain": [
       "<Figure size 800x400 with 6 Axes>"
      ]
     },
     "metadata": {},
     "output_type": "display_data"
    }
   ],
   "source": [
    "# plot these\n",
    "# plot these three\n",
    "\n",
    "fig = plt.figure(figsize = (8,4))\n",
    "\n",
    "# first subplot - salt\n",
    "ax = plt.subplot(131)\n",
    "cb = ax.pcolormesh(get_aste_tracer(SALTmn,nfx,nfy)[0],cmap=\"seismic\",vmin=34.3,vmax=34.7)\n",
    "cbar = plt.colorbar(cb)\n",
    "cbar.set_label(\"SALT (g/kg)\")\n",
    "ax.set_title(\"SSS\")\n",
    "ax.set_xlim(400,540)\n",
    "ax.set_ylim(400,600)\n",
    "\n",
    "# second subplot - temperature\n",
    "ax = plt.subplot(132)\n",
    "cb = ax.pcolormesh(get_aste_tracer(THETAmn,nfx,nfy)[0],cmap=\"seismic\",vmin=2,vmax=4)\n",
    "cbar = plt.colorbar(cb)\n",
    "cbar.set_label(\"THETA (degC)\")\n",
    "ax.set_title(\"SST\")\n",
    "ax.set_xlim(400,540)\n",
    "ax.set_ylim(400,600)\n",
    "\n",
    "# second subplot - temperature\n",
    "ax = plt.subplot(133)\n",
    "data = gsw.rho(SALTmn,THETAmn,0)\n",
    "cb = ax.pcolormesh(get_aste_tracer(data-1000,nfx,nfy)[0],cmap=\"seismic\",vmin=27.3,vmax=27.4)\n",
    "cbar = plt.colorbar(cb)\n",
    "cbar.set_label(\"rho\")\n",
    "ax.set_title(\"Density\")\n",
    "ax.set_xlim(400,540)\n",
    "ax.set_ylim(400,600)\n",
    "\n",
    "# set the title\n",
    "title = f\"Averaged Values from {datetimes[0].strftime('%b %Y')} to {datetimes[-1].strftime('%b %Y')}\"\n",
    "plt.suptitle(title)"
   ]
  },
  {
   "cell_type": "code",
   "execution_count": 17,
   "id": "6b57c4e8-7253-404b-894e-c3af5406e36e",
   "metadata": {},
   "outputs": [
    {
     "data": {
      "text/plain": [
       "1027.35730494466"
      ]
     },
     "execution_count": 17,
     "metadata": {},
     "output_type": "execute_result"
    }
   ],
   "source": [
    "gsw.rho(34.5,3,0)"
   ]
  },
  {
   "cell_type": "code",
   "execution_count": 18,
   "id": "01821aee-8f84-40aa-8d0b-11ff4580e4b3",
   "metadata": {},
   "outputs": [],
   "source": [
    "from scipy.interpolate import UnivariateSpline"
   ]
  },
  {
   "cell_type": "code",
   "execution_count": 19,
   "id": "0995ef11-f503-4ffa-a3a6-ed0ab796bc94",
   "metadata": {},
   "outputs": [
    {
     "data": {
      "text/plain": [
       "(400.0, 600.0)"
      ]
     },
     "execution_count": 19,
     "metadata": {},
     "output_type": "execute_result"
    },
    {
     "data": {
      "image/png": "[encoded data removed]",
      "text/plain": [
       "<Figure size 800x600 with 1 Axes>"
      ]
     },
     "metadata": {},
     "output_type": "display_data"
    }
   ],
   "source": [
    "T_slice = get_aste_tracer(THETAmn,nfx,nfy)[0]\n",
    "S_slice = get_aste_tracer(SALTmn,nfx,nfy)[0]\n",
    "rho_slice = get_aste_tracer(gsw.rho(SALTmn,THETAmn,0),nfx,nfy)[0]\n",
    "\n",
    "dTdx, dTdy = np.gradient(get_aste_tracer(THETAmn,nfx,nfy)[0])\n",
    "dSdx, dSdy = np.gradient(get_aste_tracer(SALTmn,nfx,nfy)[0])\n",
    "grad_T = np.sqrt(dTdx**2 + dTdy**2)\n",
    "grad_S = np.sqrt(dSdx**2 + dSdy**2)\n",
    "\n",
    "# Create figure\n",
    "plt.figure(figsize=(8, 6))\n",
    "ax = plt.subplot(111)\n",
    "\n",
    "# Plot Temperature Contours (Highlighting 2-4°C)\n",
    "contour_T = plt.contour(T_slice, levels=[3], colors='blue', linewidths=2, linestyles='solid')\n",
    "\n",
    "# Plot Salinity Contours (~34.8 PSU)\n",
    "contour_S = plt.contour(S_slice, levels=[34.5], colors='red', linewidths=2, linestyles='dashed')\n",
    "\n",
    "contour_rho = plt.contour(rho_slice, levels=[27.35], colors='purple', linewidths=2, linestyles='dashed',zorder=10)\n",
    "\n",
    "ax.contourf(grad_T + grad_S, levels=20, cmap=\"magma\", alpha=0.6)  # Highlight transition zones\n",
    "\n",
    "\n",
    "def extract_contour_coords(contour):\n",
    "    \"\"\"Extract (x, y) coordinates from a Matplotlib contour line.\"\"\"\n",
    "    coords = []\n",
    "    for line in contour.collections[0].get_paths():\n",
    "        v = line.vertices\n",
    "        coords.extend(v)  # List of (x, y) points\n",
    "    return np.array(coords)\n",
    "\n",
    "# Get (x, y) points for each contour\n",
    "coords_T = extract_contour_coords(contour_T)\n",
    "coords_S = extract_contour_coords(contour_S)\n",
    "\n",
    "# Compute Average PF Line\n",
    "avg_PF = []\n",
    "for pt_T in coords_T:\n",
    "    distances = np.linalg.norm(coords_S - pt_T, axis=1)  # Compute distance to all S contour points\n",
    "    nearest_idx = np.argmin(distances)  # Find closest S contour point\n",
    "    avg_point = (pt_T + coords_S[nearest_idx]) / 2  # Compute midpoint\n",
    "    avg_PF.append(avg_point)\n",
    "\n",
    "avg_PF = np.array(avg_PF)  # Convert to array\n",
    "\n",
    "plt.plot(avg_PF[:, 0], avg_PF[:, 1], color='black', linestyle='dotted', linewidth=2, label=\"Polar Front (Average)\")\n",
    "\n",
    "\n",
    "# Labels & Legend\n",
    "# plt.clabel(contour_T, fmt=\"%.1f°C\", inline=True, fontsize=10)\n",
    "# plt.clabel(contour_S, fmt=\"%.1f PSU\", inline=True, fontsize=10)\n",
    "# plt.colorbar(label=\"Gradient Magnitude\")\n",
    "# plt.title(f\"Polar Front at {depth_target}m Depth\")\n",
    "plt.xlabel(\"Longitude\")\n",
    "plt.ylabel(\"Latitude\")\n",
    "ax.set_xlim(400,540)\n",
    "ax.set_ylim(400,600)"
   ]
  },
  {
   "cell_type": "code",
   "execution_count": 20,
   "id": "67edce67-ab3f-4224-8f22-445d038cc7e2",
   "metadata": {},
   "outputs": [
    {
     "data": {
      "text/plain": [
       "(844, 2)"
      ]
     },
     "execution_count": 20,
     "metadata": {},
     "output_type": "execute_result"
    }
   ],
   "source": [
    "allpts = np.zeros_like((avg_PF))\n",
    "allpts.shape"
   ]
  },
  {
   "cell_type": "code",
   "execution_count": 21,
   "id": "d213d79b-f983-45b5-983d-f33f524aad53",
   "metadata": {},
   "outputs": [],
   "source": [
    "lon = get_aste_tracer(mygrid['XC'],nfx,nfy)[0]\n",
    "lat = get_aste_tracer(mygrid['YC'],nfx,nfy)[0]\n",
    "\n",
    "allpts = np.zeros_like((avg_PF))\n",
    "i = 0\n",
    "for pt in avg_PF:\n",
    "    mylon = lon[int(pt[1]),int(pt[0])]\n",
    "    mylat = lat[int(pt[1]),int(pt[0])]\n",
    "    allpts[i,0] = mylon\n",
    "    allpts[i,1] = mylat\n",
    "    i += 1"
   ]
  },
  {
   "cell_type": "code",
   "execution_count": 22,
   "id": "9efa1c6f-20d3-48a0-a48d-15edc2092be0",
   "metadata": {},
   "outputs": [],
   "source": [
    "np.save(\"allpts_new_ss.npy\", allpts)\n"
   ]
  },
  {
   "cell_type": "markdown",
   "id": "f5289f86-17e2-4d56-a9f8-b7230b9aa338",
   "metadata": {},
   "source": [
    "# also get the average sea ice extent"
   ]
  },
  {
   "cell_type": "code",
   "execution_count": null,
   "id": "7c6e8542-6e15-4d8b-bfe2-cec4c3429466",
   "metadata": {},
   "outputs": [],
   "source": [
    "# only do for march"
   ]
  },
  {
   "cell_type": "code",
   "execution_count": null,
   "id": "a876fcaf-ad04-4dd6-9698-ae4890e2154f",
   "metadata": {},
   "outputs": [],
   "source": [
    "# do sea ice area, SST, SSS reading the files\n",
    "# read in the surface salt flux values\n",
    "SIarea = np.zeros((len(allyears),ny,nx))\n",
    "\n",
    "# just march\n",
    "for t in range(2,3):\n",
    "    file_name = 'budg2d_snap_set1'\n",
    "    meta_budg2d_snap_set1 = parsemeta(dirIn + file_name + \".\" + tsstr[0] + \".meta\")\n",
    "    fldlist = np.array(meta_budg2d_snap_set1[\"fldList\"])\n",
    "    varnames = np.array([\"SIarea\"])\n",
    "    recs = np.array([])\n",
    "    t2 = int(tsstr[t])\n",
    "    for var in varnames:\n",
    "        irec = np.where(fldlist == var)\n",
    "        recs = np.append(recs, irec[0][0])\n",
    "    SIareai,its,meta = rdmds(os.path.join(dirIn, file_name),t2,returnmeta=True,rec=recs[0])\n",
    "    SIareai = SIareai.reshape(ny,nx)\n",
    "\n",
    "    # set in the larger array\n",
    "    SIarea[t] = SIareai\n",
    "\n",
    "# do the time averaging\n",
    "SIarea = np.nanmean(SIarea,axis=0)"
   ]
  },
  {
   "cell_type": "markdown",
   "id": "01bcb8e7-3a5e-4353-a7c3-467264065eb4",
   "metadata": {},
   "source": [
    "# write this mask to a series of files"
   ]
  },
  {
   "cell_type": "code",
   "execution_count": null,
   "id": "3cb8965b-589c-474a-920c-8366570e38e6",
   "metadata": {},
   "outputs": [],
   "source": [
    "fldout_depth = get_aste_faces(mask1,nfx,nfy)\n",
    "\n",
    "fig = plt.figure(figsize=(11,7))\n",
    "\n",
    "ax = plt.subplot(231)\n",
    "ax.pcolormesh(np.zeros((270,270)))\n",
    "ax.set_title(\"0\")\n",
    "\n",
    "ax = plt.subplot(232)\n",
    "ax.pcolormesh(fldout_depth.f1[0][-270:])\n",
    "ax.set_title(\"1\")\n",
    "\n",
    "ax = plt.subplot(233)\n",
    "ax.pcolormesh(fldout_depth.f3[0])\n",
    "ax.set_title(\"3\")\n",
    "\n",
    "ax = plt.subplot(234)\n",
    "tmp = fldout_depth.f4[0]\n",
    "tmpf4 = np.zeros((270,270))\n",
    "tmpf4[:,:180] = tmp\n",
    "ax.pcolormesh(tmpf4)\n",
    "ax.set_title(\"4\")\n",
    "\n",
    "ax = plt.subplot(235)\n",
    "ax.pcolormesh(fldout_depth.f5[0][:,:270])\n",
    "ax.set_title(\"5\")\n",
    "\n",
    "ax = plt.subplot(236)\n",
    "ax.pcolormesh(np.zeros((270,270)))\n",
    "ax.set_title(\"6\")"
   ]
  },
  {
   "cell_type": "code",
   "execution_count": null,
   "id": "a3b3b77a-7321-4f4d-8405-4a49cace11bd",
   "metadata": {},
   "outputs": [],
   "source": [
    "# write these arrays as fldout\n",
    "# Extracting and formatting the required fields\n",
    "data_arrays = [\n",
    "    fldout_depth.f1[0][-270:],  # Tile 1 → Save as depth_0.npy\n",
    "    fldout_depth.f3[0],         # Tile 3 → Save as depth_1.npy\n",
    "    np.pad(fldout_depth.f4[0], ((0, 0), (0, 90)), mode='constant'),  # Tile 4 → Save as depth_2.npy\n",
    "    fldout_depth.f5[0][:, :270] # Tile 5 → Save as depth_3.npy\n",
    "]\n",
    "\n",
    "# File save path\n",
    "save_path = \"/home/mmurakami/crios_backups/ASTE_270/mapping/npz_files/\"\n",
    "\n",
    "# Save to .npy files with new indices\n",
    "for i in range(4):\n",
    "    np.save(f'{save_path}mask_{i}.npy', data_arrays[i])\n",
    "\n",
    "print(\"Files saved successfully.\")\n"
   ]
  },
  {
   "cell_type": "code",
   "execution_count": null,
   "id": "ee9ad690-5a7b-4012-b29d-752185c29f51",
   "metadata": {},
   "outputs": [],
   "source": []
  },
  {
   "cell_type": "code",
   "execution_count": null,
   "id": "a2075d24-85fb-4db2-9999-74880fdce8ad",
   "metadata": {},
   "outputs": [],
   "source": []
  },
  {
   "cell_type": "markdown",
   "id": "b8be367b-7bf4-4b38-9d89-748a95f8464f",
   "metadata": {},
   "source": [
    "# write our sample field - eg depth"
   ]
  },
  {
   "cell_type": "code",
   "execution_count": null,
   "id": "a5e472b8-71c9-4396-83dd-2305a017fe64",
   "metadata": {},
   "outputs": [],
   "source": [
    "depth = mygrid['Depth']\n",
    "plt.pcolormesh(get_aste_tracer(depth,nfx,nfy)[0])\n",
    "plt.colorbar()\n",
    "# plt.ylim(450,900)\n",
    "# plt.xlim(200,540)"
   ]
  },
  {
   "cell_type": "code",
   "execution_count": null,
   "id": "6d49ef65-6875-493d-9d11-2ee148342da8",
   "metadata": {},
   "outputs": [],
   "source": [
    "tmp = mygrid['hFacC'][0]\n",
    "tmp[np.isnan(tmp)] = 2\n",
    "tmp[tmp ==1 ] = np.nan\n",
    "\n",
    "plt.pcolormesh(get_aste_tracer(tmp,nfx,nfy)[0])"
   ]
  },
  {
   "cell_type": "code",
   "execution_count": null,
   "id": "18c52016-1d37-462e-a302-7b6e5abc020b",
   "metadata": {},
   "outputs": [],
   "source": [
    "fldout_depth = get_aste_faces(depth,nfx,nfy)\n",
    "fldout_hfacC = get_aste_faces(tmp,nfx,nfy)"
   ]
  },
  {
   "cell_type": "code",
   "execution_count": null,
   "id": "e80b24fa-f7d0-4d08-87d6-c6787fcfde42",
   "metadata": {},
   "outputs": [],
   "source": [
    "fig = plt.figure(figsize=(11,7))\n",
    "\n",
    "ax = plt.subplot(231)\n",
    "ax.pcolormesh(np.zeros((270,270)))\n",
    "ax.set_title(\"0\")\n",
    "\n",
    "ax = plt.subplot(232)\n",
    "ax.pcolormesh(fldout_depth.f1[0][-270:])\n",
    "ax.set_title(\"1\")\n",
    "\n",
    "ax = plt.subplot(233)\n",
    "ax.pcolormesh(fldout_depth.f3[0])\n",
    "ax.set_title(\"3\")\n",
    "\n",
    "ax = plt.subplot(234)\n",
    "tmp = fldout_depth.f4[0]\n",
    "tmpf4 = np.zeros((270,270))\n",
    "tmpf4[:,:180] = tmp\n",
    "ax.pcolormesh(tmpf4)\n",
    "ax.set_title(\"4\")\n",
    "\n",
    "ax = plt.subplot(235)\n",
    "ax.pcolormesh(fldout_depth.f5[0][:,:270])\n",
    "ax.set_title(\"5\")\n",
    "\n",
    "ax = plt.subplot(236)\n",
    "ax.pcolormesh(np.zeros((270,270)))\n",
    "ax.set_title(\"5\")"
   ]
  },
  {
   "cell_type": "code",
   "execution_count": null,
   "id": "ec2ff899-aa15-4d96-bb3e-f262a5c04baf",
   "metadata": {},
   "outputs": [],
   "source": [
    "\n",
    "data_arrays = [xda[0, 0, idx].values for idx in range(1, 5)]\n",
    "\n",
    "# del cds, xda\n",
    "\n",
    "\n",
    "# Save the lon, lat, and data arrays to .npy files\n",
    "for i in range(4):\n",
    "    #np.save(f'lon_array_{i}.npy', lon_arrays[i])\n",
    "    #np.save(f'lat_array_{i}.npy', lat_arrays[i])\n",
    "    np.save(f'/home/mmurakami/crios_backups/ASTE_270/BarentsS_paper/npy_arrays/depth_{i}.npy', data_arrays[i])\n",
    "\n",
    "# Optionally, you can delete the original arrays if no longer needed"
   ]
  },
  {
   "cell_type": "markdown",
   "id": "308b424b-f2ed-438d-adf3-8826c0de6061",
   "metadata": {},
   "source": [
    "# run the example"
   ]
  },
  {
   "cell_type": "code",
   "execution_count": null,
   "id": "4fb53e3b-d48a-48d2-902b-235d2d625f1e",
   "metadata": {},
   "outputs": [],
   "source": [
    "time = pd.date_range(\"2014-09-01\", periods=1)\n",
    "time"
   ]
  },
  {
   "cell_type": "code",
   "execution_count": null,
   "id": "5b8fea5e-35e2-4305-9728-958ef5804339",
   "metadata": {},
   "outputs": [],
   "source": [
    "# make some arrays based on the breakdown from above\n",
    "# def prepfaces_xarr(fldout,time):\n",
    "    # takes fldout from An's get_aste_faces\n",
    "    # returns an array of shape time, depth, face, 270, 270 as an xarray\n",
    "\n",
    "nz = fldout_depth.f3.shape[0]\n",
    "\n",
    "# get the arrays as faces\n",
    "f0 = np.zeros((fldout_depth.f3.shape[0],270,270))  # depth independent, will be of shape 1 if this is 2D\n",
    "f1 = fldout_depth.f1[:,-270:,:]\n",
    "f2 = fldout_depth.f3\n",
    "f4 = fldout_depth.f5[:,:,:270]\n",
    "f5 = np.zeros((fldout_depth.f3.shape[0],270,270))\n",
    "\n",
    "# fill f4 becuse this is of width 180\n",
    "tmp = fldout_depth.f4\n",
    "f3 = np.zeros((nz,270,270))\n",
    "f3[:,:,:180] = tmp\n",
    "\n",
    "# reformulate as an xarray\n",
    "\n",
    "# Define the dimensions and coordinates\n",
    "time = pd.date_range(\"2014-09-01\", periods=1)\n",
    "nz = fldout_depth.f3.shape[0]\n",
    "k = np.arange(nz)   # depth independent\n",
    "tile = np.arange(6)\n",
    "j = np.arange(270)\n",
    "i_g = np.arange(270)\n",
    "\n",
    "# Create the bigger array from the tiles\n",
    "data = np.zeros((1,nz, 6, 270, 270))\n",
    "data[:,:,0,:,:] = f0\n",
    "data[:,:,1,:,:] = f1\n",
    "data[:,:,2,:,:] = f2\n",
    "data[:,:,3,:,:] = f3\n",
    "data[:,:,4,:,:] = f4\n",
    "data[:,:,5,:,:] = f5\n",
    "\n",
    "# fill 0 with nan\n",
    "data[data ==0] = np.nan\n",
    "\n",
    "# Create the DataArray\n",
    "xda = xr.DataArray(\n",
    "    data=data,\n",
    "    dims=[\"time\",\"k\", \"tile\", \"j\", \"i_g\"],\n",
    "    coords={\n",
    "        \"time\" : time,\n",
    "        \"k\": k,\n",
    "        \"tile\": tile,\n",
    "        \"j\": j,\n",
    "        \"i_g\": i_g\n",
    "    },\n",
    "    attrs={\n",
    "        \"standard_name\": \"depth\",\n",
    "        \"long_name\": \"Ocean Depth\",\n",
    "        \"units\": \"m\"\n",
    "    }\n",
    ")\n",
    "\n",
    "# # Display the DataArray\n",
    "# xda"
   ]
  },
  {
   "cell_type": "code",
   "execution_count": null,
   "id": "576224d1-65c6-4c5d-8025-e21e907703b6",
   "metadata": {},
   "outputs": [],
   "source": [
    "# make some arrays based on the breakdown from above\n",
    "# def prepfaces_xarr(fldout,time):\n",
    "    # takes fldout from An's get_aste_faces\n",
    "    # returns an array of shape time, depth, face, 270, 270 as an xarray\n",
    "\n",
    "nz = fldout_hfacC.f3.shape[0]\n",
    "\n",
    "# get the arrays as faces\n",
    "f0 = np.zeros((fldout_hfacC.f3.shape[0],270,270))  # depth independent, will be of shape 1 if this is 2D\n",
    "f1 = fldout_hfacC.f1[:,-270:,:]\n",
    "f2 = fldout_hfacC.f3\n",
    "f4 = fldout_hfacC.f5[:,:,:270]\n",
    "f5 = np.zeros((fldout_hfacC.f3.shape[0],270,270))\n",
    "\n",
    "# fill f4 becuse this is of width 180\n",
    "tmp = fldout_hfacC.f4\n",
    "f3 = np.zeros((nz,270,270))\n",
    "f3[:,:,:180] = tmp\n",
    "\n",
    "# reformulate as an xarray\n",
    "\n",
    "# Define the dimensions and coordinates\n",
    "time = pd.date_range(\"2014-09-01\", periods=1)\n",
    "nz = fldout_hfacC.f3.shape[0]\n",
    "k = np.arange(nz)   # depth independent\n",
    "tile = np.arange(6)\n",
    "j = np.arange(270)\n",
    "i_g = np.arange(270)\n",
    "\n",
    "# Create the bigger array from the tiles\n",
    "data = np.zeros((1,nz, 6, 270, 270))\n",
    "data[:,:,0,:,:] = f0\n",
    "data[:,:,1,:,:] = f1\n",
    "data[:,:,2,:,:] = f2\n",
    "data[:,:,3,:,:] = f3\n",
    "data[:,:,4,:,:] = f4\n",
    "data[:,:,5,:,:] = f5\n",
    "\n",
    "# fill 0 with nan\n",
    "data[data ==0] = np.nan\n",
    "\n",
    "# Create the DataArray\n",
    "xda = xr.DataArray(\n",
    "    data=data,\n",
    "    dims=[\"time\",\"k\", \"tile\", \"j\", \"i_g\"],\n",
    "    coords={\n",
    "        \"time\" : time,\n",
    "        \"k\": k,\n",
    "        \"tile\": tile,\n",
    "        \"j\": j,\n",
    "        \"i_g\": i_g\n",
    "    },\n",
    "    attrs={\n",
    "        \"standard_name\": \"depth\",\n",
    "        \"long_name\": \"Ocean Depth\",\n",
    "        \"units\": \"m\"\n",
    "    }\n",
    ")\n",
    "\n",
    "# # Display the DataArray\n",
    "# xda"
   ]
  },
  {
   "cell_type": "code",
   "execution_count": null,
   "id": "0bfbb42e-78b9-4675-b66a-271ec76dfdd0",
   "metadata": {},
   "outputs": [],
   "source": [
    "# load a sample ASTE dataset -- maybe this will help us plot using the lat/long values\n",
    "aste = llcreader.CRIOSPortalASTE270Model()\n",
    "ds = aste.get_dataset()\n",
    "ds = ds.sel(time='2014-09')"
   ]
  },
  {
   "cell_type": "code",
   "execution_count": null,
   "id": "87d686d7-c9ac-4ba7-a3cb-be20f113bc2f",
   "metadata": {},
   "outputs": [],
   "source": [
    "ds = ds.rename({'face':'tile'})\n",
    "cds = ds.coords.to_dataset().reset_coords()\n",
    "ds = ds.reset_coords(drop=True)"
   ]
  },
  {
   "cell_type": "code",
   "execution_count": null,
   "id": "4939fe16-b8c8-4ad2-9f89-1cf5a046f1f0",
   "metadata": {},
   "outputs": [],
   "source": [
    "del aste, ds"
   ]
  },
  {
   "cell_type": "markdown",
   "id": "4683c21b-d88c-4262-a653-02f5261cd69d",
   "metadata": {},
   "source": [
    "# make a new array of shape ny,nx of the lat and lon values from the dataset -- maybe this works easier"
   ]
  },
  {
   "cell_type": "code",
   "execution_count": null,
   "id": "70d1b411-9d1b-4c7d-b331-fa46f9514731",
   "metadata": {},
   "outputs": [],
   "source": [
    "# # cds.data_vars['XC'][4].values.shape\n",
    "# # lon[:,nfy[0]+nfy[2]+nfx[3]:nfy[0]+nfy[2]+nfx[3]+nfx[4],:]\n",
    "# print(nfy[2])\n",
    "# print(nfy[0])\n",
    "# print(nx)\n",
    "# print(nfy[0]+nfy[2])\n",
    "# print(nfy[0]+nfy[2]+nfx[3])"
   ]
  },
  {
   "cell_type": "code",
   "execution_count": null,
   "id": "54586b1e-b1dc-4fcc-9dfa-13ae8c8af301",
   "metadata": {},
   "outputs": [],
   "source": [
    "# # for each idx in 6, put it in the data array\n",
    "# lon = np.zeros((ny,nx))\n",
    "\n",
    "# # from aste_faces2compact, copy syntax\n",
    "# lon[nfy[0]-270:nfy[0],:] = cds.data_vars['XC'][1].values                                            # face 1\n",
    "# lon[nfy[0]:nfy[0]+nfy[2],:] = cds.data_vars['XC'][2].values                                         # face 3\n",
    "# lon[nfy[0]+nfy[2]:nfy[0]+nfy[2]+270,:] = cds.data_vars['XC'][3].values                              # face 4\n",
    "# lon[nfy[0]+nfy[2]+nfx[3]:nfy[0]+nfy[2]+nfx[3]+270,:] = cds.data_vars['XC'][4].values                # face 5\n",
    "\n",
    "\n",
    "# # do the same for lat\n",
    "# lat = np.zeros((ny,nx))\n",
    "\n",
    "# # from aste_faces2compact, copy syntax\n",
    "# lat[nfy[0]-270:nfy[0],:] = cds.data_vars['YC'][1].values                                            # face 1\n",
    "# lat[nfy[0]:nfy[0]+nfy[2],:] = cds.data_vars['YC'][2].values                                         # face 3\n",
    "# lat[nfy[0]+nfy[2]:nfy[0]+nfy[2]+270,:] = cds.data_vars['YC'][3].values                              # face 4\n",
    "# lat[nfy[0]+nfy[2]+nfx[3]:nfy[0]+nfy[2]+nfx[3]+270,:] = cds.data_vars['YC'][4].values                # face 5"
   ]
  },
  {
   "cell_type": "code",
   "execution_count": null,
   "id": "5b6e38b0-76ba-4c4f-b8bc-14d33875a138",
   "metadata": {},
   "outputs": [],
   "source": [
    "# # now delete all variables that might be taking memory except lon,lat,depth\n",
    "# del cds,xda,ds,aste,"
   ]
  },
  {
   "cell_type": "code",
   "execution_count": null,
   "id": "c529ffa8-534d-488f-bd95-8286541f49ad",
   "metadata": {},
   "outputs": [],
   "source": [
    "# data = mygrid['Depth']\n",
    "\n",
    "# lon[np.isnan(lon)] = np.nanmin(lon)-1 # fill with near values so as not to make error\n",
    "# lat[np.isnan(lat)] = np.nanmin(lat)-1 # fill with near values so as not to make error\n",
    "\n",
    "# data[(data < 30) & (lon < -97)] = np.nan"
   ]
  },
  {
   "cell_type": "code",
   "execution_count": null,
   "id": "7779633e-67e4-48c2-89fc-1901aceaab1e",
   "metadata": {},
   "outputs": [],
   "source": [
    "# # do a sample\n",
    "# # subplot_kw = {\"projection\": ccrs.Orthographic(central_longitude=-45, central_latitude=50)}\n",
    "# subplot_kw = {\"projection\": ccrs.Orthographic(central_longitude=0, central_latitude=90)}\n",
    "\n",
    "# fig, ax = plt.subplots(nrows=1, ncols=1, subplot_kw=subplot_kw, figsize=(8, 8))\n",
    "# #ax.set_extent([-180, 180, 70, 90], crs=ccrs.PlateCarree())\n",
    "\n",
    "# C = ax.pcolormesh(\n",
    "#         lon,\n",
    "#         lat,\n",
    "#         data,  # first time step, 0 depth, tile\n",
    "#         transform=ccrs.PlateCarree(),  # Project using PlateCarree for longitude/latitude\n",
    "#         cmap='viridis',\n",
    "#     )\n",
    "\n",
    "# ax.set_global()\n",
    "# ax.set_title(\"ASTE Depth\")\n",
    "\n",
    "# # print(1)\n",
    "\n",
    "# # ax.coastlines()\n",
    "# # ax.add_feature(cfeature.LAND, zorder=2, facecolor=\"0.75\")  # Optional: Add land with specific color\n",
    "# # ax.add_feature(cfeature.LAND, zorder=2, facecolor=\"0.75\")  # Add land with a light grey color\n",
    "\n",
    "# # print(2)\n",
    "\n",
    "# # fig.colorbar(C, ax=ax, orientation='vertical', label=\"Depth (m)\")\n",
    "# # print(3)\n",
    "\n",
    "# # plt.savefig('output_plot2.png', dpi=300)  # Save the plot as a PNG file"
   ]
  },
  {
   "cell_type": "code",
   "execution_count": null,
   "id": "8687bd9e-a4db-4f02-8793-cc23984e2ef9",
   "metadata": {},
   "outputs": [],
   "source": []
  },
  {
   "cell_type": "code",
   "execution_count": null,
   "id": "5d9b7af0-913f-4c87-ad05-76d31314d885",
   "metadata": {},
   "outputs": [],
   "source": []
  },
  {
   "cell_type": "markdown",
   "id": "b9348083-1ed5-43e0-a974-120be25f4957",
   "metadata": {},
   "source": [
    "# previous attempts running into memory issues"
   ]
  },
  {
   "cell_type": "code",
   "execution_count": null,
   "id": "696651d0-ad31-4a77-a744-6abea31272fb",
   "metadata": {},
   "outputs": [],
   "source": [
    "# do a sample\n",
    "subplot_kw = {\"projection\": ccrs.Orthographic(central_longitude=0, central_latitude=90)}\n",
    "fig, axes = plt.subplots(nrows=2, ncols=2, subplot_kw=subplot_kw, figsize=(10, 10))\n",
    "\n",
    "for i,ax in enumerate(axes.flat):\n",
    "    \n",
    "    \n",
    "    \n",
    "    idx = i+1\n",
    "    \n",
    "    lon = cds.data_vars['XC'][idx].values\n",
    "    lat = cds.data_vars['YC'][idx].values\n",
    "    data = xda[0, 0, idx].values  # Select first time step and 0 depth for the tile\n",
    "    \n",
    "    data[np.isnan(lon)] = np.nan\n",
    "    data[np.isnan(lat)] = np.nan\n",
    "\n",
    "    lon[np.isnan(lon)] = np.nanmin(lon)-1 # fill with near values so as not to make error\n",
    "    lat[np.isnan(lat)] = np.nanmin(lat)-1 # fill with near values so as not to make error\n",
    "\n",
    "    if idx == 4:\n",
    "        data[(data < 30) & (lon < -97)] = np.nan\n",
    "    \n",
    "    C = ax.pcolormesh(\n",
    "            lon,\n",
    "            lat,\n",
    "            data,  # first time step, 0 depth, tile\n",
    "            transform=ccrs.PlateCarree(),  # Project using PlateCarree for longitude/latitude\n",
    "        )\n",
    "\n",
    "    ax.set_global()\n",
    "    \n",
    "    #ax.set_extent([-180, 180, 70, 90], crs=ccrs.PlateCarree())\n",
    "    ax.set_title(\"Tile \" + str(idx))\n",
    "\n",
    "# ax.coastlines()\n",
    "\n",
    "fig.colorbar(C, ax=axes.ravel().tolist(), orientation='vertical',label=\"Depth (m)\")"
   ]
  },
  {
   "cell_type": "code",
   "execution_count": null,
   "id": "21905f18-2e14-4e9b-8282-a63231a56cf3",
   "metadata": {},
   "outputs": [],
   "source": [
    "import matplotlib.pyplot as plt\n",
    "import cartopy.crs as ccrs\n",
    "import cartopy.feature as cfeature\n",
    "import numpy as np"
   ]
  },
  {
   "cell_type": "code",
   "execution_count": null,
   "id": "fcb81eec-6fc2-4330-b18f-d4838499ca03",
   "metadata": {},
   "outputs": [],
   "source": [
    "# do a sample\n",
    "# subplot_kw = {\"projection\": ccrs.Orthographic(central_longitude=-45, central_latitude=50)}\n",
    "subplot_kw = {\"projection\": ccrs.Orthographic(central_longitude=0, central_latitude=90)}\n",
    "\n",
    "fig, ax = plt.subplots(nrows=1, ncols=1, subplot_kw=subplot_kw, figsize=(8, 8))\n",
    "#ax.set_extent([-180, 180, 70, 90], crs=ccrs.PlateCarree())\n",
    "\n",
    "for i in range(4):\n",
    "    idx = i+1\n",
    "    \n",
    "    lon = cds.data_vars['XC'][idx].values\n",
    "    lat = cds.data_vars['YC'][idx].values\n",
    "    data = xda[0, 0, idx].values  # Select first time step and 0 depth for the tile\n",
    "    \n",
    "    \n",
    "    lon[np.isnan(lon)] = np.nanmin(lon)-1 # fill with near values so as not to make error\n",
    "    lat[np.isnan(lat)] = np.nanmin(lat)-1 # fill with near values so as not to make error\n",
    "    data[np.isnan(lon)] = np.nan\n",
    "    data[np.isnan(lat)] = np.nan    #print(latfill)\n",
    "    \n",
    "    C = ax.pcolormesh(\n",
    "            lon,\n",
    "            lat,\n",
    "            data,  # first time step, 0 depth, tile\n",
    "            transform=ccrs.PlateCarree(),  # Project using PlateCarree for longitude/latitude\n",
    "            cmap='viridis',\n",
    "        )\n",
    "    \n",
    "    ax.set_global()\n",
    "    ax.set_title(\"ASTE Depth\")\n",
    "\n",
    "# print(1)\n",
    "\n",
    "# ax.coastlines()\n",
    "# ax.add_feature(cfeature.LAND, zorder=2, facecolor=\"0.75\")  # Optional: Add land with specific color\n",
    "# ax.add_feature(cfeature.LAND, zorder=2, facecolor=\"0.75\")  # Add land with a light grey color\n",
    "\n",
    "# print(2)\n",
    "\n",
    "fig.colorbar(C, ax=ax, orientation='vertical', label=\"Depth (m)\")\n",
    "# print(3)\n",
    "\n",
    "# plt.savefig('output_plot2.png', dpi=300)  # Save the plot as a PNG file"
   ]
  },
  {
   "cell_type": "code",
   "execution_count": null,
   "id": "4b787603-a497-4202-8c67-863206deb38a",
   "metadata": {},
   "outputs": [],
   "source": [
    "\n",
    "# Assuming cds and xda are already loaded as xarray objects\n",
    "\n",
    "# Save xarray data to NumPy arrays\n",
    "#lon_arrays = [cds.data_vars['XC'][idx].values for idx in range(1, 5)]\n",
    "#lat_arrays = [cds.data_vars['YC'][idx].values for idx in range(1, 5)]\n",
    "data_arrays = [xda[0, 0, idx].values for idx in range(1, 5)]\n",
    "\n",
    "# del cds, xda\n",
    "\n",
    "\n",
    "# Save the lon, lat, and data arrays to .npy files\n",
    "for i in range(4):\n",
    "    #np.save(f'lon_array_{i}.npy', lon_arrays[i])\n",
    "    #np.save(f'lat_array_{i}.npy', lat_arrays[i])\n",
    "    np.save(f'/home/mmurakami/crios_backups/ASTE_270/BarentsS_paper/npy_arrays/depth_{i}.npy', data_arrays[i])\n",
    "\n",
    "# Optionally, you can delete the original arrays if no longer needed"
   ]
  },
  {
   "cell_type": "code",
   "execution_count": null,
   "id": "2340c6ed-9f4b-43e7-8752-54564cfa8bc1",
   "metadata": {},
   "outputs": [],
   "source": [
    "# Create the plot\n",
    "subplot_kw = {\"projection\": ccrs.NorthPolarStereo()}\n",
    "fig, ax = plt.subplots(nrows=1, ncols=1, subplot_kw=subplot_kw, figsize=(8, 8))\n",
    "\n",
    "# Set the extent if needed (uncomment if you want to zoom in on \n",
    "ax.set_extent([-180, 180, 70, 90], crs=ccrs.PlateCarree())\n",
    "\n",
    "for i in range(4):\n",
    "    lon = lon_arrays[i]\n",
    "    lat = lat_arrays[i]\n",
    "    data = data_arrays[i]\n",
    "    \n",
    "    # Handle NaNs in lon, lat, and data\n",
    "    lon[np.isnan(lon)] = np.nanmin(lon) - 1  # fill with near values to avoid errors\n",
    "    lat[np.isnan(lat)] = np.nanmin(lat) - 1\n",
    "    data[np.isnan(lon)] = np.nan\n",
    "    data[np.isnan(lat)] = np.nan\n",
    "\n",
    "    # Create the plot using pcolormesh\n",
    "    C = ax.pcolormesh(\n",
    "        lon,\n",
    "        lat,\n",
    "        data,  # First time step, 0 depth, tile\n",
    "        transform=ccrs.PlateCarree(),  # Project using PlateCarree for longitude/latitude\n",
    "        cmap='viridis',\n",
    "    )\n",
    "    \n",
    "    ax.set_global()\n",
    "    ax.set_title(\"ASTE Depth\")\n",
    "\n",
    "# Add a colorbar\n",
    "fig.colorbar(C, ax=ax, orientation='vertical', label=\"Depth (m)\")\n",
    "\n",
    "# Optional: Uncomment to add coastlines or land features\n",
    "# ax.coastlines()\n",
    "# ax.add_feature(cfeature.LAND, zorder=2, facecolor=\"0.75\")\n",
    "\n",
    "# Save the plot if needed\n",
    "# plt.savefig('output_plot2.png', dpi=300)\n",
    "\n",
    "plt.show()"
   ]
  },
  {
   "cell_type": "markdown",
   "id": "a738b198-d229-4684-a57c-cae8ab6f09d8",
   "metadata": {},
   "source": [
    "# locate an average line for the polar front based on T and S gradients"
   ]
  },
  {
   "cell_type": "code",
   "execution_count": null,
   "id": "9458f478-9991-41fb-a428-546aa0cfccb0",
   "metadata": {},
   "outputs": [],
   "source": []
  },
  {
   "cell_type": "code",
   "execution_count": null,
   "id": "38137077-5943-4fe3-bdcf-8e8389ec5ba2",
   "metadata": {},
   "outputs": [],
   "source": []
  }
 ],
 "metadata": {
  "kernelspec": {
   "display_name": "py38",
   "language": "python",
   "name": "py38"
  },
  "language_info": {
   "codemirror_mode": {
    "name": "ipython",
    "version": 3
   },
   "file_extension": ".py",
   "mimetype": "text/x-python",
   "name": "python",
   "nbconvert_exporter": "python",
   "pygments_lexer": "ipython3",
   "version": "3.8.18"
  }
 },
 "nbformat": 4,
 "nbformat_minor": 5
}
