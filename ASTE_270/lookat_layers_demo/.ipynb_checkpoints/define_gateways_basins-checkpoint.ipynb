{
 "cells": [
  {
   "cell_type": "code",
   "execution_count": 1,
   "id": "2ac5ee62-009b-4350-be01-fcf1ea4d3ec0",
   "metadata": {},
   "outputs": [],
   "source": [
    "# packages and plot parameters\n",
    "import numpy as np\n",
    "import matplotlib.pyplot as plt\n",
    "from matplotlib import colors\n",
    "from matplotlib.colors import TwoSlopeNorm\n",
    "import numpy.ma as ma\n",
    "import glob\n",
    "import os\n",
    "import re\n",
    "from operator import mul\n",
    "import sys\n",
    "import time as time\n",
    "import h5py\n",
    "from scipy.io import loadmat\n",
    "from scipy.io import savemat\n",
    "\n",
    "plt.rcParams['figure.figsize'] = (10,4)\n",
    "\n",
    "# add rdmds reading functions to path\n",
    "sys.path.append(\"/home/mmurakami/MITgcm/MITgcm_c68r/MITgcm-checkpoint68r/utils/python/MITgcmutils/MITgcmutils/\") # go to parent dir\n",
    "from mds import *\n",
    "\n",
    "# add helper functions to path\n",
    "sys.path.append(\"/home/mmurakami/crios_backups/an_helper_functions/\") # go to parent dir\n",
    "from read_binary import *\n",
    "from calc_UV_conv_1face import calc_UV_conv_1face\n",
    "from calc_mskmean_T_mod import calc_mskmean_T_mod\n",
    "from mk3D_mod import mk3D_mod\n",
    "from aste_helper_funcs import *"
   ]
  },
  {
   "cell_type": "markdown",
   "id": "ffb2fd0e-33fd-4652-b47e-2c3e895fff21",
   "metadata": {
    "jp-MarkdownHeadingCollapsed": true
   },
   "source": [
    "### This script is based on the indices and code from below:\n",
    "there is a function to define the basins generally which An has a function for\n",
    "This is found at /home/atnguyen/matlab_mnt_nansen/HelenPillar_layers/lookat_layers_aste.m \n",
    "on line 147"
   ]
  },
  {
   "cell_type": "markdown",
   "id": "ac0594b4-b999-4f3c-b050-7e8be4cb879f",
   "metadata": {},
   "source": [
    "### Some MATLAB to Python tips\n",
    "read_float32(filename) = readbin\n",
    "parsemeta(filename) = only read .meta with fields\n",
    "rdmds(filename, time) = read .data file\n",
    "\n",
    "#### Some tips on definitions\n",
    "setTS_Ttend = definitions should be in data.diagnostics - check!"
   ]
  },
  {
   "cell_type": "markdown",
   "id": "44d3c686-c3f2-4973-8911-fb0a3927f9ce",
   "metadata": {},
   "source": [
    "### Setting up files, bounds, faces"
   ]
  },
  {
   "cell_type": "code",
   "execution_count": 2,
   "id": "9bf4c7d7-3ff9-4e6c-84bc-e59a6e3fa718",
   "metadata": {},
   "outputs": [],
   "source": [
    "dirroot = \"/scratch2/atnguyen/aste_270x450x180/\"\n",
    "dirrun = dirroot + \"run_c67w_layers_budget_nlayersorig_advdiffsplit_FULLYfixedXX_checkedwithAN_it0062_nS112_nT112_pk0000631152/\"\n",
    "dirgrid = dirroot + \"GRID_real8/\"\n",
    "dirgridnb = dirroot + \"GRID_noblank/\"\n",
    "dirgridw = dirroot + \"GRID_wet/\"\n",
    "\n",
    "dirmask = dirroot + \"run_template/input_maskTransport/\"\n",
    "dirdiags = dirrun + \"diags/\""
   ]
  },
  {
   "cell_type": "code",
   "execution_count": 3,
   "id": "417756a0-6993-4d26-869a-5acbf3dbc1cc",
   "metadata": {},
   "outputs": [],
   "source": [
    "# this was to look at bytes with ls -ltr\n",
    "# 1172912/146614"
   ]
  },
  {
   "cell_type": "code",
   "execution_count": 4,
   "id": "f9ebe5f5-7b12-40d1-9df2-b3e3067cc486",
   "metadata": {},
   "outputs": [],
   "source": [
    "# reading in the TH and SLT bins\n",
    "# read in the original array we fed\n",
    "boundsT = rdmds(dirrun + \"layers2TH\", -1)\n",
    "boundsT = boundsT[:,:,0].flatten()\n",
    "nT = boundsT.shape[0]-1\n",
    "\n",
    "boundsS = rdmds(dirrun + \"layers1SLT\", -1)\n",
    "boundsS = boundsS[:,:,0].flatten()\n",
    "nS = boundsS.shape[0]-1\n",
    "\n",
    "binwidthT = boundsT[1:] - boundsT[:-1]   # this is real width delta\n",
    "binwidthS = boundsS[1:] - boundsS[:-1]\n",
    "\n",
    "binwidthT1 = (binwidthT[:-1] + binwidthT[1:])/2\n",
    "binwidthS1 = (binwidthS[:-1] + binwidthS[1:])/2\n",
    "\n",
    "binmidT = (boundsT[:-1] + boundsT[1:])/2\n",
    "binmidS = (boundsS[:-1] + boundsS[1:])/2\n",
    "\n",
    "binmidTp = boundsT[1:-1]\n",
    "binmidSp = boundsS[1:-1]"
   ]
  },
  {
   "cell_type": "code",
   "execution_count": 5,
   "id": "ba672e34-6656-4948-9168-9f618bb07c1d",
   "metadata": {},
   "outputs": [],
   "source": [
    "bigaste = True    # set up something to trigger in case we run with either big or little\n",
    "\n",
    "if bigaste:\n",
    "    nx = 270\n",
    "    ncut1 = 450\n",
    "    ncut2 = 180\n",
    "else:\n",
    "    nx = 90\n",
    "    ncut1 = 150\n",
    "    ncut2 = 60\n",
    "    \n",
    "ny = 2*ncut1+nx+ncut2\n",
    "nz = 50\n",
    "nfx = np.array([nx, 0 , nx, ncut2 ,ncut1])\n",
    "nfy = np.array([ncut1, 0 , nx, nx, nx])"
   ]
  },
  {
   "cell_type": "code",
   "execution_count": 6,
   "id": "1de3a84b-ac87-490e-80d0-8d868b3af24c",
   "metadata": {},
   "outputs": [],
   "source": [
    "mygrid = {\n",
    "    'dirGrid': dirgrid,\n",
    "    'nFaces': 5,\n",
    "    'fileFormat': 'compact',\n",
    "    'memoryLimit': 2,\n",
    "    'ioSize': [nx*ny, 1],\n",
    "    'facesSize': [ny, nx],\n",
    "    'facesExpand': [ny, nx],\n",
    "    'missVal': 0,\n",
    "}\n",
    "\n",
    "fldstr2d = ['XC','YC','RAC','Depth'] #  ,'DXG','DYG','DXC','DYC'] # 'XG','YG'\n",
    "fldstr3d = ['hFacC'] #,'hFacW','hFacS','mskC','mskS','mskW']\n",
    "fldstr3dp = ['hFacC'] # ,'hFacW','hFacS','maskCtrlC','maskCtrlS','maskCtrlW']\n",
    "fldstr1d = ['RC','DRF'] # ,'RF','DRC',\n",
    "\n",
    "for fld in fldstr1d:\n",
    "    mygrid[fld] = np.squeeze(rdmds(os.path.join(dirgrid, fld)))\n",
    "\n",
    "for fld in fldstr3d:\n",
    "    temp = rdmds(os.path.join(dirgrid, fldstr3dp[fldstr3d.index(fld)]))\n",
    "    mygrid[fld] = temp.reshape(nz, ny, nx)\n",
    "\n",
    "for fld in fldstr2d:\n",
    "    temp = rdmds(os.path.join(dirgrid, fld))\n",
    "    mygrid[fld] = temp.reshape(ny, nx)"
   ]
  },
  {
   "cell_type": "code",
   "execution_count": 7,
   "id": "87388da9-19f0-4423-bead-181b33cc9281",
   "metadata": {},
   "outputs": [],
   "source": [
    "# 126-130\n",
    "xc = mygrid['XC']\n",
    "yc = mygrid['YC']\n",
    "rac = mygrid['RAC']\n",
    "drf = mygrid['DRF']"
   ]
  },
  {
   "cell_type": "code",
   "execution_count": 8,
   "id": "8f717dac-f0e3-4d42-8586-b0922df9c621",
   "metadata": {},
   "outputs": [
    {
     "name": "stdout",
     "output_type": "stream",
     "text": [
      "(1350, 270)\n",
      "nx 270\n",
      "sz [1350  270]\n",
      "(1, 1350, 270)\n",
      "tmp (1, 450, 270)\n"
     ]
    }
   ],
   "source": [
    "d = rdmds(dirgrid + \"Depth\",-1)\n",
    "d = np.reshape(d,(ny,nx))\n",
    "class structtype():\n",
    "    pass\n",
    "fld = d\n",
    "print(fld.shape)\n",
    "\n",
    "dep =  get_aste_faces (d,nfx,nfy)"
   ]
  },
  {
   "cell_type": "code",
   "execution_count": 9,
   "id": "963cda17-80d5-414b-98c7-77ea49d885da",
   "metadata": {},
   "outputs": [
    {
     "name": "stdout",
     "output_type": "stream",
     "text": [
      "hf1 (1350, 270)\n",
      "SZ! (1, 900, 540)\n",
      "shape of fld: (1, 900, 540)\n",
      "(1, 270, 270)\n",
      "(1, 270, 180)\n",
      "(1, 270, 450)\n",
      "(1, 1350, 270)\n",
      "compact shape (1, 1350, 270)\n",
      "(50, 1350, 270) (1, 1350, 270)\n"
     ]
    }
   ],
   "source": [
    "# obcs\n",
    "mygrid['hFacC'][mygrid['hFacC'] > 0] = 1\n",
    "mygrid['hFacC'][mygrid['hFacC'] == 0] = np.nan\n",
    "hf1 = mygrid['hFacC'][0] # top layer in z\n",
    "\n",
    "print(\"hf1\",hf1.shape)\n",
    "# hf1 = hf1[np.newaxis,:, :]\n",
    "hf1.shape\n",
    "\n",
    "hf1 = get_aste_tracer(hf1, nfx, nfy)\n",
    "\n",
    "# check with hardcoding on this for mini or big aste\n",
    "if nx == 90:\n",
    "    hf1[:,281,:] = np.nan\n",
    "    hf1[:,7,:] = np.nan\n",
    "    hf1[:,86,122] = np.nan\n",
    "elif nx == 270:\n",
    "    hf1[:,844,:] = np.nan\n",
    "    hf1[:,23,:] = np.nan\n",
    "    hf1[:,365,260:261] = np.nan\n",
    "\n",
    "hf1 = aste_tracer2compact(hf1,nfx,nfy)\n",
    "hf = mygrid[\"hFacC\"]\n",
    "hf = hf * np.tile(hf1,(nz, 1,1))\n",
    "\n",
    "print(hf.shape,hf1.shape)"
   ]
  },
  {
   "cell_type": "code",
   "execution_count": 10,
   "id": "d5741c8e-1b05-474a-9257-88c3504277b5",
   "metadata": {},
   "outputs": [
    {
     "name": "stdout",
     "output_type": "stream",
     "text": [
      "LwetC2d 146614\n",
      "LwetC 4833023\n",
      "RAC2d (146614,)\n"
     ]
    }
   ],
   "source": [
    "# 2d\n",
    "inf = h5py.File(dirgridw + 'Index_wet_hfacC_2D.mat')\n",
    "arr = inf['ind'][:]\n",
    "iwetC2d = arr[5,:]\n",
    "iwetC2d = iwetC2d.astype(\"int32\")\n",
    "iwetC2d -= 1\n",
    "LwetC2d = iwetC2d.shape[0]\n",
    "print(\"LwetC2d\",LwetC2d)\n",
    "\n",
    "# 3d\n",
    "inf = h5py.File(dirgridw + \"Index_wet_hfacC.mat\")\n",
    "arr = inf['ind'][:]\n",
    "iwetC = arr[5,:]\n",
    "iwetC = iwetC.astype(\"int32\")\n",
    "LwetC = iwetC.shape[0]\n",
    "print(\"LwetC\",LwetC)\n",
    "\n",
    "# 2d\n",
    "rac2d = read_float64(dirgridw + \"RAC_\" + str(LwetC2d) + \".data\")\n",
    "# TEST, ask An\n",
    "# rac2d = rac2d.reshape((LwetC2d,2))\n",
    "# rac2d = rac2d[:,0]\n",
    "print(\"RAC2d\",rac2d.shape)\n",
    "\n",
    "# 3d\n",
    "drf3d = read_float32(dirgridw + \"DRF_\" + str(LwetC) + \".data\")\n",
    "\n",
    "hf1flat = np.reshape(hf1,hf1.flatten().shape[0])\n",
    "hf2d = hf1flat[iwetC2d]\n",
    "\n",
    "# hf.shape - z, y, x\n",
    "# hf1.shape - 1, y, x\n",
    "hfflat = np.reshape(hf,hf.flatten().shape[0])\n",
    "hf3d = hfflat[iwetC]"
   ]
  },
  {
   "cell_type": "markdown",
   "id": "0594ddce-397b-4d68-bcc0-59ebbf5db702",
   "metadata": {},
   "source": [
    "### The following is from a previous run"
   ]
  },
  {
   "cell_type": "code",
   "execution_count": 11,
   "id": "c67ee415-cf92-4a30-91be-024532e83307",
   "metadata": {},
   "outputs": [],
   "source": [
    "fileprefix = \"/scratch/pillarh/aste_270x450x180/\"\n",
    "extBasin='run_template/input_maskTransport/'\n",
    "filename = fileprefix + extBasin + \"GATE_transports_v3_osnap.mat\"\n",
    "if nx == 270:\n",
    "    inf = loadmat(filename)\n",
    "    mskBasin = (inf[\"mskBasin\"])\n",
    "\n",
    "mskBasin = mskBasin.T               # python adjustment\n",
    "\n",
    "# this is now different syntax than the other file\n",
    "strb=np.array(['CanadaB','ChukchiS','MakarovB','AmundsenB','NansenB','BeringS','BarentsS','GINs','CAA',\n",
    "               'SPG','LabSea','NPac','NAtlantic','AtlS30'])\n",
    "\n",
    "mskBasin[mskBasin==50] =6\n",
    "mskBasin[mskBasin==200]=7\n",
    "mskBasin[mskBasin==300]=8\n",
    "mskBasin[mskBasin==400]=9\n",
    "mskBasin[mskBasin==500]=9\n",
    "mskBasin[mskBasin==600]=10\n",
    "mskBasin[mskBasin==700]=11\n",
    "mskBasin[mskBasin==-1]=12\n",
    "mskBasin[mskBasin==-100]=13\n",
    "latNA = 30\n",
    "lonNA = -82\n",
    "condition_13 = (mskBasin == 0) & (yc > latNA) & (xc > lonNA) & (hf1.reshape((ny,nx)) > 0)\n",
    "mskBasin[condition_13] = 13\n",
    "condition_14 = (mskBasin == 0) & (hf1.reshape((ny,nx)) > 0)\n",
    "mskBasin[condition_14] = 14\n",
    "\n",
    "mskBasin = mskBasin * hf1"
   ]
  },
  {
   "cell_type": "code",
   "execution_count": 12,
   "id": "d2e57f4d-07d8-44ba-82c7-b64c987d8038",
   "metadata": {},
   "outputs": [],
   "source": [
    "# hf can only be deleted after these variables are created!!\n",
    "# mskBasin3d = np. tile mskBasin (1,1,nz) * hf \n",
    "# indBasin \n",
    "\n",
    "# An lines 184-96"
   ]
  },
  {
   "cell_type": "code",
   "execution_count": 13,
   "id": "28e6f705-80a8-4416-a80a-9a3c0d3a7c47",
   "metadata": {},
   "outputs": [],
   "source": [
    "del hfflat, hf"
   ]
  },
  {
   "cell_type": "code",
   "execution_count": 14,
   "id": "84ff1573-d519-4c42-b13e-003f93f03cc0",
   "metadata": {},
   "outputs": [
    {
     "data": {
      "text/plain": [
       "<matplotlib.colorbar.Colorbar at 0x1515eee6b5b0>"
      ]
     },
     "execution_count": 14,
     "metadata": {},
     "output_type": "execute_result"
    },
    {
     "data": {
      "image/png": "[encoded data removed]",
      "text/plain": [
       "<Figure size 1000x400 with 2 Axes>"
      ]
     },
     "metadata": {},
     "output_type": "display_data"
    }
   ],
   "source": [
    "# SOMETHING IS CHANGING WHEN WE CHANGE THE TYPE, IN PCOLORMESH\n",
    "ind2d_aste = get_aste_tracer(np.reshape(mskBasin,(ny,nx)),nfx,nfy)\n",
    "plt.pcolormesh(ind2d_aste[0,:,:])\n",
    "plt.colorbar()"
   ]
  },
  {
   "cell_type": "code",
   "execution_count": 15,
   "id": "c3ace8e1-b536-4f97-9b24-ce29f1dccdcb",
   "metadata": {},
   "outputs": [
    {
     "data": {
      "text/plain": [
       "(364500,)"
      ]
     },
     "execution_count": 15,
     "metadata": {},
     "output_type": "execute_result"
    }
   ],
   "source": [
    "# this might not be right but we need to see\n",
    "ind2d = mskBasin.reshape(364500)\n",
    "ind2d.shape"
   ]
  },
  {
   "cell_type": "markdown",
   "id": "f6768a06-78bc-4539-8b31-e7db72fd777d",
   "metadata": {},
   "source": [
    "### Now try to define the gateways\n",
    "\n",
    "The following code might be helpful: /home/atnguyen/matlab_mnt_nansen/HelenPillar_layers/layers_gateway_exchange_atn.m"
   ]
  },
  {
   "cell_type": "code",
   "execution_count": 105,
   "id": "fac9bdd2-b977-4f38-ab8d-9191eb1bf13c",
   "metadata": {},
   "outputs": [
    {
     "name": "stdout",
     "output_type": "stream",
     "text": [
      "1 ['FramStrait']\n",
      "2 ['NaresStrait']\n",
      "3 ['CAA']\n",
      "4 ['BarrowStrait/LancasterSound']\n",
      "5 ['BarentsSeaOpening']\n",
      "6 ['Svalbard-FranzJosefIslands']\n",
      "7 ['FranzJosefIslands-NovayaZemlya']\n",
      "8 ['KaraStrait']\n",
      "9 ['StAnnaTrough/Voronin/Vilkitshogo']\n",
      "10 ['BeringStrait']\n",
      "11 ['DenmarkStrait']\n",
      "12 ['Iceland-FaroeI']\n",
      "13 ['Faroe-Shetland']\n",
      "14 ['GibraltarStrait']\n",
      "15 ['DavisStrait']\n",
      "16 ['FloridaStrait']\n",
      "17 ['BeringSea']\n",
      "18 ['SubPolarGyre']\n",
      "19 ['LabradorSea']\n",
      "\n",
      "1 ['NansenAmundsen']\n",
      "2 ['AmundsenMakarov']\n",
      "3 ['MakarovCBCK']\n",
      "4 ['FramStraitNansen']\n",
      "5 ['FramStraitAmundsen']\n",
      "6 ['NaresStraitMakarov']\n",
      "7 ['OSNAPeast']\n"
     ]
    }
   ],
   "source": [
    "fileprefix = \"/scratch/pillarh/aste_270x450x180/\"\n",
    "extBasin='run_template/input_maskTransport/'\n",
    "filename = fileprefix + extBasin + \"GATE_transports_v3_osnap.mat\"\n",
    "if nx == 270:\n",
    "    inf = loadmat(filename)\n",
    "    mskBasin = (inf[\"mskBasin\"])\n",
    "    ggate  = inf['ggate']\n",
    "    ggate2  = inf['ggate2']\n",
    "    \n",
    "num = 1\n",
    "for i in ggate[0]:\n",
    "    label = i[0][0][0]\n",
    "    print(num,label)\n",
    "    num += 1\n",
    "print()\n",
    "\n",
    "num = 1\n",
    "for i in ggate2[0]:\n",
    "    label = (i[0][0][-2])\n",
    "    print(num,label)\n",
    "    num += 1"
   ]
  },
  {
   "cell_type": "code",
   "execution_count": 106,
   "id": "5957699b-752c-4ff7-aded-da5e81274615",
   "metadata": {},
   "outputs": [],
   "source": [
    "# we have to first make a dictionary\n",
    "gg = {}\n",
    "ggate1 = ggate[0]\n",
    "for mygate in ggate1:\n",
    "    name = mygate[0][0][0][0]\n",
    "    gg[name] = {}\n",
    "    gg[name]['ix'] = mygate[0][0][1][0]\n",
    "    gg[name]['jy'] = mygate[0][0][2][0]\n",
    "    gg[name]['signu'] = mygate[0][0][3][0]\n",
    "    gg[name]['signv'] = mygate[0][0][4][0]\n",
    "    gg[name]['descr'] = mygate[0][0][5][0]"
   ]
  },
  {
   "cell_type": "code",
   "execution_count": 107,
   "id": "b06cd690-c045-4ed8-827e-5abe62ae6eb8",
   "metadata": {},
   "outputs": [
    {
     "data": {
      "text/plain": [
       "'NansenAmundsen'"
      ]
     },
     "execution_count": 107,
     "metadata": {},
     "output_type": "execute_result"
    }
   ],
   "source": [
    "ggate2[0][0][0][0][0][0]\n",
    "ggate2[0][0][0][0][1][0]\n",
    "ggate2[0][0][0][0][2][0]\n",
    "ggate2[0][0][0][0][3][0]\n",
    "ggate2[0][0][0][0][4][0]"
   ]
  },
  {
   "cell_type": "code",
   "execution_count": 123,
   "id": "b47facc3-7fae-42b3-be1e-f6d2c235f297",
   "metadata": {},
   "outputs": [],
   "source": [
    "gg2 = {}\n",
    "ggate2a = ggate2[0]\n",
    "for mygate in ggate2a:\n",
    "    name = mygate[0][0][4][0]\n",
    "    gg2[name] = {}\n",
    "    gg2[name]['ix'] = mygate[0][0][0][0]\n",
    "    gg2[name]['jy'] = mygate[0][0][1][0]\n",
    "    gg2[name]['signu'] = mygate[0][0][2][0]\n",
    "    gg2[name]['signv'] = mygate[0][0][3][0]\n",
    "    gg2[name]['descr'] = mygate[0][0][5][0]"
   ]
  },
  {
   "cell_type": "code",
   "execution_count": 84,
   "id": "fac61cd2-41ed-4db9-813c-ef6edbfd7fac",
   "metadata": {},
   "outputs": [],
   "source": [
    "# check with An to see if these are the same values\n",
    "for igate in gg.keys():\n",
    "    L = len(gg[igate]['ix'])\n",
    "    ivalid = np.zeros(L)\n",
    "    ind = np.empty(L)\n",
    "    ind.fill(np.nan)\n",
    "    indwet = np.empty(L)   # same as ind\n",
    "    indwet.fill(np.nan)\n",
    "    for i in range(L):\n",
    "        ind[i] = (gg[igate]['jy'][i] - 1) * nx + gg[igate]['ix'][i]\n",
    "        # It is quite possible some of the [ix,jy] were on land,\n",
    "        # which means it would not show up in iwet2d.full:\n",
    "        ii = np.where(iwetC2d == ind[i])[0]\n",
    "        if len(ii) > 0:\n",
    "            indwet[i] = ii[0]\n",
    "            ivalid[i] = 1\n",
    "        else:\n",
    "            indwet[i] = np.nan\n",
    "\n",
    "    # set it in the dictionary under the basin name\n",
    "    gg[igate]['indwet'] = indwet\n",
    "    gg[igate]['ivalid'] = ivalid"
   ]
  },
  {
   "cell_type": "code",
   "execution_count": 125,
   "id": "885ee5e3-cec2-4ac7-80b6-1f004980c69d",
   "metadata": {},
   "outputs": [],
   "source": [
    "# check with An to see if these are the same values\n",
    "for igate in gg2.keys():\n",
    "    L = len(gg2[igate]['ix'])\n",
    "    ivalid = np.zeros(L)\n",
    "    ind = np.empty(L)\n",
    "    ind.fill(np.nan)\n",
    "    indwet = np.empty(L)   # same as ind\n",
    "    indwet.fill(np.nan)\n",
    "    for i in range(L):\n",
    "        ind[i] = (gg2[igate]['jy'][i] - 1) * nx + gg2[igate]['ix'][i]\n",
    "        # It is quite possible some of the [ix,jy] were on land,\n",
    "        # which means it would not show up in iwet2d.full:\n",
    "        ii = np.where(iwetC2d == ind[i])[0]\n",
    "        if len(ii) > 0:\n",
    "            indwet[i] = ii[0]\n",
    "            ivalid[i] = 1\n",
    "        else:\n",
    "            indwet[i] = np.nan\n",
    "\n",
    "    # set it in the dictionary under the basin name\n",
    "    gg2[igate]['indwet'] = indwet\n",
    "    gg2[igate]['ivalid'] = ivalid"
   ]
  },
  {
   "cell_type": "markdown",
   "id": "27320d65-6be4-437f-9afd-c7c747eea11e",
   "metadata": {},
   "source": [
    "### Define basins in all points, then wet points"
   ]
  },
  {
   "cell_type": "code",
   "execution_count": 16,
   "id": "f0da3842-7609-4b86-9c66-b2f1780cb528",
   "metadata": {},
   "outputs": [],
   "source": [
    "# create the basins based on the values and make subplots\n",
    "#        1           2          3           4         5         6        7         8      9     10    11       12      13         14\n",
    "#strb={'CanadaB','ChukchiS','MakarovB','AmundsenB','NansenB','BeringS','BarentsS','GINs','CAA','SPG','LabSea','NPac','NAtlantic','AtlS30'};\n",
    "idxs = np.arange(0,14,1)\n",
    "strb=np.array(['CanadaB','ChukchiS','MakarovB','AmundsenB','NansenB','BeringS','BarentsS','GINs','CAA',\n",
    "               'SPG','LabSea','NPac','NAtlantic','AtlS30'])\n",
    "\n",
    "# REDEFINE THESE AND REPLACE STRI with similar phrasing for wet indices\n",
    "iCanada2D = np.where(ind2d == 1)[0]\n",
    "iChukchiS2D = np.where(ind2d == 2)[0]\n",
    "iMakarovB2D = np.where(ind2d == 3)[0]\n",
    "iAmundsenB2D = np.where(ind2d == 4)[0]\n",
    "iNansenB2D = np.where(ind2d == 5)[0]\n",
    "iBeringS2D = np.where(ind2d == 6)[0]\n",
    "iBarentsS2D = np.where(ind2d == 7)[0]\n",
    "iGINs2D = np.where(ind2d == 8)[0]\n",
    "iCAA2D = np.where(ind2d == 9)[0]\n",
    "iSPG2D = np.where(ind2d == 10)[0]\n",
    "iLabSea2D = np.where(ind2d == 11)[0]\n",
    "iNPac2D = np.where(ind2d == 12)[0]\n",
    "iNAtlantic2D = np.where(ind2d == 13)[0]\n",
    "iAtlS302D = np.where(ind2d == 14)[0]\n",
    "\n",
    "\n",
    "stri = np.array([iCanada2D,iChukchiS2D,iMakarovB2D,iAmundsenB2D,iNansenB2D,iBeringS2D,iBarentsS2D,iGINs2D,iCAA2D,\n",
    "                iSPG2D,iLabSea2D,iNPac2D,iNAtlantic2D,iAtlS302D],dtype = \"object\")\n",
    "\n",
    "# make subplots based on these - hope we did this right\n",
    "# myzero = np.zeros((ny*nx))\n",
    "# fig,axs = plt.subplots(len(stri),figsize = (2,12))\n",
    "# for i in idxs:\n",
    "#     myzerotmp = myzero.copy() # copy for reference in loop\n",
    "#     myzerotmp[stri[i]] = 1\n",
    "#     myzerotmp =  np.reshape(myzerotmp,(ny,nx))\n",
    "#     myzerotmp = get_aste_tracer(myzerotmp,nfx,nfy)\n",
    "#     axs[i].pcolormesh(myzerotmp[0,:,:])"
   ]
  }
 ],
 "metadata": {
  "kernelspec": {
   "display_name": "py38",
   "language": "python",
   "name": "py38"
  },
  "language_info": {
   "codemirror_mode": {
    "name": "ipython",
    "version": 3
   },
   "file_extension": ".py",
   "mimetype": "text/x-python",
   "name": "python",
   "nbconvert_exporter": "python",
   "pygments_lexer": "ipython3",
   "version": "3.8.18"
  }
 },
 "nbformat": 4,
 "nbformat_minor": 5
}
