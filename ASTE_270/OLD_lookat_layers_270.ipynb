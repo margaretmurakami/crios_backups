{
 "cells": [
  {
   "cell_type": "code",
   "execution_count": 1,
   "id": "2ac5ee62-009b-4350-be01-fcf1ea4d3ec0",
   "metadata": {},
   "outputs": [],
   "source": [
    "# packages and plot parameters\n",
    "import numpy as np\n",
    "import matplotlib.pyplot as plt\n",
    "from matplotlib import colors\n",
    "from matplotlib.colors import TwoSlopeNorm\n",
    "import numpy.ma as ma\n",
    "import glob\n",
    "import os\n",
    "import re\n",
    "from operator import mul\n",
    "import sys\n",
    "import time as time\n",
    "\n",
    "plt.rcParams['figure.figsize'] = (10,4)\n",
    "\n",
    "sys.path.append(\"/home/mmurakami/MITgcm/MITgcm_c68r/MITgcm-checkpoint68r/utils/python/MITgcmutils/MITgcmutils/\") # go to parent dir\n",
    "from mds import *\n",
    "\n",
    "# add rdmds reading functions to path\n",
    "sys.path.append(\"/home/mmurakami/jupyterfiles/\") # go to parent dir\n",
    "from read_binary import *\n",
    "\n",
    "from aste_helper_funcs import *"
   ]
  },
  {
   "cell_type": "markdown",
   "id": "ffb2fd0e-33fd-4652-b47e-2c3e895fff21",
   "metadata": {
    "jp-MarkdownHeadingCollapsed": true
   },
   "source": [
    "### This script is based on the indices and code from below:\n",
    "there is a function to define the basins generally which An has a function for\n",
    "This is found at /home/atnguyen/matlab_mnt_nansen/HelenPillar_layers/lookat_layers_aste.m \n",
    "on line 147"
   ]
  },
  {
   "cell_type": "markdown",
   "id": "ac0594b4-b999-4f3c-b050-7e8be4cb879f",
   "metadata": {},
   "source": [
    "### Some MATLAB to Python tips\n",
    "read_float32(filename) = readbin\n",
    "parsemeta(filename) = only read .meta with fields\n",
    "rdmds(filename, time) = read .data file\n",
    "\n",
    "#### Some tips on definitions\n",
    "setTS_Ttend = definitions should be in data.diagnostics - check!"
   ]
  },
  {
   "cell_type": "markdown",
   "id": "44d3c686-c3f2-4973-8911-fb0a3927f9ce",
   "metadata": {},
   "source": [
    "### Setting up files, bounds, faces"
   ]
  },
  {
   "cell_type": "code",
   "execution_count": 2,
   "id": "1b9afd40-048b-4ca9-9cd2-a270b502701d",
   "metadata": {},
   "outputs": [],
   "source": [
    "dirroot = \"/scratch2/atnguyen/aste_90x150x60/\"\n",
    "dirrun = dirroot + \"run_c67w_layers_03Jun2023_noOL_nlayers24nS24nT24_10d_newLayersDiags/\"\n",
    "dirgrid = dirroot + \"GRID/\"\n",
    "dirgridnb = dirroot + \"GRID_noblank/\"\n",
    "dirgridw = dirroot + \"GRID_wet/\"\n",
    "\n",
    "dirmask = dirroot + \"run_template/input_maskTransport/\"\n",
    "dirdiags = dirrun + \"diags/\""
   ]
  },
  {
   "cell_type": "code",
   "execution_count": 3,
   "id": "f9ebe5f5-7b12-40d1-9df2-b3e3067cc486",
   "metadata": {},
   "outputs": [
    {
     "name": "stdout",
     "output_type": "stream",
     "text": [
      "(24,) (23,)\n"
     ]
    }
   ],
   "source": [
    "# reading in the TH and SLT bins\n",
    "# read in the original array we fed\n",
    "boundsT = rdmds(dirrun + \"layers2TH\", -1)\n",
    "boundsT = boundsT[:,:,0].flatten()\n",
    "nT = boundsT.shape[0]-1\n",
    "\n",
    "boundsS = rdmds(dirrun + \"layers1SLT\", -1)\n",
    "boundsS = boundsS[:,:,0].flatten()\n",
    "nS = boundsS.shape[0]-1\n",
    "\n",
    "binwidthT = boundsT[1:] - boundsT[:-1]   # this is real width delta\n",
    "binwidthS = boundsS[1:] - boundsS[:-1]\n",
    "\n",
    "binwidthT1 = (binwidthT[:-1] + binwidthT[1:])/2\n",
    "binwidthS1 = (binwidthS[:-1] + binwidthS[1:])/2\n",
    "\n",
    "binmidT = (boundsT[:-1] + boundsT[1:])/2\n",
    "binmidS = (boundsS[:-1] + boundsS[1:])/2\n",
    "\n",
    "binmidTp = boundsT[1:-1]\n",
    "binmidSp = boundsS[1:-1]\n",
    "\n",
    "print(binmidT.shape,binmidTp.shape)"
   ]
  },
  {
   "cell_type": "code",
   "execution_count": 4,
   "id": "1de3a84b-ac87-490e-80d0-8d868b3af24c",
   "metadata": {},
   "outputs": [
    {
     "name": "stdout",
     "output_type": "stream",
     "text": [
      "(50, 1350, 30)\n",
      "(50, 450, 90)\n"
     ]
    }
   ],
   "source": [
    "nx = 90\n",
    "ncut1 = 150\n",
    "ncut2 = 60\n",
    "ny = 2*ncut1+nx+ncut2   # this is 450\n",
    "nz = 50\n",
    "nfx = np.array([nx, 0 , nx, ncut2 ,ncut1])\n",
    "nfy = np.array([ncut1, 0 , nx, nx, nx])\n",
    "\n",
    "mygrid = {\n",
    "    'dirGrid': dirgrid,\n",
    "    'nFaces': 5,\n",
    "    'fileFormat': 'compact',\n",
    "    'memoryLimit': 2,\n",
    "    'ioSize': [nx*ny, 1],\n",
    "    'facesSize': [ny, nx],\n",
    "    'facesExpand': [ny, nx],\n",
    "    'missVal': 0,\n",
    "}\n",
    "\n",
    "fldstr2d = ['XC','YC','RAC','Depth'] #  ,'DXG','DYG','DXC','DYC'] # 'XG','YG'\n",
    "fldstr3d = ['hFacC'] #,'hFacW','hFacS','mskC','mskS','mskW']\n",
    "fldstr3dp = ['hFacC'] # ,'hFacW','hFacS','maskCtrlC','maskCtrlS','maskCtrlW']\n",
    "fldstr1d = ['RC','DRF'] # ,'RF','DRC',\n",
    "\n",
    "for fld in fldstr1d:\n",
    "    mygrid[fld] = np.squeeze(rdmds(os.path.join(dirgrid, fld)))\n",
    "\n",
    "for fld in fldstr3d:\n",
    "    temp = rdmds(os.path.join(dirgrid, fldstr3dp[fldstr3d.index(fld)]))\n",
    "    print(temp.shape)\n",
    "    mygrid[fld] = temp.reshape(nz, ny, nx)\n",
    "    print(temp.reshape(nz, ny, nx).shape)\n",
    "\n",
    "for fld in fldstr2d:\n",
    "    temp = rdmds(os.path.join(dirgrid, fld))\n",
    "    mygrid[fld] = temp.reshape(ny, nx)\n",
    "    \n",
    "# mygrid['mskC'][mygrid['mskC'] == 0] = np.nan"
   ]
  },
  {
   "cell_type": "code",
   "execution_count": 5,
   "id": "87388da9-19f0-4423-bead-181b33cc9281",
   "metadata": {},
   "outputs": [],
   "source": [
    "# 126-130\n",
    "xc = mygrid['XC']\n",
    "yc = mygrid['YC']\n",
    "rac = mygrid['RAC']\n",
    "drf = mygrid['DRF']"
   ]
  },
  {
   "cell_type": "code",
   "execution_count": 6,
   "id": "8f717dac-f0e3-4d42-8586-b0922df9c621",
   "metadata": {},
   "outputs": [
    {
     "name": "stdout",
     "output_type": "stream",
     "text": [
      "(450, 90)\n",
      "nx 90\n",
      "sz [450  90]\n",
      "(1, 450, 90)\n",
      "tmp (1, 150, 90)\n"
     ]
    }
   ],
   "source": [
    "d = rdmds(dirgrid + \"Depth\",-1)\n",
    "d = np.reshape(d,(ny,nx))\n",
    "class structtype():\n",
    "    pass\n",
    "fld = d\n",
    "print(fld.shape)\n",
    "\n",
    "dep =  get_aste_faces (d,nfx,nfy)"
   ]
  },
  {
   "cell_type": "code",
   "execution_count": 7,
   "id": "963cda17-80d5-414b-98c7-77ea49d885da",
   "metadata": {},
   "outputs": [
    {
     "name": "stdout",
     "output_type": "stream",
     "text": [
      "SZ! (1, 300, 180)\n",
      "shape of fld: (1, 300, 180)\n",
      "(1, 90, 90)\n",
      "(1, 90, 60)\n",
      "(1, 90, 150)\n",
      "(1, 450, 90)\n",
      "compact shape (1, 450, 90)\n",
      "(50, 450, 90) (1, 450, 90)\n"
     ]
    }
   ],
   "source": [
    "# obcs\n",
    "mygrid['hFacC'][mygrid['hFacC'] > 0] = 1\n",
    "mygrid['hFacC'][mygrid['hFacC'] == 0] = np.nan\n",
    "hf1 = mygrid['hFacC'][0] # top layer in z\n",
    "# hf1 = hf1[np.newaxis,:, :]\n",
    "hf1.shape\n",
    "\n",
    "hf1 = get_aste_tracer(hf1, nfx, nfy)\n",
    "\n",
    "# check with hardcoding on this for mini or big aste\n",
    "if nx == 90:\n",
    "    hf1[:,281,:] = np.nan\n",
    "    hf1[:,7,:] = np.nan\n",
    "    hf1[:,86,122] = np.nan\n",
    "elif nx == 270:\n",
    "    hf1[:,844,:] = np.nan\n",
    "    hf1[:,23,:] = np.nan\n",
    "    hf1[:,365,260:261] = np.nan\n",
    "\n",
    "hf1 = aste_tracer2compact(hf1,nfx,nfy)\n",
    "hf = mygrid[\"hFacC\"]\n",
    "hf = hf * np.tile(hf1,(nz, 1,1))\n",
    "\n",
    "print(hf.shape,hf1.shape)"
   ]
  },
  {
   "cell_type": "code",
   "execution_count": 8,
   "id": "d5741c8e-1b05-474a-9257-88c3504277b5",
   "metadata": {},
   "outputs": [
    {
     "name": "stdout",
     "output_type": "stream",
     "text": [
      "(16200,)\n"
     ]
    }
   ],
   "source": [
    "# 2d\n",
    "iwetC2d = read_float32(dirgridw + \"Index_wet_hFacC_2D_col6.bin\")\n",
    "iwetC2d = iwetC2d.astype(\"int32\")\n",
    "LwetC2d = iwetC2d.shape[0]\n",
    "# 3d\n",
    "iwetC = read_float32(dirgridw + \"Index_wet_hFacC_col6.bin\")\n",
    "iwetC = iwetC.astype(\"int32\")\n",
    "LwetC = iwetC.shape[0]\n",
    "\n",
    "# 2d\n",
    "rac2d = read_float32(dirgridw + \"RAC_\" + str(LwetC2d) + \".data\")\n",
    "print(rac2d.shape)\n",
    "# 3d\n",
    "drf3d = read_float32(dirgridw + \"DRF_\" + str(LwetC) + \".data\")\n",
    "\n",
    "hf1flat = np.reshape(hf1,hf1.flatten().shape[0])\n",
    "hf2d = hf1flat[iwetC2d]\n",
    "\n",
    "# hf.shape - z, y, x\n",
    "# hf1.shape - 1, y, x\n",
    "hfflat = np.reshape(hf,hf.flatten().shape[0])\n",
    "hf3d = hfflat[iwetC]"
   ]
  },
  {
   "cell_type": "code",
   "execution_count": 9,
   "id": "82c1bed5-49fc-4c3f-8d8b-08bcd7ad54a1",
   "metadata": {},
   "outputs": [],
   "source": [
    "filename = dirmask + 'GATE_transports_v2_mskBasin_1to14.bin'\n",
    "ind2d = read_float32(filename)\n",
    "ind2d = ind2d.reshape(450,90)\n",
    "# plt.pcolormesh(ind2d)\n",
    "# plt.colorbar()"
   ]
  },
  {
   "cell_type": "code",
   "execution_count": 19,
   "id": "84ff1573-d519-4c42-b13e-003f93f03cc0",
   "metadata": {},
   "outputs": [
    {
     "name": "stdout",
     "output_type": "stream",
     "text": [
      "(40500,)\n",
      "1152\n"
     ]
    },
    {
     "data": {
      "image/png": "[encoded data removed]",
      "text/plain": [
       "<Figure size 1000x400 with 2 Axes>"
      ]
     },
     "metadata": {},
     "output_type": "display_data"
    }
   ],
   "source": [
    "filename = dirmask + 'GATE_transports_v2_mskBasin_1to14.bin'\n",
    "ind2d = read_float32(filename)\n",
    "\n",
    "# SOMETHING IS CHANGING WHEN WE CHANGE THE TYPE, IN PCOLORMESH\n",
    "ind2d_aste = get_aste_tracer(np.reshape(ind2d,(ny,nx)),nfx,nfy)\n",
    "plt.pcolormesh(ind2d_aste[0,:,:])\n",
    "plt.colorbar()\n",
    "\n",
    "ind2d = ind2d.astype('int32')\n",
    "print(ind2d.shape)\n",
    "\n",
    "iBarents2D = np.where(ind2d == 7)  # see above\n",
    "print(len(iBarents2D[0]))"
   ]
  },
  {
   "cell_type": "code",
   "execution_count": 20,
   "id": "ee02a91e-b181-4e82-9f44-5d66f98134ce",
   "metadata": {},
   "outputs": [],
   "source": [
    "# ind2d_aste = np.reshape(\n",
    "ind2d_aste = get_aste_tracer(np.reshape(ind2d,(ny,nx)),nfx,nfy)\n",
    "# plt.pcolormesh(ind2d_aste.astype(\"float64\")[0,:,:])"
   ]
  },
  {
   "cell_type": "markdown",
   "id": "27320d65-6be4-437f-9afd-c7c747eea11e",
   "metadata": {},
   "source": [
    "### Define basins in all points, then wet points"
   ]
  },
  {
   "cell_type": "code",
   "execution_count": 21,
   "id": "f0da3842-7609-4b86-9c66-b2f1780cb528",
   "metadata": {},
   "outputs": [],
   "source": [
    "# create the basins based on the values and make subplots\n",
    "#        1           2          3           4         5         6        7         8      9     10    11       12      13         14\n",
    "#strb={'CanadaB','ChukchiS','MakarovB','AmundsenB','NansenB','BeringS','BarentsS','GINs','CAA','SPG','LabSea','NPac','NAtlantic','AtlS30'};\n",
    "idxs = np.arange(0,14,1)\n",
    "strb=np.array(['CanadaB','ChukchiS','MakarovB','AmundsenB','NansenB','BeringS','BarentsS','GINs','CAA',\n",
    "               'SPG','LabSea','NPac','NAtlantic','AtlS30'])\n",
    "\n",
    "# REDEFINE THESE AND REPLACE STRI with similar phrasing for wet indices\n",
    "iCanada2D = np.where(ind2d == 1)[0]\n",
    "iChukchiS2D = np.where(ind2d == 2)[0]\n",
    "iMakarovB2D = np.where(ind2d == 3)[0]\n",
    "iAmundsenB2D = np.where(ind2d == 4)[0]\n",
    "iNansenB2D = np.where(ind2d == 5)[0]\n",
    "iBeringS2D = np.where(ind2d == 6)[0]\n",
    "iBarentsS2D = np.where(ind2d == 7)[0]\n",
    "iGINs2D = np.where(ind2d == 8)[0]\n",
    "iCAA2D = np.where(ind2d == 9)[0]\n",
    "iSPG2D = np.where(ind2d == 10)[0]\n",
    "iLabSea2D = np.where(ind2d == 11)[0]\n",
    "iNPac2D = np.where(ind2d == 12)[0]\n",
    "iNAtlantic2D = np.where(ind2d == 13)[0]\n",
    "iAtlS302D = np.where(ind2d == 14)[0]\n",
    "\n",
    "\n",
    "stri = np.array([iCanada2D,iChukchiS2D,iMakarovB2D,iAmundsenB2D,iNansenB2D,iBeringS2D,iBarentsS2D,iGINs2D,iCAA2D,\n",
    "                iSPG2D,iLabSea2D,iNPac2D,iNAtlantic2D,iAtlS302D],dtype = \"object\")\n",
    "\n",
    "# make subplots based on these - hope we did this right\n",
    "# myzero = np.zeros((ny*nx))\n",
    "# fig,axs = plt.subplots(len(stri),figsize = (2,12))\n",
    "# for i in idxs:\n",
    "#     myzerotmp = myzero.copy() # copy for reference in loop\n",
    "#     myzerotmp[stri[i]] = 1\n",
    "#     myzerotmp =  np.reshape(myzerotmp,(ny,nx))\n",
    "#     myzerotmp = get_aste_tracer(myzerotmp,nfx,nfy)\n",
    "#     axs[i].pcolormesh(myzerotmp[0,:,:])"
   ]
  },
  {
   "cell_type": "code",
   "execution_count": 22,
   "id": "cb0c1c36-91ae-4f75-9693-f48ec6b0202e",
   "metadata": {},
   "outputs": [
    {
     "name": "stdout",
     "output_type": "stream",
     "text": [
      "(40500,)\n"
     ]
    }
   ],
   "source": [
    "# FIX THIS THING - SHOULD BE SAME NUM OF POINTS WET AND DRY\n",
    "# debugging missing numbers\n",
    "\n",
    "filename = dirmask + 'GATE_transports_v2_mskBasin_1to14.bin'\n",
    "ind2d = read_float32(filename)\n",
    "\n",
    "iwetC2d_o = read_float32(dirgridw + \"Index_wet_hFacC_2D_col6.bin\")\n",
    "iwetC2d_o[np.isnan(iwetC2d_o)] = -10\n",
    "iwetC2d = iwetC2d_o.astype(\"int32\")\n",
    "iwetC2d -= 1\n",
    "\n",
    "print(ind2d.shape)"
   ]
  },
  {
   "cell_type": "code",
   "execution_count": 23,
   "id": "d655933b-54c6-4eb8-9220-347eb913e82e",
   "metadata": {},
   "outputs": [
    {
     "name": "stdout",
     "output_type": "stream",
     "text": [
      "(991,) (991,)\n",
      "(435,) (435,)\n",
      "(1043,) (1043,)\n",
      "(693,) (693,)\n",
      "(658,) (658,)\n",
      "(630,) (630,)\n",
      "(1152,) (1152,)\n",
      "(1207,) (1207,)\n",
      "(485,) (485,)\n",
      "(1508,) (1508,)\n",
      "(369,) (369,)\n",
      "(849,) (849,)\n",
      "(1691,) (1691,)\n",
      "(4330,) (4330,)\n"
     ]
    }
   ],
   "source": [
    "\n",
    "# create the basins based on the values and make subplots\n",
    "#        1           2          3           4         5         6        7         8      9     10    11       12      13         14\n",
    "#strb={'CanadaB','ChukchiS','MakarovB','AmundsenB','NansenB','BeringS','BarentsS','GINs','CAA','SPG','LabSea','NPac','NAtlantic','AtlS30'};\n",
    "ind2d_wet = ind2d[iwetC2d]\n",
    "\n",
    "# for using wet indices, try to see where ind2d_wet\n",
    "iwet_Canada2D = np.where(ind2d_wet == 1)[0]\n",
    "iwet_ChukchiS2D = np.where(ind2d_wet == 2)[0]\n",
    "iwet_MakarovB2D = np.where(ind2d_wet == 3)[0]\n",
    "iwet_AmundsenB2D = np.where(ind2d_wet == 4)[0]\n",
    "iwet_NansenB2D = np.where(ind2d_wet == 5)[0]\n",
    "iwet_BeringS2D = np.where(ind2d_wet == 6)[0]\n",
    "iwet_BarentsS2D = np.where(ind2d_wet == 7)[0]\n",
    "iwet_GINs2D = np.where(ind2d_wet == 8)[0]\n",
    "iwet_CAA2D = np.where(ind2d_wet == 9)[0]\n",
    "iwet_SPG2D = np.where(ind2d_wet == 10)[0]\n",
    "iwet_LabSea2D = np.where(ind2d_wet == 11)[0]\n",
    "iwet_NPac2D = np.where(ind2d_wet == 12)[0]\n",
    "iwet_NAtlantic2D = np.where(ind2d_wet == 13)[0]\n",
    "iwet_AtlS302D = np.where(ind2d_wet == 14)[0]\n",
    "\n",
    "stri_wet = np.array([iwet_Canada2D,iwet_ChukchiS2D,iwet_MakarovB2D,iwet_AmundsenB2D,iwet_NansenB2D,iwet_BeringS2D,iwet_BarentsS2D,iwet_GINs2D,iwet_CAA2D,\n",
    "                 iwet_SPG2D,iwet_LabSea2D,iwet_NPac2D,iwet_NAtlantic2D,iwet_AtlS302D],dtype = \"object\")\n",
    "\n",
    "# compare to try and make sure we did this right\n",
    "for x,y in zip(stri,stri_wet):\n",
    "    print(x.shape,y.shape)"
   ]
  },
  {
   "cell_type": "markdown",
   "id": "33c9cd33-708b-4781-961f-e88bcf01c1a3",
   "metadata": {},
   "source": [
    "## 2D field of Basins now we have defined indices"
   ]
  },
  {
   "cell_type": "code",
   "execution_count": 24,
   "id": "569a4044-f891-467e-b0bc-cc5a00149cfd",
   "metadata": {},
   "outputs": [
    {
     "data": {
      "text/plain": [
       "<matplotlib.collections.QuadMesh at 0x2b486282dc40>"
      ]
     },
     "execution_count": 24,
     "metadata": {},
     "output_type": "execute_result"
    },
    {
     "data": {
      "image/png": "[encoded data removed]",
      "text/plain": [
       "<Figure size 300x900 with 3 Axes>"
      ]
     },
     "metadata": {},
     "output_type": "display_data"
    }
   ],
   "source": [
    "# now we should be around line 179\n",
    "iBasinArctic = np.concatenate((iCanada2D,iChukchiS2D,iMakarovB2D,iAmundsenB2D,iNansenB2D))\n",
    "iBasinMedSPG = np.concatenate ((iBasinArctic, iBeringS2D, iBarentsS2D,iGINs2D,iCAA2D,iSPG2D,iLabSea2D))\n",
    "# iBasinGlobal = np.concatenate((iBasinMedSPG, iNPac2D,iNAtlantic2D,iAtlS302D))\n",
    "iBasinGlobal = iwetC2d[np.where(hf2d>0)[0]] ## QUESTION FOR AN - WHAT IS THE CORRECT WAY TO REFERENCE THIS\n",
    "\n",
    "# make subplots based on these - hope we did this right\n",
    "myzero = np.zeros((ny*nx))\n",
    "fig,axs = plt.subplots(3,figsize = (3,9))\n",
    "\n",
    "myzerotmp = myzero.copy() # copy for reference in loop\n",
    "myzerotmp[iBasinArctic] = 1\n",
    "myzerotmp =  np.reshape(myzerotmp,(ny,nx))\n",
    "myzerotmp = get_aste_tracer(myzerotmp,nfx,nfy)\n",
    "axs[0].pcolormesh(myzerotmp[0,:,:])\n",
    "\n",
    "myzerotmp = myzero.copy() # copy for reference in loop\n",
    "myzerotmp[iBasinMedSPG] = 1\n",
    "myzerotmp =  np.reshape(myzerotmp,(ny,nx))\n",
    "myzerotmp = get_aste_tracer(myzerotmp,nfx,nfy)\n",
    "axs[1].pcolormesh(myzerotmp[0,:,:])\n",
    "\n",
    "myzerotmp = myzero.copy() # copy for reference in loop\n",
    "myzerotmp[iwetC2d[np.where(hf2d>0)[0]]] = 1\n",
    "myzerotmp =  np.reshape(myzerotmp,(ny,nx))\n",
    "myzerotmp = get_aste_tracer(myzerotmp,nfx,nfy)\n",
    "axs[2].pcolormesh(myzerotmp[0,:,:])"
   ]
  },
  {
   "cell_type": "code",
   "execution_count": 25,
   "id": "e4a43b10-5198-467d-90cc-4fe62259a2b9",
   "metadata": {},
   "outputs": [
    {
     "data": {
      "text/plain": [
       "<matplotlib.colorbar.Colorbar at 0x2b486294f070>"
      ]
     },
     "execution_count": 25,
     "metadata": {},
     "output_type": "execute_result"
    },
    {
     "data": {
      "image/png": "[encoded data removed]",
      "text/plain": [
       "<Figure size 1000x400 with 2 Axes>"
      ]
     },
     "metadata": {},
     "output_type": "display_data"
    }
   ],
   "source": [
    "# make mskBasin\n",
    "filename = dirmask + 'GATE_transports_v2_mskBasin_1to14.bin'\n",
    "ind2d = read_float32(filename)\n",
    "\n",
    "# SOMETHING IS CHANGING WHEN WE CHANGE THE TYPE, IN PCOLORMESH\n",
    "ind2d_aste = get_aste_tracer(np.reshape(ind2d,(ny,nx)),nfx,nfy)\n",
    "plt.pcolormesh(ind2d_aste[0,:,:])\n",
    "plt.colorbar()"
   ]
  },
  {
   "cell_type": "code",
   "execution_count": 26,
   "id": "0c77ba27-1ad2-466b-835b-68310b17996b",
   "metadata": {},
   "outputs": [],
   "source": [
    "# myzerotmp"
   ]
  },
  {
   "cell_type": "markdown",
   "id": "dcb9b107-3562-4cef-9193-9766441f32e7",
   "metadata": {},
   "source": [
    "### try read meta with the variable values?"
   ]
  },
  {
   "cell_type": "code",
   "execution_count": 27,
   "id": "4968c91f-c9e1-4cac-9e6d-7a8261b62831",
   "metadata": {},
   "outputs": [
    {
     "data": {
      "text/plain": [
       "'0000000048'"
      ]
     },
     "execution_count": 27,
     "metadata": {},
     "output_type": "execute_result"
    }
   ],
   "source": [
    "if nx == 90:\n",
    "    tsstr = np.arange(48,490,24).astype(str)\n",
    "    for i in range(len(tsstr)):\n",
    "        myt = tsstr[i].zfill(10)\n",
    "        tsstr[i] = myt\n",
    "elif nx == 270:\n",
    "    print(\"not sure indexing\")\n",
    "# tsstr\n",
    "\n",
    "t2 = tsstr[0]\n",
    "t2"
   ]
  },
  {
   "cell_type": "code",
   "execution_count": 29,
   "id": "a0d60ca0-5e5d-46c6-ace1-4cdc165da680",
   "metadata": {},
   "outputs": [],
   "source": [
    "ffac=1e-6\n",
    "G_T=np.array([])\n",
    "metaT=parsemeta(dirdiags + \"LAYERS/layers_3d_Ttend.\" + t2 + \".meta\")\n",
    "nFldsT = metaT[\"fldList\"]\n",
    "metaS=parsemeta(dirdiags + \"LAYERS/layers_3d_Stend.\" + t2 + \".meta\")\n",
    "nFldsS = metaS[\"fldList\"]\n",
    "\n",
    "if len(nFldsT) == 12: \n",
    "    ifldT = np.array([0, 1,2,3,4,5])    # not sure if this should be -1 since we're in python\n",
    "    setTtend=nFldsT.copy()\n",
    "    ifldS=np.array([6, 7,8, 9 ,10 ,11])\n",
    "    setStend=nFldsS.copy()\n",
    "\n",
    "elif len(nFldsT) == 18:\n",
    "    ifldT = np.array([1,2,3,4,5,6])\n",
    "    setTtend=nFldsT.copy()\n",
    "    ifldS=np.array([7,8, 9 ,10 ,11 ,12])\n",
    "    setStend=nFldsS.copy()\n",
    "    # ifldT=[1 2 3 4 5 8];\n",
    "# 219     setTtend={'LaTs2TH','LaTh2TH','LaTz2TH','LTha2TH','LTza2TH','LTBh2TH','LTBz2TH','LTto2TH',... %G_T, m/s\n",
    "# 220               'LaTs1SLT','LaTh1SLT','LaTz1SLT','TzKp1SLT','TzRe1SLT','LTha1SLT','LTza1SLT','LTBh1SLT','LTBz1SLT','LTto1SLT'};\n",
    "# 221   %layers_3d_Ttend (18 flds), G_S\n",
    "# 222     ifldS=[9 10 11 14 15 18];\n",
    "# 223     setStend={'LaSs2TH','LaSh2TH','LaSz2TH','LSha2TH','LSza2TH','LSBh2TH','LSBz2TH','LSto2TH',... %G_S, m/s\n",
    "# 224               'LaSs1SLT','LaSh1SLT','LaSz1SLT','SzKp1SLT','SzRe1SLT','LSha1SLT','LSza1SLT','LSBh1SLT','LSBz1SLT','LSto1SLT'};"
   ]
  },
  {
   "cell_type": "code",
   "execution_count": 15,
   "id": "a5ff456b-96de-40ec-9e09-1ef8ada5104f",
   "metadata": {},
   "outputs": [
    {
     "name": "stdout",
     "output_type": "stream",
     "text": [
      "(16200,)\n",
      "(16200,)\n"
     ]
    }
   ],
   "source": [
    "print(rac2d.shape)\n",
    "print(hf2d.shape)"
   ]
  },
  {
   "cell_type": "code",
   "execution_count": 31,
   "id": "797ba83e-c966-437f-b0a8-411de0d61e71",
   "metadata": {},
   "outputs": [],
   "source": [
    "rac2dtile = np.tile(rac2d,(nT-1,1)) #.shape\n",
    "hf2dtile = np.tile(hf2d,(nT-1,1))\n",
    "# junk = rac2dtile[-1,:] - rac2dtile[0,:]\n",
    "# np.sum(junk)"
   ]
  },
  {
   "cell_type": "code",
   "execution_count": 32,
   "id": "d32f4088-07f9-4a5a-92ad-b3ddf120fca2",
   "metadata": {},
   "outputs": [],
   "source": [
    "# assuming the same order we can create a dtype object for all basins\n",
    "indBasin = np.array([],dtype=\"object\")\n",
    "for ib in range(len(strb)):\n",
    "    filename = dirmask + \"ind2d_\" + strb[ib] + \".bin\"\n",
    "    this_2d = read_float32(filename)\n",
    "    this_2d = this_2d.astype(\"int32\")\n",
    "    indBasin = np.append(indBasin,this_2d)  # now we append the basin indices in order"
   ]
  },
  {
   "cell_type": "code",
   "execution_count": 33,
   "id": "c8dc38f0-5431-40c1-a272-409859c7ea67",
   "metadata": {},
   "outputs": [],
   "source": [
    "# try to remake the label array in wet points only\n",
    "# make an array of wet points that are all labeled\n",
    "wet_labels = np.zeros((iwetC2d.shape))\n",
    "\n",
    "\n",
    "wet_basinpts = np.concatenate(stri_wet)\n",
    "np.sort(wet_basinpts)\n",
    "\n",
    "np.intersect1d(stri_wet[0],iwetC2d,return_indices=True)\n",
    "# stri_wet[0]\n",
    "# iwetC2d\n",
    "wet_basinpts.shape\n",
    "\n",
    "# iCanada2D[~np.isin(iCanada2D, np.intersect1d(iCanada2D, iwetC2d))\n",
    "\n",
    "for ib in range(len(stri)):\n",
    "    iBas = stri[ib]\n",
    "    notinc = iBas[~np.isin(iBas, np.intersect1d(iBas, iwetC2d))]"
   ]
  },
  {
   "cell_type": "code",
   "execution_count": 34,
   "id": "cf21c57a-bfee-48a0-bdd1-0f7dea0ec0f4",
   "metadata": {},
   "outputs": [],
   "source": [
    "G_T = {}\n",
    "# set dictionaries for subbasins\n",
    "for ib in range(len(strb)):\n",
    "    G_T[strb[ib]] = {}\n",
    "    \n",
    "# now loop through\n",
    "for i in range(len(ifldT)-1, -1, -1):\n",
    "    tmp = read_float32_skip(dirdiags + \"LAYERS/\" + \"layers_3d_Ttend.\" + tsstr[0] + \".data\", nx*ny*(nT-1),ifldT[i])\n",
    "    tmp = np.reshape(tmp,(nT-1,nx*ny))\n",
    "    tmp = tmp[:,iwetC2d] * (rac2dtile * hf2dtile) * ffac\n",
    "    if i == ifldT.shape[0]-1:\n",
    "        residT = tmp\n",
    "    else:\n",
    "        residT = residT-tmp\n",
    "\n",
    "    # loop through ib each basin for the chosen ifldT\n",
    "    # REPLACE INDBASINIB, THIS SHOULD BE WET POINTS OF BASINS\n",
    "    for ib in range(len(strb)):\n",
    "        a = np.nansum(tmp[:,stri_wet[ib]],axis=1)\n",
    "        G_T[strb[ib]][setTtend[ifldT[i]]] = a\n",
    "\n",
    "# loop through again to calculate resid\n",
    "for ib in range(len(strb)):\n",
    "    G_T[strb[ib]][\"residT\"] = np.nansum(residT[:,stri_wet[ib]],axis=1)"
   ]
  },
  {
   "cell_type": "code",
   "execution_count": 35,
   "id": "4d1cd757-8d8d-40fd-a5ec-3a8cca06c7da",
   "metadata": {},
   "outputs": [],
   "source": [
    "G_T = {}\n",
    "# set dictionaries for subbasins\n",
    "for ib in range(len(strb)):\n",
    "    G_T[strb[ib]] = {}\n",
    "    \n",
    "# now loop through\n",
    "for i in range(len(ifldT)-1, -1, -1):\n",
    "    tmp = read_float32_skip(dirdiags + \"LAYERS/\" + \"layers_3d_Ttend.\" + tsstr[0] + \".data\", nx*ny*(nT-1),ifldT[i])\n",
    "    tmp = np.reshape(tmp,(nT-1,nx*ny))\n",
    "    tmp = tmp[:,iwetC2d] * (rac2dtile * hf2dtile) * ffac\n",
    "    if i == ifldT.shape[0]-1:\n",
    "        residT = tmp\n",
    "    else:\n",
    "        residT = residT-tmp\n",
    "\n",
    "    # loop through ib each basin for the chosen ifldT\n",
    "    # REPLACE INDBASINIB, THIS SHOULD BE WET POINTS OF BASINS\n",
    "    for ib in range(len(strb)):\n",
    "        a = np.nansum(tmp[:,stri_wet[ib]],axis=1)\n",
    "        G_T[strb[ib]][setTtend[ifldT[i]]] = a\n",
    "\n",
    "# loop through again to calculate resid\n",
    "for ib in range(len(strb)):\n",
    "    G_T[strb[ib]][\"residT\"] = np.nansum(residT[:,stri_wet[ib]],axis=1)"
   ]
  },
  {
   "cell_type": "code",
   "execution_count": 36,
   "id": "c7b10510-c2f3-4883-8ed1-bd479e43f7f5",
   "metadata": {},
   "outputs": [
    {
     "data": {
      "text/plain": [
       "dict_keys(['LTto2TH', 'LTza2TH', 'LTha2TH', 'LaTz2TH', 'LaTh2TH', 'LaTs2TH', 'residT'])"
      ]
     },
     "execution_count": 36,
     "metadata": {},
     "output_type": "execute_result"
    }
   ],
   "source": [
    "G_T['CanadaB'].keys()"
   ]
  },
  {
   "cell_type": "code",
   "execution_count": 43,
   "id": "d004142a-6216-4711-a81c-68bbcf11f661",
   "metadata": {},
   "outputs": [],
   "source": [
    "# create G_S for all basins (line 258)\n",
    "G_S = {}\n",
    "for ib in range(len(strb)):\n",
    "    G_S[strb[ib]] = {}\n",
    "\n",
    "# now loop through similar to ifldS\n",
    "for i in range(len(ifldS)-1, -1, -1):\n",
    "    tmp = read_float32_skip(dirdiags + \"LAYERS/\" + \"layers_3d_Stend.\" + tsstr[0] + \".data\", nx*ny*(nT-1),ifldS[i])\n",
    "    tmp = np.reshape(tmp,(nS-1,nx*ny))\n",
    "    tmp = tmp[:,iwetC2d] * (rac2dtile * hf2dtile) * ffac\n",
    "    if i == ifldS.shape[0]-1:\n",
    "        residS = tmp\n",
    "    else:\n",
    "        residS = residS-tmp\n",
    "\n",
    "    # loop through ib each basin for the chosen ifldT\n",
    "    for ib in range(len(strb)):\n",
    "        G_S[strb[ib]][setStend[ifldS[i]]] = np.nansum(tmp[:,stri_wet[ib]],axis=1)\n",
    "\n",
    "# loop through again to calculate resid\n",
    "for ib in range(len(strb)):\n",
    "    G_S[strb[ib]][\"residS\"] = np.nansum(residS[:,stri_wet[ib]],axis=1)"
   ]
  },
  {
   "cell_type": "markdown",
   "id": "413897de-5c1a-4794-9a40-16e54e09331a",
   "metadata": {},
   "source": [
    "#### We now have set G_S and G_T. Now can do TS space"
   ]
  },
  {
   "cell_type": "code",
   "execution_count": 44,
   "id": "1ce3d446-2791-4733-8cda-d75d5733d0e6",
   "metadata": {},
   "outputs": [],
   "source": [
    "# now do TS space and squeeze\n",
    "setTSp = ['LaHc_TS']\n",
    "\n",
    "if len(nFldsT) == 18:\n",
    "    setTS_Stend = ['LaSs_TS', 'LaSh_TS', 'LaSz_TS', 'SzKp_TS', 'SzRe_TS', 'LSha_TS', 'LSza_TS', 'LSBh_TS', 'LSBz_TS', 'LSto_TS']\n",
    "    setTS_Ttend = ['LaTs_TS', 'LaTh_TS', 'LaTz_TS', 'TzKp_TS', 'TzRe_TS', 'LTha_TS', 'LTza_TS', 'LTBh_TS', 'LTBz_TS', 'LTto_TS']\n",
    "elif len(nFldsT) == 12:\n",
    "    setTS_Stend = ['LaSs_TS', 'LaSh_TS', 'LaSz_TS', 'LSha_TS', 'LSza_TS', 'LSto_TS']\n",
    "    setTS_Ttend = ['LaTs_TS', 'LaTh_TS', 'LaTz_TS', 'LTha_TS', 'LTza_TS', 'LTto_TS']"
   ]
  },
  {
   "cell_type": "markdown",
   "id": "5e184399-12f3-4fc8-bbc7-5f6b30772d4b",
   "metadata": {},
   "source": [
    "## Read in Jy, Jx  -- double check shapes!!\n",
    "should be integrated over dS to get G_T (m/s)\n",
    "transformation of water towards higher salinities"
   ]
  },
  {
   "cell_type": "code",
   "execution_count": 45,
   "id": "a0a34ee9-1fd0-4fa0-a1c2-b9bf4bda6909",
   "metadata": {},
   "outputs": [
    {
     "name": "stdout",
     "output_type": "stream",
     "text": [
      "(23, 23, 16200)\n",
      "(23, 23, 16200)\n",
      "(23, 23, 16200)\n",
      "(23, 23, 16200)\n",
      "(23, 23, 16200)\n",
      "(23, 23, 16200)\n"
     ]
    }
   ],
   "source": [
    "# 287 - should be indexing nt, ns, wetpoints\n",
    "# T, S, wetpoints\n",
    "Jy = {}\n",
    "# set each basin to its own dictionary\n",
    "for ib in range(len(strb)):\n",
    "    Jy[strb[ib]] = {}\n",
    "    Jy[strb[ib]]['G_T'] = {}\n",
    "    Jy[strb[ib]]['G_T']['residT'] = {}\n",
    "\n",
    "rac = mygrid['RAC']\n",
    "hf1 = hf1.reshape(450,90)\n",
    "\n",
    "for i in range(len(setTS_Ttend)-1, -1, -1):\n",
    "    t0 = time.localtime()\n",
    "    # CHECK THIS IS SHAPED CORRECTLY - HOW\n",
    "    filename = dirdiags + \"LAYERS_Cwet/layers_3d_TSjoint_Ttend_\" + str(LwetC2d) + \".\" + tsstr[0] + \".data\"\n",
    "    tmp = read_float32_skip(filename, LwetC2d*(nS-1)*(nT-1),i)\n",
    "    tmp = np.reshape(tmp,(nT-1,nS-1,LwetC2d))\n",
    "    print(tmp.shape)\n",
    "\n",
    "    # if at end of loop\n",
    "    if i == len(setTS_Ttend)-1:\n",
    "        c = np.full((nS - 1, nT - 1,nx * ny), np.nan)\n",
    "        c[:, :,iwetC2d] = tmp\n",
    "        c = np.reshape(c, (nT - 1, nS - 1,ny, nx))\n",
    "        small = rac*hf1\n",
    "        \n",
    "        c = np.nansum(np.nansum(c * np.tile(small[np.newaxis,np.newaxis,:,:], (nT-1, nS-1,1,1)), axis=(2, 3))) * ffac\n",
    "        d = np.nansum(c * binwidthS1)\n",
    "\n",
    "    small = rac2d * hf2d\n",
    "    tmp = tmp * np.tile(small[np.newaxis,np.newaxis,:], (nT - 1, nS - 1,1)) * ffac\n",
    "\n",
    "    # if at end of loop\n",
    "    if i == len(setTS_Ttend)-1:\n",
    "        f = (np.nansum(tmp, axis=2))\n",
    "        f = np.nansum(f * binwidthS1)\n",
    "\n",
    "    if len(nFldsT) == 18:\n",
    "        if i == len(setTS_Ttend)-1:\n",
    "            residT = tmp\n",
    "        elif i!=3 and i != 4 and i != 8 and i != 9:\n",
    "            residT = residT - tmp\n",
    "    elif len(nFldsT) == 12:\n",
    "        if i == len(setTS_Ttend)-1:\n",
    "            residT = tmp\n",
    "        else:\n",
    "            residT = residT - tmp\n",
    "\n",
    "    for ib in range(len(strb)):\n",
    "        # use stri_wet, strb is names of basins\n",
    "        #print(tmp.shape)\n",
    "        tmp1 = np.nansum(tmp[:,:,stri_wet[ib]],axis=2)   # SUM OVER WET POINTS - should be of shape nS-1, nT-1\n",
    "        # TEST:\n",
    "        tmp1 = tmp1.T\n",
    "        #print(tmp1.shape)\n",
    "        tmp2 = np.nansum(tmp1 * binwidthS1,axis=1)              # SUM OVER S - should be of shape nT-1\n",
    "        #print(tmp2.shape)\n",
    "        Jy[strb[ib]][setTS_Ttend[i]] = tmp1\n",
    "        Jy[strb[ib]]['G_T'][setTS_Ttend[i]] = tmp2\n",
    "\n",
    "for ib in range(len(strb)):\n",
    "    myresid = np.nansum(residT[:,:,stri_wet[ib]],axis=2)    # SUM OVER WET POINTS - should be of shape nS-1, nT-1\n",
    "    # TEST:\n",
    "    myresid = myresid.T\n",
    "    Jy[strb[ib]][\"residT\"] = myresid\n",
    "    Jy[strb[ib]][\"G_T\"][\"residT\"] = np.nansum(Jy[strb[ib]][\"residT\"] * binwidthS1,axis=1)   #SUM OVER S - should be of shape nT-1\n",
    "\n",
    "# set units and labels\n",
    "Jy[\"unit\"] = \"m/s/psu\"\n",
    "Jy[\"G_T\"] = {}\n",
    "Jy[\"G_T\"][\"unit\"] = \"m/s\"\n",
    "Jy[\"G_T\"][\"descr\"] = \"G_T=integral(Jy,dS)\""
   ]
  },
  {
   "cell_type": "code",
   "execution_count": 46,
   "id": "97033db5-d224-46e2-9c05-c0d3cafd82fb",
   "metadata": {},
   "outputs": [],
   "source": [
    "# 327\n",
    "Jx = {}\n",
    "# set each basin to its own dictionary\n",
    "for ib in range(len(strb)):\n",
    "    Jx[strb[ib]] = {}\n",
    "    Jx[strb[ib]]['G_S'] = {}\n",
    "    Jx[strb[ib]]['G_S']['residS'] = {}\n",
    "\n",
    "# rac = mygrid['RAC']\n",
    "# hf1 = hf1.reshape(450,90)\n",
    "\n",
    "for i in range(len(setTS_Stend)-1, -1, -1):\n",
    "    filename = dirdiags + \"LAYERS_Cwet/layers_3d_TSjoint_Stend_\" + str(LwetC2d) + \".\" + tsstr[0] + \".data\"\n",
    "    tmp = read_float32_skip(filename, LwetC2d*(nS-1)*(nT-1),i)\n",
    "    tmp = np.reshape(tmp,(nT-1,nS-1,LwetC2d))\n",
    "\n",
    "    small = rac2d * hf2d\n",
    "    tmp = tmp * np.tile(small[np.newaxis,np.newaxis,:], (nT - 1, nS - 1,1)) * ffac\n",
    "\n",
    "    if len(nFldsS) == 18:\n",
    "        if i == len(setTS_Stend)-1:\n",
    "            residS = tmp\n",
    "        elif i!=3 and i != 4 and i != 8 and i != 9:\n",
    "            residS = residS - tmp\n",
    "    elif len(nFldsS) == 12:\n",
    "        if i == len(setTS_Stend)-1:\n",
    "            residS = tmp\n",
    "        else:\n",
    "            residS = residS - tmp\n",
    "\n",
    "    for ib in range(len(strb)):\n",
    "        # use stri_wet, strb is names of basins\n",
    "        tmp1 = np.nansum(tmp[:,:,stri_wet[ib]],axis=2)   # should be of shape nS-1, nT-1\n",
    "        # TEST\n",
    "        tmp1 = tmp1.T\n",
    "        thisbinwidthT1 = np.tile(binwidthT1[:,np.newaxis],(1, nS - 1))\n",
    "        tmp2 = np.nansum(tmp1 * thisbinwidthT1, axis=1)                 # second dim is T because this is S tend\n",
    "        Jx[strb[ib]][setTS_Stend[i]] = tmp1\n",
    "        Jx[strb[ib]]['G_S'][setTS_Stend[i]] = tmp2\n",
    "\n",
    "for ib in range(len(strb)):\n",
    "    tmp1 = np.nansum(residS[:,:,stri_wet[ib]],axis=2)    # sum over geo space\n",
    "    mytileT1 = np.tile(binwidthT1[np.newaxis,:],(nS-1,1))  # nS-1 x nT-1\n",
    "    # TEST\n",
    "    mytileT1 = mytileT1.T\n",
    "    tmp2 = np.nansum(tmp1 * mytileT1, axis=0)     # sum over T ( dimension 0)\n",
    "    Jx[strb[ib]][\"residS\"] = tmp1    # should be of shape nS-1, nT-1\n",
    "    Jx[strb[ib]][\"G_S\"][\"residS\"] = tmp2 #should be of shape nT-1\n",
    "\n",
    "# set units and labels\n",
    "Jx[\"descr\"] = \"m/s/degC\"\n",
    "Jx[\"G_S\"] = {}\n",
    "Jx[\"G_S\"][\"descr\"] = \"[m/s], e.g., integral(LSto_TS,dT) = LSto1SLT\""
   ]
  },
  {
   "cell_type": "code",
   "execution_count": 47,
   "id": "c626e3e2-4ac4-4daa-a905-8a156f31d414",
   "metadata": {},
   "outputs": [],
   "source": [
    "# not sure how to save file here (line 379)"
   ]
  },
  {
   "cell_type": "code",
   "execution_count": 48,
   "id": "796fb47a-0215-46ac-9af8-cf68d01cff7f",
   "metadata": {},
   "outputs": [
    {
     "data": {
      "text/plain": [
       "(1, 300, 180)"
      ]
     },
     "execution_count": 48,
     "metadata": {},
     "output_type": "execute_result"
    }
   ],
   "source": [
    "# first need to create mskBasin, mskBasin3d, indBasin2d, indBasin3d\n",
    "mskBasin = ind2d_aste[0,:,:]\n",
    "mskBasin3d = np.tile(mskBasin[:,:,np.newaxis],nz)\n",
    "\n",
    "ind2d_aste.shape"
   ]
  },
  {
   "cell_type": "code",
   "execution_count": 60,
   "id": "cdd95f5f-9184-4573-b9dd-ee3cfff9cab7",
   "metadata": {},
   "outputs": [],
   "source": [
    "t2\n",
    "int_t2 = int(t2)"
   ]
  },
  {
   "cell_type": "code",
   "execution_count": 61,
   "id": "f52081c6-f190-4ff0-947b-1122b306e96d",
   "metadata": {},
   "outputs": [],
   "source": [
    "# get volumes from geographic grids (384)\n",
    "filename = dirrun + \"diags/STATE/state_3d_set1\" + \".\" + t2 + \".meta\"       # just choosing a file\n",
    "meta_state_3d_set1 = parsemeta(filename)\n",
    "fldlist = np.array(meta_state_3d_set1['fldList'])\n",
    "varnames = np.array(['THETA','SALT'])\n",
    "recs = np.array([])\n",
    "for var in varnames:\n",
    "    irec = np.where(fldlist == var)\n",
    "    recs = np.append(recs, irec[0][0])\n",
    "\n",
    "# make sure order we write the variables is the same as the order in varnames, else we read the wrong thing\n",
    "T,its,meta = rdmds(dirrun + \"diags/STATE/state_3d_set1\",int_t2,returnmeta=True,rec=recs[0])\n",
    "S,its,meta = rdmds(dirrun + \"diags/STATE/state_3d_set1\",int_t2,returnmeta=True,rec=recs[1])"
   ]
  },
  {
   "cell_type": "code",
   "execution_count": 62,
   "id": "c7bb8bfa-1822-4e04-8b99-2f5a8c489635",
   "metadata": {},
   "outputs": [],
   "source": [
    "Tflat = np.reshape(T,T.flatten().shape[0])\n",
    "T = Tflat[iwetC]\n",
    "Sflat = np.reshape(S,S.flatten().shape[0])\n",
    "S = Sflat[iwetC]"
   ]
  },
  {
   "cell_type": "code",
   "execution_count": 63,
   "id": "1a363f1e-afa8-4958-9893-498600382dfa",
   "metadata": {},
   "outputs": [],
   "source": [
    "vv = np.zeros((nz,ny,nx))\n",
    "for k in range(len(drf)):\n",
    "    vv[k,:,:] = rac * drf[k] * hf1"
   ]
  },
  {
   "cell_type": "code",
   "execution_count": 64,
   "id": "c36e81c9-7dd5-4760-9e38-a04685e0d2e6",
   "metadata": {},
   "outputs": [
    {
     "data": {
      "text/plain": [
       "(50, 450, 90)"
      ]
     },
     "execution_count": 64,
     "metadata": {},
     "output_type": "execute_result"
    }
   ],
   "source": [
    "vv.shape"
   ]
  },
  {
   "cell_type": "markdown",
   "id": "1e4343b4-afe6-48b9-934d-6d0436dc3140",
   "metadata": {},
   "source": [
    "## Try plotting G_S, G_T from standard layer outputs"
   ]
  },
  {
   "cell_type": "code",
   "execution_count": 65,
   "id": "cf55831a-a546-4f27-a726-2acb7620423a",
   "metadata": {},
   "outputs": [
    {
     "data": {
      "text/plain": [
       "12"
      ]
     },
     "execution_count": 65,
     "metadata": {},
     "output_type": "execute_result"
    }
   ],
   "source": [
    "jb = 0\n",
    "iendT = np.where(G_T[strb[jb]]['LTto2TH'] > 0)[0]\n",
    "iendT = min(nT - 1, max(iendT) + 10)\n",
    "iendT\n",
    "\n",
    "# np.arange(iendT[0]-1,iendT[-1]+12)"
   ]
  },
  {
   "cell_type": "code",
   "execution_count": 66,
   "id": "4b1c6cfb-12e1-4839-ada6-541e5af67720",
   "metadata": {},
   "outputs": [],
   "source": [
    "ibegT = np.where(G_T[strb[jb]]['LTto2TH']>0)[0]\n",
    "ibegT = max(0, min(ibegT) - 11)\n",
    "# iiT = np."
   ]
  },
  {
   "cell_type": "code",
   "execution_count": 67,
   "id": "7f2d45c4-74c1-4fa0-8950-ae55027c5a77",
   "metadata": {},
   "outputs": [
    {
     "name": "stdout",
     "output_type": "stream",
     "text": [
      "0\n",
      "(19,) (12,)\n"
     ]
    },
    {
     "data": {
      "image/png": "[encoded data removed]",
      "text/plain": [
       "<Figure size 1000x400 with 4 Axes>"
      ]
     },
     "metadata": {},
     "output_type": "display_data"
    },
    {
     "data": {
      "image/png": "[encoded data removed]",
      "text/plain": [
       "<Figure size 1000x400 with 4 Axes>"
      ]
     },
     "metadata": {},
     "output_type": "display_data"
    },
    {
     "data": {
      "image/png": "[encoded data removed]",
      "text/plain": [
       "<Figure size 1000x400 with 10 Axes>"
      ]
     },
     "metadata": {},
     "output_type": "display_data"
    }
   ],
   "source": [
    "for i in range(len(strb[:1])):\n",
    "    jb = i\n",
    "    print(jb)\n",
    "    # create iendT and ibegT\n",
    "    iendT = np.where(G_T[strb[jb]]['LTto2TH'] > 0)[0]\n",
    "    iendT = min(nT - 1, max(iendT) + 10)\n",
    "    ibegT = np.where(G_T[strb[jb]]['LTto2TH']>0)[0]\n",
    "    ibegT = max(0, min(ibegT) - 11)\n",
    "    iiT = np.arange(ibegT, iendT)\n",
    "    \n",
    "    # create iendS and ibegS\n",
    "    iendS = np.where(G_S[strb[jb]]['LSto1SLT']>0)[0]\n",
    "    if len(iendS) == 0:\n",
    "        iendS = np.array([500])\n",
    "    iendS = min(nS-1, max(iendS) + 10)\n",
    "    ibegS = np.where(G_S[strb[jb]]['LSto1SLT']>0)[0]\n",
    "    if len(ibegS) == 0:\n",
    "        ibegS = np.array([-500])\n",
    "    ibegS = max(1, min(ibegS) - 10)\n",
    "    iiS = np.arange(ibegS, iendS)\n",
    "\n",
    "    print(iiS.shape,iiT.shape)\n",
    "\n",
    "    plt.figure(1)\n",
    "    plt.clf()\n",
    "    # Create a subplot with 2 rows, 2 columns, and select the first subplot\n",
    "    plt.subplot(221)\n",
    "    plt.plot(binmidT[iiT], G_T[strb[jb]]['LTto2TH'][iiT], 'b-',alpha=0.5,label=\"tot\")\n",
    "    plt.plot(binmidT[iiT], G_T[strb[jb]]['LaTs2TH'][iiT], 'r-',alpha=0.5,label=\"surf\")\n",
    "    plt.plot(binmidT[iiT], G_T[strb[jb]]['LaTh2TH'][iiT] + G_T[strb[jb]]['LaTz2TH'][iiT], 'g-',alpha=0.5,label=\"diff\")\n",
    "    plt.plot(binmidT[iiT], G_T[strb[jb]]['LTha2TH'][iiT] + G_T[strb[jb]]['LTza2TH'][iiT], 'c-',alpha=0.5,label=\"adv\")\n",
    "    plt.plot(binmidT[iiT], G_T[strb[jb]]['residT'][iiT], 'k-',alpha=0.5,label=\"resid\")\n",
    "    plt.legend(loc=\"best\")\n",
    "    plt.xlabel(\"pot T\")\n",
    "    plt.ylabel('Resid G_T [Sv]')\n",
    "    plt.grid()\n",
    "    plt.subplot(222)\n",
    "    plt.plot(binmidT[iiT], G_T[strb[jb]]['residT'][iiT], 'k-', alpha=0.5,label=\"resid\")\n",
    "    plt.xlabel(\"pot T\")\n",
    "    #plt.ylabel(\"resid G_T\")\n",
    "    plt.grid()\n",
    "    plt.subplot(223)\n",
    "    plt.plot(binmidS[iiS], G_S[strb[jb]]['LSto1SLT'][iiS], 'b-',alpha=0.5,label=\"tot\")\n",
    "    plt.plot(binmidS[iiS], G_S[strb[jb]]['LaSs1SLT'][iiS], 'r-',alpha=0.5,label=\"surf\")\n",
    "    plt.plot(binmidS[iiS], G_S[strb[jb]]['LaSh1SLT'][iiS] + G_S[strb[jb]]['LaSz1SLT'][iiS], 'g-',alpha=0.5,label=\"diff\")\n",
    "    plt.plot(binmidS[iiS], G_S[strb[jb]]['LSha1SLT'][iiS] + G_S[strb[jb]]['LSza1SLT'][iiS], 'c-',alpha=0.5,label=\"adv\")\n",
    "    plt.plot(binmidS[iiS], G_S[strb[jb]]['residS'][iiS], 'k-',alpha=0.5,label=\"resid\")\n",
    "    plt.legend(loc=\"best\")\n",
    "    plt.xlabel(\"salt\")\n",
    "    plt.ylabel('Resid G_S [Sv]')\n",
    "    plt.grid()\n",
    "    plt.subplot(224)\n",
    "    plt.plot(binmidS[iiS], G_S[strb[jb]]['residS'][iiS], 'k-', alpha=0.5,label=\"resid\")\n",
    "    plt.xlabel(\"salt\")\n",
    "    plt.grid()\n",
    "\n",
    "    plt.figure(2)\n",
    "    plt.subplot(221)\n",
    "    plt.plot(binmidT[iiT], Jy[strb[jb]]['G_T']['LTto_TS'][iiT], 'b-',alpha=0.5,label=\"tot\")\n",
    "    plt.plot(binmidT[iiT], Jy[strb[jb]]['G_T']['LaTs_TS'][iiT], 'r-',alpha=0.5,label=\"surf\")\n",
    "    plt.plot(binmidT[iiT], Jy[strb[jb]]['G_T']['LaTh_TS'][iiT] + Jy[strb[jb]]['G_T']['LaTz_TS'][iiT], 'g-',alpha=0.5,label=\"diff\")\n",
    "    plt.plot(binmidT[iiT], Jy[strb[jb]]['G_T']['LTha_TS'][iiT] + Jy[strb[jb]]['G_T']['LTza_TS'][iiT], 'c-',alpha=0.5,label=\"adv\")\n",
    "    plt.plot(binmidT[iiT], Jy[strb[jb]]['G_T']['residT'][iiT], 'k-',alpha=0.5,label=\"resid\")\n",
    "    plt.legend(loc=\"best\")\n",
    "    plt.xlabel(\"pot T\")\n",
    "    plt.ylabel('Resid G_T [Sv]')\n",
    "    plt.grid()\n",
    "    plt.subplot(222)\n",
    "    plt.plot(binmidT[iiT],Jy[strb[jb]]['G_T']['residT'][iiT], 'k-',alpha=0.5,label=\"resid\")\n",
    "    plt.grid()\n",
    "    plt.subplot(223)\n",
    "    plt.plot(binmidS[iiS], Jx[strb[jb]]['G_S']['LSto_TS'][iiS], 'b-',alpha=0.5,label=\"tot\")\n",
    "    plt.plot(binmidS[iiS], Jx[strb[jb]]['G_S']['LaSs_TS'][iiS], 'r-',alpha=0.5,label=\"surf\")\n",
    "    plt.plot(binmidS[iiS], Jx[strb[jb]]['G_S']['LaSh_TS'][iiS] + Jx[strb[jb]]['G_S']['LaSz_TS'][iiS], 'g-',alpha=0.5,label=\"diff\")\n",
    "    plt.plot(binmidS[iiS], Jx[strb[jb]]['G_S']['LSha_TS'][iiS] + Jx[strb[jb]]['G_S']['LSza_TS'][iiS], 'c-',alpha=0.5,label=\"adv\")\n",
    "    plt.plot(binmidS[iiS], Jx[strb[jb]]['G_S']['residS'][iiS], 'k-',alpha=0.5,label=\"resid\")\n",
    "    plt.legend(loc=\"best\")\n",
    "    plt.xlabel(\"S\")\n",
    "    plt.ylabel('Resid G_S [Sv]')\n",
    "    plt.grid()\n",
    "    plt.subplot(224)\n",
    "    plt.plot(binmidS[iiS], Jx[strb[jb]]['G_S']['residS'][iiS], 'k-',alpha=0.5)\n",
    "    plt.grid()\n",
    "\n",
    "    plt.figure(3)\n",
    "    plt.subplot(2,5,1)\n",
    "    plt.plot(binmidT[iiT], G_T[strb[jb]]['LTto2TH'][iiT] - Jy[strb[ib]]['G_T']['LTto_TS'][iiT], '-',alpha=0.5)\n",
    "    plt.xlabel(\"T\")\n",
    "    plt.grid()\n",
    "    plt.subplot(2,5,6)\n",
    "    plt.plot(binmidS[iiS], G_S[strb[jb]]['LSto1SLT'][iiS] - Jx[strb[ib]]['G_S']['LSto_TS'][iiS], '-',alpha=0.5)\n",
    "    plt.xlabel(\"S\")\n",
    "    plt.grid()\n",
    "    plt.subplot(2,5,2)\n",
    "    plt.plot(binmidT[iiT], G_T[strb[jb]]['LaTs2TH'][iiT] - Jy[strb[ib]]['G_T']['LaTs_TS'][iiT], '-',alpha=0.5)\n",
    "    plt.xlabel(\"T\")\n",
    "    plt.grid()\n",
    "    plt.subplot(2,5,7)\n",
    "    plt.plot(binmidS[iiS], G_S[strb[jb]]['LaSs1SLT'][iiS] - Jx[strb[ib]]['G_S']['LaSs_TS'][iiS], '-',alpha=0.5)\n",
    "    plt.xlabel(\"S\")\n",
    "    plt.grid()\n",
    "    plt.subplot(2,5,3)\n",
    "    plt.plot(binmidT[iiT], G_T[strb[jb]]['LaTh2TH'][iiT] + G_T[strb[jb]]['LaTz2TH'][iiT] - \\\n",
    "             Jy[strb[ib]]['G_T']['LaTh_TS'][iiT] + Jy[strb[jb]]['G_T']['LaTz_TS'][iiT], '-',alpha=0.5)\n",
    "    plt.xlabel(\"T\")\n",
    "    plt.grid()\n",
    "    plt.subplot(2,5,8)\n",
    "    plt.plot(binmidS[iiS],G_S[strb[jb]]['LaSh1SLT'][iiS] + G_S[strb[jb]][\"LaSz1SLT\"][iiS] - \\\n",
    "             Jx[strb[jb]]['G_S'][\"LaSh_TS\"][iiS] + Jx[strb[jb]][\"G_S\"][\"LaSz_TS\"][iiS],'-',alpha=0.5)\n",
    "    plt.xlabel(\"S\")\n",
    "    plt.grid()\n",
    "    plt.subplot(2,5,4)\n",
    "    plt.plot(binmidT[iiT], G_T[strb[jb]]['LTha2TH'][iiT] + G_T[strb[jb]]['LTza2TH'][iiT] - \\\n",
    "             Jy[strb[ib]]['G_T']['LTha_TS'][iiT] + Jy[strb[jb]]['G_T']['LTza_TS'][iiT], '-',alpha=0.5)\n",
    "    plt.xlabel(\"T\")\n",
    "    plt.grid()\n",
    "    plt.subplot(2,5,9)\n",
    "    plt.plot(binmidS[iiS],G_S[strb[jb]]['LSha1SLT'][iiS] + G_S[strb[jb]][\"LSza1SLT\"][iiS] - \\\n",
    "             Jx[strb[jb]]['G_S'][\"LSha_TS\"][iiS] + Jx[strb[jb]][\"G_S\"][\"LSza_TS\"][iiS],'-',alpha=0.5)\n",
    "    plt.xlabel(\"S\")\n",
    "    plt.grid()\n",
    "    plt.subplot(2,5,5)\n",
    "    plt.plot(binmidT[iiT], G_T[strb[jb]]['residT'][iiT] - Jy[strb[ib]]['G_T']['residT'][iiT],'-',alpha=0.5)\n",
    "    plt.xlabel(\"T\")\n",
    "    plt.grid()\n",
    "    plt.subplot(2,5,10)\n",
    "    plt.plot(binmidS[iiS],G_S[strb[jb]]['residS'][iiS] - Jx[strb[jb]]['G_S'][\"residS\"][iiS],'-',alpha=0.5)\n",
    "    plt.xlabel(\"S\")\n",
    "    plt.grid()"
   ]
  },
  {
   "cell_type": "code",
   "execution_count": 71,
   "id": "21335614-d763-4057-bebf-86235bcef2af",
   "metadata": {},
   "outputs": [],
   "source": [
    "# now create vectors (366) - this is not correct I think\n",
    "vol_distrib = {}\n",
    "dT,dS = np.meshgrid(binwidthT,binwidthS)\n",
    "i = 1\n",
    "\n",
    "filename = dirdiags + \"LAYERS_Cwet/layers_3d_TSjoint_p_\" + str(LwetC2d) + \".\" + tsstr[0] + \".data\"\n",
    "tmp = read_float32_skip(filename, LwetC2d*(nS)*(nT),i-1)\n",
    "\n",
    "tmp = np.reshape(tmp,(nT,nS,LwetC2d))              # LwetC2d x nS x nT\n",
    "small = rac2d * hf2d\n",
    "small = np.tile(small[np.newaxis,np.newaxis,:],(nT,nS,1))\n",
    "\n",
    "tmp = tmp * small * ffac\n",
    "\n",
    "for ib in range(len(strb)):\n",
    "    tmp1 = np.nansum(tmp[:,:,stri_wet[ib]],axis=2)\n",
    "    tmp1 = tmp1.T                 # WHY???\n",
    "    tmp1[tmp1 == 0] = np.nan\n",
    "    vol_distrib[strb[ib]] = tmp1 / dT / dS  # [m^3 / (degC psu)]"
   ]
  },
  {
   "cell_type": "code",
   "execution_count": 72,
   "id": "1981d491-ad86-45c0-b3d8-ae64939bd94b",
   "metadata": {},
   "outputs": [
    {
     "data": {
      "text/plain": [
       "(14,)"
      ]
     },
     "execution_count": 72,
     "metadata": {},
     "output_type": "execute_result"
    }
   ],
   "source": [
    "# try plotting TS diagrams\n",
    "Tbin,Sbin = np.meshgrid(boundsT,boundsS)\n",
    "# vol_distrib[\"CanadaB\"]\n",
    "vol_distrib[strb[0]].shape\n",
    "strb.shape"
   ]
  },
  {
   "cell_type": "code",
   "execution_count": 123,
   "id": "64170dc7-7f49-4684-b610-73fdab62eaad",
   "metadata": {},
   "outputs": [
    {
     "data": {
      "text/plain": [
       "(23, 23)"
      ]
     },
     "execution_count": 123,
     "metadata": {},
     "output_type": "execute_result"
    }
   ],
   "source": [
    "Tbin2,Sbin2 = np.meshgrid(binmidTp,binmidSp)\n",
    "Tbin2.shape\n",
    "Jx[strb[i]]['LSto_TS'].shape\n",
    "Sbin2.shape\n",
    "Jy[strb[i]]['LTto_TS'].shape"
   ]
  },
  {
   "cell_type": "code",
   "execution_count": 159,
   "id": "f5f981b0-7582-476b-9cd8-602d1d871f05",
   "metadata": {},
   "outputs": [
    {
     "data": {
      "image/png": "[encoded data removed]",
      "text/plain": [
       "<Figure size 300x300 with 2 Axes>"
      ]
     },
     "metadata": {},
     "output_type": "display_data"
    }
   ],
   "source": [
    "# TS diagrams. Did we do this right?\n",
    "for i in range(len(strb[:1])):\n",
    "    plt.figure(i+1,figsize=(3,3))\n",
    "    plt.pcolormesh(Sbin[iiS,:][:,iiT],Tbin[iiS,:][:,iiT],np.log10(vol_distrib[strb[i]][iiS,:][:,iiT]))\n",
    "    plt.grid()\n",
    "    plt.title(strb[i])\n",
    "    plt.xlabel('S')\n",
    "    plt.ylabel('T')\n",
    "    plt.xlim(20,40)\n",
    "    plt.ylim(-5,15)\n",
    "    plt.colorbar()\n",
    "\n",
    "    # try to make the quivers\n",
    "    Usel = Jx[strb[i]]['LSto_TS'][iiS,:][:,iiT]\n",
    "    Vsel = Jy[strb[i]]['LTto_TS'][iiS,:][:,iiT]\n",
    "    \n",
    "    hh = plt.quiver(Sbin2[iiS,:][:,iiT], Tbin2[iiS,:][:,iiT], Usel, Vsel, scale=1,width=0.01)"
   ]
  },
  {
   "cell_type": "code",
   "execution_count": null,
   "id": "b00caf0d-8002-4a4e-b519-93ccc029d005",
   "metadata": {},
   "outputs": [],
   "source": []
  }
 ],
 "metadata": {
  "kernelspec": {
   "display_name": "py38",
   "language": "python",
   "name": "py38"
  },
  "language_info": {
   "codemirror_mode": {
    "name": "ipython",
    "version": 3
   },
   "file_extension": ".py",
   "mimetype": "text/x-python",
   "name": "python",
   "nbconvert_exporter": "python",
   "pygments_lexer": "ipython3",
   "version": "3.8.18"
  }
 },
 "nbformat": 4,
 "nbformat_minor": 5
}
