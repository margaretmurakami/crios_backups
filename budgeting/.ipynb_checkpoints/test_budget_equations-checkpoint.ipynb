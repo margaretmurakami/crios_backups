{
 "cells": [
  {
   "cell_type": "code",
   "execution_count": 1,
   "id": "4be4ebc1-d497-48fc-a198-6beb83d49de4",
   "metadata": {},
   "outputs": [],
   "source": [
    "# packages and plot parameters\n",
    "import numpy as np\n",
    "import matplotlib.pyplot as plt\n",
    "from matplotlib import colors\n",
    "from matplotlib.colors import TwoSlopeNorm\n",
    "import numpy.ma as ma\n",
    "import glob\n",
    "import os\n",
    "import re\n",
    "from operator import mul\n",
    "import sys\n",
    "\n",
    "plt.rcParams['figure.figsize'] = (10,4)\n",
    "\n",
    "sys.path.append(\"/home/mmurakami/MITgcm/MITgcm_c68r/MITgcm-checkpoint68r/utils/python/MITgcmutils/MITgcmutils/\") # go to parent dir\n",
    "from mds import *\n",
    "\n",
    "# add rdmds reading functions to path\n",
    "sys.path.append(\"/home/mmurakami/jupyterfiles/\") # go to parent dir\n",
    "from read_binary import *\n",
    "\n",
    "# add personal functions to path test\n",
    "from calc_UV_conv_1face import calc_UV_conv_1face\n",
    "from calc_mskmean_T_mod import calc_mskmean_T_mod\n",
    "from mk3D_mod import mk3D_mod"
   ]
  },
  {
   "cell_type": "markdown",
   "id": "9e0096e2-dce3-4ed7-9cd9-02d3ebf2295e",
   "metadata": {},
   "source": [
    "### Load some data"
   ]
  },
  {
   "cell_type": "code",
   "execution_count": 2,
   "id": "374c5dfd-e914-49d3-9ef3-7a555dd95ce5",
   "metadata": {},
   "outputs": [],
   "source": [
    "nx=20\n",
    "ny=16\n",
    "nz=23"
   ]
  },
  {
   "cell_type": "code",
   "execution_count": 3,
   "id": "ef1afb03-5a13-45a8-8bf2-fda5fd60a710",
   "metadata": {},
   "outputs": [],
   "source": [
    "# read in the files - she did .data but I guess I will do .meta\n",
    "dirrun = \"/scratch2/atnguyen/labsea/layers/run_c68r_layers_03Jun2023_noOL_10d/\"\n",
    "dirIn = dirrun + \"diags/\"\n",
    "dirGrid = \"/scratch2/atnguyen/labsea/GRID/\"\n",
    "flist = rdmds(dirIn + \"TRSP/trsp_3d_set1\", np.nan)"
   ]
  },
  {
   "cell_type": "code",
   "execution_count": 89,
   "id": "e1e438ed-65d2-41e0-b000-6ce578c0fb0b",
   "metadata": {},
   "outputs": [],
   "source": [
    "mygrid = {\n",
    "    'dirGrid': dirGrid,\n",
    "    'nFaces': 1,\n",
    "    'fileFormat': 'compact',\n",
    "    'memoryLimit': 2,\n",
    "    'ioSize': [nx*ny, 1],\n",
    "    'facesSize': [ny, nx],\n",
    "    'facesExpand': [ny, nx],\n",
    "    'missVal': 0,\n",
    "}\n",
    "\n",
    "fldstr2d = ['XC','YC','XG','YG','RAC','Depth','DXG','DYG','DXC','DYC']\n",
    "fldstr3d = ['hFacC','hFacW','hFacS','mskC','mskS','mskW']\n",
    "fldstr3dp = ['hFacC','hFacW','hFacS','maskCtrlC','maskCtrlS','maskCtrlW']\n",
    "fldstr1d = ['RC','RF','DRC','DRF']\n",
    "\n",
    "for fld in fldstr1d:\n",
    "    mygrid[fld] = np.squeeze(rdmds(os.path.join(dirGrid, fld)))\n",
    "\n",
    "for fld in fldstr3d:\n",
    "    temp = rdmds(os.path.join(dirGrid, fldstr3dp[fldstr3d.index(fld)]))\n",
    "    mygrid[fld] = temp.reshape(nz, ny, nx)\n",
    "\n",
    "for fld in fldstr2d:\n",
    "    temp = rdmds(os.path.join(dirGrid, fld))\n",
    "    mygrid[fld] = temp.reshape(ny, nx)\n",
    "\n",
    "areaW, areaS, Vol = [], [], []\n",
    "for k in range(nz):\n",
    "    areaW.append(mygrid['DYG'] * mygrid['DRF'][k])\n",
    "    areaS.append(mygrid['DXG'] * mygrid['DRF'][k])\n",
    "    Vol.append(mygrid['RAC'] * mygrid['DRF'][k])\n",
    "\n",
    "dxg = mygrid['DXG']\n",
    "drf = mygrid['DRF']\n",
    "dyg = mygrid['DYG']\n",
    "rac = mygrid['RAC']\n",
    "hfacC = mygrid['hFacC']"
   ]
  },
  {
   "cell_type": "code",
   "execution_count": 90,
   "id": "57eda3be-3fea-4310-9ba9-9e9700724c48",
   "metadata": {},
   "outputs": [],
   "source": [
    "# time step 2\n",
    "u = flist[1][0]\n",
    "v = flist[1][1]\n",
    "\n",
    "# tile these\n",
    "utrp = u * np.tile(dyg,(nz,1,1)) * np.tile(np.reshape(drf,(23,1,1)), (1,16,20))\n",
    "vtrp = v * np.tile(dyg,(nz,1,1)) * np.tile(np.reshape(drf,(23,1,1)), (1,16,20))"
   ]
  },
  {
   "cell_type": "markdown",
   "id": "72c1bb2c-5f2a-498b-95ff-bd08dc1f8d35",
   "metadata": {},
   "source": [
    "### Single face convergence using calc_UV_conv_1face\n",
    "\n",
    "#### /home/mmurakami/matlab/lookat_labsea.m"
   ]
  },
  {
   "cell_type": "code",
   "execution_count": 91,
   "id": "445e87b2-b8d9-415f-ae25-ac4762caae70",
   "metadata": {},
   "outputs": [
    {
     "data": {
      "text/plain": [
       "0.0"
      ]
     },
     "execution_count": 91,
     "metadata": {},
     "output_type": "execute_result"
    }
   ],
   "source": [
    "# do the same manually - this function works!\n",
    "ix = 11\n",
    "jy = 9\n",
    "kz = 0\n",
    "\n",
    "fldOut = calc_UV_conv_1face(utrp,vtrp)\n",
    "\n",
    "fldOut[kz,jy,ix] - (-(utrp[kz,jy,ix+1] - utrp[kz,jy,ix]) - (vtrp[kz,jy+1,ix] - vtrp[kz,jy,ix]))"
   ]
  },
  {
   "cell_type": "markdown",
   "id": "f4efef43-fc86-4115-97e9-fc4fc1fa8678",
   "metadata": {},
   "source": [
    "### Masked mean with calc_mskmean_T_mod"
   ]
  },
  {
   "cell_type": "code",
   "execution_count": 92,
   "id": "382e60f7-00db-4fde-9ea8-4c6f526b137d",
   "metadata": {},
   "outputs": [
    {
     "data": {
      "text/plain": [
       "(16, 20)"
      ]
     },
     "execution_count": 92,
     "metadata": {},
     "output_type": "execute_result"
    }
   ],
   "source": [
    "# set the variables for the input of mskmean\n",
    "# utrp, vtrp\n",
    "a = {}\n",
    "a['utrp'] = utrp\n",
    "a['vtrp'] = vtrp\n",
    "msk = np.zeros((ny,nx))\n",
    "msk[12,5] = 2\n",
    "msk.shape"
   ]
  },
  {
   "cell_type": "code",
   "execution_count": 93,
   "id": "0812370c-ecde-407f-9dc7-ee8e4776edcd",
   "metadata": {},
   "outputs": [],
   "source": [
    "b, area = calc_mskmean_T_mod(a,msk,rac,\"extensive\")"
   ]
  },
  {
   "cell_type": "code",
   "execution_count": 94,
   "id": "991c45c2-b15c-4f8d-96c8-c3118cfa7712",
   "metadata": {},
   "outputs": [
    {
     "data": {
      "text/plain": [
       "{'utrp': -5.52567770836106e-07, 'vtrp': 0.0}"
      ]
     },
     "execution_count": 94,
     "metadata": {},
     "output_type": "execute_result"
    }
   ],
   "source": [
    "b"
   ]
  },
  {
   "cell_type": "code",
   "execution_count": 95,
   "id": "5d07121c-0d1d-4539-a885-1d33f39e3b4c",
   "metadata": {},
   "outputs": [
    {
     "data": {
      "text/plain": [
       "(10, 18, 16, 20)"
      ]
     },
     "execution_count": 95,
     "metadata": {},
     "output_type": "execute_result"
    }
   ],
   "source": [
    "tmp.shape"
   ]
  },
  {
   "cell_type": "code",
   "execution_count": 96,
   "id": "3303d10e-8572-4863-baa5-028558af542c",
   "metadata": {},
   "outputs": [],
   "source": [
    "# another test\n",
    "tmp = rdmds(dirIn + \"BUDG/exf_zflux_set1\", np.nan)\n",
    "var_names = ['EXFpreci', 'EXFevap', 'EXFroff', 'EXFempmr', 'EXFswdn', 'EXFlwdn', 'EXFswnet',\n",
    "             'EXFlwnet', 'EXFqnet', 'EXFatemp', 'EXFaqh', 'EXFtaux', 'EXFtauy', 'EXFuwind',\n",
    "             'EXFvwind', 'EXFpress', 'EXFhs', 'EXFhl']\n",
    "\n",
    "# Create a dictionary with variable names and corresponding data\n",
    "a = {var_names[i]: tmp[i,:, :] for i in range(tmp.shape[0])}\n",
    "\n",
    "\n",
    "msk = np.zeros((ny, nx))\n",
    "msk[11:14, 8:12] = 1\n",
    "msk = msk * hfacC[0,:, :]\n",
    "\n",
    "mskg = np.ones((ny, nx)) * hfacC[0, :, :]"
   ]
  },
  {
   "cell_type": "code",
   "execution_count": 97,
   "id": "08f5f5ae-dc88-458d-8c5c-ec14c6ef331f",
   "metadata": {},
   "outputs": [],
   "source": [
    "def calc_mskmean_T_mod(fldIn, mask, RAC, fldType=\"intensive\"):\n",
    "    import numpy as np\n",
    "    \n",
    "    # If fldIn is a dictionary - run the function again\n",
    "    if isinstance(fldIn, dict):\n",
    "        fldOut = {}\n",
    "        list0 = fldIn.keys()\n",
    "        for key, value in fldIn.items():\n",
    "            if isinstance(value, (float, int, np.ndarray)):\n",
    "                tmp2, area = calc_mskmean_T_mod(value, mask, RAC, fldType)\n",
    "                fldOut[key] = tmp2\n",
    "        return fldOut, area\n",
    "\n",
    "    # if it is not a dictionary, continue\n",
    "    nr = fldIn.shape[0]\n",
    "    nr2 = mask.shape[0]\n",
    "    \n",
    "    if nr2 != nr:\n",
    "        mask = np.tile(mask, (nr, 1, 1))\n",
    "\n",
    "    #mask[mask == 0] = np.nan\n",
    "    #mask[fldIn == np.nan] = np.nan\n",
    "    #mask[np.isnan(fldIn)] = np.nan\n",
    "    \n",
    "    areaMask = np.tile(RAC, (nr, 1, 1)) * mask\n",
    "    \n",
    "    if fldType == \"intensive\":\n",
    "        #fldOut = np.nansum(fldIn * areaMask) / np.nansum(areaMask)\n",
    "        fldOut = np.sum(np.sum(fldIn * areaMask)) / np.sum(np.sum(areaMask))\n",
    "        area = np.nansum(areaMask)\n",
    "    else:\n",
    "        #fldOut = np.nansum(fldIn * mask) / np.nansum(areaMask)\n",
    "        fldOut = np.sum(np.sum(fldIn * mask)) / np.sum(np.sum(areaMask))\n",
    "        area = np.nansum(areaMask)\n",
    "        \n",
    "    return fldOut, area"
   ]
  },
  {
   "cell_type": "code",
   "execution_count": 101,
   "id": "08096c5d-5134-4312-b65e-14641e4394e7",
   "metadata": {},
   "outputs": [
    {
     "name": "stdout",
     "output_type": "stream",
     "text": [
      "0.0 0.0\n",
      "0.0\n"
     ]
    }
   ],
   "source": [
    "b,area = calc_mskmean_T_mod(a, msk, rac, 'intensive')\n",
    "bg,area = calc_mskmean_T_mod(a, mskg, rac, 'intensive')\n",
    "\n",
    "# Perform calculations for intensive\n",
    "result1 = np.sum(np.sum(a['EXFpreci'] * rac2 * hfacC[0,:, :] * msk)) / np.sum(np.sum(rac2 * hfacC[0,:, :] * msk)) - b['EXFpreci']\n",
    "result2 = np.sum(np.sum(a['EXFpreci'] * rac2 * hfacC[0,:, :])) / np.sum(np.sum(rac2 * hfacC[0,:, :])) - bg['EXFpreci']\n",
    "print(result1,result2)\n",
    "\n",
    "b,area = calc_mskmean_T_mod(a, msk, rac, 'extensive')\n",
    "bg,area = calc_mskmean_T_mod(a, mskg, rac, 'extensive')\n",
    "\n",
    "# perform calculations for extensive\n",
    "result1 = np.sum(np.sum(a['EXFpreci'] * msk)) / np.sum(np.sum(rac2 * hfacC[0,:, :] * msk)) - b['EXFpreci']\n",
    "result2 = np.sum(np.sum(a['EXFpreci'] * rac2 * hfacC[0,:, :])) / np.sum(np.sum(rac2 * hfacC[0,:, :])) - bg['EXFpreci']\n",
    "print(result1)"
   ]
  },
  {
   "cell_type": "code",
   "execution_count": 84,
   "id": "d9a68609-9a87-4c1a-9f3e-0b4836b9fbac",
   "metadata": {},
   "outputs": [
    {
     "data": {
      "text/plain": [
       "5663.441564898244"
      ]
     },
     "execution_count": 84,
     "metadata": {},
     "output_type": "execute_result"
    }
   ],
   "source": [
    "b,area = calc_mskmean_T_mod(a['EXFpreci'],msk,rac,'intensive')\n",
    "b"
   ]
  },
  {
   "cell_type": "code",
   "execution_count": 68,
   "id": "8fc2f22d-3b71-454c-bb00-e5c77a2b9d0f",
   "metadata": {},
   "outputs": [
    {
     "data": {
      "text/plain": [
       "(16, 20)"
      ]
     },
     "execution_count": 68,
     "metadata": {},
     "output_type": "execute_result"
    }
   ],
   "source": [
    "msk.shape"
   ]
  },
  {
   "cell_type": "code",
   "execution_count": 81,
   "id": "2d620145-9ecd-425b-a0ce-34847010ea7c",
   "metadata": {},
   "outputs": [
    {
     "data": {
      "text/plain": [
       "5663.441564898244"
      ]
     },
     "execution_count": 81,
     "metadata": {},
     "output_type": "execute_result"
    }
   ],
   "source": [
    "rac2 = np.tile(rac, (18, 1, 1))\n",
    "msk2 = np.tile(msk, (18,1,1))\n",
    "np.sum(np.sum(a['EXFpreci'] * rac2 * hfacC[0,:, :] * msk)) / np.sum(np.sum(rac2 * hfacC[0,:, :] * msk))"
   ]
  },
  {
   "cell_type": "code",
   "execution_count": 74,
   "id": "7b0c934c-3286-4e75-85ce-05d612b32129",
   "metadata": {},
   "outputs": [
    {
     "data": {
      "text/plain": [
       "5663.441564898244"
      ]
     },
     "execution_count": 74,
     "metadata": {},
     "output_type": "execute_result"
    }
   ],
   "source": [
    "areaMask = np.tile(rac, (18, 1, 1)) * msk2\n",
    "np.sum(np.sum(a['EXFpreci'] * areaMask)) / np.sum(np.sum(areaMask))"
   ]
  },
  {
   "cell_type": "code",
   "execution_count": 63,
   "id": "83f999cd-1a32-4b31-ac15-0ac59d89dcd6",
   "metadata": {},
   "outputs": [
    {
     "data": {
      "text/plain": [
       "3.5192097350144385e-07"
      ]
     },
     "execution_count": 63,
     "metadata": {},
     "output_type": "execute_result"
    }
   ],
   "source": [
    "b['EXFpreci']"
   ]
  },
  {
   "cell_type": "markdown",
   "id": "b00433a8-7033-47b7-9beb-ccf2e54b77c5",
   "metadata": {},
   "source": [
    "### mk3D mod"
   ]
  },
  {
   "cell_type": "code",
   "execution_count": 13,
   "id": "3cd06e08-569e-482c-848e-6eb40b3d2207",
   "metadata": {},
   "outputs": [],
   "source": [
    "# read in the files - she did .data but I guess I will do .meta\n",
    "dirrun = \"/scratch2/atnguyen/labsea/layers/run_c68r_layers_03Jun2023_noOL_10d/\"\n",
    "dirIn = dirrun + \"diags/BUDG/\"\n",
    "dirGrid = \"/scratch2/atnguyen/labsea/GRID/\"\n",
    "\n",
    "# read all time stepts for one example snap data - there are 10\n",
    "flist = rdmds(dirIn + \"budg2d_snap_set1\", np.nan)\n",
    "# this is shape 10,9,16,20\n",
    "# 10 - time steps as files/days\n",
    "# 9 - fldList = {'ETAN    ' 'SIheff  ' 'SIhsnow ' 'SIarea  ' 'sIceLoad' 'PHIBOT  ' 'ETANa   ' 'ETANb   ' 'ETANc   ' };\n",
    "\n",
    "# get time-steps:\n",
    "flist = [f for f in os.listdir(dirIn) if f.startswith('budg2d_snap_set1.') and f.endswith('.data')]\n",
    "idot = flist[0].index('.')\n",
    "idot = [idot+1, flist[0][idot+1:].index('.')+idot+1]\n",
    "idot = np.asarray(idot,dtype=int)\n",
    "\n",
    "mygrid = {\n",
    "    'dirGrid': dirGrid,\n",
    "    'nFaces': 1,\n",
    "    'fileFormat': 'compact',\n",
    "    'memoryLimit': 2,\n",
    "    'ioSize': [nx*ny, 1],\n",
    "    'facesSize': [ny, nx],\n",
    "    'facesExpand': [ny, nx],\n",
    "    'missVal': 0,\n",
    "}\n",
    "\n",
    "fldstr2d = ['XC','YC','XG','YG','RAC','Depth','DXG','DYG','DXC','DYC']\n",
    "fldstr3d = ['hFacC','hFacW','hFacS','mskC','mskS','mskW']\n",
    "fldstr3dp = ['hFacC','hFacW','hFacS','maskCtrlC','maskCtrlS','maskCtrlW']\n",
    "fldstr1d = ['RC','RF','DRC','DRF']\n",
    "\n",
    "for fld in fldstr1d:\n",
    "    mygrid[fld] = np.squeeze(rdmds(os.path.join(dirGrid, fld)))\n",
    "\n",
    "for fld in fldstr3d:\n",
    "    temp = rdmds(os.path.join(dirGrid, fldstr3dp[fldstr3d.index(fld)]))\n",
    "    mygrid[fld] = temp.reshape(nz, ny, nx)\n",
    "\n",
    "for fld in fldstr2d:\n",
    "    temp = rdmds(os.path.join(dirGrid, fld))\n",
    "    mygrid[fld] = temp.reshape(ny, nx)\n",
    "\n",
    "mygrid['mskC'][mygrid['mskC'] == 0] = np.nan\n",
    "\n",
    "areaW, areaS, Vol = [], [], []\n",
    "for k in range(nz):\n",
    "    areaW.append(mygrid['DYG'] * mygrid['DRF'][k])\n",
    "    areaS.append(mygrid['DXG'] * mygrid['DRF'][k])\n",
    "    Vol.append(mygrid['RAC'] * mygrid['DRF'][k])\n",
    "\n",
    "RAC = mygrid['RAC']"
   ]
  },
  {
   "cell_type": "code",
   "execution_count": 33,
   "id": "bca70c2b-4e9b-417a-8ad3-63451e876ada",
   "metadata": {},
   "outputs": [],
   "source": [
    "# path to this is /workspace/atnguyen/atn_tools/gcmfaces_mod on nansen\n",
    "def mk3D_mod(arr_lessd, arr_3d):\n",
    "    '''\n",
    "    inputs\n",
    "        arr_lessd - the array we want to make 3D\n",
    "        arr_3d - the array in the shape we want\n",
    "    outputs\n",
    "        a - the modified array \n",
    "    '''\n",
    "    import numpy as np\n",
    "    # we will skip out on An's other definitions for gcmfaces and cells\n",
    "    # Check if c is a double (numpy array)\n",
    "    if isinstance(arr_3d, np.ndarray):\n",
    "        nz = arr_3d.shape[0]\n",
    "        full_size = np.array(arr_3d.shape)\n",
    "        half_size = np.array(arr_lessd.shape)\n",
    "        \n",
    "        # If conditions for 2D->3D\n",
    "        # go from 2D field to 3D field\n",
    "        if len(half_size) == 2:\n",
    "            tmp1 = arr_lessd.copy()\n",
    "            n1 = arr_lessd.shape[0]\n",
    "            n2 = arr_lessd.shape[1]\n",
    "            #tmp1 = tmp1.flatten()\n",
    "            #tmp1 = np.dot(arr_lessd.reshape(-1, 1), np.ones((1, arr_3d.shape[0])))\n",
    "            #tmp1 = tmp1.reshape(arr_3d.shape[0],n1,n2)\n",
    "            tmp1 = tmp1[np.newaxis,:,:] * np.ones((arr_3d.shape[0],1,1))\n",
    "            a = tmp1\n",
    "\n",
    "        # If conditions for 1D->3D\n",
    "        elif len(half_size) == 1:\n",
    "            tmp1 = arr_3d.copy()\n",
    "            tmp2 = tmp1.shape\n",
    "            n1 = tmp2[2]\n",
    "            n2 = tmp2[1]\n",
    "            #tmp1 = np.dot(np.ones((n1*n2,1)),arr_lessd[np.newaxis,:])\n",
    "            #tmp1 = np.reshape(tmp1,(arr_3d.shape[0],n2,n1))\n",
    "            tmp1 = np.ones((1,n2,n1)) * arr_lessd[:,np.newaxis,np.newaxis]\n",
    "            a = tmp1\n",
    "    return a"
   ]
  },
  {
   "cell_type": "code",
   "execution_count": 34,
   "id": "dfd51536-e4b4-40ef-b6a5-2d4fac1b686c",
   "metadata": {},
   "outputs": [],
   "source": [
    "tmptend = np.zeros((nz, ny, nx))\n",
    "hfC = mygrid['hFacC']\n",
    "hfC[hfC == 0] = np.nan\n",
    "DD = mygrid['Depth']\n",
    "file_name = 'budg2d_snap_set1'\n",
    "budg2d_snap_set1 = rdmds(os.path.join(dirIn, file_name),np.nan)\n",
    "budg2d_snap_set1 = budg2d_snap_set1[:2]  # only first two time steps\n",
    "ETAN = budg2d_snap_set1[:,0,:,:]\n",
    "ETAN =  (ETAN[1, :, :] - ETAN[0, :, :]) / 86400\n",
    "\n",
    "if True:                                 # we are using this\n",
    "    tmp1 = mk3D_mod(mygrid['DRF'],hfC) * hfC\n",
    "    tmp2 = tmp1/mk3D_mod(DD,tmp1)\n",
    "    tmptend = tmp2 * mk3D_mod(ETAN, tmp2) * 1029 * mk3D_mod(RAC, hfC)"
   ]
  },
  {
   "cell_type": "code",
   "execution_count": 17,
   "id": "db77a5dc-b8a0-4d8e-a0df-2a9942f47bfc",
   "metadata": {},
   "outputs": [
    {
     "data": {
      "text/plain": [
       "True"
      ]
     },
     "execution_count": 17,
     "metadata": {},
     "output_type": "execute_result"
    }
   ],
   "source": [
    "isinstance(tmp2, np.ndarray)\n",
    "half_size = np.array(ETAN.shape)\n",
    "len(half_size) == 2"
   ]
  },
  {
   "cell_type": "code",
   "execution_count": 19,
   "id": "7a85f491-91d6-44cc-b515-92d26b0195bc",
   "metadata": {},
   "outputs": [
    {
     "data": {
      "text/plain": [
       "(23, 16, 20)"
      ]
     },
     "execution_count": 19,
     "metadata": {},
     "output_type": "execute_result"
    }
   ],
   "source": [
    "arr_lessd = mygrid['DRF']\n",
    "arr_3d = hfC\n",
    "\n",
    "tmp1 = arr_3d.copy()\n",
    "tmp2 = tmp1.shape\n",
    "n1 = tmp2[2]\n",
    "n2 = tmp2[1]\n",
    "tmp1 = np.dot(np.ones((n1*n2,1)),arr_lessd[np.newaxis,:])\n",
    "tmp1 = np.reshape(tmp1,(arr_3d.shape[0],n2,n1))\n",
    "tmp1.shape"
   ]
  },
  {
   "cell_type": "code",
   "execution_count": null,
   "id": "0224f139-8917-42f2-b38e-2c8a29cc0340",
   "metadata": {},
   "outputs": [],
   "source": []
  }
 ],
 "metadata": {
  "kernelspec": {
   "display_name": "py38",
   "language": "python",
   "name": "py38"
  },
  "language_info": {
   "codemirror_mode": {
    "name": "ipython",
    "version": 3
   },
   "file_extension": ".py",
   "mimetype": "text/x-python",
   "name": "python",
   "nbconvert_exporter": "python",
   "pygments_lexer": "ipython3",
   "version": "3.8.18"
  }
 },
 "nbformat": 4,
 "nbformat_minor": 5
}
